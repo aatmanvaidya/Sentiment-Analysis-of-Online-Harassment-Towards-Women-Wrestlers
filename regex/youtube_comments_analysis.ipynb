{
  "cells": [
    {
      "cell_type": "code",
      "source": [
        "import gdown"
      ],
      "metadata": {
        "id": "sUoDe6LFbqVx"
      },
      "execution_count": 1,
      "outputs": []
    },
    {
      "cell_type": "code",
      "source": [
        "!gdown --id 1KmoZYmPzxrrtR4a3mSfPIumbDwf_Mrpw > /dev/null 2>&1\n",
        "!gdown --id 19vK08esg9hQtD8JB-9jm7Qkck7nZ-ZqR > /dev/null 2>&1"
      ],
      "metadata": {
        "id": "KPiXIhfUbvnn"
      },
      "execution_count": 2,
      "outputs": []
    },
    {
      "cell_type": "markdown",
      "metadata": {
        "id": "zJpmDXtnsEo9"
      },
      "source": [
        "## About the Dataset\n",
        "This a YouTube comments dataset scrapped using the [YouTube Data API](https://developers.google.com/youtube/v3/docs/comments). Currently the dataset consists of roughly **1.12M** comments. The dataset can be accessed [here](https://drive.google.com/drive/folders/1-9OnYbFuiSA0M7skOYche5erzZ4Ba5Nz?usp=sharing).\n",
        "<br><br>\n",
        "The dataset currently has text in _English, Hindi and Hinglish_.\n",
        "Please refer to the following information for an overview of the columns and the corresponding data stored within them. [Link](https://github.com/aatmanvaidya/Sentiment-Analysis-of-Online-Harassment-Towards-Women-Wrestlers/blob/scraper/attributes.txt)."
      ]
    },
    {
      "cell_type": "code",
      "execution_count": 3,
      "metadata": {
        "id": "Y3ZC3vE1rhkU"
      },
      "outputs": [],
      "source": [
        "import pandas as pd\n",
        "import matplotlib.pyplot as plt\n",
        "import matplotlib.ticker as ticker\n",
        "import numpy as np\n",
        "from collections import Counter\n",
        "import re"
      ]
    },
    {
      "cell_type": "code",
      "execution_count": 4,
      "metadata": {
        "colab": {
          "base_uri": "https://localhost:8080/"
        },
        "id": "Hm6uzfHWrmcp",
        "outputId": "98527897-2693-4d79-baab-14774d6924c9"
      },
      "outputs": [
        {
          "output_type": "stream",
          "name": "stdout",
          "text": [
            "CPU times: user 923 ms, sys: 410 ms, total: 1.33 s\n",
            "Wall time: 1.13 s\n"
          ]
        }
      ],
      "source": [
        "%%time\n",
        "df = pd.read_feather(r'comments_cleaned_feather.feather')"
      ]
    },
    {
      "cell_type": "code",
      "execution_count": 5,
      "metadata": {
        "colab": {
          "base_uri": "https://localhost:8080/",
          "height": 547
        },
        "id": "jMDpJrqjr2y5",
        "outputId": "39ab72a0-6167-4a87-b9d7-16dfe0a51dae"
      },
      "outputs": [
        {
          "output_type": "execute_result",
          "data": {
            "text/plain": [
              "       videoId                                        textDisplay  \\\n",
              "0  EBOKYsWUhvI  Dub maro jaato 😢😢.<br>Tumse tumare ladkiya nhi...   \n",
              "1  EBOKYsWUhvI                                   Haar gye bechare   \n",
              "2  EBOKYsWUhvI  Dhamki mili pahalwano ko aur sab manage kr liy...   \n",
              "3  EBOKYsWUhvI  Jaato pr ye boj rhega ki vo apni hi vyavstha s...   \n",
              "4  EBOKYsWUhvI           Pahlwan jante h kuch nhi kr payenge uska   \n",
              "\n",
              "                                        textOriginal   authorDisplayName  \\\n",
              "0  Dub maro jaato 😢😢.\\nTumse tumare ladkiya nhi b...      HECTOR OF TROY   \n",
              "1                                   Haar gye bechare         Geeta Saini   \n",
              "2  Dhamki mili pahalwano ko aur sab manage kr liy...       Ayaan Chouhan   \n",
              "3  Jaato pr ye boj rhega ki vo apni hi vyavstha s...               Kamal   \n",
              "4           Pahlwan jante h kuch nhi kr payenge uska  jagriti tiwari upp   \n",
              "\n",
              "                               authorProfileImageUrl  \\\n",
              "0  https://yt3.ggpht.com/ytc/AOPolaQNP5bd7gNvbAas...   \n",
              "1  https://yt3.ggpht.com/8XmOPNrT3Vy3wr0fItlWbaMk...   \n",
              "2  https://yt3.ggpht.com/ytc/AOPolaREH2WnrnbD53OI...   \n",
              "3  https://yt3.ggpht.com/ytc/AOPolaTRSm_dEOKj9H82...   \n",
              "4  https://yt3.ggpht.com/ytc/AOPolaRrFnzD2i3N_3rk...   \n",
              "\n",
              "                                    authorChannelUrl  \\\n",
              "0  http://www.youtube.com/channel/UC5G8fjqoiFIqHp...   \n",
              "1  http://www.youtube.com/channel/UCsMGRdH3YHrbs2...   \n",
              "2  http://www.youtube.com/channel/UC_dWuNh6zydTHI...   \n",
              "3  http://www.youtube.com/channel/UCVdGObpHM-IMHB...   \n",
              "4  http://www.youtube.com/channel/UCRkcewHFhxE5Kf...   \n",
              "\n",
              "                         authorChannelId canRate viewerRating likeCount  \\\n",
              "0  {'value': 'UC5G8fjqoiFIqHpKyVeOTsFg'}    True         none         0   \n",
              "1  {'value': 'UCsMGRdH3YHrbs21NOraRuyQ'}    True         none         0   \n",
              "2  {'value': 'UC_dWuNh6zydTHIRr6hi3Omg'}    True         none         0   \n",
              "3  {'value': 'UCVdGObpHM-IMHB_b7_K-7rA'}    True         none         1   \n",
              "4  {'value': 'UCRkcewHFhxE5KfLHrLx0wpA'}    True         none         0   \n",
              "\n",
              "            publishedAt             updatedAt parentId  \\\n",
              "0  2023-07-06T07:04:02Z  2023-07-06T07:04:02Z     None   \n",
              "1  2023-07-03T22:21:37Z  2023-07-03T22:21:37Z     None   \n",
              "2  2023-07-03T05:06:33Z  2023-07-03T05:06:33Z     None   \n",
              "3  2023-07-02T03:39:50Z  2023-07-02T03:39:50Z     None   \n",
              "4  2023-06-28T15:10:36Z  2023-06-28T15:10:36Z     None   \n",
              "\n",
              "                    commentId  \n",
              "0  UgwbyvIkkAhUdaCFpcp4AaABAg  \n",
              "1  Ugyz3OwSXamho91-8I94AaABAg  \n",
              "2  Ugyphs1TT1Yoj7MZBVJ4AaABAg  \n",
              "3  UgwnIxpuFAcKsEzffBp4AaABAg  \n",
              "4  UgxjuOlDigsmuDu53J54AaABAg  "
            ],
            "text/html": [
              "\n",
              "\n",
              "  <div id=\"df-486f3b10-25b0-4e49-84b9-e8149c89df49\">\n",
              "    <div class=\"colab-df-container\">\n",
              "      <div>\n",
              "<style scoped>\n",
              "    .dataframe tbody tr th:only-of-type {\n",
              "        vertical-align: middle;\n",
              "    }\n",
              "\n",
              "    .dataframe tbody tr th {\n",
              "        vertical-align: top;\n",
              "    }\n",
              "\n",
              "    .dataframe thead th {\n",
              "        text-align: right;\n",
              "    }\n",
              "</style>\n",
              "<table border=\"1\" class=\"dataframe\">\n",
              "  <thead>\n",
              "    <tr style=\"text-align: right;\">\n",
              "      <th></th>\n",
              "      <th>videoId</th>\n",
              "      <th>textDisplay</th>\n",
              "      <th>textOriginal</th>\n",
              "      <th>authorDisplayName</th>\n",
              "      <th>authorProfileImageUrl</th>\n",
              "      <th>authorChannelUrl</th>\n",
              "      <th>authorChannelId</th>\n",
              "      <th>canRate</th>\n",
              "      <th>viewerRating</th>\n",
              "      <th>likeCount</th>\n",
              "      <th>publishedAt</th>\n",
              "      <th>updatedAt</th>\n",
              "      <th>parentId</th>\n",
              "      <th>commentId</th>\n",
              "    </tr>\n",
              "  </thead>\n",
              "  <tbody>\n",
              "    <tr>\n",
              "      <th>0</th>\n",
              "      <td>EBOKYsWUhvI</td>\n",
              "      <td>Dub maro jaato 😢😢.&lt;br&gt;Tumse tumare ladkiya nhi...</td>\n",
              "      <td>Dub maro jaato 😢😢.\\nTumse tumare ladkiya nhi b...</td>\n",
              "      <td>HECTOR OF TROY</td>\n",
              "      <td>https://yt3.ggpht.com/ytc/AOPolaQNP5bd7gNvbAas...</td>\n",
              "      <td>http://www.youtube.com/channel/UC5G8fjqoiFIqHp...</td>\n",
              "      <td>{'value': 'UC5G8fjqoiFIqHpKyVeOTsFg'}</td>\n",
              "      <td>True</td>\n",
              "      <td>none</td>\n",
              "      <td>0</td>\n",
              "      <td>2023-07-06T07:04:02Z</td>\n",
              "      <td>2023-07-06T07:04:02Z</td>\n",
              "      <td>None</td>\n",
              "      <td>UgwbyvIkkAhUdaCFpcp4AaABAg</td>\n",
              "    </tr>\n",
              "    <tr>\n",
              "      <th>1</th>\n",
              "      <td>EBOKYsWUhvI</td>\n",
              "      <td>Haar gye bechare</td>\n",
              "      <td>Haar gye bechare</td>\n",
              "      <td>Geeta Saini</td>\n",
              "      <td>https://yt3.ggpht.com/8XmOPNrT3Vy3wr0fItlWbaMk...</td>\n",
              "      <td>http://www.youtube.com/channel/UCsMGRdH3YHrbs2...</td>\n",
              "      <td>{'value': 'UCsMGRdH3YHrbs21NOraRuyQ'}</td>\n",
              "      <td>True</td>\n",
              "      <td>none</td>\n",
              "      <td>0</td>\n",
              "      <td>2023-07-03T22:21:37Z</td>\n",
              "      <td>2023-07-03T22:21:37Z</td>\n",
              "      <td>None</td>\n",
              "      <td>Ugyz3OwSXamho91-8I94AaABAg</td>\n",
              "    </tr>\n",
              "    <tr>\n",
              "      <th>2</th>\n",
              "      <td>EBOKYsWUhvI</td>\n",
              "      <td>Dhamki mili pahalwano ko aur sab manage kr liy...</td>\n",
              "      <td>Dhamki mili pahalwano ko aur sab manage kr liy...</td>\n",
              "      <td>Ayaan Chouhan</td>\n",
              "      <td>https://yt3.ggpht.com/ytc/AOPolaREH2WnrnbD53OI...</td>\n",
              "      <td>http://www.youtube.com/channel/UC_dWuNh6zydTHI...</td>\n",
              "      <td>{'value': 'UC_dWuNh6zydTHIRr6hi3Omg'}</td>\n",
              "      <td>True</td>\n",
              "      <td>none</td>\n",
              "      <td>0</td>\n",
              "      <td>2023-07-03T05:06:33Z</td>\n",
              "      <td>2023-07-03T05:06:33Z</td>\n",
              "      <td>None</td>\n",
              "      <td>Ugyphs1TT1Yoj7MZBVJ4AaABAg</td>\n",
              "    </tr>\n",
              "    <tr>\n",
              "      <th>3</th>\n",
              "      <td>EBOKYsWUhvI</td>\n",
              "      <td>Jaato pr ye boj rhega ki vo apni hi vyavstha s...</td>\n",
              "      <td>Jaato pr ye boj rhega ki vo apni hi vyavstha s...</td>\n",
              "      <td>Kamal</td>\n",
              "      <td>https://yt3.ggpht.com/ytc/AOPolaTRSm_dEOKj9H82...</td>\n",
              "      <td>http://www.youtube.com/channel/UCVdGObpHM-IMHB...</td>\n",
              "      <td>{'value': 'UCVdGObpHM-IMHB_b7_K-7rA'}</td>\n",
              "      <td>True</td>\n",
              "      <td>none</td>\n",
              "      <td>1</td>\n",
              "      <td>2023-07-02T03:39:50Z</td>\n",
              "      <td>2023-07-02T03:39:50Z</td>\n",
              "      <td>None</td>\n",
              "      <td>UgwnIxpuFAcKsEzffBp4AaABAg</td>\n",
              "    </tr>\n",
              "    <tr>\n",
              "      <th>4</th>\n",
              "      <td>EBOKYsWUhvI</td>\n",
              "      <td>Pahlwan jante h kuch nhi kr payenge uska</td>\n",
              "      <td>Pahlwan jante h kuch nhi kr payenge uska</td>\n",
              "      <td>jagriti tiwari upp</td>\n",
              "      <td>https://yt3.ggpht.com/ytc/AOPolaRrFnzD2i3N_3rk...</td>\n",
              "      <td>http://www.youtube.com/channel/UCRkcewHFhxE5Kf...</td>\n",
              "      <td>{'value': 'UCRkcewHFhxE5KfLHrLx0wpA'}</td>\n",
              "      <td>True</td>\n",
              "      <td>none</td>\n",
              "      <td>0</td>\n",
              "      <td>2023-06-28T15:10:36Z</td>\n",
              "      <td>2023-06-28T15:10:36Z</td>\n",
              "      <td>None</td>\n",
              "      <td>UgxjuOlDigsmuDu53J54AaABAg</td>\n",
              "    </tr>\n",
              "  </tbody>\n",
              "</table>\n",
              "</div>\n",
              "      <button class=\"colab-df-convert\" onclick=\"convertToInteractive('df-486f3b10-25b0-4e49-84b9-e8149c89df49')\"\n",
              "              title=\"Convert this dataframe to an interactive table.\"\n",
              "              style=\"display:none;\">\n",
              "\n",
              "  <svg xmlns=\"http://www.w3.org/2000/svg\" height=\"24px\"viewBox=\"0 0 24 24\"\n",
              "       width=\"24px\">\n",
              "    <path d=\"M0 0h24v24H0V0z\" fill=\"none\"/>\n",
              "    <path d=\"M18.56 5.44l.94 2.06.94-2.06 2.06-.94-2.06-.94-.94-2.06-.94 2.06-2.06.94zm-11 1L8.5 8.5l.94-2.06 2.06-.94-2.06-.94L8.5 2.5l-.94 2.06-2.06.94zm10 10l.94 2.06.94-2.06 2.06-.94-2.06-.94-.94-2.06-.94 2.06-2.06.94z\"/><path d=\"M17.41 7.96l-1.37-1.37c-.4-.4-.92-.59-1.43-.59-.52 0-1.04.2-1.43.59L10.3 9.45l-7.72 7.72c-.78.78-.78 2.05 0 2.83L4 21.41c.39.39.9.59 1.41.59.51 0 1.02-.2 1.41-.59l7.78-7.78 2.81-2.81c.8-.78.8-2.07 0-2.86zM5.41 20L4 18.59l7.72-7.72 1.47 1.35L5.41 20z\"/>\n",
              "  </svg>\n",
              "      </button>\n",
              "\n",
              "\n",
              "\n",
              "    <div id=\"df-a3668d41-02dd-4d0b-81b2-349fb6f4b129\">\n",
              "      <button class=\"colab-df-quickchart\" onclick=\"quickchart('df-a3668d41-02dd-4d0b-81b2-349fb6f4b129')\"\n",
              "              title=\"Suggest charts.\"\n",
              "              style=\"display:none;\">\n",
              "\n",
              "<svg xmlns=\"http://www.w3.org/2000/svg\" height=\"24px\"viewBox=\"0 0 24 24\"\n",
              "     width=\"24px\">\n",
              "    <g>\n",
              "        <path d=\"M19 3H5c-1.1 0-2 .9-2 2v14c0 1.1.9 2 2 2h14c1.1 0 2-.9 2-2V5c0-1.1-.9-2-2-2zM9 17H7v-7h2v7zm4 0h-2V7h2v10zm4 0h-2v-4h2v4z\"/>\n",
              "    </g>\n",
              "</svg>\n",
              "      </button>\n",
              "    </div>\n",
              "\n",
              "<style>\n",
              "  .colab-df-quickchart {\n",
              "    background-color: #E8F0FE;\n",
              "    border: none;\n",
              "    border-radius: 50%;\n",
              "    cursor: pointer;\n",
              "    display: none;\n",
              "    fill: #1967D2;\n",
              "    height: 32px;\n",
              "    padding: 0 0 0 0;\n",
              "    width: 32px;\n",
              "  }\n",
              "\n",
              "  .colab-df-quickchart:hover {\n",
              "    background-color: #E2EBFA;\n",
              "    box-shadow: 0px 1px 2px rgba(60, 64, 67, 0.3), 0px 1px 3px 1px rgba(60, 64, 67, 0.15);\n",
              "    fill: #174EA6;\n",
              "  }\n",
              "\n",
              "  [theme=dark] .colab-df-quickchart {\n",
              "    background-color: #3B4455;\n",
              "    fill: #D2E3FC;\n",
              "  }\n",
              "\n",
              "  [theme=dark] .colab-df-quickchart:hover {\n",
              "    background-color: #434B5C;\n",
              "    box-shadow: 0px 1px 3px 1px rgba(0, 0, 0, 0.15);\n",
              "    filter: drop-shadow(0px 1px 2px rgba(0, 0, 0, 0.3));\n",
              "    fill: #FFFFFF;\n",
              "  }\n",
              "</style>\n",
              "\n",
              "    <script>\n",
              "      async function quickchart(key) {\n",
              "        const containerElement = document.querySelector('#' + key);\n",
              "        const charts = await google.colab.kernel.invokeFunction(\n",
              "            'suggestCharts', [key], {});\n",
              "      }\n",
              "    </script>\n",
              "\n",
              "      <script>\n",
              "\n",
              "function displayQuickchartButton(domScope) {\n",
              "  let quickchartButtonEl =\n",
              "    domScope.querySelector('#df-a3668d41-02dd-4d0b-81b2-349fb6f4b129 button.colab-df-quickchart');\n",
              "  quickchartButtonEl.style.display =\n",
              "    google.colab.kernel.accessAllowed ? 'block' : 'none';\n",
              "}\n",
              "\n",
              "        displayQuickchartButton(document);\n",
              "      </script>\n",
              "      <style>\n",
              "    .colab-df-container {\n",
              "      display:flex;\n",
              "      flex-wrap:wrap;\n",
              "      gap: 12px;\n",
              "    }\n",
              "\n",
              "    .colab-df-convert {\n",
              "      background-color: #E8F0FE;\n",
              "      border: none;\n",
              "      border-radius: 50%;\n",
              "      cursor: pointer;\n",
              "      display: none;\n",
              "      fill: #1967D2;\n",
              "      height: 32px;\n",
              "      padding: 0 0 0 0;\n",
              "      width: 32px;\n",
              "    }\n",
              "\n",
              "    .colab-df-convert:hover {\n",
              "      background-color: #E2EBFA;\n",
              "      box-shadow: 0px 1px 2px rgba(60, 64, 67, 0.3), 0px 1px 3px 1px rgba(60, 64, 67, 0.15);\n",
              "      fill: #174EA6;\n",
              "    }\n",
              "\n",
              "    [theme=dark] .colab-df-convert {\n",
              "      background-color: #3B4455;\n",
              "      fill: #D2E3FC;\n",
              "    }\n",
              "\n",
              "    [theme=dark] .colab-df-convert:hover {\n",
              "      background-color: #434B5C;\n",
              "      box-shadow: 0px 1px 3px 1px rgba(0, 0, 0, 0.15);\n",
              "      filter: drop-shadow(0px 1px 2px rgba(0, 0, 0, 0.3));\n",
              "      fill: #FFFFFF;\n",
              "    }\n",
              "  </style>\n",
              "\n",
              "      <script>\n",
              "        const buttonEl =\n",
              "          document.querySelector('#df-486f3b10-25b0-4e49-84b9-e8149c89df49 button.colab-df-convert');\n",
              "        buttonEl.style.display =\n",
              "          google.colab.kernel.accessAllowed ? 'block' : 'none';\n",
              "\n",
              "        async function convertToInteractive(key) {\n",
              "          const element = document.querySelector('#df-486f3b10-25b0-4e49-84b9-e8149c89df49');\n",
              "          const dataTable =\n",
              "            await google.colab.kernel.invokeFunction('convertToInteractive',\n",
              "                                                     [key], {});\n",
              "          if (!dataTable) return;\n",
              "\n",
              "          const docLinkHtml = 'Like what you see? Visit the ' +\n",
              "            '<a target=\"_blank\" href=https://colab.research.google.com/notebooks/data_table.ipynb>data table notebook</a>'\n",
              "            + ' to learn more about interactive tables.';\n",
              "          element.innerHTML = '';\n",
              "          dataTable['output_type'] = 'display_data';\n",
              "          await google.colab.output.renderOutput(dataTable, element);\n",
              "          const docLink = document.createElement('div');\n",
              "          docLink.innerHTML = docLinkHtml;\n",
              "          element.appendChild(docLink);\n",
              "        }\n",
              "      </script>\n",
              "    </div>\n",
              "  </div>\n"
            ]
          },
          "metadata": {},
          "execution_count": 5
        }
      ],
      "source": [
        "df.head()"
      ]
    },
    {
      "cell_type": "code",
      "execution_count": 6,
      "metadata": {
        "colab": {
          "base_uri": "https://localhost:8080/"
        },
        "id": "6StKhcR-r-Xo",
        "outputId": "6d933597-06d3-46b5-bb6f-af8889a97869"
      },
      "outputs": [
        {
          "output_type": "execute_result",
          "data": {
            "text/plain": [
              "(1119948, 14)"
            ]
          },
          "metadata": {},
          "execution_count": 6
        }
      ],
      "source": [
        "df.shape"
      ]
    },
    {
      "cell_type": "code",
      "source": [
        "df['textOriginal'] = df['textOriginal'].astype(str)"
      ],
      "metadata": {
        "id": "30kEHTVt0KYd"
      },
      "execution_count": 10,
      "outputs": []
    },
    {
      "cell_type": "code",
      "execution_count": 11,
      "metadata": {
        "id": "ni1lBX6gv-17"
      },
      "outputs": [],
      "source": [
        "duplicate_rows = df[df.duplicated(subset='textOriginal', keep=False)]"
      ]
    },
    {
      "cell_type": "code",
      "execution_count": 13,
      "metadata": {
        "colab": {
          "base_uri": "https://localhost:8080/"
        },
        "id": "TzPA_-T3w-nH",
        "outputId": "f18a6763-05fd-4b06-dd0d-57a2035690a1"
      },
      "outputs": [
        {
          "output_type": "execute_result",
          "data": {
            "text/plain": [
              "93475"
            ]
          },
          "metadata": {},
          "execution_count": 13
        }
      ],
      "source": [
        "len(df['textDisplay'].unique())"
      ]
    },
    {
      "cell_type": "code",
      "source": [
        "# Now this is strange, the dataset doesnt have duplicate or empty rows, why is this happening? is it some datatype problem?\n",
        "# Lets try to do a simple check for it again"
      ],
      "metadata": {
        "id": "LeeIhYkd3gXK"
      },
      "execution_count": 37,
      "outputs": []
    },
    {
      "cell_type": "code",
      "source": [
        "count = 0\n",
        "value_list = []\n",
        "for index, row in df.iterrows():\n",
        "    value_list.append(row['textOriginal'])\n",
        "    count+=1\n",
        "print(count)\n",
        "print(len(value_list))"
      ],
      "metadata": {
        "colab": {
          "base_uri": "https://localhost:8080/"
        },
        "id": "a8L76Dss3qpx",
        "outputId": "c7e4f4db-0046-48a2-8d49-6f28bc1a1a44"
      },
      "execution_count": 39,
      "outputs": [
        {
          "output_type": "stream",
          "name": "stdout",
          "text": [
            "1119948\n"
          ]
        }
      ]
    },
    {
      "cell_type": "code",
      "source": [
        "# This means we are penetrating through the entire dataset. I dont know why pandas is doing that ://\n",
        "# There is one small problem, there is a \\u200b character that is present, we might have to remove that."
      ],
      "metadata": {
        "id": "BLhEpCq15RtT"
      },
      "execution_count": 42,
      "outputs": []
    },
    {
      "cell_type": "markdown",
      "metadata": {
        "id": "aNO6k-Jnz3hc"
      },
      "source": [
        "## Simple Slur List Frequency Count\n",
        "This is a simple frequency count of how many words from the slur list are found in the data.\n",
        "I have stored the results in a dictonary called _'slur_counts'_"
      ]
    },
    {
      "cell_type": "code",
      "execution_count": 14,
      "metadata": {
        "id": "EkBrpqsWr-6J"
      },
      "outputs": [],
      "source": [
        "with open('slur_list.txt', 'r') as file:\n",
        "    slur_words = [word.strip() for word in file.readlines()]"
      ]
    },
    {
      "cell_type": "code",
      "execution_count": 15,
      "metadata": {
        "id": "ZdPWuH5Pz_AK"
      },
      "outputs": [],
      "source": [
        "# slur_words"
      ]
    },
    {
      "cell_type": "code",
      "execution_count": 16,
      "metadata": {
        "id": "GDMtz9mw0j6W"
      },
      "outputs": [],
      "source": [
        "slur_words_set = set(slur_words)"
      ]
    },
    {
      "cell_type": "code",
      "execution_count": 17,
      "metadata": {
        "id": "JpepJ0bI0A0R"
      },
      "outputs": [],
      "source": [
        "# A dictonary to count the frequency of each slur word identified\n",
        "slur_counts = {}"
      ]
    },
    {
      "cell_type": "code",
      "execution_count": 18,
      "metadata": {
        "id": "9i8gF6fS0O4K"
      },
      "outputs": [],
      "source": [
        "'''\n",
        "for text in df['textOriginal']:\n",
        "    words = text.split()\n",
        "    for word in words:\n",
        "        if word in slur_words:\n",
        "            if word in slur_counts:\n",
        "                slur_counts[word] += 1\n",
        "            else:\n",
        "                slur_counts[word] = 1\n",
        "'''\n",
        "for text in df['textOriginal']:\n",
        "    if text is not None:\n",
        "        words = text.split()\n",
        "        slur_words_in_text = set(words) & slur_words_set\n",
        "        for word in slur_words_in_text:\n",
        "            if word in slur_counts:\n",
        "                slur_counts[word] += 1\n",
        "            else:\n",
        "                slur_counts[word] = 1\n",
        "# Problem with code, in set if a user has used the same word multiple times, set will dismiss that."
      ]
    },
    {
      "cell_type": "code",
      "execution_count": 19,
      "metadata": {
        "id": "9KVuST2x0QET"
      },
      "outputs": [],
      "source": [
        "sorted_slur_counts = dict(sorted(slur_counts.items(), key=lambda item: item[1], reverse=True))"
      ]
    },
    {
      "cell_type": "code",
      "execution_count": 20,
      "metadata": {
        "colab": {
          "base_uri": "https://localhost:8080/"
        },
        "id": "NfvjZhJI1M4C",
        "outputId": "25ee94e1-e669-4918-dca4-b45301780737"
      },
      "outputs": [
        {
          "output_type": "execute_result",
          "data": {
            "text/plain": [
              "[('chutiya', 2647),\n",
              " ('chutiye', 1839),\n",
              " ('chod', 1788),\n",
              " ('mc', 1155),\n",
              " ('bsdk', 1147),\n",
              " ('stupid', 994),\n",
              " ('sali', 992),\n",
              " ('gaddar', 981)]"
            ]
          },
          "metadata": {},
          "execution_count": 20
        }
      ],
      "source": [
        "# sorted_slur_counts\n",
        "list(sorted_slur_counts.items())[:8]"
      ]
    },
    {
      "cell_type": "code",
      "execution_count": 21,
      "metadata": {
        "colab": {
          "base_uri": "https://localhost:8080/"
        },
        "id": "paUicBFQqVhT",
        "outputId": "ab3be3b0-851e-4fd0-b248-4cec3649cec2"
      },
      "outputs": [
        {
          "output_type": "execute_result",
          "data": {
            "text/plain": [
              "25393"
            ]
          },
          "metadata": {},
          "execution_count": 21
        }
      ],
      "source": [
        "sum(sorted_slur_counts.values())"
      ]
    },
    {
      "cell_type": "code",
      "execution_count": 22,
      "metadata": {
        "colab": {
          "base_uri": "https://localhost:8080/",
          "height": 53
        },
        "id": "3Ki8OyVH1h0Y",
        "outputId": "8cc52bae-1cee-4203-e4c6-f18e329f52ef"
      },
      "outputs": [
        {
          "output_type": "execute_result",
          "data": {
            "text/plain": [
              "'\\nOne thing is clear from this, all the explicit words that are in english are not there in the list,\\nthis means youtube either deletes them or hides them. And the moderation for local vernacular language is weak.\\n'"
            ],
            "application/vnd.google.colaboratory.intrinsic+json": {
              "type": "string"
            }
          },
          "metadata": {},
          "execution_count": 22
        }
      ],
      "source": [
        "'''\n",
        "One thing is clear from this, all the explicit words that are in english are not there in the list,\n",
        "this means youtube either deletes them or hides them. And the moderation for local vernacular language is weak.\n",
        "'''"
      ]
    },
    {
      "cell_type": "markdown",
      "metadata": {
        "id": "Gf_9F-ZOs7GX"
      },
      "source": [
        "## Regex\n",
        "What is a Regex? -> a sequence of characters that specifies a match pattern in text.\n",
        "\n",
        "**Step 1** - Clean and Preprocess the Data\n",
        "1.   Remove User Names - `r'@\\w+\\b'`\n",
        "2.   Remove URL's and unecessary puntuation marks - `[^\\w\\s.]|http\\S+|www\\S+|https\\S+`\n",
        "3.  Remove Double spaces - `r'\\s+', ' '`\n",
        "4.  Remove any leading or trailing spaces - `.strip()`\n",
        "\n"
      ]
    },
    {
      "cell_type": "code",
      "execution_count": 23,
      "metadata": {
        "id": "9aV5NzMgQGGt"
      },
      "outputs": [],
      "source": [
        "text = \"@user, temp, temp, ;;;;;;;; I hate the offensive and racist comments\\n\\n\\n. They disgust me. Visit https://example.com for more information.\""
      ]
    },
    {
      "cell_type": "code",
      "execution_count": 24,
      "metadata": {
        "id": "N_PB_pscRk7M"
      },
      "outputs": [],
      "source": [
        "def clean_text(text):\n",
        "    cleaned_text = re.sub(r'@\\w+\\b|[^\\w\\s.]|(?:https?|ftp)://\\S+|www.\\S+', '', text).replace('\\n', '').strip()\n",
        "    cleaned_text = re.sub(r'\\s+', ' ', cleaned_text)\n",
        "    return cleaned_text"
      ]
    },
    {
      "cell_type": "code",
      "execution_count": 25,
      "metadata": {
        "colab": {
          "base_uri": "https://localhost:8080/"
        },
        "id": "hnQA427sRlD2",
        "outputId": "b3e44476-dfcd-46f2-8517-8a4105068b5a"
      },
      "outputs": [
        {
          "output_type": "stream",
          "name": "stdout",
          "text": [
            "temp temp I hate the offensive and racist comments. They disgust me. Visit for more information.\n"
          ]
        }
      ],
      "source": [
        "print(clean_text(text))"
      ]
    },
    {
      "cell_type": "code",
      "execution_count": 26,
      "metadata": {
        "id": "IflpecuSYyIj"
      },
      "outputs": [],
      "source": [
        "regexDf = df[['textOriginal']]"
      ]
    },
    {
      "cell_type": "code",
      "execution_count": 27,
      "metadata": {
        "id": "WtblBbYxaYI_",
        "colab": {
          "base_uri": "https://localhost:8080/"
        },
        "outputId": "e326f605-61f7-4078-e372-755c2284247f"
      },
      "outputs": [
        {
          "output_type": "stream",
          "name": "stderr",
          "text": [
            "<ipython-input-27-547ff038857b>:2: SettingWithCopyWarning: \n",
            "A value is trying to be set on a copy of a slice from a DataFrame.\n",
            "Try using .loc[row_indexer,col_indexer] = value instead\n",
            "\n",
            "See the caveats in the documentation: https://pandas.pydata.org/pandas-docs/stable/user_guide/indexing.html#returning-a-view-versus-a-copy\n",
            "  regexDf['textOriginal'] = regexDf['textOriginal'].apply(lambda x: clean_text(x))\n"
          ]
        }
      ],
      "source": [
        "# clean text\n",
        "regexDf['textOriginal'] = regexDf['textOriginal'].apply(lambda x: clean_text(x))"
      ]
    },
    {
      "cell_type": "markdown",
      "source": [
        "### Just check the count of words from the slur list ignoring case (upper or lower) of the word. We also look if any word from the slur list is present as a sub-string of any other word in the dataset.\n",
        "\n",
        "1.   `re.findall()` - searches for all non-overlapping occurrences of a pattern in a given text.\n",
        "2.   `(?i)` - make matching case-insenstive\n",
        "3.  `'(' + '|'.join(slur_words) + r')'` - find a pattern that matches any of the slur words"
      ],
      "metadata": {
        "id": "LPEhnFZt3CZx"
      }
    },
    {
      "cell_type": "code",
      "execution_count": 48,
      "metadata": {
        "id": "3ko9uzVxcC6z",
        "colab": {
          "base_uri": "https://localhost:8080/"
        },
        "outputId": "34422305-5cc1-4aa4-f185-d9076f2776e8"
      },
      "outputs": [
        {
          "output_type": "stream",
          "name": "stdout",
          "text": [
            "CPU times: user 7min 22s, sys: 845 ms, total: 7min 23s\n",
            "Wall time: 7min 25s\n"
          ]
        }
      ],
      "source": [
        "%%time\n",
        "slur_word_counts = {}\n",
        "for index, row in regexDf.iterrows():\n",
        "    text = row['textOriginal']\n",
        "    # matches = re.findall(r\"(?i)\\b(\" + '|'.join(slur_words) + r\")\\b\", text)\n",
        "    matches = re.findall(r'(?i)(' + '|'.join(slur_words) + r')', text)\n",
        "    for match in matches:\n",
        "        slur_word_counts[match] = slur_word_counts.get(match, 0) + 1"
      ]
    },
    {
      "cell_type": "code",
      "source": [
        "# slur_word_counts"
      ],
      "metadata": {
        "id": "99la6tMI0rMb"
      },
      "execution_count": 49,
      "outputs": []
    },
    {
      "cell_type": "code",
      "source": [
        "sum(slur_word_counts.values())"
      ],
      "metadata": {
        "colab": {
          "base_uri": "https://localhost:8080/"
        },
        "id": "JXUSGr9p12kR",
        "outputId": "2b1f7ba5-8118-485f-b288-c049bdc13ed8"
      },
      "execution_count": 50,
      "outputs": [
        {
          "output_type": "execute_result",
          "data": {
            "text/plain": [
              "101382"
            ]
          },
          "metadata": {},
          "execution_count": 50
        }
      ]
    },
    {
      "cell_type": "code",
      "source": [
        "sorted_slur_word_counts = dict(sorted(slur_word_counts.items(), key=lambda item: item[1], reverse=True))\n",
        "print(list(sorted_slur_word_counts.items())[:8])"
      ],
      "metadata": {
        "colab": {
          "base_uri": "https://localhost:8080/"
        },
        "id": "0dtcUCgt6YlO",
        "outputId": "e8a76603-d999-4f80-cee1-26d15499afee"
      },
      "execution_count": 51,
      "outputs": [
        {
          "output_type": "stream",
          "name": "stdout",
          "text": [
            "[('ms', 13407), ('bai', 9483), ('halwa', 8551), ('chod', 7929), ('chutiya', 3554), ('fat', 3144), ('mc', 3103), ('balatkar', 2631)]\n"
          ]
        }
      ]
    },
    {
      "cell_type": "code",
      "source": [
        "# We clearly see that the amount of slur words drastically increase. Now the step ahead would be too create seperate regex for the most used slur words.\n",
        "# Note - the substrings could also be a part of different words and not necessarily hateful. But given the nature of the words, I feel that chances are low."
      ],
      "metadata": {
        "id": "U7zT7FF13vjb"
      },
      "execution_count": 52,
      "outputs": []
    },
    {
      "cell_type": "markdown",
      "metadata": {
        "id": "eNkKoD02ihbl"
      },
      "source": [
        "## Identify Text Language"
      ]
    },
    {
      "cell_type": "code",
      "execution_count": null,
      "metadata": {
        "id": "4dSDgHN0k4Cv"
      },
      "outputs": [],
      "source": [
        "#supressing output\n",
        "# !pip install inltk==0.9 > /dev/null 2>&1\n",
        "# !pip install --upgrade fastai > /dev/null 2>&1"
      ]
    },
    {
      "cell_type": "code",
      "execution_count": null,
      "metadata": {
        "id": "5zuX_hBZmHKk"
      },
      "outputs": [],
      "source": [
        "!pip install polyglot==16.7.4 > /dev/null 2>&1\n",
        "!pip install PyICU > /dev/null 2>&1\n",
        "!pip install pycld2 > /dev/null 2>&1"
      ]
    },
    {
      "cell_type": "code",
      "execution_count": null,
      "metadata": {
        "id": "9F2MFqHhhgF2"
      },
      "outputs": [],
      "source": [
        "# Use iNLTK, Indic NLP Library or polyglot\n",
        "# from inltk.inltk import identify_language, reset_language_identifying_models\n",
        "from polyglot.detect import Detector\n",
        "# languages supported by polyglot - https://polyglot.readthedocs.io/en/latest/Detection.html#supported-languages"
      ]
    },
    {
      "cell_type": "code",
      "execution_count": null,
      "metadata": {
        "id": "FAGvFAxMkUso"
      },
      "outputs": [],
      "source": [
        "# text = 'आप कैसे हैं?' text = 'તમે કેમ છો' text = 'எப்படி இருக்கிறீர்கள்' text = 'സുഖമാണോ' text = 'तू कसा आहेस'\n",
        "text = 'आप कैसे हैं?'"
      ]
    },
    {
      "cell_type": "code",
      "execution_count": null,
      "metadata": {
        "colab": {
          "base_uri": "https://localhost:8080/"
        },
        "id": "PXO7lWFDoPCk",
        "outputId": "46a8097b-9758-49ca-9752-006a73426b24"
      },
      "outputs": [
        {
          "output_type": "stream",
          "name": "stdout",
          "text": [
            "name: Hindi       code: hi       confidence:  96.0 read bytes:  1638\n"
          ]
        }
      ],
      "source": [
        "detector = Detector(text)\n",
        "print(detector.language)"
      ]
    }
  ],
  "metadata": {
    "colab": {
      "provenance": []
    },
    "kernelspec": {
      "display_name": "Python 3",
      "name": "python3"
    },
    "language_info": {
      "name": "python"
    }
  },
  "nbformat": 4,
  "nbformat_minor": 0
}