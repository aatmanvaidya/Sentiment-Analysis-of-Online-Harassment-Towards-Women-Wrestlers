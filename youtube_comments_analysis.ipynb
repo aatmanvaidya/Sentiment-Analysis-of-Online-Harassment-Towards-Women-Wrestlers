{
  "cells": [
    {
      "cell_type": "code",
      "execution_count": 1,
      "metadata": {
        "id": "sUoDe6LFbqVx"
      },
      "outputs": [],
      "source": [
        "import gdown"
      ]
    },
    {
      "cell_type": "code",
      "execution_count": 2,
      "metadata": {
        "id": "KPiXIhfUbvnn"
      },
      "outputs": [],
      "source": [
        "!gdown --id 1KmoZYmPzxrrtR4a3mSfPIumbDwf_Mrpw > /dev/null 2>&1\n",
        "!gdown --id 19vK08esg9hQtD8JB-9jm7Qkck7nZ-ZqR > /dev/null 2>&1"
      ]
    },
    {
      "cell_type": "markdown",
      "metadata": {
        "id": "zJpmDXtnsEo9"
      },
      "source": [
        "## About the Dataset\n",
        "This a YouTube comments dataset scrapped using the [YouTube Data API](https://developers.google.com/youtube/v3/docs/comments). Currently the dataset consists of roughly **1.12M** comments. The dataset can be accessed [here](https://drive.google.com/drive/folders/1-9OnYbFuiSA0M7skOYche5erzZ4Ba5Nz?usp=sharing).\n",
        "<br><br>\n",
        "The dataset currently has text in _English, Hindi and Hinglish_.\n",
        "Please refer to the following information for an overview of the columns and the corresponding data stored within them. [Link](https://github.com/aatmanvaidya/Sentiment-Analysis-of-Online-Harassment-Towards-Women-Wrestlers/blob/scraper/attributes.txt)."
      ]
    },
    {
      "cell_type": "code",
      "execution_count": 3,
      "metadata": {
        "id": "Y3ZC3vE1rhkU"
      },
      "outputs": [],
      "source": [
        "import pandas as pd\n",
        "import matplotlib.pyplot as plt\n",
        "import matplotlib.ticker as ticker\n",
        "import numpy as np\n",
        "from collections import Counter\n",
        "import re"
      ]
    },
    {
      "cell_type": "code",
      "execution_count": 4,
      "metadata": {
        "colab": {
          "base_uri": "https://localhost:8080/"
        },
        "id": "Hm6uzfHWrmcp",
        "outputId": "8bdab137-148d-4526-fe26-3052f2fefb5c"
      },
      "outputs": [
        {
          "output_type": "stream",
          "name": "stdout",
          "text": [
            "CPU times: user 2.23 s, sys: 1.06 s, total: 3.29 s\n",
            "Wall time: 3.62 s\n"
          ]
        }
      ],
      "source": [
        "%%time\n",
        "df = pd.read_feather(r'comments_cleaned_feather.feather')"
      ]
    },
    {
      "cell_type": "code",
      "execution_count": 5,
      "metadata": {
        "colab": {
          "base_uri": "https://localhost:8080/",
          "height": 547
        },
        "id": "jMDpJrqjr2y5",
        "outputId": "bafc2b21-3558-4406-a562-710a72163bb0"
      },
      "outputs": [
        {
          "output_type": "execute_result",
          "data": {
            "text/plain": [
              "       videoId                                        textDisplay  \\\n",
              "0  EBOKYsWUhvI  Dub maro jaato 😢😢.<br>Tumse tumare ladkiya nhi...   \n",
              "1  EBOKYsWUhvI                                   Haar gye bechare   \n",
              "2  EBOKYsWUhvI  Dhamki mili pahalwano ko aur sab manage kr liy...   \n",
              "3  EBOKYsWUhvI  Jaato pr ye boj rhega ki vo apni hi vyavstha s...   \n",
              "4  EBOKYsWUhvI           Pahlwan jante h kuch nhi kr payenge uska   \n",
              "\n",
              "                                        textOriginal   authorDisplayName  \\\n",
              "0  Dub maro jaato 😢😢.\\nTumse tumare ladkiya nhi b...      HECTOR OF TROY   \n",
              "1                                   Haar gye bechare         Geeta Saini   \n",
              "2  Dhamki mili pahalwano ko aur sab manage kr liy...       Ayaan Chouhan   \n",
              "3  Jaato pr ye boj rhega ki vo apni hi vyavstha s...               Kamal   \n",
              "4           Pahlwan jante h kuch nhi kr payenge uska  jagriti tiwari upp   \n",
              "\n",
              "                               authorProfileImageUrl  \\\n",
              "0  https://yt3.ggpht.com/ytc/AOPolaQNP5bd7gNvbAas...   \n",
              "1  https://yt3.ggpht.com/8XmOPNrT3Vy3wr0fItlWbaMk...   \n",
              "2  https://yt3.ggpht.com/ytc/AOPolaREH2WnrnbD53OI...   \n",
              "3  https://yt3.ggpht.com/ytc/AOPolaTRSm_dEOKj9H82...   \n",
              "4  https://yt3.ggpht.com/ytc/AOPolaRrFnzD2i3N_3rk...   \n",
              "\n",
              "                                    authorChannelUrl  \\\n",
              "0  http://www.youtube.com/channel/UC5G8fjqoiFIqHp...   \n",
              "1  http://www.youtube.com/channel/UCsMGRdH3YHrbs2...   \n",
              "2  http://www.youtube.com/channel/UC_dWuNh6zydTHI...   \n",
              "3  http://www.youtube.com/channel/UCVdGObpHM-IMHB...   \n",
              "4  http://www.youtube.com/channel/UCRkcewHFhxE5Kf...   \n",
              "\n",
              "                         authorChannelId canRate viewerRating likeCount  \\\n",
              "0  {'value': 'UC5G8fjqoiFIqHpKyVeOTsFg'}    True         none         0   \n",
              "1  {'value': 'UCsMGRdH3YHrbs21NOraRuyQ'}    True         none         0   \n",
              "2  {'value': 'UC_dWuNh6zydTHIRr6hi3Omg'}    True         none         0   \n",
              "3  {'value': 'UCVdGObpHM-IMHB_b7_K-7rA'}    True         none         1   \n",
              "4  {'value': 'UCRkcewHFhxE5KfLHrLx0wpA'}    True         none         0   \n",
              "\n",
              "            publishedAt             updatedAt parentId  \\\n",
              "0  2023-07-06T07:04:02Z  2023-07-06T07:04:02Z     None   \n",
              "1  2023-07-03T22:21:37Z  2023-07-03T22:21:37Z     None   \n",
              "2  2023-07-03T05:06:33Z  2023-07-03T05:06:33Z     None   \n",
              "3  2023-07-02T03:39:50Z  2023-07-02T03:39:50Z     None   \n",
              "4  2023-06-28T15:10:36Z  2023-06-28T15:10:36Z     None   \n",
              "\n",
              "                    commentId  \n",
              "0  UgwbyvIkkAhUdaCFpcp4AaABAg  \n",
              "1  Ugyz3OwSXamho91-8I94AaABAg  \n",
              "2  Ugyphs1TT1Yoj7MZBVJ4AaABAg  \n",
              "3  UgwnIxpuFAcKsEzffBp4AaABAg  \n",
              "4  UgxjuOlDigsmuDu53J54AaABAg  "
            ],
            "text/html": [
              "\n",
              "\n",
              "  <div id=\"df-215818c1-1212-427b-ab1a-c29fc7873c39\">\n",
              "    <div class=\"colab-df-container\">\n",
              "      <div>\n",
              "<style scoped>\n",
              "    .dataframe tbody tr th:only-of-type {\n",
              "        vertical-align: middle;\n",
              "    }\n",
              "\n",
              "    .dataframe tbody tr th {\n",
              "        vertical-align: top;\n",
              "    }\n",
              "\n",
              "    .dataframe thead th {\n",
              "        text-align: right;\n",
              "    }\n",
              "</style>\n",
              "<table border=\"1\" class=\"dataframe\">\n",
              "  <thead>\n",
              "    <tr style=\"text-align: right;\">\n",
              "      <th></th>\n",
              "      <th>videoId</th>\n",
              "      <th>textDisplay</th>\n",
              "      <th>textOriginal</th>\n",
              "      <th>authorDisplayName</th>\n",
              "      <th>authorProfileImageUrl</th>\n",
              "      <th>authorChannelUrl</th>\n",
              "      <th>authorChannelId</th>\n",
              "      <th>canRate</th>\n",
              "      <th>viewerRating</th>\n",
              "      <th>likeCount</th>\n",
              "      <th>publishedAt</th>\n",
              "      <th>updatedAt</th>\n",
              "      <th>parentId</th>\n",
              "      <th>commentId</th>\n",
              "    </tr>\n",
              "  </thead>\n",
              "  <tbody>\n",
              "    <tr>\n",
              "      <th>0</th>\n",
              "      <td>EBOKYsWUhvI</td>\n",
              "      <td>Dub maro jaato 😢😢.&lt;br&gt;Tumse tumare ladkiya nhi...</td>\n",
              "      <td>Dub maro jaato 😢😢.\\nTumse tumare ladkiya nhi b...</td>\n",
              "      <td>HECTOR OF TROY</td>\n",
              "      <td>https://yt3.ggpht.com/ytc/AOPolaQNP5bd7gNvbAas...</td>\n",
              "      <td>http://www.youtube.com/channel/UC5G8fjqoiFIqHp...</td>\n",
              "      <td>{'value': 'UC5G8fjqoiFIqHpKyVeOTsFg'}</td>\n",
              "      <td>True</td>\n",
              "      <td>none</td>\n",
              "      <td>0</td>\n",
              "      <td>2023-07-06T07:04:02Z</td>\n",
              "      <td>2023-07-06T07:04:02Z</td>\n",
              "      <td>None</td>\n",
              "      <td>UgwbyvIkkAhUdaCFpcp4AaABAg</td>\n",
              "    </tr>\n",
              "    <tr>\n",
              "      <th>1</th>\n",
              "      <td>EBOKYsWUhvI</td>\n",
              "      <td>Haar gye bechare</td>\n",
              "      <td>Haar gye bechare</td>\n",
              "      <td>Geeta Saini</td>\n",
              "      <td>https://yt3.ggpht.com/8XmOPNrT3Vy3wr0fItlWbaMk...</td>\n",
              "      <td>http://www.youtube.com/channel/UCsMGRdH3YHrbs2...</td>\n",
              "      <td>{'value': 'UCsMGRdH3YHrbs21NOraRuyQ'}</td>\n",
              "      <td>True</td>\n",
              "      <td>none</td>\n",
              "      <td>0</td>\n",
              "      <td>2023-07-03T22:21:37Z</td>\n",
              "      <td>2023-07-03T22:21:37Z</td>\n",
              "      <td>None</td>\n",
              "      <td>Ugyz3OwSXamho91-8I94AaABAg</td>\n",
              "    </tr>\n",
              "    <tr>\n",
              "      <th>2</th>\n",
              "      <td>EBOKYsWUhvI</td>\n",
              "      <td>Dhamki mili pahalwano ko aur sab manage kr liy...</td>\n",
              "      <td>Dhamki mili pahalwano ko aur sab manage kr liy...</td>\n",
              "      <td>Ayaan Chouhan</td>\n",
              "      <td>https://yt3.ggpht.com/ytc/AOPolaREH2WnrnbD53OI...</td>\n",
              "      <td>http://www.youtube.com/channel/UC_dWuNh6zydTHI...</td>\n",
              "      <td>{'value': 'UC_dWuNh6zydTHIRr6hi3Omg'}</td>\n",
              "      <td>True</td>\n",
              "      <td>none</td>\n",
              "      <td>0</td>\n",
              "      <td>2023-07-03T05:06:33Z</td>\n",
              "      <td>2023-07-03T05:06:33Z</td>\n",
              "      <td>None</td>\n",
              "      <td>Ugyphs1TT1Yoj7MZBVJ4AaABAg</td>\n",
              "    </tr>\n",
              "    <tr>\n",
              "      <th>3</th>\n",
              "      <td>EBOKYsWUhvI</td>\n",
              "      <td>Jaato pr ye boj rhega ki vo apni hi vyavstha s...</td>\n",
              "      <td>Jaato pr ye boj rhega ki vo apni hi vyavstha s...</td>\n",
              "      <td>Kamal</td>\n",
              "      <td>https://yt3.ggpht.com/ytc/AOPolaTRSm_dEOKj9H82...</td>\n",
              "      <td>http://www.youtube.com/channel/UCVdGObpHM-IMHB...</td>\n",
              "      <td>{'value': 'UCVdGObpHM-IMHB_b7_K-7rA'}</td>\n",
              "      <td>True</td>\n",
              "      <td>none</td>\n",
              "      <td>1</td>\n",
              "      <td>2023-07-02T03:39:50Z</td>\n",
              "      <td>2023-07-02T03:39:50Z</td>\n",
              "      <td>None</td>\n",
              "      <td>UgwnIxpuFAcKsEzffBp4AaABAg</td>\n",
              "    </tr>\n",
              "    <tr>\n",
              "      <th>4</th>\n",
              "      <td>EBOKYsWUhvI</td>\n",
              "      <td>Pahlwan jante h kuch nhi kr payenge uska</td>\n",
              "      <td>Pahlwan jante h kuch nhi kr payenge uska</td>\n",
              "      <td>jagriti tiwari upp</td>\n",
              "      <td>https://yt3.ggpht.com/ytc/AOPolaRrFnzD2i3N_3rk...</td>\n",
              "      <td>http://www.youtube.com/channel/UCRkcewHFhxE5Kf...</td>\n",
              "      <td>{'value': 'UCRkcewHFhxE5KfLHrLx0wpA'}</td>\n",
              "      <td>True</td>\n",
              "      <td>none</td>\n",
              "      <td>0</td>\n",
              "      <td>2023-06-28T15:10:36Z</td>\n",
              "      <td>2023-06-28T15:10:36Z</td>\n",
              "      <td>None</td>\n",
              "      <td>UgxjuOlDigsmuDu53J54AaABAg</td>\n",
              "    </tr>\n",
              "  </tbody>\n",
              "</table>\n",
              "</div>\n",
              "      <button class=\"colab-df-convert\" onclick=\"convertToInteractive('df-215818c1-1212-427b-ab1a-c29fc7873c39')\"\n",
              "              title=\"Convert this dataframe to an interactive table.\"\n",
              "              style=\"display:none;\">\n",
              "\n",
              "  <svg xmlns=\"http://www.w3.org/2000/svg\" height=\"24px\"viewBox=\"0 0 24 24\"\n",
              "       width=\"24px\">\n",
              "    <path d=\"M0 0h24v24H0V0z\" fill=\"none\"/>\n",
              "    <path d=\"M18.56 5.44l.94 2.06.94-2.06 2.06-.94-2.06-.94-.94-2.06-.94 2.06-2.06.94zm-11 1L8.5 8.5l.94-2.06 2.06-.94-2.06-.94L8.5 2.5l-.94 2.06-2.06.94zm10 10l.94 2.06.94-2.06 2.06-.94-2.06-.94-.94-2.06-.94 2.06-2.06.94z\"/><path d=\"M17.41 7.96l-1.37-1.37c-.4-.4-.92-.59-1.43-.59-.52 0-1.04.2-1.43.59L10.3 9.45l-7.72 7.72c-.78.78-.78 2.05 0 2.83L4 21.41c.39.39.9.59 1.41.59.51 0 1.02-.2 1.41-.59l7.78-7.78 2.81-2.81c.8-.78.8-2.07 0-2.86zM5.41 20L4 18.59l7.72-7.72 1.47 1.35L5.41 20z\"/>\n",
              "  </svg>\n",
              "      </button>\n",
              "\n",
              "\n",
              "\n",
              "    <div id=\"df-ae5ac442-d72b-467b-9f54-5b80d3725cf2\">\n",
              "      <button class=\"colab-df-quickchart\" onclick=\"quickchart('df-ae5ac442-d72b-467b-9f54-5b80d3725cf2')\"\n",
              "              title=\"Suggest charts.\"\n",
              "              style=\"display:none;\">\n",
              "\n",
              "<svg xmlns=\"http://www.w3.org/2000/svg\" height=\"24px\"viewBox=\"0 0 24 24\"\n",
              "     width=\"24px\">\n",
              "    <g>\n",
              "        <path d=\"M19 3H5c-1.1 0-2 .9-2 2v14c0 1.1.9 2 2 2h14c1.1 0 2-.9 2-2V5c0-1.1-.9-2-2-2zM9 17H7v-7h2v7zm4 0h-2V7h2v10zm4 0h-2v-4h2v4z\"/>\n",
              "    </g>\n",
              "</svg>\n",
              "      </button>\n",
              "    </div>\n",
              "\n",
              "<style>\n",
              "  .colab-df-quickchart {\n",
              "    background-color: #E8F0FE;\n",
              "    border: none;\n",
              "    border-radius: 50%;\n",
              "    cursor: pointer;\n",
              "    display: none;\n",
              "    fill: #1967D2;\n",
              "    height: 32px;\n",
              "    padding: 0 0 0 0;\n",
              "    width: 32px;\n",
              "  }\n",
              "\n",
              "  .colab-df-quickchart:hover {\n",
              "    background-color: #E2EBFA;\n",
              "    box-shadow: 0px 1px 2px rgba(60, 64, 67, 0.3), 0px 1px 3px 1px rgba(60, 64, 67, 0.15);\n",
              "    fill: #174EA6;\n",
              "  }\n",
              "\n",
              "  [theme=dark] .colab-df-quickchart {\n",
              "    background-color: #3B4455;\n",
              "    fill: #D2E3FC;\n",
              "  }\n",
              "\n",
              "  [theme=dark] .colab-df-quickchart:hover {\n",
              "    background-color: #434B5C;\n",
              "    box-shadow: 0px 1px 3px 1px rgba(0, 0, 0, 0.15);\n",
              "    filter: drop-shadow(0px 1px 2px rgba(0, 0, 0, 0.3));\n",
              "    fill: #FFFFFF;\n",
              "  }\n",
              "</style>\n",
              "\n",
              "    <script>\n",
              "      async function quickchart(key) {\n",
              "        const containerElement = document.querySelector('#' + key);\n",
              "        const charts = await google.colab.kernel.invokeFunction(\n",
              "            'suggestCharts', [key], {});\n",
              "      }\n",
              "    </script>\n",
              "\n",
              "      <script>\n",
              "\n",
              "function displayQuickchartButton(domScope) {\n",
              "  let quickchartButtonEl =\n",
              "    domScope.querySelector('#df-ae5ac442-d72b-467b-9f54-5b80d3725cf2 button.colab-df-quickchart');\n",
              "  quickchartButtonEl.style.display =\n",
              "    google.colab.kernel.accessAllowed ? 'block' : 'none';\n",
              "}\n",
              "\n",
              "        displayQuickchartButton(document);\n",
              "      </script>\n",
              "      <style>\n",
              "    .colab-df-container {\n",
              "      display:flex;\n",
              "      flex-wrap:wrap;\n",
              "      gap: 12px;\n",
              "    }\n",
              "\n",
              "    .colab-df-convert {\n",
              "      background-color: #E8F0FE;\n",
              "      border: none;\n",
              "      border-radius: 50%;\n",
              "      cursor: pointer;\n",
              "      display: none;\n",
              "      fill: #1967D2;\n",
              "      height: 32px;\n",
              "      padding: 0 0 0 0;\n",
              "      width: 32px;\n",
              "    }\n",
              "\n",
              "    .colab-df-convert:hover {\n",
              "      background-color: #E2EBFA;\n",
              "      box-shadow: 0px 1px 2px rgba(60, 64, 67, 0.3), 0px 1px 3px 1px rgba(60, 64, 67, 0.15);\n",
              "      fill: #174EA6;\n",
              "    }\n",
              "\n",
              "    [theme=dark] .colab-df-convert {\n",
              "      background-color: #3B4455;\n",
              "      fill: #D2E3FC;\n",
              "    }\n",
              "\n",
              "    [theme=dark] .colab-df-convert:hover {\n",
              "      background-color: #434B5C;\n",
              "      box-shadow: 0px 1px 3px 1px rgba(0, 0, 0, 0.15);\n",
              "      filter: drop-shadow(0px 1px 2px rgba(0, 0, 0, 0.3));\n",
              "      fill: #FFFFFF;\n",
              "    }\n",
              "  </style>\n",
              "\n",
              "      <script>\n",
              "        const buttonEl =\n",
              "          document.querySelector('#df-215818c1-1212-427b-ab1a-c29fc7873c39 button.colab-df-convert');\n",
              "        buttonEl.style.display =\n",
              "          google.colab.kernel.accessAllowed ? 'block' : 'none';\n",
              "\n",
              "        async function convertToInteractive(key) {\n",
              "          const element = document.querySelector('#df-215818c1-1212-427b-ab1a-c29fc7873c39');\n",
              "          const dataTable =\n",
              "            await google.colab.kernel.invokeFunction('convertToInteractive',\n",
              "                                                     [key], {});\n",
              "          if (!dataTable) return;\n",
              "\n",
              "          const docLinkHtml = 'Like what you see? Visit the ' +\n",
              "            '<a target=\"_blank\" href=https://colab.research.google.com/notebooks/data_table.ipynb>data table notebook</a>'\n",
              "            + ' to learn more about interactive tables.';\n",
              "          element.innerHTML = '';\n",
              "          dataTable['output_type'] = 'display_data';\n",
              "          await google.colab.output.renderOutput(dataTable, element);\n",
              "          const docLink = document.createElement('div');\n",
              "          docLink.innerHTML = docLinkHtml;\n",
              "          element.appendChild(docLink);\n",
              "        }\n",
              "      </script>\n",
              "    </div>\n",
              "  </div>\n"
            ]
          },
          "metadata": {},
          "execution_count": 5
        }
      ],
      "source": [
        "df.head()"
      ]
    },
    {
      "cell_type": "code",
      "execution_count": 6,
      "metadata": {
        "colab": {
          "base_uri": "https://localhost:8080/"
        },
        "id": "6StKhcR-r-Xo",
        "outputId": "d3e2bd6b-21b7-49c1-832d-31c1561f4a15"
      },
      "outputs": [
        {
          "output_type": "execute_result",
          "data": {
            "text/plain": [
              "(1119948, 14)"
            ]
          },
          "metadata": {},
          "execution_count": 6
        }
      ],
      "source": [
        "df.shape"
      ]
    },
    {
      "cell_type": "markdown",
      "source": [
        "## Data Cleaning\n",
        "- removed `^M`\n",
        "- `\\u200b` char (because of devnagiri script)\n",
        "- header rows appened multiple times\n",
        "- publishedAt has time like 0,1,2 - remove all that\n",
        "- convert text column to string"
      ],
      "metadata": {
        "id": "GTVdPbN5A-Ve"
      }
    },
    {
      "cell_type": "code",
      "source": [
        "header = np.array(df.columns)\n",
        "df = df[~np.all(df.values == header, axis=1)]\n",
        "df = df[~df['videoId'].str.contains(r'\\bvideoId\\b', case=False, regex=True)]\n",
        "pattern = r'^\\d{4}-\\d{2}-\\d{2}T\\d{2}:\\d{2}:\\d{2}Z$'\n",
        "df = df[df['publishedAt'].str.contains(pattern)]"
      ],
      "metadata": {
        "id": "aA9tNxkpBY81"
      },
      "execution_count": 7,
      "outputs": []
    },
    {
      "cell_type": "code",
      "execution_count": 8,
      "metadata": {
        "id": "30kEHTVt0KYd"
      },
      "outputs": [],
      "source": [
        "df['textOriginal'] = df['textOriginal'].astype(str)"
      ]
    },
    {
      "cell_type": "code",
      "execution_count": 9,
      "metadata": {
        "id": "ni1lBX6gv-17"
      },
      "outputs": [],
      "source": [
        "duplicate_rows = df[df.duplicated(subset='textOriginal', keep=False)]"
      ]
    },
    {
      "cell_type": "code",
      "execution_count": 15,
      "metadata": {
        "colab": {
          "base_uri": "https://localhost:8080/"
        },
        "id": "TzPA_-T3w-nH",
        "outputId": "1e42492d-2a44-4fb1-9b7d-97ad777d3834"
      },
      "outputs": [
        {
          "output_type": "execute_result",
          "data": {
            "text/plain": [
              "76258"
            ]
          },
          "metadata": {},
          "execution_count": 15
        }
      ],
      "source": [
        "len(df['textDisplay'].unique())"
      ]
    },
    {
      "cell_type": "code",
      "execution_count": 11,
      "metadata": {
        "id": "LeeIhYkd3gXK"
      },
      "outputs": [],
      "source": [
        "# Now this is strange, the dataset doesnt have duplicate or empty rows, why is this happening? is it some datatype problem?\n",
        "# Lets try to do a simple check for it again"
      ]
    },
    {
      "cell_type": "code",
      "execution_count": 12,
      "metadata": {
        "colab": {
          "base_uri": "https://localhost:8080/"
        },
        "id": "a8L76Dss3qpx",
        "outputId": "630c993a-afe4-4769-d3bb-cf4243ea2777"
      },
      "outputs": [
        {
          "output_type": "stream",
          "name": "stdout",
          "text": [
            "996419\n",
            "996419\n",
            "CPU times: user 52.6 s, sys: 159 ms, total: 52.8 s\n",
            "Wall time: 58.6 s\n"
          ]
        }
      ],
      "source": [
        "%%time\n",
        "count = 0\n",
        "value_list = []\n",
        "for index, row in df.iterrows():\n",
        "    value_list.append(row['textOriginal'])\n",
        "    count+=1\n",
        "print(count)\n",
        "print(len(value_list))"
      ]
    },
    {
      "cell_type": "code",
      "execution_count": 13,
      "metadata": {
        "id": "BLhEpCq15RtT"
      },
      "outputs": [],
      "source": [
        "# This means we are penetrating through the entire dataset. I dont know why pandas is doing that ://\n",
        "# There is one small problem, there is a \\u200b character that is present, we might have to remove that."
      ]
    },
    {
      "cell_type": "markdown",
      "metadata": {
        "id": "aNO6k-Jnz3hc"
      },
      "source": [
        "## Simple Slur List Frequency Count\n",
        "This is a simple frequency count of how many words from the slur list are found in the data.\n",
        "I have stored the results in a dictonary called _'slur_counts'_"
      ]
    },
    {
      "cell_type": "code",
      "execution_count": 16,
      "metadata": {
        "id": "EkBrpqsWr-6J"
      },
      "outputs": [],
      "source": [
        "with open('slur_list.txt', 'r') as file:\n",
        "    slur_words = [word.strip() for word in file.readlines()]"
      ]
    },
    {
      "cell_type": "code",
      "execution_count": 17,
      "metadata": {
        "colab": {
          "base_uri": "https://localhost:8080/"
        },
        "id": "ZdPWuH5Pz_AK",
        "outputId": "764b98b0-8fb1-4257-ec6f-9e080bcb940f"
      },
      "outputs": [
        {
          "output_type": "execute_result",
          "data": {
            "text/plain": [
              "506"
            ]
          },
          "metadata": {},
          "execution_count": 17
        }
      ],
      "source": [
        "len(slur_words)"
      ]
    },
    {
      "cell_type": "code",
      "execution_count": 18,
      "metadata": {
        "id": "GDMtz9mw0j6W"
      },
      "outputs": [],
      "source": [
        "slur_words_set = set(slur_words)"
      ]
    },
    {
      "cell_type": "code",
      "execution_count": 19,
      "metadata": {
        "id": "JpepJ0bI0A0R"
      },
      "outputs": [],
      "source": [
        "# A dictonary to count the frequency of each slur word identified\n",
        "slur_counts_beforeRegex = {}\n",
        "sentence_beforeRegex_list = []"
      ]
    },
    {
      "cell_type": "code",
      "execution_count": 20,
      "metadata": {
        "id": "9i8gF6fS0O4K",
        "colab": {
          "base_uri": "https://localhost:8080/"
        },
        "outputId": "b466af78-df55-44ca-f679-3d578d32d8ea"
      },
      "outputs": [
        {
          "output_type": "stream",
          "name": "stdout",
          "text": [
            "CPU times: user 4.04 s, sys: 12.6 ms, total: 4.06 s\n",
            "Wall time: 4.12 s\n"
          ]
        }
      ],
      "source": [
        "%%time\n",
        "'''\n",
        "for text in df['textOriginal']:\n",
        "    words = text.split()\n",
        "    for word in words:\n",
        "        if word in slur_words:\n",
        "            if word in slur_counts:\n",
        "                slur_counts[word] += 1\n",
        "            else:\n",
        "                slur_counts[word] = 1\n",
        "'''\n",
        "for text in df['textOriginal']:\n",
        "    if text is not None:\n",
        "        words = text.split()\n",
        "        slur_words_in_text = set(words) & slur_words_set\n",
        "        if slur_words_in_text:\n",
        "            if len(sentence_beforeRegex_list)<=100:\n",
        "                sentence_beforeRegex_list.append([text,slur_words_in_text])\n",
        "        for word in slur_words_in_text:\n",
        "            if word in slur_counts_beforeRegex:\n",
        "                slur_counts_beforeRegex[word] += 1\n",
        "            else:\n",
        "                slur_counts_beforeRegex[word] = 1\n",
        "# Problem with code, in set if a user has used the same word multiple times, set will dismiss that."
      ]
    },
    {
      "cell_type": "code",
      "execution_count": 21,
      "metadata": {
        "id": "9KVuST2x0QET"
      },
      "outputs": [],
      "source": [
        "sorted_slur_counts_beforeRegex = dict(sorted(slur_counts_beforeRegex.items(), key=lambda item: item[1], reverse=True))"
      ]
    },
    {
      "cell_type": "code",
      "execution_count": 22,
      "metadata": {
        "id": "NfvjZhJI1M4C",
        "colab": {
          "base_uri": "https://localhost:8080/"
        },
        "outputId": "56f1bc06-444c-454d-fcc3-b375897dbf9f"
      },
      "outputs": [
        {
          "output_type": "execute_result",
          "data": {
            "text/plain": [
              "{'chutiya': 2142,\n",
              " 'chod': 1632,\n",
              " 'chutiye': 1593,\n",
              " 'mc': 1069,\n",
              " 'bsdk': 1049,\n",
              " 'sali': 975,\n",
              " 'gaddar': 939,\n",
              " 'harami': 821,\n",
              " 'बलात्कार': 747,\n",
              " 'stupid': 627,\n",
              " 'गद्दार': 616,\n",
              " 'tatti': 455,\n",
              " 'chamcha': 430,\n",
              " 'fat': 426,\n",
              " 'jihadi': 367,\n",
              " 'balatkar': 361,\n",
              " 'साली': 325,\n",
              " 'हरामी': 300,\n",
              " 'chuda': 293,\n",
              " 'आतंकवादी': 288,\n",
              " 'saali': 252,\n",
              " 'Madarchod': 231,\n",
              " 'chatukar': 225,\n",
              " 'halala': 224,\n",
              " 'bai': 220,\n",
              " 'aatankwadi': 220,\n",
              " 'chamchi': 208,\n",
              " 'chutia': 206,\n",
              " 'चाटुकार': 188,\n",
              " 'slave': 173,\n",
              " 'ugly': 164,\n",
              " 'bhadva': 153,\n",
              " 'Gaand': 143,\n",
              " 'Gandu': 143,\n",
              " 'bhenchod': 131,\n",
              " 'गांड': 116,\n",
              " '---': 110,\n",
              " 'mooh': 109,\n",
              " 'bastard': 104,\n",
              " 'मादरचोद': 101,\n",
              " 'चमची': 99,\n",
              " 'fuck': 99,\n",
              " 'lodu': 91,\n",
              " 'kutti': 90,\n",
              " 'Maderchod': 89,\n",
              " 'सूअर': 83,\n",
              " 'jihadis': 74,\n",
              " 'चमचा': 73,\n",
              " 'रंडी': 72,\n",
              " 'kutiya': 70,\n",
              " 'Gud': 70,\n",
              " 'दोगली': 69,\n",
              " 'chudai': 65,\n",
              " 'Gatiya': 64,\n",
              " 'chakka': 64,\n",
              " 'जिहादी': 63,\n",
              " 'Suar': 62,\n",
              " 'Lodu': 61,\n",
              " 'bazaru': 61,\n",
              " 'चूतिये': 59,\n",
              " 'bhosdiwale': 59,\n",
              " 'Randi': 59,\n",
              " 'burnol': 57,\n",
              " 'mujra': 55,\n",
              " 'भड़वा': 54,\n",
              " 'librandu': 51,\n",
              " 'jhadu': 49,\n",
              " 'Chuslim': 49,\n",
              " 'chutie': 48,\n",
              " 'boobs': 47,\n",
              " 'chakki': 46,\n",
              " 'naali': 45,\n",
              " 'छक्का': 45,\n",
              " 'hutiye': 45,\n",
              " 'पनौती': 45,\n",
              " 'crazy': 44,\n",
              " 'रण्डी': 42,\n",
              " 'pimp': 40,\n",
              " 'hoe': 38,\n",
              " 'Chut': 38,\n",
              " 'कुतिया': 38,\n",
              " 'Halwa': 36,\n",
              " 'हलाला': 35,\n",
              " 'chaka': 33,\n",
              " 'nasty': 32,\n",
              " 'ramdi': 32,\n",
              " 'Gasti': 32,\n",
              " 'Meetha': 32,\n",
              " 'Ms': 31,\n",
              " 'sickular': 29,\n",
              " 'haramjadi': 29,\n",
              " 'Lulli': 26,\n",
              " 'retarded': 26,\n",
              " 'pichwada': 26,\n",
              " 'मूत': 26,\n",
              " 'scumbags': 23,\n",
              " 'Kachra': 23,\n",
              " 'हगना': 22,\n",
              " 'bhootni': 22,\n",
              " 'Jihadis': 22,\n",
              " 'चरित्रहीन': 21,\n",
              " 'Lavde': 21,\n",
              " 'chuchi': 21,\n",
              " 'टट्टी': 20,\n",
              " 'चूस': 19,\n",
              " 'मदरचोद': 18,\n",
              " 'Chinal': 18,\n",
              " 'R@ndi': 17,\n",
              " 'Gaandu': 17,\n",
              " 'Rakhail': 15,\n",
              " 'चूत': 13,\n",
              " 'hagna': 10,\n",
              " 'gadhi': 10,\n",
              " 'रंडीखाना': 9,\n",
              " 'गधी': 9,\n",
              " 'छिनाल': 8,\n",
              " 'Bitch': 8,\n",
              " 'dyan': 8,\n",
              " 'Panauti': 5,\n",
              " 'पिछवाड़ा': 4,\n",
              " 'Simp': 2}"
            ]
          },
          "metadata": {},
          "execution_count": 22
        }
      ],
      "source": [
        "sorted_slur_counts_beforeRegex\n",
        "# list(sorted_slur_counts_beforeRegex.items())[:8]"
      ]
    },
    {
      "cell_type": "code",
      "execution_count": 46,
      "metadata": {
        "colab": {
          "base_uri": "https://localhost:8080/"
        },
        "id": "paUicBFQqVhT",
        "outputId": "f57e1439-fa6e-4e73-c19d-0ef6066a7845"
      },
      "outputs": [
        {
          "output_type": "stream",
          "name": "stdout",
          "text": [
            "22158\n",
            "121\n"
          ]
        }
      ],
      "source": [
        "print(sum(sorted_slur_counts_beforeRegex.values()))\n",
        "print(len(sorted_slur_counts_beforeRegex.keys()))"
      ]
    },
    {
      "cell_type": "code",
      "source": [
        "sentence_beforeRegex_list"
      ],
      "metadata": {
        "colab": {
          "base_uri": "https://localhost:8080/"
        },
        "id": "CHhnANko7G9s",
        "outputId": "858a16af-43e2-4240-ea7e-d8e92b52a779"
      },
      "execution_count": 24,
      "outputs": [
        {
          "output_type": "execute_result",
          "data": {
            "text/plain": [
              "[['bina trial khele sirf ek boyt ke baad Okympic jaane ka mauka mil gaya  Yehi to chahte the ye besharm anpad jaahil jaat pehelwan haryana ke.  \\nSahi me besharmi karo to aisi. \\nThoo bai inpe aur inke jaiso pe. Kabhi nhi sudharenge ye. Inki soch me ki chotapan hai.',\n",
              "  {'bai'}],\n",
              " ['Pahalwano Dharna khatam mat karo Lund Namaziyo ko bahut ummid hai tumse Kahi Dukh me Lund Namazi Puri Lulli hi Naa kaat le 😀😀',\n",
              "  {'Lulli'}],\n",
              " ['bina trial khele sirf ek boyt ke baad Okympic jaane ka mauka mil gaya  Yehi to chahte the ye besharm anpad jaahil jaat pehelwan haryana ke.  \\nSahi me besharmi karo to aisi. \\nThoo bai inpe aur inke jaiso pe. Kabhi nhi sudharenge ye. Inki soch me ki chotapan hai.',\n",
              "  {'bai'}],\n",
              " ['Pahalwano Dharna khatam mat karo Lund Namaziyo ko bahut ummid hai tumse Kahi Dukh me Lund Namazi Puri Lulli hi Naa kaat le 😀😀',\n",
              "  {'Lulli'}],\n",
              " ['This is india i mean randistan Salo dosro ky desh mein bolny sy phly Aurat ke ezat krna sekho bsdk lant aise government py',\n",
              "  {'bsdk'}],\n",
              " [\"Tum lok India ke ho ya Pakistan ki ukrean me fight ke time p jo bharat ke jhanda lekhe rahega aur bharatiye bol3ge unko sahidhilamat Ghar pe chod Diya jayega bol rahe the lekin ye hamare desh me hi Jo bharat ke jhande pakde hue hai unko aise bhlyabhahar mereko tho thik Nehi lagta upar se ye log international level pe bhart ko represent karte hai dhik hai tumhare jiban par dilhi police. U don't have humanity and at last I want to say best of luck keep it up and aise hi karte raho police is for people is proven wrong by you u all are for the politicians and the rich mans others always get punished by you chi chi.\",\n",
              "  {'chod'}],\n",
              " ['Cm se pm tak sab harami hai', {'harami'}],\n",
              " ['Are sharm kro BC police walo humare Desh ke support player h vo chutiya logo mana apni duty kre ho pr tumko saath dena chayiye Inka ulta Inka saath dena chahiye jo tum inko ghaseet rhe ho BC pgl ho kya',\n",
              "  {'chutiya'}],\n",
              " [\"Abe wrestler ho toh kya sale kuch bhi karoge No enter Zone mein protest karoge chutiyapa ka bhi haad hota hai, India gate hai, bhaut sari public area hai tum log Ab medal kyn nhi fank rahe ho, BC Faltu ka Darma, Ab kal ko BC gun leke chalane lag jao ge aur chahte ho Police kuch na kare, Rules and regulations bhi hote hai sala ajeeb chutiya log hai. Jab harassed hue tab nhi bola gaya, 5-6 mahine baad yaad aya ? Bhai sab dikh raha hai Politics hai ye sab.\\n\\nEdit: Parliament is not allowed for normal people to enter only authorised people can enter, and I can't believe in comments section people are so Illiterate they're actually supporting this bullishit, police should have arrested them.\",\n",
              "  {'chutiya'}],\n",
              " ['Chutiya sehar ki chutiya public kabhi metro me to kabhi kahi lekin fir bhi unhe koi matlab nhi sala isse to accha mera village hai❤❤',\n",
              "  {'chutiya'}],\n",
              " [\"Delhi police is so stupid , distracting the focus of the world from the grand spectacle of P.M modi's  high moment going to the new parliament house , to the ruckus with the wrestlers\",\n",
              "  {'stupid'}],\n",
              " ['Raja ko baithaya hai gaddi pr toh raja wali karwahi hi milegi 🙂\\nShame on these stupid and  illiterate politicians!',\n",
              "  {'stupid'}],\n",
              " ['Mother chod police and politicians', {'chod'}],\n",
              " ['jail mey dalo salo ko.champion banke masti chadi hai mc bc ko bsdk',\n",
              "  {'bsdk', 'mc'}],\n",
              " ['kehna ye hai ye players politics kr rahe hai,7 salo se sosan nhi dikha,Har sal sath pic with comfortable position, ab Chunav h to bjp ko Target krana with JNU nara ( modi teri kabar khudegi Aaj nahi to kal) jao Hanuman akhde mei waha sare pehelwan milege practice krte hue, ye jija sali ek hi family h jinhone kabja kara hua hai or naye bacho ko age nhi jane dete,or khud bina trail k Olympic mei jana chahte hai.',\n",
              "  {'sali'}],\n",
              " ['सही कर रहे हैं पुलिस वाले... बेवजह Controversies पैदा करना, आता जाता कुछ है नहीं, बिना मेहनत किए ऑलम्पिक में भेज दो इनको, इतने सालों से wrestling हो रहीं हैं हिन्दुस्तान मे, इनको अब याद आया है कि इनके साथ बलात्कार हुआ था जबर्दस्ती हुई थी, अगर ये ना माने तो डंडे बरसाओ और ये केजरीवाल जैसा कोई नेता बीच में पड़े तो उसके भी दो पिछवाड़े पर',\n",
              "  {'बलात्कार'}],\n",
              " ['wah mere desh ke chutiya police', {'chutiya'}],\n",
              " ['Dekhlo bhai ek pehalwan ki takat 10-10 police wale ki bhi tatti nikal gyi uthane mai🤣🤣🤣',\n",
              "  {'tatti'}],\n",
              " ['Socho Brijbhusan ke samne  Modi ji ka ye haal hai,ki arrest nahi karwa rahe court order hone ke baad bhi to desh ke aam admi ki kitni fat ti hogi Brijbhusan singh se wo bhi jo unke area me rahte hain😢',\n",
              "  {'fat'}],\n",
              " [\"Shocked wrestlers are supposed to obey the law and order of India. I am shocked to note that certain wrestlers cooperated with opposition to paint ugly pictures about BJP. Wrestlers are making politics on their allegations. World watched how wrestlers are using politics to internationalise the issues. Wrestlers are represented by lawyers. Why protest on the New Parliament opening ceremony. What's the agenda? All wrestlers involved should be dismissed from the Wrestlers Association or represent sports in India. Law has to be tough with protesters. BJP will soon release how wrestlers received financial and moral support from opposition.\",\n",
              "  {'ugly'}],\n",
              " ['These stupid police sent by politicians for LO duty, this show how stupid police or force are',\n",
              "  {'stupid'}],\n",
              " [\"What a stupid reporter ?? She is saying - scuffle broke out between police and protester .. is she blind ??? Can't she see police is forcible removing them .. this is not 2 sided scuffle .. just one sided display of power .. did she see any wrestler hitting police ??? If not - how shameless of her to call is scuffle\",\n",
              "  {'stupid'}],\n",
              " ['\\u200b@EmJackbut if law is meaningless, then it meant to be broken. No good supporting stupid laws like that.',\n",
              "  {'stupid'}],\n",
              " ['@gamingonline Abey bo bina national khelke Olympic Main jana chate hain or world champion hone se kya hoga sushil kumar world champion nahin thi kya bo murder kiya tha 😂 world champion hone se kya usko chod denge or sunle unko supreme court ke upar bharosa nahi hain or din main protest ratt main five star hotel main tumari protest hai😂😂😂 or jo Rakesh tikayat hain o sala tent house ke andar ac lagake reheta hai 😁😁😁😁😁',\n",
              "  {'chod'}],\n",
              " ['When wrestling is full mujra 😂', {'mujra'}],\n",
              " ['Parliament me kaun dharna deta hai bsdk', {'bsdk'}],\n",
              " ['@Deepak Kumar kya majburi thi be batana to??kuch bhi analyse matkr le khud se chu tiye.  \\nagar unke pass proof hai to court jao na, road pr q ma a chuda rhe apni??',\n",
              "  {'chuda'}],\n",
              " ['कोई नहीं वोट बीजेपी को ही देना है नहीं तो मुसलमान देश पर कब्जा कर लेगे, कैसे गद्दार हो तुम देशहित मे पिट नहीं सकते, अपने साथ छेड़छाड़ नहीं करा सकते, आदि आदि',\n",
              "  {'गद्दार'}],\n",
              " ['Jai Shree Krishna ❤\\nAab bhagwaan se karna hai inko 😂\\nLado kabhi bhi jihadi Sarkar nahi banegi aab Krishna Vasudev ne than lia hai Jaiii HOOOO ❤❤❤',\n",
              "  {'jihadi'}],\n",
              " ['Is media h dekho sali chutia..', {'sali'}],\n",
              " [\"Don't impose your stupid opinion . Keep it to yourself.\", {'stupid'}],\n",
              " ['Thoko inko yea wrestler nehi gaddar hai in gaddaro say pura award wapas liya jaye aur jin jin gaddaro ko govt nay job diya hai turant laat maar k nikalo paisa sud samet wapas lay liya jayea aur in gaddaro ko ban kar diya jayea',\n",
              "  {'gaddar'}],\n",
              " [\"This is ur peaceful protest/march? On this day? What drastic happened in a day to basically break clear line of security baricades where u know what was happening there? Next will u do this in middle of republic day parade?? And call it freedom of expression?? Vandalizing Red Fort was peaceful protest too?? Either u think everyone is dumb or u are. If u can't see or understand what's going on, don't bother commenting 🙄\\n\\nAlso giving plans to create more nuisance discreetly?? Have some shame. Not everyone is stupid enough to not understand the intensions 🙄\",\n",
              "  {'stupid'}],\n",
              " ['\\u200b@Rahul Sharmajust cause the retarded govt says so?', {'retarded'}],\n",
              " ['\\u200b@Darshan Mhatre register hoga tab na ladega apne bap ko bol ke ispe kuch bole aur jo khalistani ka excuse de raha h andbhakth yesa hota to ye wrestlers aap congress reject na karti bhadwe samjha aur reply karne ayya to tera location nikal wa ke tere khandan ko chodne ke liye log bhejunga andbhakth bhag bsdk',\n",
              "  {'bsdk'}],\n",
              " ['Maderchod sarkar', {'Maderchod'}],\n",
              " ['\\u200b@Sayantan Das kyun ki tum chutia ho bass case chal raha bsdk protest kr ke gand marwa reh madrchod ur wo bhi parliament inauguration ke sin😊',\n",
              "  {'bsdk', 'chutia'}],\n",
              " ['RAAJA ji apne chod me ghum rahe hai mast.. sharam ani chahia Jo log BJP ko vote dete hai',\n",
              "  {'chod'}],\n",
              " ['@Nightmare Reality Haan tum jaise kutte toh mahilao ke kapde hi fat te dekhna chahte ho. Shree Ram hote toh tumhare Brijbhushan sar dhadh se alag hota.',\n",
              "  {'fat'}],\n",
              " ['bina trial khele sirf ek boyt ke baad Okympic jaane ka mauka mil gaya  Yehi to chahte the ye besharm anpad jaahil jaat pehelwan haryana ke.  \\nSahi me besharmi karo to aisi. \\nThoo bai inpe aur inke jaiso pe. Kabhi nhi sudharenge ye. Inki soch me ki chotapan hai.',\n",
              "  {'bai'}],\n",
              " ['Pahalwano Dharna khatam mat karo Lund Namaziyo ko bahut ummid hai tumse Kahi Dukh me Lund Namazi Puri Lulli hi Naa kaat le 😀😀',\n",
              "  {'Lulli'}],\n",
              " ['This is india i mean randistan Salo dosro ky desh mein bolny sy phly Aurat ke ezat krna sekho bsdk lant aise government py',\n",
              "  {'bsdk'}],\n",
              " [\"Tum lok India ke ho ya Pakistan ki ukrean me fight ke time p jo bharat ke jhanda lekhe rahega aur bharatiye bol3ge unko sahidhilamat Ghar pe chod Diya jayega bol rahe the lekin ye hamare desh me hi Jo bharat ke jhande pakde hue hai unko aise bhlyabhahar mereko tho thik Nehi lagta upar se ye log international level pe bhart ko represent karte hai dhik hai tumhare jiban par dilhi police. U don't have humanity and at last I want to say best of luck keep it up and aise hi karte raho police is for people is proven wrong by you u all are for the politicians and the rich mans others always get punished by you chi chi.\",\n",
              "  {'chod'}],\n",
              " ['Cm se pm tak sab harami hai', {'harami'}],\n",
              " ['Are sharm kro BC police walo humare Desh ke support player h vo chutiya logo mana apni duty kre ho pr tumko saath dena chayiye Inka ulta Inka saath dena chahiye jo tum inko ghaseet rhe ho BC pgl ho kya',\n",
              "  {'chutiya'}],\n",
              " [\"Abe wrestler ho toh kya sale kuch bhi karoge No enter Zone mein protest karoge chutiyapa ka bhi haad hota hai, India gate hai, bhaut sari public area hai tum log Ab medal kyn nhi fank rahe ho, BC Faltu ka Darma, Ab kal ko BC gun leke chalane lag jao ge aur chahte ho Police kuch na kare, Rules and regulations bhi hote hai sala ajeeb chutiya log hai. Jab harassed hue tab nhi bola gaya, 5-6 mahine baad yaad aya ? Bhai sab dikh raha hai Politics hai ye sab.\\n\\nEdit: Parliament is not allowed for normal people to enter only authorised people can enter, and I can't believe in comments section people are so Illiterate they're actually supporting this bullishit, police should have arrested them.\",\n",
              "  {'chutiya'}],\n",
              " ['Chutiya sehar ki chutiya public kabhi metro me to kabhi kahi lekin fir bhi unhe koi matlab nhi sala isse to accha mera village hai❤❤',\n",
              "  {'chutiya'}],\n",
              " [\"Delhi police is so stupid , distracting the focus of the world from the grand spectacle of P.M modi's  high moment going to the new parliament house , to the ruckus with the wrestlers\",\n",
              "  {'stupid'}],\n",
              " ['Raja ko baithaya hai gaddi pr toh raja wali karwahi hi milegi 🙂\\nShame on these stupid and  illiterate politicians!',\n",
              "  {'stupid'}],\n",
              " ['Mother chod police and politicians', {'chod'}],\n",
              " ['jail mey dalo salo ko.champion banke masti chadi hai mc bc ko bsdk',\n",
              "  {'bsdk', 'mc'}],\n",
              " ['kehna ye hai ye players politics kr rahe hai,7 salo se sosan nhi dikha,Har sal sath pic with comfortable position, ab Chunav h to bjp ko Target krana with JNU nara ( modi teri kabar khudegi Aaj nahi to kal) jao Hanuman akhde mei waha sare pehelwan milege practice krte hue, ye jija sali ek hi family h jinhone kabja kara hua hai or naye bacho ko age nhi jane dete,or khud bina trail k Olympic mei jana chahte hai.',\n",
              "  {'sali'}],\n",
              " ['सही कर रहे हैं पुलिस वाले... बेवजह Controversies पैदा करना, आता जाता कुछ है नहीं, बिना मेहनत किए ऑलम्पिक में भेज दो इनको, इतने सालों से wrestling हो रहीं हैं हिन्दुस्तान मे, इनको अब याद आया है कि इनके साथ बलात्कार हुआ था जबर्दस्ती हुई थी, अगर ये ना माने तो डंडे बरसाओ और ये केजरीवाल जैसा कोई नेता बीच में पड़े तो उसके भी दो पिछवाड़े पर',\n",
              "  {'बलात्कार'}],\n",
              " ['wah mere desh ke chutiya police', {'chutiya'}],\n",
              " ['Dekhlo bhai ek pehalwan ki takat 10-10 police wale ki bhi tatti nikal gyi uthane mai🤣🤣🤣',\n",
              "  {'tatti'}],\n",
              " ['Socho Brijbhusan ke samne  Modi ji ka ye haal hai,ki arrest nahi karwa rahe court order hone ke baad bhi to desh ke aam admi ki kitni fat ti hogi Brijbhusan singh se wo bhi jo unke area me rahte hain😢',\n",
              "  {'fat'}],\n",
              " [\"Shocked wrestlers are supposed to obey the law and order of India. I am shocked to note that certain wrestlers cooperated with opposition to paint ugly pictures about BJP. Wrestlers are making politics on their allegations. World watched how wrestlers are using politics to internationalise the issues. Wrestlers are represented by lawyers. Why protest on the New Parliament opening ceremony. What's the agenda? All wrestlers involved should be dismissed from the Wrestlers Association or represent sports in India. Law has to be tough with protesters. BJP will soon release how wrestlers received financial and moral support from opposition.\",\n",
              "  {'ugly'}],\n",
              " ['These stupid police sent by politicians for LO duty, this show how stupid police or force are',\n",
              "  {'stupid'}],\n",
              " [\"What a stupid reporter ?? She is saying - scuffle broke out between police and protester .. is she blind ??? Can't she see police is forcible removing them .. this is not 2 sided scuffle .. just one sided display of power .. did she see any wrestler hitting police ??? If not - how shameless of her to call is scuffle\",\n",
              "  {'stupid'}],\n",
              " ['\\u200b@EmJackbut if law is meaningless, then it meant to be broken. No good supporting stupid laws like that.',\n",
              "  {'stupid'}],\n",
              " ['@gamingonline Abey bo bina national khelke Olympic Main jana chate hain or world champion hone se kya hoga sushil kumar world champion nahin thi kya bo murder kiya tha 😂 world champion hone se kya usko chod denge or sunle unko supreme court ke upar bharosa nahi hain or din main protest ratt main five star hotel main tumari protest hai😂😂😂 or jo Rakesh tikayat hain o sala tent house ke andar ac lagake reheta hai 😁😁😁😁😁',\n",
              "  {'chod'}],\n",
              " ['When wrestling is full mujra 😂', {'mujra'}],\n",
              " ['Parliament me kaun dharna deta hai bsdk', {'bsdk'}],\n",
              " ['@Deepak Kumar kya majburi thi be batana to??kuch bhi analyse matkr le khud se chu tiye.  \\nagar unke pass proof hai to court jao na, road pr q ma a chuda rhe apni??',\n",
              "  {'chuda'}],\n",
              " ['कोई नहीं वोट बीजेपी को ही देना है नहीं तो मुसलमान देश पर कब्जा कर लेगे, कैसे गद्दार हो तुम देशहित मे पिट नहीं सकते, अपने साथ छेड़छाड़ नहीं करा सकते, आदि आदि',\n",
              "  {'गद्दार'}],\n",
              " ['Jai Shree Krishna ❤\\nAab bhagwaan se karna hai inko 😂\\nLado kabhi bhi jihadi Sarkar nahi banegi aab Krishna Vasudev ne than lia hai Jaiii HOOOO ❤❤❤',\n",
              "  {'jihadi'}],\n",
              " ['Is media h dekho sali chutia..', {'sali'}],\n",
              " [\"Don't impose your stupid opinion . Keep it to yourself.\", {'stupid'}],\n",
              " ['Thoko inko yea wrestler nehi gaddar hai in gaddaro say pura award wapas liya jaye aur jin jin gaddaro ko govt nay job diya hai turant laat maar k nikalo paisa sud samet wapas lay liya jayea aur in gaddaro ko ban kar diya jayea',\n",
              "  {'gaddar'}],\n",
              " [\"This is ur peaceful protest/march? On this day? What drastic happened in a day to basically break clear line of security baricades where u know what was happening there? Next will u do this in middle of republic day parade?? And call it freedom of expression?? Vandalizing Red Fort was peaceful protest too?? Either u think everyone is dumb or u are. If u can't see or understand what's going on, don't bother commenting 🙄\\n\\nAlso giving plans to create more nuisance discreetly?? Have some shame. Not everyone is stupid enough to not understand the intensions 🙄\",\n",
              "  {'stupid'}],\n",
              " ['\\u200b@Rahul Sharmajust cause the retarded govt says so?', {'retarded'}],\n",
              " ['\\u200b@Darshan Mhatre register hoga tab na ladega apne bap ko bol ke ispe kuch bole aur jo khalistani ka excuse de raha h andbhakth yesa hota to ye wrestlers aap congress reject na karti bhadwe samjha aur reply karne ayya to tera location nikal wa ke tere khandan ko chodne ke liye log bhejunga andbhakth bhag bsdk',\n",
              "  {'bsdk'}],\n",
              " ['Maderchod sarkar', {'Maderchod'}],\n",
              " ['\\u200b@Sayantan Das kyun ki tum chutia ho bass case chal raha bsdk protest kr ke gand marwa reh madrchod ur wo bhi parliament inauguration ke sin😊',\n",
              "  {'bsdk', 'chutia'}],\n",
              " ['RAAJA ji apne chod me ghum rahe hai mast.. sharam ani chahia Jo log BJP ko vote dete hai',\n",
              "  {'chod'}],\n",
              " ['@Nightmare Reality Haan tum jaise kutte toh mahilao ke kapde hi fat te dekhna chahte ho. Shree Ram hote toh tumhare Brijbhushan sar dhadh se alag hota.',\n",
              "  {'fat'}],\n",
              " ['Bsdk jab court hi jaana tha toh itni rajneeti kyo kiye .. public ko chutiya banana band karo saari party ab😠',\n",
              "  {'chutiya'}],\n",
              " ['bina trial khele sirf ek boyt ke baad Okympic jaane ka mauka mil gaya  Yehi to chahte the ye besharm anpad jaahil jaat pehelwan haryana ke.  \\nSahi me besharmi karo to aisi. \\nThoo bai inpe aur inke jaiso pe. Kabhi nhi sudharenge ye. Inki soch me ki chotapan hai.',\n",
              "  {'bai'}],\n",
              " ['Pahalwano Dharna khatam mat karo Lund Namaziyo ko bahut ummid hai tumse Kahi Dukh me Lund Namazi Puri Lulli hi Naa kaat le 😀😀',\n",
              "  {'Lulli'}],\n",
              " ['This is india i mean randistan Salo dosro ky desh mein bolny sy phly Aurat ke ezat krna sekho bsdk lant aise government py',\n",
              "  {'bsdk'}],\n",
              " [\"Tum lok India ke ho ya Pakistan ki ukrean me fight ke time p jo bharat ke jhanda lekhe rahega aur bharatiye bol3ge unko sahidhilamat Ghar pe chod Diya jayega bol rahe the lekin ye hamare desh me hi Jo bharat ke jhande pakde hue hai unko aise bhlyabhahar mereko tho thik Nehi lagta upar se ye log international level pe bhart ko represent karte hai dhik hai tumhare jiban par dilhi police. U don't have humanity and at last I want to say best of luck keep it up and aise hi karte raho police is for people is proven wrong by you u all are for the politicians and the rich mans others always get punished by you chi chi.\",\n",
              "  {'chod'}],\n",
              " ['Cm se pm tak sab harami hai', {'harami'}],\n",
              " ['Are sharm kro BC police walo humare Desh ke support player h vo chutiya logo mana apni duty kre ho pr tumko saath dena chayiye Inka ulta Inka saath dena chahiye jo tum inko ghaseet rhe ho BC pgl ho kya',\n",
              "  {'chutiya'}],\n",
              " [\"Abe wrestler ho toh kya sale kuch bhi karoge No enter Zone mein protest karoge chutiyapa ka bhi haad hota hai, India gate hai, bhaut sari public area hai tum log Ab medal kyn nhi fank rahe ho, BC Faltu ka Darma, Ab kal ko BC gun leke chalane lag jao ge aur chahte ho Police kuch na kare, Rules and regulations bhi hote hai sala ajeeb chutiya log hai. Jab harassed hue tab nhi bola gaya, 5-6 mahine baad yaad aya ? Bhai sab dikh raha hai Politics hai ye sab.\\n\\nEdit: Parliament is not allowed for normal people to enter only authorised people can enter, and I can't believe in comments section people are so Illiterate they're actually supporting this bullishit, police should have arrested them.\",\n",
              "  {'chutiya'}],\n",
              " ['Chutiya sehar ki chutiya public kabhi metro me to kabhi kahi lekin fir bhi unhe koi matlab nhi sala isse to accha mera village hai❤❤',\n",
              "  {'chutiya'}],\n",
              " [\"Delhi police is so stupid , distracting the focus of the world from the grand spectacle of P.M modi's  high moment going to the new parliament house , to the ruckus with the wrestlers\",\n",
              "  {'stupid'}],\n",
              " ['Raja ko baithaya hai gaddi pr toh raja wali karwahi hi milegi 🙂\\nShame on these stupid and  illiterate politicians!',\n",
              "  {'stupid'}],\n",
              " ['Mother chod police and politicians', {'chod'}],\n",
              " ['jail mey dalo salo ko.champion banke masti chadi hai mc bc ko bsdk',\n",
              "  {'bsdk', 'mc'}],\n",
              " ['kehna ye hai ye players politics kr rahe hai,7 salo se sosan nhi dikha,Har sal sath pic with comfortable position, ab Chunav h to bjp ko Target krana with JNU nara ( modi teri kabar khudegi Aaj nahi to kal) jao Hanuman akhde mei waha sare pehelwan milege practice krte hue, ye jija sali ek hi family h jinhone kabja kara hua hai or naye bacho ko age nhi jane dete,or khud bina trail k Olympic mei jana chahte hai.',\n",
              "  {'sali'}],\n",
              " ['सही कर रहे हैं पुलिस वाले... बेवजह Controversies पैदा करना, आता जाता कुछ है नहीं, बिना मेहनत किए ऑलम्पिक में भेज दो इनको, इतने सालों से wrestling हो रहीं हैं हिन्दुस्तान मे, इनको अब याद आया है कि इनके साथ बलात्कार हुआ था जबर्दस्ती हुई थी, अगर ये ना माने तो डंडे बरसाओ और ये केजरीवाल जैसा कोई नेता बीच में पड़े तो उसके भी दो पिछवाड़े पर',\n",
              "  {'बलात्कार'}],\n",
              " ['wah mere desh ke chutiya police', {'chutiya'}],\n",
              " ['Dekhlo bhai ek pehalwan ki takat 10-10 police wale ki bhi tatti nikal gyi uthane mai🤣🤣🤣',\n",
              "  {'tatti'}],\n",
              " ['Socho Brijbhusan ke samne  Modi ji ka ye haal hai,ki arrest nahi karwa rahe court order hone ke baad bhi to desh ke aam admi ki kitni fat ti hogi Brijbhusan singh se wo bhi jo unke area me rahte hain😢',\n",
              "  {'fat'}],\n",
              " [\"Shocked wrestlers are supposed to obey the law and order of India. I am shocked to note that certain wrestlers cooperated with opposition to paint ugly pictures about BJP. Wrestlers are making politics on their allegations. World watched how wrestlers are using politics to internationalise the issues. Wrestlers are represented by lawyers. Why protest on the New Parliament opening ceremony. What's the agenda? All wrestlers involved should be dismissed from the Wrestlers Association or represent sports in India. Law has to be tough with protesters. BJP will soon release how wrestlers received financial and moral support from opposition.\",\n",
              "  {'ugly'}],\n",
              " ['These stupid police sent by politicians for LO duty, this show how stupid police or force are',\n",
              "  {'stupid'}],\n",
              " [\"What a stupid reporter ?? She is saying - scuffle broke out between police and protester .. is she blind ??? Can't she see police is forcible removing them .. this is not 2 sided scuffle .. just one sided display of power .. did she see any wrestler hitting police ??? If not - how shameless of her to call is scuffle\",\n",
              "  {'stupid'}],\n",
              " ['\\u200b@EmJackbut if law is meaningless, then it meant to be broken. No good supporting stupid laws like that.',\n",
              "  {'stupid'}],\n",
              " ['@gamingonline Abey bo bina national khelke Olympic Main jana chate hain or world champion hone se kya hoga sushil kumar world champion nahin thi kya bo murder kiya tha 😂 world champion hone se kya usko chod denge or sunle unko supreme court ke upar bharosa nahi hain or din main protest ratt main five star hotel main tumari protest hai😂😂😂 or jo Rakesh tikayat hain o sala tent house ke andar ac lagake reheta hai 😁😁😁😁😁',\n",
              "  {'chod'}],\n",
              " ['When wrestling is full mujra 😂', {'mujra'}],\n",
              " ['Parliament me kaun dharna deta hai bsdk', {'bsdk'}]]"
            ]
          },
          "metadata": {},
          "execution_count": 24
        }
      ]
    },
    {
      "cell_type": "code",
      "execution_count": 25,
      "metadata": {
        "colab": {
          "base_uri": "https://localhost:8080/",
          "height": 53
        },
        "id": "3Ki8OyVH1h0Y",
        "outputId": "5ad2686d-3206-48c4-bc65-c6af38692db1"
      },
      "outputs": [
        {
          "output_type": "execute_result",
          "data": {
            "text/plain": [
              "'\\nOne thing is clear from this, all the explicit words that are in english are not there in the list,\\nthis means youtube either deletes them or hides them. And the moderation for local vernacular language is weak.\\n'"
            ],
            "application/vnd.google.colaboratory.intrinsic+json": {
              "type": "string"
            }
          },
          "metadata": {},
          "execution_count": 25
        }
      ],
      "source": [
        "'''\n",
        "One thing is clear from this, all the explicit words that are in english are not there in the list,\n",
        "this means youtube either deletes them or hides them. And the moderation for local vernacular language is weak.\n",
        "'''"
      ]
    },
    {
      "cell_type": "markdown",
      "metadata": {
        "id": "Gf_9F-ZOs7GX"
      },
      "source": [
        "# Regex\n",
        "What is a Regex? -> a sequence of characters that specifies a match pattern in text.\n",
        "\n",
        "**Step 1** - Clean and Preprocess the Data\n",
        "1.   Remove User Names - `r'@\\w+\\b'`\n",
        "2.   Remove URL's and unecessary puntuation marks - `[^\\w\\s.]|http\\S+|www\\S+|https\\S+`\n",
        "3.  Remove Double spaces - `r'\\s+', ' '`\n",
        "4.  Remove any leading or trailing spaces - `.strip()`\n",
        "\n"
      ]
    },
    {
      "cell_type": "code",
      "execution_count": 26,
      "metadata": {
        "id": "9aV5NzMgQGGt"
      },
      "outputs": [],
      "source": [
        "text = \"@user, temp, temp, ;;;;;;;; I hate the offensive and racist comments\\n\\n\\n. They disgust me. Visit https://example.com for more information.\""
      ]
    },
    {
      "cell_type": "code",
      "execution_count": 27,
      "metadata": {
        "id": "N_PB_pscRk7M"
      },
      "outputs": [],
      "source": [
        "def clean_text(text):\n",
        "    cleaned_text = re.sub(r'@\\w+\\b|[^\\w\\s.]|(?:https?|ftp)://\\S+|www.\\S+', '', text).replace('\\n', '').strip()\n",
        "    cleaned_text = re.sub(r'\\s+', ' ', cleaned_text)\n",
        "    return cleaned_text"
      ]
    },
    {
      "cell_type": "code",
      "execution_count": 28,
      "metadata": {
        "colab": {
          "base_uri": "https://localhost:8080/"
        },
        "id": "hnQA427sRlD2",
        "outputId": "1e06097a-3b73-4f81-8811-2259e442735e"
      },
      "outputs": [
        {
          "output_type": "stream",
          "name": "stdout",
          "text": [
            "temp temp I hate the offensive and racist comments. They disgust me. Visit for more information.\n"
          ]
        }
      ],
      "source": [
        "print(clean_text(text))"
      ]
    },
    {
      "cell_type": "code",
      "execution_count": 29,
      "metadata": {
        "id": "IflpecuSYyIj"
      },
      "outputs": [],
      "source": [
        "regexDf = df[['textOriginal']]"
      ]
    },
    {
      "cell_type": "code",
      "execution_count": 30,
      "metadata": {
        "colab": {
          "base_uri": "https://localhost:8080/"
        },
        "id": "WtblBbYxaYI_",
        "outputId": "ac02889c-5400-4d77-9977-e20a1d776197"
      },
      "outputs": [
        {
          "output_type": "stream",
          "name": "stderr",
          "text": [
            "<ipython-input-30-547ff038857b>:2: SettingWithCopyWarning: \n",
            "A value is trying to be set on a copy of a slice from a DataFrame.\n",
            "Try using .loc[row_indexer,col_indexer] = value instead\n",
            "\n",
            "See the caveats in the documentation: https://pandas.pydata.org/pandas-docs/stable/user_guide/indexing.html#returning-a-view-versus-a-copy\n",
            "  regexDf['textOriginal'] = regexDf['textOriginal'].apply(lambda x: clean_text(x))\n"
          ]
        }
      ],
      "source": [
        "# clean text\n",
        "regexDf['textOriginal'] = regexDf['textOriginal'].apply(lambda x: clean_text(x))"
      ]
    },
    {
      "cell_type": "markdown",
      "metadata": {
        "id": "LPEhnFZt3CZx"
      },
      "source": [
        "### Just check the count of words from the slur list ignoring case (upper or lower) of the word. We also look if any word from the slur list is present as a sub-string of any other word in the dataset.\n",
        "\n",
        "1.   `re.findall()` - searches for all non-overlapping occurrences of a pattern in a given text.\n",
        "2.   `(?i)` - make matching case-insenstive\n",
        "3.  `'(' + '|'.join(slur_words) + r')'` - find a pattern that matches any of the slur words"
      ]
    },
    {
      "cell_type": "code",
      "source": [
        "slur_counts_afterRegex = {}\n",
        "sentence_afterRegex_list = []"
      ],
      "metadata": {
        "id": "ZDyzKHQ97nyP"
      },
      "execution_count": 38,
      "outputs": []
    },
    {
      "cell_type": "code",
      "execution_count": 39,
      "metadata": {
        "colab": {
          "base_uri": "https://localhost:8080/"
        },
        "id": "3ko9uzVxcC6z",
        "outputId": "b14c5f21-338f-4949-b144-dacd50d74189"
      },
      "outputs": [
        {
          "output_type": "stream",
          "name": "stdout",
          "text": [
            "CPU times: user 5min 23s, sys: 785 ms, total: 5min 24s\n",
            "Wall time: 5min 32s\n"
          ]
        }
      ],
      "source": [
        "%%time\n",
        "for index, row in regexDf.iterrows():\n",
        "    text = row['textOriginal']\n",
        "    matches = re.findall(r\"(?i)\\b(\" + '|'.join(slur_words) + r\")\\b\", text)\n",
        "    # matches = re.findall(r'(?i)(' + '|'.join(slur_words) + r')', text)\n",
        "    if matches:\n",
        "        if len(sentence_afterRegex_list) <= 100:\n",
        "            sentence_afterRegex_list.append([text, matches])\n",
        "    for match in matches:\n",
        "        slur_counts_afterRegex[match] = slur_counts_afterRegex.get(match, 0) + 1"
      ]
    },
    {
      "cell_type": "code",
      "execution_count": 40,
      "metadata": {
        "id": "99la6tMI0rMb",
        "colab": {
          "base_uri": "https://localhost:8080/"
        },
        "outputId": "3171541e-8c0b-482c-b852-67d061f1e185"
      },
      "outputs": [
        {
          "output_type": "execute_result",
          "data": {
            "text/plain": [
              "{'bai': 220,\n",
              " 'chut': 379,\n",
              " 'Lulli': 26,\n",
              " 'bsdk': 1158,\n",
              " 'MC': 439,\n",
              " 'chod': 1695,\n",
              " 'harami': 939,\n",
              " 'Harami': 183,\n",
              " 'chutiya': 2418,\n",
              " 'gud': 176,\n",
              " 'Chutiya': 822,\n",
              " 'stupid': 699,\n",
              " 'randi': 392,\n",
              " 'madarchod': 774,\n",
              " 'mc': 1197,\n",
              " 'sali': 979,\n",
              " 'tatti': 468,\n",
              " 'fat': 428,\n",
              " 'Tukde tukde gang': 108,\n",
              " 'ugly': 191,\n",
              " 'lulli': 41,\n",
              " 'mujra': 55,\n",
              " 'gaddar': 1069,\n",
              " 'chuda': 303,\n",
              " 'Librandu': 171,\n",
              " 'jihadi': 439,\n",
              " 'chutia': 302,\n",
              " 'retarded': 26,\n",
              " 'Maderchod': 89,\n",
              " 'CRAZY': 37,\n",
              " 'gaand': 811,\n",
              " 'Jihadi': 74,\n",
              " 'gatiya': 266,\n",
              " 'Bsdk': 421,\n",
              " 'bastard': 137,\n",
              " 'Mc': 490,\n",
              " 'chamcha': 472,\n",
              " 'crazy': 118,\n",
              " 'aatankwadi': 256,\n",
              " 'GADDAR': 89,\n",
              " 'CHUDAIL': 21,\n",
              " 'Bai': 69,\n",
              " 'chatukar': 237,\n",
              " 'Ms': 43,\n",
              " 'chamchi': 179,\n",
              " 'bhenchod': 131,\n",
              " 'kutiya': 70,\n",
              " 'sickular': 29,\n",
              " 'gandu': 459,\n",
              " 'suar': 526,\n",
              " 'balatkar': 386,\n",
              " 'Stupid': 107,\n",
              " 'chutiye': 1746,\n",
              " 'pichwada': 26,\n",
              " 'victim card': 548,\n",
              " 'MS': 17,\n",
              " 'Fuck': 77,\n",
              " 'burnol': 87,\n",
              " 'bhadva': 153,\n",
              " 'Victim card': 46,\n",
              " 'chakki': 46,\n",
              " 'Chutiye': 105,\n",
              " 'BASTARD': 10,\n",
              " 'kachra': 71,\n",
              " 'halwa': 47,\n",
              " 'Tatti': 43,\n",
              " 'halala': 252,\n",
              " 'Gud': 70,\n",
              " 'Halwa': 36,\n",
              " 'maderchod': 139,\n",
              " 'Gaddar': 249,\n",
              " 'Chamcha': 70,\n",
              " 'lavde': 169,\n",
              " 'Chutia': 43,\n",
              " 'fuck': 138,\n",
              " 'Gaand': 143,\n",
              " 'tukde tukde gang': 370,\n",
              " 'Balatkar': 41,\n",
              " 'Gatiya': 64,\n",
              " 'slave': 184,\n",
              " 'drama queen': 17,\n",
              " 'Gandu': 143,\n",
              " 'Saali': 44,\n",
              " 'hagna': 10,\n",
              " 'LOVEJIHAD': 10,\n",
              " 'PIMP': 34,\n",
              " 'gasti': 10,\n",
              " 'saali': 252,\n",
              " 'Tukde Tukde gang': 21,\n",
              " 'lodu': 116,\n",
              " 'Madarchod': 231,\n",
              " 'Suar': 62,\n",
              " 'gaandu': 64,\n",
              " 'BSDK': 15,\n",
              " 'hutiye': 55,\n",
              " 'FUCK': 23,\n",
              " 'gadhi': 10,\n",
              " 'jihadis': 74,\n",
              " 'TUKDE TUKDE GANG': 2,\n",
              " 'pimp': 40,\n",
              " 'Crazy': 20,\n",
              " 'whore': 1,\n",
              " 'Fat': 25,\n",
              " 'bitch': 60,\n",
              " 'STUPID': 33,\n",
              " 'RAKHAIL': 130,\n",
              " 'meetha': 8,\n",
              " 'Bhadva': 24,\n",
              " 'chaka': 41,\n",
              " 'mooh': 109,\n",
              " 'JIHADI': 21,\n",
              " 'bhosdiwale': 60,\n",
              " 'Lavde': 21,\n",
              " 'chuslim': 103,\n",
              " 'ms': 16,\n",
              " 'katwa': 20,\n",
              " 'LAVDE': 7,\n",
              " 'Lodu': 29,\n",
              " 'Bhosdiwale': 26,\n",
              " 'hoe': 70,\n",
              " 'chakko': 10,\n",
              " 'Kutti': 57,\n",
              " 'kutti': 90,\n",
              " 'naali': 45,\n",
              " 'mulli': 10,\n",
              " 'scumbags': 23,\n",
              " 'Sali': 188,\n",
              " 'Hilana': 5,\n",
              " 'Pagal aurat': 2,\n",
              " 'Simp': 2,\n",
              " 'Chut': 38,\n",
              " 'nasty': 32,\n",
              " 'Mooh': 69,\n",
              " 'jhadu': 49,\n",
              " 'GANDU': 32,\n",
              " 'chudai': 65,\n",
              " 'chutie': 48,\n",
              " 'ramdi': 32,\n",
              " 'chakka': 64,\n",
              " 'TATTI': 40,\n",
              " 'Gasti': 32,\n",
              " 'Tukde tukde Gang': 53,\n",
              " 'rakhail': 163,\n",
              " 'CHAMCHA': 29,\n",
              " 'Chamchi': 58,\n",
              " 'librandu': 97,\n",
              " 'pagal Aurat': 29,\n",
              " 'Victim Card': 29,\n",
              " 'Gadhi': 55,\n",
              " 'haramjadi': 29,\n",
              " 'chudail': 37,\n",
              " 'Tukde Tukde Gang': 29,\n",
              " 'Kachra': 23,\n",
              " 'pataka': 17,\n",
              " 'Chod': 79,\n",
              " 'Whore': 17,\n",
              " 'Randi': 59,\n",
              " 'bhimta': 15,\n",
              " 'bazaru': 61,\n",
              " 'Drama queen': 239,\n",
              " 'SAALI': 1,\n",
              " 'TUKDE TUKDE gang': 2,\n",
              " 'Chakka': 32,\n",
              " 'Chuslim': 49,\n",
              " 'Meetha': 32,\n",
              " 'Aatankwadi': 50,\n",
              " 'CHAKA': 32,\n",
              " 'Jihadis': 44,\n",
              " 'bhootni': 22,\n",
              " 'chinal': 28,\n",
              " 'chuchi': 42,\n",
              " 'Presstitutes': 17,\n",
              " 'presstitutes': 25,\n",
              " 'Gaandu': 17,\n",
              " 'Rakhail': 15,\n",
              " 'Bitch': 8,\n",
              " 'Chatukar': 9,\n",
              " 'panauti': 42,\n",
              " 'tawaif': 16,\n",
              " 'PUKE': 8,\n",
              " 'Burnol': 8,\n",
              " 'battameez': 8,\n",
              " 'Panauti': 5,\n",
              " 'chalu aurat': 3,\n",
              " 'ghatiya aurat': 2,\n",
              " 'dyan': 8,\n",
              " 'boobs': 47,\n",
              " 'Loosu': 31,\n",
              " 'FemiNazi': 31,\n",
              " 'CHOD': 36,\n",
              " 'HARAMI': 18,\n",
              " 'Dyan': 18,\n",
              " 'Halala': 34,\n",
              " 'BURNOL': 18,\n",
              " 'Chinal': 18,\n",
              " 'victim Card': 17,\n",
              " 'HALALA': 63,\n",
              " 'UGLY': 26,\n",
              " 'Madarjaat': 13,\n",
              " 'Slave': 13,\n",
              " 'CHUTIYE': 13,\n",
              " 'Moslem': 26,\n",
              " 'Bastard': 19,\n",
              " 'CHATUKAR': 18,\n",
              " 'POOP': 12,\n",
              " 'pagal aurat': 11,\n",
              " 'SUAR': 16,\n",
              " 'BALATKAR': 7,\n",
              " 'GAAND': 7,\n",
              " 'PANAUTI': 7,\n",
              " 'CHUT': 7}"
            ]
          },
          "metadata": {},
          "execution_count": 40
        }
      ],
      "source": [
        "slur_counts_afterRegex"
      ]
    },
    {
      "cell_type": "code",
      "execution_count": 47,
      "metadata": {
        "colab": {
          "base_uri": "https://localhost:8080/"
        },
        "id": "JXUSGr9p12kR",
        "outputId": "645c6c33-7be4-45c4-9094-4104923f4596"
      },
      "outputs": [
        {
          "output_type": "stream",
          "name": "stdout",
          "text": [
            "31763\n",
            "211\n"
          ]
        }
      ],
      "source": [
        "# prev count - 101382\n",
        "print(sum(slur_counts_afterRegex.values()))\n",
        "print(len(slur_counts_afterRegex.keys()))"
      ]
    },
    {
      "cell_type": "code",
      "execution_count": 42,
      "metadata": {
        "id": "0dtcUCgt6YlO"
      },
      "outputs": [],
      "source": [
        "sorted_slur_counts_afterRegex = dict(sorted(slur_counts_afterRegex.items(), key=lambda item: item[1], reverse=True))\n",
        "# print(list(sorted_slur_counts_afterRegex.items())[:8])"
      ]
    },
    {
      "cell_type": "code",
      "source": [
        "sentence_afterRegex_list"
      ],
      "metadata": {
        "colab": {
          "base_uri": "https://localhost:8080/"
        },
        "id": "7S8JKGNu8FX3",
        "outputId": "5867d7c0-1ff8-44f8-ea2a-41b5f39ff34f"
      },
      "execution_count": 43,
      "outputs": [
        {
          "output_type": "execute_result",
          "data": {
            "text/plain": [
              "[['bina trial khele sirf ek boyt ke baad Okympic jaane ka mauka mil gaya Yehi to chahte the ye besharm anpad jaahil jaat pehelwan haryana ke. Sahi me besharmi karo to aisi. Thoo bai inpe aur inke jaiso pe. Kabhi nhi sudharenge ye. Inki soch me ki chotapan hai.',\n",
              "  ['bai']],\n",
              " ['Trail se chut mil gyi inko lalchi ghtiya..trail k liye kuch b kr skti h ye',\n",
              "  ['chut']],\n",
              " ['Bhai unko trail me chut mil gai hai Unko yahi chahiye tha', ['chut']],\n",
              " ['Pahalwano Dharna khatam mat karo Lund Namaziyo ko bahut ummid hai tumse Kahi Dukh me Lund Namazi Puri Lulli hi Naa kaat le',\n",
              "  ['Lulli']],\n",
              " ['bina trial khele sirf ek boyt ke baad Okympic jaane ka mauka mil gaya Yehi to chahte the ye besharm anpad jaahil jaat pehelwan haryana ke. Sahi me besharmi karo to aisi. Thoo bai inpe aur inke jaiso pe. Kabhi nhi sudharenge ye. Inki soch me ki chotapan hai.',\n",
              "  ['bai']],\n",
              " ['Trail se chut mil gyi inko lalchi ghtiya..trail k liye kuch b kr skti h ye',\n",
              "  ['chut']],\n",
              " ['Bhai unko trail me chut mil gai hai Unko yahi chahiye tha', ['chut']],\n",
              " ['Pahalwano Dharna khatam mat karo Lund Namaziyo ko bahut ummid hai tumse Kahi Dukh me Lund Namazi Puri Lulli hi Naa kaat le',\n",
              "  ['Lulli']],\n",
              " ['This is india i mean randistan Salo dosro ky desh mein bolny sy phly Aurat ke ezat krna sekho bsdk lant aise government py',\n",
              "  ['bsdk']],\n",
              " ['MC hai modi sala bas tax laga rha Hindu Muslim me ladai krva rha hai andar se bharat ko khokla kr rha',\n",
              "  ['MC']],\n",
              " ['Tum lok India ke ho ya Pakistan ki ukrean me fight ke time p jo bharat ke jhanda lekhe rahega aur bharatiye bol3ge unko sahidhilamat Ghar pe chod Diya jayega bol rahe the lekin ye hamare desh me hi Jo bharat ke jhande pakde hue hai unko aise bhlyabhahar mereko tho thik Nehi lagta upar se ye log international level pe bhart ko represent karte hai dhik hai tumhare jiban par dilhi police. U dont have humanity and at last I want to say best of luck keep it up and aise hi karte raho police is for people is proven wrong by you u all are for the politicians and the rich mans others always get punished by you chi chi.',\n",
              "  ['chod']],\n",
              " ['Cm se pm tak sab harami hai', ['harami']],\n",
              " ['Harami log', ['Harami']],\n",
              " ['Are sharm kro BC police walo humare Desh ke support player h vo chutiya logo mana apni duty kre ho pr tumko saath dena chayiye Inka ulta Inka saath dena chahiye jo tum inko ghaseet rhe ho BC pgl ho kya',\n",
              "  ['chutiya']],\n",
              " ['Abe wrestler ho toh kya sale kuch bhi karoge No enter Zone mein protest karoge chutiyapa ka bhi haad hota hai India gate hai bhaut sari public area hai tum log Ab medal kyn nhi fank rahe ho BC Faltu ka Darma Ab kal ko BC gun leke chalane lag jao ge aur chahte ho Police kuch na kare Rules and regulations bhi hote hai sala ajeeb chutiya log hai. Jab harassed hue tab nhi bola gaya 56 mahine baad yaad aya Bhai sab dikh raha hai Politics hai ye sab.Edit Parliament is not allowed for normal people to enter only authorised people can enter and I cant believe in comments section people are so Illiterate theyre actually supporting this bullishit police should have arrested them.',\n",
              "  ['chutiya']],\n",
              " ['V gud', ['gud']],\n",
              " ['Chutiya sehar ki chutiya public kabhi metro me to kabhi kahi lekin fir bhi unhe koi matlab nhi sala isse to accha mera village hai',\n",
              "  ['Chutiya', 'chutiya']],\n",
              " ['Delhi police is so stupid distracting the focus of the world from the grand spectacle of P.M modis high moment going to the new parliament house to the ruckus with the wrestlers',\n",
              "  ['stupid']],\n",
              " ['Das chal behen k lode sale randi k aulad it cell wala tere ghar p roz aata hai kya',\n",
              "  ['randi']],\n",
              " ['Raja ko baithaya hai gaddi pr toh raja wali karwahi hi milegi Shame on these stupid and illiterate politicians',\n",
              "  ['stupid']],\n",
              " ['Mother chod police and politicians', ['chod']],\n",
              " ['In benchodo ne andolon ko dhandha bana rakkha hai jisko bhi kuch karva ho sidha andolan karte hai madarchod hatao sab desh virodhiyo ko dalle',\n",
              "  ['madarchod']],\n",
              " ['jail mey dalo salo ko.champion banke masti chadi hai mc bc ko bsdk',\n",
              "  ['mc', 'bsdk']],\n",
              " ['kehna ye hai ye players politics kr rahe hai7 salo se sosan nhi dikhaHar sal sath pic with comfortable position ab Chunav h to bjp ko Target krana with JNU nara modi teri kabar khudegi Aaj nahi to kal jao Hanuman akhde mei waha sare pehelwan milege practice krte hue ye jija sali ek hi family h jinhone kabja kara hua hai or naye bacho ko age nhi jane deteor khud bina trail k Olympic mei jana chahte hai.',\n",
              "  ['sali']],\n",
              " ['wah mere desh ke chutiya police', ['chutiya']],\n",
              " ['Dekhlo bhai ek pehalwan ki takat 1010 police wale ki bhi tatti nikal gyi uthane mai',\n",
              "  ['tatti']],\n",
              " ['Socho Brijbhusan ke samne Modi ji ka ye haal haiki arrest nahi karwa rahe court order hone ke baad bhi to desh ke aam admi ki kitni fat ti hogi Brijbhusan singh se wo bhi jo unke area me rahte hain',\n",
              "  ['fat']],\n",
              " ['Tukde tukde gang hain', ['Tukde tukde gang']],\n",
              " ['Chutiya government', ['Chutiya']],\n",
              " ['Shocked wrestlers are supposed to obey the law and order of India. I am shocked to note that certain wrestlers cooperated with opposition to paint ugly pictures about BJP. Wrestlers are making politics on their allegations. World watched how wrestlers are using politics to internationalise the issues. Wrestlers are represented by lawyers. Why protest on the New Parliament opening ceremony. Whats the agenda All wrestlers involved should be dismissed from the Wrestlers Association or represent sports in India. Law has to be tough with protesters. BJP will soon release how wrestlers received financial and moral support from opposition.',\n",
              "  ['ugly']],\n",
              " ['These stupid police sent by politicians for LO duty this show how stupid police or force are',\n",
              "  ['stupid', 'stupid']],\n",
              " ['What a stupid reporter She is saying scuffle broke out between police and protester .. is she blind Cant she see police is forcible removing them .. this is not 2 sided scuffle .. just one sided display of power .. did she see any wrestler hitting police If not how shameless of her to call is scuffle',\n",
              "  ['stupid']],\n",
              " ['if law is meaningless then it meant to be broken. No good supporting stupid laws like that.',\n",
              "  ['stupid']],\n",
              " ['Singh apni kati lulli utha aur dafa ho ja warna wapas muzaffarnagar jaisa hall ho javega',\n",
              "  ['lulli']],\n",
              " ['Abey bo bina national khelke Olympic Main jana chate hain or world champion hone se kya hoga sushil kumar world champion nahin thi kya bo murder kiya tha world champion hone se kya usko chod denge or sunle unko supreme court ke upar bharosa nahi hain or din main protest ratt main five star hotel main tumari protest hai or jo Rakesh tikayat hain o sala tent house ke andar ac lagake reheta hai',\n",
              "  ['chod']],\n",
              " ['When wrestling is full mujra', ['mujra']],\n",
              " ['Tirange ka satkar krti huyi hamari force chutiya govrt. Iss desh ky liye Jin logo ny mehnat ki naam banane ke liye unhe ky sath esa kr rahi hai iss se acha to angrejon ki gulami thi km se km mehnat krte thy to position to milti thi waha pey achi or ijjat bhi',\n",
              "  ['chutiya']],\n",
              " ['Parliament me kaun dharna deta hai bsdk', ['bsdk']],\n",
              " ['Brijbhuson accused for 1000 thousands girls molesting aur a pahelwan 13 saal se maja le rahatha...chutiya jangan ko mat banao...aur protester k somorthan mein kon aaye theee....sob deah ka gaddar....',\n",
              "  ['chutiya', 'gaddar']],\n",
              " ['Kumar kya majburi thi be batana tokuch bhi analyse matkr le khud se chu tiye. agar unke pass proof hai to court jao na road pr q ma a chuda rhe apni',\n",
              "  ['chuda']],\n",
              " ['Behera tuze tag kiya hai Tere comment ke niche likha hai kuch nahi to dafa hoja. Librandu sale baat jab sach hoti hai to baccho ko language glat lagti hai',\n",
              "  ['Librandu']],\n",
              " ['Jai Shree Krishna Aab bhagwaan se karna hai inko Lado kabhi bhi jihadi Sarkar nahi banegi aab Krishna Vasudev ne than lia hai Jaiii HOOOO',\n",
              "  ['jihadi']],\n",
              " ['Is media h dekho sali chutia..', ['sali', 'chutia']],\n",
              " ['Dont impose your stupid opinion . Keep it to yourself.', ['stupid']],\n",
              " ['Thoko inko yea wrestler nehi gaddar hai in gaddaro say pura award wapas liya jaye aur jin jin gaddaro ko govt nay job diya hai turant laat maar k nikalo paisa sud samet wapas lay liya jayea aur in gaddaro ko ban kar diya jayea',\n",
              "  ['gaddar']],\n",
              " ['This is ur peaceful protestmarch On this day What drastic happened in a day to basically break clear line of security baricades where u know what was happening there Next will u do this in middle of republic day parade And call it freedom of expression Vandalizing Red Fort was peaceful protest too Either u think everyone is dumb or u are. If u cant see or understand whats going on dont bother commenting Also giving plans to create more nuisance discreetly Have some shame. Not everyone is stupid enough to not understand the intensions',\n",
              "  ['stupid']],\n",
              " ['Sharmajust cause the retarded govt says so', ['retarded']],\n",
              " ['Mhatre register hoga tab na ladega apne bap ko bol ke ispe kuch bole aur jo khalistani ka excuse de raha h andbhakth yesa hota to ye wrestlers aap congress reject na karti bhadwe samjha aur reply karne ayya to tera location nikal wa ke tere khandan ko chodne ke liye log bhejunga andbhakth bhag bsdk',\n",
              "  ['bsdk']],\n",
              " ['Maderchod sarkar', ['Maderchod']],\n",
              " ['Gali gali meh shor hey modi MC hey', ['MC']],\n",
              " ['CRAZY Tu chup rh na bhdwe jyada rules ki bakchodi jhad rha khud ko dekh phle dalla khi ka',\n",
              "  ['CRAZY']],\n",
              " ['Reality ha hme pta h aap gaand bhi de skte h', ['gaand']],\n",
              " ['Gen 2000 kuch bhi likh rha h madarchod pta jhant bhi nhi h BJP ka choda sala',\n",
              "  ['madarchod']],\n",
              " ['tera upar koi ladki naam lagada ki tuna uska baltakaar kiya hai toh koi sabut bhi toh hona chahiye teri maa ka upar agar mai case kardun teri maa randi hai toh Tu maan lio fir agar aisa hai ki 250 rs mai teri maa chut marati ha',\n",
              "  ['randi', 'chut']],\n",
              " ['Das kyun ki tum chutia ho bass case chal raha bsdk protest kr ke gand marwa reh madrchod ur wo bhi parliament inauguration ke sin',\n",
              "  ['chutia', 'bsdk']],\n",
              " ['RAAJA ji apne chod me ghum rahe hai mast.. sharam ani chahia Jo log BJP ko vote dete hai',\n",
              "  ['chod']],\n",
              " ['I wanted same approach towards Shaheen Bagh Farmers Protest... Modi was way too soft then... India is not ready to accept these certified communists or any Jihadi propaganda... No sympathy for people with vested agenda..',\n",
              "  ['Jihadi']],\n",
              " ['Reality Haan tum jaise kutte toh mahilao ke kapde hi fat te dekhna chahte ho. Shree Ram hote toh tumhare Brijbhushan sar dhadh se alag hota.',\n",
              "  ['fat']],\n",
              " ['gadhe thodi aakal ho na to aise gatiya sawal na kre i proud on wrestlers but in this time they are in politics even their cousion r not supporting them.. ye international wrestlers hai duniya ke liye misal hai ye kaise harrese ho sakti hai inne 45 aadmiyo ki takat hai gadhe ..or agar Hui bhi hai to unhe ab yaad aaya election ke time pr gadha',\n",
              "  ['gatiya']],\n",
              " ['S bsdk tu jakr apna Gyan badhaa ek baar dobara ache se pta krle kejriwal k under nhi ata vo center k under ati hai police',\n",
              "  ['bsdk']],\n",
              " ['bina trial khele sirf ek boyt ke baad Okympic jaane ka mauka mil gaya Yehi to chahte the ye besharm anpad jaahil jaat pehelwan haryana ke. Sahi me besharmi karo to aisi. Thoo bai inpe aur inke jaiso pe. Kabhi nhi sudharenge ye. Inki soch me ki chotapan hai.',\n",
              "  ['bai']],\n",
              " ['Trail se chut mil gyi inko lalchi ghtiya..trail k liye kuch b kr skti h ye',\n",
              "  ['chut']],\n",
              " ['Bhai unko trail me chut mil gai hai Unko yahi chahiye tha', ['chut']],\n",
              " ['Pahalwano Dharna khatam mat karo Lund Namaziyo ko bahut ummid hai tumse Kahi Dukh me Lund Namazi Puri Lulli hi Naa kaat le',\n",
              "  ['Lulli']],\n",
              " ['This is india i mean randistan Salo dosro ky desh mein bolny sy phly Aurat ke ezat krna sekho bsdk lant aise government py',\n",
              "  ['bsdk']],\n",
              " ['MC hai modi sala bas tax laga rha Hindu Muslim me ladai krva rha hai andar se bharat ko khokla kr rha',\n",
              "  ['MC']],\n",
              " ['Tum lok India ke ho ya Pakistan ki ukrean me fight ke time p jo bharat ke jhanda lekhe rahega aur bharatiye bol3ge unko sahidhilamat Ghar pe chod Diya jayega bol rahe the lekin ye hamare desh me hi Jo bharat ke jhande pakde hue hai unko aise bhlyabhahar mereko tho thik Nehi lagta upar se ye log international level pe bhart ko represent karte hai dhik hai tumhare jiban par dilhi police. U dont have humanity and at last I want to say best of luck keep it up and aise hi karte raho police is for people is proven wrong by you u all are for the politicians and the rich mans others always get punished by you chi chi.',\n",
              "  ['chod']],\n",
              " ['Cm se pm tak sab harami hai', ['harami']],\n",
              " ['Harami log', ['Harami']],\n",
              " ['Are sharm kro BC police walo humare Desh ke support player h vo chutiya logo mana apni duty kre ho pr tumko saath dena chayiye Inka ulta Inka saath dena chahiye jo tum inko ghaseet rhe ho BC pgl ho kya',\n",
              "  ['chutiya']],\n",
              " ['Abe wrestler ho toh kya sale kuch bhi karoge No enter Zone mein protest karoge chutiyapa ka bhi haad hota hai India gate hai bhaut sari public area hai tum log Ab medal kyn nhi fank rahe ho BC Faltu ka Darma Ab kal ko BC gun leke chalane lag jao ge aur chahte ho Police kuch na kare Rules and regulations bhi hote hai sala ajeeb chutiya log hai. Jab harassed hue tab nhi bola gaya 56 mahine baad yaad aya Bhai sab dikh raha hai Politics hai ye sab.Edit Parliament is not allowed for normal people to enter only authorised people can enter and I cant believe in comments section people are so Illiterate theyre actually supporting this bullishit police should have arrested them.',\n",
              "  ['chutiya']],\n",
              " ['V gud', ['gud']],\n",
              " ['Chutiya sehar ki chutiya public kabhi metro me to kabhi kahi lekin fir bhi unhe koi matlab nhi sala isse to accha mera village hai',\n",
              "  ['Chutiya', 'chutiya']],\n",
              " ['Delhi police is so stupid distracting the focus of the world from the grand spectacle of P.M modis high moment going to the new parliament house to the ruckus with the wrestlers',\n",
              "  ['stupid']],\n",
              " ['Das chal behen k lode sale randi k aulad it cell wala tere ghar p roz aata hai kya',\n",
              "  ['randi']],\n",
              " ['Raja ko baithaya hai gaddi pr toh raja wali karwahi hi milegi Shame on these stupid and illiterate politicians',\n",
              "  ['stupid']],\n",
              " ['Mother chod police and politicians', ['chod']],\n",
              " ['In benchodo ne andolon ko dhandha bana rakkha hai jisko bhi kuch karva ho sidha andolan karte hai madarchod hatao sab desh virodhiyo ko dalle',\n",
              "  ['madarchod']],\n",
              " ['jail mey dalo salo ko.champion banke masti chadi hai mc bc ko bsdk',\n",
              "  ['mc', 'bsdk']],\n",
              " ['kehna ye hai ye players politics kr rahe hai7 salo se sosan nhi dikhaHar sal sath pic with comfortable position ab Chunav h to bjp ko Target krana with JNU nara modi teri kabar khudegi Aaj nahi to kal jao Hanuman akhde mei waha sare pehelwan milege practice krte hue ye jija sali ek hi family h jinhone kabja kara hua hai or naye bacho ko age nhi jane deteor khud bina trail k Olympic mei jana chahte hai.',\n",
              "  ['sali']],\n",
              " ['wah mere desh ke chutiya police', ['chutiya']],\n",
              " ['Dekhlo bhai ek pehalwan ki takat 1010 police wale ki bhi tatti nikal gyi uthane mai',\n",
              "  ['tatti']],\n",
              " ['Socho Brijbhusan ke samne Modi ji ka ye haal haiki arrest nahi karwa rahe court order hone ke baad bhi to desh ke aam admi ki kitni fat ti hogi Brijbhusan singh se wo bhi jo unke area me rahte hain',\n",
              "  ['fat']],\n",
              " ['Tukde tukde gang hain', ['Tukde tukde gang']],\n",
              " ['Chutiya government', ['Chutiya']],\n",
              " ['Shocked wrestlers are supposed to obey the law and order of India. I am shocked to note that certain wrestlers cooperated with opposition to paint ugly pictures about BJP. Wrestlers are making politics on their allegations. World watched how wrestlers are using politics to internationalise the issues. Wrestlers are represented by lawyers. Why protest on the New Parliament opening ceremony. Whats the agenda All wrestlers involved should be dismissed from the Wrestlers Association or represent sports in India. Law has to be tough with protesters. BJP will soon release how wrestlers received financial and moral support from opposition.',\n",
              "  ['ugly']],\n",
              " ['These stupid police sent by politicians for LO duty this show how stupid police or force are',\n",
              "  ['stupid', 'stupid']],\n",
              " ['What a stupid reporter She is saying scuffle broke out between police and protester .. is she blind Cant she see police is forcible removing them .. this is not 2 sided scuffle .. just one sided display of power .. did she see any wrestler hitting police If not how shameless of her to call is scuffle',\n",
              "  ['stupid']],\n",
              " ['if law is meaningless then it meant to be broken. No good supporting stupid laws like that.',\n",
              "  ['stupid']],\n",
              " ['Singh apni kati lulli utha aur dafa ho ja warna wapas muzaffarnagar jaisa hall ho javega',\n",
              "  ['lulli']],\n",
              " ['Abey bo bina national khelke Olympic Main jana chate hain or world champion hone se kya hoga sushil kumar world champion nahin thi kya bo murder kiya tha world champion hone se kya usko chod denge or sunle unko supreme court ke upar bharosa nahi hain or din main protest ratt main five star hotel main tumari protest hai or jo Rakesh tikayat hain o sala tent house ke andar ac lagake reheta hai',\n",
              "  ['chod']],\n",
              " ['When wrestling is full mujra', ['mujra']],\n",
              " ['Tirange ka satkar krti huyi hamari force chutiya govrt. Iss desh ky liye Jin logo ny mehnat ki naam banane ke liye unhe ky sath esa kr rahi hai iss se acha to angrejon ki gulami thi km se km mehnat krte thy to position to milti thi waha pey achi or ijjat bhi',\n",
              "  ['chutiya']],\n",
              " ['Parliament me kaun dharna deta hai bsdk', ['bsdk']],\n",
              " ['Brijbhuson accused for 1000 thousands girls molesting aur a pahelwan 13 saal se maja le rahatha...chutiya jangan ko mat banao...aur protester k somorthan mein kon aaye theee....sob deah ka gaddar....',\n",
              "  ['chutiya', 'gaddar']],\n",
              " ['Kumar kya majburi thi be batana tokuch bhi analyse matkr le khud se chu tiye. agar unke pass proof hai to court jao na road pr q ma a chuda rhe apni',\n",
              "  ['chuda']],\n",
              " ['Behera tuze tag kiya hai Tere comment ke niche likha hai kuch nahi to dafa hoja. Librandu sale baat jab sach hoti hai to baccho ko language glat lagti hai',\n",
              "  ['Librandu']],\n",
              " ['Jai Shree Krishna Aab bhagwaan se karna hai inko Lado kabhi bhi jihadi Sarkar nahi banegi aab Krishna Vasudev ne than lia hai Jaiii HOOOO',\n",
              "  ['jihadi']],\n",
              " ['Is media h dekho sali chutia..', ['sali', 'chutia']],\n",
              " ['Dont impose your stupid opinion . Keep it to yourself.', ['stupid']],\n",
              " ['Thoko inko yea wrestler nehi gaddar hai in gaddaro say pura award wapas liya jaye aur jin jin gaddaro ko govt nay job diya hai turant laat maar k nikalo paisa sud samet wapas lay liya jayea aur in gaddaro ko ban kar diya jayea',\n",
              "  ['gaddar']]]"
            ]
          },
          "metadata": {},
          "execution_count": 43
        }
      ]
    },
    {
      "cell_type": "code",
      "execution_count": 44,
      "metadata": {
        "id": "U7zT7FF13vjb"
      },
      "outputs": [],
      "source": [
        "# We clearly see that the amount of slur words drastically increase. Now the step ahead would be too create seperate regex for the most used slur words.\n",
        "# Note - the substrings could also be a part of different words and not necessarily hateful. But given the nature of the words, I feel that chances are low."
      ]
    },
    {
      "cell_type": "code",
      "source": [
        "# substrings are not a good way to\n",
        "# slur list add - randistan"
      ],
      "metadata": {
        "id": "_KOiEyqKchyX"
      },
      "execution_count": 45,
      "outputs": []
    },
    {
      "cell_type": "markdown",
      "metadata": {
        "id": "qHMyU6Etfz15"
      },
      "source": [
        "## Create Regex for the most used Slur Words\n",
        "\n",
        "- Lets start by looking at the word `\"chutiya\"`"
      ]
    },
    {
      "cell_type": "code",
      "execution_count": null,
      "metadata": {
        "id": "TBzm-Qn4heH8"
      },
      "outputs": [],
      "source": [
        "text = \"they called me a chhhutiyyaa and I ignored them.\"\n",
        "# text = \"abcchhutiyeexvy\""
      ]
    },
    {
      "cell_type": "code",
      "execution_count": null,
      "metadata": {
        "id": "EJrygd2Cf3vU"
      },
      "outputs": [],
      "source": [
        "# pattern = r'ch+h?[uo]t[iy]a?'\n",
        "pattern = r'\\bch+h?[uo]t[iy]a?\\b'"
      ]
    },
    {
      "cell_type": "code",
      "execution_count": null,
      "metadata": {
        "id": "SXSe5oHfiH9P"
      },
      "outputs": [],
      "source": [
        "matches = re.findall(pattern, text, re.IGNORECASE)"
      ]
    },
    {
      "cell_type": "code",
      "execution_count": null,
      "metadata": {
        "colab": {
          "base_uri": "https://localhost:8080/"
        },
        "id": "qZ7H0ji9jFrV",
        "outputId": "10aee03c-a1fe-48d1-b1d3-fb99e1e421bc"
      },
      "outputs": [
        {
          "output_type": "execute_result",
          "data": {
            "text/plain": [
              "['chhhuti']"
            ]
          },
          "metadata": {},
          "execution_count": 43
        }
      ],
      "source": [
        "matches"
      ]
    },
    {
      "cell_type": "code",
      "execution_count": null,
      "metadata": {
        "colab": {
          "base_uri": "https://localhost:8080/"
        },
        "id": "5U6QsRtfkifr",
        "outputId": "b801f79e-faf6-41e5-effc-c8a1049ff324"
      },
      "outputs": [
        {
          "output_type": "stream",
          "name": "stdout",
          "text": [
            "CPU times: user 58.8 s, sys: 133 ms, total: 58.9 s\n",
            "Wall time: 59.3 s\n"
          ]
        }
      ],
      "source": [
        "%%time\n",
        "slur_word_count_2 = {}\n",
        "for index, row in regexDf.iterrows():\n",
        "    text = row['textOriginal']\n",
        "    matches = re.findall(pattern, text, re.IGNORECASE)\n",
        "    for match in matches:\n",
        "        slur_word_count_2[match] = slur_word_count_2.get(match, 0) + 1"
      ]
    },
    {
      "cell_type": "code",
      "execution_count": null,
      "metadata": {
        "colab": {
          "base_uri": "https://localhost:8080/"
        },
        "id": "ND0Q80kHkrun",
        "outputId": "c48f6048-23df-441a-a58b-83a118bc0c10"
      },
      "outputs": [
        {
          "output_type": "execute_result",
          "data": {
            "text/plain": [
              "9289"
            ]
          },
          "metadata": {},
          "execution_count": 45
        }
      ],
      "source": [
        "sum(slur_word_count_2.values())"
      ]
    },
    {
      "cell_type": "code",
      "execution_count": null,
      "metadata": {
        "colab": {
          "base_uri": "https://localhost:8080/"
        },
        "id": "6e9rJDRekvgr",
        "outputId": "cae5f531-c060-4f79-ece0-ce09aae68825"
      },
      "outputs": [
        {
          "output_type": "stream",
          "name": "stdout",
          "text": [
            "[('chuti', 6383), ('Chuti', 1168), ('choti', 463), ('chutia', 344), ('chuty', 204), ('chutya', 201), ('chhoti', 167), ('Chutya', 90)]\n"
          ]
        }
      ],
      "source": [
        "sorted_slur_word_count_2 = dict(sorted(slur_word_count_2.items(), key=lambda item: item[1], reverse=True))\n",
        "print(list(sorted_slur_word_count_2.items())[:8])"
      ]
    },
    {
      "cell_type": "code",
      "execution_count": null,
      "metadata": {
        "id": "uVtGY3QdnM_w"
      },
      "outputs": [],
      "source": [
        "# Okay wow, the number of words that are similar to `chutiya` increase drastically."
      ]
    },
    {
      "cell_type": "code",
      "execution_count": null,
      "metadata": {
        "id": "saNo7o-snWtN"
      },
      "outputs": [],
      "source": [
        "# one problem with this is, we dont know what the sentence might be directed to, to women? to the govt? to brijbhusan?\n",
        "# or just some guy reply to a person in a comment?"
      ]
    },
    {
      "cell_type": "markdown",
      "metadata": {
        "id": "bWzb0q4miBZj"
      },
      "source": [
        "- now lets look at `chod`"
      ]
    },
    {
      "cell_type": "code",
      "execution_count": null,
      "metadata": {
        "id": "oyZ-VPcrjA-3"
      },
      "outputs": [],
      "source": [
        "text_2 = \"they called me a chhut, chod but I ignored them, hmpf\""
      ]
    },
    {
      "cell_type": "code",
      "execution_count": null,
      "metadata": {
        "id": "uD26On3jiEiu"
      },
      "outputs": [],
      "source": [
        "pattern_2 = r'ch+[ou]+[dt]'"
      ]
    },
    {
      "cell_type": "code",
      "execution_count": null,
      "metadata": {
        "id": "JSnO8KawjAe4"
      },
      "outputs": [],
      "source": [
        "matches_2 = re.findall(pattern_2, text_2, re.IGNORECASE)"
      ]
    },
    {
      "cell_type": "code",
      "execution_count": null,
      "metadata": {
        "colab": {
          "base_uri": "https://localhost:8080/"
        },
        "id": "XKHQP2WujJrX",
        "outputId": "f37cefb2-478c-43ab-9248-8fa620fb4128"
      },
      "outputs": [
        {
          "output_type": "execute_result",
          "data": {
            "text/plain": [
              "['chhut', 'chod']"
            ]
          },
          "metadata": {},
          "execution_count": 52
        }
      ],
      "source": [
        "matches_2"
      ]
    },
    {
      "cell_type": "code",
      "execution_count": null,
      "metadata": {
        "id": "iRGVZ8I7jMnK"
      },
      "outputs": [],
      "source": [
        "slur_word_count_3 = {}\n",
        "for index, row in regexDf.iterrows():\n",
        "    text = row['textOriginal']\n",
        "    matches_2 = re.findall(pattern_2, text, re.IGNORECASE)\n",
        "    for match in matches_2:\n",
        "        slur_word_count_3[match] = slur_word_count_3.get(match, 0) + 1"
      ]
    },
    {
      "cell_type": "code",
      "execution_count": null,
      "metadata": {
        "colab": {
          "base_uri": "https://localhost:8080/"
        },
        "id": "JimtPDGvjhYR",
        "outputId": "7fefa2a7-1e21-4c86-eb51-99b20160292b"
      },
      "outputs": [
        {
          "output_type": "execute_result",
          "data": {
            "text/plain": [
              "27220"
            ]
          },
          "metadata": {},
          "execution_count": 54
        }
      ],
      "source": [
        "sum(slur_word_count_3.values())"
      ]
    },
    {
      "cell_type": "code",
      "execution_count": null,
      "metadata": {
        "colab": {
          "base_uri": "https://localhost:8080/"
        },
        "id": "vs2wUlTGjm0X",
        "outputId": "341c674c-aa21-4b52-f0e8-7112878e228c"
      },
      "outputs": [
        {
          "output_type": "stream",
          "name": "stdout",
          "text": [
            "[('chod', 9750), ('chut', 8219), ('chot', 1640), ('chud', 1605), ('Chut', 1474), ('chhod', 1416), ('Choud', 382), ('chhot', 371)]\n"
          ]
        }
      ],
      "source": [
        "sorted_slur_word_count_3 = dict(sorted(slur_word_count_3.items(), key=lambda item: item[1], reverse=True))\n",
        "print(list(sorted_slur_word_count_3.items())[:8])"
      ]
    },
    {
      "cell_type": "markdown",
      "metadata": {
        "id": "hvNkz7ePkVYE"
      },
      "source": [
        "- now lets do this for `bsdk`"
      ]
    },
    {
      "cell_type": "code",
      "execution_count": null,
      "metadata": {
        "id": "jQrPQX17kmxP"
      },
      "outputs": [],
      "source": [
        "text_3 = \"they called me a bsssdk, I left\""
      ]
    },
    {
      "cell_type": "code",
      "execution_count": null,
      "metadata": {
        "id": "64lMcQBgkk1I"
      },
      "outputs": [],
      "source": [
        "pattern_3 = r'bs+d+k'\n",
        "matches = re.findall(pattern_3, text_3, re.IGNORECASE)"
      ]
    },
    {
      "cell_type": "code",
      "execution_count": null,
      "metadata": {
        "colab": {
          "base_uri": "https://localhost:8080/"
        },
        "id": "RRX2lm8zkmKU",
        "outputId": "41fb4783-a2c9-4a3d-f6fd-e2956d48109e"
      },
      "outputs": [
        {
          "output_type": "execute_result",
          "data": {
            "text/plain": [
              "['bsssdk']"
            ]
          },
          "metadata": {},
          "execution_count": 58
        }
      ],
      "source": [
        "matches"
      ]
    },
    {
      "cell_type": "code",
      "execution_count": null,
      "metadata": {
        "id": "4ELiuytZkrox"
      },
      "outputs": [],
      "source": [
        "slur_word_count_4 = {}\n",
        "for index, row in regexDf.iterrows():\n",
        "    text = row['textOriginal']\n",
        "    matches = re.findall(pattern_3, text, re.IGNORECASE)\n",
        "    for match in matches:\n",
        "        slur_word_count_4[match] = slur_word_count_4.get(match, 0) + 1"
      ]
    },
    {
      "cell_type": "code",
      "execution_count": null,
      "metadata": {
        "colab": {
          "base_uri": "https://localhost:8080/"
        },
        "id": "koA5Mad8lKPI",
        "outputId": "abe524cc-d593-400a-d0c1-233af18bea3e"
      },
      "outputs": [
        {
          "output_type": "execute_result",
          "data": {
            "text/plain": [
              "1836"
            ]
          },
          "metadata": {},
          "execution_count": 60
        }
      ],
      "source": [
        "sum(slur_word_count_4.values())"
      ]
    },
    {
      "cell_type": "code",
      "execution_count": null,
      "metadata": {
        "colab": {
          "base_uri": "https://localhost:8080/"
        },
        "id": "UmoFDePQlOda",
        "outputId": "908ed7f2-8806-41b0-f9fd-a8fcb1b7d4a6"
      },
      "outputs": [
        {
          "output_type": "stream",
          "name": "stdout",
          "text": [
            "[('bsdk', 1323), ('Bsdk', 456), ('Bssdk', 32), ('BSDK', 25)]\n"
          ]
        }
      ],
      "source": [
        "sorted_slur_word_count_4 = dict(sorted(slur_word_count_4.items(), key=lambda item: item[1], reverse=True))\n",
        "print(list(sorted_slur_word_count_4.items())[:8])"
      ]
    },
    {
      "cell_type": "markdown",
      "metadata": {
        "id": "-ab3HsDA1nkO"
      },
      "source": [
        "- now lets try for a hindi word -\n",
        "\n",
        "some links that help me understand this better\n",
        "- https://stackoverflow.com/questions/41356013/how-to-detect-if-a-string-contains-hindi-devnagri-in-it-with-character-and-wor\n",
        "- https://stackoverflow.com/questions/14859957/regular-expressions-with-indian-characters\n",
        "- https://unicode.org/charts/PDF/U0900.pdf"
      ]
    },
    {
      "cell_type": "code",
      "execution_count": null,
      "metadata": {
        "id": "Zuqb-qE21NH8"
      },
      "outputs": [],
      "source": [
        "# TO-DO"
      ]
    },
    {
      "cell_type": "markdown",
      "metadata": {
        "id": "rOFgPVvAlkRt"
      },
      "source": [
        "## Lets now look at the impact regex has had on counting the slur words in the data\n",
        "\n",
        "The slur list has 506 words consisting of different languages.\n",
        "\n",
        "|        **Word**       | **Before Regex** |     **After Regex**     |\n",
        "|:---------------------:|:----------------:|:-----------------------:|\n",
        "| Simple Count of Words |      25,393      | 101,382 (just  english) |\n",
        "|        chutiya        |       2,647      |          9,289          |\n",
        "|          chod         |       1,788      |          12,749         |\n",
        "|          bsdk         |       1,147      |          1,836          |\n"
      ]
    },
    {
      "cell_type": "markdown",
      "metadata": {
        "id": "f8MMPsGosqiF"
      },
      "source": [
        "- what are the 100 senteces which use the slur words before and after regex?\n",
        "- look at the slur count vs timeline"
      ]
    },
    {
      "cell_type": "markdown",
      "metadata": {
        "id": "C6DL-_QKfXgU"
      },
      "source": [
        "### Looking at use of slur_words accross the timeline."
      ]
    },
    {
      "cell_type": "code",
      "execution_count": null,
      "metadata": {
        "id": "POS903dNfXNf"
      },
      "outputs": [],
      "source": [
        "# to include the hindi words, lets just to a simple check versus time."
      ]
    },
    {
      "cell_type": "code",
      "execution_count": null,
      "metadata": {
        "id": "nzPpkJlHfiWr"
      },
      "outputs": [],
      "source": [
        "timeDf = df[['videoId','textOriginal','authorChannelId', 'likeCount', 'publishedAt', 'updatedAt', 'commentId']]"
      ]
    },
    {
      "cell_type": "code",
      "execution_count": null,
      "metadata": {
        "colab": {
          "base_uri": "https://localhost:8080/",
          "height": 337
        },
        "id": "x4V2GsD0fwa4",
        "outputId": "fb6b8dee-3ea3-4637-cb01-e03815a00a03"
      },
      "outputs": [
        {
          "output_type": "execute_result",
          "data": {
            "text/plain": [
              "       videoId                                       textOriginal  \\\n",
              "0  EBOKYsWUhvI  Dub maro jaato 😢😢.\\nTumse tumare ladkiya nhi b...   \n",
              "1  EBOKYsWUhvI                                   Haar gye bechare   \n",
              "2  EBOKYsWUhvI  Dhamki mili pahalwano ko aur sab manage kr liy...   \n",
              "3  EBOKYsWUhvI  Jaato pr ye boj rhega ki vo apni hi vyavstha s...   \n",
              "4  EBOKYsWUhvI           Pahlwan jante h kuch nhi kr payenge uska   \n",
              "\n",
              "                         authorChannelId likeCount           publishedAt  \\\n",
              "0  {'value': 'UC5G8fjqoiFIqHpKyVeOTsFg'}         0  2023-07-06T07:04:02Z   \n",
              "1  {'value': 'UCsMGRdH3YHrbs21NOraRuyQ'}         0  2023-07-03T22:21:37Z   \n",
              "2  {'value': 'UC_dWuNh6zydTHIRr6hi3Omg'}         0  2023-07-03T05:06:33Z   \n",
              "3  {'value': 'UCVdGObpHM-IMHB_b7_K-7rA'}         1  2023-07-02T03:39:50Z   \n",
              "4  {'value': 'UCRkcewHFhxE5KfLHrLx0wpA'}         0  2023-06-28T15:10:36Z   \n",
              "\n",
              "              updatedAt                   commentId  \n",
              "0  2023-07-06T07:04:02Z  UgwbyvIkkAhUdaCFpcp4AaABAg  \n",
              "1  2023-07-03T22:21:37Z  Ugyz3OwSXamho91-8I94AaABAg  \n",
              "2  2023-07-03T05:06:33Z  Ugyphs1TT1Yoj7MZBVJ4AaABAg  \n",
              "3  2023-07-02T03:39:50Z  UgwnIxpuFAcKsEzffBp4AaABAg  \n",
              "4  2023-06-28T15:10:36Z  UgxjuOlDigsmuDu53J54AaABAg  "
            ],
            "text/html": [
              "\n",
              "\n",
              "  <div id=\"df-1b6d2bf4-6026-41e1-b3b2-ff7486856989\">\n",
              "    <div class=\"colab-df-container\">\n",
              "      <div>\n",
              "<style scoped>\n",
              "    .dataframe tbody tr th:only-of-type {\n",
              "        vertical-align: middle;\n",
              "    }\n",
              "\n",
              "    .dataframe tbody tr th {\n",
              "        vertical-align: top;\n",
              "    }\n",
              "\n",
              "    .dataframe thead th {\n",
              "        text-align: right;\n",
              "    }\n",
              "</style>\n",
              "<table border=\"1\" class=\"dataframe\">\n",
              "  <thead>\n",
              "    <tr style=\"text-align: right;\">\n",
              "      <th></th>\n",
              "      <th>videoId</th>\n",
              "      <th>textOriginal</th>\n",
              "      <th>authorChannelId</th>\n",
              "      <th>likeCount</th>\n",
              "      <th>publishedAt</th>\n",
              "      <th>updatedAt</th>\n",
              "      <th>commentId</th>\n",
              "    </tr>\n",
              "  </thead>\n",
              "  <tbody>\n",
              "    <tr>\n",
              "      <th>0</th>\n",
              "      <td>EBOKYsWUhvI</td>\n",
              "      <td>Dub maro jaato 😢😢.\\nTumse tumare ladkiya nhi b...</td>\n",
              "      <td>{'value': 'UC5G8fjqoiFIqHpKyVeOTsFg'}</td>\n",
              "      <td>0</td>\n",
              "      <td>2023-07-06T07:04:02Z</td>\n",
              "      <td>2023-07-06T07:04:02Z</td>\n",
              "      <td>UgwbyvIkkAhUdaCFpcp4AaABAg</td>\n",
              "    </tr>\n",
              "    <tr>\n",
              "      <th>1</th>\n",
              "      <td>EBOKYsWUhvI</td>\n",
              "      <td>Haar gye bechare</td>\n",
              "      <td>{'value': 'UCsMGRdH3YHrbs21NOraRuyQ'}</td>\n",
              "      <td>0</td>\n",
              "      <td>2023-07-03T22:21:37Z</td>\n",
              "      <td>2023-07-03T22:21:37Z</td>\n",
              "      <td>Ugyz3OwSXamho91-8I94AaABAg</td>\n",
              "    </tr>\n",
              "    <tr>\n",
              "      <th>2</th>\n",
              "      <td>EBOKYsWUhvI</td>\n",
              "      <td>Dhamki mili pahalwano ko aur sab manage kr liy...</td>\n",
              "      <td>{'value': 'UC_dWuNh6zydTHIRr6hi3Omg'}</td>\n",
              "      <td>0</td>\n",
              "      <td>2023-07-03T05:06:33Z</td>\n",
              "      <td>2023-07-03T05:06:33Z</td>\n",
              "      <td>Ugyphs1TT1Yoj7MZBVJ4AaABAg</td>\n",
              "    </tr>\n",
              "    <tr>\n",
              "      <th>3</th>\n",
              "      <td>EBOKYsWUhvI</td>\n",
              "      <td>Jaato pr ye boj rhega ki vo apni hi vyavstha s...</td>\n",
              "      <td>{'value': 'UCVdGObpHM-IMHB_b7_K-7rA'}</td>\n",
              "      <td>1</td>\n",
              "      <td>2023-07-02T03:39:50Z</td>\n",
              "      <td>2023-07-02T03:39:50Z</td>\n",
              "      <td>UgwnIxpuFAcKsEzffBp4AaABAg</td>\n",
              "    </tr>\n",
              "    <tr>\n",
              "      <th>4</th>\n",
              "      <td>EBOKYsWUhvI</td>\n",
              "      <td>Pahlwan jante h kuch nhi kr payenge uska</td>\n",
              "      <td>{'value': 'UCRkcewHFhxE5KfLHrLx0wpA'}</td>\n",
              "      <td>0</td>\n",
              "      <td>2023-06-28T15:10:36Z</td>\n",
              "      <td>2023-06-28T15:10:36Z</td>\n",
              "      <td>UgxjuOlDigsmuDu53J54AaABAg</td>\n",
              "    </tr>\n",
              "  </tbody>\n",
              "</table>\n",
              "</div>\n",
              "      <button class=\"colab-df-convert\" onclick=\"convertToInteractive('df-1b6d2bf4-6026-41e1-b3b2-ff7486856989')\"\n",
              "              title=\"Convert this dataframe to an interactive table.\"\n",
              "              style=\"display:none;\">\n",
              "\n",
              "  <svg xmlns=\"http://www.w3.org/2000/svg\" height=\"24px\"viewBox=\"0 0 24 24\"\n",
              "       width=\"24px\">\n",
              "    <path d=\"M0 0h24v24H0V0z\" fill=\"none\"/>\n",
              "    <path d=\"M18.56 5.44l.94 2.06.94-2.06 2.06-.94-2.06-.94-.94-2.06-.94 2.06-2.06.94zm-11 1L8.5 8.5l.94-2.06 2.06-.94-2.06-.94L8.5 2.5l-.94 2.06-2.06.94zm10 10l.94 2.06.94-2.06 2.06-.94-2.06-.94-.94-2.06-.94 2.06-2.06.94z\"/><path d=\"M17.41 7.96l-1.37-1.37c-.4-.4-.92-.59-1.43-.59-.52 0-1.04.2-1.43.59L10.3 9.45l-7.72 7.72c-.78.78-.78 2.05 0 2.83L4 21.41c.39.39.9.59 1.41.59.51 0 1.02-.2 1.41-.59l7.78-7.78 2.81-2.81c.8-.78.8-2.07 0-2.86zM5.41 20L4 18.59l7.72-7.72 1.47 1.35L5.41 20z\"/>\n",
              "  </svg>\n",
              "      </button>\n",
              "\n",
              "\n",
              "\n",
              "    <div id=\"df-1fe3b22a-9a0b-48a1-ad7a-8ce526a95319\">\n",
              "      <button class=\"colab-df-quickchart\" onclick=\"quickchart('df-1fe3b22a-9a0b-48a1-ad7a-8ce526a95319')\"\n",
              "              title=\"Suggest charts.\"\n",
              "              style=\"display:none;\">\n",
              "\n",
              "<svg xmlns=\"http://www.w3.org/2000/svg\" height=\"24px\"viewBox=\"0 0 24 24\"\n",
              "     width=\"24px\">\n",
              "    <g>\n",
              "        <path d=\"M19 3H5c-1.1 0-2 .9-2 2v14c0 1.1.9 2 2 2h14c1.1 0 2-.9 2-2V5c0-1.1-.9-2-2-2zM9 17H7v-7h2v7zm4 0h-2V7h2v10zm4 0h-2v-4h2v4z\"/>\n",
              "    </g>\n",
              "</svg>\n",
              "      </button>\n",
              "    </div>\n",
              "\n",
              "<style>\n",
              "  .colab-df-quickchart {\n",
              "    background-color: #E8F0FE;\n",
              "    border: none;\n",
              "    border-radius: 50%;\n",
              "    cursor: pointer;\n",
              "    display: none;\n",
              "    fill: #1967D2;\n",
              "    height: 32px;\n",
              "    padding: 0 0 0 0;\n",
              "    width: 32px;\n",
              "  }\n",
              "\n",
              "  .colab-df-quickchart:hover {\n",
              "    background-color: #E2EBFA;\n",
              "    box-shadow: 0px 1px 2px rgba(60, 64, 67, 0.3), 0px 1px 3px 1px rgba(60, 64, 67, 0.15);\n",
              "    fill: #174EA6;\n",
              "  }\n",
              "\n",
              "  [theme=dark] .colab-df-quickchart {\n",
              "    background-color: #3B4455;\n",
              "    fill: #D2E3FC;\n",
              "  }\n",
              "\n",
              "  [theme=dark] .colab-df-quickchart:hover {\n",
              "    background-color: #434B5C;\n",
              "    box-shadow: 0px 1px 3px 1px rgba(0, 0, 0, 0.15);\n",
              "    filter: drop-shadow(0px 1px 2px rgba(0, 0, 0, 0.3));\n",
              "    fill: #FFFFFF;\n",
              "  }\n",
              "</style>\n",
              "\n",
              "    <script>\n",
              "      async function quickchart(key) {\n",
              "        const containerElement = document.querySelector('#' + key);\n",
              "        const charts = await google.colab.kernel.invokeFunction(\n",
              "            'suggestCharts', [key], {});\n",
              "      }\n",
              "    </script>\n",
              "\n",
              "      <script>\n",
              "\n",
              "function displayQuickchartButton(domScope) {\n",
              "  let quickchartButtonEl =\n",
              "    domScope.querySelector('#df-1fe3b22a-9a0b-48a1-ad7a-8ce526a95319 button.colab-df-quickchart');\n",
              "  quickchartButtonEl.style.display =\n",
              "    google.colab.kernel.accessAllowed ? 'block' : 'none';\n",
              "}\n",
              "\n",
              "        displayQuickchartButton(document);\n",
              "      </script>\n",
              "      <style>\n",
              "    .colab-df-container {\n",
              "      display:flex;\n",
              "      flex-wrap:wrap;\n",
              "      gap: 12px;\n",
              "    }\n",
              "\n",
              "    .colab-df-convert {\n",
              "      background-color: #E8F0FE;\n",
              "      border: none;\n",
              "      border-radius: 50%;\n",
              "      cursor: pointer;\n",
              "      display: none;\n",
              "      fill: #1967D2;\n",
              "      height: 32px;\n",
              "      padding: 0 0 0 0;\n",
              "      width: 32px;\n",
              "    }\n",
              "\n",
              "    .colab-df-convert:hover {\n",
              "      background-color: #E2EBFA;\n",
              "      box-shadow: 0px 1px 2px rgba(60, 64, 67, 0.3), 0px 1px 3px 1px rgba(60, 64, 67, 0.15);\n",
              "      fill: #174EA6;\n",
              "    }\n",
              "\n",
              "    [theme=dark] .colab-df-convert {\n",
              "      background-color: #3B4455;\n",
              "      fill: #D2E3FC;\n",
              "    }\n",
              "\n",
              "    [theme=dark] .colab-df-convert:hover {\n",
              "      background-color: #434B5C;\n",
              "      box-shadow: 0px 1px 3px 1px rgba(0, 0, 0, 0.15);\n",
              "      filter: drop-shadow(0px 1px 2px rgba(0, 0, 0, 0.3));\n",
              "      fill: #FFFFFF;\n",
              "    }\n",
              "  </style>\n",
              "\n",
              "      <script>\n",
              "        const buttonEl =\n",
              "          document.querySelector('#df-1b6d2bf4-6026-41e1-b3b2-ff7486856989 button.colab-df-convert');\n",
              "        buttonEl.style.display =\n",
              "          google.colab.kernel.accessAllowed ? 'block' : 'none';\n",
              "\n",
              "        async function convertToInteractive(key) {\n",
              "          const element = document.querySelector('#df-1b6d2bf4-6026-41e1-b3b2-ff7486856989');\n",
              "          const dataTable =\n",
              "            await google.colab.kernel.invokeFunction('convertToInteractive',\n",
              "                                                     [key], {});\n",
              "          if (!dataTable) return;\n",
              "\n",
              "          const docLinkHtml = 'Like what you see? Visit the ' +\n",
              "            '<a target=\"_blank\" href=https://colab.research.google.com/notebooks/data_table.ipynb>data table notebook</a>'\n",
              "            + ' to learn more about interactive tables.';\n",
              "          element.innerHTML = '';\n",
              "          dataTable['output_type'] = 'display_data';\n",
              "          await google.colab.output.renderOutput(dataTable, element);\n",
              "          const docLink = document.createElement('div');\n",
              "          docLink.innerHTML = docLinkHtml;\n",
              "          element.appendChild(docLink);\n",
              "        }\n",
              "      </script>\n",
              "    </div>\n",
              "  </div>\n"
            ]
          },
          "metadata": {},
          "execution_count": 64
        }
      ],
      "source": [
        "timeDf.head()"
      ]
    },
    {
      "cell_type": "code",
      "execution_count": null,
      "metadata": {
        "id": "s2VL9NH-kbjt"
      },
      "outputs": [],
      "source": [
        "# some cleaning (Acutally a LOT!!)\n",
        "header = np.array(timeDf.columns)\n",
        "timeDf = timeDf[~np.all(timeDf.values == header, axis=1)]\n",
        "timeDf = timeDf[~timeDf['videoId'].str.contains(r'\\bvideoId\\b', case=False, regex=True)]\n",
        "pattern = r'^\\d{4}-\\d{2}-\\d{2}T\\d{2}:\\d{2}:\\d{2}Z$'\n",
        "timeDf = timeDf[timeDf['publishedAt'].str.contains(pattern)]"
      ]
    },
    {
      "cell_type": "code",
      "execution_count": null,
      "metadata": {
        "colab": {
          "base_uri": "https://localhost:8080/"
        },
        "id": "WHH5VHUclNqt",
        "outputId": "cadc891f-abb5-481c-f948-de0168d399a7"
      },
      "outputs": [
        {
          "output_type": "stream",
          "name": "stdout",
          "text": [
            "CPU times: user 430 ms, sys: 2 ms, total: 432 ms\n",
            "Wall time: 434 ms\n"
          ]
        }
      ],
      "source": [
        "%%time\n",
        "# Convert time from  ISO 8601 to a datetime object\n",
        "timeDf['NewDateTime'] = pd.to_datetime(timeDf['publishedAt'])"
      ]
    },
    {
      "cell_type": "code",
      "execution_count": null,
      "metadata": {
        "colab": {
          "base_uri": "https://localhost:8080/"
        },
        "id": "jg0AusWxqy-g",
        "outputId": "a033e069-7d96-4e38-98ce-6d6f026548c1"
      },
      "outputs": [
        {
          "output_type": "stream",
          "name": "stderr",
          "text": [
            "<ipython-input-67-24104e6ccdd9>:2: FutureWarning: Series.dt.weekofyear and Series.dt.week have been deprecated. Please use Series.dt.isocalendar().week instead.\n",
            "  timeDf['week'] = timeDf['NewDateTime'].dt.week\n"
          ]
        }
      ],
      "source": [
        "# Convert datetime object to week, month and day\n",
        "timeDf['week'] = timeDf['NewDateTime'].dt.week\n",
        "timeDf['day'] = timeDf['NewDateTime'].dt.day\n",
        "timeDf['month'] = timeDf['NewDateTime'].dt.month"
      ]
    },
    {
      "cell_type": "code",
      "execution_count": null,
      "metadata": {
        "id": "GZEQrzwhrkM9"
      },
      "outputs": [],
      "source": [
        "# The protests started on Jan 18, 2023\n",
        "# https://indianexpress.com/article/sports/sport-others/wrestlers-protest-timeline-from-jantar-mantar-sit-in-to-nearly-immersing-medals-in-ganga-8649894/"
      ]
    },
    {
      "cell_type": "code",
      "execution_count": null,
      "metadata": {
        "id": "jb2dT3_3uQtl"
      },
      "outputs": [],
      "source": [
        "slur_words_set = set(slur_words)"
      ]
    },
    {
      "cell_type": "code",
      "execution_count": null,
      "metadata": {
        "id": "gpJQlTU2sPgm",
        "colab": {
          "base_uri": "https://localhost:8080/"
        },
        "outputId": "06de5cce-c3a3-46df-8c9e-764a31fa4717"
      },
      "outputs": [
        {
          "output_type": "stream",
          "name": "stdout",
          "text": [
            "CPU times: user 2min 50s, sys: 366 ms, total: 2min 50s\n",
            "Wall time: 2min 55s\n"
          ]
        }
      ],
      "source": [
        "%%time\n",
        "slurWordDf = timeDf[timeDf['textOriginal'].str.contains('|'.join(slur_words_set))]"
      ]
    },
    {
      "cell_type": "code",
      "execution_count": null,
      "metadata": {
        "id": "fIxQ9ZLCtbA-"
      },
      "outputs": [],
      "source": [
        "slur_word_counts = slurWordDf.groupby('week').size()"
      ]
    },
    {
      "cell_type": "code",
      "execution_count": null,
      "metadata": {
        "id": "FaafXkKOtbim"
      },
      "outputs": [],
      "source": [
        "# slur_word_counts"
      ]
    },
    {
      "cell_type": "code",
      "execution_count": null,
      "metadata": {
        "id": "gahtw7lQwlEo"
      },
      "outputs": [],
      "source": [
        "pattern = r'(?i)(' + '|'.join(slur_words_set) + r')'"
      ]
    },
    {
      "cell_type": "code",
      "source": [
        "compiled_pattern = re.compile(pattern, re.IGNORECASE)"
      ],
      "metadata": {
        "id": "zDT13znpSVn6"
      },
      "execution_count": null,
      "outputs": []
    },
    {
      "cell_type": "code",
      "execution_count": null,
      "metadata": {
        "id": "qWDldU2XyHk9",
        "colab": {
          "base_uri": "https://localhost:8080/"
        },
        "outputId": "8cde81da-eace-44d2-a664-5238e43b59a7"
      },
      "outputs": [
        {
          "output_type": "stream",
          "name": "stderr",
          "text": [
            "<timed exec>:2: UserWarning: This pattern is interpreted as a regular expression, and has match groups. To actually get the groups, use str.extract.\n"
          ]
        },
        {
          "output_type": "stream",
          "name": "stdout",
          "text": [
            "CPU times: user 8min 56s, sys: 1.12 s, total: 8min 57s\n",
            "Wall time: 9min 8s\n"
          ]
        }
      ],
      "source": [
        "%%time\n",
        "# counts2 = timeDf.groupby('week')['textOriginal'].apply(lambda x: x.str.contains(pattern, case=False).sum())\n",
        "counts2 = timeDf.groupby('week')['textOriginal'].apply(lambda x: x.str.contains(compiled_pattern).sum())"
      ]
    },
    {
      "cell_type": "code",
      "execution_count": null,
      "metadata": {
        "id": "wUltAZQuwZMe",
        "colab": {
          "base_uri": "https://localhost:8080/",
          "height": 87
        },
        "outputId": "283a0e14-9f8f-4106-9cb3-2f44a41ebb68"
      },
      "outputs": [
        {
          "output_type": "execute_result",
          "data": {
            "text/plain": [
              "\"\\nLets plot the frequceny of slur words used vs time (week)\\nThe week number denoted in the plot is the number of the week in the year (out of 52)\\nWeek 17 - Apr. 24, 2023 - a day after protests started outside jantar mantar\\nWeek 22 - May 29, 2023 -  Delhi Police detains top wrestlers\\n          May 30, 2023 - The wrestlers, hurt by the way the police had detained them and then filed FIRs against them,\\n                            announce they will go to Har Ki Pauri in Haridwar to 'immerse their medals' in the River Ganga.\\nWeek 28 - July 10, 2023 - last day till I scrapped the data\\n\""
            ],
            "application/vnd.google.colaboratory.intrinsic+json": {
              "type": "string"
            }
          },
          "metadata": {},
          "execution_count": 76
        }
      ],
      "source": [
        "'''\n",
        "Lets plot the frequceny of slur words used vs time (week)\n",
        "The week number denoted in the plot is the number of the week in the year (out of 52)\n",
        "Week 17 - Apr. 24, 2023 - a day after protests started outside jantar mantar\n",
        "Week 22 - May 29, 2023 -  Delhi Police detains top wrestlers\n",
        "          May 30, 2023 - The wrestlers, hurt by the way the police had detained them and then filed FIRs against them,\n",
        "                            announce they will go to Har Ki Pauri in Haridwar to 'immerse their medals' in the River Ganga.\n",
        "Week 28 - July 10, 2023 - last day till I scrapped the data\n",
        "'''"
      ]
    },
    {
      "cell_type": "code",
      "source": [
        "plt.plot(slur_word_counts.index[1:], slur_word_counts.values[1:], color='blue', label='simple regex')\n",
        "plt.plot(counts2.index[8:], counts2.values[8:], color='red', label='case ignored regex')\n",
        "\n",
        "plt.xlabel('Week')\n",
        "plt.ylabel('Count of Slur Words')\n",
        "plt.title('Count of Slur Words per week')\n",
        "plt.xticks(counts2.index[8:])\n",
        "plt.legend(loc='best', fontsize='small')\n",
        "plt.show()"
      ],
      "metadata": {
        "colab": {
          "base_uri": "https://localhost:8080/",
          "height": 472
        },
        "id": "hMGxG1vXW6Gl",
        "outputId": "f883c395-9ce7-4c5b-9d65-17ed10c3c6dc"
      },
      "execution_count": null,
      "outputs": [
        {
          "output_type": "display_data",
          "data": {
            "text/plain": [
              "<Figure size 640x480 with 1 Axes>"
            ],
            "image/png": "[encoded data removed]"
          },
          "metadata": {}
        }
      ]
    },
    {
      "cell_type": "code",
      "execution_count": null,
      "metadata": {
        "colab": {
          "base_uri": "https://localhost:8080/",
          "height": 472
        },
        "id": "24_DP4KOtbJN",
        "outputId": "cd736ced-c7e6-49cb-8fe1-5dc927817bf9"
      },
      "outputs": [
        {
          "output_type": "display_data",
          "data": {
            "text/plain": [
              "<Figure size 640x480 with 1 Axes>"
            ],
            "image/png": "[encoded data removed]"
          },
          "metadata": {}
        }
      ],
      "source": [
        "plt.semilogy(slur_word_counts.index[1:], slur_word_counts.values[1:], color='blue', label='simple regex')\n",
        "plt.semilogy(counts2.index[8:], counts2.values[8:], color='red', label='case ignored regex')\n",
        "plt.xlabel('Week')\n",
        "plt.ylabel('Count of Slur Words')\n",
        "plt.title('Count of Slur Words per week - semilogy scale')\n",
        "plt.xticks(counts2.index[8:])\n",
        "plt.legend(loc='best', fontsize='small')\n",
        "plt.show()"
      ]
    },
    {
      "cell_type": "code",
      "source": [
        "# the pattern pretty much remains the same, only the count of slur words are increasing"
      ],
      "metadata": {
        "id": "jG195x3iXquu"
      },
      "execution_count": null,
      "outputs": []
    },
    {
      "cell_type": "code",
      "source": [
        "# Lets now look at the like counts accross the timeline of these hateful tweets."
      ],
      "metadata": {
        "id": "N13ydKtsZenU"
      },
      "execution_count": null,
      "outputs": []
    },
    {
      "cell_type": "code",
      "source": [
        "word_likes_per_week = {}"
      ],
      "metadata": {
        "id": "C5TCZPMYZsaL"
      },
      "execution_count": null,
      "outputs": []
    },
    {
      "cell_type": "code",
      "source": [
        "timeDf['likeCount'] = timeDf['likeCount'].astype(int)"
      ],
      "metadata": {
        "id": "ZasJp_Zibgfw"
      },
      "execution_count": null,
      "outputs": []
    },
    {
      "cell_type": "code",
      "source": [
        "from collections import defaultdict"
      ],
      "metadata": {
        "id": "y95wNuDzdnkP"
      },
      "execution_count": null,
      "outputs": []
    },
    {
      "cell_type": "code",
      "source": [
        "%%time\n",
        "for index, row in timeDf.iterrows():\n",
        "    text = row['textOriginal']\n",
        "    week = row['week']\n",
        "    like_count = row['likeCount']\n",
        "    matches = compiled_pattern.findall(text)\n",
        "    for word in matches:\n",
        "        if week not in word_likes_per_week:\n",
        "            word_likes_per_week[week] = 0\n",
        "        word_likes_per_week[week] += like_count"
      ],
      "metadata": {
        "colab": {
          "base_uri": "https://localhost:8080/"
        },
        "id": "0KRWYlPyatli",
        "outputId": "0bb7bcf7-102b-49a9-f6ac-39d943577ba8"
      },
      "execution_count": null,
      "outputs": [
        {
          "output_type": "stream",
          "name": "stdout",
          "text": [
            "CPU times: user 11min 13s, sys: 1.68 s, total: 11min 14s\n",
            "Wall time: 11min 18s\n"
          ]
        }
      ]
    },
    {
      "cell_type": "code",
      "source": [
        "word_likes_per_week"
      ],
      "metadata": {
        "colab": {
          "base_uri": "https://localhost:8080/"
        },
        "id": "b0HyMhvFattp",
        "outputId": "e735facd-0da6-48e4-f246-97044fe40009"
      },
      "execution_count": null,
      "outputs": [
        {
          "output_type": "execute_result",
          "data": {
            "text/plain": [
              "{27: 27,\n",
              " 26: 639,\n",
              " 25: 89,\n",
              " 24: 366,\n",
              " 23: 2006,\n",
              " 22: 13568,\n",
              " 21: 3911,\n",
              " 19: 2048,\n",
              " 18: 4532,\n",
              " 17: 4434,\n",
              " 3: 629,\n",
              " 20: 441,\n",
              " 4: 24}"
            ]
          },
          "metadata": {},
          "execution_count": 85
        }
      ]
    },
    {
      "cell_type": "code",
      "source": [
        "x = sorted(word_likes_per_week.keys())\n",
        "y = [word_likes_per_week[week] for week in x]"
      ],
      "metadata": {
        "id": "1P4ZOTPoat06"
      },
      "execution_count": null,
      "outputs": []
    },
    {
      "cell_type": "code",
      "source": [
        "plt.plot(x[2:], y[2:])\n",
        "plt.xlabel('Week')\n",
        "plt.ylabel('Total Like Count')\n",
        "plt.title('Total Like Count per Week for Identified Words')\n",
        "plt.xticks(x[2:])\n",
        "plt.show()"
      ],
      "metadata": {
        "colab": {
          "base_uri": "https://localhost:8080/",
          "height": 472
        },
        "id": "TTmTd_qEat9b",
        "outputId": "bf551646-b21c-4574-d43b-447b4c358dc7"
      },
      "execution_count": null,
      "outputs": [
        {
          "output_type": "display_data",
          "data": {
            "text/plain": [
              "<Figure size 640x480 with 1 Axes>"
            ],
            "image/png": "[encoded data removed]"
          },
          "metadata": {}
        }
      ]
    },
    {
      "cell_type": "code",
      "source": [
        "plt.semilogy(x[2:], y[2:])\n",
        "plt.xlabel('Week')\n",
        "plt.ylabel('Total Like Count')\n",
        "plt.title('Total Like Count per Week for Identified Words - Semilogy Scale')\n",
        "plt.xticks(x[2:])\n",
        "plt.show()"
      ],
      "metadata": {
        "colab": {
          "base_uri": "https://localhost:8080/",
          "height": 472
        },
        "id": "qIhfNf-mauG6",
        "outputId": "d08a09db-1070-4b62-d434-a47e6343cf42"
      },
      "execution_count": null,
      "outputs": [
        {
          "output_type": "display_data",
          "data": {
            "text/plain": [
              "<Figure size 640x480 with 1 Axes>"
            ],
            "image/png": "[encoded data removed]"
          },
          "metadata": {}
        }
      ]
    },
    {
      "cell_type": "code",
      "source": [
        "# These plots could be showing these results because it could be also from the bias in dataset sampling."
      ],
      "metadata": {
        "id": "qxHF6VLyfIjQ"
      },
      "execution_count": null,
      "outputs": []
    },
    {
      "cell_type": "code",
      "source": [
        "'''\n",
        "check if these hateful tweets are replies or not too\n",
        "'''"
      ],
      "metadata": {
        "id": "RQhQJwzcZsvD",
        "colab": {
          "base_uri": "https://localhost:8080/",
          "height": 35
        },
        "outputId": "3366961f-5b41-4659-9b1a-27e7ded31776"
      },
      "execution_count": null,
      "outputs": [
        {
          "output_type": "execute_result",
          "data": {
            "text/plain": [
              "'\\ncheck if these hateful tweets are replies or not too\\n'"
            ],
            "application/vnd.google.colaboratory.intrinsic+json": {
              "type": "string"
            }
          },
          "metadata": {},
          "execution_count": 90
        }
      ]
    },
    {
      "cell_type": "markdown",
      "source": [
        "## Exisiting Lexicon Search\n",
        "- Peach Teach Lab - Lexicons for detecting hate in african countries. - [Link](https://www.peacetechlab.org/hate-speech-lexicons)\n",
        "- Hurtlex - Hateful words lexicon for many languages - [Link](https://github.com/valeriobasile/hurtlex)"
      ],
      "metadata": {
        "id": "Sm98j62rSdD8"
      }
    },
    {
      "cell_type": "code",
      "source": [],
      "metadata": {
        "id": "22GidLhVSa3k"
      },
      "execution_count": null,
      "outputs": []
    },
    {
      "cell_type": "markdown",
      "metadata": {
        "id": "eNkKoD02ihbl"
      },
      "source": [
        "## Identify Text Language"
      ]
    },
    {
      "cell_type": "code",
      "execution_count": null,
      "metadata": {
        "id": "5zuX_hBZmHKk"
      },
      "outputs": [],
      "source": [
        "# !pip install polyglot==16.7.4 > /dev/null 2>&1\n",
        "# !pip install PyICU > /dev/null 2>&1\n",
        "# !pip install pycld2 > /dev/null 2>&1"
      ]
    },
    {
      "cell_type": "code",
      "execution_count": null,
      "metadata": {
        "id": "9F2MFqHhhgF2"
      },
      "outputs": [],
      "source": [
        "# from polyglot.detect import Detector\n",
        "# text = 'आप कैसे हैं?' text = 'તમે કેમ છો' text = 'எப்படி இருக்கிறீர்கள்' text = 'സുഖമാണോ' text = 'तू कसा आहेस'\n",
        "# text_sample = 'आप कैसे हैं?'\n",
        "# detector = Detector(text_sample)\n",
        "# print(detector.language)\n",
        "# print(detector.language.code)"
      ]
    },
    {
      "cell_type": "markdown",
      "source": [
        "## Uli Model"
      ],
      "metadata": {
        "id": "Zay3VZ07_PQX"
      }
    },
    {
      "cell_type": "code",
      "source": [
        "!pip install transformers > /dev/null 2>&1\n",
        "!pip install --upgrade accelerate > /dev/null 2>&1"
      ],
      "metadata": {
        "id": "YKODI9PyDpoD"
      },
      "execution_count": 1,
      "outputs": []
    },
    {
      "cell_type": "code",
      "source": [
        "import torch\n",
        "import torch.nn.functional as F\n",
        "from transformers import pipeline\n",
        "from transformers import AutoModelForSequenceClassification\n",
        "from transformers import TFAutoModelForSequenceClassification\n",
        "from transformers import AutoTokenizer, AutoConfig"
      ],
      "metadata": {
        "id": "LIUpmOl7DKug"
      },
      "execution_count": 2,
      "outputs": []
    },
    {
      "cell_type": "code",
      "source": [
        "uliDf = df[['videoId','textOriginal','authorChannelId', 'likeCount', 'publishedAt', 'updatedAt', 'commentId']]"
      ],
      "metadata": {
        "colab": {
          "base_uri": "https://localhost:8080/",
          "height": 165
        },
        "id": "o_2acZSS_O20",
        "outputId": "00a9729d-ea9a-496c-f668-4e79df2887ca"
      },
      "execution_count": 16,
      "outputs": [
        {
          "output_type": "error",
          "ename": "NameError",
          "evalue": "ignored",
          "traceback": [
            "\u001b[0;31m---------------------------------------------------------------------------\u001b[0m",
            "\u001b[0;31mNameError\u001b[0m                                 Traceback (most recent call last)",
            "\u001b[0;32m<ipython-input-16-b68a190e4b25>\u001b[0m in \u001b[0;36m<cell line: 1>\u001b[0;34m()\u001b[0m\n\u001b[0;32m----> 1\u001b[0;31m \u001b[0muliDf\u001b[0m \u001b[0;34m=\u001b[0m \u001b[0mdf\u001b[0m\u001b[0;34m[\u001b[0m\u001b[0;34m[\u001b[0m\u001b[0;34m'videoId'\u001b[0m\u001b[0;34m,\u001b[0m\u001b[0;34m'textOriginal'\u001b[0m\u001b[0;34m,\u001b[0m\u001b[0;34m'authorChannelId'\u001b[0m\u001b[0;34m,\u001b[0m \u001b[0;34m'likeCount'\u001b[0m\u001b[0;34m,\u001b[0m \u001b[0;34m'publishedAt'\u001b[0m\u001b[0;34m,\u001b[0m \u001b[0;34m'updatedAt'\u001b[0m\u001b[0;34m,\u001b[0m \u001b[0;34m'commentId'\u001b[0m\u001b[0;34m]\u001b[0m\u001b[0;34m]\u001b[0m\u001b[0;34m\u001b[0m\u001b[0;34m\u001b[0m\u001b[0m\n\u001b[0m",
            "\u001b[0;31mNameError\u001b[0m: name 'df' is not defined"
          ]
        }
      ]
    },
    {
      "cell_type": "code",
      "source": [
        "uliDf.shape"
      ],
      "metadata": {
        "colab": {
          "base_uri": "https://localhost:8080/",
          "height": 165
        },
        "id": "mej1oBn-AQwv",
        "outputId": "cc496f64-7f05-463a-ad68-6950f00e0d62"
      },
      "execution_count": 17,
      "outputs": [
        {
          "output_type": "error",
          "ename": "NameError",
          "evalue": "ignored",
          "traceback": [
            "\u001b[0;31m---------------------------------------------------------------------------\u001b[0m",
            "\u001b[0;31mNameError\u001b[0m                                 Traceback (most recent call last)",
            "\u001b[0;32m<ipython-input-17-0a2b996363f2>\u001b[0m in \u001b[0;36m<cell line: 1>\u001b[0;34m()\u001b[0m\n\u001b[0;32m----> 1\u001b[0;31m \u001b[0muliDf\u001b[0m\u001b[0;34m.\u001b[0m\u001b[0mshape\u001b[0m\u001b[0;34m\u001b[0m\u001b[0;34m\u001b[0m\u001b[0m\n\u001b[0m",
            "\u001b[0;31mNameError\u001b[0m: name 'uliDf' is not defined"
          ]
        }
      ]
    },
    {
      "cell_type": "code",
      "source": [
        "header = np.array(uliDf.columns)\n",
        "uliDf = uliDf[~np.all(uliDf.values == header, axis=1)]\n",
        "uliDf = uliDf[~uliDf['videoId'].str.contains(r'\\bvideoId\\b', case=False, regex=True)]\n",
        "pattern = r'^\\d{4}-\\d{2}-\\d{2}T\\d{2}:\\d{2}:\\d{2}Z$'\n",
        "uliDf = uliDf[uliDf['publishedAt'].str.contains(pattern)]"
      ],
      "metadata": {
        "id": "TsYOFaKM_7cl"
      },
      "execution_count": null,
      "outputs": []
    },
    {
      "cell_type": "code",
      "source": [
        "config = {\n",
        "  \"MODEL\": \"tattle-admin/july22-xlmtwtroberta-da-multi\",\n",
        "  \"PRE_TRAINED_MODEL\": \"assets/model_state_dict.bin\",\n",
        "  \"CLASS_NAMES\": [\"None\", \"Hate\"],\n",
        "  \"MAX_SEQUENCE_LEN\": 128\n",
        "}"
      ],
      "metadata": {
        "id": "y42WJIHs_8PK"
      },
      "execution_count": 18,
      "outputs": []
    },
    {
      "cell_type": "code",
      "source": [
        "label_map= {\n",
        "        0: 'None',\n",
        "        1: 'Hate'\n",
        "}"
      ],
      "metadata": {
        "id": "pvoipB1n_8DE"
      },
      "execution_count": 19,
      "outputs": []
    },
    {
      "cell_type": "code",
      "source": [
        "def preprocess(text):\n",
        "    new_text = []\n",
        "    for t in text.split(\" \"):\n",
        "        t = '@user' if t.startswith('@') and len(t) > 1 else t\n",
        "        t = 'http' if t.startswith('http') else t\n",
        "        new_text.append(t)\n",
        "    return \" \".join(new_text)"
      ],
      "metadata": {
        "id": "MeV1Fb2j_74d"
      },
      "execution_count": 20,
      "outputs": []
    },
    {
      "cell_type": "code",
      "source": [
        "device = torch.device(\"cuda:0\" if torch.cuda.is_available() else \"cpu\")"
      ],
      "metadata": {
        "id": "CErJNsuL_7oE"
      },
      "execution_count": 21,
      "outputs": []
    },
    {
      "cell_type": "code",
      "source": [
        "tokenizer = AutoTokenizer.from_pretrained(config['MODEL'])\n",
        "classifier = AutoModelForSequenceClassification.from_pretrained(config['MODEL'])\n",
        "classifier = classifier.to(device)"
      ],
      "metadata": {
        "colab": {
          "base_uri": "https://localhost:8080/",
          "height": 209,
          "referenced_widgets": [
            "4f21cf55da2d4c499d7215a617bd65b6",
            "2d4bf8e21dd24efaa859a60c109ceb7b",
            "07815fb3a34341c197a9fe7e3dfa8ab3",
            "812d0e17b4784eb4ae4b33239752561b",
            "e7d08b8c087545a0b0561007be38b5b6",
            "26dc9489a35b4ed9a7324b6ddfeacf26",
            "51041f90ab1343a9bc9ef9d50132e4ca",
            "996bfc053cc046c891a3dcfaf011040c",
            "7be65636db6a4e1eaeeb1bafb26dc25c",
            "c39890a885e845cfb0cfa8e8f82a017a",
            "d054f2f9d38b4f438576c1c38cf14a01",
            "cf91cab68fd4453697d8dd8bb1465f4a",
            "dbafe54d13874bacb653c3872504b631",
            "1b8e35895a9b4fdd9d54d2af2a55955f",
            "975f974d18bd482da0cd9e062d1b3b9d",
            "258e3ec2cb1d4295aa3dbcd0398180cf",
            "d3b2cebbed6249d4bbee56ee78a9ce8e",
            "a70cf86df7b34e5ba616d38c097b94b0",
            "cece66231abd4a6d9a791af3d10e634e",
            "38cb6acaf84f47969a2e7b27465820e3",
            "c8b19afbba3c4fdf96ab65faa2b8fae8",
            "f90f8a1344c84659a98c122539cf9b3a",
            "ddd18b6034114089b59747ae19ea5a4f",
            "bf7835e725c643da82d8e04b64ae5155",
            "c7e488009b7340ae93f4d31b99f773bb",
            "6c4861e2bd214b1cbb402352d78e5fff",
            "ea1867f36f5b453ab0a0beb25509de06",
            "7af891b25eb04528bf32beb85667fd2c",
            "6e7499d5f36b452f8d4938b0aa8c06bf",
            "de6248e3de544e75a34f449c429fb8e1",
            "f778f49e024246b0aeb4518e7b638b32",
            "2677888960ea477eb785484393dd144f",
            "0560bbd38644418f9edef726b38d6f60",
            "fb6053f7e3f140ef940087afb25640bb",
            "3cbabae7c0c84134b3992048f756f252",
            "923cac52999546fab73930c653f1653c",
            "897dd2e423734a3eba70454bf3edf047",
            "f709287555ee47c5b9f1da008ddb1f50",
            "be639b505e5144998d452ed32bb936d5",
            "57c0a6682a9144d0a1b2a838a31856c4",
            "538833b5b3db4d59b7012372d29f86b5",
            "08c378b0e0724d17a0f8d31fb3997629",
            "1302c6580a324f90b96083555c14119f",
            "0a707610534c417faa8db468ddf60aea",
            "2237dd67a5ec4e43ab24d4b0900b7e3b",
            "fe0dfe82dfca44b0a001196bbb05302a",
            "ce3d91a0052b4d2387e167df5e3e2d88",
            "8e7ae215522d48d785fca7e24ca3138a",
            "824f18a3e4284f49bba35f4e201eb2b1",
            "96309ef09fb54b8a980e5e16002f44ac",
            "d9dc9a6a0ee9403aa2b868e5b323d8f3",
            "a3f796d1d3e341f98b7747bd1ed96176",
            "1e45877dc83f4f94910664752b697169",
            "07b2e3aaa0f0495192865e681dca10fb",
            "dfafc9c227b14368b38ee186f88891d8",
            "50dc1bada6614cf98714159a30fbcc64",
            "2e8e25d2109646bd9131bb14191064a7",
            "d68e95575198410ca6468250b57add81",
            "e822e917382e4a41ac5fda75c59aac85",
            "cd27c1208440455d99520a10a0a073f2",
            "5c438397721d4e25ac436dffc7e035d1",
            "775e19c884b24d0eb22cba9e5796b7d5",
            "2e46f1e310de41fbbe38e043120a499c",
            "dc08795d7d8048a0a9c0d01729d4c3de",
            "7dece8890b7e46f4b1f2dbd9e41309b2",
            "c256303192824f1a8e65bbbdbc5994dc"
          ]
        },
        "id": "u8LV36dJDHqj",
        "outputId": "edabd200-eb78-434c-930c-64639864967d"
      },
      "execution_count": 22,
      "outputs": [
        {
          "output_type": "display_data",
          "data": {
            "text/plain": [
              "Downloading (…)okenizer_config.json:   0%|          | 0.00/412 [00:00<?, ?B/s]"
            ],
            "application/vnd.jupyter.widget-view+json": {
              "version_major": 2,
              "version_minor": 0,
              "model_id": "4f21cf55da2d4c499d7215a617bd65b6"
            }
          },
          "metadata": {}
        },
        {
          "output_type": "display_data",
          "data": {
            "text/plain": [
              "Downloading (…)tencepiece.bpe.model:   0%|          | 0.00/5.07M [00:00<?, ?B/s]"
            ],
            "application/vnd.jupyter.widget-view+json": {
              "version_major": 2,
              "version_minor": 0,
              "model_id": "cf91cab68fd4453697d8dd8bb1465f4a"
            }
          },
          "metadata": {}
        },
        {
          "output_type": "display_data",
          "data": {
            "text/plain": [
              "Downloading tokenizer.json:   0%|          | 0.00/17.1M [00:00<?, ?B/s]"
            ],
            "application/vnd.jupyter.widget-view+json": {
              "version_major": 2,
              "version_minor": 0,
              "model_id": "ddd18b6034114089b59747ae19ea5a4f"
            }
          },
          "metadata": {}
        },
        {
          "output_type": "display_data",
          "data": {
            "text/plain": [
              "Downloading (…)cial_tokens_map.json:   0%|          | 0.00/239 [00:00<?, ?B/s]"
            ],
            "application/vnd.jupyter.widget-view+json": {
              "version_major": 2,
              "version_minor": 0,
              "model_id": "fb6053f7e3f140ef940087afb25640bb"
            }
          },
          "metadata": {}
        },
        {
          "output_type": "display_data",
          "data": {
            "text/plain": [
              "Downloading (…)lve/main/config.json:   0%|          | 0.00/844 [00:00<?, ?B/s]"
            ],
            "application/vnd.jupyter.widget-view+json": {
              "version_major": 2,
              "version_minor": 0,
              "model_id": "2237dd67a5ec4e43ab24d4b0900b7e3b"
            }
          },
          "metadata": {}
        },
        {
          "output_type": "display_data",
          "data": {
            "text/plain": [
              "Downloading pytorch_model.bin:   0%|          | 0.00/1.11G [00:00<?, ?B/s]"
            ],
            "application/vnd.jupyter.widget-view+json": {
              "version_major": 2,
              "version_minor": 0,
              "model_id": "50dc1bada6614cf98714159a30fbcc64"
            }
          },
          "metadata": {}
        }
      ]
    },
    {
      "cell_type": "code",
      "source": [
        "# classifier.load_state_dict(\n",
        "#     torch.load(config[\"PRE_TRAINED_MODEL\"], map_location=device)\n",
        "# )"
      ],
      "metadata": {
        "id": "5bZuRhEhDH40"
      },
      "execution_count": 23,
      "outputs": []
    },
    {
      "cell_type": "code",
      "source": [
        "text = \"yeh tu kya kar raha hai, fuck you and your job and your broke ass car\""
      ],
      "metadata": {
        "id": "8jOscWomDIAO"
      },
      "execution_count": 28,
      "outputs": []
    },
    {
      "cell_type": "code",
      "source": [
        "encoded_input = tokenizer(text, return_tensors='pt', padding=True, truncation=True, max_length=128)\n",
        "encoded_input.to(device)"
      ],
      "metadata": {
        "colab": {
          "base_uri": "https://localhost:8080/"
        },
        "id": "b2bp9OzADIHm",
        "outputId": "375e51fc-442d-40db-a992-89c5228fd213"
      },
      "execution_count": 29,
      "outputs": [
        {
          "output_type": "execute_result",
          "data": {
            "text/plain": [
              "{'input_ids': tensor([[    0, 76021,   370, 30427,  1185,  8980,  1337,     4, 40878,   398,\n",
              "           136,   935, 12447,   136,   935,  7155,   350, 20751,  2258,     2]]), 'attention_mask': tensor([[1, 1, 1, 1, 1, 1, 1, 1, 1, 1, 1, 1, 1, 1, 1, 1, 1, 1, 1, 1]])}"
            ]
          },
          "metadata": {},
          "execution_count": 29
        }
      ]
    },
    {
      "cell_type": "code",
      "source": [
        "output = classifier(**encoded_input)"
      ],
      "metadata": {
        "id": "UzKGHmZpDIXn"
      },
      "execution_count": 30,
      "outputs": []
    },
    {
      "cell_type": "code",
      "source": [
        "with torch.no_grad():\n",
        "    out = F.softmax(output[0].data, dim=-1).detach().cpu()\n",
        "    out_label = torch.argmax(out,-1).numpy()\n",
        "    print(f\"{label_map[out_label[0]]}, {out[0][out_label].numpy()[0]}\")"
      ],
      "metadata": {
        "colab": {
          "base_uri": "https://localhost:8080/"
        },
        "id": "a2Yua3SjGM3C",
        "outputId": "f6147972-75e3-48f4-b9b8-ad2efc72e68c"
      },
      "execution_count": 31,
      "outputs": [
        {
          "output_type": "stream",
          "name": "stdout",
          "text": [
            "None, 0.5048973560333252\n"
          ]
        }
      ]
    },
    {
      "cell_type": "markdown",
      "source": [
        "## nirantk/hinglish-bert"
      ],
      "metadata": {
        "id": "mWPgRIQqpDcb"
      }
    },
    {
      "cell_type": "code",
      "source": [
        "model_h = AutoModelForSequenceClassification.from_pretrained(\"nirantk/hinglish-bert\")\n",
        "tokenizer_h = AutoTokenizer.from_pretrained(\"nirantk/hinglish-bert\")"
      ],
      "metadata": {
        "colab": {
          "base_uri": "https://localhost:8080/",
          "height": 232,
          "referenced_widgets": [
            "e6812a1ba36b40e38f1f2c3bf9c742ef",
            "0a6ed8befc5542c5869c6461dab12e37",
            "c51d084760594e14ae323ea54a4c7563",
            "da23feaa23a747fea4bbe4436b9d3ac4",
            "6a14990c48ee4833bc1b5a91ed3e0f80",
            "21c9b6adb79d4a07bb448bc535dfbac7",
            "e65609e5e1674fc699f54dbbda3ca186",
            "be01ae690189434b8b03857c2949c76c",
            "4e84eefae6ec4ed58df751b117003165",
            "20936129a71f49da9d455664af00da9c",
            "7fb4aaf285f74628bb641545e129a179",
            "1948ecc486494fe2b1d7ef9b3a64a94e",
            "43d958d3ce4d4807ad578092e5e5a6f2",
            "47299946ee0f4908878969f66c4af1a4",
            "a3d242cc718d40509c4b0b26b145ecf8",
            "ca5d2c53cabf44b9806c8d449fffd60e",
            "8ebfacc737ce48b7b18eea5052f2c7ee",
            "484ec66337de4274ab932e947fd89fbf",
            "7cd3e75456944fb3914257dcb7da1c68",
            "f9c2b70f596349a7afd549427c1f7292",
            "db2a9884c9ba42bc93e0615413c305fb",
            "7bc0955d1cba4b7383c8de3beaf5099e",
            "307f17f68efb4977a33c4b768dc14a18",
            "a8a8018661b44f97993b35d0687e6e4d",
            "1031109b2edc415d90fecfea4d55dc9e",
            "c33774e8c44d49609805359d37800e44",
            "dfeeafc9306744d7bd829e41272aed3a",
            "cd8434b0978041fbb7d3ab73b1347a05",
            "388d9853094a45f09553693ca6b15ea7",
            "0da92f710def48b689b051b46f476e95",
            "7e4bbcaf1bc64a46af061e9c2ac17b74",
            "68e2161077d745bcb5aa135f857e4c8e",
            "5811e30f79ea43bf890687ea1ac80c3f",
            "b2f056894b064cac8c58db52ff020bb1",
            "3a2a10011fa34ed4883c02900ca4cd0b",
            "1e63c7aac83d46eaba8c27e6f73c1b1a",
            "efd3a4527e3143b089bcebba6c57685c",
            "5765e0e390844739b47137d2b5a335b7",
            "5edc935114354ef7b813b126dd569b6f",
            "f7d20d3a328d4a6f893d9e21ae3897d4",
            "d0a1edeb20e84f1a95abe18cff50fcf2",
            "46ada55d62d44a07af718699aa231939",
            "896b3e3696834bb3b004a7b2c0ed7806",
            "ed38a5cf2ca7405fb444e1106dbb1c2a",
            "5fa36ca730644d5fa34e8ad5b716aa33",
            "e6c6e6841f50432db24bf2be1537abdc",
            "ff05ec2fd2044dcb8be886735dadfc95",
            "7e0b9d159c944f45926cb383692c8c7b",
            "60903fbb33004f8f8c5474fc7a8fe129",
            "9624be1999fd4e26a3205ff076154bc3",
            "da82fabffddf492db4940fa85edf3b4e",
            "e3218faf4e714982a1999b6c9650e7c0",
            "60581a2fb1294a96966248cad2d5fb79",
            "f397a6c14460413a979a373370a7a19f",
            "003f9e9d2f754a83b44353f09b56fd5e"
          ]
        },
        "id": "cV1nTKtUGM99",
        "outputId": "f0f86808-a3c3-46c2-a98c-4c6a3d300a3f"
      },
      "execution_count": 3,
      "outputs": [
        {
          "output_type": "display_data",
          "data": {
            "text/plain": [
              "Downloading (…)lve/main/config.json:   0%|          | 0.00/1.22k [00:00<?, ?B/s]"
            ],
            "application/vnd.jupyter.widget-view+json": {
              "version_major": 2,
              "version_minor": 0,
              "model_id": "e6812a1ba36b40e38f1f2c3bf9c742ef"
            }
          },
          "metadata": {}
        },
        {
          "output_type": "display_data",
          "data": {
            "text/plain": [
              "Downloading model.safetensors:   0%|          | 0.00/714M [00:00<?, ?B/s]"
            ],
            "application/vnd.jupyter.widget-view+json": {
              "version_major": 2,
              "version_minor": 0,
              "model_id": "1948ecc486494fe2b1d7ef9b3a64a94e"
            }
          },
          "metadata": {}
        },
        {
          "output_type": "stream",
          "name": "stderr",
          "text": [
            "Some weights of BertForSequenceClassification were not initialized from the model checkpoint at nirantk/hinglish-bert and are newly initialized: ['classifier.weight', 'classifier.bias']\n",
            "You should probably TRAIN this model on a down-stream task to be able to use it for predictions and inference.\n"
          ]
        },
        {
          "output_type": "display_data",
          "data": {
            "text/plain": [
              "Downloading (…)okenizer_config.json:   0%|          | 0.00/152 [00:00<?, ?B/s]"
            ],
            "application/vnd.jupyter.widget-view+json": {
              "version_major": 2,
              "version_minor": 0,
              "model_id": "307f17f68efb4977a33c4b768dc14a18"
            }
          },
          "metadata": {}
        },
        {
          "output_type": "display_data",
          "data": {
            "text/plain": [
              "Downloading (…)solve/main/vocab.txt:   0%|          | 0.00/996k [00:00<?, ?B/s]"
            ],
            "application/vnd.jupyter.widget-view+json": {
              "version_major": 2,
              "version_minor": 0,
              "model_id": "b2f056894b064cac8c58db52ff020bb1"
            }
          },
          "metadata": {}
        },
        {
          "output_type": "display_data",
          "data": {
            "text/plain": [
              "Downloading (…)cial_tokens_map.json:   0%|          | 0.00/112 [00:00<?, ?B/s]"
            ],
            "application/vnd.jupyter.widget-view+json": {
              "version_major": 2,
              "version_minor": 0,
              "model_id": "5fa36ca730644d5fa34e8ad5b716aa33"
            }
          },
          "metadata": {}
        }
      ]
    },
    {
      "cell_type": "code",
      "source": [
        "device_h = torch.device(\"cuda:0\" if torch.cuda.is_available() else \"cpu\")"
      ],
      "metadata": {
        "id": "LWp6j-ewUIHu"
      },
      "execution_count": 5,
      "outputs": []
    },
    {
      "cell_type": "code",
      "source": [
        "classifier_h = pipeline(\"sentiment-analysis\", model=model_h, tokenizer = tokenizer_h, device=device_h)"
      ],
      "metadata": {
        "id": "aoTByUh8TCbA"
      },
      "execution_count": 6,
      "outputs": []
    },
    {
      "cell_type": "code",
      "source": [
        "text = \"nikal yaha se madarchod\""
      ],
      "metadata": {
        "id": "Pb05arxhUSNR"
      },
      "execution_count": 13,
      "outputs": []
    },
    {
      "cell_type": "code",
      "source": [
        "res = classifier_h(text)"
      ],
      "metadata": {
        "id": "XNugQ9NdTCj-"
      },
      "execution_count": 14,
      "outputs": []
    },
    {
      "cell_type": "code",
      "source": [
        "res"
      ],
      "metadata": {
        "colab": {
          "base_uri": "https://localhost:8080/"
        },
        "id": "qEKKCghaTDT2",
        "outputId": "d8441ce8-cb77-4496-842d-76f24d3e5bf8"
      },
      "execution_count": 15,
      "outputs": [
        {
          "output_type": "execute_result",
          "data": {
            "text/plain": [
              "[{'label': 'LABEL_0', 'score': 0.5254068374633789}]"
            ]
          },
          "metadata": {},
          "execution_count": 15
        }
      ]
    },
    {
      "cell_type": "markdown",
      "metadata": {
        "id": "p-fYcTNMBtix"
      },
      "source": [
        "## Running the Seintiment Analysis Model"
      ]
    },
    {
      "cell_type": "code",
      "execution_count": null,
      "metadata": {
        "id": "TftBhjyZBnsr"
      },
      "outputs": [],
      "source": [
        "import numpy as np\n",
        "from scipy.special import softmax"
      ]
    },
    {
      "cell_type": "code",
      "execution_count": null,
      "metadata": {
        "id": "b3e329IOCwqA"
      },
      "outputs": [],
      "source": [
        "# https://huggingface.co/cardiffnlp/twitter-roberta-base-sentiment-latest\n",
        "model_path = f\"cardiffnlp/twitter-roberta-base-sentiment-latest\""
      ]
    },
    {
      "cell_type": "code",
      "execution_count": null,
      "metadata": {
        "id": "j1OSG3_AB_N1"
      },
      "outputs": [],
      "source": [
        "# sentiment_task = pipeline(\"sentiment-analysis\", model=model_path, tokenizer=model_path)\n",
        "# sentiment_task(\"I am very happy today\")"
      ]
    },
    {
      "cell_type": "code",
      "execution_count": null,
      "metadata": {
        "colab": {
          "base_uri": "https://localhost:8080/",
          "height": 249,
          "referenced_widgets": [
            "1eec6c90788f4076a6cf7b8a5c40e84d",
            "30120488a48647a09042ef7aa70ab281",
            "5ff13bb1828c44848c632d90f2e26f69",
            "56c63f49282e49099429005781e98068",
            "07e0ab83f4b0424f9de9d5654562ba53",
            "0ae67973835246f0b7745a33a0a7ccef",
            "13a62fd5bf8e42279d86ac0c1e45b602",
            "70bc6f8f577a46e981c9e725221bc1c6",
            "ff9a6dd48d424919b597f5adbd388561",
            "5ba1099e45cc43d089307d74ae7004b3",
            "9e25d72364894248bd83fcc1a052ee17",
            "b0b9fcb158bf494e914a9d2443ff19d4",
            "de323052ad614d43964ac7cf599bcc71",
            "4e888e2492f944c2b9a2d68dac697e52",
            "c5324317f1954fd7ba313a24f050549b",
            "3c9b418f5f794cd8a4683020f9006dfd",
            "79b9c1dadae84344add8424c5e5af4ad",
            "8ca6bdf399a04a6289885e0695322ff1",
            "8adf8e0060374483bbcd9e0cdcf4011c",
            "0d2f07c4895c4c17b2486f08b6cacd1c",
            "c775b7a9bbb34e6bb8f9d56f1cd844c9",
            "e8eb57a16f0f4ff988ed49877b61ebd8",
            "37ff5c7e3fdf4710a2cff430bc90914a",
            "f2ff51c1dbd549e7a46644842f340634",
            "c2a52119bdb7401ba6e690c4fc184963",
            "ccd58e3d890b4abb9c87c0c8bc669aef",
            "da8ec395032b4fe4a3b3072a30b534ba",
            "f0261cb47ace48c2a0bb1dc608a0221c",
            "b04b352feb624bd5961c1a6486f93b2c",
            "f466334b35ee4b008060297426177b84",
            "8282a046043c4f7893924fcd21fc2bb7",
            "06561aa0bf744e2982dff28ffedd0775",
            "784c538d90114393b419159f97820d79",
            "0bcab979b4b842c486b901259ebf2724",
            "f69f405eee6a461cbede4788e8f98beb",
            "449a13d6e8fd473b938e669acafdf461",
            "87fdb876b1204fc0810b165b1d1c81e8",
            "8004c5894c86462481549d30e9b4a942",
            "2a8c0ceedcef4eb59979b62c1df85851",
            "f83e180c0d4742f3ac4e379c3281b417",
            "6acc7febccea4d7fa5918941f1201ec9",
            "ac742addbd3645a1a1740a6e3dc168d5",
            "68c1b0e5c23c46729535e8e40abcac6d",
            "0e8c42bffa5f4bf296fd08a61c970edc",
            "16752c0989b245b99a1645aee9046a3a",
            "b095340c80364f3b8800c34c6717354d",
            "a8e155049e6744b0b9c267a321344f86",
            "0dbbc3abc53245fcae0197130fbca275",
            "9429b19c81cc4ac089b558884339482c",
            "00ec7b3f48ff49ccaee1f9029ff03afd",
            "8e4b9ee3591944f4bb943fcfec17bce1",
            "dee3784e36a54870b76a41cb1f47afb9",
            "1b546bb8f37e4e7d883e5bb62b7c05b5",
            "37729244277c4a549a853543a77f7c22",
            "327a95db95e3489cb55e817dead23cc5"
          ]
        },
        "id": "ubsQvPNGD65B",
        "outputId": "1934b69d-0a73-4a18-e486-cdbbad271198"
      },
      "outputs": [
        {
          "output_type": "display_data",
          "data": {
            "text/plain": [
              "Downloading (…)lve/main/config.json:   0%|          | 0.00/929 [00:00<?, ?B/s]"
            ],
            "application/vnd.jupyter.widget-view+json": {
              "version_major": 2,
              "version_minor": 0,
              "model_id": "1eec6c90788f4076a6cf7b8a5c40e84d"
            }
          },
          "metadata": {}
        },
        {
          "output_type": "display_data",
          "data": {
            "text/plain": [
              "Downloading (…)olve/main/vocab.json:   0%|          | 0.00/899k [00:00<?, ?B/s]"
            ],
            "application/vnd.jupyter.widget-view+json": {
              "version_major": 2,
              "version_minor": 0,
              "model_id": "b0b9fcb158bf494e914a9d2443ff19d4"
            }
          },
          "metadata": {}
        },
        {
          "output_type": "display_data",
          "data": {
            "text/plain": [
              "Downloading (…)olve/main/merges.txt:   0%|          | 0.00/456k [00:00<?, ?B/s]"
            ],
            "application/vnd.jupyter.widget-view+json": {
              "version_major": 2,
              "version_minor": 0,
              "model_id": "37ff5c7e3fdf4710a2cff430bc90914a"
            }
          },
          "metadata": {}
        },
        {
          "output_type": "display_data",
          "data": {
            "text/plain": [
              "Downloading (…)cial_tokens_map.json:   0%|          | 0.00/239 [00:00<?, ?B/s]"
            ],
            "application/vnd.jupyter.widget-view+json": {
              "version_major": 2,
              "version_minor": 0,
              "model_id": "0bcab979b4b842c486b901259ebf2724"
            }
          },
          "metadata": {}
        },
        {
          "output_type": "display_data",
          "data": {
            "text/plain": [
              "Downloading pytorch_model.bin:   0%|          | 0.00/501M [00:00<?, ?B/s]"
            ],
            "application/vnd.jupyter.widget-view+json": {
              "version_major": 2,
              "version_minor": 0,
              "model_id": "16752c0989b245b99a1645aee9046a3a"
            }
          },
          "metadata": {}
        },
        {
          "output_type": "stream",
          "name": "stderr",
          "text": [
            "Some weights of the model checkpoint at cardiffnlp/twitter-roberta-base-sentiment-latest were not used when initializing RobertaForSequenceClassification: ['roberta.pooler.dense.bias', 'roberta.pooler.dense.weight']\n",
            "- This IS expected if you are initializing RobertaForSequenceClassification from the checkpoint of a model trained on another task or with another architecture (e.g. initializing a BertForSequenceClassification model from a BertForPreTraining model).\n",
            "- This IS NOT expected if you are initializing RobertaForSequenceClassification from the checkpoint of a model that you expect to be exactly identical (initializing a BertForSequenceClassification model from a BertForSequenceClassification model).\n"
          ]
        }
      ],
      "source": [
        "tokenizer = AutoTokenizer.from_pretrained(model_path)\n",
        "config = AutoConfig.from_pretrained(model_path)\n",
        "model = AutoModelForSequenceClassification.from_pretrained(model_path)"
      ]
    },
    {
      "cell_type": "code",
      "execution_count": null,
      "metadata": {
        "id": "mhH1XNCUoFtI"
      },
      "outputs": [],
      "source": [
        "text = \"Covid cases are increasing fast!\""
      ]
    },
    {
      "cell_type": "code",
      "execution_count": null,
      "metadata": {
        "id": "zYa0OWNVoLip"
      },
      "outputs": [],
      "source": [
        "def apply_sentiment_analysis(text):\n",
        "    encoded_input = tokenizer(text, return_tensors='pt')\n",
        "    output = model(**encoded_input)\n",
        "    scores = output[0][0].detach().numpy()\n",
        "    scores = np.exp(scores) / np.exp(scores).sum()\n",
        "    ranking = np.argsort(scores)\n",
        "    ranking = ranking[::-1]\n",
        "    label = config.id2label[ranking[0]]\n",
        "    score = scores[ranking[0]]\n",
        "    return label, score"
      ]
    },
    {
      "cell_type": "code",
      "execution_count": null,
      "metadata": {
        "colab": {
          "base_uri": "https://localhost:8080/"
        },
        "id": "JMN4-62-pN2y",
        "outputId": "0bea1674-1bb9-4d2b-ba89-76c19a07ea1e"
      },
      "outputs": [
        {
          "output_type": "stream",
          "name": "stdout",
          "text": [
            "negative, 0.7235763072967529\n"
          ]
        }
      ],
      "source": [
        "label, score = apply_sentiment_analysis(text)\n",
        "print(f\"{label}, {score}\")"
      ]
    },
    {
      "cell_type": "code",
      "execution_count": null,
      "metadata": {
        "id": "zWl0NocOqSUB"
      },
      "outputs": [],
      "source": [
        "sentimentDf = df[['videoId','textOriginal','authorChannelId', 'likeCount', 'publishedAt', 'updatedAt', 'commentId']]"
      ]
    },
    {
      "cell_type": "code",
      "execution_count": null,
      "metadata": {
        "id": "V63NxhtOsCHo"
      },
      "outputs": [],
      "source": [
        "sentimentDf2 = sentimentDf.head(5000)"
      ]
    },
    {
      "cell_type": "code",
      "execution_count": null,
      "metadata": {
        "colab": {
          "base_uri": "https://localhost:8080/"
        },
        "id": "EEivkoUNsROo",
        "outputId": "77311966-d614-4df8-b6f7-7d44875f8450"
      },
      "outputs": [
        {
          "output_type": "execute_result",
          "data": {
            "text/plain": [
              "(5000, 7)"
            ]
          },
          "metadata": {},
          "execution_count": 112
        }
      ],
      "source": [
        "sentimentDf2.shape"
      ]
    },
    {
      "cell_type": "code",
      "execution_count": null,
      "metadata": {
        "colab": {
          "base_uri": "https://localhost:8080/"
        },
        "id": "gi8xtFtXswfU",
        "outputId": "009ceffc-d5c0-4a7a-a837-2d95f529cfc5"
      },
      "outputs": [
        {
          "output_type": "stream",
          "name": "stderr",
          "text": [
            "<ipython-input-113-11ed32de50ef>:1: SettingWithCopyWarning: \n",
            "A value is trying to be set on a copy of a slice from a DataFrame.\n",
            "Try using .loc[row_indexer,col_indexer] = value instead\n",
            "\n",
            "See the caveats in the documentation: https://pandas.pydata.org/pandas-docs/stable/user_guide/indexing.html#returning-a-view-versus-a-copy\n",
            "  sentimentDf2['label'] = \"\"\n",
            "<ipython-input-113-11ed32de50ef>:2: SettingWithCopyWarning: \n",
            "A value is trying to be set on a copy of a slice from a DataFrame.\n",
            "Try using .loc[row_indexer,col_indexer] = value instead\n",
            "\n",
            "See the caveats in the documentation: https://pandas.pydata.org/pandas-docs/stable/user_guide/indexing.html#returning-a-view-versus-a-copy\n",
            "  sentimentDf2['score'] = 0.0\n"
          ]
        }
      ],
      "source": [
        "sentimentDf2['label'] = \"\"\n",
        "sentimentDf2['score'] = 0.0"
      ]
    },
    {
      "cell_type": "code",
      "execution_count": null,
      "metadata": {
        "colab": {
          "base_uri": "https://localhost:8080/",
          "height": 337
        },
        "id": "phh2AX9gs3zk",
        "outputId": "1ba016b9-0a9a-41ee-b3da-a51d512c7589"
      },
      "outputs": [
        {
          "output_type": "execute_result",
          "data": {
            "text/plain": [
              "       videoId                                       textOriginal  \\\n",
              "0  EBOKYsWUhvI  Dub maro jaato 😢😢.\\nTumse tumare ladkiya nhi b...   \n",
              "1  EBOKYsWUhvI                                   Haar gye bechare   \n",
              "2  EBOKYsWUhvI  Dhamki mili pahalwano ko aur sab manage kr liy...   \n",
              "3  EBOKYsWUhvI  Jaato pr ye boj rhega ki vo apni hi vyavstha s...   \n",
              "4  EBOKYsWUhvI           Pahlwan jante h kuch nhi kr payenge uska   \n",
              "\n",
              "                         authorChannelId likeCount           publishedAt  \\\n",
              "0  {'value': 'UC5G8fjqoiFIqHpKyVeOTsFg'}         0  2023-07-06T07:04:02Z   \n",
              "1  {'value': 'UCsMGRdH3YHrbs21NOraRuyQ'}         0  2023-07-03T22:21:37Z   \n",
              "2  {'value': 'UC_dWuNh6zydTHIRr6hi3Omg'}         0  2023-07-03T05:06:33Z   \n",
              "3  {'value': 'UCVdGObpHM-IMHB_b7_K-7rA'}         1  2023-07-02T03:39:50Z   \n",
              "4  {'value': 'UCRkcewHFhxE5KfLHrLx0wpA'}         0  2023-06-28T15:10:36Z   \n",
              "\n",
              "              updatedAt                   commentId label  score  \n",
              "0  2023-07-06T07:04:02Z  UgwbyvIkkAhUdaCFpcp4AaABAg          0.0  \n",
              "1  2023-07-03T22:21:37Z  Ugyz3OwSXamho91-8I94AaABAg          0.0  \n",
              "2  2023-07-03T05:06:33Z  Ugyphs1TT1Yoj7MZBVJ4AaABAg          0.0  \n",
              "3  2023-07-02T03:39:50Z  UgwnIxpuFAcKsEzffBp4AaABAg          0.0  \n",
              "4  2023-06-28T15:10:36Z  UgxjuOlDigsmuDu53J54AaABAg          0.0  "
            ],
            "text/html": [
              "\n",
              "\n",
              "  <div id=\"df-787d57a3-7753-48a4-b8c4-0fb65c2c9adb\">\n",
              "    <div class=\"colab-df-container\">\n",
              "      <div>\n",
              "<style scoped>\n",
              "    .dataframe tbody tr th:only-of-type {\n",
              "        vertical-align: middle;\n",
              "    }\n",
              "\n",
              "    .dataframe tbody tr th {\n",
              "        vertical-align: top;\n",
              "    }\n",
              "\n",
              "    .dataframe thead th {\n",
              "        text-align: right;\n",
              "    }\n",
              "</style>\n",
              "<table border=\"1\" class=\"dataframe\">\n",
              "  <thead>\n",
              "    <tr style=\"text-align: right;\">\n",
              "      <th></th>\n",
              "      <th>videoId</th>\n",
              "      <th>textOriginal</th>\n",
              "      <th>authorChannelId</th>\n",
              "      <th>likeCount</th>\n",
              "      <th>publishedAt</th>\n",
              "      <th>updatedAt</th>\n",
              "      <th>commentId</th>\n",
              "      <th>label</th>\n",
              "      <th>score</th>\n",
              "    </tr>\n",
              "  </thead>\n",
              "  <tbody>\n",
              "    <tr>\n",
              "      <th>0</th>\n",
              "      <td>EBOKYsWUhvI</td>\n",
              "      <td>Dub maro jaato 😢😢.\\nTumse tumare ladkiya nhi b...</td>\n",
              "      <td>{'value': 'UC5G8fjqoiFIqHpKyVeOTsFg'}</td>\n",
              "      <td>0</td>\n",
              "      <td>2023-07-06T07:04:02Z</td>\n",
              "      <td>2023-07-06T07:04:02Z</td>\n",
              "      <td>UgwbyvIkkAhUdaCFpcp4AaABAg</td>\n",
              "      <td></td>\n",
              "      <td>0.0</td>\n",
              "    </tr>\n",
              "    <tr>\n",
              "      <th>1</th>\n",
              "      <td>EBOKYsWUhvI</td>\n",
              "      <td>Haar gye bechare</td>\n",
              "      <td>{'value': 'UCsMGRdH3YHrbs21NOraRuyQ'}</td>\n",
              "      <td>0</td>\n",
              "      <td>2023-07-03T22:21:37Z</td>\n",
              "      <td>2023-07-03T22:21:37Z</td>\n",
              "      <td>Ugyz3OwSXamho91-8I94AaABAg</td>\n",
              "      <td></td>\n",
              "      <td>0.0</td>\n",
              "    </tr>\n",
              "    <tr>\n",
              "      <th>2</th>\n",
              "      <td>EBOKYsWUhvI</td>\n",
              "      <td>Dhamki mili pahalwano ko aur sab manage kr liy...</td>\n",
              "      <td>{'value': 'UC_dWuNh6zydTHIRr6hi3Omg'}</td>\n",
              "      <td>0</td>\n",
              "      <td>2023-07-03T05:06:33Z</td>\n",
              "      <td>2023-07-03T05:06:33Z</td>\n",
              "      <td>Ugyphs1TT1Yoj7MZBVJ4AaABAg</td>\n",
              "      <td></td>\n",
              "      <td>0.0</td>\n",
              "    </tr>\n",
              "    <tr>\n",
              "      <th>3</th>\n",
              "      <td>EBOKYsWUhvI</td>\n",
              "      <td>Jaato pr ye boj rhega ki vo apni hi vyavstha s...</td>\n",
              "      <td>{'value': 'UCVdGObpHM-IMHB_b7_K-7rA'}</td>\n",
              "      <td>1</td>\n",
              "      <td>2023-07-02T03:39:50Z</td>\n",
              "      <td>2023-07-02T03:39:50Z</td>\n",
              "      <td>UgwnIxpuFAcKsEzffBp4AaABAg</td>\n",
              "      <td></td>\n",
              "      <td>0.0</td>\n",
              "    </tr>\n",
              "    <tr>\n",
              "      <th>4</th>\n",
              "      <td>EBOKYsWUhvI</td>\n",
              "      <td>Pahlwan jante h kuch nhi kr payenge uska</td>\n",
              "      <td>{'value': 'UCRkcewHFhxE5KfLHrLx0wpA'}</td>\n",
              "      <td>0</td>\n",
              "      <td>2023-06-28T15:10:36Z</td>\n",
              "      <td>2023-06-28T15:10:36Z</td>\n",
              "      <td>UgxjuOlDigsmuDu53J54AaABAg</td>\n",
              "      <td></td>\n",
              "      <td>0.0</td>\n",
              "    </tr>\n",
              "  </tbody>\n",
              "</table>\n",
              "</div>\n",
              "      <button class=\"colab-df-convert\" onclick=\"convertToInteractive('df-787d57a3-7753-48a4-b8c4-0fb65c2c9adb')\"\n",
              "              title=\"Convert this dataframe to an interactive table.\"\n",
              "              style=\"display:none;\">\n",
              "\n",
              "  <svg xmlns=\"http://www.w3.org/2000/svg\" height=\"24px\"viewBox=\"0 0 24 24\"\n",
              "       width=\"24px\">\n",
              "    <path d=\"M0 0h24v24H0V0z\" fill=\"none\"/>\n",
              "    <path d=\"M18.56 5.44l.94 2.06.94-2.06 2.06-.94-2.06-.94-.94-2.06-.94 2.06-2.06.94zm-11 1L8.5 8.5l.94-2.06 2.06-.94-2.06-.94L8.5 2.5l-.94 2.06-2.06.94zm10 10l.94 2.06.94-2.06 2.06-.94-2.06-.94-.94-2.06-.94 2.06-2.06.94z\"/><path d=\"M17.41 7.96l-1.37-1.37c-.4-.4-.92-.59-1.43-.59-.52 0-1.04.2-1.43.59L10.3 9.45l-7.72 7.72c-.78.78-.78 2.05 0 2.83L4 21.41c.39.39.9.59 1.41.59.51 0 1.02-.2 1.41-.59l7.78-7.78 2.81-2.81c.8-.78.8-2.07 0-2.86zM5.41 20L4 18.59l7.72-7.72 1.47 1.35L5.41 20z\"/>\n",
              "  </svg>\n",
              "      </button>\n",
              "\n",
              "\n",
              "\n",
              "    <div id=\"df-894cc581-4474-482d-aeef-7ad887fb5b03\">\n",
              "      <button class=\"colab-df-quickchart\" onclick=\"quickchart('df-894cc581-4474-482d-aeef-7ad887fb5b03')\"\n",
              "              title=\"Suggest charts.\"\n",
              "              style=\"display:none;\">\n",
              "\n",
              "<svg xmlns=\"http://www.w3.org/2000/svg\" height=\"24px\"viewBox=\"0 0 24 24\"\n",
              "     width=\"24px\">\n",
              "    <g>\n",
              "        <path d=\"M19 3H5c-1.1 0-2 .9-2 2v14c0 1.1.9 2 2 2h14c1.1 0 2-.9 2-2V5c0-1.1-.9-2-2-2zM9 17H7v-7h2v7zm4 0h-2V7h2v10zm4 0h-2v-4h2v4z\"/>\n",
              "    </g>\n",
              "</svg>\n",
              "      </button>\n",
              "    </div>\n",
              "\n",
              "<style>\n",
              "  .colab-df-quickchart {\n",
              "    background-color: #E8F0FE;\n",
              "    border: none;\n",
              "    border-radius: 50%;\n",
              "    cursor: pointer;\n",
              "    display: none;\n",
              "    fill: #1967D2;\n",
              "    height: 32px;\n",
              "    padding: 0 0 0 0;\n",
              "    width: 32px;\n",
              "  }\n",
              "\n",
              "  .colab-df-quickchart:hover {\n",
              "    background-color: #E2EBFA;\n",
              "    box-shadow: 0px 1px 2px rgba(60, 64, 67, 0.3), 0px 1px 3px 1px rgba(60, 64, 67, 0.15);\n",
              "    fill: #174EA6;\n",
              "  }\n",
              "\n",
              "  [theme=dark] .colab-df-quickchart {\n",
              "    background-color: #3B4455;\n",
              "    fill: #D2E3FC;\n",
              "  }\n",
              "\n",
              "  [theme=dark] .colab-df-quickchart:hover {\n",
              "    background-color: #434B5C;\n",
              "    box-shadow: 0px 1px 3px 1px rgba(0, 0, 0, 0.15);\n",
              "    filter: drop-shadow(0px 1px 2px rgba(0, 0, 0, 0.3));\n",
              "    fill: #FFFFFF;\n",
              "  }\n",
              "</style>\n",
              "\n",
              "    <script>\n",
              "      async function quickchart(key) {\n",
              "        const containerElement = document.querySelector('#' + key);\n",
              "        const charts = await google.colab.kernel.invokeFunction(\n",
              "            'suggestCharts', [key], {});\n",
              "      }\n",
              "    </script>\n",
              "\n",
              "      <script>\n",
              "\n",
              "function displayQuickchartButton(domScope) {\n",
              "  let quickchartButtonEl =\n",
              "    domScope.querySelector('#df-894cc581-4474-482d-aeef-7ad887fb5b03 button.colab-df-quickchart');\n",
              "  quickchartButtonEl.style.display =\n",
              "    google.colab.kernel.accessAllowed ? 'block' : 'none';\n",
              "}\n",
              "\n",
              "        displayQuickchartButton(document);\n",
              "      </script>\n",
              "      <style>\n",
              "    .colab-df-container {\n",
              "      display:flex;\n",
              "      flex-wrap:wrap;\n",
              "      gap: 12px;\n",
              "    }\n",
              "\n",
              "    .colab-df-convert {\n",
              "      background-color: #E8F0FE;\n",
              "      border: none;\n",
              "      border-radius: 50%;\n",
              "      cursor: pointer;\n",
              "      display: none;\n",
              "      fill: #1967D2;\n",
              "      height: 32px;\n",
              "      padding: 0 0 0 0;\n",
              "      width: 32px;\n",
              "    }\n",
              "\n",
              "    .colab-df-convert:hover {\n",
              "      background-color: #E2EBFA;\n",
              "      box-shadow: 0px 1px 2px rgba(60, 64, 67, 0.3), 0px 1px 3px 1px rgba(60, 64, 67, 0.15);\n",
              "      fill: #174EA6;\n",
              "    }\n",
              "\n",
              "    [theme=dark] .colab-df-convert {\n",
              "      background-color: #3B4455;\n",
              "      fill: #D2E3FC;\n",
              "    }\n",
              "\n",
              "    [theme=dark] .colab-df-convert:hover {\n",
              "      background-color: #434B5C;\n",
              "      box-shadow: 0px 1px 3px 1px rgba(0, 0, 0, 0.15);\n",
              "      filter: drop-shadow(0px 1px 2px rgba(0, 0, 0, 0.3));\n",
              "      fill: #FFFFFF;\n",
              "    }\n",
              "  </style>\n",
              "\n",
              "      <script>\n",
              "        const buttonEl =\n",
              "          document.querySelector('#df-787d57a3-7753-48a4-b8c4-0fb65c2c9adb button.colab-df-convert');\n",
              "        buttonEl.style.display =\n",
              "          google.colab.kernel.accessAllowed ? 'block' : 'none';\n",
              "\n",
              "        async function convertToInteractive(key) {\n",
              "          const element = document.querySelector('#df-787d57a3-7753-48a4-b8c4-0fb65c2c9adb');\n",
              "          const dataTable =\n",
              "            await google.colab.kernel.invokeFunction('convertToInteractive',\n",
              "                                                     [key], {});\n",
              "          if (!dataTable) return;\n",
              "\n",
              "          const docLinkHtml = 'Like what you see? Visit the ' +\n",
              "            '<a target=\"_blank\" href=https://colab.research.google.com/notebooks/data_table.ipynb>data table notebook</a>'\n",
              "            + ' to learn more about interactive tables.';\n",
              "          element.innerHTML = '';\n",
              "          dataTable['output_type'] = 'display_data';\n",
              "          await google.colab.output.renderOutput(dataTable, element);\n",
              "          const docLink = document.createElement('div');\n",
              "          docLink.innerHTML = docLinkHtml;\n",
              "          element.appendChild(docLink);\n",
              "        }\n",
              "      </script>\n",
              "    </div>\n",
              "  </div>\n"
            ]
          },
          "metadata": {},
          "execution_count": 114
        }
      ],
      "source": [
        "sentimentDf2.head()"
      ]
    },
    {
      "cell_type": "code",
      "execution_count": null,
      "metadata": {
        "colab": {
          "base_uri": "https://localhost:8080/"
        },
        "id": "7aLfC5W7sSmo",
        "outputId": "fc56c4f9-f5a6-4717-eeda-8dc1d5546efb"
      },
      "outputs": [
        {
          "output_type": "stream",
          "name": "stdout",
          "text": [
            "CPU times: user 4 µs, sys: 0 ns, total: 4 µs\n",
            "Wall time: 7.39 µs\n"
          ]
        }
      ],
      "source": [
        "%%time\n",
        "# for index, row in sentimentDf2.iterrows():\n",
        "#     text = row['textOriginal']\n",
        "#     label, score = apply_sentiment_analysis(text)\n",
        "#     row['label'] = label\n",
        "#     row['score'] = score"
      ]
    },
    {
      "cell_type": "code",
      "execution_count": null,
      "metadata": {
        "colab": {
          "base_uri": "https://localhost:8080/",
          "height": 337
        },
        "id": "3hgSHVFStKK5",
        "outputId": "a1785115-4b2b-45ee-dbc2-bcb1ddf4727d"
      },
      "outputs": [
        {
          "output_type": "execute_result",
          "data": {
            "text/plain": [
              "       videoId                                       textOriginal  \\\n",
              "0  EBOKYsWUhvI  Dub maro jaato 😢😢.\\nTumse tumare ladkiya nhi b...   \n",
              "1  EBOKYsWUhvI                                   Haar gye bechare   \n",
              "2  EBOKYsWUhvI  Dhamki mili pahalwano ko aur sab manage kr liy...   \n",
              "3  EBOKYsWUhvI  Jaato pr ye boj rhega ki vo apni hi vyavstha s...   \n",
              "4  EBOKYsWUhvI           Pahlwan jante h kuch nhi kr payenge uska   \n",
              "\n",
              "                         authorChannelId likeCount           publishedAt  \\\n",
              "0  {'value': 'UC5G8fjqoiFIqHpKyVeOTsFg'}         0  2023-07-06T07:04:02Z   \n",
              "1  {'value': 'UCsMGRdH3YHrbs21NOraRuyQ'}         0  2023-07-03T22:21:37Z   \n",
              "2  {'value': 'UC_dWuNh6zydTHIRr6hi3Omg'}         0  2023-07-03T05:06:33Z   \n",
              "3  {'value': 'UCVdGObpHM-IMHB_b7_K-7rA'}         1  2023-07-02T03:39:50Z   \n",
              "4  {'value': 'UCRkcewHFhxE5KfLHrLx0wpA'}         0  2023-06-28T15:10:36Z   \n",
              "\n",
              "              updatedAt                   commentId label  score  \n",
              "0  2023-07-06T07:04:02Z  UgwbyvIkkAhUdaCFpcp4AaABAg          0.0  \n",
              "1  2023-07-03T22:21:37Z  Ugyz3OwSXamho91-8I94AaABAg          0.0  \n",
              "2  2023-07-03T05:06:33Z  Ugyphs1TT1Yoj7MZBVJ4AaABAg          0.0  \n",
              "3  2023-07-02T03:39:50Z  UgwnIxpuFAcKsEzffBp4AaABAg          0.0  \n",
              "4  2023-06-28T15:10:36Z  UgxjuOlDigsmuDu53J54AaABAg          0.0  "
            ],
            "text/html": [
              "\n",
              "\n",
              "  <div id=\"df-59ca1e8c-c02d-48b6-b485-4a9b5fb6d1be\">\n",
              "    <div class=\"colab-df-container\">\n",
              "      <div>\n",
              "<style scoped>\n",
              "    .dataframe tbody tr th:only-of-type {\n",
              "        vertical-align: middle;\n",
              "    }\n",
              "\n",
              "    .dataframe tbody tr th {\n",
              "        vertical-align: top;\n",
              "    }\n",
              "\n",
              "    .dataframe thead th {\n",
              "        text-align: right;\n",
              "    }\n",
              "</style>\n",
              "<table border=\"1\" class=\"dataframe\">\n",
              "  <thead>\n",
              "    <tr style=\"text-align: right;\">\n",
              "      <th></th>\n",
              "      <th>videoId</th>\n",
              "      <th>textOriginal</th>\n",
              "      <th>authorChannelId</th>\n",
              "      <th>likeCount</th>\n",
              "      <th>publishedAt</th>\n",
              "      <th>updatedAt</th>\n",
              "      <th>commentId</th>\n",
              "      <th>label</th>\n",
              "      <th>score</th>\n",
              "    </tr>\n",
              "  </thead>\n",
              "  <tbody>\n",
              "    <tr>\n",
              "      <th>0</th>\n",
              "      <td>EBOKYsWUhvI</td>\n",
              "      <td>Dub maro jaato 😢😢.\\nTumse tumare ladkiya nhi b...</td>\n",
              "      <td>{'value': 'UC5G8fjqoiFIqHpKyVeOTsFg'}</td>\n",
              "      <td>0</td>\n",
              "      <td>2023-07-06T07:04:02Z</td>\n",
              "      <td>2023-07-06T07:04:02Z</td>\n",
              "      <td>UgwbyvIkkAhUdaCFpcp4AaABAg</td>\n",
              "      <td></td>\n",
              "      <td>0.0</td>\n",
              "    </tr>\n",
              "    <tr>\n",
              "      <th>1</th>\n",
              "      <td>EBOKYsWUhvI</td>\n",
              "      <td>Haar gye bechare</td>\n",
              "      <td>{'value': 'UCsMGRdH3YHrbs21NOraRuyQ'}</td>\n",
              "      <td>0</td>\n",
              "      <td>2023-07-03T22:21:37Z</td>\n",
              "      <td>2023-07-03T22:21:37Z</td>\n",
              "      <td>Ugyz3OwSXamho91-8I94AaABAg</td>\n",
              "      <td></td>\n",
              "      <td>0.0</td>\n",
              "    </tr>\n",
              "    <tr>\n",
              "      <th>2</th>\n",
              "      <td>EBOKYsWUhvI</td>\n",
              "      <td>Dhamki mili pahalwano ko aur sab manage kr liy...</td>\n",
              "      <td>{'value': 'UC_dWuNh6zydTHIRr6hi3Omg'}</td>\n",
              "      <td>0</td>\n",
              "      <td>2023-07-03T05:06:33Z</td>\n",
              "      <td>2023-07-03T05:06:33Z</td>\n",
              "      <td>Ugyphs1TT1Yoj7MZBVJ4AaABAg</td>\n",
              "      <td></td>\n",
              "      <td>0.0</td>\n",
              "    </tr>\n",
              "    <tr>\n",
              "      <th>3</th>\n",
              "      <td>EBOKYsWUhvI</td>\n",
              "      <td>Jaato pr ye boj rhega ki vo apni hi vyavstha s...</td>\n",
              "      <td>{'value': 'UCVdGObpHM-IMHB_b7_K-7rA'}</td>\n",
              "      <td>1</td>\n",
              "      <td>2023-07-02T03:39:50Z</td>\n",
              "      <td>2023-07-02T03:39:50Z</td>\n",
              "      <td>UgwnIxpuFAcKsEzffBp4AaABAg</td>\n",
              "      <td></td>\n",
              "      <td>0.0</td>\n",
              "    </tr>\n",
              "    <tr>\n",
              "      <th>4</th>\n",
              "      <td>EBOKYsWUhvI</td>\n",
              "      <td>Pahlwan jante h kuch nhi kr payenge uska</td>\n",
              "      <td>{'value': 'UCRkcewHFhxE5KfLHrLx0wpA'}</td>\n",
              "      <td>0</td>\n",
              "      <td>2023-06-28T15:10:36Z</td>\n",
              "      <td>2023-06-28T15:10:36Z</td>\n",
              "      <td>UgxjuOlDigsmuDu53J54AaABAg</td>\n",
              "      <td></td>\n",
              "      <td>0.0</td>\n",
              "    </tr>\n",
              "  </tbody>\n",
              "</table>\n",
              "</div>\n",
              "      <button class=\"colab-df-convert\" onclick=\"convertToInteractive('df-59ca1e8c-c02d-48b6-b485-4a9b5fb6d1be')\"\n",
              "              title=\"Convert this dataframe to an interactive table.\"\n",
              "              style=\"display:none;\">\n",
              "\n",
              "  <svg xmlns=\"http://www.w3.org/2000/svg\" height=\"24px\"viewBox=\"0 0 24 24\"\n",
              "       width=\"24px\">\n",
              "    <path d=\"M0 0h24v24H0V0z\" fill=\"none\"/>\n",
              "    <path d=\"M18.56 5.44l.94 2.06.94-2.06 2.06-.94-2.06-.94-.94-2.06-.94 2.06-2.06.94zm-11 1L8.5 8.5l.94-2.06 2.06-.94-2.06-.94L8.5 2.5l-.94 2.06-2.06.94zm10 10l.94 2.06.94-2.06 2.06-.94-2.06-.94-.94-2.06-.94 2.06-2.06.94z\"/><path d=\"M17.41 7.96l-1.37-1.37c-.4-.4-.92-.59-1.43-.59-.52 0-1.04.2-1.43.59L10.3 9.45l-7.72 7.72c-.78.78-.78 2.05 0 2.83L4 21.41c.39.39.9.59 1.41.59.51 0 1.02-.2 1.41-.59l7.78-7.78 2.81-2.81c.8-.78.8-2.07 0-2.86zM5.41 20L4 18.59l7.72-7.72 1.47 1.35L5.41 20z\"/>\n",
              "  </svg>\n",
              "      </button>\n",
              "\n",
              "\n",
              "\n",
              "    <div id=\"df-e817e5fd-c325-46e0-9d08-d29c6639d5fe\">\n",
              "      <button class=\"colab-df-quickchart\" onclick=\"quickchart('df-e817e5fd-c325-46e0-9d08-d29c6639d5fe')\"\n",
              "              title=\"Suggest charts.\"\n",
              "              style=\"display:none;\">\n",
              "\n",
              "<svg xmlns=\"http://www.w3.org/2000/svg\" height=\"24px\"viewBox=\"0 0 24 24\"\n",
              "     width=\"24px\">\n",
              "    <g>\n",
              "        <path d=\"M19 3H5c-1.1 0-2 .9-2 2v14c0 1.1.9 2 2 2h14c1.1 0 2-.9 2-2V5c0-1.1-.9-2-2-2zM9 17H7v-7h2v7zm4 0h-2V7h2v10zm4 0h-2v-4h2v4z\"/>\n",
              "    </g>\n",
              "</svg>\n",
              "      </button>\n",
              "    </div>\n",
              "\n",
              "<style>\n",
              "  .colab-df-quickchart {\n",
              "    background-color: #E8F0FE;\n",
              "    border: none;\n",
              "    border-radius: 50%;\n",
              "    cursor: pointer;\n",
              "    display: none;\n",
              "    fill: #1967D2;\n",
              "    height: 32px;\n",
              "    padding: 0 0 0 0;\n",
              "    width: 32px;\n",
              "  }\n",
              "\n",
              "  .colab-df-quickchart:hover {\n",
              "    background-color: #E2EBFA;\n",
              "    box-shadow: 0px 1px 2px rgba(60, 64, 67, 0.3), 0px 1px 3px 1px rgba(60, 64, 67, 0.15);\n",
              "    fill: #174EA6;\n",
              "  }\n",
              "\n",
              "  [theme=dark] .colab-df-quickchart {\n",
              "    background-color: #3B4455;\n",
              "    fill: #D2E3FC;\n",
              "  }\n",
              "\n",
              "  [theme=dark] .colab-df-quickchart:hover {\n",
              "    background-color: #434B5C;\n",
              "    box-shadow: 0px 1px 3px 1px rgba(0, 0, 0, 0.15);\n",
              "    filter: drop-shadow(0px 1px 2px rgba(0, 0, 0, 0.3));\n",
              "    fill: #FFFFFF;\n",
              "  }\n",
              "</style>\n",
              "\n",
              "    <script>\n",
              "      async function quickchart(key) {\n",
              "        const containerElement = document.querySelector('#' + key);\n",
              "        const charts = await google.colab.kernel.invokeFunction(\n",
              "            'suggestCharts', [key], {});\n",
              "      }\n",
              "    </script>\n",
              "\n",
              "      <script>\n",
              "\n",
              "function displayQuickchartButton(domScope) {\n",
              "  let quickchartButtonEl =\n",
              "    domScope.querySelector('#df-e817e5fd-c325-46e0-9d08-d29c6639d5fe button.colab-df-quickchart');\n",
              "  quickchartButtonEl.style.display =\n",
              "    google.colab.kernel.accessAllowed ? 'block' : 'none';\n",
              "}\n",
              "\n",
              "        displayQuickchartButton(document);\n",
              "      </script>\n",
              "      <style>\n",
              "    .colab-df-container {\n",
              "      display:flex;\n",
              "      flex-wrap:wrap;\n",
              "      gap: 12px;\n",
              "    }\n",
              "\n",
              "    .colab-df-convert {\n",
              "      background-color: #E8F0FE;\n",
              "      border: none;\n",
              "      border-radius: 50%;\n",
              "      cursor: pointer;\n",
              "      display: none;\n",
              "      fill: #1967D2;\n",
              "      height: 32px;\n",
              "      padding: 0 0 0 0;\n",
              "      width: 32px;\n",
              "    }\n",
              "\n",
              "    .colab-df-convert:hover {\n",
              "      background-color: #E2EBFA;\n",
              "      box-shadow: 0px 1px 2px rgba(60, 64, 67, 0.3), 0px 1px 3px 1px rgba(60, 64, 67, 0.15);\n",
              "      fill: #174EA6;\n",
              "    }\n",
              "\n",
              "    [theme=dark] .colab-df-convert {\n",
              "      background-color: #3B4455;\n",
              "      fill: #D2E3FC;\n",
              "    }\n",
              "\n",
              "    [theme=dark] .colab-df-convert:hover {\n",
              "      background-color: #434B5C;\n",
              "      box-shadow: 0px 1px 3px 1px rgba(0, 0, 0, 0.15);\n",
              "      filter: drop-shadow(0px 1px 2px rgba(0, 0, 0, 0.3));\n",
              "      fill: #FFFFFF;\n",
              "    }\n",
              "  </style>\n",
              "\n",
              "      <script>\n",
              "        const buttonEl =\n",
              "          document.querySelector('#df-59ca1e8c-c02d-48b6-b485-4a9b5fb6d1be button.colab-df-convert');\n",
              "        buttonEl.style.display =\n",
              "          google.colab.kernel.accessAllowed ? 'block' : 'none';\n",
              "\n",
              "        async function convertToInteractive(key) {\n",
              "          const element = document.querySelector('#df-59ca1e8c-c02d-48b6-b485-4a9b5fb6d1be');\n",
              "          const dataTable =\n",
              "            await google.colab.kernel.invokeFunction('convertToInteractive',\n",
              "                                                     [key], {});\n",
              "          if (!dataTable) return;\n",
              "\n",
              "          const docLinkHtml = 'Like what you see? Visit the ' +\n",
              "            '<a target=\"_blank\" href=https://colab.research.google.com/notebooks/data_table.ipynb>data table notebook</a>'\n",
              "            + ' to learn more about interactive tables.';\n",
              "          element.innerHTML = '';\n",
              "          dataTable['output_type'] = 'display_data';\n",
              "          await google.colab.output.renderOutput(dataTable, element);\n",
              "          const docLink = document.createElement('div');\n",
              "          docLink.innerHTML = docLinkHtml;\n",
              "          element.appendChild(docLink);\n",
              "        }\n",
              "      </script>\n",
              "    </div>\n",
              "  </div>\n"
            ]
          },
          "metadata": {},
          "execution_count": 116
        }
      ],
      "source": [
        "sentimentDf2.head()"
      ]
    },
    {
      "cell_type": "code",
      "execution_count": null,
      "metadata": {
        "id": "V6HriLnJtLbY"
      },
      "outputs": [],
      "source": []
    }
  ],
  "metadata": {
    "colab": {
      "provenance": []
    },
    "kernelspec": {
      "display_name": "Python 3",
      "name": "python3"
    },
    "language_info": {
      "name": "python"
    },
    "widgets": {
      "application/vnd.jupyter.widget-state+json": {
        "1eec6c90788f4076a6cf7b8a5c40e84d": {
          "model_module": "@jupyter-widgets/controls",
          "model_name": "HBoxModel",
          "model_module_version": "1.5.0",
          "state": {
            "_dom_classes": [],
            "_model_module": "@jupyter-widgets/controls",
            "_model_module_version": "1.5.0",
            "_model_name": "HBoxModel",
            "_view_count": null,
            "_view_module": "@jupyter-widgets/controls",
            "_view_module_version": "1.5.0",
            "_view_name": "HBoxView",
            "box_style": "",
            "children": [
              "IPY_MODEL_30120488a48647a09042ef7aa70ab281",
              "IPY_MODEL_5ff13bb1828c44848c632d90f2e26f69",
              "IPY_MODEL_56c63f49282e49099429005781e98068"
            ],
            "layout": "IPY_MODEL_07e0ab83f4b0424f9de9d5654562ba53"
          }
        },
        "30120488a48647a09042ef7aa70ab281": {
          "model_module": "@jupyter-widgets/controls",
          "model_name": "HTMLModel",
          "model_module_version": "1.5.0",
          "state": {
            "_dom_classes": [],
            "_model_module": "@jupyter-widgets/controls",
            "_model_module_version": "1.5.0",
            "_model_name": "HTMLModel",
            "_view_count": null,
            "_view_module": "@jupyter-widgets/controls",
            "_view_module_version": "1.5.0",
            "_view_name": "HTMLView",
            "description": "",
            "description_tooltip": null,
            "layout": "IPY_MODEL_0ae67973835246f0b7745a33a0a7ccef",
            "placeholder": "​",
            "style": "IPY_MODEL_13a62fd5bf8e42279d86ac0c1e45b602",
            "value": "Downloading (…)lve/main/config.json: 100%"
          }
        },
        "5ff13bb1828c44848c632d90f2e26f69": {
          "model_module": "@jupyter-widgets/controls",
          "model_name": "FloatProgressModel",
          "model_module_version": "1.5.0",
          "state": {
            "_dom_classes": [],
            "_model_module": "@jupyter-widgets/controls",
            "_model_module_version": "1.5.0",
            "_model_name": "FloatProgressModel",
            "_view_count": null,
            "_view_module": "@jupyter-widgets/controls",
            "_view_module_version": "1.5.0",
            "_view_name": "ProgressView",
            "bar_style": "success",
            "description": "",
            "description_tooltip": null,
            "layout": "IPY_MODEL_70bc6f8f577a46e981c9e725221bc1c6",
            "max": 929,
            "min": 0,
            "orientation": "horizontal",
            "style": "IPY_MODEL_ff9a6dd48d424919b597f5adbd388561",
            "value": 929
          }
        },
        "56c63f49282e49099429005781e98068": {
          "model_module": "@jupyter-widgets/controls",
          "model_name": "HTMLModel",
          "model_module_version": "1.5.0",
          "state": {
            "_dom_classes": [],
            "_model_module": "@jupyter-widgets/controls",
            "_model_module_version": "1.5.0",
            "_model_name": "HTMLModel",
            "_view_count": null,
            "_view_module": "@jupyter-widgets/controls",
            "_view_module_version": "1.5.0",
            "_view_name": "HTMLView",
            "description": "",
            "description_tooltip": null,
            "layout": "IPY_MODEL_5ba1099e45cc43d089307d74ae7004b3",
            "placeholder": "​",
            "style": "IPY_MODEL_9e25d72364894248bd83fcc1a052ee17",
            "value": " 929/929 [00:00&lt;00:00, 10.7kB/s]"
          }
        },
        "07e0ab83f4b0424f9de9d5654562ba53": {
          "model_module": "@jupyter-widgets/base",
          "model_name": "LayoutModel",
          "model_module_version": "1.2.0",
          "state": {
            "_model_module": "@jupyter-widgets/base",
            "_model_module_version": "1.2.0",
            "_model_name": "LayoutModel",
            "_view_count": null,
            "_view_module": "@jupyter-widgets/base",
            "_view_module_version": "1.2.0",
            "_view_name": "LayoutView",
            "align_content": null,
            "align_items": null,
            "align_self": null,
            "border": null,
            "bottom": null,
            "display": null,
            "flex": null,
            "flex_flow": null,
            "grid_area": null,
            "grid_auto_columns": null,
            "grid_auto_flow": null,
            "grid_auto_rows": null,
            "grid_column": null,
            "grid_gap": null,
            "grid_row": null,
            "grid_template_areas": null,
            "grid_template_columns": null,
            "grid_template_rows": null,
            "height": null,
            "justify_content": null,
            "justify_items": null,
            "left": null,
            "margin": null,
            "max_height": null,
            "max_width": null,
            "min_height": null,
            "min_width": null,
            "object_fit": null,
            "object_position": null,
            "order": null,
            "overflow": null,
            "overflow_x": null,
            "overflow_y": null,
            "padding": null,
            "right": null,
            "top": null,
            "visibility": null,
            "width": null
          }
        },
        "0ae67973835246f0b7745a33a0a7ccef": {
          "model_module": "@jupyter-widgets/base",
          "model_name": "LayoutModel",
          "model_module_version": "1.2.0",
          "state": {
            "_model_module": "@jupyter-widgets/base",
            "_model_module_version": "1.2.0",
            "_model_name": "LayoutModel",
            "_view_count": null,
            "_view_module": "@jupyter-widgets/base",
            "_view_module_version": "1.2.0",
            "_view_name": "LayoutView",
            "align_content": null,
            "align_items": null,
            "align_self": null,
            "border": null,
            "bottom": null,
            "display": null,
            "flex": null,
            "flex_flow": null,
            "grid_area": null,
            "grid_auto_columns": null,
            "grid_auto_flow": null,
            "grid_auto_rows": null,
            "grid_column": null,
            "grid_gap": null,
            "grid_row": null,
            "grid_template_areas": null,
            "grid_template_columns": null,
            "grid_template_rows": null,
            "height": null,
            "justify_content": null,
            "justify_items": null,
            "left": null,
            "margin": null,
            "max_height": null,
            "max_width": null,
            "min_height": null,
            "min_width": null,
            "object_fit": null,
            "object_position": null,
            "order": null,
            "overflow": null,
            "overflow_x": null,
            "overflow_y": null,
            "padding": null,
            "right": null,
            "top": null,
            "visibility": null,
            "width": null
          }
        },
        "13a62fd5bf8e42279d86ac0c1e45b602": {
          "model_module": "@jupyter-widgets/controls",
          "model_name": "DescriptionStyleModel",
          "model_module_version": "1.5.0",
          "state": {
            "_model_module": "@jupyter-widgets/controls",
            "_model_module_version": "1.5.0",
            "_model_name": "DescriptionStyleModel",
            "_view_count": null,
            "_view_module": "@jupyter-widgets/base",
            "_view_module_version": "1.2.0",
            "_view_name": "StyleView",
            "description_width": ""
          }
        },
        "70bc6f8f577a46e981c9e725221bc1c6": {
          "model_module": "@jupyter-widgets/base",
          "model_name": "LayoutModel",
          "model_module_version": "1.2.0",
          "state": {
            "_model_module": "@jupyter-widgets/base",
            "_model_module_version": "1.2.0",
            "_model_name": "LayoutModel",
            "_view_count": null,
            "_view_module": "@jupyter-widgets/base",
            "_view_module_version": "1.2.0",
            "_view_name": "LayoutView",
            "align_content": null,
            "align_items": null,
            "align_self": null,
            "border": null,
            "bottom": null,
            "display": null,
            "flex": null,
            "flex_flow": null,
            "grid_area": null,
            "grid_auto_columns": null,
            "grid_auto_flow": null,
            "grid_auto_rows": null,
            "grid_column": null,
            "grid_gap": null,
            "grid_row": null,
            "grid_template_areas": null,
            "grid_template_columns": null,
            "grid_template_rows": null,
            "height": null,
            "justify_content": null,
            "justify_items": null,
            "left": null,
            "margin": null,
            "max_height": null,
            "max_width": null,
            "min_height": null,
            "min_width": null,
            "object_fit": null,
            "object_position": null,
            "order": null,
            "overflow": null,
            "overflow_x": null,
            "overflow_y": null,
            "padding": null,
            "right": null,
            "top": null,
            "visibility": null,
            "width": null
          }
        },
        "ff9a6dd48d424919b597f5adbd388561": {
          "model_module": "@jupyter-widgets/controls",
          "model_name": "ProgressStyleModel",
          "model_module_version": "1.5.0",
          "state": {
            "_model_module": "@jupyter-widgets/controls",
            "_model_module_version": "1.5.0",
            "_model_name": "ProgressStyleModel",
            "_view_count": null,
            "_view_module": "@jupyter-widgets/base",
            "_view_module_version": "1.2.0",
            "_view_name": "StyleView",
            "bar_color": null,
            "description_width": ""
          }
        },
        "5ba1099e45cc43d089307d74ae7004b3": {
          "model_module": "@jupyter-widgets/base",
          "model_name": "LayoutModel",
          "model_module_version": "1.2.0",
          "state": {
            "_model_module": "@jupyter-widgets/base",
            "_model_module_version": "1.2.0",
            "_model_name": "LayoutModel",
            "_view_count": null,
            "_view_module": "@jupyter-widgets/base",
            "_view_module_version": "1.2.0",
            "_view_name": "LayoutView",
            "align_content": null,
            "align_items": null,
            "align_self": null,
            "border": null,
            "bottom": null,
            "display": null,
            "flex": null,
            "flex_flow": null,
            "grid_area": null,
            "grid_auto_columns": null,
            "grid_auto_flow": null,
            "grid_auto_rows": null,
            "grid_column": null,
            "grid_gap": null,
            "grid_row": null,
            "grid_template_areas": null,
            "grid_template_columns": null,
            "grid_template_rows": null,
            "height": null,
            "justify_content": null,
            "justify_items": null,
            "left": null,
            "margin": null,
            "max_height": null,
            "max_width": null,
            "min_height": null,
            "min_width": null,
            "object_fit": null,
            "object_position": null,
            "order": null,
            "overflow": null,
            "overflow_x": null,
            "overflow_y": null,
            "padding": null,
            "right": null,
            "top": null,
            "visibility": null,
            "width": null
          }
        },
        "9e25d72364894248bd83fcc1a052ee17": {
          "model_module": "@jupyter-widgets/controls",
          "model_name": "DescriptionStyleModel",
          "model_module_version": "1.5.0",
          "state": {
            "_model_module": "@jupyter-widgets/controls",
            "_model_module_version": "1.5.0",
            "_model_name": "DescriptionStyleModel",
            "_view_count": null,
            "_view_module": "@jupyter-widgets/base",
            "_view_module_version": "1.2.0",
            "_view_name": "StyleView",
            "description_width": ""
          }
        },
        "b0b9fcb158bf494e914a9d2443ff19d4": {
          "model_module": "@jupyter-widgets/controls",
          "model_name": "HBoxModel",
          "model_module_version": "1.5.0",
          "state": {
            "_dom_classes": [],
            "_model_module": "@jupyter-widgets/controls",
            "_model_module_version": "1.5.0",
            "_model_name": "HBoxModel",
            "_view_count": null,
            "_view_module": "@jupyter-widgets/controls",
            "_view_module_version": "1.5.0",
            "_view_name": "HBoxView",
            "box_style": "",
            "children": [
              "IPY_MODEL_de323052ad614d43964ac7cf599bcc71",
              "IPY_MODEL_4e888e2492f944c2b9a2d68dac697e52",
              "IPY_MODEL_c5324317f1954fd7ba313a24f050549b"
            ],
            "layout": "IPY_MODEL_3c9b418f5f794cd8a4683020f9006dfd"
          }
        },
        "de323052ad614d43964ac7cf599bcc71": {
          "model_module": "@jupyter-widgets/controls",
          "model_name": "HTMLModel",
          "model_module_version": "1.5.0",
          "state": {
            "_dom_classes": [],
            "_model_module": "@jupyter-widgets/controls",
            "_model_module_version": "1.5.0",
            "_model_name": "HTMLModel",
            "_view_count": null,
            "_view_module": "@jupyter-widgets/controls",
            "_view_module_version": "1.5.0",
            "_view_name": "HTMLView",
            "description": "",
            "description_tooltip": null,
            "layout": "IPY_MODEL_79b9c1dadae84344add8424c5e5af4ad",
            "placeholder": "​",
            "style": "IPY_MODEL_8ca6bdf399a04a6289885e0695322ff1",
            "value": "Downloading (…)olve/main/vocab.json: 100%"
          }
        },
        "4e888e2492f944c2b9a2d68dac697e52": {
          "model_module": "@jupyter-widgets/controls",
          "model_name": "FloatProgressModel",
          "model_module_version": "1.5.0",
          "state": {
            "_dom_classes": [],
            "_model_module": "@jupyter-widgets/controls",
            "_model_module_version": "1.5.0",
            "_model_name": "FloatProgressModel",
            "_view_count": null,
            "_view_module": "@jupyter-widgets/controls",
            "_view_module_version": "1.5.0",
            "_view_name": "ProgressView",
            "bar_style": "success",
            "description": "",
            "description_tooltip": null,
            "layout": "IPY_MODEL_8adf8e0060374483bbcd9e0cdcf4011c",
            "max": 898822,
            "min": 0,
            "orientation": "horizontal",
            "style": "IPY_MODEL_0d2f07c4895c4c17b2486f08b6cacd1c",
            "value": 898822
          }
        },
        "c5324317f1954fd7ba313a24f050549b": {
          "model_module": "@jupyter-widgets/controls",
          "model_name": "HTMLModel",
          "model_module_version": "1.5.0",
          "state": {
            "_dom_classes": [],
            "_model_module": "@jupyter-widgets/controls",
            "_model_module_version": "1.5.0",
            "_model_name": "HTMLModel",
            "_view_count": null,
            "_view_module": "@jupyter-widgets/controls",
            "_view_module_version": "1.5.0",
            "_view_name": "HTMLView",
            "description": "",
            "description_tooltip": null,
            "layout": "IPY_MODEL_c775b7a9bbb34e6bb8f9d56f1cd844c9",
            "placeholder": "​",
            "style": "IPY_MODEL_e8eb57a16f0f4ff988ed49877b61ebd8",
            "value": " 899k/899k [00:00&lt;00:00, 14.9MB/s]"
          }
        },
        "3c9b418f5f794cd8a4683020f9006dfd": {
          "model_module": "@jupyter-widgets/base",
          "model_name": "LayoutModel",
          "model_module_version": "1.2.0",
          "state": {
            "_model_module": "@jupyter-widgets/base",
            "_model_module_version": "1.2.0",
            "_model_name": "LayoutModel",
            "_view_count": null,
            "_view_module": "@jupyter-widgets/base",
            "_view_module_version": "1.2.0",
            "_view_name": "LayoutView",
            "align_content": null,
            "align_items": null,
            "align_self": null,
            "border": null,
            "bottom": null,
            "display": null,
            "flex": null,
            "flex_flow": null,
            "grid_area": null,
            "grid_auto_columns": null,
            "grid_auto_flow": null,
            "grid_auto_rows": null,
            "grid_column": null,
            "grid_gap": null,
            "grid_row": null,
            "grid_template_areas": null,
            "grid_template_columns": null,
            "grid_template_rows": null,
            "height": null,
            "justify_content": null,
            "justify_items": null,
            "left": null,
            "margin": null,
            "max_height": null,
            "max_width": null,
            "min_height": null,
            "min_width": null,
            "object_fit": null,
            "object_position": null,
            "order": null,
            "overflow": null,
            "overflow_x": null,
            "overflow_y": null,
            "padding": null,
            "right": null,
            "top": null,
            "visibility": null,
            "width": null
          }
        },
        "79b9c1dadae84344add8424c5e5af4ad": {
          "model_module": "@jupyter-widgets/base",
          "model_name": "LayoutModel",
          "model_module_version": "1.2.0",
          "state": {
            "_model_module": "@jupyter-widgets/base",
            "_model_module_version": "1.2.0",
            "_model_name": "LayoutModel",
            "_view_count": null,
            "_view_module": "@jupyter-widgets/base",
            "_view_module_version": "1.2.0",
            "_view_name": "LayoutView",
            "align_content": null,
            "align_items": null,
            "align_self": null,
            "border": null,
            "bottom": null,
            "display": null,
            "flex": null,
            "flex_flow": null,
            "grid_area": null,
            "grid_auto_columns": null,
            "grid_auto_flow": null,
            "grid_auto_rows": null,
            "grid_column": null,
            "grid_gap": null,
            "grid_row": null,
            "grid_template_areas": null,
            "grid_template_columns": null,
            "grid_template_rows": null,
            "height": null,
            "justify_content": null,
            "justify_items": null,
            "left": null,
            "margin": null,
            "max_height": null,
            "max_width": null,
            "min_height": null,
            "min_width": null,
            "object_fit": null,
            "object_position": null,
            "order": null,
            "overflow": null,
            "overflow_x": null,
            "overflow_y": null,
            "padding": null,
            "right": null,
            "top": null,
            "visibility": null,
            "width": null
          }
        },
        "8ca6bdf399a04a6289885e0695322ff1": {
          "model_module": "@jupyter-widgets/controls",
          "model_name": "DescriptionStyleModel",
          "model_module_version": "1.5.0",
          "state": {
            "_model_module": "@jupyter-widgets/controls",
            "_model_module_version": "1.5.0",
            "_model_name": "DescriptionStyleModel",
            "_view_count": null,
            "_view_module": "@jupyter-widgets/base",
            "_view_module_version": "1.2.0",
            "_view_name": "StyleView",
            "description_width": ""
          }
        },
        "8adf8e0060374483bbcd9e0cdcf4011c": {
          "model_module": "@jupyter-widgets/base",
          "model_name": "LayoutModel",
          "model_module_version": "1.2.0",
          "state": {
            "_model_module": "@jupyter-widgets/base",
            "_model_module_version": "1.2.0",
            "_model_name": "LayoutModel",
            "_view_count": null,
            "_view_module": "@jupyter-widgets/base",
            "_view_module_version": "1.2.0",
            "_view_name": "LayoutView",
            "align_content": null,
            "align_items": null,
            "align_self": null,
            "border": null,
            "bottom": null,
            "display": null,
            "flex": null,
            "flex_flow": null,
            "grid_area": null,
            "grid_auto_columns": null,
            "grid_auto_flow": null,
            "grid_auto_rows": null,
            "grid_column": null,
            "grid_gap": null,
            "grid_row": null,
            "grid_template_areas": null,
            "grid_template_columns": null,
            "grid_template_rows": null,
            "height": null,
            "justify_content": null,
            "justify_items": null,
            "left": null,
            "margin": null,
            "max_height": null,
            "max_width": null,
            "min_height": null,
            "min_width": null,
            "object_fit": null,
            "object_position": null,
            "order": null,
            "overflow": null,
            "overflow_x": null,
            "overflow_y": null,
            "padding": null,
            "right": null,
            "top": null,
            "visibility": null,
            "width": null
          }
        },
        "0d2f07c4895c4c17b2486f08b6cacd1c": {
          "model_module": "@jupyter-widgets/controls",
          "model_name": "ProgressStyleModel",
          "model_module_version": "1.5.0",
          "state": {
            "_model_module": "@jupyter-widgets/controls",
            "_model_module_version": "1.5.0",
            "_model_name": "ProgressStyleModel",
            "_view_count": null,
            "_view_module": "@jupyter-widgets/base",
            "_view_module_version": "1.2.0",
            "_view_name": "StyleView",
            "bar_color": null,
            "description_width": ""
          }
        },
        "c775b7a9bbb34e6bb8f9d56f1cd844c9": {
          "model_module": "@jupyter-widgets/base",
          "model_name": "LayoutModel",
          "model_module_version": "1.2.0",
          "state": {
            "_model_module": "@jupyter-widgets/base",
            "_model_module_version": "1.2.0",
            "_model_name": "LayoutModel",
            "_view_count": null,
            "_view_module": "@jupyter-widgets/base",
            "_view_module_version": "1.2.0",
            "_view_name": "LayoutView",
            "align_content": null,
            "align_items": null,
            "align_self": null,
            "border": null,
            "bottom": null,
            "display": null,
            "flex": null,
            "flex_flow": null,
            "grid_area": null,
            "grid_auto_columns": null,
            "grid_auto_flow": null,
            "grid_auto_rows": null,
            "grid_column": null,
            "grid_gap": null,
            "grid_row": null,
            "grid_template_areas": null,
            "grid_template_columns": null,
            "grid_template_rows": null,
            "height": null,
            "justify_content": null,
            "justify_items": null,
            "left": null,
            "margin": null,
            "max_height": null,
            "max_width": null,
            "min_height": null,
            "min_width": null,
            "object_fit": null,
            "object_position": null,
            "order": null,
            "overflow": null,
            "overflow_x": null,
            "overflow_y": null,
            "padding": null,
            "right": null,
            "top": null,
            "visibility": null,
            "width": null
          }
        },
        "e8eb57a16f0f4ff988ed49877b61ebd8": {
          "model_module": "@jupyter-widgets/controls",
          "model_name": "DescriptionStyleModel",
          "model_module_version": "1.5.0",
          "state": {
            "_model_module": "@jupyter-widgets/controls",
            "_model_module_version": "1.5.0",
            "_model_name": "DescriptionStyleModel",
            "_view_count": null,
            "_view_module": "@jupyter-widgets/base",
            "_view_module_version": "1.2.0",
            "_view_name": "StyleView",
            "description_width": ""
          }
        },
        "37ff5c7e3fdf4710a2cff430bc90914a": {
          "model_module": "@jupyter-widgets/controls",
          "model_name": "HBoxModel",
          "model_module_version": "1.5.0",
          "state": {
            "_dom_classes": [],
            "_model_module": "@jupyter-widgets/controls",
            "_model_module_version": "1.5.0",
            "_model_name": "HBoxModel",
            "_view_count": null,
            "_view_module": "@jupyter-widgets/controls",
            "_view_module_version": "1.5.0",
            "_view_name": "HBoxView",
            "box_style": "",
            "children": [
              "IPY_MODEL_f2ff51c1dbd549e7a46644842f340634",
              "IPY_MODEL_c2a52119bdb7401ba6e690c4fc184963",
              "IPY_MODEL_ccd58e3d890b4abb9c87c0c8bc669aef"
            ],
            "layout": "IPY_MODEL_da8ec395032b4fe4a3b3072a30b534ba"
          }
        },
        "f2ff51c1dbd549e7a46644842f340634": {
          "model_module": "@jupyter-widgets/controls",
          "model_name": "HTMLModel",
          "model_module_version": "1.5.0",
          "state": {
            "_dom_classes": [],
            "_model_module": "@jupyter-widgets/controls",
            "_model_module_version": "1.5.0",
            "_model_name": "HTMLModel",
            "_view_count": null,
            "_view_module": "@jupyter-widgets/controls",
            "_view_module_version": "1.5.0",
            "_view_name": "HTMLView",
            "description": "",
            "description_tooltip": null,
            "layout": "IPY_MODEL_f0261cb47ace48c2a0bb1dc608a0221c",
            "placeholder": "​",
            "style": "IPY_MODEL_b04b352feb624bd5961c1a6486f93b2c",
            "value": "Downloading (…)olve/main/merges.txt: 100%"
          }
        },
        "c2a52119bdb7401ba6e690c4fc184963": {
          "model_module": "@jupyter-widgets/controls",
          "model_name": "FloatProgressModel",
          "model_module_version": "1.5.0",
          "state": {
            "_dom_classes": [],
            "_model_module": "@jupyter-widgets/controls",
            "_model_module_version": "1.5.0",
            "_model_name": "FloatProgressModel",
            "_view_count": null,
            "_view_module": "@jupyter-widgets/controls",
            "_view_module_version": "1.5.0",
            "_view_name": "ProgressView",
            "bar_style": "success",
            "description": "",
            "description_tooltip": null,
            "layout": "IPY_MODEL_f466334b35ee4b008060297426177b84",
            "max": 456318,
            "min": 0,
            "orientation": "horizontal",
            "style": "IPY_MODEL_8282a046043c4f7893924fcd21fc2bb7",
            "value": 456318
          }
        },
        "ccd58e3d890b4abb9c87c0c8bc669aef": {
          "model_module": "@jupyter-widgets/controls",
          "model_name": "HTMLModel",
          "model_module_version": "1.5.0",
          "state": {
            "_dom_classes": [],
            "_model_module": "@jupyter-widgets/controls",
            "_model_module_version": "1.5.0",
            "_model_name": "HTMLModel",
            "_view_count": null,
            "_view_module": "@jupyter-widgets/controls",
            "_view_module_version": "1.5.0",
            "_view_name": "HTMLView",
            "description": "",
            "description_tooltip": null,
            "layout": "IPY_MODEL_06561aa0bf744e2982dff28ffedd0775",
            "placeholder": "​",
            "style": "IPY_MODEL_784c538d90114393b419159f97820d79",
            "value": " 456k/456k [00:00&lt;00:00, 6.14MB/s]"
          }
        },
        "da8ec395032b4fe4a3b3072a30b534ba": {
          "model_module": "@jupyter-widgets/base",
          "model_name": "LayoutModel",
          "model_module_version": "1.2.0",
          "state": {
            "_model_module": "@jupyter-widgets/base",
            "_model_module_version": "1.2.0",
            "_model_name": "LayoutModel",
            "_view_count": null,
            "_view_module": "@jupyter-widgets/base",
            "_view_module_version": "1.2.0",
            "_view_name": "LayoutView",
            "align_content": null,
            "align_items": null,
            "align_self": null,
            "border": null,
            "bottom": null,
            "display": null,
            "flex": null,
            "flex_flow": null,
            "grid_area": null,
            "grid_auto_columns": null,
            "grid_auto_flow": null,
            "grid_auto_rows": null,
            "grid_column": null,
            "grid_gap": null,
            "grid_row": null,
            "grid_template_areas": null,
            "grid_template_columns": null,
            "grid_template_rows": null,
            "height": null,
            "justify_content": null,
            "justify_items": null,
            "left": null,
            "margin": null,
            "max_height": null,
            "max_width": null,
            "min_height": null,
            "min_width": null,
            "object_fit": null,
            "object_position": null,
            "order": null,
            "overflow": null,
            "overflow_x": null,
            "overflow_y": null,
            "padding": null,
            "right": null,
            "top": null,
            "visibility": null,
            "width": null
          }
        },
        "f0261cb47ace48c2a0bb1dc608a0221c": {
          "model_module": "@jupyter-widgets/base",
          "model_name": "LayoutModel",
          "model_module_version": "1.2.0",
          "state": {
            "_model_module": "@jupyter-widgets/base",
            "_model_module_version": "1.2.0",
            "_model_name": "LayoutModel",
            "_view_count": null,
            "_view_module": "@jupyter-widgets/base",
            "_view_module_version": "1.2.0",
            "_view_name": "LayoutView",
            "align_content": null,
            "align_items": null,
            "align_self": null,
            "border": null,
            "bottom": null,
            "display": null,
            "flex": null,
            "flex_flow": null,
            "grid_area": null,
            "grid_auto_columns": null,
            "grid_auto_flow": null,
            "grid_auto_rows": null,
            "grid_column": null,
            "grid_gap": null,
            "grid_row": null,
            "grid_template_areas": null,
            "grid_template_columns": null,
            "grid_template_rows": null,
            "height": null,
            "justify_content": null,
            "justify_items": null,
            "left": null,
            "margin": null,
            "max_height": null,
            "max_width": null,
            "min_height": null,
            "min_width": null,
            "object_fit": null,
            "object_position": null,
            "order": null,
            "overflow": null,
            "overflow_x": null,
            "overflow_y": null,
            "padding": null,
            "right": null,
            "top": null,
            "visibility": null,
            "width": null
          }
        },
        "b04b352feb624bd5961c1a6486f93b2c": {
          "model_module": "@jupyter-widgets/controls",
          "model_name": "DescriptionStyleModel",
          "model_module_version": "1.5.0",
          "state": {
            "_model_module": "@jupyter-widgets/controls",
            "_model_module_version": "1.5.0",
            "_model_name": "DescriptionStyleModel",
            "_view_count": null,
            "_view_module": "@jupyter-widgets/base",
            "_view_module_version": "1.2.0",
            "_view_name": "StyleView",
            "description_width": ""
          }
        },
        "f466334b35ee4b008060297426177b84": {
          "model_module": "@jupyter-widgets/base",
          "model_name": "LayoutModel",
          "model_module_version": "1.2.0",
          "state": {
            "_model_module": "@jupyter-widgets/base",
            "_model_module_version": "1.2.0",
            "_model_name": "LayoutModel",
            "_view_count": null,
            "_view_module": "@jupyter-widgets/base",
            "_view_module_version": "1.2.0",
            "_view_name": "LayoutView",
            "align_content": null,
            "align_items": null,
            "align_self": null,
            "border": null,
            "bottom": null,
            "display": null,
            "flex": null,
            "flex_flow": null,
            "grid_area": null,
            "grid_auto_columns": null,
            "grid_auto_flow": null,
            "grid_auto_rows": null,
            "grid_column": null,
            "grid_gap": null,
            "grid_row": null,
            "grid_template_areas": null,
            "grid_template_columns": null,
            "grid_template_rows": null,
            "height": null,
            "justify_content": null,
            "justify_items": null,
            "left": null,
            "margin": null,
            "max_height": null,
            "max_width": null,
            "min_height": null,
            "min_width": null,
            "object_fit": null,
            "object_position": null,
            "order": null,
            "overflow": null,
            "overflow_x": null,
            "overflow_y": null,
            "padding": null,
            "right": null,
            "top": null,
            "visibility": null,
            "width": null
          }
        },
        "8282a046043c4f7893924fcd21fc2bb7": {
          "model_module": "@jupyter-widgets/controls",
          "model_name": "ProgressStyleModel",
          "model_module_version": "1.5.0",
          "state": {
            "_model_module": "@jupyter-widgets/controls",
            "_model_module_version": "1.5.0",
            "_model_name": "ProgressStyleModel",
            "_view_count": null,
            "_view_module": "@jupyter-widgets/base",
            "_view_module_version": "1.2.0",
            "_view_name": "StyleView",
            "bar_color": null,
            "description_width": ""
          }
        },
        "06561aa0bf744e2982dff28ffedd0775": {
          "model_module": "@jupyter-widgets/base",
          "model_name": "LayoutModel",
          "model_module_version": "1.2.0",
          "state": {
            "_model_module": "@jupyter-widgets/base",
            "_model_module_version": "1.2.0",
            "_model_name": "LayoutModel",
            "_view_count": null,
            "_view_module": "@jupyter-widgets/base",
            "_view_module_version": "1.2.0",
            "_view_name": "LayoutView",
            "align_content": null,
            "align_items": null,
            "align_self": null,
            "border": null,
            "bottom": null,
            "display": null,
            "flex": null,
            "flex_flow": null,
            "grid_area": null,
            "grid_auto_columns": null,
            "grid_auto_flow": null,
            "grid_auto_rows": null,
            "grid_column": null,
            "grid_gap": null,
            "grid_row": null,
            "grid_template_areas": null,
            "grid_template_columns": null,
            "grid_template_rows": null,
            "height": null,
            "justify_content": null,
            "justify_items": null,
            "left": null,
            "margin": null,
            "max_height": null,
            "max_width": null,
            "min_height": null,
            "min_width": null,
            "object_fit": null,
            "object_position": null,
            "order": null,
            "overflow": null,
            "overflow_x": null,
            "overflow_y": null,
            "padding": null,
            "right": null,
            "top": null,
            "visibility": null,
            "width": null
          }
        },
        "784c538d90114393b419159f97820d79": {
          "model_module": "@jupyter-widgets/controls",
          "model_name": "DescriptionStyleModel",
          "model_module_version": "1.5.0",
          "state": {
            "_model_module": "@jupyter-widgets/controls",
            "_model_module_version": "1.5.0",
            "_model_name": "DescriptionStyleModel",
            "_view_count": null,
            "_view_module": "@jupyter-widgets/base",
            "_view_module_version": "1.2.0",
            "_view_name": "StyleView",
            "description_width": ""
          }
        },
        "0bcab979b4b842c486b901259ebf2724": {
          "model_module": "@jupyter-widgets/controls",
          "model_name": "HBoxModel",
          "model_module_version": "1.5.0",
          "state": {
            "_dom_classes": [],
            "_model_module": "@jupyter-widgets/controls",
            "_model_module_version": "1.5.0",
            "_model_name": "HBoxModel",
            "_view_count": null,
            "_view_module": "@jupyter-widgets/controls",
            "_view_module_version": "1.5.0",
            "_view_name": "HBoxView",
            "box_style": "",
            "children": [
              "IPY_MODEL_f69f405eee6a461cbede4788e8f98beb",
              "IPY_MODEL_449a13d6e8fd473b938e669acafdf461",
              "IPY_MODEL_87fdb876b1204fc0810b165b1d1c81e8"
            ],
            "layout": "IPY_MODEL_8004c5894c86462481549d30e9b4a942"
          }
        },
        "f69f405eee6a461cbede4788e8f98beb": {
          "model_module": "@jupyter-widgets/controls",
          "model_name": "HTMLModel",
          "model_module_version": "1.5.0",
          "state": {
            "_dom_classes": [],
            "_model_module": "@jupyter-widgets/controls",
            "_model_module_version": "1.5.0",
            "_model_name": "HTMLModel",
            "_view_count": null,
            "_view_module": "@jupyter-widgets/controls",
            "_view_module_version": "1.5.0",
            "_view_name": "HTMLView",
            "description": "",
            "description_tooltip": null,
            "layout": "IPY_MODEL_2a8c0ceedcef4eb59979b62c1df85851",
            "placeholder": "​",
            "style": "IPY_MODEL_f83e180c0d4742f3ac4e379c3281b417",
            "value": "Downloading (…)cial_tokens_map.json: 100%"
          }
        },
        "449a13d6e8fd473b938e669acafdf461": {
          "model_module": "@jupyter-widgets/controls",
          "model_name": "FloatProgressModel",
          "model_module_version": "1.5.0",
          "state": {
            "_dom_classes": [],
            "_model_module": "@jupyter-widgets/controls",
            "_model_module_version": "1.5.0",
            "_model_name": "FloatProgressModel",
            "_view_count": null,
            "_view_module": "@jupyter-widgets/controls",
            "_view_module_version": "1.5.0",
            "_view_name": "ProgressView",
            "bar_style": "success",
            "description": "",
            "description_tooltip": null,
            "layout": "IPY_MODEL_6acc7febccea4d7fa5918941f1201ec9",
            "max": 239,
            "min": 0,
            "orientation": "horizontal",
            "style": "IPY_MODEL_ac742addbd3645a1a1740a6e3dc168d5",
            "value": 239
          }
        },
        "87fdb876b1204fc0810b165b1d1c81e8": {
          "model_module": "@jupyter-widgets/controls",
          "model_name": "HTMLModel",
          "model_module_version": "1.5.0",
          "state": {
            "_dom_classes": [],
            "_model_module": "@jupyter-widgets/controls",
            "_model_module_version": "1.5.0",
            "_model_name": "HTMLModel",
            "_view_count": null,
            "_view_module": "@jupyter-widgets/controls",
            "_view_module_version": "1.5.0",
            "_view_name": "HTMLView",
            "description": "",
            "description_tooltip": null,
            "layout": "IPY_MODEL_68c1b0e5c23c46729535e8e40abcac6d",
            "placeholder": "​",
            "style": "IPY_MODEL_0e8c42bffa5f4bf296fd08a61c970edc",
            "value": " 239/239 [00:00&lt;00:00, 7.85kB/s]"
          }
        },
        "8004c5894c86462481549d30e9b4a942": {
          "model_module": "@jupyter-widgets/base",
          "model_name": "LayoutModel",
          "model_module_version": "1.2.0",
          "state": {
            "_model_module": "@jupyter-widgets/base",
            "_model_module_version": "1.2.0",
            "_model_name": "LayoutModel",
            "_view_count": null,
            "_view_module": "@jupyter-widgets/base",
            "_view_module_version": "1.2.0",
            "_view_name": "LayoutView",
            "align_content": null,
            "align_items": null,
            "align_self": null,
            "border": null,
            "bottom": null,
            "display": null,
            "flex": null,
            "flex_flow": null,
            "grid_area": null,
            "grid_auto_columns": null,
            "grid_auto_flow": null,
            "grid_auto_rows": null,
            "grid_column": null,
            "grid_gap": null,
            "grid_row": null,
            "grid_template_areas": null,
            "grid_template_columns": null,
            "grid_template_rows": null,
            "height": null,
            "justify_content": null,
            "justify_items": null,
            "left": null,
            "margin": null,
            "max_height": null,
            "max_width": null,
            "min_height": null,
            "min_width": null,
            "object_fit": null,
            "object_position": null,
            "order": null,
            "overflow": null,
            "overflow_x": null,
            "overflow_y": null,
            "padding": null,
            "right": null,
            "top": null,
            "visibility": null,
            "width": null
          }
        },
        "2a8c0ceedcef4eb59979b62c1df85851": {
          "model_module": "@jupyter-widgets/base",
          "model_name": "LayoutModel",
          "model_module_version": "1.2.0",
          "state": {
            "_model_module": "@jupyter-widgets/base",
            "_model_module_version": "1.2.0",
            "_model_name": "LayoutModel",
            "_view_count": null,
            "_view_module": "@jupyter-widgets/base",
            "_view_module_version": "1.2.0",
            "_view_name": "LayoutView",
            "align_content": null,
            "align_items": null,
            "align_self": null,
            "border": null,
            "bottom": null,
            "display": null,
            "flex": null,
            "flex_flow": null,
            "grid_area": null,
            "grid_auto_columns": null,
            "grid_auto_flow": null,
            "grid_auto_rows": null,
            "grid_column": null,
            "grid_gap": null,
            "grid_row": null,
            "grid_template_areas": null,
            "grid_template_columns": null,
            "grid_template_rows": null,
            "height": null,
            "justify_content": null,
            "justify_items": null,
            "left": null,
            "margin": null,
            "max_height": null,
            "max_width": null,
            "min_height": null,
            "min_width": null,
            "object_fit": null,
            "object_position": null,
            "order": null,
            "overflow": null,
            "overflow_x": null,
            "overflow_y": null,
            "padding": null,
            "right": null,
            "top": null,
            "visibility": null,
            "width": null
          }
        },
        "f83e180c0d4742f3ac4e379c3281b417": {
          "model_module": "@jupyter-widgets/controls",
          "model_name": "DescriptionStyleModel",
          "model_module_version": "1.5.0",
          "state": {
            "_model_module": "@jupyter-widgets/controls",
            "_model_module_version": "1.5.0",
            "_model_name": "DescriptionStyleModel",
            "_view_count": null,
            "_view_module": "@jupyter-widgets/base",
            "_view_module_version": "1.2.0",
            "_view_name": "StyleView",
            "description_width": ""
          }
        },
        "6acc7febccea4d7fa5918941f1201ec9": {
          "model_module": "@jupyter-widgets/base",
          "model_name": "LayoutModel",
          "model_module_version": "1.2.0",
          "state": {
            "_model_module": "@jupyter-widgets/base",
            "_model_module_version": "1.2.0",
            "_model_name": "LayoutModel",
            "_view_count": null,
            "_view_module": "@jupyter-widgets/base",
            "_view_module_version": "1.2.0",
            "_view_name": "LayoutView",
            "align_content": null,
            "align_items": null,
            "align_self": null,
            "border": null,
            "bottom": null,
            "display": null,
            "flex": null,
            "flex_flow": null,
            "grid_area": null,
            "grid_auto_columns": null,
            "grid_auto_flow": null,
            "grid_auto_rows": null,
            "grid_column": null,
            "grid_gap": null,
            "grid_row": null,
            "grid_template_areas": null,
            "grid_template_columns": null,
            "grid_template_rows": null,
            "height": null,
            "justify_content": null,
            "justify_items": null,
            "left": null,
            "margin": null,
            "max_height": null,
            "max_width": null,
            "min_height": null,
            "min_width": null,
            "object_fit": null,
            "object_position": null,
            "order": null,
            "overflow": null,
            "overflow_x": null,
            "overflow_y": null,
            "padding": null,
            "right": null,
            "top": null,
            "visibility": null,
            "width": null
          }
        },
        "ac742addbd3645a1a1740a6e3dc168d5": {
          "model_module": "@jupyter-widgets/controls",
          "model_name": "ProgressStyleModel",
          "model_module_version": "1.5.0",
          "state": {
            "_model_module": "@jupyter-widgets/controls",
            "_model_module_version": "1.5.0",
            "_model_name": "ProgressStyleModel",
            "_view_count": null,
            "_view_module": "@jupyter-widgets/base",
            "_view_module_version": "1.2.0",
            "_view_name": "StyleView",
            "bar_color": null,
            "description_width": ""
          }
        },
        "68c1b0e5c23c46729535e8e40abcac6d": {
          "model_module": "@jupyter-widgets/base",
          "model_name": "LayoutModel",
          "model_module_version": "1.2.0",
          "state": {
            "_model_module": "@jupyter-widgets/base",
            "_model_module_version": "1.2.0",
            "_model_name": "LayoutModel",
            "_view_count": null,
            "_view_module": "@jupyter-widgets/base",
            "_view_module_version": "1.2.0",
            "_view_name": "LayoutView",
            "align_content": null,
            "align_items": null,
            "align_self": null,
            "border": null,
            "bottom": null,
            "display": null,
            "flex": null,
            "flex_flow": null,
            "grid_area": null,
            "grid_auto_columns": null,
            "grid_auto_flow": null,
            "grid_auto_rows": null,
            "grid_column": null,
            "grid_gap": null,
            "grid_row": null,
            "grid_template_areas": null,
            "grid_template_columns": null,
            "grid_template_rows": null,
            "height": null,
            "justify_content": null,
            "justify_items": null,
            "left": null,
            "margin": null,
            "max_height": null,
            "max_width": null,
            "min_height": null,
            "min_width": null,
            "object_fit": null,
            "object_position": null,
            "order": null,
            "overflow": null,
            "overflow_x": null,
            "overflow_y": null,
            "padding": null,
            "right": null,
            "top": null,
            "visibility": null,
            "width": null
          }
        },
        "0e8c42bffa5f4bf296fd08a61c970edc": {
          "model_module": "@jupyter-widgets/controls",
          "model_name": "DescriptionStyleModel",
          "model_module_version": "1.5.0",
          "state": {
            "_model_module": "@jupyter-widgets/controls",
            "_model_module_version": "1.5.0",
            "_model_name": "DescriptionStyleModel",
            "_view_count": null,
            "_view_module": "@jupyter-widgets/base",
            "_view_module_version": "1.2.0",
            "_view_name": "StyleView",
            "description_width": ""
          }
        },
        "16752c0989b245b99a1645aee9046a3a": {
          "model_module": "@jupyter-widgets/controls",
          "model_name": "HBoxModel",
          "model_module_version": "1.5.0",
          "state": {
            "_dom_classes": [],
            "_model_module": "@jupyter-widgets/controls",
            "_model_module_version": "1.5.0",
            "_model_name": "HBoxModel",
            "_view_count": null,
            "_view_module": "@jupyter-widgets/controls",
            "_view_module_version": "1.5.0",
            "_view_name": "HBoxView",
            "box_style": "",
            "children": [
              "IPY_MODEL_b095340c80364f3b8800c34c6717354d",
              "IPY_MODEL_a8e155049e6744b0b9c267a321344f86",
              "IPY_MODEL_0dbbc3abc53245fcae0197130fbca275"
            ],
            "layout": "IPY_MODEL_9429b19c81cc4ac089b558884339482c"
          }
        },
        "b095340c80364f3b8800c34c6717354d": {
          "model_module": "@jupyter-widgets/controls",
          "model_name": "HTMLModel",
          "model_module_version": "1.5.0",
          "state": {
            "_dom_classes": [],
            "_model_module": "@jupyter-widgets/controls",
            "_model_module_version": "1.5.0",
            "_model_name": "HTMLModel",
            "_view_count": null,
            "_view_module": "@jupyter-widgets/controls",
            "_view_module_version": "1.5.0",
            "_view_name": "HTMLView",
            "description": "",
            "description_tooltip": null,
            "layout": "IPY_MODEL_00ec7b3f48ff49ccaee1f9029ff03afd",
            "placeholder": "​",
            "style": "IPY_MODEL_8e4b9ee3591944f4bb943fcfec17bce1",
            "value": "Downloading pytorch_model.bin: 100%"
          }
        },
        "a8e155049e6744b0b9c267a321344f86": {
          "model_module": "@jupyter-widgets/controls",
          "model_name": "FloatProgressModel",
          "model_module_version": "1.5.0",
          "state": {
            "_dom_classes": [],
            "_model_module": "@jupyter-widgets/controls",
            "_model_module_version": "1.5.0",
            "_model_name": "FloatProgressModel",
            "_view_count": null,
            "_view_module": "@jupyter-widgets/controls",
            "_view_module_version": "1.5.0",
            "_view_name": "ProgressView",
            "bar_style": "success",
            "description": "",
            "description_tooltip": null,
            "layout": "IPY_MODEL_dee3784e36a54870b76a41cb1f47afb9",
            "max": 501045531,
            "min": 0,
            "orientation": "horizontal",
            "style": "IPY_MODEL_1b546bb8f37e4e7d883e5bb62b7c05b5",
            "value": 501045531
          }
        },
        "0dbbc3abc53245fcae0197130fbca275": {
          "model_module": "@jupyter-widgets/controls",
          "model_name": "HTMLModel",
          "model_module_version": "1.5.0",
          "state": {
            "_dom_classes": [],
            "_model_module": "@jupyter-widgets/controls",
            "_model_module_version": "1.5.0",
            "_model_name": "HTMLModel",
            "_view_count": null,
            "_view_module": "@jupyter-widgets/controls",
            "_view_module_version": "1.5.0",
            "_view_name": "HTMLView",
            "description": "",
            "description_tooltip": null,
            "layout": "IPY_MODEL_37729244277c4a549a853543a77f7c22",
            "placeholder": "​",
            "style": "IPY_MODEL_327a95db95e3489cb55e817dead23cc5",
            "value": " 501M/501M [00:02&lt;00:00, 249MB/s]"
          }
        },
        "9429b19c81cc4ac089b558884339482c": {
          "model_module": "@jupyter-widgets/base",
          "model_name": "LayoutModel",
          "model_module_version": "1.2.0",
          "state": {
            "_model_module": "@jupyter-widgets/base",
            "_model_module_version": "1.2.0",
            "_model_name": "LayoutModel",
            "_view_count": null,
            "_view_module": "@jupyter-widgets/base",
            "_view_module_version": "1.2.0",
            "_view_name": "LayoutView",
            "align_content": null,
            "align_items": null,
            "align_self": null,
            "border": null,
            "bottom": null,
            "display": null,
            "flex": null,
            "flex_flow": null,
            "grid_area": null,
            "grid_auto_columns": null,
            "grid_auto_flow": null,
            "grid_auto_rows": null,
            "grid_column": null,
            "grid_gap": null,
            "grid_row": null,
            "grid_template_areas": null,
            "grid_template_columns": null,
            "grid_template_rows": null,
            "height": null,
            "justify_content": null,
            "justify_items": null,
            "left": null,
            "margin": null,
            "max_height": null,
            "max_width": null,
            "min_height": null,
            "min_width": null,
            "object_fit": null,
            "object_position": null,
            "order": null,
            "overflow": null,
            "overflow_x": null,
            "overflow_y": null,
            "padding": null,
            "right": null,
            "top": null,
            "visibility": null,
            "width": null
          }
        },
        "00ec7b3f48ff49ccaee1f9029ff03afd": {
          "model_module": "@jupyter-widgets/base",
          "model_name": "LayoutModel",
          "model_module_version": "1.2.0",
          "state": {
            "_model_module": "@jupyter-widgets/base",
            "_model_module_version": "1.2.0",
            "_model_name": "LayoutModel",
            "_view_count": null,
            "_view_module": "@jupyter-widgets/base",
            "_view_module_version": "1.2.0",
            "_view_name": "LayoutView",
            "align_content": null,
            "align_items": null,
            "align_self": null,
            "border": null,
            "bottom": null,
            "display": null,
            "flex": null,
            "flex_flow": null,
            "grid_area": null,
            "grid_auto_columns": null,
            "grid_auto_flow": null,
            "grid_auto_rows": null,
            "grid_column": null,
            "grid_gap": null,
            "grid_row": null,
            "grid_template_areas": null,
            "grid_template_columns": null,
            "grid_template_rows": null,
            "height": null,
            "justify_content": null,
            "justify_items": null,
            "left": null,
            "margin": null,
            "max_height": null,
            "max_width": null,
            "min_height": null,
            "min_width": null,
            "object_fit": null,
            "object_position": null,
            "order": null,
            "overflow": null,
            "overflow_x": null,
            "overflow_y": null,
            "padding": null,
            "right": null,
            "top": null,
            "visibility": null,
            "width": null
          }
        },
        "8e4b9ee3591944f4bb943fcfec17bce1": {
          "model_module": "@jupyter-widgets/controls",
          "model_name": "DescriptionStyleModel",
          "model_module_version": "1.5.0",
          "state": {
            "_model_module": "@jupyter-widgets/controls",
            "_model_module_version": "1.5.0",
            "_model_name": "DescriptionStyleModel",
            "_view_count": null,
            "_view_module": "@jupyter-widgets/base",
            "_view_module_version": "1.2.0",
            "_view_name": "StyleView",
            "description_width": ""
          }
        },
        "dee3784e36a54870b76a41cb1f47afb9": {
          "model_module": "@jupyter-widgets/base",
          "model_name": "LayoutModel",
          "model_module_version": "1.2.0",
          "state": {
            "_model_module": "@jupyter-widgets/base",
            "_model_module_version": "1.2.0",
            "_model_name": "LayoutModel",
            "_view_count": null,
            "_view_module": "@jupyter-widgets/base",
            "_view_module_version": "1.2.0",
            "_view_name": "LayoutView",
            "align_content": null,
            "align_items": null,
            "align_self": null,
            "border": null,
            "bottom": null,
            "display": null,
            "flex": null,
            "flex_flow": null,
            "grid_area": null,
            "grid_auto_columns": null,
            "grid_auto_flow": null,
            "grid_auto_rows": null,
            "grid_column": null,
            "grid_gap": null,
            "grid_row": null,
            "grid_template_areas": null,
            "grid_template_columns": null,
            "grid_template_rows": null,
            "height": null,
            "justify_content": null,
            "justify_items": null,
            "left": null,
            "margin": null,
            "max_height": null,
            "max_width": null,
            "min_height": null,
            "min_width": null,
            "object_fit": null,
            "object_position": null,
            "order": null,
            "overflow": null,
            "overflow_x": null,
            "overflow_y": null,
            "padding": null,
            "right": null,
            "top": null,
            "visibility": null,
            "width": null
          }
        },
        "1b546bb8f37e4e7d883e5bb62b7c05b5": {
          "model_module": "@jupyter-widgets/controls",
          "model_name": "ProgressStyleModel",
          "model_module_version": "1.5.0",
          "state": {
            "_model_module": "@jupyter-widgets/controls",
            "_model_module_version": "1.5.0",
            "_model_name": "ProgressStyleModel",
            "_view_count": null,
            "_view_module": "@jupyter-widgets/base",
            "_view_module_version": "1.2.0",
            "_view_name": "StyleView",
            "bar_color": null,
            "description_width": ""
          }
        },
        "37729244277c4a549a853543a77f7c22": {
          "model_module": "@jupyter-widgets/base",
          "model_name": "LayoutModel",
          "model_module_version": "1.2.0",
          "state": {
            "_model_module": "@jupyter-widgets/base",
            "_model_module_version": "1.2.0",
            "_model_name": "LayoutModel",
            "_view_count": null,
            "_view_module": "@jupyter-widgets/base",
            "_view_module_version": "1.2.0",
            "_view_name": "LayoutView",
            "align_content": null,
            "align_items": null,
            "align_self": null,
            "border": null,
            "bottom": null,
            "display": null,
            "flex": null,
            "flex_flow": null,
            "grid_area": null,
            "grid_auto_columns": null,
            "grid_auto_flow": null,
            "grid_auto_rows": null,
            "grid_column": null,
            "grid_gap": null,
            "grid_row": null,
            "grid_template_areas": null,
            "grid_template_columns": null,
            "grid_template_rows": null,
            "height": null,
            "justify_content": null,
            "justify_items": null,
            "left": null,
            "margin": null,
            "max_height": null,
            "max_width": null,
            "min_height": null,
            "min_width": null,
            "object_fit": null,
            "object_position": null,
            "order": null,
            "overflow": null,
            "overflow_x": null,
            "overflow_y": null,
            "padding": null,
            "right": null,
            "top": null,
            "visibility": null,
            "width": null
          }
        },
        "327a95db95e3489cb55e817dead23cc5": {
          "model_module": "@jupyter-widgets/controls",
          "model_name": "DescriptionStyleModel",
          "model_module_version": "1.5.0",
          "state": {
            "_model_module": "@jupyter-widgets/controls",
            "_model_module_version": "1.5.0",
            "_model_name": "DescriptionStyleModel",
            "_view_count": null,
            "_view_module": "@jupyter-widgets/base",
            "_view_module_version": "1.2.0",
            "_view_name": "StyleView",
            "description_width": ""
          }
        },
        "4f21cf55da2d4c499d7215a617bd65b6": {
          "model_module": "@jupyter-widgets/controls",
          "model_name": "HBoxModel",
          "model_module_version": "1.5.0",
          "state": {
            "_dom_classes": [],
            "_model_module": "@jupyter-widgets/controls",
            "_model_module_version": "1.5.0",
            "_model_name": "HBoxModel",
            "_view_count": null,
            "_view_module": "@jupyter-widgets/controls",
            "_view_module_version": "1.5.0",
            "_view_name": "HBoxView",
            "box_style": "",
            "children": [
              "IPY_MODEL_2d4bf8e21dd24efaa859a60c109ceb7b",
              "IPY_MODEL_07815fb3a34341c197a9fe7e3dfa8ab3",
              "IPY_MODEL_812d0e17b4784eb4ae4b33239752561b"
            ],
            "layout": "IPY_MODEL_e7d08b8c087545a0b0561007be38b5b6"
          }
        },
        "2d4bf8e21dd24efaa859a60c109ceb7b": {
          "model_module": "@jupyter-widgets/controls",
          "model_name": "HTMLModel",
          "model_module_version": "1.5.0",
          "state": {
            "_dom_classes": [],
            "_model_module": "@jupyter-widgets/controls",
            "_model_module_version": "1.5.0",
            "_model_name": "HTMLModel",
            "_view_count": null,
            "_view_module": "@jupyter-widgets/controls",
            "_view_module_version": "1.5.0",
            "_view_name": "HTMLView",
            "description": "",
            "description_tooltip": null,
            "layout": "IPY_MODEL_26dc9489a35b4ed9a7324b6ddfeacf26",
            "placeholder": "​",
            "style": "IPY_MODEL_51041f90ab1343a9bc9ef9d50132e4ca",
            "value": "Downloading (…)okenizer_config.json: 100%"
          }
        },
        "07815fb3a34341c197a9fe7e3dfa8ab3": {
          "model_module": "@jupyter-widgets/controls",
          "model_name": "FloatProgressModel",
          "model_module_version": "1.5.0",
          "state": {
            "_dom_classes": [],
            "_model_module": "@jupyter-widgets/controls",
            "_model_module_version": "1.5.0",
            "_model_name": "FloatProgressModel",
            "_view_count": null,
            "_view_module": "@jupyter-widgets/controls",
            "_view_module_version": "1.5.0",
            "_view_name": "ProgressView",
            "bar_style": "success",
            "description": "",
            "description_tooltip": null,
            "layout": "IPY_MODEL_996bfc053cc046c891a3dcfaf011040c",
            "max": 412,
            "min": 0,
            "orientation": "horizontal",
            "style": "IPY_MODEL_7be65636db6a4e1eaeeb1bafb26dc25c",
            "value": 412
          }
        },
        "812d0e17b4784eb4ae4b33239752561b": {
          "model_module": "@jupyter-widgets/controls",
          "model_name": "HTMLModel",
          "model_module_version": "1.5.0",
          "state": {
            "_dom_classes": [],
            "_model_module": "@jupyter-widgets/controls",
            "_model_module_version": "1.5.0",
            "_model_name": "HTMLModel",
            "_view_count": null,
            "_view_module": "@jupyter-widgets/controls",
            "_view_module_version": "1.5.0",
            "_view_name": "HTMLView",
            "description": "",
            "description_tooltip": null,
            "layout": "IPY_MODEL_c39890a885e845cfb0cfa8e8f82a017a",
            "placeholder": "​",
            "style": "IPY_MODEL_d054f2f9d38b4f438576c1c38cf14a01",
            "value": " 412/412 [00:00&lt;00:00, 21.4kB/s]"
          }
        },
        "e7d08b8c087545a0b0561007be38b5b6": {
          "model_module": "@jupyter-widgets/base",
          "model_name": "LayoutModel",
          "model_module_version": "1.2.0",
          "state": {
            "_model_module": "@jupyter-widgets/base",
            "_model_module_version": "1.2.0",
            "_model_name": "LayoutModel",
            "_view_count": null,
            "_view_module": "@jupyter-widgets/base",
            "_view_module_version": "1.2.0",
            "_view_name": "LayoutView",
            "align_content": null,
            "align_items": null,
            "align_self": null,
            "border": null,
            "bottom": null,
            "display": null,
            "flex": null,
            "flex_flow": null,
            "grid_area": null,
            "grid_auto_columns": null,
            "grid_auto_flow": null,
            "grid_auto_rows": null,
            "grid_column": null,
            "grid_gap": null,
            "grid_row": null,
            "grid_template_areas": null,
            "grid_template_columns": null,
            "grid_template_rows": null,
            "height": null,
            "justify_content": null,
            "justify_items": null,
            "left": null,
            "margin": null,
            "max_height": null,
            "max_width": null,
            "min_height": null,
            "min_width": null,
            "object_fit": null,
            "object_position": null,
            "order": null,
            "overflow": null,
            "overflow_x": null,
            "overflow_y": null,
            "padding": null,
            "right": null,
            "top": null,
            "visibility": null,
            "width": null
          }
        },
        "26dc9489a35b4ed9a7324b6ddfeacf26": {
          "model_module": "@jupyter-widgets/base",
          "model_name": "LayoutModel",
          "model_module_version": "1.2.0",
          "state": {
            "_model_module": "@jupyter-widgets/base",
            "_model_module_version": "1.2.0",
            "_model_name": "LayoutModel",
            "_view_count": null,
            "_view_module": "@jupyter-widgets/base",
            "_view_module_version": "1.2.0",
            "_view_name": "LayoutView",
            "align_content": null,
            "align_items": null,
            "align_self": null,
            "border": null,
            "bottom": null,
            "display": null,
            "flex": null,
            "flex_flow": null,
            "grid_area": null,
            "grid_auto_columns": null,
            "grid_auto_flow": null,
            "grid_auto_rows": null,
            "grid_column": null,
            "grid_gap": null,
            "grid_row": null,
            "grid_template_areas": null,
            "grid_template_columns": null,
            "grid_template_rows": null,
            "height": null,
            "justify_content": null,
            "justify_items": null,
            "left": null,
            "margin": null,
            "max_height": null,
            "max_width": null,
            "min_height": null,
            "min_width": null,
            "object_fit": null,
            "object_position": null,
            "order": null,
            "overflow": null,
            "overflow_x": null,
            "overflow_y": null,
            "padding": null,
            "right": null,
            "top": null,
            "visibility": null,
            "width": null
          }
        },
        "51041f90ab1343a9bc9ef9d50132e4ca": {
          "model_module": "@jupyter-widgets/controls",
          "model_name": "DescriptionStyleModel",
          "model_module_version": "1.5.0",
          "state": {
            "_model_module": "@jupyter-widgets/controls",
            "_model_module_version": "1.5.0",
            "_model_name": "DescriptionStyleModel",
            "_view_count": null,
            "_view_module": "@jupyter-widgets/base",
            "_view_module_version": "1.2.0",
            "_view_name": "StyleView",
            "description_width": ""
          }
        },
        "996bfc053cc046c891a3dcfaf011040c": {
          "model_module": "@jupyter-widgets/base",
          "model_name": "LayoutModel",
          "model_module_version": "1.2.0",
          "state": {
            "_model_module": "@jupyter-widgets/base",
            "_model_module_version": "1.2.0",
            "_model_name": "LayoutModel",
            "_view_count": null,
            "_view_module": "@jupyter-widgets/base",
            "_view_module_version": "1.2.0",
            "_view_name": "LayoutView",
            "align_content": null,
            "align_items": null,
            "align_self": null,
            "border": null,
            "bottom": null,
            "display": null,
            "flex": null,
            "flex_flow": null,
            "grid_area": null,
            "grid_auto_columns": null,
            "grid_auto_flow": null,
            "grid_auto_rows": null,
            "grid_column": null,
            "grid_gap": null,
            "grid_row": null,
            "grid_template_areas": null,
            "grid_template_columns": null,
            "grid_template_rows": null,
            "height": null,
            "justify_content": null,
            "justify_items": null,
            "left": null,
            "margin": null,
            "max_height": null,
            "max_width": null,
            "min_height": null,
            "min_width": null,
            "object_fit": null,
            "object_position": null,
            "order": null,
            "overflow": null,
            "overflow_x": null,
            "overflow_y": null,
            "padding": null,
            "right": null,
            "top": null,
            "visibility": null,
            "width": null
          }
        },
        "7be65636db6a4e1eaeeb1bafb26dc25c": {
          "model_module": "@jupyter-widgets/controls",
          "model_name": "ProgressStyleModel",
          "model_module_version": "1.5.0",
          "state": {
            "_model_module": "@jupyter-widgets/controls",
            "_model_module_version": "1.5.0",
            "_model_name": "ProgressStyleModel",
            "_view_count": null,
            "_view_module": "@jupyter-widgets/base",
            "_view_module_version": "1.2.0",
            "_view_name": "StyleView",
            "bar_color": null,
            "description_width": ""
          }
        },
        "c39890a885e845cfb0cfa8e8f82a017a": {
          "model_module": "@jupyter-widgets/base",
          "model_name": "LayoutModel",
          "model_module_version": "1.2.0",
          "state": {
            "_model_module": "@jupyter-widgets/base",
            "_model_module_version": "1.2.0",
            "_model_name": "LayoutModel",
            "_view_count": null,
            "_view_module": "@jupyter-widgets/base",
            "_view_module_version": "1.2.0",
            "_view_name": "LayoutView",
            "align_content": null,
            "align_items": null,
            "align_self": null,
            "border": null,
            "bottom": null,
            "display": null,
            "flex": null,
            "flex_flow": null,
            "grid_area": null,
            "grid_auto_columns": null,
            "grid_auto_flow": null,
            "grid_auto_rows": null,
            "grid_column": null,
            "grid_gap": null,
            "grid_row": null,
            "grid_template_areas": null,
            "grid_template_columns": null,
            "grid_template_rows": null,
            "height": null,
            "justify_content": null,
            "justify_items": null,
            "left": null,
            "margin": null,
            "max_height": null,
            "max_width": null,
            "min_height": null,
            "min_width": null,
            "object_fit": null,
            "object_position": null,
            "order": null,
            "overflow": null,
            "overflow_x": null,
            "overflow_y": null,
            "padding": null,
            "right": null,
            "top": null,
            "visibility": null,
            "width": null
          }
        },
        "d054f2f9d38b4f438576c1c38cf14a01": {
          "model_module": "@jupyter-widgets/controls",
          "model_name": "DescriptionStyleModel",
          "model_module_version": "1.5.0",
          "state": {
            "_model_module": "@jupyter-widgets/controls",
            "_model_module_version": "1.5.0",
            "_model_name": "DescriptionStyleModel",
            "_view_count": null,
            "_view_module": "@jupyter-widgets/base",
            "_view_module_version": "1.2.0",
            "_view_name": "StyleView",
            "description_width": ""
          }
        },
        "cf91cab68fd4453697d8dd8bb1465f4a": {
          "model_module": "@jupyter-widgets/controls",
          "model_name": "HBoxModel",
          "model_module_version": "1.5.0",
          "state": {
            "_dom_classes": [],
            "_model_module": "@jupyter-widgets/controls",
            "_model_module_version": "1.5.0",
            "_model_name": "HBoxModel",
            "_view_count": null,
            "_view_module": "@jupyter-widgets/controls",
            "_view_module_version": "1.5.0",
            "_view_name": "HBoxView",
            "box_style": "",
            "children": [
              "IPY_MODEL_dbafe54d13874bacb653c3872504b631",
              "IPY_MODEL_1b8e35895a9b4fdd9d54d2af2a55955f",
              "IPY_MODEL_975f974d18bd482da0cd9e062d1b3b9d"
            ],
            "layout": "IPY_MODEL_258e3ec2cb1d4295aa3dbcd0398180cf"
          }
        },
        "dbafe54d13874bacb653c3872504b631": {
          "model_module": "@jupyter-widgets/controls",
          "model_name": "HTMLModel",
          "model_module_version": "1.5.0",
          "state": {
            "_dom_classes": [],
            "_model_module": "@jupyter-widgets/controls",
            "_model_module_version": "1.5.0",
            "_model_name": "HTMLModel",
            "_view_count": null,
            "_view_module": "@jupyter-widgets/controls",
            "_view_module_version": "1.5.0",
            "_view_name": "HTMLView",
            "description": "",
            "description_tooltip": null,
            "layout": "IPY_MODEL_d3b2cebbed6249d4bbee56ee78a9ce8e",
            "placeholder": "​",
            "style": "IPY_MODEL_a70cf86df7b34e5ba616d38c097b94b0",
            "value": "Downloading (…)tencepiece.bpe.model: 100%"
          }
        },
        "1b8e35895a9b4fdd9d54d2af2a55955f": {
          "model_module": "@jupyter-widgets/controls",
          "model_name": "FloatProgressModel",
          "model_module_version": "1.5.0",
          "state": {
            "_dom_classes": [],
            "_model_module": "@jupyter-widgets/controls",
            "_model_module_version": "1.5.0",
            "_model_name": "FloatProgressModel",
            "_view_count": null,
            "_view_module": "@jupyter-widgets/controls",
            "_view_module_version": "1.5.0",
            "_view_name": "ProgressView",
            "bar_style": "success",
            "description": "",
            "description_tooltip": null,
            "layout": "IPY_MODEL_cece66231abd4a6d9a791af3d10e634e",
            "max": 5069051,
            "min": 0,
            "orientation": "horizontal",
            "style": "IPY_MODEL_38cb6acaf84f47969a2e7b27465820e3",
            "value": 5069051
          }
        },
        "975f974d18bd482da0cd9e062d1b3b9d": {
          "model_module": "@jupyter-widgets/controls",
          "model_name": "HTMLModel",
          "model_module_version": "1.5.0",
          "state": {
            "_dom_classes": [],
            "_model_module": "@jupyter-widgets/controls",
            "_model_module_version": "1.5.0",
            "_model_name": "HTMLModel",
            "_view_count": null,
            "_view_module": "@jupyter-widgets/controls",
            "_view_module_version": "1.5.0",
            "_view_name": "HTMLView",
            "description": "",
            "description_tooltip": null,
            "layout": "IPY_MODEL_c8b19afbba3c4fdf96ab65faa2b8fae8",
            "placeholder": "​",
            "style": "IPY_MODEL_f90f8a1344c84659a98c122539cf9b3a",
            "value": " 5.07M/5.07M [00:00&lt;00:00, 58.6MB/s]"
          }
        },
        "258e3ec2cb1d4295aa3dbcd0398180cf": {
          "model_module": "@jupyter-widgets/base",
          "model_name": "LayoutModel",
          "model_module_version": "1.2.0",
          "state": {
            "_model_module": "@jupyter-widgets/base",
            "_model_module_version": "1.2.0",
            "_model_name": "LayoutModel",
            "_view_count": null,
            "_view_module": "@jupyter-widgets/base",
            "_view_module_version": "1.2.0",
            "_view_name": "LayoutView",
            "align_content": null,
            "align_items": null,
            "align_self": null,
            "border": null,
            "bottom": null,
            "display": null,
            "flex": null,
            "flex_flow": null,
            "grid_area": null,
            "grid_auto_columns": null,
            "grid_auto_flow": null,
            "grid_auto_rows": null,
            "grid_column": null,
            "grid_gap": null,
            "grid_row": null,
            "grid_template_areas": null,
            "grid_template_columns": null,
            "grid_template_rows": null,
            "height": null,
            "justify_content": null,
            "justify_items": null,
            "left": null,
            "margin": null,
            "max_height": null,
            "max_width": null,
            "min_height": null,
            "min_width": null,
            "object_fit": null,
            "object_position": null,
            "order": null,
            "overflow": null,
            "overflow_x": null,
            "overflow_y": null,
            "padding": null,
            "right": null,
            "top": null,
            "visibility": null,
            "width": null
          }
        },
        "d3b2cebbed6249d4bbee56ee78a9ce8e": {
          "model_module": "@jupyter-widgets/base",
          "model_name": "LayoutModel",
          "model_module_version": "1.2.0",
          "state": {
            "_model_module": "@jupyter-widgets/base",
            "_model_module_version": "1.2.0",
            "_model_name": "LayoutModel",
            "_view_count": null,
            "_view_module": "@jupyter-widgets/base",
            "_view_module_version": "1.2.0",
            "_view_name": "LayoutView",
            "align_content": null,
            "align_items": null,
            "align_self": null,
            "border": null,
            "bottom": null,
            "display": null,
            "flex": null,
            "flex_flow": null,
            "grid_area": null,
            "grid_auto_columns": null,
            "grid_auto_flow": null,
            "grid_auto_rows": null,
            "grid_column": null,
            "grid_gap": null,
            "grid_row": null,
            "grid_template_areas": null,
            "grid_template_columns": null,
            "grid_template_rows": null,
            "height": null,
            "justify_content": null,
            "justify_items": null,
            "left": null,
            "margin": null,
            "max_height": null,
            "max_width": null,
            "min_height": null,
            "min_width": null,
            "object_fit": null,
            "object_position": null,
            "order": null,
            "overflow": null,
            "overflow_x": null,
            "overflow_y": null,
            "padding": null,
            "right": null,
            "top": null,
            "visibility": null,
            "width": null
          }
        },
        "a70cf86df7b34e5ba616d38c097b94b0": {
          "model_module": "@jupyter-widgets/controls",
          "model_name": "DescriptionStyleModel",
          "model_module_version": "1.5.0",
          "state": {
            "_model_module": "@jupyter-widgets/controls",
            "_model_module_version": "1.5.0",
            "_model_name": "DescriptionStyleModel",
            "_view_count": null,
            "_view_module": "@jupyter-widgets/base",
            "_view_module_version": "1.2.0",
            "_view_name": "StyleView",
            "description_width": ""
          }
        },
        "cece66231abd4a6d9a791af3d10e634e": {
          "model_module": "@jupyter-widgets/base",
          "model_name": "LayoutModel",
          "model_module_version": "1.2.0",
          "state": {
            "_model_module": "@jupyter-widgets/base",
            "_model_module_version": "1.2.0",
            "_model_name": "LayoutModel",
            "_view_count": null,
            "_view_module": "@jupyter-widgets/base",
            "_view_module_version": "1.2.0",
            "_view_name": "LayoutView",
            "align_content": null,
            "align_items": null,
            "align_self": null,
            "border": null,
            "bottom": null,
            "display": null,
            "flex": null,
            "flex_flow": null,
            "grid_area": null,
            "grid_auto_columns": null,
            "grid_auto_flow": null,
            "grid_auto_rows": null,
            "grid_column": null,
            "grid_gap": null,
            "grid_row": null,
            "grid_template_areas": null,
            "grid_template_columns": null,
            "grid_template_rows": null,
            "height": null,
            "justify_content": null,
            "justify_items": null,
            "left": null,
            "margin": null,
            "max_height": null,
            "max_width": null,
            "min_height": null,
            "min_width": null,
            "object_fit": null,
            "object_position": null,
            "order": null,
            "overflow": null,
            "overflow_x": null,
            "overflow_y": null,
            "padding": null,
            "right": null,
            "top": null,
            "visibility": null,
            "width": null
          }
        },
        "38cb6acaf84f47969a2e7b27465820e3": {
          "model_module": "@jupyter-widgets/controls",
          "model_name": "ProgressStyleModel",
          "model_module_version": "1.5.0",
          "state": {
            "_model_module": "@jupyter-widgets/controls",
            "_model_module_version": "1.5.0",
            "_model_name": "ProgressStyleModel",
            "_view_count": null,
            "_view_module": "@jupyter-widgets/base",
            "_view_module_version": "1.2.0",
            "_view_name": "StyleView",
            "bar_color": null,
            "description_width": ""
          }
        },
        "c8b19afbba3c4fdf96ab65faa2b8fae8": {
          "model_module": "@jupyter-widgets/base",
          "model_name": "LayoutModel",
          "model_module_version": "1.2.0",
          "state": {
            "_model_module": "@jupyter-widgets/base",
            "_model_module_version": "1.2.0",
            "_model_name": "LayoutModel",
            "_view_count": null,
            "_view_module": "@jupyter-widgets/base",
            "_view_module_version": "1.2.0",
            "_view_name": "LayoutView",
            "align_content": null,
            "align_items": null,
            "align_self": null,
            "border": null,
            "bottom": null,
            "display": null,
            "flex": null,
            "flex_flow": null,
            "grid_area": null,
            "grid_auto_columns": null,
            "grid_auto_flow": null,
            "grid_auto_rows": null,
            "grid_column": null,
            "grid_gap": null,
            "grid_row": null,
            "grid_template_areas": null,
            "grid_template_columns": null,
            "grid_template_rows": null,
            "height": null,
            "justify_content": null,
            "justify_items": null,
            "left": null,
            "margin": null,
            "max_height": null,
            "max_width": null,
            "min_height": null,
            "min_width": null,
            "object_fit": null,
            "object_position": null,
            "order": null,
            "overflow": null,
            "overflow_x": null,
            "overflow_y": null,
            "padding": null,
            "right": null,
            "top": null,
            "visibility": null,
            "width": null
          }
        },
        "f90f8a1344c84659a98c122539cf9b3a": {
          "model_module": "@jupyter-widgets/controls",
          "model_name": "DescriptionStyleModel",
          "model_module_version": "1.5.0",
          "state": {
            "_model_module": "@jupyter-widgets/controls",
            "_model_module_version": "1.5.0",
            "_model_name": "DescriptionStyleModel",
            "_view_count": null,
            "_view_module": "@jupyter-widgets/base",
            "_view_module_version": "1.2.0",
            "_view_name": "StyleView",
            "description_width": ""
          }
        },
        "ddd18b6034114089b59747ae19ea5a4f": {
          "model_module": "@jupyter-widgets/controls",
          "model_name": "HBoxModel",
          "model_module_version": "1.5.0",
          "state": {
            "_dom_classes": [],
            "_model_module": "@jupyter-widgets/controls",
            "_model_module_version": "1.5.0",
            "_model_name": "HBoxModel",
            "_view_count": null,
            "_view_module": "@jupyter-widgets/controls",
            "_view_module_version": "1.5.0",
            "_view_name": "HBoxView",
            "box_style": "",
            "children": [
              "IPY_MODEL_bf7835e725c643da82d8e04b64ae5155",
              "IPY_MODEL_c7e488009b7340ae93f4d31b99f773bb",
              "IPY_MODEL_6c4861e2bd214b1cbb402352d78e5fff"
            ],
            "layout": "IPY_MODEL_ea1867f36f5b453ab0a0beb25509de06"
          }
        },
        "bf7835e725c643da82d8e04b64ae5155": {
          "model_module": "@jupyter-widgets/controls",
          "model_name": "HTMLModel",
          "model_module_version": "1.5.0",
          "state": {
            "_dom_classes": [],
            "_model_module": "@jupyter-widgets/controls",
            "_model_module_version": "1.5.0",
            "_model_name": "HTMLModel",
            "_view_count": null,
            "_view_module": "@jupyter-widgets/controls",
            "_view_module_version": "1.5.0",
            "_view_name": "HTMLView",
            "description": "",
            "description_tooltip": null,
            "layout": "IPY_MODEL_7af891b25eb04528bf32beb85667fd2c",
            "placeholder": "​",
            "style": "IPY_MODEL_6e7499d5f36b452f8d4938b0aa8c06bf",
            "value": "Downloading tokenizer.json: 100%"
          }
        },
        "c7e488009b7340ae93f4d31b99f773bb": {
          "model_module": "@jupyter-widgets/controls",
          "model_name": "FloatProgressModel",
          "model_module_version": "1.5.0",
          "state": {
            "_dom_classes": [],
            "_model_module": "@jupyter-widgets/controls",
            "_model_module_version": "1.5.0",
            "_model_name": "FloatProgressModel",
            "_view_count": null,
            "_view_module": "@jupyter-widgets/controls",
            "_view_module_version": "1.5.0",
            "_view_name": "ProgressView",
            "bar_style": "success",
            "description": "",
            "description_tooltip": null,
            "layout": "IPY_MODEL_de6248e3de544e75a34f449c429fb8e1",
            "max": 17082758,
            "min": 0,
            "orientation": "horizontal",
            "style": "IPY_MODEL_f778f49e024246b0aeb4518e7b638b32",
            "value": 17082758
          }
        },
        "6c4861e2bd214b1cbb402352d78e5fff": {
          "model_module": "@jupyter-widgets/controls",
          "model_name": "HTMLModel",
          "model_module_version": "1.5.0",
          "state": {
            "_dom_classes": [],
            "_model_module": "@jupyter-widgets/controls",
            "_model_module_version": "1.5.0",
            "_model_name": "HTMLModel",
            "_view_count": null,
            "_view_module": "@jupyter-widgets/controls",
            "_view_module_version": "1.5.0",
            "_view_name": "HTMLView",
            "description": "",
            "description_tooltip": null,
            "layout": "IPY_MODEL_2677888960ea477eb785484393dd144f",
            "placeholder": "​",
            "style": "IPY_MODEL_0560bbd38644418f9edef726b38d6f60",
            "value": " 17.1M/17.1M [00:00&lt;00:00, 111MB/s]"
          }
        },
        "ea1867f36f5b453ab0a0beb25509de06": {
          "model_module": "@jupyter-widgets/base",
          "model_name": "LayoutModel",
          "model_module_version": "1.2.0",
          "state": {
            "_model_module": "@jupyter-widgets/base",
            "_model_module_version": "1.2.0",
            "_model_name": "LayoutModel",
            "_view_count": null,
            "_view_module": "@jupyter-widgets/base",
            "_view_module_version": "1.2.0",
            "_view_name": "LayoutView",
            "align_content": null,
            "align_items": null,
            "align_self": null,
            "border": null,
            "bottom": null,
            "display": null,
            "flex": null,
            "flex_flow": null,
            "grid_area": null,
            "grid_auto_columns": null,
            "grid_auto_flow": null,
            "grid_auto_rows": null,
            "grid_column": null,
            "grid_gap": null,
            "grid_row": null,
            "grid_template_areas": null,
            "grid_template_columns": null,
            "grid_template_rows": null,
            "height": null,
            "justify_content": null,
            "justify_items": null,
            "left": null,
            "margin": null,
            "max_height": null,
            "max_width": null,
            "min_height": null,
            "min_width": null,
            "object_fit": null,
            "object_position": null,
            "order": null,
            "overflow": null,
            "overflow_x": null,
            "overflow_y": null,
            "padding": null,
            "right": null,
            "top": null,
            "visibility": null,
            "width": null
          }
        },
        "7af891b25eb04528bf32beb85667fd2c": {
          "model_module": "@jupyter-widgets/base",
          "model_name": "LayoutModel",
          "model_module_version": "1.2.0",
          "state": {
            "_model_module": "@jupyter-widgets/base",
            "_model_module_version": "1.2.0",
            "_model_name": "LayoutModel",
            "_view_count": null,
            "_view_module": "@jupyter-widgets/base",
            "_view_module_version": "1.2.0",
            "_view_name": "LayoutView",
            "align_content": null,
            "align_items": null,
            "align_self": null,
            "border": null,
            "bottom": null,
            "display": null,
            "flex": null,
            "flex_flow": null,
            "grid_area": null,
            "grid_auto_columns": null,
            "grid_auto_flow": null,
            "grid_auto_rows": null,
            "grid_column": null,
            "grid_gap": null,
            "grid_row": null,
            "grid_template_areas": null,
            "grid_template_columns": null,
            "grid_template_rows": null,
            "height": null,
            "justify_content": null,
            "justify_items": null,
            "left": null,
            "margin": null,
            "max_height": null,
            "max_width": null,
            "min_height": null,
            "min_width": null,
            "object_fit": null,
            "object_position": null,
            "order": null,
            "overflow": null,
            "overflow_x": null,
            "overflow_y": null,
            "padding": null,
            "right": null,
            "top": null,
            "visibility": null,
            "width": null
          }
        },
        "6e7499d5f36b452f8d4938b0aa8c06bf": {
          "model_module": "@jupyter-widgets/controls",
          "model_name": "DescriptionStyleModel",
          "model_module_version": "1.5.0",
          "state": {
            "_model_module": "@jupyter-widgets/controls",
            "_model_module_version": "1.5.0",
            "_model_name": "DescriptionStyleModel",
            "_view_count": null,
            "_view_module": "@jupyter-widgets/base",
            "_view_module_version": "1.2.0",
            "_view_name": "StyleView",
            "description_width": ""
          }
        },
        "de6248e3de544e75a34f449c429fb8e1": {
          "model_module": "@jupyter-widgets/base",
          "model_name": "LayoutModel",
          "model_module_version": "1.2.0",
          "state": {
            "_model_module": "@jupyter-widgets/base",
            "_model_module_version": "1.2.0",
            "_model_name": "LayoutModel",
            "_view_count": null,
            "_view_module": "@jupyter-widgets/base",
            "_view_module_version": "1.2.0",
            "_view_name": "LayoutView",
            "align_content": null,
            "align_items": null,
            "align_self": null,
            "border": null,
            "bottom": null,
            "display": null,
            "flex": null,
            "flex_flow": null,
            "grid_area": null,
            "grid_auto_columns": null,
            "grid_auto_flow": null,
            "grid_auto_rows": null,
            "grid_column": null,
            "grid_gap": null,
            "grid_row": null,
            "grid_template_areas": null,
            "grid_template_columns": null,
            "grid_template_rows": null,
            "height": null,
            "justify_content": null,
            "justify_items": null,
            "left": null,
            "margin": null,
            "max_height": null,
            "max_width": null,
            "min_height": null,
            "min_width": null,
            "object_fit": null,
            "object_position": null,
            "order": null,
            "overflow": null,
            "overflow_x": null,
            "overflow_y": null,
            "padding": null,
            "right": null,
            "top": null,
            "visibility": null,
            "width": null
          }
        },
        "f778f49e024246b0aeb4518e7b638b32": {
          "model_module": "@jupyter-widgets/controls",
          "model_name": "ProgressStyleModel",
          "model_module_version": "1.5.0",
          "state": {
            "_model_module": "@jupyter-widgets/controls",
            "_model_module_version": "1.5.0",
            "_model_name": "ProgressStyleModel",
            "_view_count": null,
            "_view_module": "@jupyter-widgets/base",
            "_view_module_version": "1.2.0",
            "_view_name": "StyleView",
            "bar_color": null,
            "description_width": ""
          }
        },
        "2677888960ea477eb785484393dd144f": {
          "model_module": "@jupyter-widgets/base",
          "model_name": "LayoutModel",
          "model_module_version": "1.2.0",
          "state": {
            "_model_module": "@jupyter-widgets/base",
            "_model_module_version": "1.2.0",
            "_model_name": "LayoutModel",
            "_view_count": null,
            "_view_module": "@jupyter-widgets/base",
            "_view_module_version": "1.2.0",
            "_view_name": "LayoutView",
            "align_content": null,
            "align_items": null,
            "align_self": null,
            "border": null,
            "bottom": null,
            "display": null,
            "flex": null,
            "flex_flow": null,
            "grid_area": null,
            "grid_auto_columns": null,
            "grid_auto_flow": null,
            "grid_auto_rows": null,
            "grid_column": null,
            "grid_gap": null,
            "grid_row": null,
            "grid_template_areas": null,
            "grid_template_columns": null,
            "grid_template_rows": null,
            "height": null,
            "justify_content": null,
            "justify_items": null,
            "left": null,
            "margin": null,
            "max_height": null,
            "max_width": null,
            "min_height": null,
            "min_width": null,
            "object_fit": null,
            "object_position": null,
            "order": null,
            "overflow": null,
            "overflow_x": null,
            "overflow_y": null,
            "padding": null,
            "right": null,
            "top": null,
            "visibility": null,
            "width": null
          }
        },
        "0560bbd38644418f9edef726b38d6f60": {
          "model_module": "@jupyter-widgets/controls",
          "model_name": "DescriptionStyleModel",
          "model_module_version": "1.5.0",
          "state": {
            "_model_module": "@jupyter-widgets/controls",
            "_model_module_version": "1.5.0",
            "_model_name": "DescriptionStyleModel",
            "_view_count": null,
            "_view_module": "@jupyter-widgets/base",
            "_view_module_version": "1.2.0",
            "_view_name": "StyleView",
            "description_width": ""
          }
        },
        "fb6053f7e3f140ef940087afb25640bb": {
          "model_module": "@jupyter-widgets/controls",
          "model_name": "HBoxModel",
          "model_module_version": "1.5.0",
          "state": {
            "_dom_classes": [],
            "_model_module": "@jupyter-widgets/controls",
            "_model_module_version": "1.5.0",
            "_model_name": "HBoxModel",
            "_view_count": null,
            "_view_module": "@jupyter-widgets/controls",
            "_view_module_version": "1.5.0",
            "_view_name": "HBoxView",
            "box_style": "",
            "children": [
              "IPY_MODEL_3cbabae7c0c84134b3992048f756f252",
              "IPY_MODEL_923cac52999546fab73930c653f1653c",
              "IPY_MODEL_897dd2e423734a3eba70454bf3edf047"
            ],
            "layout": "IPY_MODEL_f709287555ee47c5b9f1da008ddb1f50"
          }
        },
        "3cbabae7c0c84134b3992048f756f252": {
          "model_module": "@jupyter-widgets/controls",
          "model_name": "HTMLModel",
          "model_module_version": "1.5.0",
          "state": {
            "_dom_classes": [],
            "_model_module": "@jupyter-widgets/controls",
            "_model_module_version": "1.5.0",
            "_model_name": "HTMLModel",
            "_view_count": null,
            "_view_module": "@jupyter-widgets/controls",
            "_view_module_version": "1.5.0",
            "_view_name": "HTMLView",
            "description": "",
            "description_tooltip": null,
            "layout": "IPY_MODEL_be639b505e5144998d452ed32bb936d5",
            "placeholder": "​",
            "style": "IPY_MODEL_57c0a6682a9144d0a1b2a838a31856c4",
            "value": "Downloading (…)cial_tokens_map.json: 100%"
          }
        },
        "923cac52999546fab73930c653f1653c": {
          "model_module": "@jupyter-widgets/controls",
          "model_name": "FloatProgressModel",
          "model_module_version": "1.5.0",
          "state": {
            "_dom_classes": [],
            "_model_module": "@jupyter-widgets/controls",
            "_model_module_version": "1.5.0",
            "_model_name": "FloatProgressModel",
            "_view_count": null,
            "_view_module": "@jupyter-widgets/controls",
            "_view_module_version": "1.5.0",
            "_view_name": "ProgressView",
            "bar_style": "success",
            "description": "",
            "description_tooltip": null,
            "layout": "IPY_MODEL_538833b5b3db4d59b7012372d29f86b5",
            "max": 239,
            "min": 0,
            "orientation": "horizontal",
            "style": "IPY_MODEL_08c378b0e0724d17a0f8d31fb3997629",
            "value": 239
          }
        },
        "897dd2e423734a3eba70454bf3edf047": {
          "model_module": "@jupyter-widgets/controls",
          "model_name": "HTMLModel",
          "model_module_version": "1.5.0",
          "state": {
            "_dom_classes": [],
            "_model_module": "@jupyter-widgets/controls",
            "_model_module_version": "1.5.0",
            "_model_name": "HTMLModel",
            "_view_count": null,
            "_view_module": "@jupyter-widgets/controls",
            "_view_module_version": "1.5.0",
            "_view_name": "HTMLView",
            "description": "",
            "description_tooltip": null,
            "layout": "IPY_MODEL_1302c6580a324f90b96083555c14119f",
            "placeholder": "​",
            "style": "IPY_MODEL_0a707610534c417faa8db468ddf60aea",
            "value": " 239/239 [00:00&lt;00:00, 12.2kB/s]"
          }
        },
        "f709287555ee47c5b9f1da008ddb1f50": {
          "model_module": "@jupyter-widgets/base",
          "model_name": "LayoutModel",
          "model_module_version": "1.2.0",
          "state": {
            "_model_module": "@jupyter-widgets/base",
            "_model_module_version": "1.2.0",
            "_model_name": "LayoutModel",
            "_view_count": null,
            "_view_module": "@jupyter-widgets/base",
            "_view_module_version": "1.2.0",
            "_view_name": "LayoutView",
            "align_content": null,
            "align_items": null,
            "align_self": null,
            "border": null,
            "bottom": null,
            "display": null,
            "flex": null,
            "flex_flow": null,
            "grid_area": null,
            "grid_auto_columns": null,
            "grid_auto_flow": null,
            "grid_auto_rows": null,
            "grid_column": null,
            "grid_gap": null,
            "grid_row": null,
            "grid_template_areas": null,
            "grid_template_columns": null,
            "grid_template_rows": null,
            "height": null,
            "justify_content": null,
            "justify_items": null,
            "left": null,
            "margin": null,
            "max_height": null,
            "max_width": null,
            "min_height": null,
            "min_width": null,
            "object_fit": null,
            "object_position": null,
            "order": null,
            "overflow": null,
            "overflow_x": null,
            "overflow_y": null,
            "padding": null,
            "right": null,
            "top": null,
            "visibility": null,
            "width": null
          }
        },
        "be639b505e5144998d452ed32bb936d5": {
          "model_module": "@jupyter-widgets/base",
          "model_name": "LayoutModel",
          "model_module_version": "1.2.0",
          "state": {
            "_model_module": "@jupyter-widgets/base",
            "_model_module_version": "1.2.0",
            "_model_name": "LayoutModel",
            "_view_count": null,
            "_view_module": "@jupyter-widgets/base",
            "_view_module_version": "1.2.0",
            "_view_name": "LayoutView",
            "align_content": null,
            "align_items": null,
            "align_self": null,
            "border": null,
            "bottom": null,
            "display": null,
            "flex": null,
            "flex_flow": null,
            "grid_area": null,
            "grid_auto_columns": null,
            "grid_auto_flow": null,
            "grid_auto_rows": null,
            "grid_column": null,
            "grid_gap": null,
            "grid_row": null,
            "grid_template_areas": null,
            "grid_template_columns": null,
            "grid_template_rows": null,
            "height": null,
            "justify_content": null,
            "justify_items": null,
            "left": null,
            "margin": null,
            "max_height": null,
            "max_width": null,
            "min_height": null,
            "min_width": null,
            "object_fit": null,
            "object_position": null,
            "order": null,
            "overflow": null,
            "overflow_x": null,
            "overflow_y": null,
            "padding": null,
            "right": null,
            "top": null,
            "visibility": null,
            "width": null
          }
        },
        "57c0a6682a9144d0a1b2a838a31856c4": {
          "model_module": "@jupyter-widgets/controls",
          "model_name": "DescriptionStyleModel",
          "model_module_version": "1.5.0",
          "state": {
            "_model_module": "@jupyter-widgets/controls",
            "_model_module_version": "1.5.0",
            "_model_name": "DescriptionStyleModel",
            "_view_count": null,
            "_view_module": "@jupyter-widgets/base",
            "_view_module_version": "1.2.0",
            "_view_name": "StyleView",
            "description_width": ""
          }
        },
        "538833b5b3db4d59b7012372d29f86b5": {
          "model_module": "@jupyter-widgets/base",
          "model_name": "LayoutModel",
          "model_module_version": "1.2.0",
          "state": {
            "_model_module": "@jupyter-widgets/base",
            "_model_module_version": "1.2.0",
            "_model_name": "LayoutModel",
            "_view_count": null,
            "_view_module": "@jupyter-widgets/base",
            "_view_module_version": "1.2.0",
            "_view_name": "LayoutView",
            "align_content": null,
            "align_items": null,
            "align_self": null,
            "border": null,
            "bottom": null,
            "display": null,
            "flex": null,
            "flex_flow": null,
            "grid_area": null,
            "grid_auto_columns": null,
            "grid_auto_flow": null,
            "grid_auto_rows": null,
            "grid_column": null,
            "grid_gap": null,
            "grid_row": null,
            "grid_template_areas": null,
            "grid_template_columns": null,
            "grid_template_rows": null,
            "height": null,
            "justify_content": null,
            "justify_items": null,
            "left": null,
            "margin": null,
            "max_height": null,
            "max_width": null,
            "min_height": null,
            "min_width": null,
            "object_fit": null,
            "object_position": null,
            "order": null,
            "overflow": null,
            "overflow_x": null,
            "overflow_y": null,
            "padding": null,
            "right": null,
            "top": null,
            "visibility": null,
            "width": null
          }
        },
        "08c378b0e0724d17a0f8d31fb3997629": {
          "model_module": "@jupyter-widgets/controls",
          "model_name": "ProgressStyleModel",
          "model_module_version": "1.5.0",
          "state": {
            "_model_module": "@jupyter-widgets/controls",
            "_model_module_version": "1.5.0",
            "_model_name": "ProgressStyleModel",
            "_view_count": null,
            "_view_module": "@jupyter-widgets/base",
            "_view_module_version": "1.2.0",
            "_view_name": "StyleView",
            "bar_color": null,
            "description_width": ""
          }
        },
        "1302c6580a324f90b96083555c14119f": {
          "model_module": "@jupyter-widgets/base",
          "model_name": "LayoutModel",
          "model_module_version": "1.2.0",
          "state": {
            "_model_module": "@jupyter-widgets/base",
            "_model_module_version": "1.2.0",
            "_model_name": "LayoutModel",
            "_view_count": null,
            "_view_module": "@jupyter-widgets/base",
            "_view_module_version": "1.2.0",
            "_view_name": "LayoutView",
            "align_content": null,
            "align_items": null,
            "align_self": null,
            "border": null,
            "bottom": null,
            "display": null,
            "flex": null,
            "flex_flow": null,
            "grid_area": null,
            "grid_auto_columns": null,
            "grid_auto_flow": null,
            "grid_auto_rows": null,
            "grid_column": null,
            "grid_gap": null,
            "grid_row": null,
            "grid_template_areas": null,
            "grid_template_columns": null,
            "grid_template_rows": null,
            "height": null,
            "justify_content": null,
            "justify_items": null,
            "left": null,
            "margin": null,
            "max_height": null,
            "max_width": null,
            "min_height": null,
            "min_width": null,
            "object_fit": null,
            "object_position": null,
            "order": null,
            "overflow": null,
            "overflow_x": null,
            "overflow_y": null,
            "padding": null,
            "right": null,
            "top": null,
            "visibility": null,
            "width": null
          }
        },
        "0a707610534c417faa8db468ddf60aea": {
          "model_module": "@jupyter-widgets/controls",
          "model_name": "DescriptionStyleModel",
          "model_module_version": "1.5.0",
          "state": {
            "_model_module": "@jupyter-widgets/controls",
            "_model_module_version": "1.5.0",
            "_model_name": "DescriptionStyleModel",
            "_view_count": null,
            "_view_module": "@jupyter-widgets/base",
            "_view_module_version": "1.2.0",
            "_view_name": "StyleView",
            "description_width": ""
          }
        },
        "2237dd67a5ec4e43ab24d4b0900b7e3b": {
          "model_module": "@jupyter-widgets/controls",
          "model_name": "HBoxModel",
          "model_module_version": "1.5.0",
          "state": {
            "_dom_classes": [],
            "_model_module": "@jupyter-widgets/controls",
            "_model_module_version": "1.5.0",
            "_model_name": "HBoxModel",
            "_view_count": null,
            "_view_module": "@jupyter-widgets/controls",
            "_view_module_version": "1.5.0",
            "_view_name": "HBoxView",
            "box_style": "",
            "children": [
              "IPY_MODEL_fe0dfe82dfca44b0a001196bbb05302a",
              "IPY_MODEL_ce3d91a0052b4d2387e167df5e3e2d88",
              "IPY_MODEL_8e7ae215522d48d785fca7e24ca3138a"
            ],
            "layout": "IPY_MODEL_824f18a3e4284f49bba35f4e201eb2b1"
          }
        },
        "fe0dfe82dfca44b0a001196bbb05302a": {
          "model_module": "@jupyter-widgets/controls",
          "model_name": "HTMLModel",
          "model_module_version": "1.5.0",
          "state": {
            "_dom_classes": [],
            "_model_module": "@jupyter-widgets/controls",
            "_model_module_version": "1.5.0",
            "_model_name": "HTMLModel",
            "_view_count": null,
            "_view_module": "@jupyter-widgets/controls",
            "_view_module_version": "1.5.0",
            "_view_name": "HTMLView",
            "description": "",
            "description_tooltip": null,
            "layout": "IPY_MODEL_96309ef09fb54b8a980e5e16002f44ac",
            "placeholder": "​",
            "style": "IPY_MODEL_d9dc9a6a0ee9403aa2b868e5b323d8f3",
            "value": "Downloading (…)lve/main/config.json: 100%"
          }
        },
        "ce3d91a0052b4d2387e167df5e3e2d88": {
          "model_module": "@jupyter-widgets/controls",
          "model_name": "FloatProgressModel",
          "model_module_version": "1.5.0",
          "state": {
            "_dom_classes": [],
            "_model_module": "@jupyter-widgets/controls",
            "_model_module_version": "1.5.0",
            "_model_name": "FloatProgressModel",
            "_view_count": null,
            "_view_module": "@jupyter-widgets/controls",
            "_view_module_version": "1.5.0",
            "_view_name": "ProgressView",
            "bar_style": "success",
            "description": "",
            "description_tooltip": null,
            "layout": "IPY_MODEL_a3f796d1d3e341f98b7747bd1ed96176",
            "max": 844,
            "min": 0,
            "orientation": "horizontal",
            "style": "IPY_MODEL_1e45877dc83f4f94910664752b697169",
            "value": 844
          }
        },
        "8e7ae215522d48d785fca7e24ca3138a": {
          "model_module": "@jupyter-widgets/controls",
          "model_name": "HTMLModel",
          "model_module_version": "1.5.0",
          "state": {
            "_dom_classes": [],
            "_model_module": "@jupyter-widgets/controls",
            "_model_module_version": "1.5.0",
            "_model_name": "HTMLModel",
            "_view_count": null,
            "_view_module": "@jupyter-widgets/controls",
            "_view_module_version": "1.5.0",
            "_view_name": "HTMLView",
            "description": "",
            "description_tooltip": null,
            "layout": "IPY_MODEL_07b2e3aaa0f0495192865e681dca10fb",
            "placeholder": "​",
            "style": "IPY_MODEL_dfafc9c227b14368b38ee186f88891d8",
            "value": " 844/844 [00:00&lt;00:00, 47.5kB/s]"
          }
        },
        "824f18a3e4284f49bba35f4e201eb2b1": {
          "model_module": "@jupyter-widgets/base",
          "model_name": "LayoutModel",
          "model_module_version": "1.2.0",
          "state": {
            "_model_module": "@jupyter-widgets/base",
            "_model_module_version": "1.2.0",
            "_model_name": "LayoutModel",
            "_view_count": null,
            "_view_module": "@jupyter-widgets/base",
            "_view_module_version": "1.2.0",
            "_view_name": "LayoutView",
            "align_content": null,
            "align_items": null,
            "align_self": null,
            "border": null,
            "bottom": null,
            "display": null,
            "flex": null,
            "flex_flow": null,
            "grid_area": null,
            "grid_auto_columns": null,
            "grid_auto_flow": null,
            "grid_auto_rows": null,
            "grid_column": null,
            "grid_gap": null,
            "grid_row": null,
            "grid_template_areas": null,
            "grid_template_columns": null,
            "grid_template_rows": null,
            "height": null,
            "justify_content": null,
            "justify_items": null,
            "left": null,
            "margin": null,
            "max_height": null,
            "max_width": null,
            "min_height": null,
            "min_width": null,
            "object_fit": null,
            "object_position": null,
            "order": null,
            "overflow": null,
            "overflow_x": null,
            "overflow_y": null,
            "padding": null,
            "right": null,
            "top": null,
            "visibility": null,
            "width": null
          }
        },
        "96309ef09fb54b8a980e5e16002f44ac": {
          "model_module": "@jupyter-widgets/base",
          "model_name": "LayoutModel",
          "model_module_version": "1.2.0",
          "state": {
            "_model_module": "@jupyter-widgets/base",
            "_model_module_version": "1.2.0",
            "_model_name": "LayoutModel",
            "_view_count": null,
            "_view_module": "@jupyter-widgets/base",
            "_view_module_version": "1.2.0",
            "_view_name": "LayoutView",
            "align_content": null,
            "align_items": null,
            "align_self": null,
            "border": null,
            "bottom": null,
            "display": null,
            "flex": null,
            "flex_flow": null,
            "grid_area": null,
            "grid_auto_columns": null,
            "grid_auto_flow": null,
            "grid_auto_rows": null,
            "grid_column": null,
            "grid_gap": null,
            "grid_row": null,
            "grid_template_areas": null,
            "grid_template_columns": null,
            "grid_template_rows": null,
            "height": null,
            "justify_content": null,
            "justify_items": null,
            "left": null,
            "margin": null,
            "max_height": null,
            "max_width": null,
            "min_height": null,
            "min_width": null,
            "object_fit": null,
            "object_position": null,
            "order": null,
            "overflow": null,
            "overflow_x": null,
            "overflow_y": null,
            "padding": null,
            "right": null,
            "top": null,
            "visibility": null,
            "width": null
          }
        },
        "d9dc9a6a0ee9403aa2b868e5b323d8f3": {
          "model_module": "@jupyter-widgets/controls",
          "model_name": "DescriptionStyleModel",
          "model_module_version": "1.5.0",
          "state": {
            "_model_module": "@jupyter-widgets/controls",
            "_model_module_version": "1.5.0",
            "_model_name": "DescriptionStyleModel",
            "_view_count": null,
            "_view_module": "@jupyter-widgets/base",
            "_view_module_version": "1.2.0",
            "_view_name": "StyleView",
            "description_width": ""
          }
        },
        "a3f796d1d3e341f98b7747bd1ed96176": {
          "model_module": "@jupyter-widgets/base",
          "model_name": "LayoutModel",
          "model_module_version": "1.2.0",
          "state": {
            "_model_module": "@jupyter-widgets/base",
            "_model_module_version": "1.2.0",
            "_model_name": "LayoutModel",
            "_view_count": null,
            "_view_module": "@jupyter-widgets/base",
            "_view_module_version": "1.2.0",
            "_view_name": "LayoutView",
            "align_content": null,
            "align_items": null,
            "align_self": null,
            "border": null,
            "bottom": null,
            "display": null,
            "flex": null,
            "flex_flow": null,
            "grid_area": null,
            "grid_auto_columns": null,
            "grid_auto_flow": null,
            "grid_auto_rows": null,
            "grid_column": null,
            "grid_gap": null,
            "grid_row": null,
            "grid_template_areas": null,
            "grid_template_columns": null,
            "grid_template_rows": null,
            "height": null,
            "justify_content": null,
            "justify_items": null,
            "left": null,
            "margin": null,
            "max_height": null,
            "max_width": null,
            "min_height": null,
            "min_width": null,
            "object_fit": null,
            "object_position": null,
            "order": null,
            "overflow": null,
            "overflow_x": null,
            "overflow_y": null,
            "padding": null,
            "right": null,
            "top": null,
            "visibility": null,
            "width": null
          }
        },
        "1e45877dc83f4f94910664752b697169": {
          "model_module": "@jupyter-widgets/controls",
          "model_name": "ProgressStyleModel",
          "model_module_version": "1.5.0",
          "state": {
            "_model_module": "@jupyter-widgets/controls",
            "_model_module_version": "1.5.0",
            "_model_name": "ProgressStyleModel",
            "_view_count": null,
            "_view_module": "@jupyter-widgets/base",
            "_view_module_version": "1.2.0",
            "_view_name": "StyleView",
            "bar_color": null,
            "description_width": ""
          }
        },
        "07b2e3aaa0f0495192865e681dca10fb": {
          "model_module": "@jupyter-widgets/base",
          "model_name": "LayoutModel",
          "model_module_version": "1.2.0",
          "state": {
            "_model_module": "@jupyter-widgets/base",
            "_model_module_version": "1.2.0",
            "_model_name": "LayoutModel",
            "_view_count": null,
            "_view_module": "@jupyter-widgets/base",
            "_view_module_version": "1.2.0",
            "_view_name": "LayoutView",
            "align_content": null,
            "align_items": null,
            "align_self": null,
            "border": null,
            "bottom": null,
            "display": null,
            "flex": null,
            "flex_flow": null,
            "grid_area": null,
            "grid_auto_columns": null,
            "grid_auto_flow": null,
            "grid_auto_rows": null,
            "grid_column": null,
            "grid_gap": null,
            "grid_row": null,
            "grid_template_areas": null,
            "grid_template_columns": null,
            "grid_template_rows": null,
            "height": null,
            "justify_content": null,
            "justify_items": null,
            "left": null,
            "margin": null,
            "max_height": null,
            "max_width": null,
            "min_height": null,
            "min_width": null,
            "object_fit": null,
            "object_position": null,
            "order": null,
            "overflow": null,
            "overflow_x": null,
            "overflow_y": null,
            "padding": null,
            "right": null,
            "top": null,
            "visibility": null,
            "width": null
          }
        },
        "dfafc9c227b14368b38ee186f88891d8": {
          "model_module": "@jupyter-widgets/controls",
          "model_name": "DescriptionStyleModel",
          "model_module_version": "1.5.0",
          "state": {
            "_model_module": "@jupyter-widgets/controls",
            "_model_module_version": "1.5.0",
            "_model_name": "DescriptionStyleModel",
            "_view_count": null,
            "_view_module": "@jupyter-widgets/base",
            "_view_module_version": "1.2.0",
            "_view_name": "StyleView",
            "description_width": ""
          }
        },
        "50dc1bada6614cf98714159a30fbcc64": {
          "model_module": "@jupyter-widgets/controls",
          "model_name": "HBoxModel",
          "model_module_version": "1.5.0",
          "state": {
            "_dom_classes": [],
            "_model_module": "@jupyter-widgets/controls",
            "_model_module_version": "1.5.0",
            "_model_name": "HBoxModel",
            "_view_count": null,
            "_view_module": "@jupyter-widgets/controls",
            "_view_module_version": "1.5.0",
            "_view_name": "HBoxView",
            "box_style": "",
            "children": [
              "IPY_MODEL_2e8e25d2109646bd9131bb14191064a7",
              "IPY_MODEL_d68e95575198410ca6468250b57add81",
              "IPY_MODEL_e822e917382e4a41ac5fda75c59aac85"
            ],
            "layout": "IPY_MODEL_cd27c1208440455d99520a10a0a073f2"
          }
        },
        "2e8e25d2109646bd9131bb14191064a7": {
          "model_module": "@jupyter-widgets/controls",
          "model_name": "HTMLModel",
          "model_module_version": "1.5.0",
          "state": {
            "_dom_classes": [],
            "_model_module": "@jupyter-widgets/controls",
            "_model_module_version": "1.5.0",
            "_model_name": "HTMLModel",
            "_view_count": null,
            "_view_module": "@jupyter-widgets/controls",
            "_view_module_version": "1.5.0",
            "_view_name": "HTMLView",
            "description": "",
            "description_tooltip": null,
            "layout": "IPY_MODEL_5c438397721d4e25ac436dffc7e035d1",
            "placeholder": "​",
            "style": "IPY_MODEL_775e19c884b24d0eb22cba9e5796b7d5",
            "value": "Downloading pytorch_model.bin: 100%"
          }
        },
        "d68e95575198410ca6468250b57add81": {
          "model_module": "@jupyter-widgets/controls",
          "model_name": "FloatProgressModel",
          "model_module_version": "1.5.0",
          "state": {
            "_dom_classes": [],
            "_model_module": "@jupyter-widgets/controls",
            "_model_module_version": "1.5.0",
            "_model_name": "FloatProgressModel",
            "_view_count": null,
            "_view_module": "@jupyter-widgets/controls",
            "_view_module_version": "1.5.0",
            "_view_name": "ProgressView",
            "bar_style": "success",
            "description": "",
            "description_tooltip": null,
            "layout": "IPY_MODEL_2e46f1e310de41fbbe38e043120a499c",
            "max": 1112252397,
            "min": 0,
            "orientation": "horizontal",
            "style": "IPY_MODEL_dc08795d7d8048a0a9c0d01729d4c3de",
            "value": 1112252397
          }
        },
        "e822e917382e4a41ac5fda75c59aac85": {
          "model_module": "@jupyter-widgets/controls",
          "model_name": "HTMLModel",
          "model_module_version": "1.5.0",
          "state": {
            "_dom_classes": [],
            "_model_module": "@jupyter-widgets/controls",
            "_model_module_version": "1.5.0",
            "_model_name": "HTMLModel",
            "_view_count": null,
            "_view_module": "@jupyter-widgets/controls",
            "_view_module_version": "1.5.0",
            "_view_name": "HTMLView",
            "description": "",
            "description_tooltip": null,
            "layout": "IPY_MODEL_7dece8890b7e46f4b1f2dbd9e41309b2",
            "placeholder": "​",
            "style": "IPY_MODEL_c256303192824f1a8e65bbbdbc5994dc",
            "value": " 1.11G/1.11G [00:13&lt;00:00, 86.5MB/s]"
          }
        },
        "cd27c1208440455d99520a10a0a073f2": {
          "model_module": "@jupyter-widgets/base",
          "model_name": "LayoutModel",
          "model_module_version": "1.2.0",
          "state": {
            "_model_module": "@jupyter-widgets/base",
            "_model_module_version": "1.2.0",
            "_model_name": "LayoutModel",
            "_view_count": null,
            "_view_module": "@jupyter-widgets/base",
            "_view_module_version": "1.2.0",
            "_view_name": "LayoutView",
            "align_content": null,
            "align_items": null,
            "align_self": null,
            "border": null,
            "bottom": null,
            "display": null,
            "flex": null,
            "flex_flow": null,
            "grid_area": null,
            "grid_auto_columns": null,
            "grid_auto_flow": null,
            "grid_auto_rows": null,
            "grid_column": null,
            "grid_gap": null,
            "grid_row": null,
            "grid_template_areas": null,
            "grid_template_columns": null,
            "grid_template_rows": null,
            "height": null,
            "justify_content": null,
            "justify_items": null,
            "left": null,
            "margin": null,
            "max_height": null,
            "max_width": null,
            "min_height": null,
            "min_width": null,
            "object_fit": null,
            "object_position": null,
            "order": null,
            "overflow": null,
            "overflow_x": null,
            "overflow_y": null,
            "padding": null,
            "right": null,
            "top": null,
            "visibility": null,
            "width": null
          }
        },
        "5c438397721d4e25ac436dffc7e035d1": {
          "model_module": "@jupyter-widgets/base",
          "model_name": "LayoutModel",
          "model_module_version": "1.2.0",
          "state": {
            "_model_module": "@jupyter-widgets/base",
            "_model_module_version": "1.2.0",
            "_model_name": "LayoutModel",
            "_view_count": null,
            "_view_module": "@jupyter-widgets/base",
            "_view_module_version": "1.2.0",
            "_view_name": "LayoutView",
            "align_content": null,
            "align_items": null,
            "align_self": null,
            "border": null,
            "bottom": null,
            "display": null,
            "flex": null,
            "flex_flow": null,
            "grid_area": null,
            "grid_auto_columns": null,
            "grid_auto_flow": null,
            "grid_auto_rows": null,
            "grid_column": null,
            "grid_gap": null,
            "grid_row": null,
            "grid_template_areas": null,
            "grid_template_columns": null,
            "grid_template_rows": null,
            "height": null,
            "justify_content": null,
            "justify_items": null,
            "left": null,
            "margin": null,
            "max_height": null,
            "max_width": null,
            "min_height": null,
            "min_width": null,
            "object_fit": null,
            "object_position": null,
            "order": null,
            "overflow": null,
            "overflow_x": null,
            "overflow_y": null,
            "padding": null,
            "right": null,
            "top": null,
            "visibility": null,
            "width": null
          }
        },
        "775e19c884b24d0eb22cba9e5796b7d5": {
          "model_module": "@jupyter-widgets/controls",
          "model_name": "DescriptionStyleModel",
          "model_module_version": "1.5.0",
          "state": {
            "_model_module": "@jupyter-widgets/controls",
            "_model_module_version": "1.5.0",
            "_model_name": "DescriptionStyleModel",
            "_view_count": null,
            "_view_module": "@jupyter-widgets/base",
            "_view_module_version": "1.2.0",
            "_view_name": "StyleView",
            "description_width": ""
          }
        },
        "2e46f1e310de41fbbe38e043120a499c": {
          "model_module": "@jupyter-widgets/base",
          "model_name": "LayoutModel",
          "model_module_version": "1.2.0",
          "state": {
            "_model_module": "@jupyter-widgets/base",
            "_model_module_version": "1.2.0",
            "_model_name": "LayoutModel",
            "_view_count": null,
            "_view_module": "@jupyter-widgets/base",
            "_view_module_version": "1.2.0",
            "_view_name": "LayoutView",
            "align_content": null,
            "align_items": null,
            "align_self": null,
            "border": null,
            "bottom": null,
            "display": null,
            "flex": null,
            "flex_flow": null,
            "grid_area": null,
            "grid_auto_columns": null,
            "grid_auto_flow": null,
            "grid_auto_rows": null,
            "grid_column": null,
            "grid_gap": null,
            "grid_row": null,
            "grid_template_areas": null,
            "grid_template_columns": null,
            "grid_template_rows": null,
            "height": null,
            "justify_content": null,
            "justify_items": null,
            "left": null,
            "margin": null,
            "max_height": null,
            "max_width": null,
            "min_height": null,
            "min_width": null,
            "object_fit": null,
            "object_position": null,
            "order": null,
            "overflow": null,
            "overflow_x": null,
            "overflow_y": null,
            "padding": null,
            "right": null,
            "top": null,
            "visibility": null,
            "width": null
          }
        },
        "dc08795d7d8048a0a9c0d01729d4c3de": {
          "model_module": "@jupyter-widgets/controls",
          "model_name": "ProgressStyleModel",
          "model_module_version": "1.5.0",
          "state": {
            "_model_module": "@jupyter-widgets/controls",
            "_model_module_version": "1.5.0",
            "_model_name": "ProgressStyleModel",
            "_view_count": null,
            "_view_module": "@jupyter-widgets/base",
            "_view_module_version": "1.2.0",
            "_view_name": "StyleView",
            "bar_color": null,
            "description_width": ""
          }
        },
        "7dece8890b7e46f4b1f2dbd9e41309b2": {
          "model_module": "@jupyter-widgets/base",
          "model_name": "LayoutModel",
          "model_module_version": "1.2.0",
          "state": {
            "_model_module": "@jupyter-widgets/base",
            "_model_module_version": "1.2.0",
            "_model_name": "LayoutModel",
            "_view_count": null,
            "_view_module": "@jupyter-widgets/base",
            "_view_module_version": "1.2.0",
            "_view_name": "LayoutView",
            "align_content": null,
            "align_items": null,
            "align_self": null,
            "border": null,
            "bottom": null,
            "display": null,
            "flex": null,
            "flex_flow": null,
            "grid_area": null,
            "grid_auto_columns": null,
            "grid_auto_flow": null,
            "grid_auto_rows": null,
            "grid_column": null,
            "grid_gap": null,
            "grid_row": null,
            "grid_template_areas": null,
            "grid_template_columns": null,
            "grid_template_rows": null,
            "height": null,
            "justify_content": null,
            "justify_items": null,
            "left": null,
            "margin": null,
            "max_height": null,
            "max_width": null,
            "min_height": null,
            "min_width": null,
            "object_fit": null,
            "object_position": null,
            "order": null,
            "overflow": null,
            "overflow_x": null,
            "overflow_y": null,
            "padding": null,
            "right": null,
            "top": null,
            "visibility": null,
            "width": null
          }
        },
        "c256303192824f1a8e65bbbdbc5994dc": {
          "model_module": "@jupyter-widgets/controls",
          "model_name": "DescriptionStyleModel",
          "model_module_version": "1.5.0",
          "state": {
            "_model_module": "@jupyter-widgets/controls",
            "_model_module_version": "1.5.0",
            "_model_name": "DescriptionStyleModel",
            "_view_count": null,
            "_view_module": "@jupyter-widgets/base",
            "_view_module_version": "1.2.0",
            "_view_name": "StyleView",
            "description_width": ""
          }
        },
        "e6812a1ba36b40e38f1f2c3bf9c742ef": {
          "model_module": "@jupyter-widgets/controls",
          "model_name": "HBoxModel",
          "model_module_version": "1.5.0",
          "state": {
            "_dom_classes": [],
            "_model_module": "@jupyter-widgets/controls",
            "_model_module_version": "1.5.0",
            "_model_name": "HBoxModel",
            "_view_count": null,
            "_view_module": "@jupyter-widgets/controls",
            "_view_module_version": "1.5.0",
            "_view_name": "HBoxView",
            "box_style": "",
            "children": [
              "IPY_MODEL_0a6ed8befc5542c5869c6461dab12e37",
              "IPY_MODEL_c51d084760594e14ae323ea54a4c7563",
              "IPY_MODEL_da23feaa23a747fea4bbe4436b9d3ac4"
            ],
            "layout": "IPY_MODEL_6a14990c48ee4833bc1b5a91ed3e0f80"
          }
        },
        "0a6ed8befc5542c5869c6461dab12e37": {
          "model_module": "@jupyter-widgets/controls",
          "model_name": "HTMLModel",
          "model_module_version": "1.5.0",
          "state": {
            "_dom_classes": [],
            "_model_module": "@jupyter-widgets/controls",
            "_model_module_version": "1.5.0",
            "_model_name": "HTMLModel",
            "_view_count": null,
            "_view_module": "@jupyter-widgets/controls",
            "_view_module_version": "1.5.0",
            "_view_name": "HTMLView",
            "description": "",
            "description_tooltip": null,
            "layout": "IPY_MODEL_21c9b6adb79d4a07bb448bc535dfbac7",
            "placeholder": "​",
            "style": "IPY_MODEL_e65609e5e1674fc699f54dbbda3ca186",
            "value": "Downloading (…)lve/main/config.json: 100%"
          }
        },
        "c51d084760594e14ae323ea54a4c7563": {
          "model_module": "@jupyter-widgets/controls",
          "model_name": "FloatProgressModel",
          "model_module_version": "1.5.0",
          "state": {
            "_dom_classes": [],
            "_model_module": "@jupyter-widgets/controls",
            "_model_module_version": "1.5.0",
            "_model_name": "FloatProgressModel",
            "_view_count": null,
            "_view_module": "@jupyter-widgets/controls",
            "_view_module_version": "1.5.0",
            "_view_name": "ProgressView",
            "bar_style": "success",
            "description": "",
            "description_tooltip": null,
            "layout": "IPY_MODEL_be01ae690189434b8b03857c2949c76c",
            "max": 1215,
            "min": 0,
            "orientation": "horizontal",
            "style": "IPY_MODEL_4e84eefae6ec4ed58df751b117003165",
            "value": 1215
          }
        },
        "da23feaa23a747fea4bbe4436b9d3ac4": {
          "model_module": "@jupyter-widgets/controls",
          "model_name": "HTMLModel",
          "model_module_version": "1.5.0",
          "state": {
            "_dom_classes": [],
            "_model_module": "@jupyter-widgets/controls",
            "_model_module_version": "1.5.0",
            "_model_name": "HTMLModel",
            "_view_count": null,
            "_view_module": "@jupyter-widgets/controls",
            "_view_module_version": "1.5.0",
            "_view_name": "HTMLView",
            "description": "",
            "description_tooltip": null,
            "layout": "IPY_MODEL_20936129a71f49da9d455664af00da9c",
            "placeholder": "​",
            "style": "IPY_MODEL_7fb4aaf285f74628bb641545e129a179",
            "value": " 1.22k/1.22k [00:00&lt;00:00, 49.7kB/s]"
          }
        },
        "6a14990c48ee4833bc1b5a91ed3e0f80": {
          "model_module": "@jupyter-widgets/base",
          "model_name": "LayoutModel",
          "model_module_version": "1.2.0",
          "state": {
            "_model_module": "@jupyter-widgets/base",
            "_model_module_version": "1.2.0",
            "_model_name": "LayoutModel",
            "_view_count": null,
            "_view_module": "@jupyter-widgets/base",
            "_view_module_version": "1.2.0",
            "_view_name": "LayoutView",
            "align_content": null,
            "align_items": null,
            "align_self": null,
            "border": null,
            "bottom": null,
            "display": null,
            "flex": null,
            "flex_flow": null,
            "grid_area": null,
            "grid_auto_columns": null,
            "grid_auto_flow": null,
            "grid_auto_rows": null,
            "grid_column": null,
            "grid_gap": null,
            "grid_row": null,
            "grid_template_areas": null,
            "grid_template_columns": null,
            "grid_template_rows": null,
            "height": null,
            "justify_content": null,
            "justify_items": null,
            "left": null,
            "margin": null,
            "max_height": null,
            "max_width": null,
            "min_height": null,
            "min_width": null,
            "object_fit": null,
            "object_position": null,
            "order": null,
            "overflow": null,
            "overflow_x": null,
            "overflow_y": null,
            "padding": null,
            "right": null,
            "top": null,
            "visibility": null,
            "width": null
          }
        },
        "21c9b6adb79d4a07bb448bc535dfbac7": {
          "model_module": "@jupyter-widgets/base",
          "model_name": "LayoutModel",
          "model_module_version": "1.2.0",
          "state": {
            "_model_module": "@jupyter-widgets/base",
            "_model_module_version": "1.2.0",
            "_model_name": "LayoutModel",
            "_view_count": null,
            "_view_module": "@jupyter-widgets/base",
            "_view_module_version": "1.2.0",
            "_view_name": "LayoutView",
            "align_content": null,
            "align_items": null,
            "align_self": null,
            "border": null,
            "bottom": null,
            "display": null,
            "flex": null,
            "flex_flow": null,
            "grid_area": null,
            "grid_auto_columns": null,
            "grid_auto_flow": null,
            "grid_auto_rows": null,
            "grid_column": null,
            "grid_gap": null,
            "grid_row": null,
            "grid_template_areas": null,
            "grid_template_columns": null,
            "grid_template_rows": null,
            "height": null,
            "justify_content": null,
            "justify_items": null,
            "left": null,
            "margin": null,
            "max_height": null,
            "max_width": null,
            "min_height": null,
            "min_width": null,
            "object_fit": null,
            "object_position": null,
            "order": null,
            "overflow": null,
            "overflow_x": null,
            "overflow_y": null,
            "padding": null,
            "right": null,
            "top": null,
            "visibility": null,
            "width": null
          }
        },
        "e65609e5e1674fc699f54dbbda3ca186": {
          "model_module": "@jupyter-widgets/controls",
          "model_name": "DescriptionStyleModel",
          "model_module_version": "1.5.0",
          "state": {
            "_model_module": "@jupyter-widgets/controls",
            "_model_module_version": "1.5.0",
            "_model_name": "DescriptionStyleModel",
            "_view_count": null,
            "_view_module": "@jupyter-widgets/base",
            "_view_module_version": "1.2.0",
            "_view_name": "StyleView",
            "description_width": ""
          }
        },
        "be01ae690189434b8b03857c2949c76c": {
          "model_module": "@jupyter-widgets/base",
          "model_name": "LayoutModel",
          "model_module_version": "1.2.0",
          "state": {
            "_model_module": "@jupyter-widgets/base",
            "_model_module_version": "1.2.0",
            "_model_name": "LayoutModel",
            "_view_count": null,
            "_view_module": "@jupyter-widgets/base",
            "_view_module_version": "1.2.0",
            "_view_name": "LayoutView",
            "align_content": null,
            "align_items": null,
            "align_self": null,
            "border": null,
            "bottom": null,
            "display": null,
            "flex": null,
            "flex_flow": null,
            "grid_area": null,
            "grid_auto_columns": null,
            "grid_auto_flow": null,
            "grid_auto_rows": null,
            "grid_column": null,
            "grid_gap": null,
            "grid_row": null,
            "grid_template_areas": null,
            "grid_template_columns": null,
            "grid_template_rows": null,
            "height": null,
            "justify_content": null,
            "justify_items": null,
            "left": null,
            "margin": null,
            "max_height": null,
            "max_width": null,
            "min_height": null,
            "min_width": null,
            "object_fit": null,
            "object_position": null,
            "order": null,
            "overflow": null,
            "overflow_x": null,
            "overflow_y": null,
            "padding": null,
            "right": null,
            "top": null,
            "visibility": null,
            "width": null
          }
        },
        "4e84eefae6ec4ed58df751b117003165": {
          "model_module": "@jupyter-widgets/controls",
          "model_name": "ProgressStyleModel",
          "model_module_version": "1.5.0",
          "state": {
            "_model_module": "@jupyter-widgets/controls",
            "_model_module_version": "1.5.0",
            "_model_name": "ProgressStyleModel",
            "_view_count": null,
            "_view_module": "@jupyter-widgets/base",
            "_view_module_version": "1.2.0",
            "_view_name": "StyleView",
            "bar_color": null,
            "description_width": ""
          }
        },
        "20936129a71f49da9d455664af00da9c": {
          "model_module": "@jupyter-widgets/base",
          "model_name": "LayoutModel",
          "model_module_version": "1.2.0",
          "state": {
            "_model_module": "@jupyter-widgets/base",
            "_model_module_version": "1.2.0",
            "_model_name": "LayoutModel",
            "_view_count": null,
            "_view_module": "@jupyter-widgets/base",
            "_view_module_version": "1.2.0",
            "_view_name": "LayoutView",
            "align_content": null,
            "align_items": null,
            "align_self": null,
            "border": null,
            "bottom": null,
            "display": null,
            "flex": null,
            "flex_flow": null,
            "grid_area": null,
            "grid_auto_columns": null,
            "grid_auto_flow": null,
            "grid_auto_rows": null,
            "grid_column": null,
            "grid_gap": null,
            "grid_row": null,
            "grid_template_areas": null,
            "grid_template_columns": null,
            "grid_template_rows": null,
            "height": null,
            "justify_content": null,
            "justify_items": null,
            "left": null,
            "margin": null,
            "max_height": null,
            "max_width": null,
            "min_height": null,
            "min_width": null,
            "object_fit": null,
            "object_position": null,
            "order": null,
            "overflow": null,
            "overflow_x": null,
            "overflow_y": null,
            "padding": null,
            "right": null,
            "top": null,
            "visibility": null,
            "width": null
          }
        },
        "7fb4aaf285f74628bb641545e129a179": {
          "model_module": "@jupyter-widgets/controls",
          "model_name": "DescriptionStyleModel",
          "model_module_version": "1.5.0",
          "state": {
            "_model_module": "@jupyter-widgets/controls",
            "_model_module_version": "1.5.0",
            "_model_name": "DescriptionStyleModel",
            "_view_count": null,
            "_view_module": "@jupyter-widgets/base",
            "_view_module_version": "1.2.0",
            "_view_name": "StyleView",
            "description_width": ""
          }
        },
        "1948ecc486494fe2b1d7ef9b3a64a94e": {
          "model_module": "@jupyter-widgets/controls",
          "model_name": "HBoxModel",
          "model_module_version": "1.5.0",
          "state": {
            "_dom_classes": [],
            "_model_module": "@jupyter-widgets/controls",
            "_model_module_version": "1.5.0",
            "_model_name": "HBoxModel",
            "_view_count": null,
            "_view_module": "@jupyter-widgets/controls",
            "_view_module_version": "1.5.0",
            "_view_name": "HBoxView",
            "box_style": "",
            "children": [
              "IPY_MODEL_43d958d3ce4d4807ad578092e5e5a6f2",
              "IPY_MODEL_47299946ee0f4908878969f66c4af1a4",
              "IPY_MODEL_a3d242cc718d40509c4b0b26b145ecf8"
            ],
            "layout": "IPY_MODEL_ca5d2c53cabf44b9806c8d449fffd60e"
          }
        },
        "43d958d3ce4d4807ad578092e5e5a6f2": {
          "model_module": "@jupyter-widgets/controls",
          "model_name": "HTMLModel",
          "model_module_version": "1.5.0",
          "state": {
            "_dom_classes": [],
            "_model_module": "@jupyter-widgets/controls",
            "_model_module_version": "1.5.0",
            "_model_name": "HTMLModel",
            "_view_count": null,
            "_view_module": "@jupyter-widgets/controls",
            "_view_module_version": "1.5.0",
            "_view_name": "HTMLView",
            "description": "",
            "description_tooltip": null,
            "layout": "IPY_MODEL_8ebfacc737ce48b7b18eea5052f2c7ee",
            "placeholder": "​",
            "style": "IPY_MODEL_484ec66337de4274ab932e947fd89fbf",
            "value": "Downloading model.safetensors: 100%"
          }
        },
        "47299946ee0f4908878969f66c4af1a4": {
          "model_module": "@jupyter-widgets/controls",
          "model_name": "FloatProgressModel",
          "model_module_version": "1.5.0",
          "state": {
            "_dom_classes": [],
            "_model_module": "@jupyter-widgets/controls",
            "_model_module_version": "1.5.0",
            "_model_name": "FloatProgressModel",
            "_view_count": null,
            "_view_module": "@jupyter-widgets/controls",
            "_view_module_version": "1.5.0",
            "_view_name": "ProgressView",
            "bar_style": "success",
            "description": "",
            "description_tooltip": null,
            "layout": "IPY_MODEL_7cd3e75456944fb3914257dcb7da1c68",
            "max": 714284364,
            "min": 0,
            "orientation": "horizontal",
            "style": "IPY_MODEL_f9c2b70f596349a7afd549427c1f7292",
            "value": 714284364
          }
        },
        "a3d242cc718d40509c4b0b26b145ecf8": {
          "model_module": "@jupyter-widgets/controls",
          "model_name": "HTMLModel",
          "model_module_version": "1.5.0",
          "state": {
            "_dom_classes": [],
            "_model_module": "@jupyter-widgets/controls",
            "_model_module_version": "1.5.0",
            "_model_name": "HTMLModel",
            "_view_count": null,
            "_view_module": "@jupyter-widgets/controls",
            "_view_module_version": "1.5.0",
            "_view_name": "HTMLView",
            "description": "",
            "description_tooltip": null,
            "layout": "IPY_MODEL_db2a9884c9ba42bc93e0615413c305fb",
            "placeholder": "​",
            "style": "IPY_MODEL_7bc0955d1cba4b7383c8de3beaf5099e",
            "value": " 714M/714M [00:13&lt;00:00, 67.2MB/s]"
          }
        },
        "ca5d2c53cabf44b9806c8d449fffd60e": {
          "model_module": "@jupyter-widgets/base",
          "model_name": "LayoutModel",
          "model_module_version": "1.2.0",
          "state": {
            "_model_module": "@jupyter-widgets/base",
            "_model_module_version": "1.2.0",
            "_model_name": "LayoutModel",
            "_view_count": null,
            "_view_module": "@jupyter-widgets/base",
            "_view_module_version": "1.2.0",
            "_view_name": "LayoutView",
            "align_content": null,
            "align_items": null,
            "align_self": null,
            "border": null,
            "bottom": null,
            "display": null,
            "flex": null,
            "flex_flow": null,
            "grid_area": null,
            "grid_auto_columns": null,
            "grid_auto_flow": null,
            "grid_auto_rows": null,
            "grid_column": null,
            "grid_gap": null,
            "grid_row": null,
            "grid_template_areas": null,
            "grid_template_columns": null,
            "grid_template_rows": null,
            "height": null,
            "justify_content": null,
            "justify_items": null,
            "left": null,
            "margin": null,
            "max_height": null,
            "max_width": null,
            "min_height": null,
            "min_width": null,
            "object_fit": null,
            "object_position": null,
            "order": null,
            "overflow": null,
            "overflow_x": null,
            "overflow_y": null,
            "padding": null,
            "right": null,
            "top": null,
            "visibility": null,
            "width": null
          }
        },
        "8ebfacc737ce48b7b18eea5052f2c7ee": {
          "model_module": "@jupyter-widgets/base",
          "model_name": "LayoutModel",
          "model_module_version": "1.2.0",
          "state": {
            "_model_module": "@jupyter-widgets/base",
            "_model_module_version": "1.2.0",
            "_model_name": "LayoutModel",
            "_view_count": null,
            "_view_module": "@jupyter-widgets/base",
            "_view_module_version": "1.2.0",
            "_view_name": "LayoutView",
            "align_content": null,
            "align_items": null,
            "align_self": null,
            "border": null,
            "bottom": null,
            "display": null,
            "flex": null,
            "flex_flow": null,
            "grid_area": null,
            "grid_auto_columns": null,
            "grid_auto_flow": null,
            "grid_auto_rows": null,
            "grid_column": null,
            "grid_gap": null,
            "grid_row": null,
            "grid_template_areas": null,
            "grid_template_columns": null,
            "grid_template_rows": null,
            "height": null,
            "justify_content": null,
            "justify_items": null,
            "left": null,
            "margin": null,
            "max_height": null,
            "max_width": null,
            "min_height": null,
            "min_width": null,
            "object_fit": null,
            "object_position": null,
            "order": null,
            "overflow": null,
            "overflow_x": null,
            "overflow_y": null,
            "padding": null,
            "right": null,
            "top": null,
            "visibility": null,
            "width": null
          }
        },
        "484ec66337de4274ab932e947fd89fbf": {
          "model_module": "@jupyter-widgets/controls",
          "model_name": "DescriptionStyleModel",
          "model_module_version": "1.5.0",
          "state": {
            "_model_module": "@jupyter-widgets/controls",
            "_model_module_version": "1.5.0",
            "_model_name": "DescriptionStyleModel",
            "_view_count": null,
            "_view_module": "@jupyter-widgets/base",
            "_view_module_version": "1.2.0",
            "_view_name": "StyleView",
            "description_width": ""
          }
        },
        "7cd3e75456944fb3914257dcb7da1c68": {
          "model_module": "@jupyter-widgets/base",
          "model_name": "LayoutModel",
          "model_module_version": "1.2.0",
          "state": {
            "_model_module": "@jupyter-widgets/base",
            "_model_module_version": "1.2.0",
            "_model_name": "LayoutModel",
            "_view_count": null,
            "_view_module": "@jupyter-widgets/base",
            "_view_module_version": "1.2.0",
            "_view_name": "LayoutView",
            "align_content": null,
            "align_items": null,
            "align_self": null,
            "border": null,
            "bottom": null,
            "display": null,
            "flex": null,
            "flex_flow": null,
            "grid_area": null,
            "grid_auto_columns": null,
            "grid_auto_flow": null,
            "grid_auto_rows": null,
            "grid_column": null,
            "grid_gap": null,
            "grid_row": null,
            "grid_template_areas": null,
            "grid_template_columns": null,
            "grid_template_rows": null,
            "height": null,
            "justify_content": null,
            "justify_items": null,
            "left": null,
            "margin": null,
            "max_height": null,
            "max_width": null,
            "min_height": null,
            "min_width": null,
            "object_fit": null,
            "object_position": null,
            "order": null,
            "overflow": null,
            "overflow_x": null,
            "overflow_y": null,
            "padding": null,
            "right": null,
            "top": null,
            "visibility": null,
            "width": null
          }
        },
        "f9c2b70f596349a7afd549427c1f7292": {
          "model_module": "@jupyter-widgets/controls",
          "model_name": "ProgressStyleModel",
          "model_module_version": "1.5.0",
          "state": {
            "_model_module": "@jupyter-widgets/controls",
            "_model_module_version": "1.5.0",
            "_model_name": "ProgressStyleModel",
            "_view_count": null,
            "_view_module": "@jupyter-widgets/base",
            "_view_module_version": "1.2.0",
            "_view_name": "StyleView",
            "bar_color": null,
            "description_width": ""
          }
        },
        "db2a9884c9ba42bc93e0615413c305fb": {
          "model_module": "@jupyter-widgets/base",
          "model_name": "LayoutModel",
          "model_module_version": "1.2.0",
          "state": {
            "_model_module": "@jupyter-widgets/base",
            "_model_module_version": "1.2.0",
            "_model_name": "LayoutModel",
            "_view_count": null,
            "_view_module": "@jupyter-widgets/base",
            "_view_module_version": "1.2.0",
            "_view_name": "LayoutView",
            "align_content": null,
            "align_items": null,
            "align_self": null,
            "border": null,
            "bottom": null,
            "display": null,
            "flex": null,
            "flex_flow": null,
            "grid_area": null,
            "grid_auto_columns": null,
            "grid_auto_flow": null,
            "grid_auto_rows": null,
            "grid_column": null,
            "grid_gap": null,
            "grid_row": null,
            "grid_template_areas": null,
            "grid_template_columns": null,
            "grid_template_rows": null,
            "height": null,
            "justify_content": null,
            "justify_items": null,
            "left": null,
            "margin": null,
            "max_height": null,
            "max_width": null,
            "min_height": null,
            "min_width": null,
            "object_fit": null,
            "object_position": null,
            "order": null,
            "overflow": null,
            "overflow_x": null,
            "overflow_y": null,
            "padding": null,
            "right": null,
            "top": null,
            "visibility": null,
            "width": null
          }
        },
        "7bc0955d1cba4b7383c8de3beaf5099e": {
          "model_module": "@jupyter-widgets/controls",
          "model_name": "DescriptionStyleModel",
          "model_module_version": "1.5.0",
          "state": {
            "_model_module": "@jupyter-widgets/controls",
            "_model_module_version": "1.5.0",
            "_model_name": "DescriptionStyleModel",
            "_view_count": null,
            "_view_module": "@jupyter-widgets/base",
            "_view_module_version": "1.2.0",
            "_view_name": "StyleView",
            "description_width": ""
          }
        },
        "307f17f68efb4977a33c4b768dc14a18": {
          "model_module": "@jupyter-widgets/controls",
          "model_name": "HBoxModel",
          "model_module_version": "1.5.0",
          "state": {
            "_dom_classes": [],
            "_model_module": "@jupyter-widgets/controls",
            "_model_module_version": "1.5.0",
            "_model_name": "HBoxModel",
            "_view_count": null,
            "_view_module": "@jupyter-widgets/controls",
            "_view_module_version": "1.5.0",
            "_view_name": "HBoxView",
            "box_style": "",
            "children": [
              "IPY_MODEL_a8a8018661b44f97993b35d0687e6e4d",
              "IPY_MODEL_1031109b2edc415d90fecfea4d55dc9e",
              "IPY_MODEL_c33774e8c44d49609805359d37800e44"
            ],
            "layout": "IPY_MODEL_dfeeafc9306744d7bd829e41272aed3a"
          }
        },
        "a8a8018661b44f97993b35d0687e6e4d": {
          "model_module": "@jupyter-widgets/controls",
          "model_name": "HTMLModel",
          "model_module_version": "1.5.0",
          "state": {
            "_dom_classes": [],
            "_model_module": "@jupyter-widgets/controls",
            "_model_module_version": "1.5.0",
            "_model_name": "HTMLModel",
            "_view_count": null,
            "_view_module": "@jupyter-widgets/controls",
            "_view_module_version": "1.5.0",
            "_view_name": "HTMLView",
            "description": "",
            "description_tooltip": null,
            "layout": "IPY_MODEL_cd8434b0978041fbb7d3ab73b1347a05",
            "placeholder": "​",
            "style": "IPY_MODEL_388d9853094a45f09553693ca6b15ea7",
            "value": "Downloading (…)okenizer_config.json: 100%"
          }
        },
        "1031109b2edc415d90fecfea4d55dc9e": {
          "model_module": "@jupyter-widgets/controls",
          "model_name": "FloatProgressModel",
          "model_module_version": "1.5.0",
          "state": {
            "_dom_classes": [],
            "_model_module": "@jupyter-widgets/controls",
            "_model_module_version": "1.5.0",
            "_model_name": "FloatProgressModel",
            "_view_count": null,
            "_view_module": "@jupyter-widgets/controls",
            "_view_module_version": "1.5.0",
            "_view_name": "ProgressView",
            "bar_style": "success",
            "description": "",
            "description_tooltip": null,
            "layout": "IPY_MODEL_0da92f710def48b689b051b46f476e95",
            "max": 152,
            "min": 0,
            "orientation": "horizontal",
            "style": "IPY_MODEL_7e4bbcaf1bc64a46af061e9c2ac17b74",
            "value": 152
          }
        },
        "c33774e8c44d49609805359d37800e44": {
          "model_module": "@jupyter-widgets/controls",
          "model_name": "HTMLModel",
          "model_module_version": "1.5.0",
          "state": {
            "_dom_classes": [],
            "_model_module": "@jupyter-widgets/controls",
            "_model_module_version": "1.5.0",
            "_model_name": "HTMLModel",
            "_view_count": null,
            "_view_module": "@jupyter-widgets/controls",
            "_view_module_version": "1.5.0",
            "_view_name": "HTMLView",
            "description": "",
            "description_tooltip": null,
            "layout": "IPY_MODEL_68e2161077d745bcb5aa135f857e4c8e",
            "placeholder": "​",
            "style": "IPY_MODEL_5811e30f79ea43bf890687ea1ac80c3f",
            "value": " 152/152 [00:00&lt;00:00, 8.87kB/s]"
          }
        },
        "dfeeafc9306744d7bd829e41272aed3a": {
          "model_module": "@jupyter-widgets/base",
          "model_name": "LayoutModel",
          "model_module_version": "1.2.0",
          "state": {
            "_model_module": "@jupyter-widgets/base",
            "_model_module_version": "1.2.0",
            "_model_name": "LayoutModel",
            "_view_count": null,
            "_view_module": "@jupyter-widgets/base",
            "_view_module_version": "1.2.0",
            "_view_name": "LayoutView",
            "align_content": null,
            "align_items": null,
            "align_self": null,
            "border": null,
            "bottom": null,
            "display": null,
            "flex": null,
            "flex_flow": null,
            "grid_area": null,
            "grid_auto_columns": null,
            "grid_auto_flow": null,
            "grid_auto_rows": null,
            "grid_column": null,
            "grid_gap": null,
            "grid_row": null,
            "grid_template_areas": null,
            "grid_template_columns": null,
            "grid_template_rows": null,
            "height": null,
            "justify_content": null,
            "justify_items": null,
            "left": null,
            "margin": null,
            "max_height": null,
            "max_width": null,
            "min_height": null,
            "min_width": null,
            "object_fit": null,
            "object_position": null,
            "order": null,
            "overflow": null,
            "overflow_x": null,
            "overflow_y": null,
            "padding": null,
            "right": null,
            "top": null,
            "visibility": null,
            "width": null
          }
        },
        "cd8434b0978041fbb7d3ab73b1347a05": {
          "model_module": "@jupyter-widgets/base",
          "model_name": "LayoutModel",
          "model_module_version": "1.2.0",
          "state": {
            "_model_module": "@jupyter-widgets/base",
            "_model_module_version": "1.2.0",
            "_model_name": "LayoutModel",
            "_view_count": null,
            "_view_module": "@jupyter-widgets/base",
            "_view_module_version": "1.2.0",
            "_view_name": "LayoutView",
            "align_content": null,
            "align_items": null,
            "align_self": null,
            "border": null,
            "bottom": null,
            "display": null,
            "flex": null,
            "flex_flow": null,
            "grid_area": null,
            "grid_auto_columns": null,
            "grid_auto_flow": null,
            "grid_auto_rows": null,
            "grid_column": null,
            "grid_gap": null,
            "grid_row": null,
            "grid_template_areas": null,
            "grid_template_columns": null,
            "grid_template_rows": null,
            "height": null,
            "justify_content": null,
            "justify_items": null,
            "left": null,
            "margin": null,
            "max_height": null,
            "max_width": null,
            "min_height": null,
            "min_width": null,
            "object_fit": null,
            "object_position": null,
            "order": null,
            "overflow": null,
            "overflow_x": null,
            "overflow_y": null,
            "padding": null,
            "right": null,
            "top": null,
            "visibility": null,
            "width": null
          }
        },
        "388d9853094a45f09553693ca6b15ea7": {
          "model_module": "@jupyter-widgets/controls",
          "model_name": "DescriptionStyleModel",
          "model_module_version": "1.5.0",
          "state": {
            "_model_module": "@jupyter-widgets/controls",
            "_model_module_version": "1.5.0",
            "_model_name": "DescriptionStyleModel",
            "_view_count": null,
            "_view_module": "@jupyter-widgets/base",
            "_view_module_version": "1.2.0",
            "_view_name": "StyleView",
            "description_width": ""
          }
        },
        "0da92f710def48b689b051b46f476e95": {
          "model_module": "@jupyter-widgets/base",
          "model_name": "LayoutModel",
          "model_module_version": "1.2.0",
          "state": {
            "_model_module": "@jupyter-widgets/base",
            "_model_module_version": "1.2.0",
            "_model_name": "LayoutModel",
            "_view_count": null,
            "_view_module": "@jupyter-widgets/base",
            "_view_module_version": "1.2.0",
            "_view_name": "LayoutView",
            "align_content": null,
            "align_items": null,
            "align_self": null,
            "border": null,
            "bottom": null,
            "display": null,
            "flex": null,
            "flex_flow": null,
            "grid_area": null,
            "grid_auto_columns": null,
            "grid_auto_flow": null,
            "grid_auto_rows": null,
            "grid_column": null,
            "grid_gap": null,
            "grid_row": null,
            "grid_template_areas": null,
            "grid_template_columns": null,
            "grid_template_rows": null,
            "height": null,
            "justify_content": null,
            "justify_items": null,
            "left": null,
            "margin": null,
            "max_height": null,
            "max_width": null,
            "min_height": null,
            "min_width": null,
            "object_fit": null,
            "object_position": null,
            "order": null,
            "overflow": null,
            "overflow_x": null,
            "overflow_y": null,
            "padding": null,
            "right": null,
            "top": null,
            "visibility": null,
            "width": null
          }
        },
        "7e4bbcaf1bc64a46af061e9c2ac17b74": {
          "model_module": "@jupyter-widgets/controls",
          "model_name": "ProgressStyleModel",
          "model_module_version": "1.5.0",
          "state": {
            "_model_module": "@jupyter-widgets/controls",
            "_model_module_version": "1.5.0",
            "_model_name": "ProgressStyleModel",
            "_view_count": null,
            "_view_module": "@jupyter-widgets/base",
            "_view_module_version": "1.2.0",
            "_view_name": "StyleView",
            "bar_color": null,
            "description_width": ""
          }
        },
        "68e2161077d745bcb5aa135f857e4c8e": {
          "model_module": "@jupyter-widgets/base",
          "model_name": "LayoutModel",
          "model_module_version": "1.2.0",
          "state": {
            "_model_module": "@jupyter-widgets/base",
            "_model_module_version": "1.2.0",
            "_model_name": "LayoutModel",
            "_view_count": null,
            "_view_module": "@jupyter-widgets/base",
            "_view_module_version": "1.2.0",
            "_view_name": "LayoutView",
            "align_content": null,
            "align_items": null,
            "align_self": null,
            "border": null,
            "bottom": null,
            "display": null,
            "flex": null,
            "flex_flow": null,
            "grid_area": null,
            "grid_auto_columns": null,
            "grid_auto_flow": null,
            "grid_auto_rows": null,
            "grid_column": null,
            "grid_gap": null,
            "grid_row": null,
            "grid_template_areas": null,
            "grid_template_columns": null,
            "grid_template_rows": null,
            "height": null,
            "justify_content": null,
            "justify_items": null,
            "left": null,
            "margin": null,
            "max_height": null,
            "max_width": null,
            "min_height": null,
            "min_width": null,
            "object_fit": null,
            "object_position": null,
            "order": null,
            "overflow": null,
            "overflow_x": null,
            "overflow_y": null,
            "padding": null,
            "right": null,
            "top": null,
            "visibility": null,
            "width": null
          }
        },
        "5811e30f79ea43bf890687ea1ac80c3f": {
          "model_module": "@jupyter-widgets/controls",
          "model_name": "DescriptionStyleModel",
          "model_module_version": "1.5.0",
          "state": {
            "_model_module": "@jupyter-widgets/controls",
            "_model_module_version": "1.5.0",
            "_model_name": "DescriptionStyleModel",
            "_view_count": null,
            "_view_module": "@jupyter-widgets/base",
            "_view_module_version": "1.2.0",
            "_view_name": "StyleView",
            "description_width": ""
          }
        },
        "b2f056894b064cac8c58db52ff020bb1": {
          "model_module": "@jupyter-widgets/controls",
          "model_name": "HBoxModel",
          "model_module_version": "1.5.0",
          "state": {
            "_dom_classes": [],
            "_model_module": "@jupyter-widgets/controls",
            "_model_module_version": "1.5.0",
            "_model_name": "HBoxModel",
            "_view_count": null,
            "_view_module": "@jupyter-widgets/controls",
            "_view_module_version": "1.5.0",
            "_view_name": "HBoxView",
            "box_style": "",
            "children": [
              "IPY_MODEL_3a2a10011fa34ed4883c02900ca4cd0b",
              "IPY_MODEL_1e63c7aac83d46eaba8c27e6f73c1b1a",
              "IPY_MODEL_efd3a4527e3143b089bcebba6c57685c"
            ],
            "layout": "IPY_MODEL_5765e0e390844739b47137d2b5a335b7"
          }
        },
        "3a2a10011fa34ed4883c02900ca4cd0b": {
          "model_module": "@jupyter-widgets/controls",
          "model_name": "HTMLModel",
          "model_module_version": "1.5.0",
          "state": {
            "_dom_classes": [],
            "_model_module": "@jupyter-widgets/controls",
            "_model_module_version": "1.5.0",
            "_model_name": "HTMLModel",
            "_view_count": null,
            "_view_module": "@jupyter-widgets/controls",
            "_view_module_version": "1.5.0",
            "_view_name": "HTMLView",
            "description": "",
            "description_tooltip": null,
            "layout": "IPY_MODEL_5edc935114354ef7b813b126dd569b6f",
            "placeholder": "​",
            "style": "IPY_MODEL_f7d20d3a328d4a6f893d9e21ae3897d4",
            "value": "Downloading (…)solve/main/vocab.txt: 100%"
          }
        },
        "1e63c7aac83d46eaba8c27e6f73c1b1a": {
          "model_module": "@jupyter-widgets/controls",
          "model_name": "FloatProgressModel",
          "model_module_version": "1.5.0",
          "state": {
            "_dom_classes": [],
            "_model_module": "@jupyter-widgets/controls",
            "_model_module_version": "1.5.0",
            "_model_name": "FloatProgressModel",
            "_view_count": null,
            "_view_module": "@jupyter-widgets/controls",
            "_view_module_version": "1.5.0",
            "_view_name": "ProgressView",
            "bar_style": "success",
            "description": "",
            "description_tooltip": null,
            "layout": "IPY_MODEL_d0a1edeb20e84f1a95abe18cff50fcf2",
            "max": 995526,
            "min": 0,
            "orientation": "horizontal",
            "style": "IPY_MODEL_46ada55d62d44a07af718699aa231939",
            "value": 995526
          }
        },
        "efd3a4527e3143b089bcebba6c57685c": {
          "model_module": "@jupyter-widgets/controls",
          "model_name": "HTMLModel",
          "model_module_version": "1.5.0",
          "state": {
            "_dom_classes": [],
            "_model_module": "@jupyter-widgets/controls",
            "_model_module_version": "1.5.0",
            "_model_name": "HTMLModel",
            "_view_count": null,
            "_view_module": "@jupyter-widgets/controls",
            "_view_module_version": "1.5.0",
            "_view_name": "HTMLView",
            "description": "",
            "description_tooltip": null,
            "layout": "IPY_MODEL_896b3e3696834bb3b004a7b2c0ed7806",
            "placeholder": "​",
            "style": "IPY_MODEL_ed38a5cf2ca7405fb444e1106dbb1c2a",
            "value": " 996k/996k [00:00&lt;00:00, 15.9MB/s]"
          }
        },
        "5765e0e390844739b47137d2b5a335b7": {
          "model_module": "@jupyter-widgets/base",
          "model_name": "LayoutModel",
          "model_module_version": "1.2.0",
          "state": {
            "_model_module": "@jupyter-widgets/base",
            "_model_module_version": "1.2.0",
            "_model_name": "LayoutModel",
            "_view_count": null,
            "_view_module": "@jupyter-widgets/base",
            "_view_module_version": "1.2.0",
            "_view_name": "LayoutView",
            "align_content": null,
            "align_items": null,
            "align_self": null,
            "border": null,
            "bottom": null,
            "display": null,
            "flex": null,
            "flex_flow": null,
            "grid_area": null,
            "grid_auto_columns": null,
            "grid_auto_flow": null,
            "grid_auto_rows": null,
            "grid_column": null,
            "grid_gap": null,
            "grid_row": null,
            "grid_template_areas": null,
            "grid_template_columns": null,
            "grid_template_rows": null,
            "height": null,
            "justify_content": null,
            "justify_items": null,
            "left": null,
            "margin": null,
            "max_height": null,
            "max_width": null,
            "min_height": null,
            "min_width": null,
            "object_fit": null,
            "object_position": null,
            "order": null,
            "overflow": null,
            "overflow_x": null,
            "overflow_y": null,
            "padding": null,
            "right": null,
            "top": null,
            "visibility": null,
            "width": null
          }
        },
        "5edc935114354ef7b813b126dd569b6f": {
          "model_module": "@jupyter-widgets/base",
          "model_name": "LayoutModel",
          "model_module_version": "1.2.0",
          "state": {
            "_model_module": "@jupyter-widgets/base",
            "_model_module_version": "1.2.0",
            "_model_name": "LayoutModel",
            "_view_count": null,
            "_view_module": "@jupyter-widgets/base",
            "_view_module_version": "1.2.0",
            "_view_name": "LayoutView",
            "align_content": null,
            "align_items": null,
            "align_self": null,
            "border": null,
            "bottom": null,
            "display": null,
            "flex": null,
            "flex_flow": null,
            "grid_area": null,
            "grid_auto_columns": null,
            "grid_auto_flow": null,
            "grid_auto_rows": null,
            "grid_column": null,
            "grid_gap": null,
            "grid_row": null,
            "grid_template_areas": null,
            "grid_template_columns": null,
            "grid_template_rows": null,
            "height": null,
            "justify_content": null,
            "justify_items": null,
            "left": null,
            "margin": null,
            "max_height": null,
            "max_width": null,
            "min_height": null,
            "min_width": null,
            "object_fit": null,
            "object_position": null,
            "order": null,
            "overflow": null,
            "overflow_x": null,
            "overflow_y": null,
            "padding": null,
            "right": null,
            "top": null,
            "visibility": null,
            "width": null
          }
        },
        "f7d20d3a328d4a6f893d9e21ae3897d4": {
          "model_module": "@jupyter-widgets/controls",
          "model_name": "DescriptionStyleModel",
          "model_module_version": "1.5.0",
          "state": {
            "_model_module": "@jupyter-widgets/controls",
            "_model_module_version": "1.5.0",
            "_model_name": "DescriptionStyleModel",
            "_view_count": null,
            "_view_module": "@jupyter-widgets/base",
            "_view_module_version": "1.2.0",
            "_view_name": "StyleView",
            "description_width": ""
          }
        },
        "d0a1edeb20e84f1a95abe18cff50fcf2": {
          "model_module": "@jupyter-widgets/base",
          "model_name": "LayoutModel",
          "model_module_version": "1.2.0",
          "state": {
            "_model_module": "@jupyter-widgets/base",
            "_model_module_version": "1.2.0",
            "_model_name": "LayoutModel",
            "_view_count": null,
            "_view_module": "@jupyter-widgets/base",
            "_view_module_version": "1.2.0",
            "_view_name": "LayoutView",
            "align_content": null,
            "align_items": null,
            "align_self": null,
            "border": null,
            "bottom": null,
            "display": null,
            "flex": null,
            "flex_flow": null,
            "grid_area": null,
            "grid_auto_columns": null,
            "grid_auto_flow": null,
            "grid_auto_rows": null,
            "grid_column": null,
            "grid_gap": null,
            "grid_row": null,
            "grid_template_areas": null,
            "grid_template_columns": null,
            "grid_template_rows": null,
            "height": null,
            "justify_content": null,
            "justify_items": null,
            "left": null,
            "margin": null,
            "max_height": null,
            "max_width": null,
            "min_height": null,
            "min_width": null,
            "object_fit": null,
            "object_position": null,
            "order": null,
            "overflow": null,
            "overflow_x": null,
            "overflow_y": null,
            "padding": null,
            "right": null,
            "top": null,
            "visibility": null,
            "width": null
          }
        },
        "46ada55d62d44a07af718699aa231939": {
          "model_module": "@jupyter-widgets/controls",
          "model_name": "ProgressStyleModel",
          "model_module_version": "1.5.0",
          "state": {
            "_model_module": "@jupyter-widgets/controls",
            "_model_module_version": "1.5.0",
            "_model_name": "ProgressStyleModel",
            "_view_count": null,
            "_view_module": "@jupyter-widgets/base",
            "_view_module_version": "1.2.0",
            "_view_name": "StyleView",
            "bar_color": null,
            "description_width": ""
          }
        },
        "896b3e3696834bb3b004a7b2c0ed7806": {
          "model_module": "@jupyter-widgets/base",
          "model_name": "LayoutModel",
          "model_module_version": "1.2.0",
          "state": {
            "_model_module": "@jupyter-widgets/base",
            "_model_module_version": "1.2.0",
            "_model_name": "LayoutModel",
            "_view_count": null,
            "_view_module": "@jupyter-widgets/base",
            "_view_module_version": "1.2.0",
            "_view_name": "LayoutView",
            "align_content": null,
            "align_items": null,
            "align_self": null,
            "border": null,
            "bottom": null,
            "display": null,
            "flex": null,
            "flex_flow": null,
            "grid_area": null,
            "grid_auto_columns": null,
            "grid_auto_flow": null,
            "grid_auto_rows": null,
            "grid_column": null,
            "grid_gap": null,
            "grid_row": null,
            "grid_template_areas": null,
            "grid_template_columns": null,
            "grid_template_rows": null,
            "height": null,
            "justify_content": null,
            "justify_items": null,
            "left": null,
            "margin": null,
            "max_height": null,
            "max_width": null,
            "min_height": null,
            "min_width": null,
            "object_fit": null,
            "object_position": null,
            "order": null,
            "overflow": null,
            "overflow_x": null,
            "overflow_y": null,
            "padding": null,
            "right": null,
            "top": null,
            "visibility": null,
            "width": null
          }
        },
        "ed38a5cf2ca7405fb444e1106dbb1c2a": {
          "model_module": "@jupyter-widgets/controls",
          "model_name": "DescriptionStyleModel",
          "model_module_version": "1.5.0",
          "state": {
            "_model_module": "@jupyter-widgets/controls",
            "_model_module_version": "1.5.0",
            "_model_name": "DescriptionStyleModel",
            "_view_count": null,
            "_view_module": "@jupyter-widgets/base",
            "_view_module_version": "1.2.0",
            "_view_name": "StyleView",
            "description_width": ""
          }
        },
        "5fa36ca730644d5fa34e8ad5b716aa33": {
          "model_module": "@jupyter-widgets/controls",
          "model_name": "HBoxModel",
          "model_module_version": "1.5.0",
          "state": {
            "_dom_classes": [],
            "_model_module": "@jupyter-widgets/controls",
            "_model_module_version": "1.5.0",
            "_model_name": "HBoxModel",
            "_view_count": null,
            "_view_module": "@jupyter-widgets/controls",
            "_view_module_version": "1.5.0",
            "_view_name": "HBoxView",
            "box_style": "",
            "children": [
              "IPY_MODEL_e6c6e6841f50432db24bf2be1537abdc",
              "IPY_MODEL_ff05ec2fd2044dcb8be886735dadfc95",
              "IPY_MODEL_7e0b9d159c944f45926cb383692c8c7b"
            ],
            "layout": "IPY_MODEL_60903fbb33004f8f8c5474fc7a8fe129"
          }
        },
        "e6c6e6841f50432db24bf2be1537abdc": {
          "model_module": "@jupyter-widgets/controls",
          "model_name": "HTMLModel",
          "model_module_version": "1.5.0",
          "state": {
            "_dom_classes": [],
            "_model_module": "@jupyter-widgets/controls",
            "_model_module_version": "1.5.0",
            "_model_name": "HTMLModel",
            "_view_count": null,
            "_view_module": "@jupyter-widgets/controls",
            "_view_module_version": "1.5.0",
            "_view_name": "HTMLView",
            "description": "",
            "description_tooltip": null,
            "layout": "IPY_MODEL_9624be1999fd4e26a3205ff076154bc3",
            "placeholder": "​",
            "style": "IPY_MODEL_da82fabffddf492db4940fa85edf3b4e",
            "value": "Downloading (…)cial_tokens_map.json: 100%"
          }
        },
        "ff05ec2fd2044dcb8be886735dadfc95": {
          "model_module": "@jupyter-widgets/controls",
          "model_name": "FloatProgressModel",
          "model_module_version": "1.5.0",
          "state": {
            "_dom_classes": [],
            "_model_module": "@jupyter-widgets/controls",
            "_model_module_version": "1.5.0",
            "_model_name": "FloatProgressModel",
            "_view_count": null,
            "_view_module": "@jupyter-widgets/controls",
            "_view_module_version": "1.5.0",
            "_view_name": "ProgressView",
            "bar_style": "success",
            "description": "",
            "description_tooltip": null,
            "layout": "IPY_MODEL_e3218faf4e714982a1999b6c9650e7c0",
            "max": 112,
            "min": 0,
            "orientation": "horizontal",
            "style": "IPY_MODEL_60581a2fb1294a96966248cad2d5fb79",
            "value": 112
          }
        },
        "7e0b9d159c944f45926cb383692c8c7b": {
          "model_module": "@jupyter-widgets/controls",
          "model_name": "HTMLModel",
          "model_module_version": "1.5.0",
          "state": {
            "_dom_classes": [],
            "_model_module": "@jupyter-widgets/controls",
            "_model_module_version": "1.5.0",
            "_model_name": "HTMLModel",
            "_view_count": null,
            "_view_module": "@jupyter-widgets/controls",
            "_view_module_version": "1.5.0",
            "_view_name": "HTMLView",
            "description": "",
            "description_tooltip": null,
            "layout": "IPY_MODEL_f397a6c14460413a979a373370a7a19f",
            "placeholder": "​",
            "style": "IPY_MODEL_003f9e9d2f754a83b44353f09b56fd5e",
            "value": " 112/112 [00:00&lt;00:00, 6.57kB/s]"
          }
        },
        "60903fbb33004f8f8c5474fc7a8fe129": {
          "model_module": "@jupyter-widgets/base",
          "model_name": "LayoutModel",
          "model_module_version": "1.2.0",
          "state": {
            "_model_module": "@jupyter-widgets/base",
            "_model_module_version": "1.2.0",
            "_model_name": "LayoutModel",
            "_view_count": null,
            "_view_module": "@jupyter-widgets/base",
            "_view_module_version": "1.2.0",
            "_view_name": "LayoutView",
            "align_content": null,
            "align_items": null,
            "align_self": null,
            "border": null,
            "bottom": null,
            "display": null,
            "flex": null,
            "flex_flow": null,
            "grid_area": null,
            "grid_auto_columns": null,
            "grid_auto_flow": null,
            "grid_auto_rows": null,
            "grid_column": null,
            "grid_gap": null,
            "grid_row": null,
            "grid_template_areas": null,
            "grid_template_columns": null,
            "grid_template_rows": null,
            "height": null,
            "justify_content": null,
            "justify_items": null,
            "left": null,
            "margin": null,
            "max_height": null,
            "max_width": null,
            "min_height": null,
            "min_width": null,
            "object_fit": null,
            "object_position": null,
            "order": null,
            "overflow": null,
            "overflow_x": null,
            "overflow_y": null,
            "padding": null,
            "right": null,
            "top": null,
            "visibility": null,
            "width": null
          }
        },
        "9624be1999fd4e26a3205ff076154bc3": {
          "model_module": "@jupyter-widgets/base",
          "model_name": "LayoutModel",
          "model_module_version": "1.2.0",
          "state": {
            "_model_module": "@jupyter-widgets/base",
            "_model_module_version": "1.2.0",
            "_model_name": "LayoutModel",
            "_view_count": null,
            "_view_module": "@jupyter-widgets/base",
            "_view_module_version": "1.2.0",
            "_view_name": "LayoutView",
            "align_content": null,
            "align_items": null,
            "align_self": null,
            "border": null,
            "bottom": null,
            "display": null,
            "flex": null,
            "flex_flow": null,
            "grid_area": null,
            "grid_auto_columns": null,
            "grid_auto_flow": null,
            "grid_auto_rows": null,
            "grid_column": null,
            "grid_gap": null,
            "grid_row": null,
            "grid_template_areas": null,
            "grid_template_columns": null,
            "grid_template_rows": null,
            "height": null,
            "justify_content": null,
            "justify_items": null,
            "left": null,
            "margin": null,
            "max_height": null,
            "max_width": null,
            "min_height": null,
            "min_width": null,
            "object_fit": null,
            "object_position": null,
            "order": null,
            "overflow": null,
            "overflow_x": null,
            "overflow_y": null,
            "padding": null,
            "right": null,
            "top": null,
            "visibility": null,
            "width": null
          }
        },
        "da82fabffddf492db4940fa85edf3b4e": {
          "model_module": "@jupyter-widgets/controls",
          "model_name": "DescriptionStyleModel",
          "model_module_version": "1.5.0",
          "state": {
            "_model_module": "@jupyter-widgets/controls",
            "_model_module_version": "1.5.0",
            "_model_name": "DescriptionStyleModel",
            "_view_count": null,
            "_view_module": "@jupyter-widgets/base",
            "_view_module_version": "1.2.0",
            "_view_name": "StyleView",
            "description_width": ""
          }
        },
        "e3218faf4e714982a1999b6c9650e7c0": {
          "model_module": "@jupyter-widgets/base",
          "model_name": "LayoutModel",
          "model_module_version": "1.2.0",
          "state": {
            "_model_module": "@jupyter-widgets/base",
            "_model_module_version": "1.2.0",
            "_model_name": "LayoutModel",
            "_view_count": null,
            "_view_module": "@jupyter-widgets/base",
            "_view_module_version": "1.2.0",
            "_view_name": "LayoutView",
            "align_content": null,
            "align_items": null,
            "align_self": null,
            "border": null,
            "bottom": null,
            "display": null,
            "flex": null,
            "flex_flow": null,
            "grid_area": null,
            "grid_auto_columns": null,
            "grid_auto_flow": null,
            "grid_auto_rows": null,
            "grid_column": null,
            "grid_gap": null,
            "grid_row": null,
            "grid_template_areas": null,
            "grid_template_columns": null,
            "grid_template_rows": null,
            "height": null,
            "justify_content": null,
            "justify_items": null,
            "left": null,
            "margin": null,
            "max_height": null,
            "max_width": null,
            "min_height": null,
            "min_width": null,
            "object_fit": null,
            "object_position": null,
            "order": null,
            "overflow": null,
            "overflow_x": null,
            "overflow_y": null,
            "padding": null,
            "right": null,
            "top": null,
            "visibility": null,
            "width": null
          }
        },
        "60581a2fb1294a96966248cad2d5fb79": {
          "model_module": "@jupyter-widgets/controls",
          "model_name": "ProgressStyleModel",
          "model_module_version": "1.5.0",
          "state": {
            "_model_module": "@jupyter-widgets/controls",
            "_model_module_version": "1.5.0",
            "_model_name": "ProgressStyleModel",
            "_view_count": null,
            "_view_module": "@jupyter-widgets/base",
            "_view_module_version": "1.2.0",
            "_view_name": "StyleView",
            "bar_color": null,
            "description_width": ""
          }
        },
        "f397a6c14460413a979a373370a7a19f": {
          "model_module": "@jupyter-widgets/base",
          "model_name": "LayoutModel",
          "model_module_version": "1.2.0",
          "state": {
            "_model_module": "@jupyter-widgets/base",
            "_model_module_version": "1.2.0",
            "_model_name": "LayoutModel",
            "_view_count": null,
            "_view_module": "@jupyter-widgets/base",
            "_view_module_version": "1.2.0",
            "_view_name": "LayoutView",
            "align_content": null,
            "align_items": null,
            "align_self": null,
            "border": null,
            "bottom": null,
            "display": null,
            "flex": null,
            "flex_flow": null,
            "grid_area": null,
            "grid_auto_columns": null,
            "grid_auto_flow": null,
            "grid_auto_rows": null,
            "grid_column": null,
            "grid_gap": null,
            "grid_row": null,
            "grid_template_areas": null,
            "grid_template_columns": null,
            "grid_template_rows": null,
            "height": null,
            "justify_content": null,
            "justify_items": null,
            "left": null,
            "margin": null,
            "max_height": null,
            "max_width": null,
            "min_height": null,
            "min_width": null,
            "object_fit": null,
            "object_position": null,
            "order": null,
            "overflow": null,
            "overflow_x": null,
            "overflow_y": null,
            "padding": null,
            "right": null,
            "top": null,
            "visibility": null,
            "width": null
          }
        },
        "003f9e9d2f754a83b44353f09b56fd5e": {
          "model_module": "@jupyter-widgets/controls",
          "model_name": "DescriptionStyleModel",
          "model_module_version": "1.5.0",
          "state": {
            "_model_module": "@jupyter-widgets/controls",
            "_model_module_version": "1.5.0",
            "_model_name": "DescriptionStyleModel",
            "_view_count": null,
            "_view_module": "@jupyter-widgets/base",
            "_view_module_version": "1.2.0",
            "_view_name": "StyleView",
            "description_width": ""
          }
        }
      }
    }
  },
  "nbformat": 4,
  "nbformat_minor": 0
}