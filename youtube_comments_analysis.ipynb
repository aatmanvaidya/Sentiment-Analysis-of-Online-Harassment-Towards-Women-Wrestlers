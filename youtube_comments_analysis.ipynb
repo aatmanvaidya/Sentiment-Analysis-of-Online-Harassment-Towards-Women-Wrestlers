{
  "cells": [
    {
      "cell_type": "code",
      "execution_count": 1,
      "metadata": {
        "id": "sUoDe6LFbqVx"
      },
      "outputs": [],
      "source": [
        "import gdown"
      ]
    },
    {
      "cell_type": "code",
      "execution_count": 2,
      "metadata": {
        "id": "KPiXIhfUbvnn"
      },
      "outputs": [],
      "source": [
        "!gdown --id 1KmoZYmPzxrrtR4a3mSfPIumbDwf_Mrpw > /dev/null 2>&1\n",
        "!gdown --id 19vK08esg9hQtD8JB-9jm7Qkck7nZ-ZqR > /dev/null 2>&1"
      ]
    },
    {
      "cell_type": "markdown",
      "metadata": {
        "id": "zJpmDXtnsEo9"
      },
      "source": [
        "## About the Dataset\n",
        "This a YouTube comments dataset scrapped using the [YouTube Data API](https://developers.google.com/youtube/v3/docs/comments). Currently the dataset consists of roughly **1.12M** comments. The dataset can be accessed [here](https://drive.google.com/drive/folders/1-9OnYbFuiSA0M7skOYche5erzZ4Ba5Nz?usp=sharing).\n",
        "<br><br>\n",
        "The dataset currently has text in _English, Hindi and Hinglish_.\n",
        "Please refer to the following information for an overview of the columns and the corresponding data stored within them. [Link](https://github.com/aatmanvaidya/Sentiment-Analysis-of-Online-Harassment-Towards-Women-Wrestlers/blob/scraper/attributes.txt)."
      ]
    },
    {
      "cell_type": "code",
      "execution_count": 3,
      "metadata": {
        "id": "Y3ZC3vE1rhkU"
      },
      "outputs": [],
      "source": [
        "import pandas as pd\n",
        "import matplotlib.pyplot as plt\n",
        "import matplotlib.ticker as ticker\n",
        "import numpy as np\n",
        "from collections import Counter\n",
        "import re"
      ]
    },
    {
      "cell_type": "code",
      "execution_count": 4,
      "metadata": {
        "colab": {
          "base_uri": "https://localhost:8080/"
        },
        "id": "Hm6uzfHWrmcp",
        "outputId": "d9ad3d8d-13e0-4f93-c7e9-0a1fd309e0a8"
      },
      "outputs": [
        {
          "output_type": "stream",
          "name": "stdout",
          "text": [
            "CPU times: user 1.79 s, sys: 996 ms, total: 2.79 s\n",
            "Wall time: 2.45 s\n"
          ]
        }
      ],
      "source": [
        "%%time\n",
        "df = pd.read_feather(r'comments_cleaned_feather.feather')"
      ]
    },
    {
      "cell_type": "code",
      "execution_count": 5,
      "metadata": {
        "colab": {
          "base_uri": "https://localhost:8080/",
          "height": 547
        },
        "id": "jMDpJrqjr2y5",
        "outputId": "0ad30d35-e3e6-4aa9-ac8c-5076e8c6d1f3"
      },
      "outputs": [
        {
          "output_type": "execute_result",
          "data": {
            "text/plain": [
              "       videoId                                        textDisplay  \\\n",
              "0  EBOKYsWUhvI  Dub maro jaato 😢😢.<br>Tumse tumare ladkiya nhi...   \n",
              "1  EBOKYsWUhvI                                   Haar gye bechare   \n",
              "2  EBOKYsWUhvI  Dhamki mili pahalwano ko aur sab manage kr liy...   \n",
              "3  EBOKYsWUhvI  Jaato pr ye boj rhega ki vo apni hi vyavstha s...   \n",
              "4  EBOKYsWUhvI           Pahlwan jante h kuch nhi kr payenge uska   \n",
              "\n",
              "                                        textOriginal   authorDisplayName  \\\n",
              "0  Dub maro jaato 😢😢.\\nTumse tumare ladkiya nhi b...      HECTOR OF TROY   \n",
              "1                                   Haar gye bechare         Geeta Saini   \n",
              "2  Dhamki mili pahalwano ko aur sab manage kr liy...       Ayaan Chouhan   \n",
              "3  Jaato pr ye boj rhega ki vo apni hi vyavstha s...               Kamal   \n",
              "4           Pahlwan jante h kuch nhi kr payenge uska  jagriti tiwari upp   \n",
              "\n",
              "                               authorProfileImageUrl  \\\n",
              "0  https://yt3.ggpht.com/ytc/AOPolaQNP5bd7gNvbAas...   \n",
              "1  https://yt3.ggpht.com/8XmOPNrT3Vy3wr0fItlWbaMk...   \n",
              "2  https://yt3.ggpht.com/ytc/AOPolaREH2WnrnbD53OI...   \n",
              "3  https://yt3.ggpht.com/ytc/AOPolaTRSm_dEOKj9H82...   \n",
              "4  https://yt3.ggpht.com/ytc/AOPolaRrFnzD2i3N_3rk...   \n",
              "\n",
              "                                    authorChannelUrl  \\\n",
              "0  http://www.youtube.com/channel/UC5G8fjqoiFIqHp...   \n",
              "1  http://www.youtube.com/channel/UCsMGRdH3YHrbs2...   \n",
              "2  http://www.youtube.com/channel/UC_dWuNh6zydTHI...   \n",
              "3  http://www.youtube.com/channel/UCVdGObpHM-IMHB...   \n",
              "4  http://www.youtube.com/channel/UCRkcewHFhxE5Kf...   \n",
              "\n",
              "                         authorChannelId canRate viewerRating likeCount  \\\n",
              "0  {'value': 'UC5G8fjqoiFIqHpKyVeOTsFg'}    True         none         0   \n",
              "1  {'value': 'UCsMGRdH3YHrbs21NOraRuyQ'}    True         none         0   \n",
              "2  {'value': 'UC_dWuNh6zydTHIRr6hi3Omg'}    True         none         0   \n",
              "3  {'value': 'UCVdGObpHM-IMHB_b7_K-7rA'}    True         none         1   \n",
              "4  {'value': 'UCRkcewHFhxE5KfLHrLx0wpA'}    True         none         0   \n",
              "\n",
              "            publishedAt             updatedAt parentId  \\\n",
              "0  2023-07-06T07:04:02Z  2023-07-06T07:04:02Z     None   \n",
              "1  2023-07-03T22:21:37Z  2023-07-03T22:21:37Z     None   \n",
              "2  2023-07-03T05:06:33Z  2023-07-03T05:06:33Z     None   \n",
              "3  2023-07-02T03:39:50Z  2023-07-02T03:39:50Z     None   \n",
              "4  2023-06-28T15:10:36Z  2023-06-28T15:10:36Z     None   \n",
              "\n",
              "                    commentId  \n",
              "0  UgwbyvIkkAhUdaCFpcp4AaABAg  \n",
              "1  Ugyz3OwSXamho91-8I94AaABAg  \n",
              "2  Ugyphs1TT1Yoj7MZBVJ4AaABAg  \n",
              "3  UgwnIxpuFAcKsEzffBp4AaABAg  \n",
              "4  UgxjuOlDigsmuDu53J54AaABAg  "
            ],
            "text/html": [
              "\n",
              "\n",
              "  <div id=\"df-68c0378f-0c04-4006-b320-c1618218239e\">\n",
              "    <div class=\"colab-df-container\">\n",
              "      <div>\n",
              "<style scoped>\n",
              "    .dataframe tbody tr th:only-of-type {\n",
              "        vertical-align: middle;\n",
              "    }\n",
              "\n",
              "    .dataframe tbody tr th {\n",
              "        vertical-align: top;\n",
              "    }\n",
              "\n",
              "    .dataframe thead th {\n",
              "        text-align: right;\n",
              "    }\n",
              "</style>\n",
              "<table border=\"1\" class=\"dataframe\">\n",
              "  <thead>\n",
              "    <tr style=\"text-align: right;\">\n",
              "      <th></th>\n",
              "      <th>videoId</th>\n",
              "      <th>textDisplay</th>\n",
              "      <th>textOriginal</th>\n",
              "      <th>authorDisplayName</th>\n",
              "      <th>authorProfileImageUrl</th>\n",
              "      <th>authorChannelUrl</th>\n",
              "      <th>authorChannelId</th>\n",
              "      <th>canRate</th>\n",
              "      <th>viewerRating</th>\n",
              "      <th>likeCount</th>\n",
              "      <th>publishedAt</th>\n",
              "      <th>updatedAt</th>\n",
              "      <th>parentId</th>\n",
              "      <th>commentId</th>\n",
              "    </tr>\n",
              "  </thead>\n",
              "  <tbody>\n",
              "    <tr>\n",
              "      <th>0</th>\n",
              "      <td>EBOKYsWUhvI</td>\n",
              "      <td>Dub maro jaato 😢😢.&lt;br&gt;Tumse tumare ladkiya nhi...</td>\n",
              "      <td>Dub maro jaato 😢😢.\\nTumse tumare ladkiya nhi b...</td>\n",
              "      <td>HECTOR OF TROY</td>\n",
              "      <td>https://yt3.ggpht.com/ytc/AOPolaQNP5bd7gNvbAas...</td>\n",
              "      <td>http://www.youtube.com/channel/UC5G8fjqoiFIqHp...</td>\n",
              "      <td>{'value': 'UC5G8fjqoiFIqHpKyVeOTsFg'}</td>\n",
              "      <td>True</td>\n",
              "      <td>none</td>\n",
              "      <td>0</td>\n",
              "      <td>2023-07-06T07:04:02Z</td>\n",
              "      <td>2023-07-06T07:04:02Z</td>\n",
              "      <td>None</td>\n",
              "      <td>UgwbyvIkkAhUdaCFpcp4AaABAg</td>\n",
              "    </tr>\n",
              "    <tr>\n",
              "      <th>1</th>\n",
              "      <td>EBOKYsWUhvI</td>\n",
              "      <td>Haar gye bechare</td>\n",
              "      <td>Haar gye bechare</td>\n",
              "      <td>Geeta Saini</td>\n",
              "      <td>https://yt3.ggpht.com/8XmOPNrT3Vy3wr0fItlWbaMk...</td>\n",
              "      <td>http://www.youtube.com/channel/UCsMGRdH3YHrbs2...</td>\n",
              "      <td>{'value': 'UCsMGRdH3YHrbs21NOraRuyQ'}</td>\n",
              "      <td>True</td>\n",
              "      <td>none</td>\n",
              "      <td>0</td>\n",
              "      <td>2023-07-03T22:21:37Z</td>\n",
              "      <td>2023-07-03T22:21:37Z</td>\n",
              "      <td>None</td>\n",
              "      <td>Ugyz3OwSXamho91-8I94AaABAg</td>\n",
              "    </tr>\n",
              "    <tr>\n",
              "      <th>2</th>\n",
              "      <td>EBOKYsWUhvI</td>\n",
              "      <td>Dhamki mili pahalwano ko aur sab manage kr liy...</td>\n",
              "      <td>Dhamki mili pahalwano ko aur sab manage kr liy...</td>\n",
              "      <td>Ayaan Chouhan</td>\n",
              "      <td>https://yt3.ggpht.com/ytc/AOPolaREH2WnrnbD53OI...</td>\n",
              "      <td>http://www.youtube.com/channel/UC_dWuNh6zydTHI...</td>\n",
              "      <td>{'value': 'UC_dWuNh6zydTHIRr6hi3Omg'}</td>\n",
              "      <td>True</td>\n",
              "      <td>none</td>\n",
              "      <td>0</td>\n",
              "      <td>2023-07-03T05:06:33Z</td>\n",
              "      <td>2023-07-03T05:06:33Z</td>\n",
              "      <td>None</td>\n",
              "      <td>Ugyphs1TT1Yoj7MZBVJ4AaABAg</td>\n",
              "    </tr>\n",
              "    <tr>\n",
              "      <th>3</th>\n",
              "      <td>EBOKYsWUhvI</td>\n",
              "      <td>Jaato pr ye boj rhega ki vo apni hi vyavstha s...</td>\n",
              "      <td>Jaato pr ye boj rhega ki vo apni hi vyavstha s...</td>\n",
              "      <td>Kamal</td>\n",
              "      <td>https://yt3.ggpht.com/ytc/AOPolaTRSm_dEOKj9H82...</td>\n",
              "      <td>http://www.youtube.com/channel/UCVdGObpHM-IMHB...</td>\n",
              "      <td>{'value': 'UCVdGObpHM-IMHB_b7_K-7rA'}</td>\n",
              "      <td>True</td>\n",
              "      <td>none</td>\n",
              "      <td>1</td>\n",
              "      <td>2023-07-02T03:39:50Z</td>\n",
              "      <td>2023-07-02T03:39:50Z</td>\n",
              "      <td>None</td>\n",
              "      <td>UgwnIxpuFAcKsEzffBp4AaABAg</td>\n",
              "    </tr>\n",
              "    <tr>\n",
              "      <th>4</th>\n",
              "      <td>EBOKYsWUhvI</td>\n",
              "      <td>Pahlwan jante h kuch nhi kr payenge uska</td>\n",
              "      <td>Pahlwan jante h kuch nhi kr payenge uska</td>\n",
              "      <td>jagriti tiwari upp</td>\n",
              "      <td>https://yt3.ggpht.com/ytc/AOPolaRrFnzD2i3N_3rk...</td>\n",
              "      <td>http://www.youtube.com/channel/UCRkcewHFhxE5Kf...</td>\n",
              "      <td>{'value': 'UCRkcewHFhxE5KfLHrLx0wpA'}</td>\n",
              "      <td>True</td>\n",
              "      <td>none</td>\n",
              "      <td>0</td>\n",
              "      <td>2023-06-28T15:10:36Z</td>\n",
              "      <td>2023-06-28T15:10:36Z</td>\n",
              "      <td>None</td>\n",
              "      <td>UgxjuOlDigsmuDu53J54AaABAg</td>\n",
              "    </tr>\n",
              "  </tbody>\n",
              "</table>\n",
              "</div>\n",
              "      <button class=\"colab-df-convert\" onclick=\"convertToInteractive('df-68c0378f-0c04-4006-b320-c1618218239e')\"\n",
              "              title=\"Convert this dataframe to an interactive table.\"\n",
              "              style=\"display:none;\">\n",
              "\n",
              "  <svg xmlns=\"http://www.w3.org/2000/svg\" height=\"24px\"viewBox=\"0 0 24 24\"\n",
              "       width=\"24px\">\n",
              "    <path d=\"M0 0h24v24H0V0z\" fill=\"none\"/>\n",
              "    <path d=\"M18.56 5.44l.94 2.06.94-2.06 2.06-.94-2.06-.94-.94-2.06-.94 2.06-2.06.94zm-11 1L8.5 8.5l.94-2.06 2.06-.94-2.06-.94L8.5 2.5l-.94 2.06-2.06.94zm10 10l.94 2.06.94-2.06 2.06-.94-2.06-.94-.94-2.06-.94 2.06-2.06.94z\"/><path d=\"M17.41 7.96l-1.37-1.37c-.4-.4-.92-.59-1.43-.59-.52 0-1.04.2-1.43.59L10.3 9.45l-7.72 7.72c-.78.78-.78 2.05 0 2.83L4 21.41c.39.39.9.59 1.41.59.51 0 1.02-.2 1.41-.59l7.78-7.78 2.81-2.81c.8-.78.8-2.07 0-2.86zM5.41 20L4 18.59l7.72-7.72 1.47 1.35L5.41 20z\"/>\n",
              "  </svg>\n",
              "      </button>\n",
              "\n",
              "\n",
              "\n",
              "    <div id=\"df-5bde82e1-72f9-48e9-bbcd-b9ac4bf1ceee\">\n",
              "      <button class=\"colab-df-quickchart\" onclick=\"quickchart('df-5bde82e1-72f9-48e9-bbcd-b9ac4bf1ceee')\"\n",
              "              title=\"Suggest charts.\"\n",
              "              style=\"display:none;\">\n",
              "\n",
              "<svg xmlns=\"http://www.w3.org/2000/svg\" height=\"24px\"viewBox=\"0 0 24 24\"\n",
              "     width=\"24px\">\n",
              "    <g>\n",
              "        <path d=\"M19 3H5c-1.1 0-2 .9-2 2v14c0 1.1.9 2 2 2h14c1.1 0 2-.9 2-2V5c0-1.1-.9-2-2-2zM9 17H7v-7h2v7zm4 0h-2V7h2v10zm4 0h-2v-4h2v4z\"/>\n",
              "    </g>\n",
              "</svg>\n",
              "      </button>\n",
              "    </div>\n",
              "\n",
              "<style>\n",
              "  .colab-df-quickchart {\n",
              "    background-color: #E8F0FE;\n",
              "    border: none;\n",
              "    border-radius: 50%;\n",
              "    cursor: pointer;\n",
              "    display: none;\n",
              "    fill: #1967D2;\n",
              "    height: 32px;\n",
              "    padding: 0 0 0 0;\n",
              "    width: 32px;\n",
              "  }\n",
              "\n",
              "  .colab-df-quickchart:hover {\n",
              "    background-color: #E2EBFA;\n",
              "    box-shadow: 0px 1px 2px rgba(60, 64, 67, 0.3), 0px 1px 3px 1px rgba(60, 64, 67, 0.15);\n",
              "    fill: #174EA6;\n",
              "  }\n",
              "\n",
              "  [theme=dark] .colab-df-quickchart {\n",
              "    background-color: #3B4455;\n",
              "    fill: #D2E3FC;\n",
              "  }\n",
              "\n",
              "  [theme=dark] .colab-df-quickchart:hover {\n",
              "    background-color: #434B5C;\n",
              "    box-shadow: 0px 1px 3px 1px rgba(0, 0, 0, 0.15);\n",
              "    filter: drop-shadow(0px 1px 2px rgba(0, 0, 0, 0.3));\n",
              "    fill: #FFFFFF;\n",
              "  }\n",
              "</style>\n",
              "\n",
              "    <script>\n",
              "      async function quickchart(key) {\n",
              "        const containerElement = document.querySelector('#' + key);\n",
              "        const charts = await google.colab.kernel.invokeFunction(\n",
              "            'suggestCharts', [key], {});\n",
              "      }\n",
              "    </script>\n",
              "\n",
              "      <script>\n",
              "\n",
              "function displayQuickchartButton(domScope) {\n",
              "  let quickchartButtonEl =\n",
              "    domScope.querySelector('#df-5bde82e1-72f9-48e9-bbcd-b9ac4bf1ceee button.colab-df-quickchart');\n",
              "  quickchartButtonEl.style.display =\n",
              "    google.colab.kernel.accessAllowed ? 'block' : 'none';\n",
              "}\n",
              "\n",
              "        displayQuickchartButton(document);\n",
              "      </script>\n",
              "      <style>\n",
              "    .colab-df-container {\n",
              "      display:flex;\n",
              "      flex-wrap:wrap;\n",
              "      gap: 12px;\n",
              "    }\n",
              "\n",
              "    .colab-df-convert {\n",
              "      background-color: #E8F0FE;\n",
              "      border: none;\n",
              "      border-radius: 50%;\n",
              "      cursor: pointer;\n",
              "      display: none;\n",
              "      fill: #1967D2;\n",
              "      height: 32px;\n",
              "      padding: 0 0 0 0;\n",
              "      width: 32px;\n",
              "    }\n",
              "\n",
              "    .colab-df-convert:hover {\n",
              "      background-color: #E2EBFA;\n",
              "      box-shadow: 0px 1px 2px rgba(60, 64, 67, 0.3), 0px 1px 3px 1px rgba(60, 64, 67, 0.15);\n",
              "      fill: #174EA6;\n",
              "    }\n",
              "\n",
              "    [theme=dark] .colab-df-convert {\n",
              "      background-color: #3B4455;\n",
              "      fill: #D2E3FC;\n",
              "    }\n",
              "\n",
              "    [theme=dark] .colab-df-convert:hover {\n",
              "      background-color: #434B5C;\n",
              "      box-shadow: 0px 1px 3px 1px rgba(0, 0, 0, 0.15);\n",
              "      filter: drop-shadow(0px 1px 2px rgba(0, 0, 0, 0.3));\n",
              "      fill: #FFFFFF;\n",
              "    }\n",
              "  </style>\n",
              "\n",
              "      <script>\n",
              "        const buttonEl =\n",
              "          document.querySelector('#df-68c0378f-0c04-4006-b320-c1618218239e button.colab-df-convert');\n",
              "        buttonEl.style.display =\n",
              "          google.colab.kernel.accessAllowed ? 'block' : 'none';\n",
              "\n",
              "        async function convertToInteractive(key) {\n",
              "          const element = document.querySelector('#df-68c0378f-0c04-4006-b320-c1618218239e');\n",
              "          const dataTable =\n",
              "            await google.colab.kernel.invokeFunction('convertToInteractive',\n",
              "                                                     [key], {});\n",
              "          if (!dataTable) return;\n",
              "\n",
              "          const docLinkHtml = 'Like what you see? Visit the ' +\n",
              "            '<a target=\"_blank\" href=https://colab.research.google.com/notebooks/data_table.ipynb>data table notebook</a>'\n",
              "            + ' to learn more about interactive tables.';\n",
              "          element.innerHTML = '';\n",
              "          dataTable['output_type'] = 'display_data';\n",
              "          await google.colab.output.renderOutput(dataTable, element);\n",
              "          const docLink = document.createElement('div');\n",
              "          docLink.innerHTML = docLinkHtml;\n",
              "          element.appendChild(docLink);\n",
              "        }\n",
              "      </script>\n",
              "    </div>\n",
              "  </div>\n"
            ]
          },
          "metadata": {},
          "execution_count": 5
        }
      ],
      "source": [
        "df.head()"
      ]
    },
    {
      "cell_type": "code",
      "execution_count": 6,
      "metadata": {
        "colab": {
          "base_uri": "https://localhost:8080/"
        },
        "id": "6StKhcR-r-Xo",
        "outputId": "b10ec8d0-c763-4bef-ef07-700cb1e96aff"
      },
      "outputs": [
        {
          "output_type": "execute_result",
          "data": {
            "text/plain": [
              "(1119948, 14)"
            ]
          },
          "metadata": {},
          "execution_count": 6
        }
      ],
      "source": [
        "df.shape"
      ]
    },
    {
      "cell_type": "code",
      "execution_count": 7,
      "metadata": {
        "id": "30kEHTVt0KYd"
      },
      "outputs": [],
      "source": [
        "df['textOriginal'] = df['textOriginal'].astype(str)"
      ]
    },
    {
      "cell_type": "code",
      "execution_count": 8,
      "metadata": {
        "id": "ni1lBX6gv-17"
      },
      "outputs": [],
      "source": [
        "duplicate_rows = df[df.duplicated(subset='textOriginal', keep=False)]"
      ]
    },
    {
      "cell_type": "code",
      "execution_count": 9,
      "metadata": {
        "colab": {
          "base_uri": "https://localhost:8080/"
        },
        "id": "TzPA_-T3w-nH",
        "outputId": "6f802899-b56e-45ef-80bd-c7651b85532d"
      },
      "outputs": [
        {
          "output_type": "execute_result",
          "data": {
            "text/plain": [
              "93475"
            ]
          },
          "metadata": {},
          "execution_count": 9
        }
      ],
      "source": [
        "len(df['textDisplay'].unique())"
      ]
    },
    {
      "cell_type": "code",
      "execution_count": 10,
      "metadata": {
        "id": "LeeIhYkd3gXK"
      },
      "outputs": [],
      "source": [
        "# Now this is strange, the dataset doesnt have duplicate or empty rows, why is this happening? is it some datatype problem?\n",
        "# Lets try to do a simple check for it again"
      ]
    },
    {
      "cell_type": "code",
      "execution_count": 11,
      "metadata": {
        "colab": {
          "base_uri": "https://localhost:8080/"
        },
        "id": "a8L76Dss3qpx",
        "outputId": "ae8af503-41da-4b38-b264-00918ec584cf"
      },
      "outputs": [
        {
          "output_type": "stream",
          "name": "stdout",
          "text": [
            "1119948\n",
            "1119948\n",
            "CPU times: user 57.2 s, sys: 158 ms, total: 57.4 s\n",
            "Wall time: 1min 3s\n"
          ]
        }
      ],
      "source": [
        "%%time\n",
        "count = 0\n",
        "value_list = []\n",
        "for index, row in df.iterrows():\n",
        "    value_list.append(row['textOriginal'])\n",
        "    count+=1\n",
        "print(count)\n",
        "print(len(value_list))"
      ]
    },
    {
      "cell_type": "code",
      "execution_count": 12,
      "metadata": {
        "id": "BLhEpCq15RtT"
      },
      "outputs": [],
      "source": [
        "# This means we are penetrating through the entire dataset. I dont know why pandas is doing that ://\n",
        "# There is one small problem, there is a \\u200b character that is present, we might have to remove that."
      ]
    },
    {
      "cell_type": "markdown",
      "metadata": {
        "id": "aNO6k-Jnz3hc"
      },
      "source": [
        "## Simple Slur List Frequency Count\n",
        "This is a simple frequency count of how many words from the slur list are found in the data.\n",
        "I have stored the results in a dictonary called _'slur_counts'_"
      ]
    },
    {
      "cell_type": "code",
      "execution_count": 13,
      "metadata": {
        "id": "EkBrpqsWr-6J"
      },
      "outputs": [],
      "source": [
        "with open('slur_list.txt', 'r') as file:\n",
        "    slur_words = [word.strip() for word in file.readlines()]"
      ]
    },
    {
      "cell_type": "code",
      "execution_count": 14,
      "metadata": {
        "colab": {
          "base_uri": "https://localhost:8080/"
        },
        "id": "ZdPWuH5Pz_AK",
        "outputId": "588042d5-13c5-44f3-c8b0-9cd7fa847336"
      },
      "outputs": [
        {
          "output_type": "execute_result",
          "data": {
            "text/plain": [
              "506"
            ]
          },
          "metadata": {},
          "execution_count": 14
        }
      ],
      "source": [
        "len(slur_words)"
      ]
    },
    {
      "cell_type": "code",
      "execution_count": 15,
      "metadata": {
        "id": "GDMtz9mw0j6W"
      },
      "outputs": [],
      "source": [
        "slur_words_set = set(slur_words)"
      ]
    },
    {
      "cell_type": "code",
      "execution_count": 16,
      "metadata": {
        "id": "JpepJ0bI0A0R"
      },
      "outputs": [],
      "source": [
        "# A dictonary to count the frequency of each slur word identified\n",
        "slur_counts = {}"
      ]
    },
    {
      "cell_type": "code",
      "execution_count": 17,
      "metadata": {
        "id": "9i8gF6fS0O4K"
      },
      "outputs": [],
      "source": [
        "'''\n",
        "for text in df['textOriginal']:\n",
        "    words = text.split()\n",
        "    for word in words:\n",
        "        if word in slur_words:\n",
        "            if word in slur_counts:\n",
        "                slur_counts[word] += 1\n",
        "            else:\n",
        "                slur_counts[word] = 1\n",
        "'''\n",
        "for text in df['textOriginal']:\n",
        "    if text is not None:\n",
        "        words = text.split()\n",
        "        slur_words_in_text = set(words) & slur_words_set\n",
        "        for word in slur_words_in_text:\n",
        "            if word in slur_counts:\n",
        "                slur_counts[word] += 1\n",
        "            else:\n",
        "                slur_counts[word] = 1\n",
        "# Problem with code, in set if a user has used the same word multiple times, set will dismiss that."
      ]
    },
    {
      "cell_type": "code",
      "execution_count": 18,
      "metadata": {
        "id": "9KVuST2x0QET"
      },
      "outputs": [],
      "source": [
        "sorted_slur_counts = dict(sorted(slur_counts.items(), key=lambda item: item[1], reverse=True))"
      ]
    },
    {
      "cell_type": "code",
      "execution_count": 19,
      "metadata": {
        "id": "NfvjZhJI1M4C"
      },
      "outputs": [],
      "source": [
        "# sorted_slur_counts\n",
        "# list(sorted_slur_counts.items())[:8]"
      ]
    },
    {
      "cell_type": "code",
      "execution_count": 20,
      "metadata": {
        "colab": {
          "base_uri": "https://localhost:8080/"
        },
        "id": "paUicBFQqVhT",
        "outputId": "66fdf0bc-e864-4759-bd80-f1da06adfddd"
      },
      "outputs": [
        {
          "output_type": "execute_result",
          "data": {
            "text/plain": [
              "25393"
            ]
          },
          "metadata": {},
          "execution_count": 20
        }
      ],
      "source": [
        "sum(sorted_slur_counts.values())"
      ]
    },
    {
      "cell_type": "code",
      "execution_count": 21,
      "metadata": {
        "colab": {
          "base_uri": "https://localhost:8080/",
          "height": 53
        },
        "id": "3Ki8OyVH1h0Y",
        "outputId": "cff795e4-2da7-424b-d903-94475186ec64"
      },
      "outputs": [
        {
          "output_type": "execute_result",
          "data": {
            "text/plain": [
              "'\\nOne thing is clear from this, all the explicit words that are in english are not there in the list,\\nthis means youtube either deletes them or hides them. And the moderation for local vernacular language is weak.\\n'"
            ],
            "application/vnd.google.colaboratory.intrinsic+json": {
              "type": "string"
            }
          },
          "metadata": {},
          "execution_count": 21
        }
      ],
      "source": [
        "'''\n",
        "One thing is clear from this, all the explicit words that are in english are not there in the list,\n",
        "this means youtube either deletes them or hides them. And the moderation for local vernacular language is weak.\n",
        "'''"
      ]
    },
    {
      "cell_type": "markdown",
      "metadata": {
        "id": "Gf_9F-ZOs7GX"
      },
      "source": [
        "# Regex\n",
        "What is a Regex? -> a sequence of characters that specifies a match pattern in text.\n",
        "\n",
        "**Step 1** - Clean and Preprocess the Data\n",
        "1.   Remove User Names - `r'@\\w+\\b'`\n",
        "2.   Remove URL's and unecessary puntuation marks - `[^\\w\\s.]|http\\S+|www\\S+|https\\S+`\n",
        "3.  Remove Double spaces - `r'\\s+', ' '`\n",
        "4.  Remove any leading or trailing spaces - `.strip()`\n",
        "\n"
      ]
    },
    {
      "cell_type": "code",
      "execution_count": null,
      "metadata": {
        "id": "9aV5NzMgQGGt"
      },
      "outputs": [],
      "source": [
        "text = \"@user, temp, temp, ;;;;;;;; I hate the offensive and racist comments\\n\\n\\n. They disgust me. Visit https://example.com for more information.\""
      ]
    },
    {
      "cell_type": "code",
      "execution_count": null,
      "metadata": {
        "id": "N_PB_pscRk7M"
      },
      "outputs": [],
      "source": [
        "def clean_text(text):\n",
        "    cleaned_text = re.sub(r'@\\w+\\b|[^\\w\\s.]|(?:https?|ftp)://\\S+|www.\\S+', '', text).replace('\\n', '').strip()\n",
        "    cleaned_text = re.sub(r'\\s+', ' ', cleaned_text)\n",
        "    return cleaned_text"
      ]
    },
    {
      "cell_type": "code",
      "execution_count": null,
      "metadata": {
        "colab": {
          "base_uri": "https://localhost:8080/"
        },
        "id": "hnQA427sRlD2",
        "outputId": "91a467bb-2a9f-454d-c6da-18553054a163"
      },
      "outputs": [
        {
          "name": "stdout",
          "output_type": "stream",
          "text": [
            "temp temp I hate the offensive and racist comments. They disgust me. Visit for more information.\n"
          ]
        }
      ],
      "source": [
        "print(clean_text(text))"
      ]
    },
    {
      "cell_type": "code",
      "execution_count": null,
      "metadata": {
        "id": "IflpecuSYyIj"
      },
      "outputs": [],
      "source": [
        "regexDf = df[['textOriginal']]"
      ]
    },
    {
      "cell_type": "code",
      "execution_count": null,
      "metadata": {
        "colab": {
          "base_uri": "https://localhost:8080/"
        },
        "id": "WtblBbYxaYI_",
        "outputId": "5d9d49db-91f6-453f-ef4d-55437829b3e6"
      },
      "outputs": [
        {
          "name": "stderr",
          "output_type": "stream",
          "text": [
            "<ipython-input-26-547ff038857b>:2: SettingWithCopyWarning: \n",
            "A value is trying to be set on a copy of a slice from a DataFrame.\n",
            "Try using .loc[row_indexer,col_indexer] = value instead\n",
            "\n",
            "See the caveats in the documentation: https://pandas.pydata.org/pandas-docs/stable/user_guide/indexing.html#returning-a-view-versus-a-copy\n",
            "  regexDf['textOriginal'] = regexDf['textOriginal'].apply(lambda x: clean_text(x))\n"
          ]
        }
      ],
      "source": [
        "# clean text\n",
        "regexDf['textOriginal'] = regexDf['textOriginal'].apply(lambda x: clean_text(x))"
      ]
    },
    {
      "cell_type": "markdown",
      "metadata": {
        "id": "LPEhnFZt3CZx"
      },
      "source": [
        "### Just check the count of words from the slur list ignoring case (upper or lower) of the word. We also look if any word from the slur list is present as a sub-string of any other word in the dataset.\n",
        "\n",
        "1.   `re.findall()` - searches for all non-overlapping occurrences of a pattern in a given text.\n",
        "2.   `(?i)` - make matching case-insenstive\n",
        "3.  `'(' + '|'.join(slur_words) + r')'` - find a pattern that matches any of the slur words"
      ]
    },
    {
      "cell_type": "code",
      "execution_count": null,
      "metadata": {
        "id": "39Tc9rWUg6sM"
      },
      "outputs": [],
      "source": [
        "skip_regex = False"
      ]
    },
    {
      "cell_type": "code",
      "execution_count": null,
      "metadata": {
        "colab": {
          "base_uri": "https://localhost:8080/"
        },
        "id": "3ko9uzVxcC6z",
        "outputId": "3f8dc1c6-4ae5-4aca-bc76-8bbef1bc3da3"
      },
      "outputs": [
        {
          "name": "stdout",
          "output_type": "stream",
          "text": [
            "CPU times: user 12min 5s, sys: 1.66 s, total: 12min 7s\n",
            "Wall time: 12min 12s\n"
          ]
        }
      ],
      "source": [
        "%%time\n",
        "slur_word_counts = {}\n",
        "for index, row in regexDf.iterrows():\n",
        "    text = row['textOriginal']\n",
        "    # matches = re.findall(r\"(?i)\\b(\" + '|'.join(slur_words) + r\")\\b\", text)\n",
        "    matches = re.findall(r'(?i)(' + '|'.join(slur_words) + r')', text)\n",
        "    for match in matches:\n",
        "        slur_word_counts[match] = slur_word_counts.get(match, 0) + 1"
      ]
    },
    {
      "cell_type": "code",
      "execution_count": null,
      "metadata": {
        "id": "99la6tMI0rMb"
      },
      "outputs": [],
      "source": [
        "# slur_word_counts"
      ]
    },
    {
      "cell_type": "code",
      "execution_count": null,
      "metadata": {
        "colab": {
          "base_uri": "https://localhost:8080/"
        },
        "id": "JXUSGr9p12kR",
        "outputId": "b18e384d-57c2-43fc-8a0d-43691e642769"
      },
      "outputs": [
        {
          "data": {
            "text/plain": [
              "101382"
            ]
          },
          "execution_count": 30,
          "metadata": {},
          "output_type": "execute_result"
        }
      ],
      "source": [
        "sum(slur_word_counts.values())"
      ]
    },
    {
      "cell_type": "code",
      "execution_count": null,
      "metadata": {
        "colab": {
          "base_uri": "https://localhost:8080/"
        },
        "id": "0dtcUCgt6YlO",
        "outputId": "de690f05-6fa2-4f10-fcb0-6f7a5dcd08e3"
      },
      "outputs": [
        {
          "name": "stdout",
          "output_type": "stream",
          "text": [
            "[('ms', 13407), ('bai', 9483), ('halwa', 8551), ('chod', 7929), ('chutiya', 3554), ('fat', 3144), ('mc', 3103), ('balatkar', 2631)]\n"
          ]
        }
      ],
      "source": [
        "sorted_slur_word_counts = dict(sorted(slur_word_counts.items(), key=lambda item: item[1], reverse=True))\n",
        "print(list(sorted_slur_word_counts.items())[:8])"
      ]
    },
    {
      "cell_type": "code",
      "execution_count": null,
      "metadata": {
        "id": "U7zT7FF13vjb"
      },
      "outputs": [],
      "source": [
        "# We clearly see that the amount of slur words drastically increase. Now the step ahead would be too create seperate regex for the most used slur words.\n",
        "# Note - the substrings could also be a part of different words and not necessarily hateful. But given the nature of the words, I feel that chances are low."
      ]
    },
    {
      "cell_type": "markdown",
      "metadata": {
        "id": "qHMyU6Etfz15"
      },
      "source": [
        "## Create Regex for the most used Slur Words\n",
        "\n",
        "- Lets start by looking at the word `\"chutiya\"`"
      ]
    },
    {
      "cell_type": "code",
      "execution_count": null,
      "metadata": {
        "id": "TBzm-Qn4heH8"
      },
      "outputs": [],
      "source": [
        "text = \"they called me a chhhutiyyaa and I ignored them.\"\n",
        "# text = \"abcchhutiyeexvy\""
      ]
    },
    {
      "cell_type": "code",
      "execution_count": null,
      "metadata": {
        "id": "EJrygd2Cf3vU"
      },
      "outputs": [],
      "source": [
        "pattern = r'ch+h?[uo]t[iy]a?'"
      ]
    },
    {
      "cell_type": "code",
      "execution_count": null,
      "metadata": {
        "id": "SXSe5oHfiH9P"
      },
      "outputs": [],
      "source": [
        "matches = re.findall(pattern, text, re.IGNORECASE)"
      ]
    },
    {
      "cell_type": "code",
      "execution_count": null,
      "metadata": {
        "colab": {
          "base_uri": "https://localhost:8080/"
        },
        "id": "qZ7H0ji9jFrV",
        "outputId": "7112c361-79d4-4e32-c90f-87e5bd1f1030"
      },
      "outputs": [
        {
          "data": {
            "text/plain": [
              "['chhhuti']"
            ]
          },
          "execution_count": 36,
          "metadata": {},
          "output_type": "execute_result"
        }
      ],
      "source": [
        "matches"
      ]
    },
    {
      "cell_type": "code",
      "execution_count": null,
      "metadata": {
        "colab": {
          "base_uri": "https://localhost:8080/"
        },
        "id": "5U6QsRtfkifr",
        "outputId": "3a676ed2-5370-42b5-8b49-d9ac42daf0ed"
      },
      "outputs": [
        {
          "name": "stdout",
          "output_type": "stream",
          "text": [
            "CPU times: user 58.8 s, sys: 154 ms, total: 58.9 s\n",
            "Wall time: 59.5 s\n"
          ]
        }
      ],
      "source": [
        "%%time\n",
        "slur_word_count_2 = {}\n",
        "for index, row in regexDf.iterrows():\n",
        "    text = row['textOriginal']\n",
        "    matches = re.findall(pattern, text, re.IGNORECASE)\n",
        "    for match in matches:\n",
        "        slur_word_count_2[match] = slur_word_count_2.get(match, 0) + 1"
      ]
    },
    {
      "cell_type": "code",
      "execution_count": null,
      "metadata": {
        "colab": {
          "base_uri": "https://localhost:8080/"
        },
        "id": "ND0Q80kHkrun",
        "outputId": "05afb940-d224-40ba-8d50-dc360910522b"
      },
      "outputs": [
        {
          "data": {
            "text/plain": [
              "9289"
            ]
          },
          "execution_count": 38,
          "metadata": {},
          "output_type": "execute_result"
        }
      ],
      "source": [
        "sum(slur_word_count_2.values())"
      ]
    },
    {
      "cell_type": "code",
      "execution_count": null,
      "metadata": {
        "colab": {
          "base_uri": "https://localhost:8080/"
        },
        "id": "6e9rJDRekvgr",
        "outputId": "4543b01e-a6db-4ec1-f492-5a483ff67198"
      },
      "outputs": [
        {
          "name": "stdout",
          "output_type": "stream",
          "text": [
            "[('chuti', 6383), ('Chuti', 1168), ('choti', 463), ('chutia', 344), ('chuty', 204), ('chutya', 201), ('chhoti', 167), ('Chutya', 90)]\n"
          ]
        }
      ],
      "source": [
        "sorted_slur_word_count_2 = dict(sorted(slur_word_count_2.items(), key=lambda item: item[1], reverse=True))\n",
        "print(list(sorted_slur_word_count_2.items())[:8])"
      ]
    },
    {
      "cell_type": "code",
      "execution_count": null,
      "metadata": {
        "id": "uVtGY3QdnM_w"
      },
      "outputs": [],
      "source": [
        "# Okay wow, the number of words that are similar to `chutiya` increase drastically."
      ]
    },
    {
      "cell_type": "code",
      "execution_count": null,
      "metadata": {
        "id": "saNo7o-snWtN"
      },
      "outputs": [],
      "source": [
        "# one problem with this is, we dont know what the sentence might be directed to, to women? to the govt? to brijbhusan?\n",
        "# or just some guy reply to a person in a comment?"
      ]
    },
    {
      "cell_type": "markdown",
      "metadata": {
        "id": "bWzb0q4miBZj"
      },
      "source": [
        "- now lets look at `chod`"
      ]
    },
    {
      "cell_type": "code",
      "execution_count": null,
      "metadata": {
        "id": "oyZ-VPcrjA-3"
      },
      "outputs": [],
      "source": [
        "text_2 = \"they called me a chhut, chod but I ignored them, hmpf\""
      ]
    },
    {
      "cell_type": "code",
      "execution_count": null,
      "metadata": {
        "id": "uD26On3jiEiu"
      },
      "outputs": [],
      "source": [
        "pattern_2 = r'ch+[ou]+[dt]'"
      ]
    },
    {
      "cell_type": "code",
      "execution_count": null,
      "metadata": {
        "id": "JSnO8KawjAe4"
      },
      "outputs": [],
      "source": [
        "matches_2 = re.findall(pattern_2, text_2, re.IGNORECASE)"
      ]
    },
    {
      "cell_type": "code",
      "execution_count": null,
      "metadata": {
        "colab": {
          "base_uri": "https://localhost:8080/"
        },
        "id": "XKHQP2WujJrX",
        "outputId": "23c27707-27b8-4d53-8cd1-ab0cebf15522"
      },
      "outputs": [
        {
          "data": {
            "text/plain": [
              "['chhut', 'chod']"
            ]
          },
          "execution_count": 91,
          "metadata": {},
          "output_type": "execute_result"
        }
      ],
      "source": [
        "matches_2"
      ]
    },
    {
      "cell_type": "code",
      "execution_count": null,
      "metadata": {
        "id": "iRGVZ8I7jMnK"
      },
      "outputs": [],
      "source": [
        "slur_word_count_3 = {}\n",
        "for index, row in regexDf.iterrows():\n",
        "    text = row['textOriginal']\n",
        "    matches_2 = re.findall(pattern_2, text, re.IGNORECASE)\n",
        "    for match in matches_2:\n",
        "        slur_word_count_3[match] = slur_word_count_3.get(match, 0) + 1"
      ]
    },
    {
      "cell_type": "code",
      "execution_count": null,
      "metadata": {
        "colab": {
          "base_uri": "https://localhost:8080/"
        },
        "id": "JimtPDGvjhYR",
        "outputId": "dbbaf0da-f72b-454a-f6d7-6e615744755f"
      },
      "outputs": [
        {
          "data": {
            "text/plain": [
              "27220"
            ]
          },
          "execution_count": 93,
          "metadata": {},
          "output_type": "execute_result"
        }
      ],
      "source": [
        "sum(slur_word_count_3.values())"
      ]
    },
    {
      "cell_type": "code",
      "execution_count": null,
      "metadata": {
        "colab": {
          "base_uri": "https://localhost:8080/"
        },
        "id": "vs2wUlTGjm0X",
        "outputId": "e2bbf60b-c752-4359-c471-bc88f718a620"
      },
      "outputs": [
        {
          "name": "stdout",
          "output_type": "stream",
          "text": [
            "[('chod', 9750), ('chut', 8219), ('chot', 1640), ('chud', 1605), ('Chut', 1474), ('chhod', 1416), ('Choud', 382), ('chhot', 371)]\n"
          ]
        }
      ],
      "source": [
        "sorted_slur_word_count_3 = dict(sorted(slur_word_count_3.items(), key=lambda item: item[1], reverse=True))\n",
        "print(list(sorted_slur_word_count_3.items())[:8])"
      ]
    },
    {
      "cell_type": "markdown",
      "metadata": {
        "id": "hvNkz7ePkVYE"
      },
      "source": [
        "- now lets do this for `bsdk`"
      ]
    },
    {
      "cell_type": "code",
      "execution_count": null,
      "metadata": {
        "id": "jQrPQX17kmxP"
      },
      "outputs": [],
      "source": [
        "text_3 = \"they called me a bsssdk, I left\""
      ]
    },
    {
      "cell_type": "code",
      "execution_count": null,
      "metadata": {
        "id": "64lMcQBgkk1I"
      },
      "outputs": [],
      "source": [
        "pattern_3 = r'bs+d+k'\n",
        "matches = re.findall(pattern_3, text_3, re.IGNORECASE)"
      ]
    },
    {
      "cell_type": "code",
      "execution_count": null,
      "metadata": {
        "colab": {
          "base_uri": "https://localhost:8080/"
        },
        "id": "RRX2lm8zkmKU",
        "outputId": "b45148c7-368f-44c3-fc17-8096736015f2"
      },
      "outputs": [
        {
          "data": {
            "text/plain": [
              "['bsssdk']"
            ]
          },
          "execution_count": 51,
          "metadata": {},
          "output_type": "execute_result"
        }
      ],
      "source": [
        "matches"
      ]
    },
    {
      "cell_type": "code",
      "execution_count": null,
      "metadata": {
        "id": "4ELiuytZkrox"
      },
      "outputs": [],
      "source": [
        "slur_word_count_4 = {}\n",
        "for index, row in regexDf.iterrows():\n",
        "    text = row['textOriginal']\n",
        "    matches = re.findall(pattern_3, text, re.IGNORECASE)\n",
        "    for match in matches:\n",
        "        slur_word_count_4[match] = slur_word_count_4.get(match, 0) + 1"
      ]
    },
    {
      "cell_type": "code",
      "execution_count": null,
      "metadata": {
        "colab": {
          "base_uri": "https://localhost:8080/"
        },
        "id": "koA5Mad8lKPI",
        "outputId": "a639f7ee-a005-4a57-9e12-1589a16a5d56"
      },
      "outputs": [
        {
          "data": {
            "text/plain": [
              "1836"
            ]
          },
          "execution_count": 53,
          "metadata": {},
          "output_type": "execute_result"
        }
      ],
      "source": [
        "sum(slur_word_count_4.values())"
      ]
    },
    {
      "cell_type": "code",
      "execution_count": null,
      "metadata": {
        "colab": {
          "base_uri": "https://localhost:8080/"
        },
        "id": "UmoFDePQlOda",
        "outputId": "352f0901-1ab6-4b03-c182-c8eef5e145d5"
      },
      "outputs": [
        {
          "name": "stdout",
          "output_type": "stream",
          "text": [
            "[('bsdk', 1323), ('Bsdk', 456), ('Bssdk', 32), ('BSDK', 25)]\n"
          ]
        }
      ],
      "source": [
        "sorted_slur_word_count_4 = dict(sorted(slur_word_count_4.items(), key=lambda item: item[1], reverse=True))\n",
        "print(list(sorted_slur_word_count_4.items())[:8])"
      ]
    },
    {
      "cell_type": "markdown",
      "metadata": {
        "id": "-ab3HsDA1nkO"
      },
      "source": [
        "- now lets try for a hindi word -\n",
        "\n",
        "some links that help me understand this better\n",
        "- https://stackoverflow.com/questions/41356013/how-to-detect-if-a-string-contains-hindi-devnagri-in-it-with-character-and-wor\n",
        "- https://stackoverflow.com/questions/14859957/regular-expressions-with-indian-characters\n",
        "- https://unicode.org/charts/PDF/U0900.pdf"
      ]
    },
    {
      "cell_type": "code",
      "execution_count": null,
      "metadata": {
        "id": "Zuqb-qE21NH8"
      },
      "outputs": [],
      "source": []
    },
    {
      "cell_type": "markdown",
      "metadata": {
        "id": "rOFgPVvAlkRt"
      },
      "source": [
        "## Lets now look at the impact regex has had on counting the slur words in the data\n",
        "\n",
        "The slur list has 506 words consisting of different languages.\n",
        "\n",
        "|        **Word**       | **Before Regex** |     **After Regex**     |\n",
        "|:---------------------:|:----------------:|:-----------------------:|\n",
        "| Simple Count of Words |      25,393      | 101,382 (just  english) |\n",
        "|        chutiya        |       2,647      |          9,289          |\n",
        "|          chod         |       1,788      |          12,749         |\n",
        "|          bsdk         |       1,147      |          1,836          |\n"
      ]
    },
    {
      "cell_type": "markdown",
      "metadata": {
        "id": "f8MMPsGosqiF"
      },
      "source": [
        "- what are the 100 senteces which use the slur words before and after regex?\n",
        "- look at the slur count vs timeline"
      ]
    },
    {
      "cell_type": "markdown",
      "metadata": {
        "id": "C6DL-_QKfXgU"
      },
      "source": [
        "### Looking at use of slur_words accross the timeline."
      ]
    },
    {
      "cell_type": "code",
      "execution_count": 22,
      "metadata": {
        "id": "POS903dNfXNf"
      },
      "outputs": [],
      "source": [
        "# to include the hindi words, lets just to a simple check versus time."
      ]
    },
    {
      "cell_type": "code",
      "execution_count": 23,
      "metadata": {
        "id": "nzPpkJlHfiWr"
      },
      "outputs": [],
      "source": [
        "timeDf = df[['videoId','textOriginal','authorChannelId', 'likeCount', 'publishedAt', 'updatedAt', 'commentId']]"
      ]
    },
    {
      "cell_type": "code",
      "execution_count": 24,
      "metadata": {
        "colab": {
          "base_uri": "https://localhost:8080/",
          "height": 337
        },
        "id": "x4V2GsD0fwa4",
        "outputId": "d5832c1f-e631-4a50-ffe0-7b0ebe9ca4d3"
      },
      "outputs": [
        {
          "output_type": "execute_result",
          "data": {
            "text/plain": [
              "       videoId                                       textOriginal  \\\n",
              "0  EBOKYsWUhvI  Dub maro jaato 😢😢.\\nTumse tumare ladkiya nhi b...   \n",
              "1  EBOKYsWUhvI                                   Haar gye bechare   \n",
              "2  EBOKYsWUhvI  Dhamki mili pahalwano ko aur sab manage kr liy...   \n",
              "3  EBOKYsWUhvI  Jaato pr ye boj rhega ki vo apni hi vyavstha s...   \n",
              "4  EBOKYsWUhvI           Pahlwan jante h kuch nhi kr payenge uska   \n",
              "\n",
              "                         authorChannelId likeCount           publishedAt  \\\n",
              "0  {'value': 'UC5G8fjqoiFIqHpKyVeOTsFg'}         0  2023-07-06T07:04:02Z   \n",
              "1  {'value': 'UCsMGRdH3YHrbs21NOraRuyQ'}         0  2023-07-03T22:21:37Z   \n",
              "2  {'value': 'UC_dWuNh6zydTHIRr6hi3Omg'}         0  2023-07-03T05:06:33Z   \n",
              "3  {'value': 'UCVdGObpHM-IMHB_b7_K-7rA'}         1  2023-07-02T03:39:50Z   \n",
              "4  {'value': 'UCRkcewHFhxE5KfLHrLx0wpA'}         0  2023-06-28T15:10:36Z   \n",
              "\n",
              "              updatedAt                   commentId  \n",
              "0  2023-07-06T07:04:02Z  UgwbyvIkkAhUdaCFpcp4AaABAg  \n",
              "1  2023-07-03T22:21:37Z  Ugyz3OwSXamho91-8I94AaABAg  \n",
              "2  2023-07-03T05:06:33Z  Ugyphs1TT1Yoj7MZBVJ4AaABAg  \n",
              "3  2023-07-02T03:39:50Z  UgwnIxpuFAcKsEzffBp4AaABAg  \n",
              "4  2023-06-28T15:10:36Z  UgxjuOlDigsmuDu53J54AaABAg  "
            ],
            "text/html": [
              "\n",
              "\n",
              "  <div id=\"df-9d101816-7160-4e28-889e-29997bf6a648\">\n",
              "    <div class=\"colab-df-container\">\n",
              "      <div>\n",
              "<style scoped>\n",
              "    .dataframe tbody tr th:only-of-type {\n",
              "        vertical-align: middle;\n",
              "    }\n",
              "\n",
              "    .dataframe tbody tr th {\n",
              "        vertical-align: top;\n",
              "    }\n",
              "\n",
              "    .dataframe thead th {\n",
              "        text-align: right;\n",
              "    }\n",
              "</style>\n",
              "<table border=\"1\" class=\"dataframe\">\n",
              "  <thead>\n",
              "    <tr style=\"text-align: right;\">\n",
              "      <th></th>\n",
              "      <th>videoId</th>\n",
              "      <th>textOriginal</th>\n",
              "      <th>authorChannelId</th>\n",
              "      <th>likeCount</th>\n",
              "      <th>publishedAt</th>\n",
              "      <th>updatedAt</th>\n",
              "      <th>commentId</th>\n",
              "    </tr>\n",
              "  </thead>\n",
              "  <tbody>\n",
              "    <tr>\n",
              "      <th>0</th>\n",
              "      <td>EBOKYsWUhvI</td>\n",
              "      <td>Dub maro jaato 😢😢.\\nTumse tumare ladkiya nhi b...</td>\n",
              "      <td>{'value': 'UC5G8fjqoiFIqHpKyVeOTsFg'}</td>\n",
              "      <td>0</td>\n",
              "      <td>2023-07-06T07:04:02Z</td>\n",
              "      <td>2023-07-06T07:04:02Z</td>\n",
              "      <td>UgwbyvIkkAhUdaCFpcp4AaABAg</td>\n",
              "    </tr>\n",
              "    <tr>\n",
              "      <th>1</th>\n",
              "      <td>EBOKYsWUhvI</td>\n",
              "      <td>Haar gye bechare</td>\n",
              "      <td>{'value': 'UCsMGRdH3YHrbs21NOraRuyQ'}</td>\n",
              "      <td>0</td>\n",
              "      <td>2023-07-03T22:21:37Z</td>\n",
              "      <td>2023-07-03T22:21:37Z</td>\n",
              "      <td>Ugyz3OwSXamho91-8I94AaABAg</td>\n",
              "    </tr>\n",
              "    <tr>\n",
              "      <th>2</th>\n",
              "      <td>EBOKYsWUhvI</td>\n",
              "      <td>Dhamki mili pahalwano ko aur sab manage kr liy...</td>\n",
              "      <td>{'value': 'UC_dWuNh6zydTHIRr6hi3Omg'}</td>\n",
              "      <td>0</td>\n",
              "      <td>2023-07-03T05:06:33Z</td>\n",
              "      <td>2023-07-03T05:06:33Z</td>\n",
              "      <td>Ugyphs1TT1Yoj7MZBVJ4AaABAg</td>\n",
              "    </tr>\n",
              "    <tr>\n",
              "      <th>3</th>\n",
              "      <td>EBOKYsWUhvI</td>\n",
              "      <td>Jaato pr ye boj rhega ki vo apni hi vyavstha s...</td>\n",
              "      <td>{'value': 'UCVdGObpHM-IMHB_b7_K-7rA'}</td>\n",
              "      <td>1</td>\n",
              "      <td>2023-07-02T03:39:50Z</td>\n",
              "      <td>2023-07-02T03:39:50Z</td>\n",
              "      <td>UgwnIxpuFAcKsEzffBp4AaABAg</td>\n",
              "    </tr>\n",
              "    <tr>\n",
              "      <th>4</th>\n",
              "      <td>EBOKYsWUhvI</td>\n",
              "      <td>Pahlwan jante h kuch nhi kr payenge uska</td>\n",
              "      <td>{'value': 'UCRkcewHFhxE5KfLHrLx0wpA'}</td>\n",
              "      <td>0</td>\n",
              "      <td>2023-06-28T15:10:36Z</td>\n",
              "      <td>2023-06-28T15:10:36Z</td>\n",
              "      <td>UgxjuOlDigsmuDu53J54AaABAg</td>\n",
              "    </tr>\n",
              "  </tbody>\n",
              "</table>\n",
              "</div>\n",
              "      <button class=\"colab-df-convert\" onclick=\"convertToInteractive('df-9d101816-7160-4e28-889e-29997bf6a648')\"\n",
              "              title=\"Convert this dataframe to an interactive table.\"\n",
              "              style=\"display:none;\">\n",
              "\n",
              "  <svg xmlns=\"http://www.w3.org/2000/svg\" height=\"24px\"viewBox=\"0 0 24 24\"\n",
              "       width=\"24px\">\n",
              "    <path d=\"M0 0h24v24H0V0z\" fill=\"none\"/>\n",
              "    <path d=\"M18.56 5.44l.94 2.06.94-2.06 2.06-.94-2.06-.94-.94-2.06-.94 2.06-2.06.94zm-11 1L8.5 8.5l.94-2.06 2.06-.94-2.06-.94L8.5 2.5l-.94 2.06-2.06.94zm10 10l.94 2.06.94-2.06 2.06-.94-2.06-.94-.94-2.06-.94 2.06-2.06.94z\"/><path d=\"M17.41 7.96l-1.37-1.37c-.4-.4-.92-.59-1.43-.59-.52 0-1.04.2-1.43.59L10.3 9.45l-7.72 7.72c-.78.78-.78 2.05 0 2.83L4 21.41c.39.39.9.59 1.41.59.51 0 1.02-.2 1.41-.59l7.78-7.78 2.81-2.81c.8-.78.8-2.07 0-2.86zM5.41 20L4 18.59l7.72-7.72 1.47 1.35L5.41 20z\"/>\n",
              "  </svg>\n",
              "      </button>\n",
              "\n",
              "\n",
              "\n",
              "    <div id=\"df-9cea63aa-01ba-453c-a430-567684cd6057\">\n",
              "      <button class=\"colab-df-quickchart\" onclick=\"quickchart('df-9cea63aa-01ba-453c-a430-567684cd6057')\"\n",
              "              title=\"Suggest charts.\"\n",
              "              style=\"display:none;\">\n",
              "\n",
              "<svg xmlns=\"http://www.w3.org/2000/svg\" height=\"24px\"viewBox=\"0 0 24 24\"\n",
              "     width=\"24px\">\n",
              "    <g>\n",
              "        <path d=\"M19 3H5c-1.1 0-2 .9-2 2v14c0 1.1.9 2 2 2h14c1.1 0 2-.9 2-2V5c0-1.1-.9-2-2-2zM9 17H7v-7h2v7zm4 0h-2V7h2v10zm4 0h-2v-4h2v4z\"/>\n",
              "    </g>\n",
              "</svg>\n",
              "      </button>\n",
              "    </div>\n",
              "\n",
              "<style>\n",
              "  .colab-df-quickchart {\n",
              "    background-color: #E8F0FE;\n",
              "    border: none;\n",
              "    border-radius: 50%;\n",
              "    cursor: pointer;\n",
              "    display: none;\n",
              "    fill: #1967D2;\n",
              "    height: 32px;\n",
              "    padding: 0 0 0 0;\n",
              "    width: 32px;\n",
              "  }\n",
              "\n",
              "  .colab-df-quickchart:hover {\n",
              "    background-color: #E2EBFA;\n",
              "    box-shadow: 0px 1px 2px rgba(60, 64, 67, 0.3), 0px 1px 3px 1px rgba(60, 64, 67, 0.15);\n",
              "    fill: #174EA6;\n",
              "  }\n",
              "\n",
              "  [theme=dark] .colab-df-quickchart {\n",
              "    background-color: #3B4455;\n",
              "    fill: #D2E3FC;\n",
              "  }\n",
              "\n",
              "  [theme=dark] .colab-df-quickchart:hover {\n",
              "    background-color: #434B5C;\n",
              "    box-shadow: 0px 1px 3px 1px rgba(0, 0, 0, 0.15);\n",
              "    filter: drop-shadow(0px 1px 2px rgba(0, 0, 0, 0.3));\n",
              "    fill: #FFFFFF;\n",
              "  }\n",
              "</style>\n",
              "\n",
              "    <script>\n",
              "      async function quickchart(key) {\n",
              "        const containerElement = document.querySelector('#' + key);\n",
              "        const charts = await google.colab.kernel.invokeFunction(\n",
              "            'suggestCharts', [key], {});\n",
              "      }\n",
              "    </script>\n",
              "\n",
              "      <script>\n",
              "\n",
              "function displayQuickchartButton(domScope) {\n",
              "  let quickchartButtonEl =\n",
              "    domScope.querySelector('#df-9cea63aa-01ba-453c-a430-567684cd6057 button.colab-df-quickchart');\n",
              "  quickchartButtonEl.style.display =\n",
              "    google.colab.kernel.accessAllowed ? 'block' : 'none';\n",
              "}\n",
              "\n",
              "        displayQuickchartButton(document);\n",
              "      </script>\n",
              "      <style>\n",
              "    .colab-df-container {\n",
              "      display:flex;\n",
              "      flex-wrap:wrap;\n",
              "      gap: 12px;\n",
              "    }\n",
              "\n",
              "    .colab-df-convert {\n",
              "      background-color: #E8F0FE;\n",
              "      border: none;\n",
              "      border-radius: 50%;\n",
              "      cursor: pointer;\n",
              "      display: none;\n",
              "      fill: #1967D2;\n",
              "      height: 32px;\n",
              "      padding: 0 0 0 0;\n",
              "      width: 32px;\n",
              "    }\n",
              "\n",
              "    .colab-df-convert:hover {\n",
              "      background-color: #E2EBFA;\n",
              "      box-shadow: 0px 1px 2px rgba(60, 64, 67, 0.3), 0px 1px 3px 1px rgba(60, 64, 67, 0.15);\n",
              "      fill: #174EA6;\n",
              "    }\n",
              "\n",
              "    [theme=dark] .colab-df-convert {\n",
              "      background-color: #3B4455;\n",
              "      fill: #D2E3FC;\n",
              "    }\n",
              "\n",
              "    [theme=dark] .colab-df-convert:hover {\n",
              "      background-color: #434B5C;\n",
              "      box-shadow: 0px 1px 3px 1px rgba(0, 0, 0, 0.15);\n",
              "      filter: drop-shadow(0px 1px 2px rgba(0, 0, 0, 0.3));\n",
              "      fill: #FFFFFF;\n",
              "    }\n",
              "  </style>\n",
              "\n",
              "      <script>\n",
              "        const buttonEl =\n",
              "          document.querySelector('#df-9d101816-7160-4e28-889e-29997bf6a648 button.colab-df-convert');\n",
              "        buttonEl.style.display =\n",
              "          google.colab.kernel.accessAllowed ? 'block' : 'none';\n",
              "\n",
              "        async function convertToInteractive(key) {\n",
              "          const element = document.querySelector('#df-9d101816-7160-4e28-889e-29997bf6a648');\n",
              "          const dataTable =\n",
              "            await google.colab.kernel.invokeFunction('convertToInteractive',\n",
              "                                                     [key], {});\n",
              "          if (!dataTable) return;\n",
              "\n",
              "          const docLinkHtml = 'Like what you see? Visit the ' +\n",
              "            '<a target=\"_blank\" href=https://colab.research.google.com/notebooks/data_table.ipynb>data table notebook</a>'\n",
              "            + ' to learn more about interactive tables.';\n",
              "          element.innerHTML = '';\n",
              "          dataTable['output_type'] = 'display_data';\n",
              "          await google.colab.output.renderOutput(dataTable, element);\n",
              "          const docLink = document.createElement('div');\n",
              "          docLink.innerHTML = docLinkHtml;\n",
              "          element.appendChild(docLink);\n",
              "        }\n",
              "      </script>\n",
              "    </div>\n",
              "  </div>\n"
            ]
          },
          "metadata": {},
          "execution_count": 24
        }
      ],
      "source": [
        "timeDf.head()"
      ]
    },
    {
      "cell_type": "code",
      "execution_count": 25,
      "metadata": {
        "id": "s2VL9NH-kbjt"
      },
      "outputs": [],
      "source": [
        "# some cleaning (Acutally a LOT!!)\n",
        "header = np.array(timeDf.columns)\n",
        "timeDf = timeDf[~np.all(timeDf.values == header, axis=1)]\n",
        "timeDf = timeDf[~timeDf['videoId'].str.contains(r'\\bvideoId\\b', case=False, regex=True)]\n",
        "pattern = r'^\\d{4}-\\d{2}-\\d{2}T\\d{2}:\\d{2}:\\d{2}Z$'\n",
        "timeDf = timeDf[timeDf['publishedAt'].str.contains(pattern)]"
      ]
    },
    {
      "cell_type": "code",
      "execution_count": 26,
      "metadata": {
        "colab": {
          "base_uri": "https://localhost:8080/"
        },
        "id": "WHH5VHUclNqt",
        "outputId": "33c8d88c-5368-4e6a-a33d-2ed4bd1b74db"
      },
      "outputs": [
        {
          "output_type": "stream",
          "name": "stdout",
          "text": [
            "CPU times: user 445 ms, sys: 2.03 ms, total: 447 ms\n",
            "Wall time: 449 ms\n"
          ]
        }
      ],
      "source": [
        "%%time\n",
        "# Convert time from  ISO 8601 to a datetime object\n",
        "timeDf['NewDateTime'] = pd.to_datetime(timeDf['publishedAt'])"
      ]
    },
    {
      "cell_type": "code",
      "execution_count": 27,
      "metadata": {
        "colab": {
          "base_uri": "https://localhost:8080/"
        },
        "id": "jg0AusWxqy-g",
        "outputId": "cf226ff7-936c-4274-9836-08b3184ad23f"
      },
      "outputs": [
        {
          "output_type": "stream",
          "name": "stderr",
          "text": [
            "<ipython-input-27-47ab300dab3c>:1: FutureWarning: Series.dt.weekofyear and Series.dt.week have been deprecated. Please use Series.dt.isocalendar().week instead.\n",
            "  timeDf['week'] = timeDf['NewDateTime'].dt.week\n"
          ]
        }
      ],
      "source": [
        "# Convert datetime object to week, month and day\n",
        "timeDf['week'] = timeDf['NewDateTime'].dt.week\n",
        "timeDf['day'] = timeDf['NewDateTime'].dt.day\n",
        "timeDf['month'] = timeDf['NewDateTime'].dt.month"
      ]
    },
    {
      "cell_type": "code",
      "execution_count": 28,
      "metadata": {
        "id": "GZEQrzwhrkM9"
      },
      "outputs": [],
      "source": [
        "# The protests started on Jan 18, 2023\n",
        "# https://indianexpress.com/article/sports/sport-others/wrestlers-protest-timeline-from-jantar-mantar-sit-in-to-nearly-immersing-medals-in-ganga-8649894/"
      ]
    },
    {
      "cell_type": "code",
      "execution_count": 29,
      "metadata": {
        "id": "jb2dT3_3uQtl"
      },
      "outputs": [],
      "source": [
        "slur_words_set = set(slur_words)"
      ]
    },
    {
      "cell_type": "code",
      "execution_count": 30,
      "metadata": {
        "id": "gpJQlTU2sPgm"
      },
      "outputs": [],
      "source": [
        "slurWordDf = timeDf[timeDf['textOriginal'].str.contains('|'.join(slur_words_set))]"
      ]
    },
    {
      "cell_type": "code",
      "execution_count": 31,
      "metadata": {
        "id": "fIxQ9ZLCtbA-"
      },
      "outputs": [],
      "source": [
        "slur_word_counts = slurWordDf.groupby('week').size()"
      ]
    },
    {
      "cell_type": "code",
      "execution_count": 32,
      "metadata": {
        "colab": {
          "base_uri": "https://localhost:8080/"
        },
        "id": "FaafXkKOtbim",
        "outputId": "58ef6222-3cea-443e-d2b8-11b7902c3c7c"
      },
      "outputs": [
        {
          "output_type": "execute_result",
          "data": {
            "text/plain": [
              "week\n",
              "3       663\n",
              "17     4932\n",
              "18     8455\n",
              "19     7879\n",
              "20     2184\n",
              "21     8314\n",
              "22    15432\n",
              "23     3695\n",
              "24     1039\n",
              "25      443\n",
              "26      475\n",
              "27      178\n",
              "dtype: int64"
            ]
          },
          "metadata": {},
          "execution_count": 32
        }
      ],
      "source": [
        "slur_word_counts"
      ]
    },
    {
      "cell_type": "code",
      "execution_count": 39,
      "metadata": {
        "id": "gahtw7lQwlEo"
      },
      "outputs": [],
      "source": [
        "pattern = r'(?i)(' + '|'.join(slur_words_set) + r')'"
      ]
    },
    {
      "cell_type": "code",
      "source": [
        "compiled_pattern = re.compile(pattern, re.IGNORECASE)"
      ],
      "metadata": {
        "id": "zDT13znpSVn6"
      },
      "execution_count": 40,
      "outputs": []
    },
    {
      "cell_type": "code",
      "execution_count": 43,
      "metadata": {
        "id": "qWDldU2XyHk9",
        "colab": {
          "base_uri": "https://localhost:8080/"
        },
        "outputId": "e451ae38-da18-4a04-91e5-c3c3a7d619c1"
      },
      "outputs": [
        {
          "output_type": "stream",
          "name": "stderr",
          "text": [
            "<timed exec>:2: UserWarning: This pattern is interpreted as a regular expression, and has match groups. To actually get the groups, use str.extract.\n"
          ]
        },
        {
          "output_type": "stream",
          "name": "stdout",
          "text": [
            "CPU times: user 9min 1s, sys: 1.07 s, total: 9min 2s\n",
            "Wall time: 9min 15s\n"
          ]
        }
      ],
      "source": [
        "%%time\n",
        "# counts2 = timeDf.groupby('week')['textOriginal'].apply(lambda x: x.str.contains(pattern, case=False).sum())\n",
        "counts2 = timeDf.groupby('week')['textOriginal'].apply(lambda x: x.str.contains(compiled_pattern).sum())"
      ]
    },
    {
      "cell_type": "code",
      "execution_count": 55,
      "metadata": {
        "id": "wUltAZQuwZMe",
        "colab": {
          "base_uri": "https://localhost:8080/",
          "height": 87
        },
        "outputId": "f3fe1083-6265-4c8d-ad33-5ffd0f1242a2"
      },
      "outputs": [
        {
          "output_type": "execute_result",
          "data": {
            "text/plain": [
              "\"\\nLets plot the frequceny of slur words used vs time (week)\\nThe week number denoted in the plot is the number of the week in the year (out of 52)\\nWeek 17 - Apr. 24, 2023 - a day after protests started outside jantar mantar\\nWeek 22 - May 29, 2023 -  Delhi Police detains top wrestlers\\n          May 30, 2023 - The wrestlers, hurt by the way the police had detained them and then filed FIRs against them, announce they will go to Har Ki Pauri in Haridwar to 'immerse their medals' in the River Ganga. \\nWeek 28 - July 10, 2023 - last day till I scrapped the data\\n\""
            ],
            "application/vnd.google.colaboratory.intrinsic+json": {
              "type": "string"
            }
          },
          "metadata": {},
          "execution_count": 55
        }
      ],
      "source": [
        "'''\n",
        "Lets plot the frequceny of slur words used vs time (week)\n",
        "The week number denoted in the plot is the number of the week in the year (out of 52)\n",
        "Week 17 - Apr. 24, 2023 - a day after protests started outside jantar mantar\n",
        "Week 22 - May 29, 2023 -  Delhi Police detains top wrestlers\n",
        "          May 30, 2023 - The wrestlers, hurt by the way the police had detained them and then filed FIRs against them,\n",
        "                            announce they will go to Har Ki Pauri in Haridwar to 'immerse their medals' in the River Ganga.\n",
        "Week 28 - July 10, 2023 - last day till I scrapped the data\n",
        "'''"
      ]
    },
    {
      "cell_type": "code",
      "source": [
        "plt.plot(slur_word_counts.index[1:], slur_word_counts.values[1:], color='blue', label='simple regex')\n",
        "plt.plot(counts2.index[8:], counts2.values[8:], color='red', label='case ignored regex')\n",
        "\n",
        "plt.xlabel('Week')\n",
        "plt.ylabel('Count of Slur Words')\n",
        "plt.title('Count of Slur Words per week')\n",
        "plt.xticks(counts2.index[8:])\n",
        "plt.legend(loc='best', fontsize='small')\n",
        "plt.show()"
      ],
      "metadata": {
        "colab": {
          "base_uri": "https://localhost:8080/",
          "height": 449
        },
        "id": "hMGxG1vXW6Gl",
        "outputId": "77fe5f39-f99f-4593-cf03-cedf1ed275d1"
      },
      "execution_count": 52,
      "outputs": [
        {
          "output_type": "display_data",
          "data": {
            "text/plain": [
              "<Figure size 640x480 with 1 Axes>"
            ],
            "image/png": "[encoded data removed]"
          },
          "metadata": {}
        }
      ]
    },
    {
      "cell_type": "code",
      "execution_count": 53,
      "metadata": {
        "colab": {
          "base_uri": "https://localhost:8080/",
          "height": 449
        },
        "id": "24_DP4KOtbJN",
        "outputId": "ea090244-16e1-4f16-9c7f-4aee8d5218a1"
      },
      "outputs": [
        {
          "output_type": "display_data",
          "data": {
            "text/plain": [
              "<Figure size 640x480 with 1 Axes>"
            ],
            "image/png": "[encoded data removed]"
          },
          "metadata": {}
        }
      ],
      "source": [
        "plt.semilogy(slur_word_counts.index[1:], slur_word_counts.values[1:], color='blue', label='simple regex')\n",
        "plt.semilogy(counts2.index[8:], counts2.values[8:], color='red', label='case ignored regex')\n",
        "plt.xlabel('Week')\n",
        "plt.ylabel('Count of Slur Words')\n",
        "plt.title('Count of Slur Words per week - semilogy scale')\n",
        "plt.xticks(counts2.index[8:])\n",
        "plt.legend(loc='best', fontsize='small')\n",
        "plt.show()"
      ]
    },
    {
      "cell_type": "code",
      "source": [
        "# the pattern pretty much remains the same, only the count of slur words are increasing"
      ],
      "metadata": {
        "id": "jG195x3iXquu"
      },
      "execution_count": 54,
      "outputs": []
    },
    {
      "cell_type": "code",
      "source": [
        "# Lets now look at the like counts accross the timeline of these hateful tweets."
      ],
      "metadata": {
        "id": "N13ydKtsZenU"
      },
      "execution_count": 57,
      "outputs": []
    },
    {
      "cell_type": "code",
      "source": [
        "word_likes_per_week = {}"
      ],
      "metadata": {
        "id": "C5TCZPMYZsaL"
      },
      "execution_count": 58,
      "outputs": []
    },
    {
      "cell_type": "code",
      "source": [
        "timeDf['likeCount'] = timeDf['likeCount'].astype(int)"
      ],
      "metadata": {
        "id": "ZasJp_Zibgfw"
      },
      "execution_count": 60,
      "outputs": []
    },
    {
      "cell_type": "code",
      "source": [
        "from collections import defaultdict"
      ],
      "metadata": {
        "id": "y95wNuDzdnkP"
      },
      "execution_count": null,
      "outputs": []
    },
    {
      "cell_type": "code",
      "source": [
        "%%time\n",
        "for index, row in timeDf.iterrows():\n",
        "    text = row['textOriginal']\n",
        "    week = row['week']\n",
        "    like_count = row['likeCount']\n",
        "    matches = compiled_pattern.findall(text)\n",
        "    for word in matches:\n",
        "        if week not in word_likes_per_week:\n",
        "            word_likes_per_week[week] = 0\n",
        "        word_likes_per_week[week] += like_count"
      ],
      "metadata": {
        "colab": {
          "base_uri": "https://localhost:8080/"
        },
        "id": "0KRWYlPyatli",
        "outputId": "c783d002-8c6a-4687-9a0c-e3b2c21087e1"
      },
      "execution_count": 61,
      "outputs": [
        {
          "output_type": "stream",
          "name": "stdout",
          "text": [
            "CPU times: user 11min 17s, sys: 1.92 s, total: 11min 19s\n",
            "Wall time: 11min 26s\n"
          ]
        }
      ]
    },
    {
      "cell_type": "code",
      "source": [
        "word_likes_per_week"
      ],
      "metadata": {
        "colab": {
          "base_uri": "https://localhost:8080/"
        },
        "id": "b0HyMhvFattp",
        "outputId": "0f802f55-7df5-4690-eb7d-5e7957af159d"
      },
      "execution_count": 62,
      "outputs": [
        {
          "output_type": "execute_result",
          "data": {
            "text/plain": [
              "{27: 27,\n",
              " 26: 639,\n",
              " 25: 89,\n",
              " 24: 366,\n",
              " 23: 2006,\n",
              " 22: 13568,\n",
              " 21: 3911,\n",
              " 19: 2048,\n",
              " 18: 4532,\n",
              " 17: 4434,\n",
              " 3: 629,\n",
              " 20: 441,\n",
              " 4: 24}"
            ]
          },
          "metadata": {},
          "execution_count": 62
        }
      ]
    },
    {
      "cell_type": "code",
      "source": [
        "x = sorted(word_likes_per_week.keys())\n",
        "y = [word_likes_per_week[week] for week in x]"
      ],
      "metadata": {
        "id": "1P4ZOTPoat06"
      },
      "execution_count": 63,
      "outputs": []
    },
    {
      "cell_type": "code",
      "source": [
        "plt.plot(x[2:], y[2:])\n",
        "plt.xlabel('Week')\n",
        "plt.ylabel('Total Like Count')\n",
        "plt.title('Total Like Count per Week for Identified Words')\n",
        "plt.xticks(x[2:])\n",
        "plt.show()"
      ],
      "metadata": {
        "colab": {
          "base_uri": "https://localhost:8080/",
          "height": 472
        },
        "id": "TTmTd_qEat9b",
        "outputId": "3100c1b1-b07c-4977-d50b-23965c84abb6"
      },
      "execution_count": 64,
      "outputs": [
        {
          "output_type": "display_data",
          "data": {
            "text/plain": [
              "<Figure size 640x480 with 1 Axes>"
            ],
            "image/png": "[encoded data removed]"
          },
          "metadata": {}
        }
      ]
    },
    {
      "cell_type": "code",
      "source": [
        "plt.semilogy(x[2:], y[2:])\n",
        "plt.xlabel('Week')\n",
        "plt.ylabel('Total Like Count')\n",
        "plt.title('Total Like Count per Week for Identified Words - Semilogy Scale')\n",
        "plt.xticks(x[2:])\n",
        "plt.show()"
      ],
      "metadata": {
        "colab": {
          "base_uri": "https://localhost:8080/",
          "height": 472
        },
        "id": "qIhfNf-mauG6",
        "outputId": "1d3fb61d-0928-4fc1-ffa3-c9df3a9bec50"
      },
      "execution_count": 65,
      "outputs": [
        {
          "output_type": "display_data",
          "data": {
            "text/plain": [
              "<Figure size 640x480 with 1 Axes>"
            ],
            "image/png": "[encoded data removed]"
          },
          "metadata": {}
        }
      ]
    },
    {
      "cell_type": "code",
      "source": [
        "# These plots could be showing these results because it could be also from the bias in dataset sampling."
      ],
      "metadata": {
        "id": "qxHF6VLyfIjQ"
      },
      "execution_count": 66,
      "outputs": []
    },
    {
      "cell_type": "code",
      "source": [
        "'''\n",
        "check if these hateful tweets are replies or not too\n",
        "'''"
      ],
      "metadata": {
        "id": "RQhQJwzcZsvD"
      },
      "execution_count": null,
      "outputs": []
    },
    {
      "cell_type": "code",
      "source": [],
      "metadata": {
        "id": "8L33-Zw-Zs4J"
      },
      "execution_count": null,
      "outputs": []
    },
    {
      "cell_type": "markdown",
      "metadata": {
        "id": "eNkKoD02ihbl"
      },
      "source": [
        "## Identify Text Language"
      ]
    },
    {
      "cell_type": "code",
      "execution_count": null,
      "metadata": {
        "id": "4dSDgHN0k4Cv"
      },
      "outputs": [],
      "source": [
        "#supressing output\n",
        "# !pip install inltk==0.9 > /dev/null 2>&1\n",
        "# !pip install --upgrade fastai > /dev/null 2>&1"
      ]
    },
    {
      "cell_type": "code",
      "execution_count": null,
      "metadata": {
        "id": "5zuX_hBZmHKk"
      },
      "outputs": [],
      "source": [
        "!pip install polyglot==16.7.4 > /dev/null 2>&1\n",
        "!pip install PyICU > /dev/null 2>&1\n",
        "!pip install pycld2 > /dev/null 2>&1"
      ]
    },
    {
      "cell_type": "code",
      "execution_count": null,
      "metadata": {
        "id": "9F2MFqHhhgF2"
      },
      "outputs": [],
      "source": [
        "# Use iNLTK, Indic NLP Library or polyglot\n",
        "# from inltk.inltk import identify_language, reset_language_identifying_models\n",
        "from polyglot.detect import Detector\n",
        "# languages supported by polyglot - https://polyglot.readthedocs.io/en/latest/Detection.html#supported-languages"
      ]
    },
    {
      "cell_type": "code",
      "execution_count": null,
      "metadata": {
        "id": "FAGvFAxMkUso"
      },
      "outputs": [],
      "source": [
        "# text = 'आप कैसे हैं?' text = 'તમે કેમ છો' text = 'எப்படி இருக்கிறீர்கள்' text = 'സുഖമാണോ' text = 'तू कसा आहेस'\n",
        "text_sample = 'आप कैसे हैं?'"
      ]
    },
    {
      "cell_type": "code",
      "execution_count": null,
      "metadata": {
        "colab": {
          "base_uri": "https://localhost:8080/"
        },
        "id": "PXO7lWFDoPCk",
        "outputId": "3a5ad435-c15b-4fab-ce1d-5bfafdc6705b"
      },
      "outputs": [
        {
          "name": "stdout",
          "output_type": "stream",
          "text": [
            "name: Hindi       code: hi       confidence:  96.0 read bytes:  1638\n",
            "hi\n"
          ]
        }
      ],
      "source": [
        "detector = Detector(text_sample)\n",
        "print(detector.language)\n",
        "print(detector.language.code)"
      ]
    },
    {
      "cell_type": "code",
      "execution_count": null,
      "metadata": {
        "id": "iFru1kffnrPF"
      },
      "outputs": [],
      "source": [
        "langDf = df[['videoId','textOriginal','authorChannelId', 'likeCount', 'publishedAt', 'updatedAt', 'commentId']]"
      ]
    },
    {
      "cell_type": "code",
      "execution_count": null,
      "metadata": {
        "colab": {
          "base_uri": "https://localhost:8080/"
        },
        "id": "BaVL_uLooZdk",
        "outputId": "22c6c8f6-e6a1-404a-fea1-5ef468d05a18"
      },
      "outputs": [
        {
          "name": "stdout",
          "output_type": "stream",
          "text": [
            "CPU times: user 21.6 s, sys: 390 ms, total: 21.9 s\n",
            "Wall time: 25.4 s\n"
          ]
        },
        {
          "name": "stderr",
          "output_type": "stream",
          "text": [
            "<timed exec>:1: SettingWithCopyWarning: \n",
            "A value is trying to be set on a copy of a slice from a DataFrame.\n",
            "Try using .loc[row_indexer,col_indexer] = value instead\n",
            "\n",
            "See the caveats in the documentation: https://pandas.pydata.org/pandas-docs/stable/user_guide/indexing.html#returning-a-view-versus-a-copy\n"
          ]
        }
      ],
      "source": [
        "%%time\n",
        "langDf['textOriginal'] = langDf['textOriginal'].apply(lambda x: clean_text(x))"
      ]
    },
    {
      "cell_type": "code",
      "execution_count": null,
      "metadata": {
        "colab": {
          "base_uri": "https://localhost:8080/"
        },
        "id": "mys5Co3wonXs",
        "outputId": "f13f97b2-36c2-4d62-fab6-386552bc262b"
      },
      "outputs": [
        {
          "name": "stderr",
          "output_type": "stream",
          "text": [
            "<ipython-input-62-94e6cd841e46>:1: SettingWithCopyWarning: \n",
            "A value is trying to be set on a copy of a slice from a DataFrame.\n",
            "Try using .loc[row_indexer,col_indexer] = value instead\n",
            "\n",
            "See the caveats in the documentation: https://pandas.pydata.org/pandas-docs/stable/user_guide/indexing.html#returning-a-view-versus-a-copy\n",
            "  langDf['language'] = 'dnd' # dnd - did not detect\n"
          ]
        }
      ],
      "source": [
        "langDf['language'] = 'dnd' # dnd - did not detect"
      ]
    },
    {
      "cell_type": "code",
      "execution_count": null,
      "metadata": {
        "id": "2yiUJAHdpgXW"
      },
      "outputs": [],
      "source": [
        "# langDf.head()"
      ]
    },
    {
      "cell_type": "code",
      "execution_count": null,
      "metadata": {
        "id": "UvsYkdJx_Eej"
      },
      "outputs": [],
      "source": [
        "import warnings\n",
        "# warnings.filterwarnings(\"ignore\")\n",
        "warnings.filterwarnings(\"ignore\", category=UserWarning, module=\"polyglot\")"
      ]
    },
    {
      "cell_type": "code",
      "execution_count": null,
      "metadata": {
        "id": "lCS3LB5uBOde"
      },
      "outputs": [],
      "source": [
        "# %%time\n",
        "# for index, row in langDf.iterrows():\n",
        "#     text = row['textOriginal']\n",
        "#     try:\n",
        "#         detector = Detector(text)\n",
        "#         detected_language = detector.language.code\n",
        "#         langDf.at[index, 'language'] = detected_language\n",
        "#     except:\n",
        "#         # If an error occurs or language detection fails, keep the 'dnd' value\n",
        "#         # An error could also occur if text length is small\n",
        "#         pass"
      ]
    },
    {
      "cell_type": "markdown",
      "metadata": {
        "id": "p-fYcTNMBtix"
      },
      "source": [
        "## Running the Seintiment Analysis Model"
      ]
    },
    {
      "cell_type": "code",
      "execution_count": null,
      "metadata": {
        "id": "AbN2hINACAgf"
      },
      "outputs": [],
      "source": [
        "!pip install transformers > /dev/null 2>&1\n",
        "!pip install --upgrade accelerate > /dev/null 2>&1\n",
        "# !pip install xformers > /dev/null 2>&1"
      ]
    },
    {
      "cell_type": "code",
      "execution_count": null,
      "metadata": {
        "id": "TftBhjyZBnsr"
      },
      "outputs": [],
      "source": [
        "from transformers import pipeline\n",
        "from transformers import AutoModelForSequenceClassification\n",
        "from transformers import TFAutoModelForSequenceClassification\n",
        "from transformers import AutoTokenizer, AutoConfig\n",
        "import numpy as np\n",
        "from scipy.special import softmax"
      ]
    },
    {
      "cell_type": "code",
      "execution_count": null,
      "metadata": {
        "id": "b3e329IOCwqA"
      },
      "outputs": [],
      "source": [
        "# https://huggingface.co/cardiffnlp/twitter-roberta-base-sentiment-latest\n",
        "model_path = f\"cardiffnlp/twitter-roberta-base-sentiment-latest\""
      ]
    },
    {
      "cell_type": "code",
      "execution_count": null,
      "metadata": {
        "id": "j1OSG3_AB_N1"
      },
      "outputs": [],
      "source": [
        "# sentiment_task = pipeline(\"sentiment-analysis\", model=model_path, tokenizer=model_path)\n",
        "# sentiment_task(\"I am very happy today\")"
      ]
    },
    {
      "cell_type": "code",
      "execution_count": null,
      "metadata": {
        "colab": {
          "base_uri": "https://localhost:8080/",
          "height": 249,
          "referenced_widgets": [
            "940a5466476a4833a2b945ec52995c73",
            "786e697a2eb4458e9f13b07f07ae3115",
            "6144124b61f54b10a939deba650a5916",
            "b9a81334603b4e5d869aee3c7c904978",
            "6a14541d321a4920bb93e96e9cf1f3a1",
            "4c7cddf1eaf94196919f5046df81b42a",
            "972d694b909c4fbfb782f8d2f7aac996",
            "b46c5b954203479791ce2e77ec1362ea",
            "ffb355cf6de146f3b35ebd9a4596e030",
            "6c6960ce8b8b4fa288da51e3ab93accd",
            "bea274bbbe5a450d8d14b2479542c2da",
            "d0c793473ff04fc194e64f1415828f88",
            "033cff6bad9e4ccd8db4a329905e66e0",
            "77673bcc2c6145a58334badb04e06378",
            "d6f215b4a07045d7b985279a8473dd93",
            "b2e54a57ab2e4a23be82e53dcddf45a1",
            "ddaa6a1f78aa43579e784dc14f0a3249",
            "10419d035b76467aa5bef0a2c2cc5da9",
            "8bd6ab7a6877436c846b13df2e638457",
            "5e11a9404a20459c90b513233b7059cd",
            "ff0c91e8032d4ac08273630aa1d45249",
            "00e582f917884371bd90cc0918668a1e",
            "653f75f5f7494e1b8e533e06af36f730",
            "51ddd744256b439386f2a00278f3c4ad",
            "588a1eb0890840f3a8801146a2dc8d07",
            "6662cafd355b4789b5b438202d3b31b0",
            "718aa40bf13b48c69aaa7d1422c5735b",
            "3953604930594f0e8948c82790e6c633",
            "fa19e912d8e44c3e91db24af5290f5e4",
            "d48fd50c904b4c579d74e62d78a11ceb",
            "46c09ea4a5b54bb79da71f1d708b721b",
            "77c04f1a9517465abd0096a97a86379a",
            "c8665c9975a3491bb304cbfca2f2db12",
            "e69cb09ff97744d989e2e45065ccdbc9",
            "ed72923eb1aa43229643c51c018276de",
            "2338573d26be494fa5e0955d10809c7c",
            "05f995c2b35e42cc892e97a2e6c98389",
            "78349bb6005a47e3828e36e49ef362af",
            "c183472ff12d47dcb6b93dc68198273f",
            "cae78a01d526400d9ca038e6f404c42a",
            "b19890ab0257403fb602dc6391646e2b",
            "82afcc73c43a4622981b08bfc6152945",
            "e29fa8b350314d98878a1d06dd81d489",
            "08d0422fe122491889760ce0a1259a22",
            "6f059bd8298d49fab39c3f0f393357ce",
            "26daa33855524a4e8114bfb6928172d5",
            "ac7fc2703e7a4b49a0d36b85d5997878",
            "97123d9ea52647ba91ee11d2746678b1",
            "c0dcc3cf8bf1439695a5d5047c32730b",
            "5c0a09d0e4664600b4ac416682e5cc3c",
            "6f8712f0e82746259ded892ffea27d7b",
            "aa3e0988950e48f78557aab3965e9d4f",
            "ca0250e5a2724be6b87004367749d5ea",
            "76154d3cbe4841fcb675b2905304120a",
            "5f5762b621814203817cd7a1011056a7"
          ]
        },
        "id": "ubsQvPNGD65B",
        "outputId": "70649871-c287-4528-cf2e-b6faf5b0141c"
      },
      "outputs": [
        {
          "data": {
            "application/vnd.jupyter.widget-view+json": {
              "model_id": "940a5466476a4833a2b945ec52995c73",
              "version_major": 2,
              "version_minor": 0
            },
            "text/plain": [
              "Downloading (…)lve/main/config.json:   0%|          | 0.00/929 [00:00<?, ?B/s]"
            ]
          },
          "metadata": {},
          "output_type": "display_data"
        },
        {
          "data": {
            "application/vnd.jupyter.widget-view+json": {
              "model_id": "d0c793473ff04fc194e64f1415828f88",
              "version_major": 2,
              "version_minor": 0
            },
            "text/plain": [
              "Downloading (…)olve/main/vocab.json:   0%|          | 0.00/899k [00:00<?, ?B/s]"
            ]
          },
          "metadata": {},
          "output_type": "display_data"
        },
        {
          "data": {
            "application/vnd.jupyter.widget-view+json": {
              "model_id": "653f75f5f7494e1b8e533e06af36f730",
              "version_major": 2,
              "version_minor": 0
            },
            "text/plain": [
              "Downloading (…)olve/main/merges.txt:   0%|          | 0.00/456k [00:00<?, ?B/s]"
            ]
          },
          "metadata": {},
          "output_type": "display_data"
        },
        {
          "data": {
            "application/vnd.jupyter.widget-view+json": {
              "model_id": "e69cb09ff97744d989e2e45065ccdbc9",
              "version_major": 2,
              "version_minor": 0
            },
            "text/plain": [
              "Downloading (…)cial_tokens_map.json:   0%|          | 0.00/239 [00:00<?, ?B/s]"
            ]
          },
          "metadata": {},
          "output_type": "display_data"
        },
        {
          "data": {
            "application/vnd.jupyter.widget-view+json": {
              "model_id": "6f059bd8298d49fab39c3f0f393357ce",
              "version_major": 2,
              "version_minor": 0
            },
            "text/plain": [
              "Downloading pytorch_model.bin:   0%|          | 0.00/501M [00:00<?, ?B/s]"
            ]
          },
          "metadata": {},
          "output_type": "display_data"
        },
        {
          "name": "stderr",
          "output_type": "stream",
          "text": [
            "Some weights of the model checkpoint at cardiffnlp/twitter-roberta-base-sentiment-latest were not used when initializing RobertaForSequenceClassification: ['roberta.pooler.dense.bias', 'roberta.pooler.dense.weight']\n",
            "- This IS expected if you are initializing RobertaForSequenceClassification from the checkpoint of a model trained on another task or with another architecture (e.g. initializing a BertForSequenceClassification model from a BertForPreTraining model).\n",
            "- This IS NOT expected if you are initializing RobertaForSequenceClassification from the checkpoint of a model that you expect to be exactly identical (initializing a BertForSequenceClassification model from a BertForSequenceClassification model).\n"
          ]
        }
      ],
      "source": [
        "tokenizer = AutoTokenizer.from_pretrained(model_path)\n",
        "config = AutoConfig.from_pretrained(model_path)\n",
        "model = AutoModelForSequenceClassification.from_pretrained(model_path)"
      ]
    },
    {
      "cell_type": "code",
      "execution_count": null,
      "metadata": {
        "id": "mhH1XNCUoFtI"
      },
      "outputs": [],
      "source": [
        "text = \"Covid cases are increasing fast!\""
      ]
    },
    {
      "cell_type": "code",
      "execution_count": null,
      "metadata": {
        "id": "zYa0OWNVoLip"
      },
      "outputs": [],
      "source": [
        "def apply_sentiment_analysis(text):\n",
        "    encoded_input = tokenizer(text, return_tensors='pt')\n",
        "    output = model(**encoded_input)\n",
        "    scores = output[0][0].detach().numpy()\n",
        "    scores = np.exp(scores) / np.exp(scores).sum()\n",
        "    ranking = np.argsort(scores)\n",
        "    ranking = ranking[::-1]\n",
        "    label = config.id2label[ranking[0]]\n",
        "    score = scores[ranking[0]]\n",
        "    return label, score"
      ]
    },
    {
      "cell_type": "code",
      "execution_count": null,
      "metadata": {
        "colab": {
          "base_uri": "https://localhost:8080/"
        },
        "id": "JMN4-62-pN2y",
        "outputId": "2a183c4c-9459-478a-c998-ac2bc257c679"
      },
      "outputs": [
        {
          "name": "stdout",
          "output_type": "stream",
          "text": [
            "negative, 0.7235763072967529\n"
          ]
        }
      ],
      "source": [
        "label, score = apply_sentiment_analysis(text)\n",
        "print(f\"{label}, {score}\")"
      ]
    },
    {
      "cell_type": "code",
      "execution_count": null,
      "metadata": {
        "id": "zWl0NocOqSUB"
      },
      "outputs": [],
      "source": [
        "sentimentDf = df[['videoId','textOriginal','authorChannelId', 'likeCount', 'publishedAt', 'updatedAt', 'commentId']]"
      ]
    },
    {
      "cell_type": "code",
      "execution_count": null,
      "metadata": {
        "id": "V63NxhtOsCHo"
      },
      "outputs": [],
      "source": [
        "sentimentDf2 = sentimentDf.head(5000)"
      ]
    },
    {
      "cell_type": "code",
      "execution_count": null,
      "metadata": {
        "colab": {
          "base_uri": "https://localhost:8080/"
        },
        "id": "EEivkoUNsROo",
        "outputId": "b0e81f87-1b88-487d-8892-63da778b8fa1"
      },
      "outputs": [
        {
          "data": {
            "text/plain": [
              "(5000, 7)"
            ]
          },
          "execution_count": 76,
          "metadata": {},
          "output_type": "execute_result"
        }
      ],
      "source": [
        "sentimentDf2.shape"
      ]
    },
    {
      "cell_type": "code",
      "execution_count": null,
      "metadata": {
        "colab": {
          "base_uri": "https://localhost:8080/"
        },
        "id": "gi8xtFtXswfU",
        "outputId": "5a53f716-a990-4065-d124-78477eb146b9"
      },
      "outputs": [
        {
          "name": "stderr",
          "output_type": "stream",
          "text": [
            "<ipython-input-77-11ed32de50ef>:1: SettingWithCopyWarning: \n",
            "A value is trying to be set on a copy of a slice from a DataFrame.\n",
            "Try using .loc[row_indexer,col_indexer] = value instead\n",
            "\n",
            "See the caveats in the documentation: https://pandas.pydata.org/pandas-docs/stable/user_guide/indexing.html#returning-a-view-versus-a-copy\n",
            "  sentimentDf2['label'] = \"\"\n",
            "<ipython-input-77-11ed32de50ef>:2: SettingWithCopyWarning: \n",
            "A value is trying to be set on a copy of a slice from a DataFrame.\n",
            "Try using .loc[row_indexer,col_indexer] = value instead\n",
            "\n",
            "See the caveats in the documentation: https://pandas.pydata.org/pandas-docs/stable/user_guide/indexing.html#returning-a-view-versus-a-copy\n",
            "  sentimentDf2['score'] = 0.0\n"
          ]
        }
      ],
      "source": [
        "sentimentDf2['label'] = \"\"\n",
        "sentimentDf2['score'] = 0.0"
      ]
    },
    {
      "cell_type": "code",
      "execution_count": null,
      "metadata": {
        "colab": {
          "base_uri": "https://localhost:8080/",
          "height": 337
        },
        "id": "phh2AX9gs3zk",
        "outputId": "a25e9e72-1274-4a54-bf91-6f43bcafe899"
      },
      "outputs": [
        {
          "data": {
            "text/html": [
              "\n",
              "\n",
              "  <div id=\"df-d03f23ea-74c2-47a2-afd7-1cf06fe44f26\">\n",
              "    <div class=\"colab-df-container\">\n",
              "      <div>\n",
              "<style scoped>\n",
              "    .dataframe tbody tr th:only-of-type {\n",
              "        vertical-align: middle;\n",
              "    }\n",
              "\n",
              "    .dataframe tbody tr th {\n",
              "        vertical-align: top;\n",
              "    }\n",
              "\n",
              "    .dataframe thead th {\n",
              "        text-align: right;\n",
              "    }\n",
              "</style>\n",
              "<table border=\"1\" class=\"dataframe\">\n",
              "  <thead>\n",
              "    <tr style=\"text-align: right;\">\n",
              "      <th></th>\n",
              "      <th>videoId</th>\n",
              "      <th>textOriginal</th>\n",
              "      <th>authorChannelId</th>\n",
              "      <th>likeCount</th>\n",
              "      <th>publishedAt</th>\n",
              "      <th>updatedAt</th>\n",
              "      <th>commentId</th>\n",
              "      <th>label</th>\n",
              "      <th>score</th>\n",
              "    </tr>\n",
              "  </thead>\n",
              "  <tbody>\n",
              "    <tr>\n",
              "      <th>0</th>\n",
              "      <td>EBOKYsWUhvI</td>\n",
              "      <td>Dub maro jaato 😢😢.\\nTumse tumare ladkiya nhi b...</td>\n",
              "      <td>{'value': 'UC5G8fjqoiFIqHpKyVeOTsFg'}</td>\n",
              "      <td>0</td>\n",
              "      <td>2023-07-06T07:04:02Z</td>\n",
              "      <td>2023-07-06T07:04:02Z</td>\n",
              "      <td>UgwbyvIkkAhUdaCFpcp4AaABAg</td>\n",
              "      <td></td>\n",
              "      <td>0.0</td>\n",
              "    </tr>\n",
              "    <tr>\n",
              "      <th>1</th>\n",
              "      <td>EBOKYsWUhvI</td>\n",
              "      <td>Haar gye bechare</td>\n",
              "      <td>{'value': 'UCsMGRdH3YHrbs21NOraRuyQ'}</td>\n",
              "      <td>0</td>\n",
              "      <td>2023-07-03T22:21:37Z</td>\n",
              "      <td>2023-07-03T22:21:37Z</td>\n",
              "      <td>Ugyz3OwSXamho91-8I94AaABAg</td>\n",
              "      <td></td>\n",
              "      <td>0.0</td>\n",
              "    </tr>\n",
              "    <tr>\n",
              "      <th>2</th>\n",
              "      <td>EBOKYsWUhvI</td>\n",
              "      <td>Dhamki mili pahalwano ko aur sab manage kr liy...</td>\n",
              "      <td>{'value': 'UC_dWuNh6zydTHIRr6hi3Omg'}</td>\n",
              "      <td>0</td>\n",
              "      <td>2023-07-03T05:06:33Z</td>\n",
              "      <td>2023-07-03T05:06:33Z</td>\n",
              "      <td>Ugyphs1TT1Yoj7MZBVJ4AaABAg</td>\n",
              "      <td></td>\n",
              "      <td>0.0</td>\n",
              "    </tr>\n",
              "    <tr>\n",
              "      <th>3</th>\n",
              "      <td>EBOKYsWUhvI</td>\n",
              "      <td>Jaato pr ye boj rhega ki vo apni hi vyavstha s...</td>\n",
              "      <td>{'value': 'UCVdGObpHM-IMHB_b7_K-7rA'}</td>\n",
              "      <td>1</td>\n",
              "      <td>2023-07-02T03:39:50Z</td>\n",
              "      <td>2023-07-02T03:39:50Z</td>\n",
              "      <td>UgwnIxpuFAcKsEzffBp4AaABAg</td>\n",
              "      <td></td>\n",
              "      <td>0.0</td>\n",
              "    </tr>\n",
              "    <tr>\n",
              "      <th>4</th>\n",
              "      <td>EBOKYsWUhvI</td>\n",
              "      <td>Pahlwan jante h kuch nhi kr payenge uska</td>\n",
              "      <td>{'value': 'UCRkcewHFhxE5KfLHrLx0wpA'}</td>\n",
              "      <td>0</td>\n",
              "      <td>2023-06-28T15:10:36Z</td>\n",
              "      <td>2023-06-28T15:10:36Z</td>\n",
              "      <td>UgxjuOlDigsmuDu53J54AaABAg</td>\n",
              "      <td></td>\n",
              "      <td>0.0</td>\n",
              "    </tr>\n",
              "  </tbody>\n",
              "</table>\n",
              "</div>\n",
              "      <button class=\"colab-df-convert\" onclick=\"convertToInteractive('df-d03f23ea-74c2-47a2-afd7-1cf06fe44f26')\"\n",
              "              title=\"Convert this dataframe to an interactive table.\"\n",
              "              style=\"display:none;\">\n",
              "\n",
              "  <svg xmlns=\"http://www.w3.org/2000/svg\" height=\"24px\"viewBox=\"0 0 24 24\"\n",
              "       width=\"24px\">\n",
              "    <path d=\"M0 0h24v24H0V0z\" fill=\"none\"/>\n",
              "    <path d=\"M18.56 5.44l.94 2.06.94-2.06 2.06-.94-2.06-.94-.94-2.06-.94 2.06-2.06.94zm-11 1L8.5 8.5l.94-2.06 2.06-.94-2.06-.94L8.5 2.5l-.94 2.06-2.06.94zm10 10l.94 2.06.94-2.06 2.06-.94-2.06-.94-.94-2.06-.94 2.06-2.06.94z\"/><path d=\"M17.41 7.96l-1.37-1.37c-.4-.4-.92-.59-1.43-.59-.52 0-1.04.2-1.43.59L10.3 9.45l-7.72 7.72c-.78.78-.78 2.05 0 2.83L4 21.41c.39.39.9.59 1.41.59.51 0 1.02-.2 1.41-.59l7.78-7.78 2.81-2.81c.8-.78.8-2.07 0-2.86zM5.41 20L4 18.59l7.72-7.72 1.47 1.35L5.41 20z\"/>\n",
              "  </svg>\n",
              "      </button>\n",
              "\n",
              "\n",
              "\n",
              "    <div id=\"df-1484ebfc-8b6c-4614-82e1-7499f62acc41\">\n",
              "      <button class=\"colab-df-quickchart\" onclick=\"quickchart('df-1484ebfc-8b6c-4614-82e1-7499f62acc41')\"\n",
              "              title=\"Suggest charts.\"\n",
              "              style=\"display:none;\">\n",
              "\n",
              "<svg xmlns=\"http://www.w3.org/2000/svg\" height=\"24px\"viewBox=\"0 0 24 24\"\n",
              "     width=\"24px\">\n",
              "    <g>\n",
              "        <path d=\"M19 3H5c-1.1 0-2 .9-2 2v14c0 1.1.9 2 2 2h14c1.1 0 2-.9 2-2V5c0-1.1-.9-2-2-2zM9 17H7v-7h2v7zm4 0h-2V7h2v10zm4 0h-2v-4h2v4z\"/>\n",
              "    </g>\n",
              "</svg>\n",
              "      </button>\n",
              "    </div>\n",
              "\n",
              "<style>\n",
              "  .colab-df-quickchart {\n",
              "    background-color: #E8F0FE;\n",
              "    border: none;\n",
              "    border-radius: 50%;\n",
              "    cursor: pointer;\n",
              "    display: none;\n",
              "    fill: #1967D2;\n",
              "    height: 32px;\n",
              "    padding: 0 0 0 0;\n",
              "    width: 32px;\n",
              "  }\n",
              "\n",
              "  .colab-df-quickchart:hover {\n",
              "    background-color: #E2EBFA;\n",
              "    box-shadow: 0px 1px 2px rgba(60, 64, 67, 0.3), 0px 1px 3px 1px rgba(60, 64, 67, 0.15);\n",
              "    fill: #174EA6;\n",
              "  }\n",
              "\n",
              "  [theme=dark] .colab-df-quickchart {\n",
              "    background-color: #3B4455;\n",
              "    fill: #D2E3FC;\n",
              "  }\n",
              "\n",
              "  [theme=dark] .colab-df-quickchart:hover {\n",
              "    background-color: #434B5C;\n",
              "    box-shadow: 0px 1px 3px 1px rgba(0, 0, 0, 0.15);\n",
              "    filter: drop-shadow(0px 1px 2px rgba(0, 0, 0, 0.3));\n",
              "    fill: #FFFFFF;\n",
              "  }\n",
              "</style>\n",
              "\n",
              "    <script>\n",
              "      async function quickchart(key) {\n",
              "        const containerElement = document.querySelector('#' + key);\n",
              "        const charts = await google.colab.kernel.invokeFunction(\n",
              "            'suggestCharts', [key], {});\n",
              "      }\n",
              "    </script>\n",
              "\n",
              "      <script>\n",
              "\n",
              "function displayQuickchartButton(domScope) {\n",
              "  let quickchartButtonEl =\n",
              "    domScope.querySelector('#df-1484ebfc-8b6c-4614-82e1-7499f62acc41 button.colab-df-quickchart');\n",
              "  quickchartButtonEl.style.display =\n",
              "    google.colab.kernel.accessAllowed ? 'block' : 'none';\n",
              "}\n",
              "\n",
              "        displayQuickchartButton(document);\n",
              "      </script>\n",
              "      <style>\n",
              "    .colab-df-container {\n",
              "      display:flex;\n",
              "      flex-wrap:wrap;\n",
              "      gap: 12px;\n",
              "    }\n",
              "\n",
              "    .colab-df-convert {\n",
              "      background-color: #E8F0FE;\n",
              "      border: none;\n",
              "      border-radius: 50%;\n",
              "      cursor: pointer;\n",
              "      display: none;\n",
              "      fill: #1967D2;\n",
              "      height: 32px;\n",
              "      padding: 0 0 0 0;\n",
              "      width: 32px;\n",
              "    }\n",
              "\n",
              "    .colab-df-convert:hover {\n",
              "      background-color: #E2EBFA;\n",
              "      box-shadow: 0px 1px 2px rgba(60, 64, 67, 0.3), 0px 1px 3px 1px rgba(60, 64, 67, 0.15);\n",
              "      fill: #174EA6;\n",
              "    }\n",
              "\n",
              "    [theme=dark] .colab-df-convert {\n",
              "      background-color: #3B4455;\n",
              "      fill: #D2E3FC;\n",
              "    }\n",
              "\n",
              "    [theme=dark] .colab-df-convert:hover {\n",
              "      background-color: #434B5C;\n",
              "      box-shadow: 0px 1px 3px 1px rgba(0, 0, 0, 0.15);\n",
              "      filter: drop-shadow(0px 1px 2px rgba(0, 0, 0, 0.3));\n",
              "      fill: #FFFFFF;\n",
              "    }\n",
              "  </style>\n",
              "\n",
              "      <script>\n",
              "        const buttonEl =\n",
              "          document.querySelector('#df-d03f23ea-74c2-47a2-afd7-1cf06fe44f26 button.colab-df-convert');\n",
              "        buttonEl.style.display =\n",
              "          google.colab.kernel.accessAllowed ? 'block' : 'none';\n",
              "\n",
              "        async function convertToInteractive(key) {\n",
              "          const element = document.querySelector('#df-d03f23ea-74c2-47a2-afd7-1cf06fe44f26');\n",
              "          const dataTable =\n",
              "            await google.colab.kernel.invokeFunction('convertToInteractive',\n",
              "                                                     [key], {});\n",
              "          if (!dataTable) return;\n",
              "\n",
              "          const docLinkHtml = 'Like what you see? Visit the ' +\n",
              "            '<a target=\"_blank\" href=https://colab.research.google.com/notebooks/data_table.ipynb>data table notebook</a>'\n",
              "            + ' to learn more about interactive tables.';\n",
              "          element.innerHTML = '';\n",
              "          dataTable['output_type'] = 'display_data';\n",
              "          await google.colab.output.renderOutput(dataTable, element);\n",
              "          const docLink = document.createElement('div');\n",
              "          docLink.innerHTML = docLinkHtml;\n",
              "          element.appendChild(docLink);\n",
              "        }\n",
              "      </script>\n",
              "    </div>\n",
              "  </div>\n"
            ],
            "text/plain": [
              "       videoId                                       textOriginal  \\\n",
              "0  EBOKYsWUhvI  Dub maro jaato 😢😢.\\nTumse tumare ladkiya nhi b...   \n",
              "1  EBOKYsWUhvI                                   Haar gye bechare   \n",
              "2  EBOKYsWUhvI  Dhamki mili pahalwano ko aur sab manage kr liy...   \n",
              "3  EBOKYsWUhvI  Jaato pr ye boj rhega ki vo apni hi vyavstha s...   \n",
              "4  EBOKYsWUhvI           Pahlwan jante h kuch nhi kr payenge uska   \n",
              "\n",
              "                         authorChannelId likeCount           publishedAt  \\\n",
              "0  {'value': 'UC5G8fjqoiFIqHpKyVeOTsFg'}         0  2023-07-06T07:04:02Z   \n",
              "1  {'value': 'UCsMGRdH3YHrbs21NOraRuyQ'}         0  2023-07-03T22:21:37Z   \n",
              "2  {'value': 'UC_dWuNh6zydTHIRr6hi3Omg'}         0  2023-07-03T05:06:33Z   \n",
              "3  {'value': 'UCVdGObpHM-IMHB_b7_K-7rA'}         1  2023-07-02T03:39:50Z   \n",
              "4  {'value': 'UCRkcewHFhxE5KfLHrLx0wpA'}         0  2023-06-28T15:10:36Z   \n",
              "\n",
              "              updatedAt                   commentId label  score  \n",
              "0  2023-07-06T07:04:02Z  UgwbyvIkkAhUdaCFpcp4AaABAg          0.0  \n",
              "1  2023-07-03T22:21:37Z  Ugyz3OwSXamho91-8I94AaABAg          0.0  \n",
              "2  2023-07-03T05:06:33Z  Ugyphs1TT1Yoj7MZBVJ4AaABAg          0.0  \n",
              "3  2023-07-02T03:39:50Z  UgwnIxpuFAcKsEzffBp4AaABAg          0.0  \n",
              "4  2023-06-28T15:10:36Z  UgxjuOlDigsmuDu53J54AaABAg          0.0  "
            ]
          },
          "execution_count": 78,
          "metadata": {},
          "output_type": "execute_result"
        }
      ],
      "source": [
        "sentimentDf2.head()"
      ]
    },
    {
      "cell_type": "code",
      "execution_count": null,
      "metadata": {
        "colab": {
          "base_uri": "https://localhost:8080/"
        },
        "id": "7aLfC5W7sSmo",
        "outputId": "00a11d59-e1be-4e38-bb72-3545731896c3"
      },
      "outputs": [
        {
          "name": "stdout",
          "output_type": "stream",
          "text": [
            "CPU times: user 4 µs, sys: 0 ns, total: 4 µs\n",
            "Wall time: 7.39 µs\n"
          ]
        }
      ],
      "source": [
        "%%time\n",
        "# for index, row in sentimentDf2.iterrows():\n",
        "#     text = row['textOriginal']\n",
        "#     label, score = apply_sentiment_analysis(text)\n",
        "#     row['label'] = label\n",
        "#     row['score'] = score"
      ]
    },
    {
      "cell_type": "code",
      "execution_count": null,
      "metadata": {
        "colab": {
          "base_uri": "https://localhost:8080/",
          "height": 337
        },
        "id": "3hgSHVFStKK5",
        "outputId": "a0cb94bf-d068-4123-f51d-1d22a8435eb5"
      },
      "outputs": [
        {
          "data": {
            "text/html": [
              "\n",
              "\n",
              "  <div id=\"df-2c9cef55-a3ed-41ac-adcb-0c99077a0bfe\">\n",
              "    <div class=\"colab-df-container\">\n",
              "      <div>\n",
              "<style scoped>\n",
              "    .dataframe tbody tr th:only-of-type {\n",
              "        vertical-align: middle;\n",
              "    }\n",
              "\n",
              "    .dataframe tbody tr th {\n",
              "        vertical-align: top;\n",
              "    }\n",
              "\n",
              "    .dataframe thead th {\n",
              "        text-align: right;\n",
              "    }\n",
              "</style>\n",
              "<table border=\"1\" class=\"dataframe\">\n",
              "  <thead>\n",
              "    <tr style=\"text-align: right;\">\n",
              "      <th></th>\n",
              "      <th>videoId</th>\n",
              "      <th>textOriginal</th>\n",
              "      <th>authorChannelId</th>\n",
              "      <th>likeCount</th>\n",
              "      <th>publishedAt</th>\n",
              "      <th>updatedAt</th>\n",
              "      <th>commentId</th>\n",
              "      <th>label</th>\n",
              "      <th>score</th>\n",
              "    </tr>\n",
              "  </thead>\n",
              "  <tbody>\n",
              "    <tr>\n",
              "      <th>0</th>\n",
              "      <td>EBOKYsWUhvI</td>\n",
              "      <td>Dub maro jaato 😢😢.\\nTumse tumare ladkiya nhi b...</td>\n",
              "      <td>{'value': 'UC5G8fjqoiFIqHpKyVeOTsFg'}</td>\n",
              "      <td>0</td>\n",
              "      <td>2023-07-06T07:04:02Z</td>\n",
              "      <td>2023-07-06T07:04:02Z</td>\n",
              "      <td>UgwbyvIkkAhUdaCFpcp4AaABAg</td>\n",
              "      <td></td>\n",
              "      <td>0.0</td>\n",
              "    </tr>\n",
              "    <tr>\n",
              "      <th>1</th>\n",
              "      <td>EBOKYsWUhvI</td>\n",
              "      <td>Haar gye bechare</td>\n",
              "      <td>{'value': 'UCsMGRdH3YHrbs21NOraRuyQ'}</td>\n",
              "      <td>0</td>\n",
              "      <td>2023-07-03T22:21:37Z</td>\n",
              "      <td>2023-07-03T22:21:37Z</td>\n",
              "      <td>Ugyz3OwSXamho91-8I94AaABAg</td>\n",
              "      <td></td>\n",
              "      <td>0.0</td>\n",
              "    </tr>\n",
              "    <tr>\n",
              "      <th>2</th>\n",
              "      <td>EBOKYsWUhvI</td>\n",
              "      <td>Dhamki mili pahalwano ko aur sab manage kr liy...</td>\n",
              "      <td>{'value': 'UC_dWuNh6zydTHIRr6hi3Omg'}</td>\n",
              "      <td>0</td>\n",
              "      <td>2023-07-03T05:06:33Z</td>\n",
              "      <td>2023-07-03T05:06:33Z</td>\n",
              "      <td>Ugyphs1TT1Yoj7MZBVJ4AaABAg</td>\n",
              "      <td></td>\n",
              "      <td>0.0</td>\n",
              "    </tr>\n",
              "    <tr>\n",
              "      <th>3</th>\n",
              "      <td>EBOKYsWUhvI</td>\n",
              "      <td>Jaato pr ye boj rhega ki vo apni hi vyavstha s...</td>\n",
              "      <td>{'value': 'UCVdGObpHM-IMHB_b7_K-7rA'}</td>\n",
              "      <td>1</td>\n",
              "      <td>2023-07-02T03:39:50Z</td>\n",
              "      <td>2023-07-02T03:39:50Z</td>\n",
              "      <td>UgwnIxpuFAcKsEzffBp4AaABAg</td>\n",
              "      <td></td>\n",
              "      <td>0.0</td>\n",
              "    </tr>\n",
              "    <tr>\n",
              "      <th>4</th>\n",
              "      <td>EBOKYsWUhvI</td>\n",
              "      <td>Pahlwan jante h kuch nhi kr payenge uska</td>\n",
              "      <td>{'value': 'UCRkcewHFhxE5KfLHrLx0wpA'}</td>\n",
              "      <td>0</td>\n",
              "      <td>2023-06-28T15:10:36Z</td>\n",
              "      <td>2023-06-28T15:10:36Z</td>\n",
              "      <td>UgxjuOlDigsmuDu53J54AaABAg</td>\n",
              "      <td></td>\n",
              "      <td>0.0</td>\n",
              "    </tr>\n",
              "  </tbody>\n",
              "</table>\n",
              "</div>\n",
              "      <button class=\"colab-df-convert\" onclick=\"convertToInteractive('df-2c9cef55-a3ed-41ac-adcb-0c99077a0bfe')\"\n",
              "              title=\"Convert this dataframe to an interactive table.\"\n",
              "              style=\"display:none;\">\n",
              "\n",
              "  <svg xmlns=\"http://www.w3.org/2000/svg\" height=\"24px\"viewBox=\"0 0 24 24\"\n",
              "       width=\"24px\">\n",
              "    <path d=\"M0 0h24v24H0V0z\" fill=\"none\"/>\n",
              "    <path d=\"M18.56 5.44l.94 2.06.94-2.06 2.06-.94-2.06-.94-.94-2.06-.94 2.06-2.06.94zm-11 1L8.5 8.5l.94-2.06 2.06-.94-2.06-.94L8.5 2.5l-.94 2.06-2.06.94zm10 10l.94 2.06.94-2.06 2.06-.94-2.06-.94-.94-2.06-.94 2.06-2.06.94z\"/><path d=\"M17.41 7.96l-1.37-1.37c-.4-.4-.92-.59-1.43-.59-.52 0-1.04.2-1.43.59L10.3 9.45l-7.72 7.72c-.78.78-.78 2.05 0 2.83L4 21.41c.39.39.9.59 1.41.59.51 0 1.02-.2 1.41-.59l7.78-7.78 2.81-2.81c.8-.78.8-2.07 0-2.86zM5.41 20L4 18.59l7.72-7.72 1.47 1.35L5.41 20z\"/>\n",
              "  </svg>\n",
              "      </button>\n",
              "\n",
              "\n",
              "\n",
              "    <div id=\"df-43a97a92-4055-4238-aa11-249f2634222c\">\n",
              "      <button class=\"colab-df-quickchart\" onclick=\"quickchart('df-43a97a92-4055-4238-aa11-249f2634222c')\"\n",
              "              title=\"Suggest charts.\"\n",
              "              style=\"display:none;\">\n",
              "\n",
              "<svg xmlns=\"http://www.w3.org/2000/svg\" height=\"24px\"viewBox=\"0 0 24 24\"\n",
              "     width=\"24px\">\n",
              "    <g>\n",
              "        <path d=\"M19 3H5c-1.1 0-2 .9-2 2v14c0 1.1.9 2 2 2h14c1.1 0 2-.9 2-2V5c0-1.1-.9-2-2-2zM9 17H7v-7h2v7zm4 0h-2V7h2v10zm4 0h-2v-4h2v4z\"/>\n",
              "    </g>\n",
              "</svg>\n",
              "      </button>\n",
              "    </div>\n",
              "\n",
              "<style>\n",
              "  .colab-df-quickchart {\n",
              "    background-color: #E8F0FE;\n",
              "    border: none;\n",
              "    border-radius: 50%;\n",
              "    cursor: pointer;\n",
              "    display: none;\n",
              "    fill: #1967D2;\n",
              "    height: 32px;\n",
              "    padding: 0 0 0 0;\n",
              "    width: 32px;\n",
              "  }\n",
              "\n",
              "  .colab-df-quickchart:hover {\n",
              "    background-color: #E2EBFA;\n",
              "    box-shadow: 0px 1px 2px rgba(60, 64, 67, 0.3), 0px 1px 3px 1px rgba(60, 64, 67, 0.15);\n",
              "    fill: #174EA6;\n",
              "  }\n",
              "\n",
              "  [theme=dark] .colab-df-quickchart {\n",
              "    background-color: #3B4455;\n",
              "    fill: #D2E3FC;\n",
              "  }\n",
              "\n",
              "  [theme=dark] .colab-df-quickchart:hover {\n",
              "    background-color: #434B5C;\n",
              "    box-shadow: 0px 1px 3px 1px rgba(0, 0, 0, 0.15);\n",
              "    filter: drop-shadow(0px 1px 2px rgba(0, 0, 0, 0.3));\n",
              "    fill: #FFFFFF;\n",
              "  }\n",
              "</style>\n",
              "\n",
              "    <script>\n",
              "      async function quickchart(key) {\n",
              "        const containerElement = document.querySelector('#' + key);\n",
              "        const charts = await google.colab.kernel.invokeFunction(\n",
              "            'suggestCharts', [key], {});\n",
              "      }\n",
              "    </script>\n",
              "\n",
              "      <script>\n",
              "\n",
              "function displayQuickchartButton(domScope) {\n",
              "  let quickchartButtonEl =\n",
              "    domScope.querySelector('#df-43a97a92-4055-4238-aa11-249f2634222c button.colab-df-quickchart');\n",
              "  quickchartButtonEl.style.display =\n",
              "    google.colab.kernel.accessAllowed ? 'block' : 'none';\n",
              "}\n",
              "\n",
              "        displayQuickchartButton(document);\n",
              "      </script>\n",
              "      <style>\n",
              "    .colab-df-container {\n",
              "      display:flex;\n",
              "      flex-wrap:wrap;\n",
              "      gap: 12px;\n",
              "    }\n",
              "\n",
              "    .colab-df-convert {\n",
              "      background-color: #E8F0FE;\n",
              "      border: none;\n",
              "      border-radius: 50%;\n",
              "      cursor: pointer;\n",
              "      display: none;\n",
              "      fill: #1967D2;\n",
              "      height: 32px;\n",
              "      padding: 0 0 0 0;\n",
              "      width: 32px;\n",
              "    }\n",
              "\n",
              "    .colab-df-convert:hover {\n",
              "      background-color: #E2EBFA;\n",
              "      box-shadow: 0px 1px 2px rgba(60, 64, 67, 0.3), 0px 1px 3px 1px rgba(60, 64, 67, 0.15);\n",
              "      fill: #174EA6;\n",
              "    }\n",
              "\n",
              "    [theme=dark] .colab-df-convert {\n",
              "      background-color: #3B4455;\n",
              "      fill: #D2E3FC;\n",
              "    }\n",
              "\n",
              "    [theme=dark] .colab-df-convert:hover {\n",
              "      background-color: #434B5C;\n",
              "      box-shadow: 0px 1px 3px 1px rgba(0, 0, 0, 0.15);\n",
              "      filter: drop-shadow(0px 1px 2px rgba(0, 0, 0, 0.3));\n",
              "      fill: #FFFFFF;\n",
              "    }\n",
              "  </style>\n",
              "\n",
              "      <script>\n",
              "        const buttonEl =\n",
              "          document.querySelector('#df-2c9cef55-a3ed-41ac-adcb-0c99077a0bfe button.colab-df-convert');\n",
              "        buttonEl.style.display =\n",
              "          google.colab.kernel.accessAllowed ? 'block' : 'none';\n",
              "\n",
              "        async function convertToInteractive(key) {\n",
              "          const element = document.querySelector('#df-2c9cef55-a3ed-41ac-adcb-0c99077a0bfe');\n",
              "          const dataTable =\n",
              "            await google.colab.kernel.invokeFunction('convertToInteractive',\n",
              "                                                     [key], {});\n",
              "          if (!dataTable) return;\n",
              "\n",
              "          const docLinkHtml = 'Like what you see? Visit the ' +\n",
              "            '<a target=\"_blank\" href=https://colab.research.google.com/notebooks/data_table.ipynb>data table notebook</a>'\n",
              "            + ' to learn more about interactive tables.';\n",
              "          element.innerHTML = '';\n",
              "          dataTable['output_type'] = 'display_data';\n",
              "          await google.colab.output.renderOutput(dataTable, element);\n",
              "          const docLink = document.createElement('div');\n",
              "          docLink.innerHTML = docLinkHtml;\n",
              "          element.appendChild(docLink);\n",
              "        }\n",
              "      </script>\n",
              "    </div>\n",
              "  </div>\n"
            ],
            "text/plain": [
              "       videoId                                       textOriginal  \\\n",
              "0  EBOKYsWUhvI  Dub maro jaato 😢😢.\\nTumse tumare ladkiya nhi b...   \n",
              "1  EBOKYsWUhvI                                   Haar gye bechare   \n",
              "2  EBOKYsWUhvI  Dhamki mili pahalwano ko aur sab manage kr liy...   \n",
              "3  EBOKYsWUhvI  Jaato pr ye boj rhega ki vo apni hi vyavstha s...   \n",
              "4  EBOKYsWUhvI           Pahlwan jante h kuch nhi kr payenge uska   \n",
              "\n",
              "                         authorChannelId likeCount           publishedAt  \\\n",
              "0  {'value': 'UC5G8fjqoiFIqHpKyVeOTsFg'}         0  2023-07-06T07:04:02Z   \n",
              "1  {'value': 'UCsMGRdH3YHrbs21NOraRuyQ'}         0  2023-07-03T22:21:37Z   \n",
              "2  {'value': 'UC_dWuNh6zydTHIRr6hi3Omg'}         0  2023-07-03T05:06:33Z   \n",
              "3  {'value': 'UCVdGObpHM-IMHB_b7_K-7rA'}         1  2023-07-02T03:39:50Z   \n",
              "4  {'value': 'UCRkcewHFhxE5KfLHrLx0wpA'}         0  2023-06-28T15:10:36Z   \n",
              "\n",
              "              updatedAt                   commentId label  score  \n",
              "0  2023-07-06T07:04:02Z  UgwbyvIkkAhUdaCFpcp4AaABAg          0.0  \n",
              "1  2023-07-03T22:21:37Z  Ugyz3OwSXamho91-8I94AaABAg          0.0  \n",
              "2  2023-07-03T05:06:33Z  Ugyphs1TT1Yoj7MZBVJ4AaABAg          0.0  \n",
              "3  2023-07-02T03:39:50Z  UgwnIxpuFAcKsEzffBp4AaABAg          0.0  \n",
              "4  2023-06-28T15:10:36Z  UgxjuOlDigsmuDu53J54AaABAg          0.0  "
            ]
          },
          "execution_count": 80,
          "metadata": {},
          "output_type": "execute_result"
        }
      ],
      "source": [
        "sentimentDf2.head()"
      ]
    },
    {
      "cell_type": "code",
      "execution_count": null,
      "metadata": {
        "id": "V6HriLnJtLbY"
      },
      "outputs": [],
      "source": []
    }
  ],
  "metadata": {
    "colab": {
      "provenance": []
    },
    "kernelspec": {
      "display_name": "Python 3",
      "name": "python3"
    },
    "language_info": {
      "name": "python"
    },
    "widgets": {
      "application/vnd.jupyter.widget-state+json": {
        "00e582f917884371bd90cc0918668a1e": {
          "model_module": "@jupyter-widgets/controls",
          "model_module_version": "1.5.0",
          "model_name": "DescriptionStyleModel",
          "state": {
            "_model_module": "@jupyter-widgets/controls",
            "_model_module_version": "1.5.0",
            "_model_name": "DescriptionStyleModel",
            "_view_count": null,
            "_view_module": "@jupyter-widgets/base",
            "_view_module_version": "1.2.0",
            "_view_name": "StyleView",
            "description_width": ""
          }
        },
        "033cff6bad9e4ccd8db4a329905e66e0": {
          "model_module": "@jupyter-widgets/controls",
          "model_module_version": "1.5.0",
          "model_name": "HTMLModel",
          "state": {
            "_dom_classes": [],
            "_model_module": "@jupyter-widgets/controls",
            "_model_module_version": "1.5.0",
            "_model_name": "HTMLModel",
            "_view_count": null,
            "_view_module": "@jupyter-widgets/controls",
            "_view_module_version": "1.5.0",
            "_view_name": "HTMLView",
            "description": "",
            "description_tooltip": null,
            "layout": "IPY_MODEL_ddaa6a1f78aa43579e784dc14f0a3249",
            "placeholder": "​",
            "style": "IPY_MODEL_10419d035b76467aa5bef0a2c2cc5da9",
            "value": "Downloading (…)olve/main/vocab.json: 100%"
          }
        },
        "05f995c2b35e42cc892e97a2e6c98389": {
          "model_module": "@jupyter-widgets/controls",
          "model_module_version": "1.5.0",
          "model_name": "HTMLModel",
          "state": {
            "_dom_classes": [],
            "_model_module": "@jupyter-widgets/controls",
            "_model_module_version": "1.5.0",
            "_model_name": "HTMLModel",
            "_view_count": null,
            "_view_module": "@jupyter-widgets/controls",
            "_view_module_version": "1.5.0",
            "_view_name": "HTMLView",
            "description": "",
            "description_tooltip": null,
            "layout": "IPY_MODEL_e29fa8b350314d98878a1d06dd81d489",
            "placeholder": "​",
            "style": "IPY_MODEL_08d0422fe122491889760ce0a1259a22",
            "value": " 239/239 [00:00&lt;00:00, 10.0kB/s]"
          }
        },
        "08d0422fe122491889760ce0a1259a22": {
          "model_module": "@jupyter-widgets/controls",
          "model_module_version": "1.5.0",
          "model_name": "DescriptionStyleModel",
          "state": {
            "_model_module": "@jupyter-widgets/controls",
            "_model_module_version": "1.5.0",
            "_model_name": "DescriptionStyleModel",
            "_view_count": null,
            "_view_module": "@jupyter-widgets/base",
            "_view_module_version": "1.2.0",
            "_view_name": "StyleView",
            "description_width": ""
          }
        },
        "10419d035b76467aa5bef0a2c2cc5da9": {
          "model_module": "@jupyter-widgets/controls",
          "model_module_version": "1.5.0",
          "model_name": "DescriptionStyleModel",
          "state": {
            "_model_module": "@jupyter-widgets/controls",
            "_model_module_version": "1.5.0",
            "_model_name": "DescriptionStyleModel",
            "_view_count": null,
            "_view_module": "@jupyter-widgets/base",
            "_view_module_version": "1.2.0",
            "_view_name": "StyleView",
            "description_width": ""
          }
        },
        "2338573d26be494fa5e0955d10809c7c": {
          "model_module": "@jupyter-widgets/controls",
          "model_module_version": "1.5.0",
          "model_name": "FloatProgressModel",
          "state": {
            "_dom_classes": [],
            "_model_module": "@jupyter-widgets/controls",
            "_model_module_version": "1.5.0",
            "_model_name": "FloatProgressModel",
            "_view_count": null,
            "_view_module": "@jupyter-widgets/controls",
            "_view_module_version": "1.5.0",
            "_view_name": "ProgressView",
            "bar_style": "success",
            "description": "",
            "description_tooltip": null,
            "layout": "IPY_MODEL_b19890ab0257403fb602dc6391646e2b",
            "max": 239,
            "min": 0,
            "orientation": "horizontal",
            "style": "IPY_MODEL_82afcc73c43a4622981b08bfc6152945",
            "value": 239
          }
        },
        "26daa33855524a4e8114bfb6928172d5": {
          "model_module": "@jupyter-widgets/controls",
          "model_module_version": "1.5.0",
          "model_name": "HTMLModel",
          "state": {
            "_dom_classes": [],
            "_model_module": "@jupyter-widgets/controls",
            "_model_module_version": "1.5.0",
            "_model_name": "HTMLModel",
            "_view_count": null,
            "_view_module": "@jupyter-widgets/controls",
            "_view_module_version": "1.5.0",
            "_view_name": "HTMLView",
            "description": "",
            "description_tooltip": null,
            "layout": "IPY_MODEL_5c0a09d0e4664600b4ac416682e5cc3c",
            "placeholder": "​",
            "style": "IPY_MODEL_6f8712f0e82746259ded892ffea27d7b",
            "value": "Downloading pytorch_model.bin: 100%"
          }
        },
        "3953604930594f0e8948c82790e6c633": {
          "model_module": "@jupyter-widgets/base",
          "model_module_version": "1.2.0",
          "model_name": "LayoutModel",
          "state": {
            "_model_module": "@jupyter-widgets/base",
            "_model_module_version": "1.2.0",
            "_model_name": "LayoutModel",
            "_view_count": null,
            "_view_module": "@jupyter-widgets/base",
            "_view_module_version": "1.2.0",
            "_view_name": "LayoutView",
            "align_content": null,
            "align_items": null,
            "align_self": null,
            "border": null,
            "bottom": null,
            "display": null,
            "flex": null,
            "flex_flow": null,
            "grid_area": null,
            "grid_auto_columns": null,
            "grid_auto_flow": null,
            "grid_auto_rows": null,
            "grid_column": null,
            "grid_gap": null,
            "grid_row": null,
            "grid_template_areas": null,
            "grid_template_columns": null,
            "grid_template_rows": null,
            "height": null,
            "justify_content": null,
            "justify_items": null,
            "left": null,
            "margin": null,
            "max_height": null,
            "max_width": null,
            "min_height": null,
            "min_width": null,
            "object_fit": null,
            "object_position": null,
            "order": null,
            "overflow": null,
            "overflow_x": null,
            "overflow_y": null,
            "padding": null,
            "right": null,
            "top": null,
            "visibility": null,
            "width": null
          }
        },
        "46c09ea4a5b54bb79da71f1d708b721b": {
          "model_module": "@jupyter-widgets/controls",
          "model_module_version": "1.5.0",
          "model_name": "ProgressStyleModel",
          "state": {
            "_model_module": "@jupyter-widgets/controls",
            "_model_module_version": "1.5.0",
            "_model_name": "ProgressStyleModel",
            "_view_count": null,
            "_view_module": "@jupyter-widgets/base",
            "_view_module_version": "1.2.0",
            "_view_name": "StyleView",
            "bar_color": null,
            "description_width": ""
          }
        },
        "4c7cddf1eaf94196919f5046df81b42a": {
          "model_module": "@jupyter-widgets/base",
          "model_module_version": "1.2.0",
          "model_name": "LayoutModel",
          "state": {
            "_model_module": "@jupyter-widgets/base",
            "_model_module_version": "1.2.0",
            "_model_name": "LayoutModel",
            "_view_count": null,
            "_view_module": "@jupyter-widgets/base",
            "_view_module_version": "1.2.0",
            "_view_name": "LayoutView",
            "align_content": null,
            "align_items": null,
            "align_self": null,
            "border": null,
            "bottom": null,
            "display": null,
            "flex": null,
            "flex_flow": null,
            "grid_area": null,
            "grid_auto_columns": null,
            "grid_auto_flow": null,
            "grid_auto_rows": null,
            "grid_column": null,
            "grid_gap": null,
            "grid_row": null,
            "grid_template_areas": null,
            "grid_template_columns": null,
            "grid_template_rows": null,
            "height": null,
            "justify_content": null,
            "justify_items": null,
            "left": null,
            "margin": null,
            "max_height": null,
            "max_width": null,
            "min_height": null,
            "min_width": null,
            "object_fit": null,
            "object_position": null,
            "order": null,
            "overflow": null,
            "overflow_x": null,
            "overflow_y": null,
            "padding": null,
            "right": null,
            "top": null,
            "visibility": null,
            "width": null
          }
        },
        "51ddd744256b439386f2a00278f3c4ad": {
          "model_module": "@jupyter-widgets/controls",
          "model_module_version": "1.5.0",
          "model_name": "HTMLModel",
          "state": {
            "_dom_classes": [],
            "_model_module": "@jupyter-widgets/controls",
            "_model_module_version": "1.5.0",
            "_model_name": "HTMLModel",
            "_view_count": null,
            "_view_module": "@jupyter-widgets/controls",
            "_view_module_version": "1.5.0",
            "_view_name": "HTMLView",
            "description": "",
            "description_tooltip": null,
            "layout": "IPY_MODEL_3953604930594f0e8948c82790e6c633",
            "placeholder": "​",
            "style": "IPY_MODEL_fa19e912d8e44c3e91db24af5290f5e4",
            "value": "Downloading (…)olve/main/merges.txt: 100%"
          }
        },
        "588a1eb0890840f3a8801146a2dc8d07": {
          "model_module": "@jupyter-widgets/controls",
          "model_module_version": "1.5.0",
          "model_name": "FloatProgressModel",
          "state": {
            "_dom_classes": [],
            "_model_module": "@jupyter-widgets/controls",
            "_model_module_version": "1.5.0",
            "_model_name": "FloatProgressModel",
            "_view_count": null,
            "_view_module": "@jupyter-widgets/controls",
            "_view_module_version": "1.5.0",
            "_view_name": "ProgressView",
            "bar_style": "success",
            "description": "",
            "description_tooltip": null,
            "layout": "IPY_MODEL_d48fd50c904b4c579d74e62d78a11ceb",
            "max": 456318,
            "min": 0,
            "orientation": "horizontal",
            "style": "IPY_MODEL_46c09ea4a5b54bb79da71f1d708b721b",
            "value": 456318
          }
        },
        "5c0a09d0e4664600b4ac416682e5cc3c": {
          "model_module": "@jupyter-widgets/base",
          "model_module_version": "1.2.0",
          "model_name": "LayoutModel",
          "state": {
            "_model_module": "@jupyter-widgets/base",
            "_model_module_version": "1.2.0",
            "_model_name": "LayoutModel",
            "_view_count": null,
            "_view_module": "@jupyter-widgets/base",
            "_view_module_version": "1.2.0",
            "_view_name": "LayoutView",
            "align_content": null,
            "align_items": null,
            "align_self": null,
            "border": null,
            "bottom": null,
            "display": null,
            "flex": null,
            "flex_flow": null,
            "grid_area": null,
            "grid_auto_columns": null,
            "grid_auto_flow": null,
            "grid_auto_rows": null,
            "grid_column": null,
            "grid_gap": null,
            "grid_row": null,
            "grid_template_areas": null,
            "grid_template_columns": null,
            "grid_template_rows": null,
            "height": null,
            "justify_content": null,
            "justify_items": null,
            "left": null,
            "margin": null,
            "max_height": null,
            "max_width": null,
            "min_height": null,
            "min_width": null,
            "object_fit": null,
            "object_position": null,
            "order": null,
            "overflow": null,
            "overflow_x": null,
            "overflow_y": null,
            "padding": null,
            "right": null,
            "top": null,
            "visibility": null,
            "width": null
          }
        },
        "5e11a9404a20459c90b513233b7059cd": {
          "model_module": "@jupyter-widgets/controls",
          "model_module_version": "1.5.0",
          "model_name": "ProgressStyleModel",
          "state": {
            "_model_module": "@jupyter-widgets/controls",
            "_model_module_version": "1.5.0",
            "_model_name": "ProgressStyleModel",
            "_view_count": null,
            "_view_module": "@jupyter-widgets/base",
            "_view_module_version": "1.2.0",
            "_view_name": "StyleView",
            "bar_color": null,
            "description_width": ""
          }
        },
        "5f5762b621814203817cd7a1011056a7": {
          "model_module": "@jupyter-widgets/controls",
          "model_module_version": "1.5.0",
          "model_name": "DescriptionStyleModel",
          "state": {
            "_model_module": "@jupyter-widgets/controls",
            "_model_module_version": "1.5.0",
            "_model_name": "DescriptionStyleModel",
            "_view_count": null,
            "_view_module": "@jupyter-widgets/base",
            "_view_module_version": "1.2.0",
            "_view_name": "StyleView",
            "description_width": ""
          }
        },
        "6144124b61f54b10a939deba650a5916": {
          "model_module": "@jupyter-widgets/controls",
          "model_module_version": "1.5.0",
          "model_name": "FloatProgressModel",
          "state": {
            "_dom_classes": [],
            "_model_module": "@jupyter-widgets/controls",
            "_model_module_version": "1.5.0",
            "_model_name": "FloatProgressModel",
            "_view_count": null,
            "_view_module": "@jupyter-widgets/controls",
            "_view_module_version": "1.5.0",
            "_view_name": "ProgressView",
            "bar_style": "success",
            "description": "",
            "description_tooltip": null,
            "layout": "IPY_MODEL_b46c5b954203479791ce2e77ec1362ea",
            "max": 929,
            "min": 0,
            "orientation": "horizontal",
            "style": "IPY_MODEL_ffb355cf6de146f3b35ebd9a4596e030",
            "value": 929
          }
        },
        "653f75f5f7494e1b8e533e06af36f730": {
          "model_module": "@jupyter-widgets/controls",
          "model_module_version": "1.5.0",
          "model_name": "HBoxModel",
          "state": {
            "_dom_classes": [],
            "_model_module": "@jupyter-widgets/controls",
            "_model_module_version": "1.5.0",
            "_model_name": "HBoxModel",
            "_view_count": null,
            "_view_module": "@jupyter-widgets/controls",
            "_view_module_version": "1.5.0",
            "_view_name": "HBoxView",
            "box_style": "",
            "children": [
              "IPY_MODEL_51ddd744256b439386f2a00278f3c4ad",
              "IPY_MODEL_588a1eb0890840f3a8801146a2dc8d07",
              "IPY_MODEL_6662cafd355b4789b5b438202d3b31b0"
            ],
            "layout": "IPY_MODEL_718aa40bf13b48c69aaa7d1422c5735b"
          }
        },
        "6662cafd355b4789b5b438202d3b31b0": {
          "model_module": "@jupyter-widgets/controls",
          "model_module_version": "1.5.0",
          "model_name": "HTMLModel",
          "state": {
            "_dom_classes": [],
            "_model_module": "@jupyter-widgets/controls",
            "_model_module_version": "1.5.0",
            "_model_name": "HTMLModel",
            "_view_count": null,
            "_view_module": "@jupyter-widgets/controls",
            "_view_module_version": "1.5.0",
            "_view_name": "HTMLView",
            "description": "",
            "description_tooltip": null,
            "layout": "IPY_MODEL_77c04f1a9517465abd0096a97a86379a",
            "placeholder": "​",
            "style": "IPY_MODEL_c8665c9975a3491bb304cbfca2f2db12",
            "value": " 456k/456k [00:00&lt;00:00, 7.09MB/s]"
          }
        },
        "6a14541d321a4920bb93e96e9cf1f3a1": {
          "model_module": "@jupyter-widgets/base",
          "model_module_version": "1.2.0",
          "model_name": "LayoutModel",
          "state": {
            "_model_module": "@jupyter-widgets/base",
            "_model_module_version": "1.2.0",
            "_model_name": "LayoutModel",
            "_view_count": null,
            "_view_module": "@jupyter-widgets/base",
            "_view_module_version": "1.2.0",
            "_view_name": "LayoutView",
            "align_content": null,
            "align_items": null,
            "align_self": null,
            "border": null,
            "bottom": null,
            "display": null,
            "flex": null,
            "flex_flow": null,
            "grid_area": null,
            "grid_auto_columns": null,
            "grid_auto_flow": null,
            "grid_auto_rows": null,
            "grid_column": null,
            "grid_gap": null,
            "grid_row": null,
            "grid_template_areas": null,
            "grid_template_columns": null,
            "grid_template_rows": null,
            "height": null,
            "justify_content": null,
            "justify_items": null,
            "left": null,
            "margin": null,
            "max_height": null,
            "max_width": null,
            "min_height": null,
            "min_width": null,
            "object_fit": null,
            "object_position": null,
            "order": null,
            "overflow": null,
            "overflow_x": null,
            "overflow_y": null,
            "padding": null,
            "right": null,
            "top": null,
            "visibility": null,
            "width": null
          }
        },
        "6c6960ce8b8b4fa288da51e3ab93accd": {
          "model_module": "@jupyter-widgets/base",
          "model_module_version": "1.2.0",
          "model_name": "LayoutModel",
          "state": {
            "_model_module": "@jupyter-widgets/base",
            "_model_module_version": "1.2.0",
            "_model_name": "LayoutModel",
            "_view_count": null,
            "_view_module": "@jupyter-widgets/base",
            "_view_module_version": "1.2.0",
            "_view_name": "LayoutView",
            "align_content": null,
            "align_items": null,
            "align_self": null,
            "border": null,
            "bottom": null,
            "display": null,
            "flex": null,
            "flex_flow": null,
            "grid_area": null,
            "grid_auto_columns": null,
            "grid_auto_flow": null,
            "grid_auto_rows": null,
            "grid_column": null,
            "grid_gap": null,
            "grid_row": null,
            "grid_template_areas": null,
            "grid_template_columns": null,
            "grid_template_rows": null,
            "height": null,
            "justify_content": null,
            "justify_items": null,
            "left": null,
            "margin": null,
            "max_height": null,
            "max_width": null,
            "min_height": null,
            "min_width": null,
            "object_fit": null,
            "object_position": null,
            "order": null,
            "overflow": null,
            "overflow_x": null,
            "overflow_y": null,
            "padding": null,
            "right": null,
            "top": null,
            "visibility": null,
            "width": null
          }
        },
        "6f059bd8298d49fab39c3f0f393357ce": {
          "model_module": "@jupyter-widgets/controls",
          "model_module_version": "1.5.0",
          "model_name": "HBoxModel",
          "state": {
            "_dom_classes": [],
            "_model_module": "@jupyter-widgets/controls",
            "_model_module_version": "1.5.0",
            "_model_name": "HBoxModel",
            "_view_count": null,
            "_view_module": "@jupyter-widgets/controls",
            "_view_module_version": "1.5.0",
            "_view_name": "HBoxView",
            "box_style": "",
            "children": [
              "IPY_MODEL_26daa33855524a4e8114bfb6928172d5",
              "IPY_MODEL_ac7fc2703e7a4b49a0d36b85d5997878",
              "IPY_MODEL_97123d9ea52647ba91ee11d2746678b1"
            ],
            "layout": "IPY_MODEL_c0dcc3cf8bf1439695a5d5047c32730b"
          }
        },
        "6f8712f0e82746259ded892ffea27d7b": {
          "model_module": "@jupyter-widgets/controls",
          "model_module_version": "1.5.0",
          "model_name": "DescriptionStyleModel",
          "state": {
            "_model_module": "@jupyter-widgets/controls",
            "_model_module_version": "1.5.0",
            "_model_name": "DescriptionStyleModel",
            "_view_count": null,
            "_view_module": "@jupyter-widgets/base",
            "_view_module_version": "1.2.0",
            "_view_name": "StyleView",
            "description_width": ""
          }
        },
        "718aa40bf13b48c69aaa7d1422c5735b": {
          "model_module": "@jupyter-widgets/base",
          "model_module_version": "1.2.0",
          "model_name": "LayoutModel",
          "state": {
            "_model_module": "@jupyter-widgets/base",
            "_model_module_version": "1.2.0",
            "_model_name": "LayoutModel",
            "_view_count": null,
            "_view_module": "@jupyter-widgets/base",
            "_view_module_version": "1.2.0",
            "_view_name": "LayoutView",
            "align_content": null,
            "align_items": null,
            "align_self": null,
            "border": null,
            "bottom": null,
            "display": null,
            "flex": null,
            "flex_flow": null,
            "grid_area": null,
            "grid_auto_columns": null,
            "grid_auto_flow": null,
            "grid_auto_rows": null,
            "grid_column": null,
            "grid_gap": null,
            "grid_row": null,
            "grid_template_areas": null,
            "grid_template_columns": null,
            "grid_template_rows": null,
            "height": null,
            "justify_content": null,
            "justify_items": null,
            "left": null,
            "margin": null,
            "max_height": null,
            "max_width": null,
            "min_height": null,
            "min_width": null,
            "object_fit": null,
            "object_position": null,
            "order": null,
            "overflow": null,
            "overflow_x": null,
            "overflow_y": null,
            "padding": null,
            "right": null,
            "top": null,
            "visibility": null,
            "width": null
          }
        },
        "76154d3cbe4841fcb675b2905304120a": {
          "model_module": "@jupyter-widgets/base",
          "model_module_version": "1.2.0",
          "model_name": "LayoutModel",
          "state": {
            "_model_module": "@jupyter-widgets/base",
            "_model_module_version": "1.2.0",
            "_model_name": "LayoutModel",
            "_view_count": null,
            "_view_module": "@jupyter-widgets/base",
            "_view_module_version": "1.2.0",
            "_view_name": "LayoutView",
            "align_content": null,
            "align_items": null,
            "align_self": null,
            "border": null,
            "bottom": null,
            "display": null,
            "flex": null,
            "flex_flow": null,
            "grid_area": null,
            "grid_auto_columns": null,
            "grid_auto_flow": null,
            "grid_auto_rows": null,
            "grid_column": null,
            "grid_gap": null,
            "grid_row": null,
            "grid_template_areas": null,
            "grid_template_columns": null,
            "grid_template_rows": null,
            "height": null,
            "justify_content": null,
            "justify_items": null,
            "left": null,
            "margin": null,
            "max_height": null,
            "max_width": null,
            "min_height": null,
            "min_width": null,
            "object_fit": null,
            "object_position": null,
            "order": null,
            "overflow": null,
            "overflow_x": null,
            "overflow_y": null,
            "padding": null,
            "right": null,
            "top": null,
            "visibility": null,
            "width": null
          }
        },
        "77673bcc2c6145a58334badb04e06378": {
          "model_module": "@jupyter-widgets/controls",
          "model_module_version": "1.5.0",
          "model_name": "FloatProgressModel",
          "state": {
            "_dom_classes": [],
            "_model_module": "@jupyter-widgets/controls",
            "_model_module_version": "1.5.0",
            "_model_name": "FloatProgressModel",
            "_view_count": null,
            "_view_module": "@jupyter-widgets/controls",
            "_view_module_version": "1.5.0",
            "_view_name": "ProgressView",
            "bar_style": "success",
            "description": "",
            "description_tooltip": null,
            "layout": "IPY_MODEL_8bd6ab7a6877436c846b13df2e638457",
            "max": 898822,
            "min": 0,
            "orientation": "horizontal",
            "style": "IPY_MODEL_5e11a9404a20459c90b513233b7059cd",
            "value": 898822
          }
        },
        "77c04f1a9517465abd0096a97a86379a": {
          "model_module": "@jupyter-widgets/base",
          "model_module_version": "1.2.0",
          "model_name": "LayoutModel",
          "state": {
            "_model_module": "@jupyter-widgets/base",
            "_model_module_version": "1.2.0",
            "_model_name": "LayoutModel",
            "_view_count": null,
            "_view_module": "@jupyter-widgets/base",
            "_view_module_version": "1.2.0",
            "_view_name": "LayoutView",
            "align_content": null,
            "align_items": null,
            "align_self": null,
            "border": null,
            "bottom": null,
            "display": null,
            "flex": null,
            "flex_flow": null,
            "grid_area": null,
            "grid_auto_columns": null,
            "grid_auto_flow": null,
            "grid_auto_rows": null,
            "grid_column": null,
            "grid_gap": null,
            "grid_row": null,
            "grid_template_areas": null,
            "grid_template_columns": null,
            "grid_template_rows": null,
            "height": null,
            "justify_content": null,
            "justify_items": null,
            "left": null,
            "margin": null,
            "max_height": null,
            "max_width": null,
            "min_height": null,
            "min_width": null,
            "object_fit": null,
            "object_position": null,
            "order": null,
            "overflow": null,
            "overflow_x": null,
            "overflow_y": null,
            "padding": null,
            "right": null,
            "top": null,
            "visibility": null,
            "width": null
          }
        },
        "78349bb6005a47e3828e36e49ef362af": {
          "model_module": "@jupyter-widgets/base",
          "model_module_version": "1.2.0",
          "model_name": "LayoutModel",
          "state": {
            "_model_module": "@jupyter-widgets/base",
            "_model_module_version": "1.2.0",
            "_model_name": "LayoutModel",
            "_view_count": null,
            "_view_module": "@jupyter-widgets/base",
            "_view_module_version": "1.2.0",
            "_view_name": "LayoutView",
            "align_content": null,
            "align_items": null,
            "align_self": null,
            "border": null,
            "bottom": null,
            "display": null,
            "flex": null,
            "flex_flow": null,
            "grid_area": null,
            "grid_auto_columns": null,
            "grid_auto_flow": null,
            "grid_auto_rows": null,
            "grid_column": null,
            "grid_gap": null,
            "grid_row": null,
            "grid_template_areas": null,
            "grid_template_columns": null,
            "grid_template_rows": null,
            "height": null,
            "justify_content": null,
            "justify_items": null,
            "left": null,
            "margin": null,
            "max_height": null,
            "max_width": null,
            "min_height": null,
            "min_width": null,
            "object_fit": null,
            "object_position": null,
            "order": null,
            "overflow": null,
            "overflow_x": null,
            "overflow_y": null,
            "padding": null,
            "right": null,
            "top": null,
            "visibility": null,
            "width": null
          }
        },
        "786e697a2eb4458e9f13b07f07ae3115": {
          "model_module": "@jupyter-widgets/controls",
          "model_module_version": "1.5.0",
          "model_name": "HTMLModel",
          "state": {
            "_dom_classes": [],
            "_model_module": "@jupyter-widgets/controls",
            "_model_module_version": "1.5.0",
            "_model_name": "HTMLModel",
            "_view_count": null,
            "_view_module": "@jupyter-widgets/controls",
            "_view_module_version": "1.5.0",
            "_view_name": "HTMLView",
            "description": "",
            "description_tooltip": null,
            "layout": "IPY_MODEL_4c7cddf1eaf94196919f5046df81b42a",
            "placeholder": "​",
            "style": "IPY_MODEL_972d694b909c4fbfb782f8d2f7aac996",
            "value": "Downloading (…)lve/main/config.json: 100%"
          }
        },
        "82afcc73c43a4622981b08bfc6152945": {
          "model_module": "@jupyter-widgets/controls",
          "model_module_version": "1.5.0",
          "model_name": "ProgressStyleModel",
          "state": {
            "_model_module": "@jupyter-widgets/controls",
            "_model_module_version": "1.5.0",
            "_model_name": "ProgressStyleModel",
            "_view_count": null,
            "_view_module": "@jupyter-widgets/base",
            "_view_module_version": "1.2.0",
            "_view_name": "StyleView",
            "bar_color": null,
            "description_width": ""
          }
        },
        "8bd6ab7a6877436c846b13df2e638457": {
          "model_module": "@jupyter-widgets/base",
          "model_module_version": "1.2.0",
          "model_name": "LayoutModel",
          "state": {
            "_model_module": "@jupyter-widgets/base",
            "_model_module_version": "1.2.0",
            "_model_name": "LayoutModel",
            "_view_count": null,
            "_view_module": "@jupyter-widgets/base",
            "_view_module_version": "1.2.0",
            "_view_name": "LayoutView",
            "align_content": null,
            "align_items": null,
            "align_self": null,
            "border": null,
            "bottom": null,
            "display": null,
            "flex": null,
            "flex_flow": null,
            "grid_area": null,
            "grid_auto_columns": null,
            "grid_auto_flow": null,
            "grid_auto_rows": null,
            "grid_column": null,
            "grid_gap": null,
            "grid_row": null,
            "grid_template_areas": null,
            "grid_template_columns": null,
            "grid_template_rows": null,
            "height": null,
            "justify_content": null,
            "justify_items": null,
            "left": null,
            "margin": null,
            "max_height": null,
            "max_width": null,
            "min_height": null,
            "min_width": null,
            "object_fit": null,
            "object_position": null,
            "order": null,
            "overflow": null,
            "overflow_x": null,
            "overflow_y": null,
            "padding": null,
            "right": null,
            "top": null,
            "visibility": null,
            "width": null
          }
        },
        "940a5466476a4833a2b945ec52995c73": {
          "model_module": "@jupyter-widgets/controls",
          "model_module_version": "1.5.0",
          "model_name": "HBoxModel",
          "state": {
            "_dom_classes": [],
            "_model_module": "@jupyter-widgets/controls",
            "_model_module_version": "1.5.0",
            "_model_name": "HBoxModel",
            "_view_count": null,
            "_view_module": "@jupyter-widgets/controls",
            "_view_module_version": "1.5.0",
            "_view_name": "HBoxView",
            "box_style": "",
            "children": [
              "IPY_MODEL_786e697a2eb4458e9f13b07f07ae3115",
              "IPY_MODEL_6144124b61f54b10a939deba650a5916",
              "IPY_MODEL_b9a81334603b4e5d869aee3c7c904978"
            ],
            "layout": "IPY_MODEL_6a14541d321a4920bb93e96e9cf1f3a1"
          }
        },
        "97123d9ea52647ba91ee11d2746678b1": {
          "model_module": "@jupyter-widgets/controls",
          "model_module_version": "1.5.0",
          "model_name": "HTMLModel",
          "state": {
            "_dom_classes": [],
            "_model_module": "@jupyter-widgets/controls",
            "_model_module_version": "1.5.0",
            "_model_name": "HTMLModel",
            "_view_count": null,
            "_view_module": "@jupyter-widgets/controls",
            "_view_module_version": "1.5.0",
            "_view_name": "HTMLView",
            "description": "",
            "description_tooltip": null,
            "layout": "IPY_MODEL_76154d3cbe4841fcb675b2905304120a",
            "placeholder": "​",
            "style": "IPY_MODEL_5f5762b621814203817cd7a1011056a7",
            "value": " 501M/501M [00:03&lt;00:00, 117MB/s]"
          }
        },
        "972d694b909c4fbfb782f8d2f7aac996": {
          "model_module": "@jupyter-widgets/controls",
          "model_module_version": "1.5.0",
          "model_name": "DescriptionStyleModel",
          "state": {
            "_model_module": "@jupyter-widgets/controls",
            "_model_module_version": "1.5.0",
            "_model_name": "DescriptionStyleModel",
            "_view_count": null,
            "_view_module": "@jupyter-widgets/base",
            "_view_module_version": "1.2.0",
            "_view_name": "StyleView",
            "description_width": ""
          }
        },
        "aa3e0988950e48f78557aab3965e9d4f": {
          "model_module": "@jupyter-widgets/base",
          "model_module_version": "1.2.0",
          "model_name": "LayoutModel",
          "state": {
            "_model_module": "@jupyter-widgets/base",
            "_model_module_version": "1.2.0",
            "_model_name": "LayoutModel",
            "_view_count": null,
            "_view_module": "@jupyter-widgets/base",
            "_view_module_version": "1.2.0",
            "_view_name": "LayoutView",
            "align_content": null,
            "align_items": null,
            "align_self": null,
            "border": null,
            "bottom": null,
            "display": null,
            "flex": null,
            "flex_flow": null,
            "grid_area": null,
            "grid_auto_columns": null,
            "grid_auto_flow": null,
            "grid_auto_rows": null,
            "grid_column": null,
            "grid_gap": null,
            "grid_row": null,
            "grid_template_areas": null,
            "grid_template_columns": null,
            "grid_template_rows": null,
            "height": null,
            "justify_content": null,
            "justify_items": null,
            "left": null,
            "margin": null,
            "max_height": null,
            "max_width": null,
            "min_height": null,
            "min_width": null,
            "object_fit": null,
            "object_position": null,
            "order": null,
            "overflow": null,
            "overflow_x": null,
            "overflow_y": null,
            "padding": null,
            "right": null,
            "top": null,
            "visibility": null,
            "width": null
          }
        },
        "ac7fc2703e7a4b49a0d36b85d5997878": {
          "model_module": "@jupyter-widgets/controls",
          "model_module_version": "1.5.0",
          "model_name": "FloatProgressModel",
          "state": {
            "_dom_classes": [],
            "_model_module": "@jupyter-widgets/controls",
            "_model_module_version": "1.5.0",
            "_model_name": "FloatProgressModel",
            "_view_count": null,
            "_view_module": "@jupyter-widgets/controls",
            "_view_module_version": "1.5.0",
            "_view_name": "ProgressView",
            "bar_style": "success",
            "description": "",
            "description_tooltip": null,
            "layout": "IPY_MODEL_aa3e0988950e48f78557aab3965e9d4f",
            "max": 501045531,
            "min": 0,
            "orientation": "horizontal",
            "style": "IPY_MODEL_ca0250e5a2724be6b87004367749d5ea",
            "value": 501045531
          }
        },
        "b19890ab0257403fb602dc6391646e2b": {
          "model_module": "@jupyter-widgets/base",
          "model_module_version": "1.2.0",
          "model_name": "LayoutModel",
          "state": {
            "_model_module": "@jupyter-widgets/base",
            "_model_module_version": "1.2.0",
            "_model_name": "LayoutModel",
            "_view_count": null,
            "_view_module": "@jupyter-widgets/base",
            "_view_module_version": "1.2.0",
            "_view_name": "LayoutView",
            "align_content": null,
            "align_items": null,
            "align_self": null,
            "border": null,
            "bottom": null,
            "display": null,
            "flex": null,
            "flex_flow": null,
            "grid_area": null,
            "grid_auto_columns": null,
            "grid_auto_flow": null,
            "grid_auto_rows": null,
            "grid_column": null,
            "grid_gap": null,
            "grid_row": null,
            "grid_template_areas": null,
            "grid_template_columns": null,
            "grid_template_rows": null,
            "height": null,
            "justify_content": null,
            "justify_items": null,
            "left": null,
            "margin": null,
            "max_height": null,
            "max_width": null,
            "min_height": null,
            "min_width": null,
            "object_fit": null,
            "object_position": null,
            "order": null,
            "overflow": null,
            "overflow_x": null,
            "overflow_y": null,
            "padding": null,
            "right": null,
            "top": null,
            "visibility": null,
            "width": null
          }
        },
        "b2e54a57ab2e4a23be82e53dcddf45a1": {
          "model_module": "@jupyter-widgets/base",
          "model_module_version": "1.2.0",
          "model_name": "LayoutModel",
          "state": {
            "_model_module": "@jupyter-widgets/base",
            "_model_module_version": "1.2.0",
            "_model_name": "LayoutModel",
            "_view_count": null,
            "_view_module": "@jupyter-widgets/base",
            "_view_module_version": "1.2.0",
            "_view_name": "LayoutView",
            "align_content": null,
            "align_items": null,
            "align_self": null,
            "border": null,
            "bottom": null,
            "display": null,
            "flex": null,
            "flex_flow": null,
            "grid_area": null,
            "grid_auto_columns": null,
            "grid_auto_flow": null,
            "grid_auto_rows": null,
            "grid_column": null,
            "grid_gap": null,
            "grid_row": null,
            "grid_template_areas": null,
            "grid_template_columns": null,
            "grid_template_rows": null,
            "height": null,
            "justify_content": null,
            "justify_items": null,
            "left": null,
            "margin": null,
            "max_height": null,
            "max_width": null,
            "min_height": null,
            "min_width": null,
            "object_fit": null,
            "object_position": null,
            "order": null,
            "overflow": null,
            "overflow_x": null,
            "overflow_y": null,
            "padding": null,
            "right": null,
            "top": null,
            "visibility": null,
            "width": null
          }
        },
        "b46c5b954203479791ce2e77ec1362ea": {
          "model_module": "@jupyter-widgets/base",
          "model_module_version": "1.2.0",
          "model_name": "LayoutModel",
          "state": {
            "_model_module": "@jupyter-widgets/base",
            "_model_module_version": "1.2.0",
            "_model_name": "LayoutModel",
            "_view_count": null,
            "_view_module": "@jupyter-widgets/base",
            "_view_module_version": "1.2.0",
            "_view_name": "LayoutView",
            "align_content": null,
            "align_items": null,
            "align_self": null,
            "border": null,
            "bottom": null,
            "display": null,
            "flex": null,
            "flex_flow": null,
            "grid_area": null,
            "grid_auto_columns": null,
            "grid_auto_flow": null,
            "grid_auto_rows": null,
            "grid_column": null,
            "grid_gap": null,
            "grid_row": null,
            "grid_template_areas": null,
            "grid_template_columns": null,
            "grid_template_rows": null,
            "height": null,
            "justify_content": null,
            "justify_items": null,
            "left": null,
            "margin": null,
            "max_height": null,
            "max_width": null,
            "min_height": null,
            "min_width": null,
            "object_fit": null,
            "object_position": null,
            "order": null,
            "overflow": null,
            "overflow_x": null,
            "overflow_y": null,
            "padding": null,
            "right": null,
            "top": null,
            "visibility": null,
            "width": null
          }
        },
        "b9a81334603b4e5d869aee3c7c904978": {
          "model_module": "@jupyter-widgets/controls",
          "model_module_version": "1.5.0",
          "model_name": "HTMLModel",
          "state": {
            "_dom_classes": [],
            "_model_module": "@jupyter-widgets/controls",
            "_model_module_version": "1.5.0",
            "_model_name": "HTMLModel",
            "_view_count": null,
            "_view_module": "@jupyter-widgets/controls",
            "_view_module_version": "1.5.0",
            "_view_name": "HTMLView",
            "description": "",
            "description_tooltip": null,
            "layout": "IPY_MODEL_6c6960ce8b8b4fa288da51e3ab93accd",
            "placeholder": "​",
            "style": "IPY_MODEL_bea274bbbe5a450d8d14b2479542c2da",
            "value": " 929/929 [00:00&lt;00:00, 18.9kB/s]"
          }
        },
        "bea274bbbe5a450d8d14b2479542c2da": {
          "model_module": "@jupyter-widgets/controls",
          "model_module_version": "1.5.0",
          "model_name": "DescriptionStyleModel",
          "state": {
            "_model_module": "@jupyter-widgets/controls",
            "_model_module_version": "1.5.0",
            "_model_name": "DescriptionStyleModel",
            "_view_count": null,
            "_view_module": "@jupyter-widgets/base",
            "_view_module_version": "1.2.0",
            "_view_name": "StyleView",
            "description_width": ""
          }
        },
        "c0dcc3cf8bf1439695a5d5047c32730b": {
          "model_module": "@jupyter-widgets/base",
          "model_module_version": "1.2.0",
          "model_name": "LayoutModel",
          "state": {
            "_model_module": "@jupyter-widgets/base",
            "_model_module_version": "1.2.0",
            "_model_name": "LayoutModel",
            "_view_count": null,
            "_view_module": "@jupyter-widgets/base",
            "_view_module_version": "1.2.0",
            "_view_name": "LayoutView",
            "align_content": null,
            "align_items": null,
            "align_self": null,
            "border": null,
            "bottom": null,
            "display": null,
            "flex": null,
            "flex_flow": null,
            "grid_area": null,
            "grid_auto_columns": null,
            "grid_auto_flow": null,
            "grid_auto_rows": null,
            "grid_column": null,
            "grid_gap": null,
            "grid_row": null,
            "grid_template_areas": null,
            "grid_template_columns": null,
            "grid_template_rows": null,
            "height": null,
            "justify_content": null,
            "justify_items": null,
            "left": null,
            "margin": null,
            "max_height": null,
            "max_width": null,
            "min_height": null,
            "min_width": null,
            "object_fit": null,
            "object_position": null,
            "order": null,
            "overflow": null,
            "overflow_x": null,
            "overflow_y": null,
            "padding": null,
            "right": null,
            "top": null,
            "visibility": null,
            "width": null
          }
        },
        "c183472ff12d47dcb6b93dc68198273f": {
          "model_module": "@jupyter-widgets/base",
          "model_module_version": "1.2.0",
          "model_name": "LayoutModel",
          "state": {
            "_model_module": "@jupyter-widgets/base",
            "_model_module_version": "1.2.0",
            "_model_name": "LayoutModel",
            "_view_count": null,
            "_view_module": "@jupyter-widgets/base",
            "_view_module_version": "1.2.0",
            "_view_name": "LayoutView",
            "align_content": null,
            "align_items": null,
            "align_self": null,
            "border": null,
            "bottom": null,
            "display": null,
            "flex": null,
            "flex_flow": null,
            "grid_area": null,
            "grid_auto_columns": null,
            "grid_auto_flow": null,
            "grid_auto_rows": null,
            "grid_column": null,
            "grid_gap": null,
            "grid_row": null,
            "grid_template_areas": null,
            "grid_template_columns": null,
            "grid_template_rows": null,
            "height": null,
            "justify_content": null,
            "justify_items": null,
            "left": null,
            "margin": null,
            "max_height": null,
            "max_width": null,
            "min_height": null,
            "min_width": null,
            "object_fit": null,
            "object_position": null,
            "order": null,
            "overflow": null,
            "overflow_x": null,
            "overflow_y": null,
            "padding": null,
            "right": null,
            "top": null,
            "visibility": null,
            "width": null
          }
        },
        "c8665c9975a3491bb304cbfca2f2db12": {
          "model_module": "@jupyter-widgets/controls",
          "model_module_version": "1.5.0",
          "model_name": "DescriptionStyleModel",
          "state": {
            "_model_module": "@jupyter-widgets/controls",
            "_model_module_version": "1.5.0",
            "_model_name": "DescriptionStyleModel",
            "_view_count": null,
            "_view_module": "@jupyter-widgets/base",
            "_view_module_version": "1.2.0",
            "_view_name": "StyleView",
            "description_width": ""
          }
        },
        "ca0250e5a2724be6b87004367749d5ea": {
          "model_module": "@jupyter-widgets/controls",
          "model_module_version": "1.5.0",
          "model_name": "ProgressStyleModel",
          "state": {
            "_model_module": "@jupyter-widgets/controls",
            "_model_module_version": "1.5.0",
            "_model_name": "ProgressStyleModel",
            "_view_count": null,
            "_view_module": "@jupyter-widgets/base",
            "_view_module_version": "1.2.0",
            "_view_name": "StyleView",
            "bar_color": null,
            "description_width": ""
          }
        },
        "cae78a01d526400d9ca038e6f404c42a": {
          "model_module": "@jupyter-widgets/controls",
          "model_module_version": "1.5.0",
          "model_name": "DescriptionStyleModel",
          "state": {
            "_model_module": "@jupyter-widgets/controls",
            "_model_module_version": "1.5.0",
            "_model_name": "DescriptionStyleModel",
            "_view_count": null,
            "_view_module": "@jupyter-widgets/base",
            "_view_module_version": "1.2.0",
            "_view_name": "StyleView",
            "description_width": ""
          }
        },
        "d0c793473ff04fc194e64f1415828f88": {
          "model_module": "@jupyter-widgets/controls",
          "model_module_version": "1.5.0",
          "model_name": "HBoxModel",
          "state": {
            "_dom_classes": [],
            "_model_module": "@jupyter-widgets/controls",
            "_model_module_version": "1.5.0",
            "_model_name": "HBoxModel",
            "_view_count": null,
            "_view_module": "@jupyter-widgets/controls",
            "_view_module_version": "1.5.0",
            "_view_name": "HBoxView",
            "box_style": "",
            "children": [
              "IPY_MODEL_033cff6bad9e4ccd8db4a329905e66e0",
              "IPY_MODEL_77673bcc2c6145a58334badb04e06378",
              "IPY_MODEL_d6f215b4a07045d7b985279a8473dd93"
            ],
            "layout": "IPY_MODEL_b2e54a57ab2e4a23be82e53dcddf45a1"
          }
        },
        "d48fd50c904b4c579d74e62d78a11ceb": {
          "model_module": "@jupyter-widgets/base",
          "model_module_version": "1.2.0",
          "model_name": "LayoutModel",
          "state": {
            "_model_module": "@jupyter-widgets/base",
            "_model_module_version": "1.2.0",
            "_model_name": "LayoutModel",
            "_view_count": null,
            "_view_module": "@jupyter-widgets/base",
            "_view_module_version": "1.2.0",
            "_view_name": "LayoutView",
            "align_content": null,
            "align_items": null,
            "align_self": null,
            "border": null,
            "bottom": null,
            "display": null,
            "flex": null,
            "flex_flow": null,
            "grid_area": null,
            "grid_auto_columns": null,
            "grid_auto_flow": null,
            "grid_auto_rows": null,
            "grid_column": null,
            "grid_gap": null,
            "grid_row": null,
            "grid_template_areas": null,
            "grid_template_columns": null,
            "grid_template_rows": null,
            "height": null,
            "justify_content": null,
            "justify_items": null,
            "left": null,
            "margin": null,
            "max_height": null,
            "max_width": null,
            "min_height": null,
            "min_width": null,
            "object_fit": null,
            "object_position": null,
            "order": null,
            "overflow": null,
            "overflow_x": null,
            "overflow_y": null,
            "padding": null,
            "right": null,
            "top": null,
            "visibility": null,
            "width": null
          }
        },
        "d6f215b4a07045d7b985279a8473dd93": {
          "model_module": "@jupyter-widgets/controls",
          "model_module_version": "1.5.0",
          "model_name": "HTMLModel",
          "state": {
            "_dom_classes": [],
            "_model_module": "@jupyter-widgets/controls",
            "_model_module_version": "1.5.0",
            "_model_name": "HTMLModel",
            "_view_count": null,
            "_view_module": "@jupyter-widgets/controls",
            "_view_module_version": "1.5.0",
            "_view_name": "HTMLView",
            "description": "",
            "description_tooltip": null,
            "layout": "IPY_MODEL_ff0c91e8032d4ac08273630aa1d45249",
            "placeholder": "​",
            "style": "IPY_MODEL_00e582f917884371bd90cc0918668a1e",
            "value": " 899k/899k [00:00&lt;00:00, 8.89MB/s]"
          }
        },
        "ddaa6a1f78aa43579e784dc14f0a3249": {
          "model_module": "@jupyter-widgets/base",
          "model_module_version": "1.2.0",
          "model_name": "LayoutModel",
          "state": {
            "_model_module": "@jupyter-widgets/base",
            "_model_module_version": "1.2.0",
            "_model_name": "LayoutModel",
            "_view_count": null,
            "_view_module": "@jupyter-widgets/base",
            "_view_module_version": "1.2.0",
            "_view_name": "LayoutView",
            "align_content": null,
            "align_items": null,
            "align_self": null,
            "border": null,
            "bottom": null,
            "display": null,
            "flex": null,
            "flex_flow": null,
            "grid_area": null,
            "grid_auto_columns": null,
            "grid_auto_flow": null,
            "grid_auto_rows": null,
            "grid_column": null,
            "grid_gap": null,
            "grid_row": null,
            "grid_template_areas": null,
            "grid_template_columns": null,
            "grid_template_rows": null,
            "height": null,
            "justify_content": null,
            "justify_items": null,
            "left": null,
            "margin": null,
            "max_height": null,
            "max_width": null,
            "min_height": null,
            "min_width": null,
            "object_fit": null,
            "object_position": null,
            "order": null,
            "overflow": null,
            "overflow_x": null,
            "overflow_y": null,
            "padding": null,
            "right": null,
            "top": null,
            "visibility": null,
            "width": null
          }
        },
        "e29fa8b350314d98878a1d06dd81d489": {
          "model_module": "@jupyter-widgets/base",
          "model_module_version": "1.2.0",
          "model_name": "LayoutModel",
          "state": {
            "_model_module": "@jupyter-widgets/base",
            "_model_module_version": "1.2.0",
            "_model_name": "LayoutModel",
            "_view_count": null,
            "_view_module": "@jupyter-widgets/base",
            "_view_module_version": "1.2.0",
            "_view_name": "LayoutView",
            "align_content": null,
            "align_items": null,
            "align_self": null,
            "border": null,
            "bottom": null,
            "display": null,
            "flex": null,
            "flex_flow": null,
            "grid_area": null,
            "grid_auto_columns": null,
            "grid_auto_flow": null,
            "grid_auto_rows": null,
            "grid_column": null,
            "grid_gap": null,
            "grid_row": null,
            "grid_template_areas": null,
            "grid_template_columns": null,
            "grid_template_rows": null,
            "height": null,
            "justify_content": null,
            "justify_items": null,
            "left": null,
            "margin": null,
            "max_height": null,
            "max_width": null,
            "min_height": null,
            "min_width": null,
            "object_fit": null,
            "object_position": null,
            "order": null,
            "overflow": null,
            "overflow_x": null,
            "overflow_y": null,
            "padding": null,
            "right": null,
            "top": null,
            "visibility": null,
            "width": null
          }
        },
        "e69cb09ff97744d989e2e45065ccdbc9": {
          "model_module": "@jupyter-widgets/controls",
          "model_module_version": "1.5.0",
          "model_name": "HBoxModel",
          "state": {
            "_dom_classes": [],
            "_model_module": "@jupyter-widgets/controls",
            "_model_module_version": "1.5.0",
            "_model_name": "HBoxModel",
            "_view_count": null,
            "_view_module": "@jupyter-widgets/controls",
            "_view_module_version": "1.5.0",
            "_view_name": "HBoxView",
            "box_style": "",
            "children": [
              "IPY_MODEL_ed72923eb1aa43229643c51c018276de",
              "IPY_MODEL_2338573d26be494fa5e0955d10809c7c",
              "IPY_MODEL_05f995c2b35e42cc892e97a2e6c98389"
            ],
            "layout": "IPY_MODEL_78349bb6005a47e3828e36e49ef362af"
          }
        },
        "ed72923eb1aa43229643c51c018276de": {
          "model_module": "@jupyter-widgets/controls",
          "model_module_version": "1.5.0",
          "model_name": "HTMLModel",
          "state": {
            "_dom_classes": [],
            "_model_module": "@jupyter-widgets/controls",
            "_model_module_version": "1.5.0",
            "_model_name": "HTMLModel",
            "_view_count": null,
            "_view_module": "@jupyter-widgets/controls",
            "_view_module_version": "1.5.0",
            "_view_name": "HTMLView",
            "description": "",
            "description_tooltip": null,
            "layout": "IPY_MODEL_c183472ff12d47dcb6b93dc68198273f",
            "placeholder": "​",
            "style": "IPY_MODEL_cae78a01d526400d9ca038e6f404c42a",
            "value": "Downloading (…)cial_tokens_map.json: 100%"
          }
        },
        "fa19e912d8e44c3e91db24af5290f5e4": {
          "model_module": "@jupyter-widgets/controls",
          "model_module_version": "1.5.0",
          "model_name": "DescriptionStyleModel",
          "state": {
            "_model_module": "@jupyter-widgets/controls",
            "_model_module_version": "1.5.0",
            "_model_name": "DescriptionStyleModel",
            "_view_count": null,
            "_view_module": "@jupyter-widgets/base",
            "_view_module_version": "1.2.0",
            "_view_name": "StyleView",
            "description_width": ""
          }
        },
        "ff0c91e8032d4ac08273630aa1d45249": {
          "model_module": "@jupyter-widgets/base",
          "model_module_version": "1.2.0",
          "model_name": "LayoutModel",
          "state": {
            "_model_module": "@jupyter-widgets/base",
            "_model_module_version": "1.2.0",
            "_model_name": "LayoutModel",
            "_view_count": null,
            "_view_module": "@jupyter-widgets/base",
            "_view_module_version": "1.2.0",
            "_view_name": "LayoutView",
            "align_content": null,
            "align_items": null,
            "align_self": null,
            "border": null,
            "bottom": null,
            "display": null,
            "flex": null,
            "flex_flow": null,
            "grid_area": null,
            "grid_auto_columns": null,
            "grid_auto_flow": null,
            "grid_auto_rows": null,
            "grid_column": null,
            "grid_gap": null,
            "grid_row": null,
            "grid_template_areas": null,
            "grid_template_columns": null,
            "grid_template_rows": null,
            "height": null,
            "justify_content": null,
            "justify_items": null,
            "left": null,
            "margin": null,
            "max_height": null,
            "max_width": null,
            "min_height": null,
            "min_width": null,
            "object_fit": null,
            "object_position": null,
            "order": null,
            "overflow": null,
            "overflow_x": null,
            "overflow_y": null,
            "padding": null,
            "right": null,
            "top": null,
            "visibility": null,
            "width": null
          }
        },
        "ffb355cf6de146f3b35ebd9a4596e030": {
          "model_module": "@jupyter-widgets/controls",
          "model_module_version": "1.5.0",
          "model_name": "ProgressStyleModel",
          "state": {
            "_model_module": "@jupyter-widgets/controls",
            "_model_module_version": "1.5.0",
            "_model_name": "ProgressStyleModel",
            "_view_count": null,
            "_view_module": "@jupyter-widgets/base",
            "_view_module_version": "1.2.0",
            "_view_name": "StyleView",
            "bar_color": null,
            "description_width": ""
          }
        }
      }
    }
  },
  "nbformat": 4,
  "nbformat_minor": 0
}