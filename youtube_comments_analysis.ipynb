{
  "cells": [
    {
      "cell_type": "code",
      "execution_count": 52,
      "metadata": {
        "id": "sUoDe6LFbqVx"
      },
      "outputs": [],
      "source": [
        "import gdown"
      ]
    },
    {
      "cell_type": "code",
      "execution_count": 53,
      "metadata": {
        "id": "KPiXIhfUbvnn"
      },
      "outputs": [],
      "source": [
        "!gdown --id 1KmoZYmPzxrrtR4a3mSfPIumbDwf_Mrpw > /dev/null 2>&1\n",
        "!gdown --id 19vK08esg9hQtD8JB-9jm7Qkck7nZ-ZqR > /dev/null 2>&1"
      ]
    },
    {
      "cell_type": "markdown",
      "metadata": {
        "id": "zJpmDXtnsEo9"
      },
      "source": [
        "## About the Dataset\n",
        "This a YouTube comments dataset scrapped using the [YouTube Data API](https://developers.google.com/youtube/v3/docs/comments). Currently the dataset consists of roughly **1.12M** comments. The dataset can be accessed [here](https://drive.google.com/drive/folders/1-9OnYbFuiSA0M7skOYche5erzZ4Ba5Nz?usp=sharing).\n",
        "<br><br>\n",
        "The dataset currently has text in _English, Hindi and Hinglish_.\n",
        "Please refer to the following information for an overview of the columns and the corresponding data stored within them. [Link](https://github.com/aatmanvaidya/Sentiment-Analysis-of-Online-Harassment-Towards-Women-Wrestlers/blob/scraper/attributes.txt)."
      ]
    },
    {
      "cell_type": "code",
      "execution_count": 54,
      "metadata": {
        "id": "Y3ZC3vE1rhkU"
      },
      "outputs": [],
      "source": [
        "import pandas as pd\n",
        "import matplotlib.pyplot as plt\n",
        "import matplotlib.ticker as ticker\n",
        "import numpy as np\n",
        "from collections import Counter\n",
        "import re"
      ]
    },
    {
      "cell_type": "code",
      "execution_count": 55,
      "metadata": {
        "colab": {
          "base_uri": "https://localhost:8080/"
        },
        "id": "Hm6uzfHWrmcp",
        "outputId": "5af224c5-27e1-46a0-a030-8d9f3a85ea8a"
      },
      "outputs": [
        {
          "output_type": "stream",
          "name": "stdout",
          "text": [
            "CPU times: user 893 ms, sys: 407 ms, total: 1.3 s\n",
            "Wall time: 1.05 s\n"
          ]
        }
      ],
      "source": [
        "%%time\n",
        "df = pd.read_feather(r'comments_cleaned_feather.feather')"
      ]
    },
    {
      "cell_type": "code",
      "execution_count": 56,
      "metadata": {
        "colab": {
          "base_uri": "https://localhost:8080/",
          "height": 547
        },
        "id": "jMDpJrqjr2y5",
        "outputId": "a36693bf-5464-4add-8d1f-383c52035332"
      },
      "outputs": [
        {
          "output_type": "execute_result",
          "data": {
            "text/plain": [
              "       videoId                                        textDisplay  \\\n",
              "0  EBOKYsWUhvI  Dub maro jaato 😢😢.<br>Tumse tumare ladkiya nhi...   \n",
              "1  EBOKYsWUhvI                                   Haar gye bechare   \n",
              "2  EBOKYsWUhvI  Dhamki mili pahalwano ko aur sab manage kr liy...   \n",
              "3  EBOKYsWUhvI  Jaato pr ye boj rhega ki vo apni hi vyavstha s...   \n",
              "4  EBOKYsWUhvI           Pahlwan jante h kuch nhi kr payenge uska   \n",
              "\n",
              "                                        textOriginal   authorDisplayName  \\\n",
              "0  Dub maro jaato 😢😢.\\nTumse tumare ladkiya nhi b...      HECTOR OF TROY   \n",
              "1                                   Haar gye bechare         Geeta Saini   \n",
              "2  Dhamki mili pahalwano ko aur sab manage kr liy...       Ayaan Chouhan   \n",
              "3  Jaato pr ye boj rhega ki vo apni hi vyavstha s...               Kamal   \n",
              "4           Pahlwan jante h kuch nhi kr payenge uska  jagriti tiwari upp   \n",
              "\n",
              "                               authorProfileImageUrl  \\\n",
              "0  https://yt3.ggpht.com/ytc/AOPolaQNP5bd7gNvbAas...   \n",
              "1  https://yt3.ggpht.com/8XmOPNrT3Vy3wr0fItlWbaMk...   \n",
              "2  https://yt3.ggpht.com/ytc/AOPolaREH2WnrnbD53OI...   \n",
              "3  https://yt3.ggpht.com/ytc/AOPolaTRSm_dEOKj9H82...   \n",
              "4  https://yt3.ggpht.com/ytc/AOPolaRrFnzD2i3N_3rk...   \n",
              "\n",
              "                                    authorChannelUrl  \\\n",
              "0  http://www.youtube.com/channel/UC5G8fjqoiFIqHp...   \n",
              "1  http://www.youtube.com/channel/UCsMGRdH3YHrbs2...   \n",
              "2  http://www.youtube.com/channel/UC_dWuNh6zydTHI...   \n",
              "3  http://www.youtube.com/channel/UCVdGObpHM-IMHB...   \n",
              "4  http://www.youtube.com/channel/UCRkcewHFhxE5Kf...   \n",
              "\n",
              "                         authorChannelId canRate viewerRating likeCount  \\\n",
              "0  {'value': 'UC5G8fjqoiFIqHpKyVeOTsFg'}    True         none         0   \n",
              "1  {'value': 'UCsMGRdH3YHrbs21NOraRuyQ'}    True         none         0   \n",
              "2  {'value': 'UC_dWuNh6zydTHIRr6hi3Omg'}    True         none         0   \n",
              "3  {'value': 'UCVdGObpHM-IMHB_b7_K-7rA'}    True         none         1   \n",
              "4  {'value': 'UCRkcewHFhxE5KfLHrLx0wpA'}    True         none         0   \n",
              "\n",
              "            publishedAt             updatedAt parentId  \\\n",
              "0  2023-07-06T07:04:02Z  2023-07-06T07:04:02Z     None   \n",
              "1  2023-07-03T22:21:37Z  2023-07-03T22:21:37Z     None   \n",
              "2  2023-07-03T05:06:33Z  2023-07-03T05:06:33Z     None   \n",
              "3  2023-07-02T03:39:50Z  2023-07-02T03:39:50Z     None   \n",
              "4  2023-06-28T15:10:36Z  2023-06-28T15:10:36Z     None   \n",
              "\n",
              "                    commentId  \n",
              "0  UgwbyvIkkAhUdaCFpcp4AaABAg  \n",
              "1  Ugyz3OwSXamho91-8I94AaABAg  \n",
              "2  Ugyphs1TT1Yoj7MZBVJ4AaABAg  \n",
              "3  UgwnIxpuFAcKsEzffBp4AaABAg  \n",
              "4  UgxjuOlDigsmuDu53J54AaABAg  "
            ],
            "text/html": [
              "\n",
              "\n",
              "  <div id=\"df-44ea10d5-13f5-484e-b442-e5cdc185a4e4\">\n",
              "    <div class=\"colab-df-container\">\n",
              "      <div>\n",
              "<style scoped>\n",
              "    .dataframe tbody tr th:only-of-type {\n",
              "        vertical-align: middle;\n",
              "    }\n",
              "\n",
              "    .dataframe tbody tr th {\n",
              "        vertical-align: top;\n",
              "    }\n",
              "\n",
              "    .dataframe thead th {\n",
              "        text-align: right;\n",
              "    }\n",
              "</style>\n",
              "<table border=\"1\" class=\"dataframe\">\n",
              "  <thead>\n",
              "    <tr style=\"text-align: right;\">\n",
              "      <th></th>\n",
              "      <th>videoId</th>\n",
              "      <th>textDisplay</th>\n",
              "      <th>textOriginal</th>\n",
              "      <th>authorDisplayName</th>\n",
              "      <th>authorProfileImageUrl</th>\n",
              "      <th>authorChannelUrl</th>\n",
              "      <th>authorChannelId</th>\n",
              "      <th>canRate</th>\n",
              "      <th>viewerRating</th>\n",
              "      <th>likeCount</th>\n",
              "      <th>publishedAt</th>\n",
              "      <th>updatedAt</th>\n",
              "      <th>parentId</th>\n",
              "      <th>commentId</th>\n",
              "    </tr>\n",
              "  </thead>\n",
              "  <tbody>\n",
              "    <tr>\n",
              "      <th>0</th>\n",
              "      <td>EBOKYsWUhvI</td>\n",
              "      <td>Dub maro jaato 😢😢.&lt;br&gt;Tumse tumare ladkiya nhi...</td>\n",
              "      <td>Dub maro jaato 😢😢.\\nTumse tumare ladkiya nhi b...</td>\n",
              "      <td>HECTOR OF TROY</td>\n",
              "      <td>https://yt3.ggpht.com/ytc/AOPolaQNP5bd7gNvbAas...</td>\n",
              "      <td>http://www.youtube.com/channel/UC5G8fjqoiFIqHp...</td>\n",
              "      <td>{'value': 'UC5G8fjqoiFIqHpKyVeOTsFg'}</td>\n",
              "      <td>True</td>\n",
              "      <td>none</td>\n",
              "      <td>0</td>\n",
              "      <td>2023-07-06T07:04:02Z</td>\n",
              "      <td>2023-07-06T07:04:02Z</td>\n",
              "      <td>None</td>\n",
              "      <td>UgwbyvIkkAhUdaCFpcp4AaABAg</td>\n",
              "    </tr>\n",
              "    <tr>\n",
              "      <th>1</th>\n",
              "      <td>EBOKYsWUhvI</td>\n",
              "      <td>Haar gye bechare</td>\n",
              "      <td>Haar gye bechare</td>\n",
              "      <td>Geeta Saini</td>\n",
              "      <td>https://yt3.ggpht.com/8XmOPNrT3Vy3wr0fItlWbaMk...</td>\n",
              "      <td>http://www.youtube.com/channel/UCsMGRdH3YHrbs2...</td>\n",
              "      <td>{'value': 'UCsMGRdH3YHrbs21NOraRuyQ'}</td>\n",
              "      <td>True</td>\n",
              "      <td>none</td>\n",
              "      <td>0</td>\n",
              "      <td>2023-07-03T22:21:37Z</td>\n",
              "      <td>2023-07-03T22:21:37Z</td>\n",
              "      <td>None</td>\n",
              "      <td>Ugyz3OwSXamho91-8I94AaABAg</td>\n",
              "    </tr>\n",
              "    <tr>\n",
              "      <th>2</th>\n",
              "      <td>EBOKYsWUhvI</td>\n",
              "      <td>Dhamki mili pahalwano ko aur sab manage kr liy...</td>\n",
              "      <td>Dhamki mili pahalwano ko aur sab manage kr liy...</td>\n",
              "      <td>Ayaan Chouhan</td>\n",
              "      <td>https://yt3.ggpht.com/ytc/AOPolaREH2WnrnbD53OI...</td>\n",
              "      <td>http://www.youtube.com/channel/UC_dWuNh6zydTHI...</td>\n",
              "      <td>{'value': 'UC_dWuNh6zydTHIRr6hi3Omg'}</td>\n",
              "      <td>True</td>\n",
              "      <td>none</td>\n",
              "      <td>0</td>\n",
              "      <td>2023-07-03T05:06:33Z</td>\n",
              "      <td>2023-07-03T05:06:33Z</td>\n",
              "      <td>None</td>\n",
              "      <td>Ugyphs1TT1Yoj7MZBVJ4AaABAg</td>\n",
              "    </tr>\n",
              "    <tr>\n",
              "      <th>3</th>\n",
              "      <td>EBOKYsWUhvI</td>\n",
              "      <td>Jaato pr ye boj rhega ki vo apni hi vyavstha s...</td>\n",
              "      <td>Jaato pr ye boj rhega ki vo apni hi vyavstha s...</td>\n",
              "      <td>Kamal</td>\n",
              "      <td>https://yt3.ggpht.com/ytc/AOPolaTRSm_dEOKj9H82...</td>\n",
              "      <td>http://www.youtube.com/channel/UCVdGObpHM-IMHB...</td>\n",
              "      <td>{'value': 'UCVdGObpHM-IMHB_b7_K-7rA'}</td>\n",
              "      <td>True</td>\n",
              "      <td>none</td>\n",
              "      <td>1</td>\n",
              "      <td>2023-07-02T03:39:50Z</td>\n",
              "      <td>2023-07-02T03:39:50Z</td>\n",
              "      <td>None</td>\n",
              "      <td>UgwnIxpuFAcKsEzffBp4AaABAg</td>\n",
              "    </tr>\n",
              "    <tr>\n",
              "      <th>4</th>\n",
              "      <td>EBOKYsWUhvI</td>\n",
              "      <td>Pahlwan jante h kuch nhi kr payenge uska</td>\n",
              "      <td>Pahlwan jante h kuch nhi kr payenge uska</td>\n",
              "      <td>jagriti tiwari upp</td>\n",
              "      <td>https://yt3.ggpht.com/ytc/AOPolaRrFnzD2i3N_3rk...</td>\n",
              "      <td>http://www.youtube.com/channel/UCRkcewHFhxE5Kf...</td>\n",
              "      <td>{'value': 'UCRkcewHFhxE5KfLHrLx0wpA'}</td>\n",
              "      <td>True</td>\n",
              "      <td>none</td>\n",
              "      <td>0</td>\n",
              "      <td>2023-06-28T15:10:36Z</td>\n",
              "      <td>2023-06-28T15:10:36Z</td>\n",
              "      <td>None</td>\n",
              "      <td>UgxjuOlDigsmuDu53J54AaABAg</td>\n",
              "    </tr>\n",
              "  </tbody>\n",
              "</table>\n",
              "</div>\n",
              "      <button class=\"colab-df-convert\" onclick=\"convertToInteractive('df-44ea10d5-13f5-484e-b442-e5cdc185a4e4')\"\n",
              "              title=\"Convert this dataframe to an interactive table.\"\n",
              "              style=\"display:none;\">\n",
              "\n",
              "  <svg xmlns=\"http://www.w3.org/2000/svg\" height=\"24px\"viewBox=\"0 0 24 24\"\n",
              "       width=\"24px\">\n",
              "    <path d=\"M0 0h24v24H0V0z\" fill=\"none\"/>\n",
              "    <path d=\"M18.56 5.44l.94 2.06.94-2.06 2.06-.94-2.06-.94-.94-2.06-.94 2.06-2.06.94zm-11 1L8.5 8.5l.94-2.06 2.06-.94-2.06-.94L8.5 2.5l-.94 2.06-2.06.94zm10 10l.94 2.06.94-2.06 2.06-.94-2.06-.94-.94-2.06-.94 2.06-2.06.94z\"/><path d=\"M17.41 7.96l-1.37-1.37c-.4-.4-.92-.59-1.43-.59-.52 0-1.04.2-1.43.59L10.3 9.45l-7.72 7.72c-.78.78-.78 2.05 0 2.83L4 21.41c.39.39.9.59 1.41.59.51 0 1.02-.2 1.41-.59l7.78-7.78 2.81-2.81c.8-.78.8-2.07 0-2.86zM5.41 20L4 18.59l7.72-7.72 1.47 1.35L5.41 20z\"/>\n",
              "  </svg>\n",
              "      </button>\n",
              "\n",
              "\n",
              "\n",
              "    <div id=\"df-f119c328-f24c-4cfd-9899-b3a9cf783d5f\">\n",
              "      <button class=\"colab-df-quickchart\" onclick=\"quickchart('df-f119c328-f24c-4cfd-9899-b3a9cf783d5f')\"\n",
              "              title=\"Suggest charts.\"\n",
              "              style=\"display:none;\">\n",
              "\n",
              "<svg xmlns=\"http://www.w3.org/2000/svg\" height=\"24px\"viewBox=\"0 0 24 24\"\n",
              "     width=\"24px\">\n",
              "    <g>\n",
              "        <path d=\"M19 3H5c-1.1 0-2 .9-2 2v14c0 1.1.9 2 2 2h14c1.1 0 2-.9 2-2V5c0-1.1-.9-2-2-2zM9 17H7v-7h2v7zm4 0h-2V7h2v10zm4 0h-2v-4h2v4z\"/>\n",
              "    </g>\n",
              "</svg>\n",
              "      </button>\n",
              "    </div>\n",
              "\n",
              "<style>\n",
              "  .colab-df-quickchart {\n",
              "    background-color: #E8F0FE;\n",
              "    border: none;\n",
              "    border-radius: 50%;\n",
              "    cursor: pointer;\n",
              "    display: none;\n",
              "    fill: #1967D2;\n",
              "    height: 32px;\n",
              "    padding: 0 0 0 0;\n",
              "    width: 32px;\n",
              "  }\n",
              "\n",
              "  .colab-df-quickchart:hover {\n",
              "    background-color: #E2EBFA;\n",
              "    box-shadow: 0px 1px 2px rgba(60, 64, 67, 0.3), 0px 1px 3px 1px rgba(60, 64, 67, 0.15);\n",
              "    fill: #174EA6;\n",
              "  }\n",
              "\n",
              "  [theme=dark] .colab-df-quickchart {\n",
              "    background-color: #3B4455;\n",
              "    fill: #D2E3FC;\n",
              "  }\n",
              "\n",
              "  [theme=dark] .colab-df-quickchart:hover {\n",
              "    background-color: #434B5C;\n",
              "    box-shadow: 0px 1px 3px 1px rgba(0, 0, 0, 0.15);\n",
              "    filter: drop-shadow(0px 1px 2px rgba(0, 0, 0, 0.3));\n",
              "    fill: #FFFFFF;\n",
              "  }\n",
              "</style>\n",
              "\n",
              "    <script>\n",
              "      async function quickchart(key) {\n",
              "        const containerElement = document.querySelector('#' + key);\n",
              "        const charts = await google.colab.kernel.invokeFunction(\n",
              "            'suggestCharts', [key], {});\n",
              "      }\n",
              "    </script>\n",
              "\n",
              "      <script>\n",
              "\n",
              "function displayQuickchartButton(domScope) {\n",
              "  let quickchartButtonEl =\n",
              "    domScope.querySelector('#df-f119c328-f24c-4cfd-9899-b3a9cf783d5f button.colab-df-quickchart');\n",
              "  quickchartButtonEl.style.display =\n",
              "    google.colab.kernel.accessAllowed ? 'block' : 'none';\n",
              "}\n",
              "\n",
              "        displayQuickchartButton(document);\n",
              "      </script>\n",
              "      <style>\n",
              "    .colab-df-container {\n",
              "      display:flex;\n",
              "      flex-wrap:wrap;\n",
              "      gap: 12px;\n",
              "    }\n",
              "\n",
              "    .colab-df-convert {\n",
              "      background-color: #E8F0FE;\n",
              "      border: none;\n",
              "      border-radius: 50%;\n",
              "      cursor: pointer;\n",
              "      display: none;\n",
              "      fill: #1967D2;\n",
              "      height: 32px;\n",
              "      padding: 0 0 0 0;\n",
              "      width: 32px;\n",
              "    }\n",
              "\n",
              "    .colab-df-convert:hover {\n",
              "      background-color: #E2EBFA;\n",
              "      box-shadow: 0px 1px 2px rgba(60, 64, 67, 0.3), 0px 1px 3px 1px rgba(60, 64, 67, 0.15);\n",
              "      fill: #174EA6;\n",
              "    }\n",
              "\n",
              "    [theme=dark] .colab-df-convert {\n",
              "      background-color: #3B4455;\n",
              "      fill: #D2E3FC;\n",
              "    }\n",
              "\n",
              "    [theme=dark] .colab-df-convert:hover {\n",
              "      background-color: #434B5C;\n",
              "      box-shadow: 0px 1px 3px 1px rgba(0, 0, 0, 0.15);\n",
              "      filter: drop-shadow(0px 1px 2px rgba(0, 0, 0, 0.3));\n",
              "      fill: #FFFFFF;\n",
              "    }\n",
              "  </style>\n",
              "\n",
              "      <script>\n",
              "        const buttonEl =\n",
              "          document.querySelector('#df-44ea10d5-13f5-484e-b442-e5cdc185a4e4 button.colab-df-convert');\n",
              "        buttonEl.style.display =\n",
              "          google.colab.kernel.accessAllowed ? 'block' : 'none';\n",
              "\n",
              "        async function convertToInteractive(key) {\n",
              "          const element = document.querySelector('#df-44ea10d5-13f5-484e-b442-e5cdc185a4e4');\n",
              "          const dataTable =\n",
              "            await google.colab.kernel.invokeFunction('convertToInteractive',\n",
              "                                                     [key], {});\n",
              "          if (!dataTable) return;\n",
              "\n",
              "          const docLinkHtml = 'Like what you see? Visit the ' +\n",
              "            '<a target=\"_blank\" href=https://colab.research.google.com/notebooks/data_table.ipynb>data table notebook</a>'\n",
              "            + ' to learn more about interactive tables.';\n",
              "          element.innerHTML = '';\n",
              "          dataTable['output_type'] = 'display_data';\n",
              "          await google.colab.output.renderOutput(dataTable, element);\n",
              "          const docLink = document.createElement('div');\n",
              "          docLink.innerHTML = docLinkHtml;\n",
              "          element.appendChild(docLink);\n",
              "        }\n",
              "      </script>\n",
              "    </div>\n",
              "  </div>\n"
            ]
          },
          "metadata": {},
          "execution_count": 56
        }
      ],
      "source": [
        "df.head()"
      ]
    },
    {
      "cell_type": "code",
      "execution_count": 57,
      "metadata": {
        "colab": {
          "base_uri": "https://localhost:8080/"
        },
        "id": "6StKhcR-r-Xo",
        "outputId": "a4f380da-62f2-4fe5-ef0b-1047749c27da"
      },
      "outputs": [
        {
          "output_type": "execute_result",
          "data": {
            "text/plain": [
              "(1119948, 14)"
            ]
          },
          "metadata": {},
          "execution_count": 57
        }
      ],
      "source": [
        "df.shape"
      ]
    },
    {
      "cell_type": "code",
      "execution_count": 58,
      "metadata": {
        "id": "30kEHTVt0KYd"
      },
      "outputs": [],
      "source": [
        "df['textOriginal'] = df['textOriginal'].astype(str)"
      ]
    },
    {
      "cell_type": "code",
      "execution_count": 59,
      "metadata": {
        "id": "ni1lBX6gv-17"
      },
      "outputs": [],
      "source": [
        "duplicate_rows = df[df.duplicated(subset='textOriginal', keep=False)]"
      ]
    },
    {
      "cell_type": "code",
      "execution_count": 60,
      "metadata": {
        "colab": {
          "base_uri": "https://localhost:8080/"
        },
        "id": "TzPA_-T3w-nH",
        "outputId": "3f3fe02a-ffdc-495b-db28-429e8481deb2"
      },
      "outputs": [
        {
          "output_type": "execute_result",
          "data": {
            "text/plain": [
              "93475"
            ]
          },
          "metadata": {},
          "execution_count": 60
        }
      ],
      "source": [
        "len(df['textDisplay'].unique())"
      ]
    },
    {
      "cell_type": "code",
      "execution_count": 61,
      "metadata": {
        "id": "LeeIhYkd3gXK"
      },
      "outputs": [],
      "source": [
        "# Now this is strange, the dataset doesnt have duplicate or empty rows, why is this happening? is it some datatype problem?\n",
        "# Lets try to do a simple check for it again"
      ]
    },
    {
      "cell_type": "code",
      "execution_count": 62,
      "metadata": {
        "colab": {
          "base_uri": "https://localhost:8080/"
        },
        "id": "a8L76Dss3qpx",
        "outputId": "5aba6b2e-eca3-4d3b-b853-cd9479b9ebd5"
      },
      "outputs": [
        {
          "output_type": "stream",
          "name": "stdout",
          "text": [
            "1119948\n",
            "1119948\n",
            "CPU times: user 39.5 s, sys: 114 ms, total: 39.6 s\n",
            "Wall time: 39.9 s\n"
          ]
        }
      ],
      "source": [
        "%%time\n",
        "count = 0\n",
        "value_list = []\n",
        "for index, row in df.iterrows():\n",
        "    value_list.append(row['textOriginal'])\n",
        "    count+=1\n",
        "print(count)\n",
        "print(len(value_list))"
      ]
    },
    {
      "cell_type": "code",
      "execution_count": 63,
      "metadata": {
        "id": "BLhEpCq15RtT"
      },
      "outputs": [],
      "source": [
        "# This means we are penetrating through the entire dataset. I dont know why pandas is doing that ://\n",
        "# There is one small problem, there is a \\u200b character that is present, we might have to remove that."
      ]
    },
    {
      "cell_type": "markdown",
      "metadata": {
        "id": "aNO6k-Jnz3hc"
      },
      "source": [
        "## Simple Slur List Frequency Count\n",
        "This is a simple frequency count of how many words from the slur list are found in the data.\n",
        "I have stored the results in a dictonary called _'slur_counts'_"
      ]
    },
    {
      "cell_type": "code",
      "execution_count": 64,
      "metadata": {
        "id": "EkBrpqsWr-6J"
      },
      "outputs": [],
      "source": [
        "with open('slur_list.txt', 'r') as file:\n",
        "    slur_words = [word.strip() for word in file.readlines()]"
      ]
    },
    {
      "cell_type": "code",
      "execution_count": 65,
      "metadata": {
        "colab": {
          "base_uri": "https://localhost:8080/"
        },
        "id": "ZdPWuH5Pz_AK",
        "outputId": "6828dd8d-245f-4938-9db5-02c235814358"
      },
      "outputs": [
        {
          "output_type": "execute_result",
          "data": {
            "text/plain": [
              "506"
            ]
          },
          "metadata": {},
          "execution_count": 65
        }
      ],
      "source": [
        "len(slur_words)"
      ]
    },
    {
      "cell_type": "code",
      "execution_count": 66,
      "metadata": {
        "id": "GDMtz9mw0j6W"
      },
      "outputs": [],
      "source": [
        "slur_words_set = set(slur_words)"
      ]
    },
    {
      "cell_type": "code",
      "execution_count": 67,
      "metadata": {
        "id": "JpepJ0bI0A0R"
      },
      "outputs": [],
      "source": [
        "# A dictonary to count the frequency of each slur word identified\n",
        "slur_counts = {}\n",
        "sentence_beforeRegex_list = []"
      ]
    },
    {
      "cell_type": "code",
      "source": [
        "sentence_beforeRegex_list_set = set(sentence_beforeRegex_list)"
      ],
      "metadata": {
        "id": "RzU5MZfh6ilD"
      },
      "execution_count": 68,
      "outputs": []
    },
    {
      "cell_type": "code",
      "execution_count": 69,
      "metadata": {
        "id": "9i8gF6fS0O4K"
      },
      "outputs": [],
      "source": [
        "'''\n",
        "for text in df['textOriginal']:\n",
        "    words = text.split()\n",
        "    for word in words:\n",
        "        if word in slur_words:\n",
        "            if word in slur_counts:\n",
        "                slur_counts[word] += 1\n",
        "            else:\n",
        "                slur_counts[word] = 1\n",
        "'''\n",
        "for text in df['textOriginal']:\n",
        "    if text is not None:\n",
        "        words = text.split()\n",
        "        slur_words_in_text = set(words) & slur_words_set\n",
        "        if slur_words_in_text:\n",
        "            if len(sentence_beforeRegex_list_set)<=100:\n",
        "                sentence_beforeRegex_list_set.add(text)\n",
        "        for word in slur_words_in_text:\n",
        "            if word in slur_counts:\n",
        "                slur_counts[word] += 1\n",
        "            else:\n",
        "                slur_counts[word] = 1\n",
        "# Problem with code, in set if a user has used the same word multiple times, set will dismiss that."
      ]
    },
    {
      "cell_type": "code",
      "execution_count": 70,
      "metadata": {
        "id": "9KVuST2x0QET"
      },
      "outputs": [],
      "source": [
        "sorted_slur_counts = dict(sorted(slur_counts.items(), key=lambda item: item[1], reverse=True))"
      ]
    },
    {
      "cell_type": "code",
      "execution_count": 71,
      "metadata": {
        "id": "NfvjZhJI1M4C",
        "colab": {
          "base_uri": "https://localhost:8080/"
        },
        "outputId": "3808089f-2219-45fc-d5af-fc962db220e7"
      },
      "outputs": [
        {
          "output_type": "execute_result",
          "data": {
            "text/plain": [
              "{'chutiya': 2647,\n",
              " 'chutiye': 1839,\n",
              " 'chod': 1788,\n",
              " 'mc': 1155,\n",
              " 'bsdk': 1147,\n",
              " 'stupid': 994,\n",
              " 'sali': 992,\n",
              " 'gaddar': 981,\n",
              " 'harami': 965,\n",
              " 'बलात्कार': 790,\n",
              " 'गद्दार': 623,\n",
              " 'tatti': 499,\n",
              " 'chamcha': 488,\n",
              " 'fat': 482,\n",
              " 'Randi': 418,\n",
              " 'balatkar': 395,\n",
              " 'jihadi': 383,\n",
              " 'साली': 355,\n",
              " 'chuda': 329,\n",
              " 'हरामी': 315,\n",
              " 'आतंकवादी': 295,\n",
              " 'Madarchod': 270,\n",
              " 'slave': 267,\n",
              " 'saali': 252,\n",
              " 'bai': 246,\n",
              " 'halala': 245,\n",
              " 'aatankwadi': 232,\n",
              " 'chatukar': 228,\n",
              " 'chamchi': 213,\n",
              " 'ugly': 210,\n",
              " 'chutia': 206,\n",
              " 'चाटुकार': 188,\n",
              " '---': 157,\n",
              " 'fuck': 155,\n",
              " 'bhadva': 153,\n",
              " 'bastard': 152,\n",
              " 'Gandu': 150,\n",
              " 'Gaand': 147,\n",
              " 'bhenchod': 142,\n",
              " 'गांड': 135,\n",
              " 'mooh': 115,\n",
              " 'lodu': 108,\n",
              " 'burnol': 103,\n",
              " 'मादरचोद': 101,\n",
              " 'चमची': 99,\n",
              " 'Gud': 97,\n",
              " 'kutti': 93,\n",
              " 'kutiya': 90,\n",
              " 'सूअर': 90,\n",
              " 'Maderchod': 89,\n",
              " 'nasty': 83,\n",
              " 'librandu': 83,\n",
              " 'jihadis': 80,\n",
              " 'चमचा': 76,\n",
              " 'रंडी': 72,\n",
              " 'दोगली': 69,\n",
              " 'Gatiya': 67,\n",
              " 'chakka': 67,\n",
              " 'Lodu': 66,\n",
              " 'चूतिये': 65,\n",
              " 'chudai': 65,\n",
              " 'Suar': 64,\n",
              " 'जिहादी': 63,\n",
              " 'bazaru': 61,\n",
              " 'bhosdiwale': 59,\n",
              " 'mujra': 58,\n",
              " 'crazy': 54,\n",
              " 'भड़वा': 54,\n",
              " 'रण्डी': 52,\n",
              " 'boobs': 50,\n",
              " 'naali': 50,\n",
              " 'sickular': 49,\n",
              " 'jhadu': 49,\n",
              " 'Chuslim': 49,\n",
              " 'chutie': 48,\n",
              " 'chakki': 46,\n",
              " 'हलाला': 46,\n",
              " 'छक्का': 45,\n",
              " 'hutiye': 45,\n",
              " 'पनौती': 45,\n",
              " 'hoe': 41,\n",
              " 'pimp': 40,\n",
              " 'Chut': 38,\n",
              " 'कुतिया': 38,\n",
              " 'pichwada': 36,\n",
              " 'Halwa': 36,\n",
              " 'chaka': 33,\n",
              " 'ramdi': 32,\n",
              " 'Gasti': 32,\n",
              " 'Meetha': 32,\n",
              " 'Ms': 31,\n",
              " 'haramjadi': 29,\n",
              " 'Lulli': 26,\n",
              " 'retarded': 26,\n",
              " 'Katwa': 26,\n",
              " 'मूत': 26,\n",
              " 'चरित्रहीन': 24,\n",
              " 'scumbags': 23,\n",
              " 'Kachra': 23,\n",
              " 'हगना': 22,\n",
              " 'bhootni': 22,\n",
              " 'Jihadis': 22,\n",
              " 'Mujra': 21,\n",
              " 'हरामजादी': 21,\n",
              " 'Lavde': 21,\n",
              " 'chuchi': 21,\n",
              " 'टट्टी': 20,\n",
              " 'चूस': 19,\n",
              " 'मदरचोद': 18,\n",
              " 'Chinal': 18,\n",
              " 'R@ndi': 17,\n",
              " 'Gaandu': 17,\n",
              " 'Rakhail': 15,\n",
              " 'poop': 14,\n",
              " 'रांड': 14,\n",
              " 'hagna': 13,\n",
              " 'चूत': 13,\n",
              " 'gadhi': 10,\n",
              " 'dyan': 10,\n",
              " 'रंडीखाना': 9,\n",
              " 'गधी': 9,\n",
              " 'छिनाल': 8,\n",
              " 'Bitch': 8,\n",
              " 'Panauti': 7,\n",
              " 'chus': 4,\n",
              " 'पिछवाड़ा': 4,\n",
              " 'chooda': 3,\n",
              " 'Ugly': 3,\n",
              " 'piss': 3,\n",
              " 'Simp': 2}"
            ]
          },
          "metadata": {},
          "execution_count": 71
        }
      ],
      "source": [
        "sorted_slur_counts\n",
        "# list(sorted_slur_counts.items())[:8]"
      ]
    },
    {
      "cell_type": "code",
      "execution_count": 72,
      "metadata": {
        "colab": {
          "base_uri": "https://localhost:8080/"
        },
        "id": "paUicBFQqVhT",
        "outputId": "25f9a101-9639-4207-f7f2-b551eb3d68d1"
      },
      "outputs": [
        {
          "output_type": "execute_result",
          "data": {
            "text/plain": [
              "25393"
            ]
          },
          "metadata": {},
          "execution_count": 72
        }
      ],
      "source": [
        "sum(sorted_slur_counts.values())"
      ]
    },
    {
      "cell_type": "code",
      "source": [
        "sentence_beforeRegex_list_set"
      ],
      "metadata": {
        "colab": {
          "base_uri": "https://localhost:8080/"
        },
        "id": "CHhnANko7G9s",
        "outputId": "371522d9-f2b9-4ee4-ed3a-b3cf1bbfca0f"
      },
      "execution_count": 73,
      "outputs": [
        {
          "output_type": "execute_result",
          "data": {
            "text/plain": [
              "{'01:10 high Drama bsdk mutrakarita band karo tum',\n",
              " '@Arvind Chaurasia andhbhakt to tu b h--   un pehelwano & socalled kisano & sickular & leftist & gaddar  partys ka....',\n",
              " '@Deepak Kumar kya majburi thi be batana to??kuch bhi analyse matkr le khud se chu tiye.  \\nagar unke pass proof hai to court jao na, road pr q ma a chuda rhe apni??',\n",
              " '@Dhaval Gite and yes i am andhbhakt can you accept that you are janmo janmantar charan chatu naak  ragdu pichvada chatu congressi chamcha',\n",
              " '@Dhaval Gite yes aur tu janmo janmantar charan chatu congressi chamcha',\n",
              " '@Nightmare Reality Haan tum jaise kutte toh mahilao ke kapde hi fat te dekhna chahte ho. Shree Ram hote toh tumhare Brijbhushan sar dhadh se alag hota.',\n",
              " '@Rahul makhija abe andbhakt wo bhushan jhoot bolrha hai\\nMast khush hai ek dum sala harami',\n",
              " '@gamingonline Abey bo bina national khelke Olympic Main jana chate hain or world champion hone se kya hoga sushil kumar world champion nahin thi kya bo murder kiya tha 😂 world champion hone se kya usko chod denge or sunle unko supreme court ke upar bharosa nahi hain or din main protest ratt main five star hotel main tumari protest hai😂😂😂 or jo Rakesh tikayat hain o sala tent house ke andar ac lagake reheta hai 😁😁😁😁😁',\n",
              " '@saikiran mamidishetty ab brainwashed andhnamazi gyan baantega...tu pichwada utha sirf 😂😂Aisa jaise wo teri ghar waali hai.Andhnamazi ke haseen sapne',\n",
              " '@sanjeeb mohanty on the basis of mere statements you want the person to be arrested ? Why are you so dumb ? It doesn’t work like that ! You are not even from Haryana u have no idea who these people behave and what’s their politics you are just stupid',\n",
              " '@🚩sanatani🚩 main to brijbhushan chu tiiye ka chamcha nai hu par tu vinesh phogat ka baccha hai sayad jise tere bhai ne pela tha',\n",
              " 'Abe bhosdi ke aatankwadi brijbhushan ki Jaat madrachod Tum Na Aaya Karo Samne Varna Tumko Goliyon se bunde Lenge bharatwasi Tum Desh Ke sabse bade aatankwadi ho per sabse Bade Don Ho Tum Ko bachane wala Yogi Yogi hai aur Kendra hai aur Amisha Tum sale apne aap ko tum kya samajhte ho Mard ho to Sadak per Aao tanker ke fenk di Jayegi Tumhari Tum Kis aukat Mein Utha Ko Nahin Thakur Malik Jaan Ho Tum Sanjay Jay Bheem Jay Bharat',\n",
              " 'Abe chutiye evidence hai rape ka?',\n",
              " \"Abe wrestler ho toh kya sale kuch bhi karoge No enter Zone mein protest karoge chutiyapa ka bhi haad hota hai, India gate hai, bhaut sari public area hai tum log Ab medal kyn nhi fank rahe ho, BC Faltu ka Darma, Ab kal ko BC gun leke chalane lag jao ge aur chahte ho Police kuch na kare, Rules and regulations bhi hote hai sala ajeeb chutiya log hai. Jab harassed hue tab nhi bola gaya, 5-6 mahine baad yaad aya ? Bhai sab dikh raha hai Politics hai ye sab.\\n\\nEdit: Parliament is not allowed for normal people to enter only authorised people can enter, and I can't believe in comments section people are so Illiterate they're actually supporting this bullishit, police should have arrested them.\",\n",
              " 'Agar champion pehelwan ko koi ched de    & wo chid jaye    to kahe ki pehlwan ? Medal kese jita ? Medal pe b shak hota h ese pehelwano k to..\\nDusri bat ---  saal bad hosh aya ? Arey muje to cheda gya tha !!!!!',\n",
              " 'Agr itna hi kharab h toh jitta kaise h ... actually voters hi chutiye h',\n",
              " \"Ahbi  bhaiya and niyu di god blessed to u.. U guy's doing great job we support u.💚.Dhruv rathe toh chutiya hai..... Good luck guys n best of luck... JAI SREE RAM 🌹\",\n",
              " 'Anurag thakur gaddar hai...',\n",
              " 'Are bsdiwalo thodi toh shrm kro wrestler aur sarkar dono 😂😂😂janta ke mathe pe chutiya likha hai kya',\n",
              " 'Are sharm kro BC police walo humare Desh ke support player h vo chutiya logo mana apni duty kre ho pr tumko saath dena chayiye Inka ulta Inka saath dena chahiye jo tum inko ghaseet rhe ho BC pgl ho kya',\n",
              " 'BB toh shakal say he bastard Lagta hai. BJP is making a big mistake yes Mr Modi should take quick and strict action against him he openly said he killed someone on TV.',\n",
              " 'BJP k kuch neta chodke sb chutiya he',\n",
              " 'Bhai maa chudaye modi aur Yogi mather chod h sale sb fattu ,,ik bat achi lgi last wali federation ka head player ko bnaya jaye na ki political leader ko ,, mai pandit hu bjp always vote krta hu ab life kabhi ni krunga vese to sb sale Mather chood h bahan chod sale 😊😊 aur ha mai bsc , ma , bed pada hu tb itni gali de paya 😊😊 socho meri feeling kitna bura lgta h ,, pure desh 1.40 cror ka abadi bs ye sale 545+245 lok sabha aur rs leaed krte inki bahan ....😕😕😡😡😡 Bhai Rona a jata h coment achi lgi ho like kro 😢😢',\n",
              " 'Bhai supreme court ne bhi mana kar dia in chutiye ko',\n",
              " 'Bjpigs are trying hard to protect rapist. Apni maa beheno ko bhej do brijbhushan ke paas mc bjpigs.',\n",
              " 'Bsdk jab court hi jaana tha toh itni rajneeti kyo kiye .. public ko chutiya banana band karo saari party ab😠',\n",
              " 'Chutiya sehar ki chutiya public kabhi metro me to kabhi kahi lekin fir bhi unhe koi matlab nhi sala isse to accha mera village hai❤❤',\n",
              " 'Chutiye h ye wrestlers... Jo chutiya logo ki baato me aa rhe h... Ye sab rajniti h... Congress walo ki... Mulle to BJO k anti h hi... SC ST walo ko bhi BJP k anti kiya भीम k naam pr.... BJP k vote tode... Ab in chutiyo k through or vote todne ki kosis ki jaa rhi h kyu ki श्री ब्रिज भूषण BJP k ek bde नेता h.... Or inke paas agr proof h to dikhao na... Hmare paas phle 2 3 ldkiya thi jo proof de rhi thi ab 5 6 ldkiya ho gyi h... Are ho gyi h to samne lao na, proof dikhao... Bas baate chod rhe h',\n",
              " 'Cm se pm tak sab harami hai',\n",
              " \"Criticizing is so easy . One day everyone realaise..about anyone's good ..bad or ugly .. wait n watch\",\n",
              " 'Dekhlo bhai ek pehalwan ki takat 10-10 police wale ki bhi tatti nikal gyi uthane mai🤣🤣🤣',\n",
              " \"Delhi police is so stupid , distracting the focus of the world from the grand spectacle of P.M modi's  high moment going to the new parliament house , to the ruckus with the wrestlers\",\n",
              " \"Don't impose your stupid opinion . Keep it to yourself.\",\n",
              " \"During me too in 2018 phogat said on a tv interview that nothing happened to her ( sexually). But now she is telling  that she is sexually haressed coz\\n\\n\\nNow rules for oylmpics are changed now they have to fight with the national wrestler first then only after winning they wil be able to join Olympics and recently they failed to win against other wrestlers coz these morons are aging and bajarang punia similarly lost a national game against a normal wrestler and the next month he was murdered. And u all know where is he now jail ki chakki pis ha hai loda 😂😂 and why these all wrestlers don't go to the police station when they r summoned whyyy ???\",\n",
              " 'Godi media mc',\n",
              " 'Hence proved yeh tatti bhakton sabse bade gaddar hein.. Jaun bhakt mile joote maaro',\n",
              " 'Humara kuch nhi ho sekta 😅😅sab bikaw hai 😢acchai ki koi value nhi....esi liye hii acche loog galat patience chod k kabhi na kabhi galat krne k liye majbur hoo jaate hai.... please 🥺🥺 acchai k sath do 🙏🙏🙏...c***iya aur matt bano',\n",
              " 'Indian media kya hai! (Tuchh) kisi ko chod ke. \\nIndia_Corruption country bani ja rahi hai, \\nOr aaj bhi log talve chat rahe hai kisi neta ke, .. \\n\\nKarib se dekha- suna hai. 😊',\n",
              " 'Is media h dekho sali chutia..',\n",
              " 'Jai Shree Krishna ❤\\nAab bhagwaan se karna hai inko 😂\\nLado kabhi bhi jihadi Sarkar nahi banegi aab Krishna Vasudev ne than lia hai Jaiii HOOOO ❤❤❤',\n",
              " 'Jb inke sath balatkar huwa tb kyo nhi boli,tb me le rhi thi, jb sansd ne karono ki mang nhi poori ki to ye ilzam lga rhi hai',\n",
              " 'Kashmir files hua ,kerala files hua....ab isko kya naam doge.  Jab ki a to ek hindu harami hai 😡😡',\n",
              " 'Kya baat h.sweta Bai ye news suna rhy godigiri chod de kya.ya phir brij.bhushan n bjp chod de.',\n",
              " 'Maderchod sarkar',\n",
              " 'Modi tatti waise bhi . rapist ko support karta hai .',\n",
              " 'Mother chod police and politicians',\n",
              " 'Ms anchor अगर इनके साथ कोई एंटी सोशल एलिमेंट घुस कर कोई घटना हो जाती तो कौन जिम्मेदार होता?',\n",
              " 'Neeta tumhari maai ki chodo desh ke yuva ka tu mai chod hi diye , abb Olympic khelo ko bhi ganda kar rahe ho tere mai ki chodo',\n",
              " 'Opposition ek baar bjp ke against 1 leader uthai , bss vote divide ni hona chaiye , fir dekhte hai anbhakt aur landbhakt kya kr skte hai ... Farmers aur soldiers ke liye he is PM ne sbse bura kiya hai ... Iska ek he funda hai ... Har chij me changes laao taaki uspr government expenditure kam ho then us bachai hua paise ko apne businessman friends me distribute krdo as a loan as us loan ko writeoff kra do .... Final step me us paise ko as a donation apne RSS ke bank account me daal lo taaki us paise se aage ke election jeete jaai sake ... Inhe pata hai bharat ki janta bewkoof hai islia he education expenditure kam krta jaa rha hai kyoki agar desh padh likh gya ache se to vaise bhi na to koi andhbhakt rahega na lundbhakt aur na he chamcha',\n",
              " 'Pahalwano Dharna khatam mat karo Lund Namaziyo ko bahut ummid hai tumse Kahi Dukh me Lund Namazi Puri Lulli hi Naa kaat le 😀😀',\n",
              " 'Parliament me kaun dharna deta hai bsdk',\n",
              " 'Police mediya or yee bhenchod berjbusan sb jhuthe h',\n",
              " 'RAAJA ji apne chod me ghum rahe hai mast.. sharam ani chahia Jo log BJP ko vote dete hai',\n",
              " 'Raja ko baithaya hai gaddi pr toh raja wali karwahi hi milegi 🙂\\nShame on these stupid and  illiterate politicians!',\n",
              " 'Sab Gud Ghu Ghobar Kar rakha hai',\n",
              " 'Sabse chutiya wo andhbhakt log h Jo sochte h modi yogi hmara h arey ni re bade jaat wale ya bjp k candidate ko modi yogi kch ni krege chahe unpe rape case hi kyu n ho wo sirf tm hinduo ko chutiya bnate h or kch nhi',\n",
              " 'Sale neta man sab ke sab mc h paise ke bhuke h sale',\n",
              " \"Shocked wrestlers are supposed to obey the law and order of India. I am shocked to note that certain wrestlers cooperated with opposition to paint ugly pictures about BJP. Wrestlers are making politics on their allegations. World watched how wrestlers are using politics to internationalise the issues. Wrestlers are represented by lawyers. Why protest on the New Parliament opening ceremony. What's the agenda? All wrestlers involved should be dismissed from the Wrestlers Association or represent sports in India. Law has to be tough with protesters. BJP will soon release how wrestlers received financial and moral support from opposition.\",\n",
              " 'Socho Brijbhusan ke samne  Modi ji ka ye haal hai,ki arrest nahi karwa rahe court order hone ke baad bhi to desh ke aam admi ki kitni fat ti hogi Brijbhusan singh se wo bhi jo unke area me rahte hain😢',\n",
              " 'Sports ko lead aise chutiye karte h jinko sports ka S tk nhi pata hota...like brij bhusan',\n",
              " 'Sweta Singh chatukar',\n",
              " 'The So-Called \"Mann ki Baat\" बोलनेवाले  Great PM of India की बोलती बंद क्यूँ है  ?????????!!!!!!!!!!!!\\nबोलने का तो बहुत शौक है,  इस PM को  ......\\nAnyways, I came to know about him 1st time from Yr video, BUT  That BRAJBHUSHAN SINGH  देखते ही Face पर से हरामी & Corrupt  दिखाई देता है,  \\nNo wonder he is facing such accusations;  UP तो वैसे भी गुंडों का State है  !!! 😂\\nBUT the Important Point is What this Modi is doing ?!  Ultimately,  Even he is More  a Politician than a Good Leader.......\\nAnyways,  Who will go in sports field in India,  which is filled with Politics from Top to Bottom.......\\nIn fact , Our Country \\'s  Many Systems need to Change by REMOVING POLITICIANS  FROM OWNING CHAIRS & TAKING DECISIONS,  In VARIOUS FEDERATIONS as SPORTS,  or ANY OTHER FIELDS,  Where they Exist,  as THESE BASTARD POLITICIANS  Are Anyways  GOONS in the End  or  Wealth Accumulators  at the Cost of the Common Man..... who don\\'t know the Definition of Hard Work........Very Less are True Leaders in the system  , \\nSO  OUR  MANY  SYSTEMS  NEED To  CHANGE .............',\n",
              " 'The reporter who asked\\n1. Why did you not come up earlier\\n2. Federation kills careers, there are young people with you.\\n\\nThis reporter should be slapped 100 times and taught journalistic integrity and most importantly to respect victims by not asking such stupid questions. Bloody idiot of the highest order.',\n",
              " 'These stupid police sent by politicians for LO duty, this show how stupid police or force are',\n",
              " 'This is india i mean randistan Salo dosro ky desh mein bolny sy phly Aurat ke ezat krna sekho bsdk lant aise government py',\n",
              " \"This is ur peaceful protest/march? On this day? What drastic happened in a day to basically break clear line of security baricades where u know what was happening there? Next will u do this in middle of republic day parade?? And call it freedom of expression?? Vandalizing Red Fort was peaceful protest too?? Either u think everyone is dumb or u are. If u can't see or understand what's going on, don't bother commenting 🙄\\n\\nAlso giving plans to create more nuisance discreetly?? Have some shame. Not everyone is stupid enough to not understand the intensions 🙄\",\n",
              " 'Thoko inko yea wrestler nehi gaddar hai in gaddaro say pura award wapas liya jaye aur jin jin gaddaro ko govt nay job diya hai turant laat maar k nikalo paisa sud samet wapas lay liya jayea aur in gaddaro ko ban kar diya jayea',\n",
              " 'Tu gaddar hai bhai desh ka',\n",
              " 'Tu sali kutiya hai modi ki gf hai tab bta deti to thik tha',\n",
              " 'Tum dono chutiye Sanghi Abhi & Niyu, apna chutiyapa bandh karo.. Ab Tak logical videos ke aad mein BJP propaganda promote karne waale Tum chor logon ko Kashmir Files & Kerala Story jaisi propaganda movies Sahi lagi, jiski facts ko baad mein khud BJP Govt. dwara suppressed Supreme Court Tak bhi galat theherai aur disclaimer mein “facts & figures unreal hain” mention karne ko Aadesh Diya.. Tum Dalaal Hijdon ko Hindenburg ki reports bhi galat lagi thi.. Aaj jab ke yeh Aadmi openly media ke saamne murder and other crimes qubool kiya hai, tab jab chhupane laayak kuch bachaa nahin, Tum Dalaal log viewers ko chutiya samajhte hue, is insane ko galat bolna ki acting Kar rahe ho.. Par tumko khud andar se pata hai ke Tum log is Brij Bhushan ko support karte agar yeh khud apni crimes camera ke aage quboola na Hota.. So stop this cheap acting you parasite..',\n",
              " \"Tum lok India ke ho ya Pakistan ki ukrean me fight ke time p jo bharat ke jhanda lekhe rahega aur bharatiye bol3ge unko sahidhilamat Ghar pe chod Diya jayega bol rahe the lekin ye hamare desh me hi Jo bharat ke jhande pakde hue hai unko aise bhlyabhahar mereko tho thik Nehi lagta upar se ye log international level pe bhart ko represent karte hai dhik hai tumhare jiban par dilhi police. U don't have humanity and at last I want to say best of luck keep it up and aise hi karte raho police is for people is proven wrong by you u all are for the politicians and the rich mans others always get punished by you chi chi.\",\n",
              " 'Waaah re modi Tu aur teri sarkaar........... Rahul gandhi ki sadasyta khatm krne me 2 din ni laga aur ye bhadva abhi tk baahar......... Rahul jaisa speech dena jaada bada gunaah h ya phir aise balaatkaar karna jaada bada gunaah hai',\n",
              " \"What a stupid reporter ?? She is saying - scuffle broke out between police and protester .. is she blind ??? Can't she see police is forcible removing them .. this is not 2 sided scuffle .. just one sided display of power .. did she see any wrestler hitting police ??? If not - how shameless of her to call is scuffle\",\n",
              " 'When wrestling is full mujra 😂',\n",
              " 'Ye modi ki chamchi hai  ab samne aa rahi hai itne dino se pahalbano ke sath jo ho raha tha bo abhi tak nahi dikhaya',\n",
              " 'Ye sab ke liye des ke chatukar media bhi jimedar he',\n",
              " 'Ye sab vipasksh ke chatukar hai, pahilwan nahi',\n",
              " 'Yogi aur modi ka ab nyay kidhr h bsdk sirf muslimo p nyay krega Aaj yha kyu ni k rhe h ye dono',\n",
              " 'bina trial khele sirf ek boyt ke baad Okympic jaane ka mauka mil gaya  Yehi to chahte the ye besharm anpad jaahil jaat pehelwan haryana ke.  \\nSahi me besharmi karo to aisi. \\nThoo bai inpe aur inke jaiso pe. Kabhi nhi sudharenge ye. Inki soch me ki chotapan hai.',\n",
              " 'bsdk PM kya krega isme....jake polity pdh phele',\n",
              " 'jail mey dalo salo ko.champion banke masti chadi hai mc bc ko bsdk',\n",
              " 'kehna ye hai ye players politics kr rahe hai,7 salo se sosan nhi dikha,Har sal sath pic with comfortable position, ab Chunav h to bjp ko Target krana with JNU nara ( modi teri kabar khudegi Aaj nahi to kal) jao Hanuman akhde mei waha sare pehelwan milege practice krte hue, ye jija sali ek hi family h jinhone kabja kara hua hai or naye bacho ko age nhi jane dete,or khud bina trail k Olympic mei jana chahte hai.',\n",
              " 'modi chutiya number 1',\n",
              " 'now the  fat is in the fire',\n",
              " 'pura parivaar chutiya hai',\n",
              " 'wah mere desh ke chutiya police',\n",
              " 'इनसे भी पूछ लिया होगा \\n😁 आम चूस कर खाया था कि काट कर 😁',\n",
              " 'एक हरामी को बचाने के लिए सरकार और कितना गिरेगी । ये देश का दुर्भाग्य है जो ऐसी बेशर्म सरकार के हाथों में है जो दिन रात देश का शोषण करने में लीन रहते हैं',\n",
              " 'कोई नहीं वोट बीजेपी को ही देना है नहीं तो मुसलमान देश पर कब्जा कर लेगे, कैसे गद्दार हो तुम देशहित मे पिट नहीं सकते, अपने साथ छेड़छाड़ नहीं करा सकते, आदि आदि',\n",
              " 'जिहादी कौम यह सुप्रीम कोर्ट तय करेगा तुम नहीं करेंगे यह ध्यान देना हमारे को बंद करें',\n",
              " 'देश का सबसे बड़ा चाटुकार पत्रकार रजत शर्मा ही है',\n",
              " 'नेता हरामी होता हैँ',\n",
              " 'ये पुलिस अधिकारी नही सरकार की चमची लग रही है',\n",
              " 'सने सने बीजेपी के कार्यकर्ता सांसद एमएलए का चरित्र सामने आता रहा है। अंदाजा इसी बात से लगाया जा सकता है कि बीजेपी चरित्रहीन पार्टी है तभी तो यह लंपट छिछोरा ब्रजभूषण शरण को बचाने में लगे हुए हैं। यही हिंदू राष्ट्र की परिकल्पना है। ओलंपिक पदक लाने वाली देश का गौरव देश की मान और शान जिन बेटियों ने बढ़ाया आज वही न्याय के लिए भटक रही है। जब ऐसा होने लगता तब मन गिलानी से भर जाता है। आज फिर लड़कियों के सामने यही एक रास्ता बचा है। जब लड़कियां ओलंपिक मेडल को गंगा में प्रवाहित कर रही होंगी। तब यह सरकार अपने आपको गौरवान्वित महसूस करेगी। वहीं विश्व पटल पर देश शर्मिंदगी झेल रहा होगा। विश्व गुरु गर्व महसूस कर रहे होंगे।',\n",
              " 'सभी महिलाओं को भाजपा को वोट देने के लिए शर्मिंदा होना चाहिए। क्या आप चाहते हैं कि आपकी बहन और बेटियों का शोषण और बलात्कार भाजपा के मंत्रियों द्वारा किया जाए?',\n",
              " 'सही कर रहे हैं पुलिस वाले... बेवजह Controversies पैदा करना, आता जाता कुछ है नहीं, बिना मेहनत किए ऑलम्पिक में भेज दो इनको, इतने सालों से wrestling हो रहीं हैं हिन्दुस्तान मे, इनको अब याद आया है कि इनके साथ बलात्कार हुआ था जबर्दस्ती हुई थी, अगर ये ना माने तो डंडे बरसाओ और ये केजरीवाल जैसा कोई नेता बीच में पड़े तो उसके भी दो पिछवाड़े पर',\n",
              " 'सही किया ब्रजभूषण शरण सिंह जी ने ये हिन्दुओं के खिलाफ कार्रवाई करते हैं इण्डिया टीवी वाले हरामी हैं',\n",
              " '\\u200b@Darshan Mhatre register hoga tab na ladega apne bap ko bol ke ispe kuch bole aur jo khalistani ka excuse de raha h andbhakth yesa hota to ye wrestlers aap congress reject na karti bhadwe samjha aur reply karne ayya to tera location nikal wa ke tere khandan ko chodne ke liye log bhejunga andbhakth bhag bsdk',\n",
              " '\\u200b@EmJackbut if law is meaningless, then it meant to be broken. No good supporting stupid laws like that.',\n",
              " '\\u200b@Rahul Sharmajust cause the retarded govt says so?',\n",
              " '\\u200b@Sayantan Das kyun ki tum chutia ho bass case chal raha bsdk protest kr ke gand marwa reh madrchod ur wo bhi parliament inauguration ke sin😊'}"
            ]
          },
          "metadata": {},
          "execution_count": 73
        }
      ]
    },
    {
      "cell_type": "code",
      "execution_count": 74,
      "metadata": {
        "colab": {
          "base_uri": "https://localhost:8080/",
          "height": 53
        },
        "id": "3Ki8OyVH1h0Y",
        "outputId": "a75bf4e3-7ee4-4265-887b-8daa80ba0fd7"
      },
      "outputs": [
        {
          "output_type": "execute_result",
          "data": {
            "text/plain": [
              "'\\nOne thing is clear from this, all the explicit words that are in english are not there in the list,\\nthis means youtube either deletes them or hides them. And the moderation for local vernacular language is weak.\\n'"
            ],
            "application/vnd.google.colaboratory.intrinsic+json": {
              "type": "string"
            }
          },
          "metadata": {},
          "execution_count": 74
        }
      ],
      "source": [
        "'''\n",
        "One thing is clear from this, all the explicit words that are in english are not there in the list,\n",
        "this means youtube either deletes them or hides them. And the moderation for local vernacular language is weak.\n",
        "'''"
      ]
    },
    {
      "cell_type": "markdown",
      "metadata": {
        "id": "Gf_9F-ZOs7GX"
      },
      "source": [
        "# Regex\n",
        "What is a Regex? -> a sequence of characters that specifies a match pattern in text.\n",
        "\n",
        "**Step 1** - Clean and Preprocess the Data\n",
        "1.   Remove User Names - `r'@\\w+\\b'`\n",
        "2.   Remove URL's and unecessary puntuation marks - `[^\\w\\s.]|http\\S+|www\\S+|https\\S+`\n",
        "3.  Remove Double spaces - `r'\\s+', ' '`\n",
        "4.  Remove any leading or trailing spaces - `.strip()`\n",
        "\n"
      ]
    },
    {
      "cell_type": "code",
      "execution_count": 75,
      "metadata": {
        "id": "9aV5NzMgQGGt"
      },
      "outputs": [],
      "source": [
        "text = \"@user, temp, temp, ;;;;;;;; I hate the offensive and racist comments\\n\\n\\n. They disgust me. Visit https://example.com for more information.\""
      ]
    },
    {
      "cell_type": "code",
      "execution_count": 76,
      "metadata": {
        "id": "N_PB_pscRk7M"
      },
      "outputs": [],
      "source": [
        "def clean_text(text):\n",
        "    cleaned_text = re.sub(r'@\\w+\\b|[^\\w\\s.]|(?:https?|ftp)://\\S+|www.\\S+', '', text).replace('\\n', '').strip()\n",
        "    cleaned_text = re.sub(r'\\s+', ' ', cleaned_text)\n",
        "    return cleaned_text"
      ]
    },
    {
      "cell_type": "code",
      "execution_count": 77,
      "metadata": {
        "colab": {
          "base_uri": "https://localhost:8080/"
        },
        "id": "hnQA427sRlD2",
        "outputId": "9443ace9-8556-45c5-8dee-69360b0aea9f"
      },
      "outputs": [
        {
          "output_type": "stream",
          "name": "stdout",
          "text": [
            "temp temp I hate the offensive and racist comments. They disgust me. Visit for more information.\n"
          ]
        }
      ],
      "source": [
        "print(clean_text(text))"
      ]
    },
    {
      "cell_type": "code",
      "execution_count": 78,
      "metadata": {
        "id": "IflpecuSYyIj"
      },
      "outputs": [],
      "source": [
        "regexDf = df[['textOriginal']]"
      ]
    },
    {
      "cell_type": "code",
      "execution_count": 79,
      "metadata": {
        "colab": {
          "base_uri": "https://localhost:8080/"
        },
        "id": "WtblBbYxaYI_",
        "outputId": "9f509738-fc34-4f41-a3a1-aa0f9edca725"
      },
      "outputs": [
        {
          "output_type": "stream",
          "name": "stderr",
          "text": [
            "<ipython-input-79-547ff038857b>:2: SettingWithCopyWarning: \n",
            "A value is trying to be set on a copy of a slice from a DataFrame.\n",
            "Try using .loc[row_indexer,col_indexer] = value instead\n",
            "\n",
            "See the caveats in the documentation: https://pandas.pydata.org/pandas-docs/stable/user_guide/indexing.html#returning-a-view-versus-a-copy\n",
            "  regexDf['textOriginal'] = regexDf['textOriginal'].apply(lambda x: clean_text(x))\n"
          ]
        }
      ],
      "source": [
        "# clean text\n",
        "regexDf['textOriginal'] = regexDf['textOriginal'].apply(lambda x: clean_text(x))"
      ]
    },
    {
      "cell_type": "markdown",
      "metadata": {
        "id": "LPEhnFZt3CZx"
      },
      "source": [
        "### Just check the count of words from the slur list ignoring case (upper or lower) of the word. We also look if any word from the slur list is present as a sub-string of any other word in the dataset.\n",
        "\n",
        "1.   `re.findall()` - searches for all non-overlapping occurrences of a pattern in a given text.\n",
        "2.   `(?i)` - make matching case-insenstive\n",
        "3.  `'(' + '|'.join(slur_words) + r')'` - find a pattern that matches any of the slur words"
      ]
    },
    {
      "cell_type": "code",
      "execution_count": 80,
      "metadata": {
        "id": "39Tc9rWUg6sM"
      },
      "outputs": [],
      "source": [
        "skip_regex = False"
      ]
    },
    {
      "cell_type": "code",
      "source": [
        "slur_word_counts = {}\n",
        "sentence_afterRegex_list = []"
      ],
      "metadata": {
        "id": "ZDyzKHQ97nyP"
      },
      "execution_count": 81,
      "outputs": []
    },
    {
      "cell_type": "code",
      "source": [
        "sentence_afterRegex_list_set = set(sentence_afterRegex_list)"
      ],
      "metadata": {
        "id": "4ot2p0IN7tj2"
      },
      "execution_count": 82,
      "outputs": []
    },
    {
      "cell_type": "code",
      "source": [
        "search_words_women = [\"women\", \"woman\", \"aurat\", \"ladki\", \"lady\", \"girl\", \"female\", \"wife\"]\n",
        "search_words_women_set = set()"
      ],
      "metadata": {
        "id": "bdhQ-uXn_mhM"
      },
      "execution_count": 83,
      "outputs": []
    },
    {
      "cell_type": "code",
      "execution_count": 84,
      "metadata": {
        "colab": {
          "base_uri": "https://localhost:8080/"
        },
        "id": "3ko9uzVxcC6z",
        "outputId": "bde2ea2c-7d24-4b01-bc04-a7274f31f8b7"
      },
      "outputs": [
        {
          "output_type": "stream",
          "name": "stdout",
          "text": [
            "CPU times: user 7min 18s, sys: 977 ms, total: 7min 19s\n",
            "Wall time: 7min 21s\n"
          ]
        }
      ],
      "source": [
        "%%time\n",
        "for index, row in regexDf.iterrows():\n",
        "    text = row['textOriginal']\n",
        "    # matches = re.findall(r\"(?i)\\b(\" + '|'.join(slur_words) + r\")\\b\", text)\n",
        "    matches = re.findall(r'(?i)(' + '|'.join(slur_words) + r')', text)\n",
        "    if matches:\n",
        "        if len(sentence_afterRegex_list_set) <= 100:\n",
        "            sentence_afterRegex_list_set.add(text)\n",
        "    if matches:\n",
        "        text_lower = text.lower()\n",
        "        if set(text_lower) & set(search_words_women):\n",
        "            if len(search_words_women_set)<=100:\n",
        "                search_words_women_set.add(text)\n",
        "    for match in matches:\n",
        "        slur_word_counts[match] = slur_word_counts.get(match, 0) + 1"
      ]
    },
    {
      "cell_type": "code",
      "execution_count": 85,
      "metadata": {
        "id": "99la6tMI0rMb",
        "colab": {
          "base_uri": "https://localhost:8080/"
        },
        "outputId": "41a25bb5-3fcd-4e46-e33f-9af619fe54c3"
      },
      "outputs": [
        {
          "output_type": "execute_result",
          "data": {
            "text/plain": [
              "{'ms': 13407,\n",
              " 'halwa': 8551,\n",
              " 'bai': 9483,\n",
              " 'chut': 2591,\n",
              " 'Lulli': 26,\n",
              " 'simp': 1725,\n",
              " 'randi': 813,\n",
              " 'bsdk': 1323,\n",
              " 'fuck': 697,\n",
              " 'fat': 3144,\n",
              " 'MC': 744,\n",
              " 'chod': 7929,\n",
              " 'harami': 1399,\n",
              " 'FAT': 180,\n",
              " 'Harami': 199,\n",
              " 'motherfucker': 25,\n",
              " 'chutiya': 3554,\n",
              " 'mc': 3103,\n",
              " 'gud': 372,\n",
              " 'Chutiya': 939,\n",
              " 'MS': 459,\n",
              " 'Chut': 387,\n",
              " 'stupid': 1372,\n",
              " 'hoe': 903,\n",
              " 'madarchod': 1037,\n",
              " 'Simp': 376,\n",
              " 'chaka': 371,\n",
              " 'slims': 1596,\n",
              " 'sali': 1361,\n",
              " 'tatti': 512,\n",
              " 'Tukde tukde gang': 130,\n",
              " 'ugly': 264,\n",
              " 'chakka': 1216,\n",
              " 'Sali': 275,\n",
              " 'chuda': 545,\n",
              " 'Chod': 343,\n",
              " 'lulli': 43,\n",
              " 'mujra': 58,\n",
              " 'gaddar': 1873,\n",
              " 'Librandu': 222,\n",
              " 'jihadi': 624,\n",
              " 'chamcha': 819,\n",
              " 'BALATKAR': 199,\n",
              " 'CHUDA': 59,\n",
              " 'retarded': 26,\n",
              " 'Maderchod': 98,\n",
              " 'CRAZY': 37,\n",
              " 'gaand': 930,\n",
              " 'Jihadi': 182,\n",
              " 'gatiya': 303,\n",
              " 'Bsdk': 456,\n",
              " 'bitch': 117,\n",
              " 'kutiya': 121,\n",
              " 'bastard': 351,\n",
              " 'balatkar': 2631,\n",
              " 'chatukar': 454,\n",
              " 'HALF M': 22,\n",
              " 'Mc': 583,\n",
              " 'Fat': 241,\n",
              " 'crazy': 159,\n",
              " 'aatankwadi': 325,\n",
              " 'Gud': 194,\n",
              " 'GADDAR': 119,\n",
              " 'CHUDAIL': 21,\n",
              " 'Bai': 479,\n",
              " 'Ms': 191,\n",
              " 'chamchi': 213,\n",
              " 'bhenchod': 179,\n",
              " 'sickular': 49,\n",
              " 'gandu': 693,\n",
              " 'suar': 799,\n",
              " 'poop': 63,\n",
              " 'Randi': 498,\n",
              " 'Balatkar': 995,\n",
              " 'Stupid': 134,\n",
              " 'chutiye': 2074,\n",
              " 'pichwada': 39,\n",
              " 'pimp': 86,\n",
              " 'slave': 523,\n",
              " 'victim card': 671,\n",
              " 'Fuck': 208,\n",
              " 'burnol': 135,\n",
              " 'bhadva': 155,\n",
              " 'Victim card': 62,\n",
              " 'chakki': 46,\n",
              " 'Chutiye': 146,\n",
              " 'BASTARD': 10,\n",
              " 'kachra': 93,\n",
              " 'Tatti': 51,\n",
              " 'halala': 286,\n",
              " 'Halwa': 36,\n",
              " 'maderchod': 204,\n",
              " 'Gaddar': 349,\n",
              " 'Chamcha': 91,\n",
              " 'lavde': 169,\n",
              " 'Gaand': 180,\n",
              " 'tukde tukde gang': 394,\n",
              " 'libtard': 13,\n",
              " 'Gatiya': 67,\n",
              " 'drama queen': 46,\n",
              " 'Gandu': 226,\n",
              " 'SIMP': 20,\n",
              " 'Saali': 54,\n",
              " 'budhdhi': 10,\n",
              " 'piss': 118,\n",
              " 'hagna': 58,\n",
              " 'LOVEJIHAD': 10,\n",
              " 'BAI': 120,\n",
              " 'PIMP': 34,\n",
              " 'gasti': 10,\n",
              " 'saali': 303,\n",
              " 'Tukde Tukde gang': 21,\n",
              " 'fAt': 10,\n",
              " 'hilana': 22,\n",
              " 'librandu': 260,\n",
              " 'lodu': 169,\n",
              " 'Madarchod': 292,\n",
              " 'Suar': 81,\n",
              " 'mC': 22,\n",
              " 'gaandu': 64,\n",
              " 'dyan': 290,\n",
              " 'lanti': 10,\n",
              " 'BSDK': 25,\n",
              " 'hutiye': 73,\n",
              " 'homo': 45,\n",
              " 'FUCK': 23,\n",
              " 'gadhi': 10,\n",
              " 'nalli': 10,\n",
              " 'jihadis': 136,\n",
              " 'Homo': 10,\n",
              " 'katwa': 112,\n",
              " 'Chus': 26,\n",
              " 'TUKDE TUKDE GANG': 5,\n",
              " 'nasty': 101,\n",
              " 'Crazy': 28,\n",
              " 'whore': 19,\n",
              " 'Chuslim': 115,\n",
              " 'SLAVE': 26,\n",
              " 'Katwa': 26,\n",
              " 'mcp': 52,\n",
              " 'Slave': 42,\n",
              " 'Chaka': 42,\n",
              " 'Mujra': 21,\n",
              " 'Moslem': 53,\n",
              " 'CHUTIYE': 29,\n",
              " 'CHOD': 143,\n",
              " 'Chatukar': 100,\n",
              " 'HALWA': 303,\n",
              " 'scumbags': 26,\n",
              " 'Pimp': 11,\n",
              " 'SLIMS': 23,\n",
              " 'HARAMI': 21,\n",
              " 'chus': 220,\n",
              " 'half m': 29,\n",
              " 'RAKHAIL': 136,\n",
              " 'chooda': 32,\n",
              " 'STUPID': 49,\n",
              " 'Ugly': 3,\n",
              " 'mooh': 147,\n",
              " 'kutti': 127,\n",
              " 'boobs': 50,\n",
              " 'MADARCHOD': 3,\n",
              " 'CRAzY': 3,\n",
              " 'chuslim': 134,\n",
              " 'UGLY': 29,\n",
              " 'Burnol': 42,\n",
              " 'Lodu': 66,\n",
              " 'PANAUTI': 16,\n",
              " 'slut': 3,\n",
              " 'bhosad': 83,\n",
              " 'Panauti': 7,\n",
              " 'Chakka': 34,\n",
              " 'naali': 52,\n",
              " 'mS': 135,\n",
              " 'gash': 20,\n",
              " 'SUAR': 49,\n",
              " 'LODU': 1,\n",
              " 'meetha': 8,\n",
              " 'Bhadva': 31,\n",
              " 'haramjadi': 37,\n",
              " 'JIHADI': 21,\n",
              " 'bhosdiwale': 60,\n",
              " 'Lavde': 26,\n",
              " 'Bastard': 67,\n",
              " 'GUD': 7,\n",
              " 'LAVDE': 17,\n",
              " 'Bhosdiwale': 26,\n",
              " 'CHUT': 30,\n",
              " 'chakko': 10,\n",
              " 'Kutti': 57,\n",
              " 'gaSh': 18,\n",
              " 'mulli': 10,\n",
              " 'bint': 78,\n",
              " 'Bhosad': 17,\n",
              " 'CHAKKA': 5,\n",
              " 'Hilana': 5,\n",
              " 'Pagal aurat': 2,\n",
              " 'Chuda': 34,\n",
              " 'Mooh': 69,\n",
              " 'jhadu': 49,\n",
              " 'GANDU': 32,\n",
              " 'chudai': 94,\n",
              " 'Aatankwadi': 82,\n",
              " 'ramdi': 32,\n",
              " 'mutth': 48,\n",
              " 'TATTI': 40,\n",
              " 'Gasti': 32,\n",
              " 'Tukde tukde Gang': 53,\n",
              " 'rakhail': 163,\n",
              " 'CHAMCHA': 69,\n",
              " 'Chamchi': 66,\n",
              " 'pagal Aurat': 29,\n",
              " 'Victim Card': 29,\n",
              " 'Gadhi': 55,\n",
              " 'chudail': 37,\n",
              " 'hilaogi': 58,\n",
              " 'Tukde Tukde Gang': 29,\n",
              " 'Kachra': 23,\n",
              " 'HALALA': 82,\n",
              " 'KACHRA': 19,\n",
              " 'pataka': 17,\n",
              " 'Whore': 17,\n",
              " 'bhimta': 15,\n",
              " 'bazaru': 61,\n",
              " 'Mutth': 8,\n",
              " 'Drama queen': 239,\n",
              " 'SAALI': 1,\n",
              " 'TUKDE TUKDE gang': 2,\n",
              " 'DRAMA QUEEN': 1,\n",
              " 'chinal': 60,\n",
              " 'Meetha': 32,\n",
              " 'cunt': 32,\n",
              " 'hoMo': 50,\n",
              " 'CHUTIYA': 33,\n",
              " 'CHAKA': 32,\n",
              " 'Jihadis': 52,\n",
              " 'bhootni': 22,\n",
              " 'chuchi': 42,\n",
              " 'Presstitutes': 17,\n",
              " 'presstitutes': 25,\n",
              " 'Gaandu': 18,\n",
              " 'Rakhail': 15,\n",
              " 'Bitch': 8,\n",
              " 'panauti': 42,\n",
              " 'puke': 8,\n",
              " 'tawaif': 16,\n",
              " 'PUKE': 8,\n",
              " 'battameez': 8,\n",
              " 'SALI': 3,\n",
              " 'fag': 16,\n",
              " 'chalu aurat': 3,\n",
              " 'ghatiya aurat': 2,\n",
              " 'BHADVA': 39,\n",
              " 'Loosu': 31,\n",
              " 'FemiNazi': 31,\n",
              " 'athai': 42,\n",
              " 'Dyan': 18,\n",
              " 'Halala': 34,\n",
              " 'BURNOL': 18,\n",
              " 'Chinal': 18,\n",
              " 'victim Card': 17,\n",
              " 'Madarjaat': 13,\n",
              " 'hoE': 13,\n",
              " 'CHATUKAR': 21,\n",
              " 'POOP': 12,\n",
              " 'pagal aurat': 11,\n",
              " 'RANDI': 7,\n",
              " 'GAAND': 7,\n",
              " 'haLwa': 7,\n",
              " 'pube': 7}"
            ]
          },
          "metadata": {},
          "execution_count": 85
        }
      ],
      "source": [
        "slur_word_counts"
      ]
    },
    {
      "cell_type": "code",
      "execution_count": 86,
      "metadata": {
        "colab": {
          "base_uri": "https://localhost:8080/"
        },
        "id": "JXUSGr9p12kR",
        "outputId": "6f7b3f11-699c-475c-8e56-5e40c07be331"
      },
      "outputs": [
        {
          "output_type": "execute_result",
          "data": {
            "text/plain": [
              "101382"
            ]
          },
          "metadata": {},
          "execution_count": 86
        }
      ],
      "source": [
        "sum(slur_word_counts.values())"
      ]
    },
    {
      "cell_type": "code",
      "execution_count": 87,
      "metadata": {
        "colab": {
          "base_uri": "https://localhost:8080/"
        },
        "id": "0dtcUCgt6YlO",
        "outputId": "190044c3-5a63-4985-9774-1a2b53a5b7df"
      },
      "outputs": [
        {
          "output_type": "stream",
          "name": "stdout",
          "text": [
            "[('ms', 13407), ('bai', 9483), ('halwa', 8551), ('chod', 7929), ('chutiya', 3554), ('fat', 3144), ('mc', 3103), ('balatkar', 2631)]\n"
          ]
        }
      ],
      "source": [
        "sorted_slur_word_counts = dict(sorted(slur_word_counts.items(), key=lambda item: item[1], reverse=True))\n",
        "print(list(sorted_slur_word_counts.items())[:8])"
      ]
    },
    {
      "cell_type": "code",
      "source": [
        "sentence_afterRegex_list_set"
      ],
      "metadata": {
        "colab": {
          "base_uri": "https://localhost:8080/"
        },
        "id": "7S8JKGNu8FX3",
        "outputId": "73c3ea1c-6ddb-474c-9041-deca02387da1"
      },
      "execution_count": 88,
      "outputs": [
        {
          "output_type": "execute_result",
          "data": {
            "text/plain": [
              "{'Aaj tum sab log en medal laneh valeh en ladkiyo ko dekho...aur bas namardo ki tarah apni ghar peh bait keh en cheezo chup chap honeh do...kal tumari maa betiyo aur beheno biwi peh b ayenge bas tum namard bankeh rahna.....tum log es mahan desh ki praja ho...yeh veero ka desh hai...tumareh aage apni maa beti bahan peh shoshan hoga tho tum namardo ki tarah deko geh yah lado geh',\n",
              " 'Abe wrestler ho toh kya sale kuch bhi karoge No enter Zone mein protest karoge chutiyapa ka bhi haad hota hai India gate hai bhaut sari public area hai tum log Ab medal kyn nhi fank rahe ho BC Faltu ka Darma Ab kal ko BC gun leke chalane lag jao ge aur chahte ho Police kuch na kare Rules and regulations bhi hote hai sala ajeeb chutiya log hai. Jab harassed hue tab nhi bola gaya 56 mahine baad yaad aya Bhai sab dikh raha hai Politics hai ye sab.Edit Parliament is not allowed for normal people to enter only authorised people can enter and I cant believe in comments section people are so Illiterate theyre actually supporting this bullishit police should have arrested them.',\n",
              " 'Abey bo bina national khelke Olympic Main jana chate hain or world champion hone se kya hoga sushil kumar world champion nahin thi kya bo murder kiya tha world champion hone se kya usko chod denge or sunle unko supreme court ke upar bharosa nahi hain or din main protest ratt main five star hotel main tumari protest hai or jo Rakesh tikayat hain o sala tent house ke andar ac lagake reheta hai',\n",
              " 'All are motherfuckers',\n",
              " 'All the stupids and assholes commenting in favour of wrestlers are very conveniently hiding the fact that these wrestlers deliberately tried to march into parliament which is not allowed. Parliament is not for some random tom dick and harry. Police did the right thing by detaining them. I hope police should have done lathi charge as well since these protestors are politically motivated. Why dont they go to courts with evidence when they are so sure.',\n",
              " 'America canada jake bhik manglo pr aise chutya logo ke desh me apni agli pidhi ko janam mt dena',\n",
              " 'And Indians say that they are proud of themselves ...woww',\n",
              " 'Are sharm kro BC police walo humare Desh ke support player h vo chutiya logo mana apni duty kre ho pr tumko saath dena chayiye Inka ulta Inka saath dena chahiye jo tum inko ghaseet rhe ho BC pgl ho kya',\n",
              " 'BJP ki fatti ab',\n",
              " 'Bhai unko trail me chut mil gai hai Unko yahi chahiye tha',\n",
              " 'BrijBhushan ke chakkar me modi game over',\n",
              " 'Brijbhuson accused for 1000 thousands girls molesting aur a pahelwan 13 saal se maja le rahatha...chutiya jangan ko mat banao...aur protester k somorthan mein kon aaye theee....sob deah ka gaddar....',\n",
              " 'Chuthyaa politics',\n",
              " 'Chutiya government',\n",
              " 'Chutiya sehar ki chutiya public kabhi metro me to kabhi kahi lekin fir bhi unhe koi matlab nhi sala isse to accha mera village hai',\n",
              " 'Cm se pm tak sab harami hai',\n",
              " 'Court me jawo didi raste pe baith k kya hoga',\n",
              " 'Das chal behen k lode sale randi k aulad it cell wala tere ghar p roz aata hai kya',\n",
              " 'Dekhlo bhai ek pehalwan ki takat 1010 police wale ki bhi tatti nikal gyi uthane mai',\n",
              " 'Dekho yaar hamere ladies police bhi desh ki sherani hkeval pahalwan ladkiya nhi',\n",
              " 'Delhi police is so stupid distracting the focus of the world from the grand spectacle of P.M modis high moment going to the new parliament house to the ruckus with the wrestlers',\n",
              " 'Dhamki mili pahalwano ko aur sab manage kr liya gaya. Ab kuch nhi hone wala sab bhul jayenge dhire dhire.',\n",
              " 'Dub maro jaato .Tumse tumare ladkiya nhi bchaii gyi. Aur din bhar jat jat krke aapas m bhidte rehte ho.Tumse dilli na gheri gayi. Warna wo brjjbhusan.Aaj jaat pichde they aur ab bi h ye sabit karwa hi dia tumne gadiye k piche jat likhwane se bahaduri na hoya kare.Ab thukegi tumpe duniya.. Chori tumari ijjat lutwa ri th. Tmpe kim bi nhh paad ppaey tmm',\n",
              " 'EVERYONE CAN CLEARLY SEE THAT POLICE IS NOT EVEN HURTING THE ATHELETES YOU CAN EASILY SEE THAT THESE ATHELETES ARE OVER REACTING.. POLICE IS NOT HURTING THEM THEY ARE JUST FORCING THEM TO NOT TO PROTEST DUE TO INAUGRATION OF PARLIAMENT.. ONLY THESE ATHELETES ARE GRABBING THEMSELVES AND ACTING LIKE THE POLICE IS BEATING THEM..',\n",
              " 'Ein jaise police karamchariyon ki fitrat hoti hai badmashi karne ki Kal raat Lucknow mein mujhe sirf der raat apne ghar ki taraf jaate samay do bike patrol beat constables ne rok liya aur sandigdh suchi mein naam pataa aur phone number likh liya Ye hai YOGI ADITYANATH ka BJP Sushasan Jab wrestlers se misbehave kar sakte hain BJP sanchalit Delhi Police tab aam insaanon se too kya hee aise Police karmi ache se pesh ayenge Ek baar janta ki ankhon se BJP bhakti ki patti utar jaaye Phir dekho kya haal karte hain Har Har Mahadev Lal Salaam',\n",
              " 'Ek b khiladi ko desh k liye medal ya kuch aur Lane ki jrurat nahi haiChu desh ki Chu govt.America chale jaoChod do country Ye desh k falling log nahi sudhrne wale in chutiyo ko waps yahi chu govt chahiye Bs modi modi krna hai Illiterate criminals bhajpa wale',\n",
              " 'Feeling bad for people asking for proof. Ask proof to your mother if your father is your biological father or not.',\n",
              " 'Friendly Degenerate No....There is no sarcasm when it comes to the integrity of India....these tool kit are exposing themselves everyday',\n",
              " 'Ghor kalyug aa gya hai lekin kuch log andhbakht bane baithe hai',\n",
              " 'Good this fake propoganda to protest against new parliament sends a msg to all saying enough now. Police should use the sticks first. In US perople are shot first the dragged upon resisting arrest.',\n",
              " 'Government should punish Brijbhushan .These is how we treat our national gems. Extremely Shameful. Simply dont understand why the government is protecting that corrupt and shameless politician so much.',\n",
              " 'Harami log',\n",
              " 'Humse kya matlab hume to Mandir chahiye',\n",
              " 'I am very shameful to see this video Jo women and men wrestler Hamare Desh Ke Liye Olympic gold medal Jeet ke a rahe hain unke Sath Itna bura ho raha hai unhone Olympic medal jitne Hamara Desh Ka Naam Roshan Kiya Ham unke Sath Aisa kar rahe hain shameful to see this video very very simple',\n",
              " 'I feel sad when olympians turn stooges of political parties.They dont hv any shame nor respect for law and order.Max comments hv sympathy for these dumbs.Lets say you brought laurel to family but does that give you right to spit on your father faceDont you hv any trust on courtHow can you force police to arrest someone without following procedureEven if it does he will go scot free in court due to lapses and weak chargesheet.You were allowed to protest at Jantar Mantar then why did you start march towards ParliamentThese olympians are looking for alternative career in politics and rest assured they will get ticket from parties because more dramamore popularity coz we indians love soap operas..Dont bring bad name to olympic medal..Fight tooth and nail but within boundaries of law..Its clear they want to get arrested some how to pull in sympathy.If you cant see that then you are no better than Pappu vote bank..',\n",
              " 'If Wrestlers start acting like Hoodlums then they should be treated as such.. simple..Getting Gold or being a Woman does not exempt anyone from Laws of the Country..',\n",
              " 'If we sit on road for justice.... Then what is the propose of court lawer judiciary... These systems must shut down... Now we make protest on roads for justice..Before they struggle for Indias supremacy .... Now they struggle for Indias defamation... toolkit',\n",
              " 'In benchodo ne andolon ko dhandha bana rakkha hai jisko bhi kuch karva ho sidha andolan karte hai madarchod hatao sab desh virodhiyo ko dalle',\n",
              " 'In our India current judicial systems should be scrap because this only favorable ladies We need unbiased judicial systems Justice for mens also Good India future India is the best place',\n",
              " 'In our India we need unbiased judicial systems Unbiased police systems Unbiased political systems Unbiased election systems Unbiased media systems Good India future India is the best place to',\n",
              " 'In upcoming days uneducated politicians will dominate the educated talentsthat is about very sad for us. This type of politicians are like big loopholes in countrys development. I dont know when our country will get rid of these kind of problems that is going up day by day.',\n",
              " 'Inhumane police ....Literally our education system is fucked',\n",
              " 'Insanity stupidity ignorance symbolism of the Cholas sengol mere waste in the most populated polluted nation in the world... a jokers quest ... example of Pakistan Myanmar syndrome...',\n",
              " 'Is this how we treat our Olympic medal winners Is politics more important than safety of our maa betis Shameful day for sports utter shameful day for our country. Kursi bachane ka chakar main ghar hi na tor de.Hope the snakes you are keeping in your backyard will one day bite you too.',\n",
              " 'Its all drama and hype. Just for getting attention. Sorry that govt didnt took the bait and wasted their own time.There are a lot of real issues that needs to be taken care.Now protesters understood that such drama wont be able to get attention of anyone in anyway lol. So it stopped and now they dont need anything. Lol. Every year we get to see drama like these..Award wapasi..MeeToo..Intolerance..MaiBhiChaukidaar...And now this..The list goes on...',\n",
              " 'Jo public in wrestlers ko sympathy derahe hai voh maha chutuya hai. Wrestler ko trial to dena padega bina proof ke ilzaam lagao toh faasi Ese ni hota. Ye new parliament road pauche toh police bhi apna kaam karegi.',\n",
              " 'Kisano ko msp mil gai ab apke wade poore honge........',\n",
              " 'Krdo Raam ko bhi badnam. Ye rss aur bjp ek din kutte ki maut maregi.Aur kha ram ko itni dirty politics se mt match kro .Ye chilla k jai shree ram bolte h aur Yei hijde darbaar me biryaani khate h . aiso ko shaitaan bhi bhagat na bnae.Jo sbse bade beef factory h Wo bhi jai shree Raam wale ..But ......... spiritually is most divine My father is Krishna......my father is ram',\n",
              " 'MC hai modi sala bas tax laga rha Hindu Muslim me ladai krva rha hai andar se bharat ko khokla kr rha',\n",
              " 'Modi would have listened to the protesters if they were Muslims. Hindus dont have any say with the Modi government. This is a shame how these national heroines are humiliated.',\n",
              " 'Mother chod police and politicians',\n",
              " 'Nowadays fake dowry case fraud rape case against mens increased enormously blackmailing for money to protect the honesty and dignity of our systems we need unbiased judicial systems Justice for mens also Good India future India is the best place',\n",
              " 'PM Modi should be ashamed of himself.',\n",
              " 'Pahalwano Dharna khatam mat karo Lund Namaziyo ko bahut ummid hai tumse Kahi Dukh me Lund Namazi Puri Lulli hi Naa kaat le',\n",
              " 'Parliament me kaun dharna deta hai bsdk',\n",
              " 'Phle kisan phir jawan aaj phalwan aur kro modi modi tera baap aur bhagwan h na andbhkt gor gabesh bss ek din media aur police pila jaye modi h to mumkin h phir dekhenge tmko krte modi modi',\n",
              " 'Proud of Delhi police nice action taken by police Im junior pahalwano',\n",
              " 'Raja ko baithaya hai gaddi pr toh raja wali karwahi hi milegi Shame on these stupid and illiterate politicians',\n",
              " 'Salian Because his mp is the rapist',\n",
              " 'Salian because when these champions win medal for the nation he come forward to congratulate and take pride. If they are treated like this he is silent. Dont you know in India we still need top down approach to get things fastracked and sorted when nations reputation is at stake',\n",
              " 'Sarkar pe dikkar hai yar gold medal ke sath aisa ho raha ... yar sarkr baith kar bat q nhi karti agar sahi hai to sarkar q bag rahi hai gin aati aaise sarkar aise kanun pe',\n",
              " 'Shame on Delhi police a wrestler is treated like this and we will not give vote to bjp next time I the party is not able to see his member Mistake shame on democracy that a girl dont have right for raising her voice than what is meaning of democracy and the girl is a wrestler not any simple',\n",
              " 'Shame on this ruthless Govt which claims to be the sole saviour of girls',\n",
              " 'Shocked wrestlers are supposed to obey the law and order of India. I am shocked to note that certain wrestlers cooperated with opposition to paint ugly pictures about BJP. Wrestlers are making politics on their allegations. World watched how wrestlers are using politics to internationalise the issues. Wrestlers are represented by lawyers. Why protest on the New Parliament opening ceremony. Whats the agenda All wrestlers involved should be dismissed from the Wrestlers Association or represent sports in India. Law has to be tough with protesters. BJP will soon release how wrestlers received financial and moral support from opposition.',\n",
              " 'Singh apni kati lulli utha aur dafa ho ja warna wapas muzaffarnagar jaisa hall ho javega',\n",
              " 'So sad to see how we treat our wrestling gems like this..',\n",
              " 'So what would they do Can they protest anytime Parliament inauguration day why are they going towards parliament And illogical public also not understand that these wrestlers are doing politics...try to understand..basic simple things we need to understand that we have a supreme court we have a high court right So why are they protesting like this Fool public supporting this natak...',\n",
              " 'Socho Brijbhusan ke samne Modi ji ka ye haal haiki arrest nahi karwa rahe court order hone ke baad bhi to desh ke aam admi ki kitni fat ti hogi Brijbhusan singh se wo bhi jo unke area me rahte hain',\n",
              " 'Such a shame. Using their power in a wrong way and our proud talented ayheletes should not be treated this way. They deserve respect and right now they deserve justice. Culprit should be punished. Our government should not be selfish. When they worked hard and won golds for india then the government praised them now where is them when they need them. They deserve justice. Please be kind. Dont be selfish though the government is biased but think about it the athletes are gems of india',\n",
              " 'These stupid police sent by politicians for LO duty this show how stupid police or force are',\n",
              " 'They are protesting against a BJP MLABrij Bhushan and criminalhe himself admits who is really powerful as he had sexually harrassed nearly 10 female wrestlers including a minor.',\n",
              " 'This day humans problems are considered 2nd class and SENGOL is more important than anything else. No one acknowledge wrestler protest Killing and burning in Manipur are forgotten. Sad that now our lives are considered cheaper in our country..',\n",
              " 'This is india i mean randistan Salo dosro ky desh mein bolny sy phly Aurat ke ezat krna sekho bsdk lant aise government py',\n",
              " 'This is more like an arrest than detaintion. This is manhandling. How shameful of the authorities These wrestlers were the ones who brought fame to the country once upon a time. Will they treat ST and MSD in the same way if they seek justice in the future',\n",
              " 'Thu Delhi police you cant arrest the one who has non bail able warrant and do this to people protesting for there rights.',\n",
              " 'Tirange ka satkar krti huyi hamari force chutiya govrt. Iss desh ky liye Jin logo ny mehnat ki naam banane ke liye unhe ky sath esa kr rahi hai iss se acha to angrejon ki gulami thi km se km mehnat krte thy to position to milti thi waha pey achi or ijjat bhi',\n",
              " 'Trail se chut mil gyi inko lalchi ghtiya..trail k liye kuch b kr skti h ye',\n",
              " 'Tukde tukde gang hain',\n",
              " 'Tum lok India ke ho ya Pakistan ki ukrean me fight ke time p jo bharat ke jhanda lekhe rahega aur bharatiye bol3ge unko sahidhilamat Ghar pe chod Diya jayega bol rahe the lekin ye hamare desh me hi Jo bharat ke jhande pakde hue hai unko aise bhlyabhahar mereko tho thik Nehi lagta upar se ye log international level pe bhart ko represent karte hai dhik hai tumhare jiban par dilhi police. U dont have humanity and at last I want to say best of luck keep it up and aise hi karte raho police is for people is proven wrong by you u all are for the politicians and the rich mans others always get punished by you chi chi.',\n",
              " 'V gud',\n",
              " 'What a stupid reporter She is saying scuffle broke out between police and protester .. is she blind Cant she see police is forcible removing them .. this is not 2 sided scuffle .. just one sided display of power .. did she see any wrestler hitting police If not how shameless of her to call is scuffle',\n",
              " 'What has happened to this police... They respect only corrupt politicians and body revealing actress.. these are the real gems who add to the glory of our country... We should be shamed for this',\n",
              " 'When this was happening to Muslims nobody spoke up. Now everyone will suffer.',\n",
              " 'When wrestling is full mujra',\n",
              " 'Whoever wrong in this matter comes later . But Im really very sad to see our athletes are not behaving like grown ups and the people in power are quite.Why so much chaos',\n",
              " 'Ye 6 pahalwan Bhasmasur hai ....junior ke right khaa rahe hai.',\n",
              " 'Ye Desh gaya ma chudane politicians se',\n",
              " 'bina trial khele sirf ek boyt ke baad Okympic jaane ka mauka mil gaya Yehi to chahte the ye besharm anpad jaahil jaat pehelwan haryana ke. Sahi me besharmi karo to aisi. Thoo bai inpe aur inke jaiso pe. Kabhi nhi sudharenge ye. Inki soch me ki chotapan hai.',\n",
              " 'if law is meaningless then it meant to be broken. No good supporting stupid laws like that.',\n",
              " 'jail mey dalo salo ko.champion banke masti chadi hai mc bc ko bsdk',\n",
              " 'k alfaaz are oh Bhai National level ke Nay Nay player har saal teyar hote hai.Junior ko mauka Dena band kar de kyaMtlb tumhe sirf itna samgh nahi aa raha hai kya ki games me sab barabar ho kar khelne chaiye.Or inke level ke or bhi kai pahalwan hai to sirf chhut sirf inko hi kyon',\n",
              " 'kaahe k pahalwaan bhai kyo itna nanga nach ncha rkha h Brijbhushan Nirdosh h',\n",
              " 'kahan hai modi dalaal hai tu bolta hai bate pado bate bcho yeh kya hai thats how we treat our champion well done thats what new india is every parties are fucked up shame on india it a suffocation to live in such place',\n",
              " 'kehna ye hai ye players politics kr rahe hai7 salo se sosan nhi dikhaHar sal sath pic with comfortable position ab Chunav h to bjp ko Target krana with JNU nara modi teri kabar khudegi Aaj nahi to kal jao Hanuman akhde mei waha sare pehelwan milege practice krte hue ye jija sali ek hi family h jinhone kabja kara hua hai or naye bacho ko age nhi jane deteor khud bina trail k Olympic mei jana chahte hai.',\n",
              " 'kumar Mishra Tum pehle tameez sikhlo aur mujhse badtameezi se baat karna band Karo..I will support whoever I want...this is a open comment section..mujhe Jo likhna he woh mein likhungi..I felt what happened to those girls was wrong and I stated my opinion about it... Im not a bandwagon like u..Agar tum bjp ki andhbhakt ho toh apni bakwas aur kahin pe Karo.. Im a independent citizen and I know what I should do.. so dont shout at me and better admit urself in some schools and get proper moral education..',\n",
              " 'nice video its a loud and clear message ab gaddaro k liy iss desh m koi jageh nhi bahar niklo kaale angrezo',\n",
              " 'now say that PAKISTAN IS FATHER OF INDIA',\n",
              " 'rehniwalfir khul kar kyoki nahi kaha inhone ki hume trail me special treatment nahi chaiye.Khud se mana kar dena chaiye tha ki hume trail me chhut nahi chaiye.Jabki inke phle ke interview me inhone saaf kaha hua hai ki trail na karaye jaye humse itne',\n",
              " 'this country is fucked by politicians',\n",
              " 'wah mere desh ke chutiya police',\n",
              " 'ye wrestler backcodi kar rahe hai mar ke bhagao apko ijjat hai to rule follow karo agar cour ne kaha hai tume hatene ko to hato sab huha Modi se hua ab ye mat kahana Sexual harrasment bhi Modi ne ki yar kuch to logic se loo. Court hai yaha kyu rasto pe bachodi kar rahe ho.'}"
            ]
          },
          "metadata": {},
          "execution_count": 88
        }
      ]
    },
    {
      "cell_type": "code",
      "source": [
        "search_words_women_set"
      ],
      "metadata": {
        "colab": {
          "base_uri": "https://localhost:8080/"
        },
        "id": "ect8L-4zB5tD",
        "outputId": "874ed882-356b-4966-89cc-506097fc688b"
      },
      "execution_count": 89,
      "outputs": [
        {
          "output_type": "execute_result",
          "data": {
            "text/plain": [
              "set()"
            ]
          },
          "metadata": {},
          "execution_count": 89
        }
      ]
    },
    {
      "cell_type": "code",
      "execution_count": 90,
      "metadata": {
        "id": "U7zT7FF13vjb"
      },
      "outputs": [],
      "source": [
        "# We clearly see that the amount of slur words drastically increase. Now the step ahead would be too create seperate regex for the most used slur words.\n",
        "# Note - the substrings could also be a part of different words and not necessarily hateful. But given the nature of the words, I feel that chances are low."
      ]
    },
    {
      "cell_type": "markdown",
      "metadata": {
        "id": "qHMyU6Etfz15"
      },
      "source": [
        "## Create Regex for the most used Slur Words\n",
        "\n",
        "- Lets start by looking at the word `\"chutiya\"`"
      ]
    },
    {
      "cell_type": "code",
      "execution_count": 91,
      "metadata": {
        "id": "TBzm-Qn4heH8"
      },
      "outputs": [],
      "source": [
        "text = \"they called me a chhhutiyyaa and I ignored them.\"\n",
        "# text = \"abcchhutiyeexvy\""
      ]
    },
    {
      "cell_type": "code",
      "execution_count": 92,
      "metadata": {
        "id": "EJrygd2Cf3vU"
      },
      "outputs": [],
      "source": [
        "pattern = r'ch+h?[uo]t[iy]a?'"
      ]
    },
    {
      "cell_type": "code",
      "execution_count": 93,
      "metadata": {
        "id": "SXSe5oHfiH9P"
      },
      "outputs": [],
      "source": [
        "matches = re.findall(pattern, text, re.IGNORECASE)"
      ]
    },
    {
      "cell_type": "code",
      "execution_count": 94,
      "metadata": {
        "colab": {
          "base_uri": "https://localhost:8080/"
        },
        "id": "qZ7H0ji9jFrV",
        "outputId": "82cddfdc-f8ce-4463-e470-69e559c07a4e"
      },
      "outputs": [
        {
          "output_type": "execute_result",
          "data": {
            "text/plain": [
              "['chhhuti']"
            ]
          },
          "metadata": {},
          "execution_count": 94
        }
      ],
      "source": [
        "matches"
      ]
    },
    {
      "cell_type": "code",
      "execution_count": 95,
      "metadata": {
        "colab": {
          "base_uri": "https://localhost:8080/"
        },
        "id": "5U6QsRtfkifr",
        "outputId": "1f88a105-3bba-444d-af25-9df65e438f16"
      },
      "outputs": [
        {
          "output_type": "stream",
          "name": "stdout",
          "text": [
            "CPU times: user 42.4 s, sys: 102 ms, total: 42.5 s\n",
            "Wall time: 42.7 s\n"
          ]
        }
      ],
      "source": [
        "%%time\n",
        "slur_word_count_2 = {}\n",
        "for index, row in regexDf.iterrows():\n",
        "    text = row['textOriginal']\n",
        "    matches = re.findall(pattern, text, re.IGNORECASE)\n",
        "    for match in matches:\n",
        "        slur_word_count_2[match] = slur_word_count_2.get(match, 0) + 1"
      ]
    },
    {
      "cell_type": "code",
      "execution_count": 96,
      "metadata": {
        "colab": {
          "base_uri": "https://localhost:8080/"
        },
        "id": "ND0Q80kHkrun",
        "outputId": "c439551e-8d5a-4137-d91f-7b32b0696dd3"
      },
      "outputs": [
        {
          "output_type": "execute_result",
          "data": {
            "text/plain": [
              "9289"
            ]
          },
          "metadata": {},
          "execution_count": 96
        }
      ],
      "source": [
        "sum(slur_word_count_2.values())"
      ]
    },
    {
      "cell_type": "code",
      "execution_count": 97,
      "metadata": {
        "colab": {
          "base_uri": "https://localhost:8080/"
        },
        "id": "6e9rJDRekvgr",
        "outputId": "d9f20d82-e339-48ca-f8a2-0c57313385ce"
      },
      "outputs": [
        {
          "output_type": "stream",
          "name": "stdout",
          "text": [
            "[('chuti', 6383), ('Chuti', 1168), ('choti', 463), ('chutia', 344), ('chuty', 204), ('chutya', 201), ('chhoti', 167), ('Chutya', 90)]\n"
          ]
        }
      ],
      "source": [
        "sorted_slur_word_count_2 = dict(sorted(slur_word_count_2.items(), key=lambda item: item[1], reverse=True))\n",
        "print(list(sorted_slur_word_count_2.items())[:8])"
      ]
    },
    {
      "cell_type": "code",
      "execution_count": 98,
      "metadata": {
        "id": "uVtGY3QdnM_w"
      },
      "outputs": [],
      "source": [
        "# Okay wow, the number of words that are similar to `chutiya` increase drastically."
      ]
    },
    {
      "cell_type": "code",
      "execution_count": 99,
      "metadata": {
        "id": "saNo7o-snWtN"
      },
      "outputs": [],
      "source": [
        "# one problem with this is, we dont know what the sentence might be directed to, to women? to the govt? to brijbhusan?\n",
        "# or just some guy reply to a person in a comment?"
      ]
    },
    {
      "cell_type": "markdown",
      "metadata": {
        "id": "bWzb0q4miBZj"
      },
      "source": [
        "- now lets look at `chod`"
      ]
    },
    {
      "cell_type": "code",
      "execution_count": 100,
      "metadata": {
        "id": "oyZ-VPcrjA-3"
      },
      "outputs": [],
      "source": [
        "text_2 = \"they called me a chhut, chod but I ignored them, hmpf\""
      ]
    },
    {
      "cell_type": "code",
      "execution_count": 101,
      "metadata": {
        "id": "uD26On3jiEiu"
      },
      "outputs": [],
      "source": [
        "pattern_2 = r'ch+[ou]+[dt]'"
      ]
    },
    {
      "cell_type": "code",
      "execution_count": 102,
      "metadata": {
        "id": "JSnO8KawjAe4"
      },
      "outputs": [],
      "source": [
        "matches_2 = re.findall(pattern_2, text_2, re.IGNORECASE)"
      ]
    },
    {
      "cell_type": "code",
      "execution_count": 103,
      "metadata": {
        "colab": {
          "base_uri": "https://localhost:8080/"
        },
        "id": "XKHQP2WujJrX",
        "outputId": "7d1741dd-6a1d-4d8e-8039-28a620dbcee8"
      },
      "outputs": [
        {
          "output_type": "execute_result",
          "data": {
            "text/plain": [
              "['chhut', 'chod']"
            ]
          },
          "metadata": {},
          "execution_count": 103
        }
      ],
      "source": [
        "matches_2"
      ]
    },
    {
      "cell_type": "code",
      "execution_count": 104,
      "metadata": {
        "id": "iRGVZ8I7jMnK"
      },
      "outputs": [],
      "source": [
        "slur_word_count_3 = {}\n",
        "for index, row in regexDf.iterrows():\n",
        "    text = row['textOriginal']\n",
        "    matches_2 = re.findall(pattern_2, text, re.IGNORECASE)\n",
        "    for match in matches_2:\n",
        "        slur_word_count_3[match] = slur_word_count_3.get(match, 0) + 1"
      ]
    },
    {
      "cell_type": "code",
      "execution_count": 105,
      "metadata": {
        "colab": {
          "base_uri": "https://localhost:8080/"
        },
        "id": "JimtPDGvjhYR",
        "outputId": "d0665a94-2a2e-4e83-c086-325787dbcaf2"
      },
      "outputs": [
        {
          "output_type": "execute_result",
          "data": {
            "text/plain": [
              "27220"
            ]
          },
          "metadata": {},
          "execution_count": 105
        }
      ],
      "source": [
        "sum(slur_word_count_3.values())"
      ]
    },
    {
      "cell_type": "code",
      "execution_count": 106,
      "metadata": {
        "colab": {
          "base_uri": "https://localhost:8080/"
        },
        "id": "vs2wUlTGjm0X",
        "outputId": "07d41f99-c800-4693-cedc-bd006efb9658"
      },
      "outputs": [
        {
          "output_type": "stream",
          "name": "stdout",
          "text": [
            "[('chod', 9750), ('chut', 8219), ('chot', 1640), ('chud', 1605), ('Chut', 1474), ('chhod', 1416), ('Choud', 382), ('chhot', 371)]\n"
          ]
        }
      ],
      "source": [
        "sorted_slur_word_count_3 = dict(sorted(slur_word_count_3.items(), key=lambda item: item[1], reverse=True))\n",
        "print(list(sorted_slur_word_count_3.items())[:8])"
      ]
    },
    {
      "cell_type": "markdown",
      "metadata": {
        "id": "hvNkz7ePkVYE"
      },
      "source": [
        "- now lets do this for `bsdk`"
      ]
    },
    {
      "cell_type": "code",
      "execution_count": 107,
      "metadata": {
        "id": "jQrPQX17kmxP"
      },
      "outputs": [],
      "source": [
        "text_3 = \"they called me a bsssdk, I left\""
      ]
    },
    {
      "cell_type": "code",
      "execution_count": 108,
      "metadata": {
        "id": "64lMcQBgkk1I"
      },
      "outputs": [],
      "source": [
        "pattern_3 = r'bs+d+k'\n",
        "matches = re.findall(pattern_3, text_3, re.IGNORECASE)"
      ]
    },
    {
      "cell_type": "code",
      "execution_count": 109,
      "metadata": {
        "colab": {
          "base_uri": "https://localhost:8080/"
        },
        "id": "RRX2lm8zkmKU",
        "outputId": "a2b88252-e668-49f1-8241-c6e78772d634"
      },
      "outputs": [
        {
          "output_type": "execute_result",
          "data": {
            "text/plain": [
              "['bsssdk']"
            ]
          },
          "metadata": {},
          "execution_count": 109
        }
      ],
      "source": [
        "matches"
      ]
    },
    {
      "cell_type": "code",
      "execution_count": 110,
      "metadata": {
        "id": "4ELiuytZkrox"
      },
      "outputs": [],
      "source": [
        "slur_word_count_4 = {}\n",
        "for index, row in regexDf.iterrows():\n",
        "    text = row['textOriginal']\n",
        "    matches = re.findall(pattern_3, text, re.IGNORECASE)\n",
        "    for match in matches:\n",
        "        slur_word_count_4[match] = slur_word_count_4.get(match, 0) + 1"
      ]
    },
    {
      "cell_type": "code",
      "execution_count": 111,
      "metadata": {
        "colab": {
          "base_uri": "https://localhost:8080/"
        },
        "id": "koA5Mad8lKPI",
        "outputId": "c04fee7a-9ab0-4aa6-94b6-b3f3edf97e84"
      },
      "outputs": [
        {
          "output_type": "execute_result",
          "data": {
            "text/plain": [
              "1836"
            ]
          },
          "metadata": {},
          "execution_count": 111
        }
      ],
      "source": [
        "sum(slur_word_count_4.values())"
      ]
    },
    {
      "cell_type": "code",
      "execution_count": 112,
      "metadata": {
        "colab": {
          "base_uri": "https://localhost:8080/"
        },
        "id": "UmoFDePQlOda",
        "outputId": "4b4962f7-c903-4841-a6e9-753875dcb442"
      },
      "outputs": [
        {
          "output_type": "stream",
          "name": "stdout",
          "text": [
            "[('bsdk', 1323), ('Bsdk', 456), ('Bssdk', 32), ('BSDK', 25)]\n"
          ]
        }
      ],
      "source": [
        "sorted_slur_word_count_4 = dict(sorted(slur_word_count_4.items(), key=lambda item: item[1], reverse=True))\n",
        "print(list(sorted_slur_word_count_4.items())[:8])"
      ]
    },
    {
      "cell_type": "markdown",
      "metadata": {
        "id": "-ab3HsDA1nkO"
      },
      "source": [
        "- now lets try for a hindi word -\n",
        "\n",
        "some links that help me understand this better\n",
        "- https://stackoverflow.com/questions/41356013/how-to-detect-if-a-string-contains-hindi-devnagri-in-it-with-character-and-wor\n",
        "- https://stackoverflow.com/questions/14859957/regular-expressions-with-indian-characters\n",
        "- https://unicode.org/charts/PDF/U0900.pdf"
      ]
    },
    {
      "cell_type": "code",
      "execution_count": 112,
      "metadata": {
        "id": "Zuqb-qE21NH8"
      },
      "outputs": [],
      "source": []
    },
    {
      "cell_type": "markdown",
      "metadata": {
        "id": "rOFgPVvAlkRt"
      },
      "source": [
        "## Lets now look at the impact regex has had on counting the slur words in the data\n",
        "\n",
        "The slur list has 506 words consisting of different languages.\n",
        "\n",
        "|        **Word**       | **Before Regex** |     **After Regex**     |\n",
        "|:---------------------:|:----------------:|:-----------------------:|\n",
        "| Simple Count of Words |      25,393      | 101,382 (just  english) |\n",
        "|        chutiya        |       2,647      |          9,289          |\n",
        "|          chod         |       1,788      |          12,749         |\n",
        "|          bsdk         |       1,147      |          1,836          |\n"
      ]
    },
    {
      "cell_type": "markdown",
      "metadata": {
        "id": "f8MMPsGosqiF"
      },
      "source": [
        "- what are the 100 senteces which use the slur words before and after regex?\n",
        "- look at the slur count vs timeline"
      ]
    },
    {
      "cell_type": "markdown",
      "metadata": {
        "id": "C6DL-_QKfXgU"
      },
      "source": [
        "### Looking at use of slur_words accross the timeline."
      ]
    },
    {
      "cell_type": "code",
      "execution_count": 113,
      "metadata": {
        "id": "POS903dNfXNf"
      },
      "outputs": [],
      "source": [
        "# to include the hindi words, lets just to a simple check versus time."
      ]
    },
    {
      "cell_type": "code",
      "execution_count": 114,
      "metadata": {
        "id": "nzPpkJlHfiWr"
      },
      "outputs": [],
      "source": [
        "timeDf = df[['videoId','textOriginal','authorChannelId', 'likeCount', 'publishedAt', 'updatedAt', 'commentId']]"
      ]
    },
    {
      "cell_type": "code",
      "execution_count": 115,
      "metadata": {
        "colab": {
          "base_uri": "https://localhost:8080/",
          "height": 337
        },
        "id": "x4V2GsD0fwa4",
        "outputId": "dfc2a12c-e797-4cbb-f056-0847faab57ed"
      },
      "outputs": [
        {
          "output_type": "execute_result",
          "data": {
            "text/plain": [
              "       videoId                                       textOriginal  \\\n",
              "0  EBOKYsWUhvI  Dub maro jaato 😢😢.\\nTumse tumare ladkiya nhi b...   \n",
              "1  EBOKYsWUhvI                                   Haar gye bechare   \n",
              "2  EBOKYsWUhvI  Dhamki mili pahalwano ko aur sab manage kr liy...   \n",
              "3  EBOKYsWUhvI  Jaato pr ye boj rhega ki vo apni hi vyavstha s...   \n",
              "4  EBOKYsWUhvI           Pahlwan jante h kuch nhi kr payenge uska   \n",
              "\n",
              "                         authorChannelId likeCount           publishedAt  \\\n",
              "0  {'value': 'UC5G8fjqoiFIqHpKyVeOTsFg'}         0  2023-07-06T07:04:02Z   \n",
              "1  {'value': 'UCsMGRdH3YHrbs21NOraRuyQ'}         0  2023-07-03T22:21:37Z   \n",
              "2  {'value': 'UC_dWuNh6zydTHIRr6hi3Omg'}         0  2023-07-03T05:06:33Z   \n",
              "3  {'value': 'UCVdGObpHM-IMHB_b7_K-7rA'}         1  2023-07-02T03:39:50Z   \n",
              "4  {'value': 'UCRkcewHFhxE5KfLHrLx0wpA'}         0  2023-06-28T15:10:36Z   \n",
              "\n",
              "              updatedAt                   commentId  \n",
              "0  2023-07-06T07:04:02Z  UgwbyvIkkAhUdaCFpcp4AaABAg  \n",
              "1  2023-07-03T22:21:37Z  Ugyz3OwSXamho91-8I94AaABAg  \n",
              "2  2023-07-03T05:06:33Z  Ugyphs1TT1Yoj7MZBVJ4AaABAg  \n",
              "3  2023-07-02T03:39:50Z  UgwnIxpuFAcKsEzffBp4AaABAg  \n",
              "4  2023-06-28T15:10:36Z  UgxjuOlDigsmuDu53J54AaABAg  "
            ],
            "text/html": [
              "\n",
              "\n",
              "  <div id=\"df-4ea773a4-311d-45d1-93f7-4f4ddc24ba93\">\n",
              "    <div class=\"colab-df-container\">\n",
              "      <div>\n",
              "<style scoped>\n",
              "    .dataframe tbody tr th:only-of-type {\n",
              "        vertical-align: middle;\n",
              "    }\n",
              "\n",
              "    .dataframe tbody tr th {\n",
              "        vertical-align: top;\n",
              "    }\n",
              "\n",
              "    .dataframe thead th {\n",
              "        text-align: right;\n",
              "    }\n",
              "</style>\n",
              "<table border=\"1\" class=\"dataframe\">\n",
              "  <thead>\n",
              "    <tr style=\"text-align: right;\">\n",
              "      <th></th>\n",
              "      <th>videoId</th>\n",
              "      <th>textOriginal</th>\n",
              "      <th>authorChannelId</th>\n",
              "      <th>likeCount</th>\n",
              "      <th>publishedAt</th>\n",
              "      <th>updatedAt</th>\n",
              "      <th>commentId</th>\n",
              "    </tr>\n",
              "  </thead>\n",
              "  <tbody>\n",
              "    <tr>\n",
              "      <th>0</th>\n",
              "      <td>EBOKYsWUhvI</td>\n",
              "      <td>Dub maro jaato 😢😢.\\nTumse tumare ladkiya nhi b...</td>\n",
              "      <td>{'value': 'UC5G8fjqoiFIqHpKyVeOTsFg'}</td>\n",
              "      <td>0</td>\n",
              "      <td>2023-07-06T07:04:02Z</td>\n",
              "      <td>2023-07-06T07:04:02Z</td>\n",
              "      <td>UgwbyvIkkAhUdaCFpcp4AaABAg</td>\n",
              "    </tr>\n",
              "    <tr>\n",
              "      <th>1</th>\n",
              "      <td>EBOKYsWUhvI</td>\n",
              "      <td>Haar gye bechare</td>\n",
              "      <td>{'value': 'UCsMGRdH3YHrbs21NOraRuyQ'}</td>\n",
              "      <td>0</td>\n",
              "      <td>2023-07-03T22:21:37Z</td>\n",
              "      <td>2023-07-03T22:21:37Z</td>\n",
              "      <td>Ugyz3OwSXamho91-8I94AaABAg</td>\n",
              "    </tr>\n",
              "    <tr>\n",
              "      <th>2</th>\n",
              "      <td>EBOKYsWUhvI</td>\n",
              "      <td>Dhamki mili pahalwano ko aur sab manage kr liy...</td>\n",
              "      <td>{'value': 'UC_dWuNh6zydTHIRr6hi3Omg'}</td>\n",
              "      <td>0</td>\n",
              "      <td>2023-07-03T05:06:33Z</td>\n",
              "      <td>2023-07-03T05:06:33Z</td>\n",
              "      <td>Ugyphs1TT1Yoj7MZBVJ4AaABAg</td>\n",
              "    </tr>\n",
              "    <tr>\n",
              "      <th>3</th>\n",
              "      <td>EBOKYsWUhvI</td>\n",
              "      <td>Jaato pr ye boj rhega ki vo apni hi vyavstha s...</td>\n",
              "      <td>{'value': 'UCVdGObpHM-IMHB_b7_K-7rA'}</td>\n",
              "      <td>1</td>\n",
              "      <td>2023-07-02T03:39:50Z</td>\n",
              "      <td>2023-07-02T03:39:50Z</td>\n",
              "      <td>UgwnIxpuFAcKsEzffBp4AaABAg</td>\n",
              "    </tr>\n",
              "    <tr>\n",
              "      <th>4</th>\n",
              "      <td>EBOKYsWUhvI</td>\n",
              "      <td>Pahlwan jante h kuch nhi kr payenge uska</td>\n",
              "      <td>{'value': 'UCRkcewHFhxE5KfLHrLx0wpA'}</td>\n",
              "      <td>0</td>\n",
              "      <td>2023-06-28T15:10:36Z</td>\n",
              "      <td>2023-06-28T15:10:36Z</td>\n",
              "      <td>UgxjuOlDigsmuDu53J54AaABAg</td>\n",
              "    </tr>\n",
              "  </tbody>\n",
              "</table>\n",
              "</div>\n",
              "      <button class=\"colab-df-convert\" onclick=\"convertToInteractive('df-4ea773a4-311d-45d1-93f7-4f4ddc24ba93')\"\n",
              "              title=\"Convert this dataframe to an interactive table.\"\n",
              "              style=\"display:none;\">\n",
              "\n",
              "  <svg xmlns=\"http://www.w3.org/2000/svg\" height=\"24px\"viewBox=\"0 0 24 24\"\n",
              "       width=\"24px\">\n",
              "    <path d=\"M0 0h24v24H0V0z\" fill=\"none\"/>\n",
              "    <path d=\"M18.56 5.44l.94 2.06.94-2.06 2.06-.94-2.06-.94-.94-2.06-.94 2.06-2.06.94zm-11 1L8.5 8.5l.94-2.06 2.06-.94-2.06-.94L8.5 2.5l-.94 2.06-2.06.94zm10 10l.94 2.06.94-2.06 2.06-.94-2.06-.94-.94-2.06-.94 2.06-2.06.94z\"/><path d=\"M17.41 7.96l-1.37-1.37c-.4-.4-.92-.59-1.43-.59-.52 0-1.04.2-1.43.59L10.3 9.45l-7.72 7.72c-.78.78-.78 2.05 0 2.83L4 21.41c.39.39.9.59 1.41.59.51 0 1.02-.2 1.41-.59l7.78-7.78 2.81-2.81c.8-.78.8-2.07 0-2.86zM5.41 20L4 18.59l7.72-7.72 1.47 1.35L5.41 20z\"/>\n",
              "  </svg>\n",
              "      </button>\n",
              "\n",
              "\n",
              "\n",
              "    <div id=\"df-96efd39c-a276-4e41-8856-e2d23c59710b\">\n",
              "      <button class=\"colab-df-quickchart\" onclick=\"quickchart('df-96efd39c-a276-4e41-8856-e2d23c59710b')\"\n",
              "              title=\"Suggest charts.\"\n",
              "              style=\"display:none;\">\n",
              "\n",
              "<svg xmlns=\"http://www.w3.org/2000/svg\" height=\"24px\"viewBox=\"0 0 24 24\"\n",
              "     width=\"24px\">\n",
              "    <g>\n",
              "        <path d=\"M19 3H5c-1.1 0-2 .9-2 2v14c0 1.1.9 2 2 2h14c1.1 0 2-.9 2-2V5c0-1.1-.9-2-2-2zM9 17H7v-7h2v7zm4 0h-2V7h2v10zm4 0h-2v-4h2v4z\"/>\n",
              "    </g>\n",
              "</svg>\n",
              "      </button>\n",
              "    </div>\n",
              "\n",
              "<style>\n",
              "  .colab-df-quickchart {\n",
              "    background-color: #E8F0FE;\n",
              "    border: none;\n",
              "    border-radius: 50%;\n",
              "    cursor: pointer;\n",
              "    display: none;\n",
              "    fill: #1967D2;\n",
              "    height: 32px;\n",
              "    padding: 0 0 0 0;\n",
              "    width: 32px;\n",
              "  }\n",
              "\n",
              "  .colab-df-quickchart:hover {\n",
              "    background-color: #E2EBFA;\n",
              "    box-shadow: 0px 1px 2px rgba(60, 64, 67, 0.3), 0px 1px 3px 1px rgba(60, 64, 67, 0.15);\n",
              "    fill: #174EA6;\n",
              "  }\n",
              "\n",
              "  [theme=dark] .colab-df-quickchart {\n",
              "    background-color: #3B4455;\n",
              "    fill: #D2E3FC;\n",
              "  }\n",
              "\n",
              "  [theme=dark] .colab-df-quickchart:hover {\n",
              "    background-color: #434B5C;\n",
              "    box-shadow: 0px 1px 3px 1px rgba(0, 0, 0, 0.15);\n",
              "    filter: drop-shadow(0px 1px 2px rgba(0, 0, 0, 0.3));\n",
              "    fill: #FFFFFF;\n",
              "  }\n",
              "</style>\n",
              "\n",
              "    <script>\n",
              "      async function quickchart(key) {\n",
              "        const containerElement = document.querySelector('#' + key);\n",
              "        const charts = await google.colab.kernel.invokeFunction(\n",
              "            'suggestCharts', [key], {});\n",
              "      }\n",
              "    </script>\n",
              "\n",
              "      <script>\n",
              "\n",
              "function displayQuickchartButton(domScope) {\n",
              "  let quickchartButtonEl =\n",
              "    domScope.querySelector('#df-96efd39c-a276-4e41-8856-e2d23c59710b button.colab-df-quickchart');\n",
              "  quickchartButtonEl.style.display =\n",
              "    google.colab.kernel.accessAllowed ? 'block' : 'none';\n",
              "}\n",
              "\n",
              "        displayQuickchartButton(document);\n",
              "      </script>\n",
              "      <style>\n",
              "    .colab-df-container {\n",
              "      display:flex;\n",
              "      flex-wrap:wrap;\n",
              "      gap: 12px;\n",
              "    }\n",
              "\n",
              "    .colab-df-convert {\n",
              "      background-color: #E8F0FE;\n",
              "      border: none;\n",
              "      border-radius: 50%;\n",
              "      cursor: pointer;\n",
              "      display: none;\n",
              "      fill: #1967D2;\n",
              "      height: 32px;\n",
              "      padding: 0 0 0 0;\n",
              "      width: 32px;\n",
              "    }\n",
              "\n",
              "    .colab-df-convert:hover {\n",
              "      background-color: #E2EBFA;\n",
              "      box-shadow: 0px 1px 2px rgba(60, 64, 67, 0.3), 0px 1px 3px 1px rgba(60, 64, 67, 0.15);\n",
              "      fill: #174EA6;\n",
              "    }\n",
              "\n",
              "    [theme=dark] .colab-df-convert {\n",
              "      background-color: #3B4455;\n",
              "      fill: #D2E3FC;\n",
              "    }\n",
              "\n",
              "    [theme=dark] .colab-df-convert:hover {\n",
              "      background-color: #434B5C;\n",
              "      box-shadow: 0px 1px 3px 1px rgba(0, 0, 0, 0.15);\n",
              "      filter: drop-shadow(0px 1px 2px rgba(0, 0, 0, 0.3));\n",
              "      fill: #FFFFFF;\n",
              "    }\n",
              "  </style>\n",
              "\n",
              "      <script>\n",
              "        const buttonEl =\n",
              "          document.querySelector('#df-4ea773a4-311d-45d1-93f7-4f4ddc24ba93 button.colab-df-convert');\n",
              "        buttonEl.style.display =\n",
              "          google.colab.kernel.accessAllowed ? 'block' : 'none';\n",
              "\n",
              "        async function convertToInteractive(key) {\n",
              "          const element = document.querySelector('#df-4ea773a4-311d-45d1-93f7-4f4ddc24ba93');\n",
              "          const dataTable =\n",
              "            await google.colab.kernel.invokeFunction('convertToInteractive',\n",
              "                                                     [key], {});\n",
              "          if (!dataTable) return;\n",
              "\n",
              "          const docLinkHtml = 'Like what you see? Visit the ' +\n",
              "            '<a target=\"_blank\" href=https://colab.research.google.com/notebooks/data_table.ipynb>data table notebook</a>'\n",
              "            + ' to learn more about interactive tables.';\n",
              "          element.innerHTML = '';\n",
              "          dataTable['output_type'] = 'display_data';\n",
              "          await google.colab.output.renderOutput(dataTable, element);\n",
              "          const docLink = document.createElement('div');\n",
              "          docLink.innerHTML = docLinkHtml;\n",
              "          element.appendChild(docLink);\n",
              "        }\n",
              "      </script>\n",
              "    </div>\n",
              "  </div>\n"
            ]
          },
          "metadata": {},
          "execution_count": 115
        }
      ],
      "source": [
        "timeDf.head()"
      ]
    },
    {
      "cell_type": "code",
      "execution_count": 116,
      "metadata": {
        "id": "s2VL9NH-kbjt"
      },
      "outputs": [],
      "source": [
        "# some cleaning (Acutally a LOT!!)\n",
        "header = np.array(timeDf.columns)\n",
        "timeDf = timeDf[~np.all(timeDf.values == header, axis=1)]\n",
        "timeDf = timeDf[~timeDf['videoId'].str.contains(r'\\bvideoId\\b', case=False, regex=True)]\n",
        "pattern = r'^\\d{4}-\\d{2}-\\d{2}T\\d{2}:\\d{2}:\\d{2}Z$'\n",
        "timeDf = timeDf[timeDf['publishedAt'].str.contains(pattern)]"
      ]
    },
    {
      "cell_type": "code",
      "execution_count": 117,
      "metadata": {
        "colab": {
          "base_uri": "https://localhost:8080/"
        },
        "id": "WHH5VHUclNqt",
        "outputId": "09a84109-85aa-4d5c-fdc3-241a07ed118b"
      },
      "outputs": [
        {
          "output_type": "stream",
          "name": "stdout",
          "text": [
            "CPU times: user 298 ms, sys: 2 ms, total: 300 ms\n",
            "Wall time: 305 ms\n"
          ]
        }
      ],
      "source": [
        "%%time\n",
        "# Convert time from  ISO 8601 to a datetime object\n",
        "timeDf['NewDateTime'] = pd.to_datetime(timeDf['publishedAt'])"
      ]
    },
    {
      "cell_type": "code",
      "execution_count": 118,
      "metadata": {
        "colab": {
          "base_uri": "https://localhost:8080/"
        },
        "id": "jg0AusWxqy-g",
        "outputId": "acb07207-f85c-4420-e2ee-cdc22608653f"
      },
      "outputs": [
        {
          "output_type": "stream",
          "name": "stderr",
          "text": [
            "<ipython-input-118-24104e6ccdd9>:2: FutureWarning: Series.dt.weekofyear and Series.dt.week have been deprecated. Please use Series.dt.isocalendar().week instead.\n",
            "  timeDf['week'] = timeDf['NewDateTime'].dt.week\n"
          ]
        }
      ],
      "source": [
        "# Convert datetime object to week, month and day\n",
        "timeDf['week'] = timeDf['NewDateTime'].dt.week\n",
        "timeDf['day'] = timeDf['NewDateTime'].dt.day\n",
        "timeDf['month'] = timeDf['NewDateTime'].dt.month"
      ]
    },
    {
      "cell_type": "code",
      "execution_count": 119,
      "metadata": {
        "id": "GZEQrzwhrkM9"
      },
      "outputs": [],
      "source": [
        "# The protests started on Jan 18, 2023\n",
        "# https://indianexpress.com/article/sports/sport-others/wrestlers-protest-timeline-from-jantar-mantar-sit-in-to-nearly-immersing-medals-in-ganga-8649894/"
      ]
    },
    {
      "cell_type": "code",
      "execution_count": 120,
      "metadata": {
        "id": "jb2dT3_3uQtl"
      },
      "outputs": [],
      "source": [
        "slur_words_set = set(slur_words)"
      ]
    },
    {
      "cell_type": "code",
      "execution_count": 121,
      "metadata": {
        "id": "gpJQlTU2sPgm",
        "colab": {
          "base_uri": "https://localhost:8080/"
        },
        "outputId": "01d05351-4d2b-45a6-a530-cc145193a87f"
      },
      "outputs": [
        {
          "output_type": "stream",
          "name": "stdout",
          "text": [
            "CPU times: user 1min 10s, sys: 141 ms, total: 1min 10s\n",
            "Wall time: 1min 11s\n"
          ]
        }
      ],
      "source": [
        "%%time\n",
        "slurWordDf = timeDf[timeDf['textOriginal'].str.contains('|'.join(slur_words_set))]"
      ]
    },
    {
      "cell_type": "code",
      "execution_count": 122,
      "metadata": {
        "id": "fIxQ9ZLCtbA-"
      },
      "outputs": [],
      "source": [
        "slur_word_counts = slurWordDf.groupby('week').size()"
      ]
    },
    {
      "cell_type": "code",
      "execution_count": 123,
      "metadata": {
        "id": "FaafXkKOtbim"
      },
      "outputs": [],
      "source": [
        "# slur_word_counts"
      ]
    },
    {
      "cell_type": "code",
      "execution_count": 124,
      "metadata": {
        "id": "gahtw7lQwlEo"
      },
      "outputs": [],
      "source": [
        "pattern = r'(?i)(' + '|'.join(slur_words_set) + r')'"
      ]
    },
    {
      "cell_type": "code",
      "source": [
        "compiled_pattern = re.compile(pattern, re.IGNORECASE)"
      ],
      "metadata": {
        "id": "zDT13znpSVn6"
      },
      "execution_count": 125,
      "outputs": []
    },
    {
      "cell_type": "code",
      "execution_count": 126,
      "metadata": {
        "id": "qWDldU2XyHk9",
        "colab": {
          "base_uri": "https://localhost:8080/"
        },
        "outputId": "b2035eac-0bbd-448b-a6d5-6019a807e669"
      },
      "outputs": [
        {
          "output_type": "stream",
          "name": "stderr",
          "text": [
            "<timed exec>:2: UserWarning: This pattern is interpreted as a regular expression, and has match groups. To actually get the groups, use str.extract.\n"
          ]
        },
        {
          "output_type": "stream",
          "name": "stdout",
          "text": [
            "CPU times: user 4min 38s, sys: 528 ms, total: 4min 38s\n",
            "Wall time: 4min 39s\n"
          ]
        }
      ],
      "source": [
        "%%time\n",
        "# counts2 = timeDf.groupby('week')['textOriginal'].apply(lambda x: x.str.contains(pattern, case=False).sum())\n",
        "counts2 = timeDf.groupby('week')['textOriginal'].apply(lambda x: x.str.contains(compiled_pattern).sum())"
      ]
    },
    {
      "cell_type": "code",
      "execution_count": 127,
      "metadata": {
        "id": "wUltAZQuwZMe",
        "colab": {
          "base_uri": "https://localhost:8080/",
          "height": 87
        },
        "outputId": "59c89460-5970-4009-80f7-f878897634bb"
      },
      "outputs": [
        {
          "output_type": "execute_result",
          "data": {
            "text/plain": [
              "\"\\nLets plot the frequceny of slur words used vs time (week)\\nThe week number denoted in the plot is the number of the week in the year (out of 52)\\nWeek 17 - Apr. 24, 2023 - a day after protests started outside jantar mantar\\nWeek 22 - May 29, 2023 -  Delhi Police detains top wrestlers\\n          May 30, 2023 - The wrestlers, hurt by the way the police had detained them and then filed FIRs against them,\\n                            announce they will go to Har Ki Pauri in Haridwar to 'immerse their medals' in the River Ganga.\\nWeek 28 - July 10, 2023 - last day till I scrapped the data\\n\""
            ],
            "application/vnd.google.colaboratory.intrinsic+json": {
              "type": "string"
            }
          },
          "metadata": {},
          "execution_count": 127
        }
      ],
      "source": [
        "'''\n",
        "Lets plot the frequceny of slur words used vs time (week)\n",
        "The week number denoted in the plot is the number of the week in the year (out of 52)\n",
        "Week 17 - Apr. 24, 2023 - a day after protests started outside jantar mantar\n",
        "Week 22 - May 29, 2023 -  Delhi Police detains top wrestlers\n",
        "          May 30, 2023 - The wrestlers, hurt by the way the police had detained them and then filed FIRs against them,\n",
        "                            announce they will go to Har Ki Pauri in Haridwar to 'immerse their medals' in the River Ganga.\n",
        "Week 28 - July 10, 2023 - last day till I scrapped the data\n",
        "'''"
      ]
    },
    {
      "cell_type": "code",
      "source": [
        "plt.plot(slur_word_counts.index[1:], slur_word_counts.values[1:], color='blue', label='simple regex')\n",
        "plt.plot(counts2.index[8:], counts2.values[8:], color='red', label='case ignored regex')\n",
        "\n",
        "plt.xlabel('Week')\n",
        "plt.ylabel('Count of Slur Words')\n",
        "plt.title('Count of Slur Words per week')\n",
        "plt.xticks(counts2.index[8:])\n",
        "plt.legend(loc='best', fontsize='small')\n",
        "plt.show()"
      ],
      "metadata": {
        "colab": {
          "base_uri": "https://localhost:8080/",
          "height": 472
        },
        "id": "hMGxG1vXW6Gl",
        "outputId": "1750378b-60bc-41d1-c9d7-5c76b6df509e"
      },
      "execution_count": 128,
      "outputs": [
        {
          "output_type": "display_data",
          "data": {
            "text/plain": [
              "<Figure size 640x480 with 1 Axes>"
            ],
            "image/png": "[encoded data removed]"
          },
          "metadata": {}
        }
      ]
    },
    {
      "cell_type": "code",
      "execution_count": 129,
      "metadata": {
        "colab": {
          "base_uri": "https://localhost:8080/",
          "height": 472
        },
        "id": "24_DP4KOtbJN",
        "outputId": "2b54e1c4-ad81-4c6a-bec3-c2ceae0c968f"
      },
      "outputs": [
        {
          "output_type": "display_data",
          "data": {
            "text/plain": [
              "<Figure size 640x480 with 1 Axes>"
            ],
            "image/png": "[encoded data removed]"
          },
          "metadata": {}
        }
      ],
      "source": [
        "plt.semilogy(slur_word_counts.index[1:], slur_word_counts.values[1:], color='blue', label='simple regex')\n",
        "plt.semilogy(counts2.index[8:], counts2.values[8:], color='red', label='case ignored regex')\n",
        "plt.xlabel('Week')\n",
        "plt.ylabel('Count of Slur Words')\n",
        "plt.title('Count of Slur Words per week - semilogy scale')\n",
        "plt.xticks(counts2.index[8:])\n",
        "plt.legend(loc='best', fontsize='small')\n",
        "plt.show()"
      ]
    },
    {
      "cell_type": "code",
      "source": [
        "# the pattern pretty much remains the same, only the count of slur words are increasing"
      ],
      "metadata": {
        "id": "jG195x3iXquu"
      },
      "execution_count": 130,
      "outputs": []
    },
    {
      "cell_type": "code",
      "source": [
        "# Lets now look at the like counts accross the timeline of these hateful tweets."
      ],
      "metadata": {
        "id": "N13ydKtsZenU"
      },
      "execution_count": 131,
      "outputs": []
    },
    {
      "cell_type": "code",
      "source": [
        "word_likes_per_week = {}"
      ],
      "metadata": {
        "id": "C5TCZPMYZsaL"
      },
      "execution_count": 132,
      "outputs": []
    },
    {
      "cell_type": "code",
      "source": [
        "timeDf['likeCount'] = timeDf['likeCount'].astype(int)"
      ],
      "metadata": {
        "id": "ZasJp_Zibgfw"
      },
      "execution_count": 133,
      "outputs": []
    },
    {
      "cell_type": "code",
      "source": [
        "from collections import defaultdict"
      ],
      "metadata": {
        "id": "y95wNuDzdnkP"
      },
      "execution_count": 134,
      "outputs": []
    },
    {
      "cell_type": "code",
      "source": [
        "%%time\n",
        "for index, row in timeDf.iterrows():\n",
        "    text = row['textOriginal']\n",
        "    week = row['week']\n",
        "    like_count = row['likeCount']\n",
        "    matches = compiled_pattern.findall(text)\n",
        "    for word in matches:\n",
        "        if week not in word_likes_per_week:\n",
        "            word_likes_per_week[week] = 0\n",
        "        word_likes_per_week[week] += like_count"
      ],
      "metadata": {
        "colab": {
          "base_uri": "https://localhost:8080/"
        },
        "id": "0KRWYlPyatli",
        "outputId": "cf4544fb-10e3-4fca-eb2e-4c479ee3d6bd"
      },
      "execution_count": 135,
      "outputs": [
        {
          "output_type": "stream",
          "name": "stdout",
          "text": [
            "CPU times: user 5min 55s, sys: 920 ms, total: 5min 56s\n",
            "Wall time: 5min 59s\n"
          ]
        }
      ]
    },
    {
      "cell_type": "code",
      "source": [
        "word_likes_per_week"
      ],
      "metadata": {
        "colab": {
          "base_uri": "https://localhost:8080/"
        },
        "id": "b0HyMhvFattp",
        "outputId": "1f33bdcb-9415-42cc-9969-931596061b4b"
      },
      "execution_count": 136,
      "outputs": [
        {
          "output_type": "execute_result",
          "data": {
            "text/plain": [
              "{27: 27,\n",
              " 26: 639,\n",
              " 25: 89,\n",
              " 24: 366,\n",
              " 23: 2006,\n",
              " 22: 13568,\n",
              " 21: 3911,\n",
              " 19: 2048,\n",
              " 18: 4532,\n",
              " 17: 4434,\n",
              " 3: 629,\n",
              " 20: 451,\n",
              " 4: 24}"
            ]
          },
          "metadata": {},
          "execution_count": 136
        }
      ]
    },
    {
      "cell_type": "code",
      "source": [
        "x = sorted(word_likes_per_week.keys())\n",
        "y = [word_likes_per_week[week] for week in x]"
      ],
      "metadata": {
        "id": "1P4ZOTPoat06"
      },
      "execution_count": 137,
      "outputs": []
    },
    {
      "cell_type": "code",
      "source": [
        "plt.plot(x[2:], y[2:])\n",
        "plt.xlabel('Week')\n",
        "plt.ylabel('Total Like Count')\n",
        "plt.title('Total Like Count per Week for Identified Words')\n",
        "plt.xticks(x[2:])\n",
        "plt.show()"
      ],
      "metadata": {
        "colab": {
          "base_uri": "https://localhost:8080/",
          "height": 472
        },
        "id": "TTmTd_qEat9b",
        "outputId": "3ce36ece-7c19-4323-a4cb-293a185ad842"
      },
      "execution_count": 138,
      "outputs": [
        {
          "output_type": "display_data",
          "data": {
            "text/plain": [
              "<Figure size 640x480 with 1 Axes>"
            ],
            "image/png": "[encoded data removed]"
          },
          "metadata": {}
        }
      ]
    },
    {
      "cell_type": "code",
      "source": [
        "plt.semilogy(x[2:], y[2:])\n",
        "plt.xlabel('Week')\n",
        "plt.ylabel('Total Like Count')\n",
        "plt.title('Total Like Count per Week for Identified Words - Semilogy Scale')\n",
        "plt.xticks(x[2:])\n",
        "plt.show()"
      ],
      "metadata": {
        "colab": {
          "base_uri": "https://localhost:8080/",
          "height": 472
        },
        "id": "qIhfNf-mauG6",
        "outputId": "a8c17ed8-57de-4e82-b4db-b297925c652f"
      },
      "execution_count": 139,
      "outputs": [
        {
          "output_type": "display_data",
          "data": {
            "text/plain": [
              "<Figure size 640x480 with 1 Axes>"
            ],
            "image/png": "[encoded data removed]"
          },
          "metadata": {}
        }
      ]
    },
    {
      "cell_type": "code",
      "source": [
        "# These plots could be showing these results because it could be also from the bias in dataset sampling."
      ],
      "metadata": {
        "id": "qxHF6VLyfIjQ"
      },
      "execution_count": 140,
      "outputs": []
    },
    {
      "cell_type": "code",
      "source": [
        "'''\n",
        "check if these hateful tweets are replies or not too\n",
        "'''"
      ],
      "metadata": {
        "id": "RQhQJwzcZsvD",
        "colab": {
          "base_uri": "https://localhost:8080/",
          "height": 35
        },
        "outputId": "502d6ece-f964-4a87-beaf-778310a5b497"
      },
      "execution_count": 141,
      "outputs": [
        {
          "output_type": "execute_result",
          "data": {
            "text/plain": [
              "'\\ncheck if these hateful tweets are replies or not too\\n'"
            ],
            "application/vnd.google.colaboratory.intrinsic+json": {
              "type": "string"
            }
          },
          "metadata": {},
          "execution_count": 141
        }
      ]
    },
    {
      "cell_type": "markdown",
      "metadata": {
        "id": "eNkKoD02ihbl"
      },
      "source": [
        "## Identify Text Language"
      ]
    },
    {
      "cell_type": "code",
      "execution_count": 142,
      "metadata": {
        "id": "4dSDgHN0k4Cv"
      },
      "outputs": [],
      "source": [
        "#supressing output\n",
        "# !pip install inltk==0.9 > /dev/null 2>&1\n",
        "# !pip install --upgrade fastai > /dev/null 2>&1"
      ]
    },
    {
      "cell_type": "code",
      "execution_count": 143,
      "metadata": {
        "id": "5zuX_hBZmHKk"
      },
      "outputs": [],
      "source": [
        "!pip install polyglot==16.7.4 > /dev/null 2>&1\n",
        "!pip install PyICU > /dev/null 2>&1\n",
        "!pip install pycld2 > /dev/null 2>&1"
      ]
    },
    {
      "cell_type": "code",
      "execution_count": 144,
      "metadata": {
        "id": "9F2MFqHhhgF2"
      },
      "outputs": [],
      "source": [
        "# Use iNLTK, Indic NLP Library or polyglot\n",
        "# from inltk.inltk import identify_language, reset_language_identifying_models\n",
        "from polyglot.detect import Detector\n",
        "# languages supported by polyglot - https://polyglot.readthedocs.io/en/latest/Detection.html#supported-languages"
      ]
    },
    {
      "cell_type": "code",
      "execution_count": 145,
      "metadata": {
        "id": "FAGvFAxMkUso"
      },
      "outputs": [],
      "source": [
        "# text = 'आप कैसे हैं?' text = 'તમે કેમ છો' text = 'எப்படி இருக்கிறீர்கள்' text = 'സുഖമാണോ' text = 'तू कसा आहेस'\n",
        "text_sample = 'आप कैसे हैं?'"
      ]
    },
    {
      "cell_type": "code",
      "execution_count": 146,
      "metadata": {
        "colab": {
          "base_uri": "https://localhost:8080/"
        },
        "id": "PXO7lWFDoPCk",
        "outputId": "21e6ffeb-91ad-412f-b046-2432794622f2"
      },
      "outputs": [
        {
          "output_type": "stream",
          "name": "stdout",
          "text": [
            "name: Hindi       code: hi       confidence:  96.0 read bytes:  1638\n",
            "hi\n"
          ]
        }
      ],
      "source": [
        "detector = Detector(text_sample)\n",
        "print(detector.language)\n",
        "print(detector.language.code)"
      ]
    },
    {
      "cell_type": "code",
      "execution_count": 147,
      "metadata": {
        "id": "iFru1kffnrPF"
      },
      "outputs": [],
      "source": [
        "langDf = df[['videoId','textOriginal','authorChannelId', 'likeCount', 'publishedAt', 'updatedAt', 'commentId']]"
      ]
    },
    {
      "cell_type": "code",
      "execution_count": 148,
      "metadata": {
        "colab": {
          "base_uri": "https://localhost:8080/"
        },
        "id": "BaVL_uLooZdk",
        "outputId": "7481f20b-52d7-416e-a936-861a3d20ddf0"
      },
      "outputs": [
        {
          "output_type": "stream",
          "name": "stdout",
          "text": [
            "CPU times: user 15.9 s, sys: 464 ms, total: 16.3 s\n",
            "Wall time: 20.1 s\n"
          ]
        },
        {
          "output_type": "stream",
          "name": "stderr",
          "text": [
            "<timed exec>:1: SettingWithCopyWarning: \n",
            "A value is trying to be set on a copy of a slice from a DataFrame.\n",
            "Try using .loc[row_indexer,col_indexer] = value instead\n",
            "\n",
            "See the caveats in the documentation: https://pandas.pydata.org/pandas-docs/stable/user_guide/indexing.html#returning-a-view-versus-a-copy\n"
          ]
        }
      ],
      "source": [
        "%%time\n",
        "langDf['textOriginal'] = langDf['textOriginal'].apply(lambda x: clean_text(x))"
      ]
    },
    {
      "cell_type": "code",
      "execution_count": 149,
      "metadata": {
        "colab": {
          "base_uri": "https://localhost:8080/"
        },
        "id": "mys5Co3wonXs",
        "outputId": "d0b93e5d-48b1-441c-f949-77a86e46a779"
      },
      "outputs": [
        {
          "output_type": "stream",
          "name": "stderr",
          "text": [
            "<ipython-input-149-94e6cd841e46>:1: SettingWithCopyWarning: \n",
            "A value is trying to be set on a copy of a slice from a DataFrame.\n",
            "Try using .loc[row_indexer,col_indexer] = value instead\n",
            "\n",
            "See the caveats in the documentation: https://pandas.pydata.org/pandas-docs/stable/user_guide/indexing.html#returning-a-view-versus-a-copy\n",
            "  langDf['language'] = 'dnd' # dnd - did not detect\n"
          ]
        }
      ],
      "source": [
        "langDf['language'] = 'dnd' # dnd - did not detect"
      ]
    },
    {
      "cell_type": "code",
      "execution_count": 150,
      "metadata": {
        "id": "2yiUJAHdpgXW"
      },
      "outputs": [],
      "source": [
        "# langDf.head()"
      ]
    },
    {
      "cell_type": "code",
      "execution_count": 151,
      "metadata": {
        "id": "UvsYkdJx_Eej"
      },
      "outputs": [],
      "source": [
        "import warnings\n",
        "# warnings.filterwarnings(\"ignore\")\n",
        "warnings.filterwarnings(\"ignore\", category=UserWarning, module=\"polyglot\")"
      ]
    },
    {
      "cell_type": "code",
      "execution_count": 152,
      "metadata": {
        "id": "lCS3LB5uBOde"
      },
      "outputs": [],
      "source": [
        "# %%time\n",
        "# for index, row in langDf.iterrows():\n",
        "#     text = row['textOriginal']\n",
        "#     try:\n",
        "#         detector = Detector(text)\n",
        "#         detected_language = detector.language.code\n",
        "#         langDf.at[index, 'language'] = detected_language\n",
        "#     except:\n",
        "#         # If an error occurs or language detection fails, keep the 'dnd' value\n",
        "#         # An error could also occur if text length is small\n",
        "#         pass"
      ]
    },
    {
      "cell_type": "markdown",
      "metadata": {
        "id": "p-fYcTNMBtix"
      },
      "source": [
        "## Running the Seintiment Analysis Model"
      ]
    },
    {
      "cell_type": "code",
      "execution_count": 153,
      "metadata": {
        "id": "AbN2hINACAgf"
      },
      "outputs": [],
      "source": [
        "!pip install transformers > /dev/null 2>&1\n",
        "!pip install --upgrade accelerate > /dev/null 2>&1\n",
        "# !pip install xformers > /dev/null 2>&1"
      ]
    },
    {
      "cell_type": "code",
      "execution_count": 154,
      "metadata": {
        "id": "TftBhjyZBnsr"
      },
      "outputs": [],
      "source": [
        "from transformers import pipeline\n",
        "from transformers import AutoModelForSequenceClassification\n",
        "from transformers import TFAutoModelForSequenceClassification\n",
        "from transformers import AutoTokenizer, AutoConfig\n",
        "import numpy as np\n",
        "from scipy.special import softmax"
      ]
    },
    {
      "cell_type": "code",
      "execution_count": 155,
      "metadata": {
        "id": "b3e329IOCwqA"
      },
      "outputs": [],
      "source": [
        "# https://huggingface.co/cardiffnlp/twitter-roberta-base-sentiment-latest\n",
        "model_path = f\"cardiffnlp/twitter-roberta-base-sentiment-latest\""
      ]
    },
    {
      "cell_type": "code",
      "execution_count": 156,
      "metadata": {
        "id": "j1OSG3_AB_N1"
      },
      "outputs": [],
      "source": [
        "# sentiment_task = pipeline(\"sentiment-analysis\", model=model_path, tokenizer=model_path)\n",
        "# sentiment_task(\"I am very happy today\")"
      ]
    },
    {
      "cell_type": "code",
      "execution_count": 157,
      "metadata": {
        "colab": {
          "base_uri": "https://localhost:8080/",
          "height": 249,
          "referenced_widgets": [
            "35590c91fe6f4668bc6956e1be4358cc",
            "06c286f41097401dbf20a99a231afd64",
            "c301f9dd19224b78aebb08d16470cdcc",
            "1666c3f6773a4f8f840d114894226574",
            "25dfc1d825ae490d8c74e63c9aac1603",
            "0b2dc9514cbb4b08b772670eb8ee0c39",
            "6c13b40ce112475cac36d1fadedaf824",
            "cdf60f316c044881b662b6e1ed0f7541",
            "9a6f9a8a29864235bb165ba4ac982ac8",
            "c3e3d3d23b064937bca8ffc274cdc2e3",
            "2a8e996f4008401392b4c9a07c8a7696",
            "f7517e8dc56740049dfb86fc23a86536",
            "44c5cdfe4c7248e79cac65e096fe36a9",
            "11c89d612e56485790b7e7179c83eac3",
            "b71d62c128974035bf7a2a6a427f788e",
            "110f008643b74e6085c889a6c9ddc4b3",
            "aa22818bb4194d31826995ed8bd4c6f0",
            "baa5edb2d69843ab9145ef16a82afe19",
            "6eeac291dcaa48f583e8ad65b1142e24",
            "bee6f182870144418ee1d60e1f07fdac",
            "438a2c13e5024d1c905d0bbb4b3e3261",
            "2cc669ac6aba473995b9d68e8869d9ec",
            "320bcdc7068b40ceb51d8096c582ba1f",
            "0b5674aa18354ad9ba72b49516539fec",
            "d9ee9f42d0dd45c9ab05f48cad355cdb",
            "1f51151704bf44fbbf015c39ae32fb1e",
            "f5b9fdb2c4ca4a82b6cd22ca4d6b03c1",
            "f9701dda17f34f428bc8ce648195a1ea",
            "92bd48bbea204666af7a567c66879407",
            "aeb7006b6cb74c1aa3c265f264902607",
            "0c59814ca39a41ad881573f5bc3a41dd",
            "933c56dc01b841f092cfc812270f03d6",
            "548fe8276865461ebdb71cd25af0dbdf",
            "5a6c3d14bb4f46e49762fb1a18d30a8e",
            "600bc4134def4538ba4d47dfd601d1c5",
            "89733f9bfc1648e8ad35fbdace1b9968",
            "9486a314545e4ed780dcbd121e890309",
            "2dc728eda2f148dfbdce3de4272a5de6",
            "0e27bfd1f7f04459b86eecb620b9d4ce",
            "3df6301d9739458b9cc2e2adc95913c7",
            "f5c83750269d4139ba719d867a35713f",
            "27f6adfe67b54763af4f1d9885619b0f",
            "68a79fbd8c994ebc8e9896f4e9347371",
            "17eee9c5441647cca14edea7eff97188",
            "6dca6c609b73477ebfdc8af1ce555a26",
            "a70e25c01431461a8191b7c666a0f359",
            "645bf7ea75a14aa291682f122186f68d",
            "37b2807681fe4bf0b315342361baec94",
            "380b87912b644e6c87484241c316c630",
            "2c3471d3f37643f4809c1fa4a5510509",
            "52460d6a1385483c9dbc2d9bf2134245",
            "b1df30671b174feca67af13ef0307c0c",
            "642fe831701c449ab17d773740f93f97",
            "02ec650db23d4a16aef9b59b6a4917f6",
            "f3029fd807b3486490e71a2c033acbaa"
          ]
        },
        "id": "ubsQvPNGD65B",
        "outputId": "51fe3697-81ff-4140-8e1d-cd68466f5e56"
      },
      "outputs": [
        {
          "output_type": "display_data",
          "data": {
            "text/plain": [
              "Downloading (…)lve/main/config.json:   0%|          | 0.00/929 [00:00<?, ?B/s]"
            ],
            "application/vnd.jupyter.widget-view+json": {
              "version_major": 2,
              "version_minor": 0,
              "model_id": "35590c91fe6f4668bc6956e1be4358cc"
            }
          },
          "metadata": {}
        },
        {
          "output_type": "display_data",
          "data": {
            "text/plain": [
              "Downloading (…)olve/main/vocab.json:   0%|          | 0.00/899k [00:00<?, ?B/s]"
            ],
            "application/vnd.jupyter.widget-view+json": {
              "version_major": 2,
              "version_minor": 0,
              "model_id": "f7517e8dc56740049dfb86fc23a86536"
            }
          },
          "metadata": {}
        },
        {
          "output_type": "display_data",
          "data": {
            "text/plain": [
              "Downloading (…)olve/main/merges.txt:   0%|          | 0.00/456k [00:00<?, ?B/s]"
            ],
            "application/vnd.jupyter.widget-view+json": {
              "version_major": 2,
              "version_minor": 0,
              "model_id": "320bcdc7068b40ceb51d8096c582ba1f"
            }
          },
          "metadata": {}
        },
        {
          "output_type": "display_data",
          "data": {
            "text/plain": [
              "Downloading (…)cial_tokens_map.json:   0%|          | 0.00/239 [00:00<?, ?B/s]"
            ],
            "application/vnd.jupyter.widget-view+json": {
              "version_major": 2,
              "version_minor": 0,
              "model_id": "5a6c3d14bb4f46e49762fb1a18d30a8e"
            }
          },
          "metadata": {}
        },
        {
          "output_type": "display_data",
          "data": {
            "text/plain": [
              "Downloading pytorch_model.bin:   0%|          | 0.00/501M [00:00<?, ?B/s]"
            ],
            "application/vnd.jupyter.widget-view+json": {
              "version_major": 2,
              "version_minor": 0,
              "model_id": "6dca6c609b73477ebfdc8af1ce555a26"
            }
          },
          "metadata": {}
        },
        {
          "output_type": "stream",
          "name": "stderr",
          "text": [
            "Some weights of the model checkpoint at cardiffnlp/twitter-roberta-base-sentiment-latest were not used when initializing RobertaForSequenceClassification: ['roberta.pooler.dense.bias', 'roberta.pooler.dense.weight']\n",
            "- This IS expected if you are initializing RobertaForSequenceClassification from the checkpoint of a model trained on another task or with another architecture (e.g. initializing a BertForSequenceClassification model from a BertForPreTraining model).\n",
            "- This IS NOT expected if you are initializing RobertaForSequenceClassification from the checkpoint of a model that you expect to be exactly identical (initializing a BertForSequenceClassification model from a BertForSequenceClassification model).\n"
          ]
        }
      ],
      "source": [
        "tokenizer = AutoTokenizer.from_pretrained(model_path)\n",
        "config = AutoConfig.from_pretrained(model_path)\n",
        "model = AutoModelForSequenceClassification.from_pretrained(model_path)"
      ]
    },
    {
      "cell_type": "code",
      "execution_count": 158,
      "metadata": {
        "id": "mhH1XNCUoFtI"
      },
      "outputs": [],
      "source": [
        "text = \"Covid cases are increasing fast!\""
      ]
    },
    {
      "cell_type": "code",
      "execution_count": 159,
      "metadata": {
        "id": "zYa0OWNVoLip"
      },
      "outputs": [],
      "source": [
        "def apply_sentiment_analysis(text):\n",
        "    encoded_input = tokenizer(text, return_tensors='pt')\n",
        "    output = model(**encoded_input)\n",
        "    scores = output[0][0].detach().numpy()\n",
        "    scores = np.exp(scores) / np.exp(scores).sum()\n",
        "    ranking = np.argsort(scores)\n",
        "    ranking = ranking[::-1]\n",
        "    label = config.id2label[ranking[0]]\n",
        "    score = scores[ranking[0]]\n",
        "    return label, score"
      ]
    },
    {
      "cell_type": "code",
      "execution_count": 160,
      "metadata": {
        "colab": {
          "base_uri": "https://localhost:8080/"
        },
        "id": "JMN4-62-pN2y",
        "outputId": "7dff3d15-9342-4e5e-960b-991ea62c49e9"
      },
      "outputs": [
        {
          "output_type": "stream",
          "name": "stdout",
          "text": [
            "negative, 0.7235767245292664\n"
          ]
        }
      ],
      "source": [
        "label, score = apply_sentiment_analysis(text)\n",
        "print(f\"{label}, {score}\")"
      ]
    },
    {
      "cell_type": "code",
      "execution_count": 161,
      "metadata": {
        "id": "zWl0NocOqSUB"
      },
      "outputs": [],
      "source": [
        "sentimentDf = df[['videoId','textOriginal','authorChannelId', 'likeCount', 'publishedAt', 'updatedAt', 'commentId']]"
      ]
    },
    {
      "cell_type": "code",
      "execution_count": 162,
      "metadata": {
        "id": "V63NxhtOsCHo"
      },
      "outputs": [],
      "source": [
        "sentimentDf2 = sentimentDf.head(5000)"
      ]
    },
    {
      "cell_type": "code",
      "execution_count": 163,
      "metadata": {
        "colab": {
          "base_uri": "https://localhost:8080/"
        },
        "id": "EEivkoUNsROo",
        "outputId": "f7498dfe-f863-4383-b7c8-c83f71d3f9c8"
      },
      "outputs": [
        {
          "output_type": "execute_result",
          "data": {
            "text/plain": [
              "(5000, 7)"
            ]
          },
          "metadata": {},
          "execution_count": 163
        }
      ],
      "source": [
        "sentimentDf2.shape"
      ]
    },
    {
      "cell_type": "code",
      "execution_count": 164,
      "metadata": {
        "colab": {
          "base_uri": "https://localhost:8080/"
        },
        "id": "gi8xtFtXswfU",
        "outputId": "4997a9b8-6b98-4416-9d3e-4c3906f00171"
      },
      "outputs": [
        {
          "output_type": "stream",
          "name": "stderr",
          "text": [
            "<ipython-input-164-11ed32de50ef>:1: SettingWithCopyWarning: \n",
            "A value is trying to be set on a copy of a slice from a DataFrame.\n",
            "Try using .loc[row_indexer,col_indexer] = value instead\n",
            "\n",
            "See the caveats in the documentation: https://pandas.pydata.org/pandas-docs/stable/user_guide/indexing.html#returning-a-view-versus-a-copy\n",
            "  sentimentDf2['label'] = \"\"\n",
            "<ipython-input-164-11ed32de50ef>:2: SettingWithCopyWarning: \n",
            "A value is trying to be set on a copy of a slice from a DataFrame.\n",
            "Try using .loc[row_indexer,col_indexer] = value instead\n",
            "\n",
            "See the caveats in the documentation: https://pandas.pydata.org/pandas-docs/stable/user_guide/indexing.html#returning-a-view-versus-a-copy\n",
            "  sentimentDf2['score'] = 0.0\n"
          ]
        }
      ],
      "source": [
        "sentimentDf2['label'] = \"\"\n",
        "sentimentDf2['score'] = 0.0"
      ]
    },
    {
      "cell_type": "code",
      "execution_count": 165,
      "metadata": {
        "colab": {
          "base_uri": "https://localhost:8080/",
          "height": 337
        },
        "id": "phh2AX9gs3zk",
        "outputId": "5358778e-e1f9-4239-abd3-054c709c5169"
      },
      "outputs": [
        {
          "output_type": "execute_result",
          "data": {
            "text/plain": [
              "       videoId                                       textOriginal  \\\n",
              "0  EBOKYsWUhvI  Dub maro jaato 😢😢.\\nTumse tumare ladkiya nhi b...   \n",
              "1  EBOKYsWUhvI                                   Haar gye bechare   \n",
              "2  EBOKYsWUhvI  Dhamki mili pahalwano ko aur sab manage kr liy...   \n",
              "3  EBOKYsWUhvI  Jaato pr ye boj rhega ki vo apni hi vyavstha s...   \n",
              "4  EBOKYsWUhvI           Pahlwan jante h kuch nhi kr payenge uska   \n",
              "\n",
              "                         authorChannelId likeCount           publishedAt  \\\n",
              "0  {'value': 'UC5G8fjqoiFIqHpKyVeOTsFg'}         0  2023-07-06T07:04:02Z   \n",
              "1  {'value': 'UCsMGRdH3YHrbs21NOraRuyQ'}         0  2023-07-03T22:21:37Z   \n",
              "2  {'value': 'UC_dWuNh6zydTHIRr6hi3Omg'}         0  2023-07-03T05:06:33Z   \n",
              "3  {'value': 'UCVdGObpHM-IMHB_b7_K-7rA'}         1  2023-07-02T03:39:50Z   \n",
              "4  {'value': 'UCRkcewHFhxE5KfLHrLx0wpA'}         0  2023-06-28T15:10:36Z   \n",
              "\n",
              "              updatedAt                   commentId label  score  \n",
              "0  2023-07-06T07:04:02Z  UgwbyvIkkAhUdaCFpcp4AaABAg          0.0  \n",
              "1  2023-07-03T22:21:37Z  Ugyz3OwSXamho91-8I94AaABAg          0.0  \n",
              "2  2023-07-03T05:06:33Z  Ugyphs1TT1Yoj7MZBVJ4AaABAg          0.0  \n",
              "3  2023-07-02T03:39:50Z  UgwnIxpuFAcKsEzffBp4AaABAg          0.0  \n",
              "4  2023-06-28T15:10:36Z  UgxjuOlDigsmuDu53J54AaABAg          0.0  "
            ],
            "text/html": [
              "\n",
              "\n",
              "  <div id=\"df-b68ef790-0b5f-4130-868d-c92e57d94498\">\n",
              "    <div class=\"colab-df-container\">\n",
              "      <div>\n",
              "<style scoped>\n",
              "    .dataframe tbody tr th:only-of-type {\n",
              "        vertical-align: middle;\n",
              "    }\n",
              "\n",
              "    .dataframe tbody tr th {\n",
              "        vertical-align: top;\n",
              "    }\n",
              "\n",
              "    .dataframe thead th {\n",
              "        text-align: right;\n",
              "    }\n",
              "</style>\n",
              "<table border=\"1\" class=\"dataframe\">\n",
              "  <thead>\n",
              "    <tr style=\"text-align: right;\">\n",
              "      <th></th>\n",
              "      <th>videoId</th>\n",
              "      <th>textOriginal</th>\n",
              "      <th>authorChannelId</th>\n",
              "      <th>likeCount</th>\n",
              "      <th>publishedAt</th>\n",
              "      <th>updatedAt</th>\n",
              "      <th>commentId</th>\n",
              "      <th>label</th>\n",
              "      <th>score</th>\n",
              "    </tr>\n",
              "  </thead>\n",
              "  <tbody>\n",
              "    <tr>\n",
              "      <th>0</th>\n",
              "      <td>EBOKYsWUhvI</td>\n",
              "      <td>Dub maro jaato 😢😢.\\nTumse tumare ladkiya nhi b...</td>\n",
              "      <td>{'value': 'UC5G8fjqoiFIqHpKyVeOTsFg'}</td>\n",
              "      <td>0</td>\n",
              "      <td>2023-07-06T07:04:02Z</td>\n",
              "      <td>2023-07-06T07:04:02Z</td>\n",
              "      <td>UgwbyvIkkAhUdaCFpcp4AaABAg</td>\n",
              "      <td></td>\n",
              "      <td>0.0</td>\n",
              "    </tr>\n",
              "    <tr>\n",
              "      <th>1</th>\n",
              "      <td>EBOKYsWUhvI</td>\n",
              "      <td>Haar gye bechare</td>\n",
              "      <td>{'value': 'UCsMGRdH3YHrbs21NOraRuyQ'}</td>\n",
              "      <td>0</td>\n",
              "      <td>2023-07-03T22:21:37Z</td>\n",
              "      <td>2023-07-03T22:21:37Z</td>\n",
              "      <td>Ugyz3OwSXamho91-8I94AaABAg</td>\n",
              "      <td></td>\n",
              "      <td>0.0</td>\n",
              "    </tr>\n",
              "    <tr>\n",
              "      <th>2</th>\n",
              "      <td>EBOKYsWUhvI</td>\n",
              "      <td>Dhamki mili pahalwano ko aur sab manage kr liy...</td>\n",
              "      <td>{'value': 'UC_dWuNh6zydTHIRr6hi3Omg'}</td>\n",
              "      <td>0</td>\n",
              "      <td>2023-07-03T05:06:33Z</td>\n",
              "      <td>2023-07-03T05:06:33Z</td>\n",
              "      <td>Ugyphs1TT1Yoj7MZBVJ4AaABAg</td>\n",
              "      <td></td>\n",
              "      <td>0.0</td>\n",
              "    </tr>\n",
              "    <tr>\n",
              "      <th>3</th>\n",
              "      <td>EBOKYsWUhvI</td>\n",
              "      <td>Jaato pr ye boj rhega ki vo apni hi vyavstha s...</td>\n",
              "      <td>{'value': 'UCVdGObpHM-IMHB_b7_K-7rA'}</td>\n",
              "      <td>1</td>\n",
              "      <td>2023-07-02T03:39:50Z</td>\n",
              "      <td>2023-07-02T03:39:50Z</td>\n",
              "      <td>UgwnIxpuFAcKsEzffBp4AaABAg</td>\n",
              "      <td></td>\n",
              "      <td>0.0</td>\n",
              "    </tr>\n",
              "    <tr>\n",
              "      <th>4</th>\n",
              "      <td>EBOKYsWUhvI</td>\n",
              "      <td>Pahlwan jante h kuch nhi kr payenge uska</td>\n",
              "      <td>{'value': 'UCRkcewHFhxE5KfLHrLx0wpA'}</td>\n",
              "      <td>0</td>\n",
              "      <td>2023-06-28T15:10:36Z</td>\n",
              "      <td>2023-06-28T15:10:36Z</td>\n",
              "      <td>UgxjuOlDigsmuDu53J54AaABAg</td>\n",
              "      <td></td>\n",
              "      <td>0.0</td>\n",
              "    </tr>\n",
              "  </tbody>\n",
              "</table>\n",
              "</div>\n",
              "      <button class=\"colab-df-convert\" onclick=\"convertToInteractive('df-b68ef790-0b5f-4130-868d-c92e57d94498')\"\n",
              "              title=\"Convert this dataframe to an interactive table.\"\n",
              "              style=\"display:none;\">\n",
              "\n",
              "  <svg xmlns=\"http://www.w3.org/2000/svg\" height=\"24px\"viewBox=\"0 0 24 24\"\n",
              "       width=\"24px\">\n",
              "    <path d=\"M0 0h24v24H0V0z\" fill=\"none\"/>\n",
              "    <path d=\"M18.56 5.44l.94 2.06.94-2.06 2.06-.94-2.06-.94-.94-2.06-.94 2.06-2.06.94zm-11 1L8.5 8.5l.94-2.06 2.06-.94-2.06-.94L8.5 2.5l-.94 2.06-2.06.94zm10 10l.94 2.06.94-2.06 2.06-.94-2.06-.94-.94-2.06-.94 2.06-2.06.94z\"/><path d=\"M17.41 7.96l-1.37-1.37c-.4-.4-.92-.59-1.43-.59-.52 0-1.04.2-1.43.59L10.3 9.45l-7.72 7.72c-.78.78-.78 2.05 0 2.83L4 21.41c.39.39.9.59 1.41.59.51 0 1.02-.2 1.41-.59l7.78-7.78 2.81-2.81c.8-.78.8-2.07 0-2.86zM5.41 20L4 18.59l7.72-7.72 1.47 1.35L5.41 20z\"/>\n",
              "  </svg>\n",
              "      </button>\n",
              "\n",
              "\n",
              "\n",
              "    <div id=\"df-95347bb1-7f84-4d97-b028-1a513239dfa2\">\n",
              "      <button class=\"colab-df-quickchart\" onclick=\"quickchart('df-95347bb1-7f84-4d97-b028-1a513239dfa2')\"\n",
              "              title=\"Suggest charts.\"\n",
              "              style=\"display:none;\">\n",
              "\n",
              "<svg xmlns=\"http://www.w3.org/2000/svg\" height=\"24px\"viewBox=\"0 0 24 24\"\n",
              "     width=\"24px\">\n",
              "    <g>\n",
              "        <path d=\"M19 3H5c-1.1 0-2 .9-2 2v14c0 1.1.9 2 2 2h14c1.1 0 2-.9 2-2V5c0-1.1-.9-2-2-2zM9 17H7v-7h2v7zm4 0h-2V7h2v10zm4 0h-2v-4h2v4z\"/>\n",
              "    </g>\n",
              "</svg>\n",
              "      </button>\n",
              "    </div>\n",
              "\n",
              "<style>\n",
              "  .colab-df-quickchart {\n",
              "    background-color: #E8F0FE;\n",
              "    border: none;\n",
              "    border-radius: 50%;\n",
              "    cursor: pointer;\n",
              "    display: none;\n",
              "    fill: #1967D2;\n",
              "    height: 32px;\n",
              "    padding: 0 0 0 0;\n",
              "    width: 32px;\n",
              "  }\n",
              "\n",
              "  .colab-df-quickchart:hover {\n",
              "    background-color: #E2EBFA;\n",
              "    box-shadow: 0px 1px 2px rgba(60, 64, 67, 0.3), 0px 1px 3px 1px rgba(60, 64, 67, 0.15);\n",
              "    fill: #174EA6;\n",
              "  }\n",
              "\n",
              "  [theme=dark] .colab-df-quickchart {\n",
              "    background-color: #3B4455;\n",
              "    fill: #D2E3FC;\n",
              "  }\n",
              "\n",
              "  [theme=dark] .colab-df-quickchart:hover {\n",
              "    background-color: #434B5C;\n",
              "    box-shadow: 0px 1px 3px 1px rgba(0, 0, 0, 0.15);\n",
              "    filter: drop-shadow(0px 1px 2px rgba(0, 0, 0, 0.3));\n",
              "    fill: #FFFFFF;\n",
              "  }\n",
              "</style>\n",
              "\n",
              "    <script>\n",
              "      async function quickchart(key) {\n",
              "        const containerElement = document.querySelector('#' + key);\n",
              "        const charts = await google.colab.kernel.invokeFunction(\n",
              "            'suggestCharts', [key], {});\n",
              "      }\n",
              "    </script>\n",
              "\n",
              "      <script>\n",
              "\n",
              "function displayQuickchartButton(domScope) {\n",
              "  let quickchartButtonEl =\n",
              "    domScope.querySelector('#df-95347bb1-7f84-4d97-b028-1a513239dfa2 button.colab-df-quickchart');\n",
              "  quickchartButtonEl.style.display =\n",
              "    google.colab.kernel.accessAllowed ? 'block' : 'none';\n",
              "}\n",
              "\n",
              "        displayQuickchartButton(document);\n",
              "      </script>\n",
              "      <style>\n",
              "    .colab-df-container {\n",
              "      display:flex;\n",
              "      flex-wrap:wrap;\n",
              "      gap: 12px;\n",
              "    }\n",
              "\n",
              "    .colab-df-convert {\n",
              "      background-color: #E8F0FE;\n",
              "      border: none;\n",
              "      border-radius: 50%;\n",
              "      cursor: pointer;\n",
              "      display: none;\n",
              "      fill: #1967D2;\n",
              "      height: 32px;\n",
              "      padding: 0 0 0 0;\n",
              "      width: 32px;\n",
              "    }\n",
              "\n",
              "    .colab-df-convert:hover {\n",
              "      background-color: #E2EBFA;\n",
              "      box-shadow: 0px 1px 2px rgba(60, 64, 67, 0.3), 0px 1px 3px 1px rgba(60, 64, 67, 0.15);\n",
              "      fill: #174EA6;\n",
              "    }\n",
              "\n",
              "    [theme=dark] .colab-df-convert {\n",
              "      background-color: #3B4455;\n",
              "      fill: #D2E3FC;\n",
              "    }\n",
              "\n",
              "    [theme=dark] .colab-df-convert:hover {\n",
              "      background-color: #434B5C;\n",
              "      box-shadow: 0px 1px 3px 1px rgba(0, 0, 0, 0.15);\n",
              "      filter: drop-shadow(0px 1px 2px rgba(0, 0, 0, 0.3));\n",
              "      fill: #FFFFFF;\n",
              "    }\n",
              "  </style>\n",
              "\n",
              "      <script>\n",
              "        const buttonEl =\n",
              "          document.querySelector('#df-b68ef790-0b5f-4130-868d-c92e57d94498 button.colab-df-convert');\n",
              "        buttonEl.style.display =\n",
              "          google.colab.kernel.accessAllowed ? 'block' : 'none';\n",
              "\n",
              "        async function convertToInteractive(key) {\n",
              "          const element = document.querySelector('#df-b68ef790-0b5f-4130-868d-c92e57d94498');\n",
              "          const dataTable =\n",
              "            await google.colab.kernel.invokeFunction('convertToInteractive',\n",
              "                                                     [key], {});\n",
              "          if (!dataTable) return;\n",
              "\n",
              "          const docLinkHtml = 'Like what you see? Visit the ' +\n",
              "            '<a target=\"_blank\" href=https://colab.research.google.com/notebooks/data_table.ipynb>data table notebook</a>'\n",
              "            + ' to learn more about interactive tables.';\n",
              "          element.innerHTML = '';\n",
              "          dataTable['output_type'] = 'display_data';\n",
              "          await google.colab.output.renderOutput(dataTable, element);\n",
              "          const docLink = document.createElement('div');\n",
              "          docLink.innerHTML = docLinkHtml;\n",
              "          element.appendChild(docLink);\n",
              "        }\n",
              "      </script>\n",
              "    </div>\n",
              "  </div>\n"
            ]
          },
          "metadata": {},
          "execution_count": 165
        }
      ],
      "source": [
        "sentimentDf2.head()"
      ]
    },
    {
      "cell_type": "code",
      "execution_count": 166,
      "metadata": {
        "colab": {
          "base_uri": "https://localhost:8080/"
        },
        "id": "7aLfC5W7sSmo",
        "outputId": "d8d17ad7-a814-4b4c-b7c7-3328c6aeb694"
      },
      "outputs": [
        {
          "output_type": "stream",
          "name": "stdout",
          "text": [
            "CPU times: user 3 µs, sys: 0 ns, total: 3 µs\n",
            "Wall time: 6.44 µs\n"
          ]
        }
      ],
      "source": [
        "%%time\n",
        "# for index, row in sentimentDf2.iterrows():\n",
        "#     text = row['textOriginal']\n",
        "#     label, score = apply_sentiment_analysis(text)\n",
        "#     row['label'] = label\n",
        "#     row['score'] = score"
      ]
    },
    {
      "cell_type": "code",
      "execution_count": 167,
      "metadata": {
        "colab": {
          "base_uri": "https://localhost:8080/",
          "height": 337
        },
        "id": "3hgSHVFStKK5",
        "outputId": "81845340-8c27-4d31-be67-dc961c04547d"
      },
      "outputs": [
        {
          "output_type": "execute_result",
          "data": {
            "text/plain": [
              "       videoId                                       textOriginal  \\\n",
              "0  EBOKYsWUhvI  Dub maro jaato 😢😢.\\nTumse tumare ladkiya nhi b...   \n",
              "1  EBOKYsWUhvI                                   Haar gye bechare   \n",
              "2  EBOKYsWUhvI  Dhamki mili pahalwano ko aur sab manage kr liy...   \n",
              "3  EBOKYsWUhvI  Jaato pr ye boj rhega ki vo apni hi vyavstha s...   \n",
              "4  EBOKYsWUhvI           Pahlwan jante h kuch nhi kr payenge uska   \n",
              "\n",
              "                         authorChannelId likeCount           publishedAt  \\\n",
              "0  {'value': 'UC5G8fjqoiFIqHpKyVeOTsFg'}         0  2023-07-06T07:04:02Z   \n",
              "1  {'value': 'UCsMGRdH3YHrbs21NOraRuyQ'}         0  2023-07-03T22:21:37Z   \n",
              "2  {'value': 'UC_dWuNh6zydTHIRr6hi3Omg'}         0  2023-07-03T05:06:33Z   \n",
              "3  {'value': 'UCVdGObpHM-IMHB_b7_K-7rA'}         1  2023-07-02T03:39:50Z   \n",
              "4  {'value': 'UCRkcewHFhxE5KfLHrLx0wpA'}         0  2023-06-28T15:10:36Z   \n",
              "\n",
              "              updatedAt                   commentId label  score  \n",
              "0  2023-07-06T07:04:02Z  UgwbyvIkkAhUdaCFpcp4AaABAg          0.0  \n",
              "1  2023-07-03T22:21:37Z  Ugyz3OwSXamho91-8I94AaABAg          0.0  \n",
              "2  2023-07-03T05:06:33Z  Ugyphs1TT1Yoj7MZBVJ4AaABAg          0.0  \n",
              "3  2023-07-02T03:39:50Z  UgwnIxpuFAcKsEzffBp4AaABAg          0.0  \n",
              "4  2023-06-28T15:10:36Z  UgxjuOlDigsmuDu53J54AaABAg          0.0  "
            ],
            "text/html": [
              "\n",
              "\n",
              "  <div id=\"df-91b33eb8-cb0e-4da3-a691-918e8b7de636\">\n",
              "    <div class=\"colab-df-container\">\n",
              "      <div>\n",
              "<style scoped>\n",
              "    .dataframe tbody tr th:only-of-type {\n",
              "        vertical-align: middle;\n",
              "    }\n",
              "\n",
              "    .dataframe tbody tr th {\n",
              "        vertical-align: top;\n",
              "    }\n",
              "\n",
              "    .dataframe thead th {\n",
              "        text-align: right;\n",
              "    }\n",
              "</style>\n",
              "<table border=\"1\" class=\"dataframe\">\n",
              "  <thead>\n",
              "    <tr style=\"text-align: right;\">\n",
              "      <th></th>\n",
              "      <th>videoId</th>\n",
              "      <th>textOriginal</th>\n",
              "      <th>authorChannelId</th>\n",
              "      <th>likeCount</th>\n",
              "      <th>publishedAt</th>\n",
              "      <th>updatedAt</th>\n",
              "      <th>commentId</th>\n",
              "      <th>label</th>\n",
              "      <th>score</th>\n",
              "    </tr>\n",
              "  </thead>\n",
              "  <tbody>\n",
              "    <tr>\n",
              "      <th>0</th>\n",
              "      <td>EBOKYsWUhvI</td>\n",
              "      <td>Dub maro jaato 😢😢.\\nTumse tumare ladkiya nhi b...</td>\n",
              "      <td>{'value': 'UC5G8fjqoiFIqHpKyVeOTsFg'}</td>\n",
              "      <td>0</td>\n",
              "      <td>2023-07-06T07:04:02Z</td>\n",
              "      <td>2023-07-06T07:04:02Z</td>\n",
              "      <td>UgwbyvIkkAhUdaCFpcp4AaABAg</td>\n",
              "      <td></td>\n",
              "      <td>0.0</td>\n",
              "    </tr>\n",
              "    <tr>\n",
              "      <th>1</th>\n",
              "      <td>EBOKYsWUhvI</td>\n",
              "      <td>Haar gye bechare</td>\n",
              "      <td>{'value': 'UCsMGRdH3YHrbs21NOraRuyQ'}</td>\n",
              "      <td>0</td>\n",
              "      <td>2023-07-03T22:21:37Z</td>\n",
              "      <td>2023-07-03T22:21:37Z</td>\n",
              "      <td>Ugyz3OwSXamho91-8I94AaABAg</td>\n",
              "      <td></td>\n",
              "      <td>0.0</td>\n",
              "    </tr>\n",
              "    <tr>\n",
              "      <th>2</th>\n",
              "      <td>EBOKYsWUhvI</td>\n",
              "      <td>Dhamki mili pahalwano ko aur sab manage kr liy...</td>\n",
              "      <td>{'value': 'UC_dWuNh6zydTHIRr6hi3Omg'}</td>\n",
              "      <td>0</td>\n",
              "      <td>2023-07-03T05:06:33Z</td>\n",
              "      <td>2023-07-03T05:06:33Z</td>\n",
              "      <td>Ugyphs1TT1Yoj7MZBVJ4AaABAg</td>\n",
              "      <td></td>\n",
              "      <td>0.0</td>\n",
              "    </tr>\n",
              "    <tr>\n",
              "      <th>3</th>\n",
              "      <td>EBOKYsWUhvI</td>\n",
              "      <td>Jaato pr ye boj rhega ki vo apni hi vyavstha s...</td>\n",
              "      <td>{'value': 'UCVdGObpHM-IMHB_b7_K-7rA'}</td>\n",
              "      <td>1</td>\n",
              "      <td>2023-07-02T03:39:50Z</td>\n",
              "      <td>2023-07-02T03:39:50Z</td>\n",
              "      <td>UgwnIxpuFAcKsEzffBp4AaABAg</td>\n",
              "      <td></td>\n",
              "      <td>0.0</td>\n",
              "    </tr>\n",
              "    <tr>\n",
              "      <th>4</th>\n",
              "      <td>EBOKYsWUhvI</td>\n",
              "      <td>Pahlwan jante h kuch nhi kr payenge uska</td>\n",
              "      <td>{'value': 'UCRkcewHFhxE5KfLHrLx0wpA'}</td>\n",
              "      <td>0</td>\n",
              "      <td>2023-06-28T15:10:36Z</td>\n",
              "      <td>2023-06-28T15:10:36Z</td>\n",
              "      <td>UgxjuOlDigsmuDu53J54AaABAg</td>\n",
              "      <td></td>\n",
              "      <td>0.0</td>\n",
              "    </tr>\n",
              "  </tbody>\n",
              "</table>\n",
              "</div>\n",
              "      <button class=\"colab-df-convert\" onclick=\"convertToInteractive('df-91b33eb8-cb0e-4da3-a691-918e8b7de636')\"\n",
              "              title=\"Convert this dataframe to an interactive table.\"\n",
              "              style=\"display:none;\">\n",
              "\n",
              "  <svg xmlns=\"http://www.w3.org/2000/svg\" height=\"24px\"viewBox=\"0 0 24 24\"\n",
              "       width=\"24px\">\n",
              "    <path d=\"M0 0h24v24H0V0z\" fill=\"none\"/>\n",
              "    <path d=\"M18.56 5.44l.94 2.06.94-2.06 2.06-.94-2.06-.94-.94-2.06-.94 2.06-2.06.94zm-11 1L8.5 8.5l.94-2.06 2.06-.94-2.06-.94L8.5 2.5l-.94 2.06-2.06.94zm10 10l.94 2.06.94-2.06 2.06-.94-2.06-.94-.94-2.06-.94 2.06-2.06.94z\"/><path d=\"M17.41 7.96l-1.37-1.37c-.4-.4-.92-.59-1.43-.59-.52 0-1.04.2-1.43.59L10.3 9.45l-7.72 7.72c-.78.78-.78 2.05 0 2.83L4 21.41c.39.39.9.59 1.41.59.51 0 1.02-.2 1.41-.59l7.78-7.78 2.81-2.81c.8-.78.8-2.07 0-2.86zM5.41 20L4 18.59l7.72-7.72 1.47 1.35L5.41 20z\"/>\n",
              "  </svg>\n",
              "      </button>\n",
              "\n",
              "\n",
              "\n",
              "    <div id=\"df-bfb899c2-274d-41dc-88fc-87d9584ed14c\">\n",
              "      <button class=\"colab-df-quickchart\" onclick=\"quickchart('df-bfb899c2-274d-41dc-88fc-87d9584ed14c')\"\n",
              "              title=\"Suggest charts.\"\n",
              "              style=\"display:none;\">\n",
              "\n",
              "<svg xmlns=\"http://www.w3.org/2000/svg\" height=\"24px\"viewBox=\"0 0 24 24\"\n",
              "     width=\"24px\">\n",
              "    <g>\n",
              "        <path d=\"M19 3H5c-1.1 0-2 .9-2 2v14c0 1.1.9 2 2 2h14c1.1 0 2-.9 2-2V5c0-1.1-.9-2-2-2zM9 17H7v-7h2v7zm4 0h-2V7h2v10zm4 0h-2v-4h2v4z\"/>\n",
              "    </g>\n",
              "</svg>\n",
              "      </button>\n",
              "    </div>\n",
              "\n",
              "<style>\n",
              "  .colab-df-quickchart {\n",
              "    background-color: #E8F0FE;\n",
              "    border: none;\n",
              "    border-radius: 50%;\n",
              "    cursor: pointer;\n",
              "    display: none;\n",
              "    fill: #1967D2;\n",
              "    height: 32px;\n",
              "    padding: 0 0 0 0;\n",
              "    width: 32px;\n",
              "  }\n",
              "\n",
              "  .colab-df-quickchart:hover {\n",
              "    background-color: #E2EBFA;\n",
              "    box-shadow: 0px 1px 2px rgba(60, 64, 67, 0.3), 0px 1px 3px 1px rgba(60, 64, 67, 0.15);\n",
              "    fill: #174EA6;\n",
              "  }\n",
              "\n",
              "  [theme=dark] .colab-df-quickchart {\n",
              "    background-color: #3B4455;\n",
              "    fill: #D2E3FC;\n",
              "  }\n",
              "\n",
              "  [theme=dark] .colab-df-quickchart:hover {\n",
              "    background-color: #434B5C;\n",
              "    box-shadow: 0px 1px 3px 1px rgba(0, 0, 0, 0.15);\n",
              "    filter: drop-shadow(0px 1px 2px rgba(0, 0, 0, 0.3));\n",
              "    fill: #FFFFFF;\n",
              "  }\n",
              "</style>\n",
              "\n",
              "    <script>\n",
              "      async function quickchart(key) {\n",
              "        const containerElement = document.querySelector('#' + key);\n",
              "        const charts = await google.colab.kernel.invokeFunction(\n",
              "            'suggestCharts', [key], {});\n",
              "      }\n",
              "    </script>\n",
              "\n",
              "      <script>\n",
              "\n",
              "function displayQuickchartButton(domScope) {\n",
              "  let quickchartButtonEl =\n",
              "    domScope.querySelector('#df-bfb899c2-274d-41dc-88fc-87d9584ed14c button.colab-df-quickchart');\n",
              "  quickchartButtonEl.style.display =\n",
              "    google.colab.kernel.accessAllowed ? 'block' : 'none';\n",
              "}\n",
              "\n",
              "        displayQuickchartButton(document);\n",
              "      </script>\n",
              "      <style>\n",
              "    .colab-df-container {\n",
              "      display:flex;\n",
              "      flex-wrap:wrap;\n",
              "      gap: 12px;\n",
              "    }\n",
              "\n",
              "    .colab-df-convert {\n",
              "      background-color: #E8F0FE;\n",
              "      border: none;\n",
              "      border-radius: 50%;\n",
              "      cursor: pointer;\n",
              "      display: none;\n",
              "      fill: #1967D2;\n",
              "      height: 32px;\n",
              "      padding: 0 0 0 0;\n",
              "      width: 32px;\n",
              "    }\n",
              "\n",
              "    .colab-df-convert:hover {\n",
              "      background-color: #E2EBFA;\n",
              "      box-shadow: 0px 1px 2px rgba(60, 64, 67, 0.3), 0px 1px 3px 1px rgba(60, 64, 67, 0.15);\n",
              "      fill: #174EA6;\n",
              "    }\n",
              "\n",
              "    [theme=dark] .colab-df-convert {\n",
              "      background-color: #3B4455;\n",
              "      fill: #D2E3FC;\n",
              "    }\n",
              "\n",
              "    [theme=dark] .colab-df-convert:hover {\n",
              "      background-color: #434B5C;\n",
              "      box-shadow: 0px 1px 3px 1px rgba(0, 0, 0, 0.15);\n",
              "      filter: drop-shadow(0px 1px 2px rgba(0, 0, 0, 0.3));\n",
              "      fill: #FFFFFF;\n",
              "    }\n",
              "  </style>\n",
              "\n",
              "      <script>\n",
              "        const buttonEl =\n",
              "          document.querySelector('#df-91b33eb8-cb0e-4da3-a691-918e8b7de636 button.colab-df-convert');\n",
              "        buttonEl.style.display =\n",
              "          google.colab.kernel.accessAllowed ? 'block' : 'none';\n",
              "\n",
              "        async function convertToInteractive(key) {\n",
              "          const element = document.querySelector('#df-91b33eb8-cb0e-4da3-a691-918e8b7de636');\n",
              "          const dataTable =\n",
              "            await google.colab.kernel.invokeFunction('convertToInteractive',\n",
              "                                                     [key], {});\n",
              "          if (!dataTable) return;\n",
              "\n",
              "          const docLinkHtml = 'Like what you see? Visit the ' +\n",
              "            '<a target=\"_blank\" href=https://colab.research.google.com/notebooks/data_table.ipynb>data table notebook</a>'\n",
              "            + ' to learn more about interactive tables.';\n",
              "          element.innerHTML = '';\n",
              "          dataTable['output_type'] = 'display_data';\n",
              "          await google.colab.output.renderOutput(dataTable, element);\n",
              "          const docLink = document.createElement('div');\n",
              "          docLink.innerHTML = docLinkHtml;\n",
              "          element.appendChild(docLink);\n",
              "        }\n",
              "      </script>\n",
              "    </div>\n",
              "  </div>\n"
            ]
          },
          "metadata": {},
          "execution_count": 167
        }
      ],
      "source": [
        "sentimentDf2.head()"
      ]
    },
    {
      "cell_type": "code",
      "execution_count": 167,
      "metadata": {
        "id": "V6HriLnJtLbY"
      },
      "outputs": [],
      "source": []
    }
  ],
  "metadata": {
    "colab": {
      "provenance": []
    },
    "kernelspec": {
      "display_name": "Python 3",
      "name": "python3"
    },
    "language_info": {
      "name": "python"
    },
    "widgets": {
      "application/vnd.jupyter.widget-state+json": {
        "35590c91fe6f4668bc6956e1be4358cc": {
          "model_module": "@jupyter-widgets/controls",
          "model_name": "HBoxModel",
          "model_module_version": "1.5.0",
          "state": {
            "_dom_classes": [],
            "_model_module": "@jupyter-widgets/controls",
            "_model_module_version": "1.5.0",
            "_model_name": "HBoxModel",
            "_view_count": null,
            "_view_module": "@jupyter-widgets/controls",
            "_view_module_version": "1.5.0",
            "_view_name": "HBoxView",
            "box_style": "",
            "children": [
              "IPY_MODEL_06c286f41097401dbf20a99a231afd64",
              "IPY_MODEL_c301f9dd19224b78aebb08d16470cdcc",
              "IPY_MODEL_1666c3f6773a4f8f840d114894226574"
            ],
            "layout": "IPY_MODEL_25dfc1d825ae490d8c74e63c9aac1603"
          }
        },
        "06c286f41097401dbf20a99a231afd64": {
          "model_module": "@jupyter-widgets/controls",
          "model_name": "HTMLModel",
          "model_module_version": "1.5.0",
          "state": {
            "_dom_classes": [],
            "_model_module": "@jupyter-widgets/controls",
            "_model_module_version": "1.5.0",
            "_model_name": "HTMLModel",
            "_view_count": null,
            "_view_module": "@jupyter-widgets/controls",
            "_view_module_version": "1.5.0",
            "_view_name": "HTMLView",
            "description": "",
            "description_tooltip": null,
            "layout": "IPY_MODEL_0b2dc9514cbb4b08b772670eb8ee0c39",
            "placeholder": "​",
            "style": "IPY_MODEL_6c13b40ce112475cac36d1fadedaf824",
            "value": "Downloading (…)lve/main/config.json: 100%"
          }
        },
        "c301f9dd19224b78aebb08d16470cdcc": {
          "model_module": "@jupyter-widgets/controls",
          "model_name": "FloatProgressModel",
          "model_module_version": "1.5.0",
          "state": {
            "_dom_classes": [],
            "_model_module": "@jupyter-widgets/controls",
            "_model_module_version": "1.5.0",
            "_model_name": "FloatProgressModel",
            "_view_count": null,
            "_view_module": "@jupyter-widgets/controls",
            "_view_module_version": "1.5.0",
            "_view_name": "ProgressView",
            "bar_style": "success",
            "description": "",
            "description_tooltip": null,
            "layout": "IPY_MODEL_cdf60f316c044881b662b6e1ed0f7541",
            "max": 929,
            "min": 0,
            "orientation": "horizontal",
            "style": "IPY_MODEL_9a6f9a8a29864235bb165ba4ac982ac8",
            "value": 929
          }
        },
        "1666c3f6773a4f8f840d114894226574": {
          "model_module": "@jupyter-widgets/controls",
          "model_name": "HTMLModel",
          "model_module_version": "1.5.0",
          "state": {
            "_dom_classes": [],
            "_model_module": "@jupyter-widgets/controls",
            "_model_module_version": "1.5.0",
            "_model_name": "HTMLModel",
            "_view_count": null,
            "_view_module": "@jupyter-widgets/controls",
            "_view_module_version": "1.5.0",
            "_view_name": "HTMLView",
            "description": "",
            "description_tooltip": null,
            "layout": "IPY_MODEL_c3e3d3d23b064937bca8ffc274cdc2e3",
            "placeholder": "​",
            "style": "IPY_MODEL_2a8e996f4008401392b4c9a07c8a7696",
            "value": " 929/929 [00:00&lt;00:00, 20.0kB/s]"
          }
        },
        "25dfc1d825ae490d8c74e63c9aac1603": {
          "model_module": "@jupyter-widgets/base",
          "model_name": "LayoutModel",
          "model_module_version": "1.2.0",
          "state": {
            "_model_module": "@jupyter-widgets/base",
            "_model_module_version": "1.2.0",
            "_model_name": "LayoutModel",
            "_view_count": null,
            "_view_module": "@jupyter-widgets/base",
            "_view_module_version": "1.2.0",
            "_view_name": "LayoutView",
            "align_content": null,
            "align_items": null,
            "align_self": null,
            "border": null,
            "bottom": null,
            "display": null,
            "flex": null,
            "flex_flow": null,
            "grid_area": null,
            "grid_auto_columns": null,
            "grid_auto_flow": null,
            "grid_auto_rows": null,
            "grid_column": null,
            "grid_gap": null,
            "grid_row": null,
            "grid_template_areas": null,
            "grid_template_columns": null,
            "grid_template_rows": null,
            "height": null,
            "justify_content": null,
            "justify_items": null,
            "left": null,
            "margin": null,
            "max_height": null,
            "max_width": null,
            "min_height": null,
            "min_width": null,
            "object_fit": null,
            "object_position": null,
            "order": null,
            "overflow": null,
            "overflow_x": null,
            "overflow_y": null,
            "padding": null,
            "right": null,
            "top": null,
            "visibility": null,
            "width": null
          }
        },
        "0b2dc9514cbb4b08b772670eb8ee0c39": {
          "model_module": "@jupyter-widgets/base",
          "model_name": "LayoutModel",
          "model_module_version": "1.2.0",
          "state": {
            "_model_module": "@jupyter-widgets/base",
            "_model_module_version": "1.2.0",
            "_model_name": "LayoutModel",
            "_view_count": null,
            "_view_module": "@jupyter-widgets/base",
            "_view_module_version": "1.2.0",
            "_view_name": "LayoutView",
            "align_content": null,
            "align_items": null,
            "align_self": null,
            "border": null,
            "bottom": null,
            "display": null,
            "flex": null,
            "flex_flow": null,
            "grid_area": null,
            "grid_auto_columns": null,
            "grid_auto_flow": null,
            "grid_auto_rows": null,
            "grid_column": null,
            "grid_gap": null,
            "grid_row": null,
            "grid_template_areas": null,
            "grid_template_columns": null,
            "grid_template_rows": null,
            "height": null,
            "justify_content": null,
            "justify_items": null,
            "left": null,
            "margin": null,
            "max_height": null,
            "max_width": null,
            "min_height": null,
            "min_width": null,
            "object_fit": null,
            "object_position": null,
            "order": null,
            "overflow": null,
            "overflow_x": null,
            "overflow_y": null,
            "padding": null,
            "right": null,
            "top": null,
            "visibility": null,
            "width": null
          }
        },
        "6c13b40ce112475cac36d1fadedaf824": {
          "model_module": "@jupyter-widgets/controls",
          "model_name": "DescriptionStyleModel",
          "model_module_version": "1.5.0",
          "state": {
            "_model_module": "@jupyter-widgets/controls",
            "_model_module_version": "1.5.0",
            "_model_name": "DescriptionStyleModel",
            "_view_count": null,
            "_view_module": "@jupyter-widgets/base",
            "_view_module_version": "1.2.0",
            "_view_name": "StyleView",
            "description_width": ""
          }
        },
        "cdf60f316c044881b662b6e1ed0f7541": {
          "model_module": "@jupyter-widgets/base",
          "model_name": "LayoutModel",
          "model_module_version": "1.2.0",
          "state": {
            "_model_module": "@jupyter-widgets/base",
            "_model_module_version": "1.2.0",
            "_model_name": "LayoutModel",
            "_view_count": null,
            "_view_module": "@jupyter-widgets/base",
            "_view_module_version": "1.2.0",
            "_view_name": "LayoutView",
            "align_content": null,
            "align_items": null,
            "align_self": null,
            "border": null,
            "bottom": null,
            "display": null,
            "flex": null,
            "flex_flow": null,
            "grid_area": null,
            "grid_auto_columns": null,
            "grid_auto_flow": null,
            "grid_auto_rows": null,
            "grid_column": null,
            "grid_gap": null,
            "grid_row": null,
            "grid_template_areas": null,
            "grid_template_columns": null,
            "grid_template_rows": null,
            "height": null,
            "justify_content": null,
            "justify_items": null,
            "left": null,
            "margin": null,
            "max_height": null,
            "max_width": null,
            "min_height": null,
            "min_width": null,
            "object_fit": null,
            "object_position": null,
            "order": null,
            "overflow": null,
            "overflow_x": null,
            "overflow_y": null,
            "padding": null,
            "right": null,
            "top": null,
            "visibility": null,
            "width": null
          }
        },
        "9a6f9a8a29864235bb165ba4ac982ac8": {
          "model_module": "@jupyter-widgets/controls",
          "model_name": "ProgressStyleModel",
          "model_module_version": "1.5.0",
          "state": {
            "_model_module": "@jupyter-widgets/controls",
            "_model_module_version": "1.5.0",
            "_model_name": "ProgressStyleModel",
            "_view_count": null,
            "_view_module": "@jupyter-widgets/base",
            "_view_module_version": "1.2.0",
            "_view_name": "StyleView",
            "bar_color": null,
            "description_width": ""
          }
        },
        "c3e3d3d23b064937bca8ffc274cdc2e3": {
          "model_module": "@jupyter-widgets/base",
          "model_name": "LayoutModel",
          "model_module_version": "1.2.0",
          "state": {
            "_model_module": "@jupyter-widgets/base",
            "_model_module_version": "1.2.0",
            "_model_name": "LayoutModel",
            "_view_count": null,
            "_view_module": "@jupyter-widgets/base",
            "_view_module_version": "1.2.0",
            "_view_name": "LayoutView",
            "align_content": null,
            "align_items": null,
            "align_self": null,
            "border": null,
            "bottom": null,
            "display": null,
            "flex": null,
            "flex_flow": null,
            "grid_area": null,
            "grid_auto_columns": null,
            "grid_auto_flow": null,
            "grid_auto_rows": null,
            "grid_column": null,
            "grid_gap": null,
            "grid_row": null,
            "grid_template_areas": null,
            "grid_template_columns": null,
            "grid_template_rows": null,
            "height": null,
            "justify_content": null,
            "justify_items": null,
            "left": null,
            "margin": null,
            "max_height": null,
            "max_width": null,
            "min_height": null,
            "min_width": null,
            "object_fit": null,
            "object_position": null,
            "order": null,
            "overflow": null,
            "overflow_x": null,
            "overflow_y": null,
            "padding": null,
            "right": null,
            "top": null,
            "visibility": null,
            "width": null
          }
        },
        "2a8e996f4008401392b4c9a07c8a7696": {
          "model_module": "@jupyter-widgets/controls",
          "model_name": "DescriptionStyleModel",
          "model_module_version": "1.5.0",
          "state": {
            "_model_module": "@jupyter-widgets/controls",
            "_model_module_version": "1.5.0",
            "_model_name": "DescriptionStyleModel",
            "_view_count": null,
            "_view_module": "@jupyter-widgets/base",
            "_view_module_version": "1.2.0",
            "_view_name": "StyleView",
            "description_width": ""
          }
        },
        "f7517e8dc56740049dfb86fc23a86536": {
          "model_module": "@jupyter-widgets/controls",
          "model_name": "HBoxModel",
          "model_module_version": "1.5.0",
          "state": {
            "_dom_classes": [],
            "_model_module": "@jupyter-widgets/controls",
            "_model_module_version": "1.5.0",
            "_model_name": "HBoxModel",
            "_view_count": null,
            "_view_module": "@jupyter-widgets/controls",
            "_view_module_version": "1.5.0",
            "_view_name": "HBoxView",
            "box_style": "",
            "children": [
              "IPY_MODEL_44c5cdfe4c7248e79cac65e096fe36a9",
              "IPY_MODEL_11c89d612e56485790b7e7179c83eac3",
              "IPY_MODEL_b71d62c128974035bf7a2a6a427f788e"
            ],
            "layout": "IPY_MODEL_110f008643b74e6085c889a6c9ddc4b3"
          }
        },
        "44c5cdfe4c7248e79cac65e096fe36a9": {
          "model_module": "@jupyter-widgets/controls",
          "model_name": "HTMLModel",
          "model_module_version": "1.5.0",
          "state": {
            "_dom_classes": [],
            "_model_module": "@jupyter-widgets/controls",
            "_model_module_version": "1.5.0",
            "_model_name": "HTMLModel",
            "_view_count": null,
            "_view_module": "@jupyter-widgets/controls",
            "_view_module_version": "1.5.0",
            "_view_name": "HTMLView",
            "description": "",
            "description_tooltip": null,
            "layout": "IPY_MODEL_aa22818bb4194d31826995ed8bd4c6f0",
            "placeholder": "​",
            "style": "IPY_MODEL_baa5edb2d69843ab9145ef16a82afe19",
            "value": "Downloading (…)olve/main/vocab.json: 100%"
          }
        },
        "11c89d612e56485790b7e7179c83eac3": {
          "model_module": "@jupyter-widgets/controls",
          "model_name": "FloatProgressModel",
          "model_module_version": "1.5.0",
          "state": {
            "_dom_classes": [],
            "_model_module": "@jupyter-widgets/controls",
            "_model_module_version": "1.5.0",
            "_model_name": "FloatProgressModel",
            "_view_count": null,
            "_view_module": "@jupyter-widgets/controls",
            "_view_module_version": "1.5.0",
            "_view_name": "ProgressView",
            "bar_style": "success",
            "description": "",
            "description_tooltip": null,
            "layout": "IPY_MODEL_6eeac291dcaa48f583e8ad65b1142e24",
            "max": 898822,
            "min": 0,
            "orientation": "horizontal",
            "style": "IPY_MODEL_bee6f182870144418ee1d60e1f07fdac",
            "value": 898822
          }
        },
        "b71d62c128974035bf7a2a6a427f788e": {
          "model_module": "@jupyter-widgets/controls",
          "model_name": "HTMLModel",
          "model_module_version": "1.5.0",
          "state": {
            "_dom_classes": [],
            "_model_module": "@jupyter-widgets/controls",
            "_model_module_version": "1.5.0",
            "_model_name": "HTMLModel",
            "_view_count": null,
            "_view_module": "@jupyter-widgets/controls",
            "_view_module_version": "1.5.0",
            "_view_name": "HTMLView",
            "description": "",
            "description_tooltip": null,
            "layout": "IPY_MODEL_438a2c13e5024d1c905d0bbb4b3e3261",
            "placeholder": "​",
            "style": "IPY_MODEL_2cc669ac6aba473995b9d68e8869d9ec",
            "value": " 899k/899k [00:00&lt;00:00, 14.0MB/s]"
          }
        },
        "110f008643b74e6085c889a6c9ddc4b3": {
          "model_module": "@jupyter-widgets/base",
          "model_name": "LayoutModel",
          "model_module_version": "1.2.0",
          "state": {
            "_model_module": "@jupyter-widgets/base",
            "_model_module_version": "1.2.0",
            "_model_name": "LayoutModel",
            "_view_count": null,
            "_view_module": "@jupyter-widgets/base",
            "_view_module_version": "1.2.0",
            "_view_name": "LayoutView",
            "align_content": null,
            "align_items": null,
            "align_self": null,
            "border": null,
            "bottom": null,
            "display": null,
            "flex": null,
            "flex_flow": null,
            "grid_area": null,
            "grid_auto_columns": null,
            "grid_auto_flow": null,
            "grid_auto_rows": null,
            "grid_column": null,
            "grid_gap": null,
            "grid_row": null,
            "grid_template_areas": null,
            "grid_template_columns": null,
            "grid_template_rows": null,
            "height": null,
            "justify_content": null,
            "justify_items": null,
            "left": null,
            "margin": null,
            "max_height": null,
            "max_width": null,
            "min_height": null,
            "min_width": null,
            "object_fit": null,
            "object_position": null,
            "order": null,
            "overflow": null,
            "overflow_x": null,
            "overflow_y": null,
            "padding": null,
            "right": null,
            "top": null,
            "visibility": null,
            "width": null
          }
        },
        "aa22818bb4194d31826995ed8bd4c6f0": {
          "model_module": "@jupyter-widgets/base",
          "model_name": "LayoutModel",
          "model_module_version": "1.2.0",
          "state": {
            "_model_module": "@jupyter-widgets/base",
            "_model_module_version": "1.2.0",
            "_model_name": "LayoutModel",
            "_view_count": null,
            "_view_module": "@jupyter-widgets/base",
            "_view_module_version": "1.2.0",
            "_view_name": "LayoutView",
            "align_content": null,
            "align_items": null,
            "align_self": null,
            "border": null,
            "bottom": null,
            "display": null,
            "flex": null,
            "flex_flow": null,
            "grid_area": null,
            "grid_auto_columns": null,
            "grid_auto_flow": null,
            "grid_auto_rows": null,
            "grid_column": null,
            "grid_gap": null,
            "grid_row": null,
            "grid_template_areas": null,
            "grid_template_columns": null,
            "grid_template_rows": null,
            "height": null,
            "justify_content": null,
            "justify_items": null,
            "left": null,
            "margin": null,
            "max_height": null,
            "max_width": null,
            "min_height": null,
            "min_width": null,
            "object_fit": null,
            "object_position": null,
            "order": null,
            "overflow": null,
            "overflow_x": null,
            "overflow_y": null,
            "padding": null,
            "right": null,
            "top": null,
            "visibility": null,
            "width": null
          }
        },
        "baa5edb2d69843ab9145ef16a82afe19": {
          "model_module": "@jupyter-widgets/controls",
          "model_name": "DescriptionStyleModel",
          "model_module_version": "1.5.0",
          "state": {
            "_model_module": "@jupyter-widgets/controls",
            "_model_module_version": "1.5.0",
            "_model_name": "DescriptionStyleModel",
            "_view_count": null,
            "_view_module": "@jupyter-widgets/base",
            "_view_module_version": "1.2.0",
            "_view_name": "StyleView",
            "description_width": ""
          }
        },
        "6eeac291dcaa48f583e8ad65b1142e24": {
          "model_module": "@jupyter-widgets/base",
          "model_name": "LayoutModel",
          "model_module_version": "1.2.0",
          "state": {
            "_model_module": "@jupyter-widgets/base",
            "_model_module_version": "1.2.0",
            "_model_name": "LayoutModel",
            "_view_count": null,
            "_view_module": "@jupyter-widgets/base",
            "_view_module_version": "1.2.0",
            "_view_name": "LayoutView",
            "align_content": null,
            "align_items": null,
            "align_self": null,
            "border": null,
            "bottom": null,
            "display": null,
            "flex": null,
            "flex_flow": null,
            "grid_area": null,
            "grid_auto_columns": null,
            "grid_auto_flow": null,
            "grid_auto_rows": null,
            "grid_column": null,
            "grid_gap": null,
            "grid_row": null,
            "grid_template_areas": null,
            "grid_template_columns": null,
            "grid_template_rows": null,
            "height": null,
            "justify_content": null,
            "justify_items": null,
            "left": null,
            "margin": null,
            "max_height": null,
            "max_width": null,
            "min_height": null,
            "min_width": null,
            "object_fit": null,
            "object_position": null,
            "order": null,
            "overflow": null,
            "overflow_x": null,
            "overflow_y": null,
            "padding": null,
            "right": null,
            "top": null,
            "visibility": null,
            "width": null
          }
        },
        "bee6f182870144418ee1d60e1f07fdac": {
          "model_module": "@jupyter-widgets/controls",
          "model_name": "ProgressStyleModel",
          "model_module_version": "1.5.0",
          "state": {
            "_model_module": "@jupyter-widgets/controls",
            "_model_module_version": "1.5.0",
            "_model_name": "ProgressStyleModel",
            "_view_count": null,
            "_view_module": "@jupyter-widgets/base",
            "_view_module_version": "1.2.0",
            "_view_name": "StyleView",
            "bar_color": null,
            "description_width": ""
          }
        },
        "438a2c13e5024d1c905d0bbb4b3e3261": {
          "model_module": "@jupyter-widgets/base",
          "model_name": "LayoutModel",
          "model_module_version": "1.2.0",
          "state": {
            "_model_module": "@jupyter-widgets/base",
            "_model_module_version": "1.2.0",
            "_model_name": "LayoutModel",
            "_view_count": null,
            "_view_module": "@jupyter-widgets/base",
            "_view_module_version": "1.2.0",
            "_view_name": "LayoutView",
            "align_content": null,
            "align_items": null,
            "align_self": null,
            "border": null,
            "bottom": null,
            "display": null,
            "flex": null,
            "flex_flow": null,
            "grid_area": null,
            "grid_auto_columns": null,
            "grid_auto_flow": null,
            "grid_auto_rows": null,
            "grid_column": null,
            "grid_gap": null,
            "grid_row": null,
            "grid_template_areas": null,
            "grid_template_columns": null,
            "grid_template_rows": null,
            "height": null,
            "justify_content": null,
            "justify_items": null,
            "left": null,
            "margin": null,
            "max_height": null,
            "max_width": null,
            "min_height": null,
            "min_width": null,
            "object_fit": null,
            "object_position": null,
            "order": null,
            "overflow": null,
            "overflow_x": null,
            "overflow_y": null,
            "padding": null,
            "right": null,
            "top": null,
            "visibility": null,
            "width": null
          }
        },
        "2cc669ac6aba473995b9d68e8869d9ec": {
          "model_module": "@jupyter-widgets/controls",
          "model_name": "DescriptionStyleModel",
          "model_module_version": "1.5.0",
          "state": {
            "_model_module": "@jupyter-widgets/controls",
            "_model_module_version": "1.5.0",
            "_model_name": "DescriptionStyleModel",
            "_view_count": null,
            "_view_module": "@jupyter-widgets/base",
            "_view_module_version": "1.2.0",
            "_view_name": "StyleView",
            "description_width": ""
          }
        },
        "320bcdc7068b40ceb51d8096c582ba1f": {
          "model_module": "@jupyter-widgets/controls",
          "model_name": "HBoxModel",
          "model_module_version": "1.5.0",
          "state": {
            "_dom_classes": [],
            "_model_module": "@jupyter-widgets/controls",
            "_model_module_version": "1.5.0",
            "_model_name": "HBoxModel",
            "_view_count": null,
            "_view_module": "@jupyter-widgets/controls",
            "_view_module_version": "1.5.0",
            "_view_name": "HBoxView",
            "box_style": "",
            "children": [
              "IPY_MODEL_0b5674aa18354ad9ba72b49516539fec",
              "IPY_MODEL_d9ee9f42d0dd45c9ab05f48cad355cdb",
              "IPY_MODEL_1f51151704bf44fbbf015c39ae32fb1e"
            ],
            "layout": "IPY_MODEL_f5b9fdb2c4ca4a82b6cd22ca4d6b03c1"
          }
        },
        "0b5674aa18354ad9ba72b49516539fec": {
          "model_module": "@jupyter-widgets/controls",
          "model_name": "HTMLModel",
          "model_module_version": "1.5.0",
          "state": {
            "_dom_classes": [],
            "_model_module": "@jupyter-widgets/controls",
            "_model_module_version": "1.5.0",
            "_model_name": "HTMLModel",
            "_view_count": null,
            "_view_module": "@jupyter-widgets/controls",
            "_view_module_version": "1.5.0",
            "_view_name": "HTMLView",
            "description": "",
            "description_tooltip": null,
            "layout": "IPY_MODEL_f9701dda17f34f428bc8ce648195a1ea",
            "placeholder": "​",
            "style": "IPY_MODEL_92bd48bbea204666af7a567c66879407",
            "value": "Downloading (…)olve/main/merges.txt: 100%"
          }
        },
        "d9ee9f42d0dd45c9ab05f48cad355cdb": {
          "model_module": "@jupyter-widgets/controls",
          "model_name": "FloatProgressModel",
          "model_module_version": "1.5.0",
          "state": {
            "_dom_classes": [],
            "_model_module": "@jupyter-widgets/controls",
            "_model_module_version": "1.5.0",
            "_model_name": "FloatProgressModel",
            "_view_count": null,
            "_view_module": "@jupyter-widgets/controls",
            "_view_module_version": "1.5.0",
            "_view_name": "ProgressView",
            "bar_style": "success",
            "description": "",
            "description_tooltip": null,
            "layout": "IPY_MODEL_aeb7006b6cb74c1aa3c265f264902607",
            "max": 456318,
            "min": 0,
            "orientation": "horizontal",
            "style": "IPY_MODEL_0c59814ca39a41ad881573f5bc3a41dd",
            "value": 456318
          }
        },
        "1f51151704bf44fbbf015c39ae32fb1e": {
          "model_module": "@jupyter-widgets/controls",
          "model_name": "HTMLModel",
          "model_module_version": "1.5.0",
          "state": {
            "_dom_classes": [],
            "_model_module": "@jupyter-widgets/controls",
            "_model_module_version": "1.5.0",
            "_model_name": "HTMLModel",
            "_view_count": null,
            "_view_module": "@jupyter-widgets/controls",
            "_view_module_version": "1.5.0",
            "_view_name": "HTMLView",
            "description": "",
            "description_tooltip": null,
            "layout": "IPY_MODEL_933c56dc01b841f092cfc812270f03d6",
            "placeholder": "​",
            "style": "IPY_MODEL_548fe8276865461ebdb71cd25af0dbdf",
            "value": " 456k/456k [00:00&lt;00:00, 2.76MB/s]"
          }
        },
        "f5b9fdb2c4ca4a82b6cd22ca4d6b03c1": {
          "model_module": "@jupyter-widgets/base",
          "model_name": "LayoutModel",
          "model_module_version": "1.2.0",
          "state": {
            "_model_module": "@jupyter-widgets/base",
            "_model_module_version": "1.2.0",
            "_model_name": "LayoutModel",
            "_view_count": null,
            "_view_module": "@jupyter-widgets/base",
            "_view_module_version": "1.2.0",
            "_view_name": "LayoutView",
            "align_content": null,
            "align_items": null,
            "align_self": null,
            "border": null,
            "bottom": null,
            "display": null,
            "flex": null,
            "flex_flow": null,
            "grid_area": null,
            "grid_auto_columns": null,
            "grid_auto_flow": null,
            "grid_auto_rows": null,
            "grid_column": null,
            "grid_gap": null,
            "grid_row": null,
            "grid_template_areas": null,
            "grid_template_columns": null,
            "grid_template_rows": null,
            "height": null,
            "justify_content": null,
            "justify_items": null,
            "left": null,
            "margin": null,
            "max_height": null,
            "max_width": null,
            "min_height": null,
            "min_width": null,
            "object_fit": null,
            "object_position": null,
            "order": null,
            "overflow": null,
            "overflow_x": null,
            "overflow_y": null,
            "padding": null,
            "right": null,
            "top": null,
            "visibility": null,
            "width": null
          }
        },
        "f9701dda17f34f428bc8ce648195a1ea": {
          "model_module": "@jupyter-widgets/base",
          "model_name": "LayoutModel",
          "model_module_version": "1.2.0",
          "state": {
            "_model_module": "@jupyter-widgets/base",
            "_model_module_version": "1.2.0",
            "_model_name": "LayoutModel",
            "_view_count": null,
            "_view_module": "@jupyter-widgets/base",
            "_view_module_version": "1.2.0",
            "_view_name": "LayoutView",
            "align_content": null,
            "align_items": null,
            "align_self": null,
            "border": null,
            "bottom": null,
            "display": null,
            "flex": null,
            "flex_flow": null,
            "grid_area": null,
            "grid_auto_columns": null,
            "grid_auto_flow": null,
            "grid_auto_rows": null,
            "grid_column": null,
            "grid_gap": null,
            "grid_row": null,
            "grid_template_areas": null,
            "grid_template_columns": null,
            "grid_template_rows": null,
            "height": null,
            "justify_content": null,
            "justify_items": null,
            "left": null,
            "margin": null,
            "max_height": null,
            "max_width": null,
            "min_height": null,
            "min_width": null,
            "object_fit": null,
            "object_position": null,
            "order": null,
            "overflow": null,
            "overflow_x": null,
            "overflow_y": null,
            "padding": null,
            "right": null,
            "top": null,
            "visibility": null,
            "width": null
          }
        },
        "92bd48bbea204666af7a567c66879407": {
          "model_module": "@jupyter-widgets/controls",
          "model_name": "DescriptionStyleModel",
          "model_module_version": "1.5.0",
          "state": {
            "_model_module": "@jupyter-widgets/controls",
            "_model_module_version": "1.5.0",
            "_model_name": "DescriptionStyleModel",
            "_view_count": null,
            "_view_module": "@jupyter-widgets/base",
            "_view_module_version": "1.2.0",
            "_view_name": "StyleView",
            "description_width": ""
          }
        },
        "aeb7006b6cb74c1aa3c265f264902607": {
          "model_module": "@jupyter-widgets/base",
          "model_name": "LayoutModel",
          "model_module_version": "1.2.0",
          "state": {
            "_model_module": "@jupyter-widgets/base",
            "_model_module_version": "1.2.0",
            "_model_name": "LayoutModel",
            "_view_count": null,
            "_view_module": "@jupyter-widgets/base",
            "_view_module_version": "1.2.0",
            "_view_name": "LayoutView",
            "align_content": null,
            "align_items": null,
            "align_self": null,
            "border": null,
            "bottom": null,
            "display": null,
            "flex": null,
            "flex_flow": null,
            "grid_area": null,
            "grid_auto_columns": null,
            "grid_auto_flow": null,
            "grid_auto_rows": null,
            "grid_column": null,
            "grid_gap": null,
            "grid_row": null,
            "grid_template_areas": null,
            "grid_template_columns": null,
            "grid_template_rows": null,
            "height": null,
            "justify_content": null,
            "justify_items": null,
            "left": null,
            "margin": null,
            "max_height": null,
            "max_width": null,
            "min_height": null,
            "min_width": null,
            "object_fit": null,
            "object_position": null,
            "order": null,
            "overflow": null,
            "overflow_x": null,
            "overflow_y": null,
            "padding": null,
            "right": null,
            "top": null,
            "visibility": null,
            "width": null
          }
        },
        "0c59814ca39a41ad881573f5bc3a41dd": {
          "model_module": "@jupyter-widgets/controls",
          "model_name": "ProgressStyleModel",
          "model_module_version": "1.5.0",
          "state": {
            "_model_module": "@jupyter-widgets/controls",
            "_model_module_version": "1.5.0",
            "_model_name": "ProgressStyleModel",
            "_view_count": null,
            "_view_module": "@jupyter-widgets/base",
            "_view_module_version": "1.2.0",
            "_view_name": "StyleView",
            "bar_color": null,
            "description_width": ""
          }
        },
        "933c56dc01b841f092cfc812270f03d6": {
          "model_module": "@jupyter-widgets/base",
          "model_name": "LayoutModel",
          "model_module_version": "1.2.0",
          "state": {
            "_model_module": "@jupyter-widgets/base",
            "_model_module_version": "1.2.0",
            "_model_name": "LayoutModel",
            "_view_count": null,
            "_view_module": "@jupyter-widgets/base",
            "_view_module_version": "1.2.0",
            "_view_name": "LayoutView",
            "align_content": null,
            "align_items": null,
            "align_self": null,
            "border": null,
            "bottom": null,
            "display": null,
            "flex": null,
            "flex_flow": null,
            "grid_area": null,
            "grid_auto_columns": null,
            "grid_auto_flow": null,
            "grid_auto_rows": null,
            "grid_column": null,
            "grid_gap": null,
            "grid_row": null,
            "grid_template_areas": null,
            "grid_template_columns": null,
            "grid_template_rows": null,
            "height": null,
            "justify_content": null,
            "justify_items": null,
            "left": null,
            "margin": null,
            "max_height": null,
            "max_width": null,
            "min_height": null,
            "min_width": null,
            "object_fit": null,
            "object_position": null,
            "order": null,
            "overflow": null,
            "overflow_x": null,
            "overflow_y": null,
            "padding": null,
            "right": null,
            "top": null,
            "visibility": null,
            "width": null
          }
        },
        "548fe8276865461ebdb71cd25af0dbdf": {
          "model_module": "@jupyter-widgets/controls",
          "model_name": "DescriptionStyleModel",
          "model_module_version": "1.5.0",
          "state": {
            "_model_module": "@jupyter-widgets/controls",
            "_model_module_version": "1.5.0",
            "_model_name": "DescriptionStyleModel",
            "_view_count": null,
            "_view_module": "@jupyter-widgets/base",
            "_view_module_version": "1.2.0",
            "_view_name": "StyleView",
            "description_width": ""
          }
        },
        "5a6c3d14bb4f46e49762fb1a18d30a8e": {
          "model_module": "@jupyter-widgets/controls",
          "model_name": "HBoxModel",
          "model_module_version": "1.5.0",
          "state": {
            "_dom_classes": [],
            "_model_module": "@jupyter-widgets/controls",
            "_model_module_version": "1.5.0",
            "_model_name": "HBoxModel",
            "_view_count": null,
            "_view_module": "@jupyter-widgets/controls",
            "_view_module_version": "1.5.0",
            "_view_name": "HBoxView",
            "box_style": "",
            "children": [
              "IPY_MODEL_600bc4134def4538ba4d47dfd601d1c5",
              "IPY_MODEL_89733f9bfc1648e8ad35fbdace1b9968",
              "IPY_MODEL_9486a314545e4ed780dcbd121e890309"
            ],
            "layout": "IPY_MODEL_2dc728eda2f148dfbdce3de4272a5de6"
          }
        },
        "600bc4134def4538ba4d47dfd601d1c5": {
          "model_module": "@jupyter-widgets/controls",
          "model_name": "HTMLModel",
          "model_module_version": "1.5.0",
          "state": {
            "_dom_classes": [],
            "_model_module": "@jupyter-widgets/controls",
            "_model_module_version": "1.5.0",
            "_model_name": "HTMLModel",
            "_view_count": null,
            "_view_module": "@jupyter-widgets/controls",
            "_view_module_version": "1.5.0",
            "_view_name": "HTMLView",
            "description": "",
            "description_tooltip": null,
            "layout": "IPY_MODEL_0e27bfd1f7f04459b86eecb620b9d4ce",
            "placeholder": "​",
            "style": "IPY_MODEL_3df6301d9739458b9cc2e2adc95913c7",
            "value": "Downloading (…)cial_tokens_map.json: 100%"
          }
        },
        "89733f9bfc1648e8ad35fbdace1b9968": {
          "model_module": "@jupyter-widgets/controls",
          "model_name": "FloatProgressModel",
          "model_module_version": "1.5.0",
          "state": {
            "_dom_classes": [],
            "_model_module": "@jupyter-widgets/controls",
            "_model_module_version": "1.5.0",
            "_model_name": "FloatProgressModel",
            "_view_count": null,
            "_view_module": "@jupyter-widgets/controls",
            "_view_module_version": "1.5.0",
            "_view_name": "ProgressView",
            "bar_style": "success",
            "description": "",
            "description_tooltip": null,
            "layout": "IPY_MODEL_f5c83750269d4139ba719d867a35713f",
            "max": 239,
            "min": 0,
            "orientation": "horizontal",
            "style": "IPY_MODEL_27f6adfe67b54763af4f1d9885619b0f",
            "value": 239
          }
        },
        "9486a314545e4ed780dcbd121e890309": {
          "model_module": "@jupyter-widgets/controls",
          "model_name": "HTMLModel",
          "model_module_version": "1.5.0",
          "state": {
            "_dom_classes": [],
            "_model_module": "@jupyter-widgets/controls",
            "_model_module_version": "1.5.0",
            "_model_name": "HTMLModel",
            "_view_count": null,
            "_view_module": "@jupyter-widgets/controls",
            "_view_module_version": "1.5.0",
            "_view_name": "HTMLView",
            "description": "",
            "description_tooltip": null,
            "layout": "IPY_MODEL_68a79fbd8c994ebc8e9896f4e9347371",
            "placeholder": "​",
            "style": "IPY_MODEL_17eee9c5441647cca14edea7eff97188",
            "value": " 239/239 [00:00&lt;00:00, 10.5kB/s]"
          }
        },
        "2dc728eda2f148dfbdce3de4272a5de6": {
          "model_module": "@jupyter-widgets/base",
          "model_name": "LayoutModel",
          "model_module_version": "1.2.0",
          "state": {
            "_model_module": "@jupyter-widgets/base",
            "_model_module_version": "1.2.0",
            "_model_name": "LayoutModel",
            "_view_count": null,
            "_view_module": "@jupyter-widgets/base",
            "_view_module_version": "1.2.0",
            "_view_name": "LayoutView",
            "align_content": null,
            "align_items": null,
            "align_self": null,
            "border": null,
            "bottom": null,
            "display": null,
            "flex": null,
            "flex_flow": null,
            "grid_area": null,
            "grid_auto_columns": null,
            "grid_auto_flow": null,
            "grid_auto_rows": null,
            "grid_column": null,
            "grid_gap": null,
            "grid_row": null,
            "grid_template_areas": null,
            "grid_template_columns": null,
            "grid_template_rows": null,
            "height": null,
            "justify_content": null,
            "justify_items": null,
            "left": null,
            "margin": null,
            "max_height": null,
            "max_width": null,
            "min_height": null,
            "min_width": null,
            "object_fit": null,
            "object_position": null,
            "order": null,
            "overflow": null,
            "overflow_x": null,
            "overflow_y": null,
            "padding": null,
            "right": null,
            "top": null,
            "visibility": null,
            "width": null
          }
        },
        "0e27bfd1f7f04459b86eecb620b9d4ce": {
          "model_module": "@jupyter-widgets/base",
          "model_name": "LayoutModel",
          "model_module_version": "1.2.0",
          "state": {
            "_model_module": "@jupyter-widgets/base",
            "_model_module_version": "1.2.0",
            "_model_name": "LayoutModel",
            "_view_count": null,
            "_view_module": "@jupyter-widgets/base",
            "_view_module_version": "1.2.0",
            "_view_name": "LayoutView",
            "align_content": null,
            "align_items": null,
            "align_self": null,
            "border": null,
            "bottom": null,
            "display": null,
            "flex": null,
            "flex_flow": null,
            "grid_area": null,
            "grid_auto_columns": null,
            "grid_auto_flow": null,
            "grid_auto_rows": null,
            "grid_column": null,
            "grid_gap": null,
            "grid_row": null,
            "grid_template_areas": null,
            "grid_template_columns": null,
            "grid_template_rows": null,
            "height": null,
            "justify_content": null,
            "justify_items": null,
            "left": null,
            "margin": null,
            "max_height": null,
            "max_width": null,
            "min_height": null,
            "min_width": null,
            "object_fit": null,
            "object_position": null,
            "order": null,
            "overflow": null,
            "overflow_x": null,
            "overflow_y": null,
            "padding": null,
            "right": null,
            "top": null,
            "visibility": null,
            "width": null
          }
        },
        "3df6301d9739458b9cc2e2adc95913c7": {
          "model_module": "@jupyter-widgets/controls",
          "model_name": "DescriptionStyleModel",
          "model_module_version": "1.5.0",
          "state": {
            "_model_module": "@jupyter-widgets/controls",
            "_model_module_version": "1.5.0",
            "_model_name": "DescriptionStyleModel",
            "_view_count": null,
            "_view_module": "@jupyter-widgets/base",
            "_view_module_version": "1.2.0",
            "_view_name": "StyleView",
            "description_width": ""
          }
        },
        "f5c83750269d4139ba719d867a35713f": {
          "model_module": "@jupyter-widgets/base",
          "model_name": "LayoutModel",
          "model_module_version": "1.2.0",
          "state": {
            "_model_module": "@jupyter-widgets/base",
            "_model_module_version": "1.2.0",
            "_model_name": "LayoutModel",
            "_view_count": null,
            "_view_module": "@jupyter-widgets/base",
            "_view_module_version": "1.2.0",
            "_view_name": "LayoutView",
            "align_content": null,
            "align_items": null,
            "align_self": null,
            "border": null,
            "bottom": null,
            "display": null,
            "flex": null,
            "flex_flow": null,
            "grid_area": null,
            "grid_auto_columns": null,
            "grid_auto_flow": null,
            "grid_auto_rows": null,
            "grid_column": null,
            "grid_gap": null,
            "grid_row": null,
            "grid_template_areas": null,
            "grid_template_columns": null,
            "grid_template_rows": null,
            "height": null,
            "justify_content": null,
            "justify_items": null,
            "left": null,
            "margin": null,
            "max_height": null,
            "max_width": null,
            "min_height": null,
            "min_width": null,
            "object_fit": null,
            "object_position": null,
            "order": null,
            "overflow": null,
            "overflow_x": null,
            "overflow_y": null,
            "padding": null,
            "right": null,
            "top": null,
            "visibility": null,
            "width": null
          }
        },
        "27f6adfe67b54763af4f1d9885619b0f": {
          "model_module": "@jupyter-widgets/controls",
          "model_name": "ProgressStyleModel",
          "model_module_version": "1.5.0",
          "state": {
            "_model_module": "@jupyter-widgets/controls",
            "_model_module_version": "1.5.0",
            "_model_name": "ProgressStyleModel",
            "_view_count": null,
            "_view_module": "@jupyter-widgets/base",
            "_view_module_version": "1.2.0",
            "_view_name": "StyleView",
            "bar_color": null,
            "description_width": ""
          }
        },
        "68a79fbd8c994ebc8e9896f4e9347371": {
          "model_module": "@jupyter-widgets/base",
          "model_name": "LayoutModel",
          "model_module_version": "1.2.0",
          "state": {
            "_model_module": "@jupyter-widgets/base",
            "_model_module_version": "1.2.0",
            "_model_name": "LayoutModel",
            "_view_count": null,
            "_view_module": "@jupyter-widgets/base",
            "_view_module_version": "1.2.0",
            "_view_name": "LayoutView",
            "align_content": null,
            "align_items": null,
            "align_self": null,
            "border": null,
            "bottom": null,
            "display": null,
            "flex": null,
            "flex_flow": null,
            "grid_area": null,
            "grid_auto_columns": null,
            "grid_auto_flow": null,
            "grid_auto_rows": null,
            "grid_column": null,
            "grid_gap": null,
            "grid_row": null,
            "grid_template_areas": null,
            "grid_template_columns": null,
            "grid_template_rows": null,
            "height": null,
            "justify_content": null,
            "justify_items": null,
            "left": null,
            "margin": null,
            "max_height": null,
            "max_width": null,
            "min_height": null,
            "min_width": null,
            "object_fit": null,
            "object_position": null,
            "order": null,
            "overflow": null,
            "overflow_x": null,
            "overflow_y": null,
            "padding": null,
            "right": null,
            "top": null,
            "visibility": null,
            "width": null
          }
        },
        "17eee9c5441647cca14edea7eff97188": {
          "model_module": "@jupyter-widgets/controls",
          "model_name": "DescriptionStyleModel",
          "model_module_version": "1.5.0",
          "state": {
            "_model_module": "@jupyter-widgets/controls",
            "_model_module_version": "1.5.0",
            "_model_name": "DescriptionStyleModel",
            "_view_count": null,
            "_view_module": "@jupyter-widgets/base",
            "_view_module_version": "1.2.0",
            "_view_name": "StyleView",
            "description_width": ""
          }
        },
        "6dca6c609b73477ebfdc8af1ce555a26": {
          "model_module": "@jupyter-widgets/controls",
          "model_name": "HBoxModel",
          "model_module_version": "1.5.0",
          "state": {
            "_dom_classes": [],
            "_model_module": "@jupyter-widgets/controls",
            "_model_module_version": "1.5.0",
            "_model_name": "HBoxModel",
            "_view_count": null,
            "_view_module": "@jupyter-widgets/controls",
            "_view_module_version": "1.5.0",
            "_view_name": "HBoxView",
            "box_style": "",
            "children": [
              "IPY_MODEL_a70e25c01431461a8191b7c666a0f359",
              "IPY_MODEL_645bf7ea75a14aa291682f122186f68d",
              "IPY_MODEL_37b2807681fe4bf0b315342361baec94"
            ],
            "layout": "IPY_MODEL_380b87912b644e6c87484241c316c630"
          }
        },
        "a70e25c01431461a8191b7c666a0f359": {
          "model_module": "@jupyter-widgets/controls",
          "model_name": "HTMLModel",
          "model_module_version": "1.5.0",
          "state": {
            "_dom_classes": [],
            "_model_module": "@jupyter-widgets/controls",
            "_model_module_version": "1.5.0",
            "_model_name": "HTMLModel",
            "_view_count": null,
            "_view_module": "@jupyter-widgets/controls",
            "_view_module_version": "1.5.0",
            "_view_name": "HTMLView",
            "description": "",
            "description_tooltip": null,
            "layout": "IPY_MODEL_2c3471d3f37643f4809c1fa4a5510509",
            "placeholder": "​",
            "style": "IPY_MODEL_52460d6a1385483c9dbc2d9bf2134245",
            "value": "Downloading pytorch_model.bin: 100%"
          }
        },
        "645bf7ea75a14aa291682f122186f68d": {
          "model_module": "@jupyter-widgets/controls",
          "model_name": "FloatProgressModel",
          "model_module_version": "1.5.0",
          "state": {
            "_dom_classes": [],
            "_model_module": "@jupyter-widgets/controls",
            "_model_module_version": "1.5.0",
            "_model_name": "FloatProgressModel",
            "_view_count": null,
            "_view_module": "@jupyter-widgets/controls",
            "_view_module_version": "1.5.0",
            "_view_name": "ProgressView",
            "bar_style": "success",
            "description": "",
            "description_tooltip": null,
            "layout": "IPY_MODEL_b1df30671b174feca67af13ef0307c0c",
            "max": 501045531,
            "min": 0,
            "orientation": "horizontal",
            "style": "IPY_MODEL_642fe831701c449ab17d773740f93f97",
            "value": 501045531
          }
        },
        "37b2807681fe4bf0b315342361baec94": {
          "model_module": "@jupyter-widgets/controls",
          "model_name": "HTMLModel",
          "model_module_version": "1.5.0",
          "state": {
            "_dom_classes": [],
            "_model_module": "@jupyter-widgets/controls",
            "_model_module_version": "1.5.0",
            "_model_name": "HTMLModel",
            "_view_count": null,
            "_view_module": "@jupyter-widgets/controls",
            "_view_module_version": "1.5.0",
            "_view_name": "HTMLView",
            "description": "",
            "description_tooltip": null,
            "layout": "IPY_MODEL_02ec650db23d4a16aef9b59b6a4917f6",
            "placeholder": "​",
            "style": "IPY_MODEL_f3029fd807b3486490e71a2c033acbaa",
            "value": " 501M/501M [00:01&lt;00:00, 313MB/s]"
          }
        },
        "380b87912b644e6c87484241c316c630": {
          "model_module": "@jupyter-widgets/base",
          "model_name": "LayoutModel",
          "model_module_version": "1.2.0",
          "state": {
            "_model_module": "@jupyter-widgets/base",
            "_model_module_version": "1.2.0",
            "_model_name": "LayoutModel",
            "_view_count": null,
            "_view_module": "@jupyter-widgets/base",
            "_view_module_version": "1.2.0",
            "_view_name": "LayoutView",
            "align_content": null,
            "align_items": null,
            "align_self": null,
            "border": null,
            "bottom": null,
            "display": null,
            "flex": null,
            "flex_flow": null,
            "grid_area": null,
            "grid_auto_columns": null,
            "grid_auto_flow": null,
            "grid_auto_rows": null,
            "grid_column": null,
            "grid_gap": null,
            "grid_row": null,
            "grid_template_areas": null,
            "grid_template_columns": null,
            "grid_template_rows": null,
            "height": null,
            "justify_content": null,
            "justify_items": null,
            "left": null,
            "margin": null,
            "max_height": null,
            "max_width": null,
            "min_height": null,
            "min_width": null,
            "object_fit": null,
            "object_position": null,
            "order": null,
            "overflow": null,
            "overflow_x": null,
            "overflow_y": null,
            "padding": null,
            "right": null,
            "top": null,
            "visibility": null,
            "width": null
          }
        },
        "2c3471d3f37643f4809c1fa4a5510509": {
          "model_module": "@jupyter-widgets/base",
          "model_name": "LayoutModel",
          "model_module_version": "1.2.0",
          "state": {
            "_model_module": "@jupyter-widgets/base",
            "_model_module_version": "1.2.0",
            "_model_name": "LayoutModel",
            "_view_count": null,
            "_view_module": "@jupyter-widgets/base",
            "_view_module_version": "1.2.0",
            "_view_name": "LayoutView",
            "align_content": null,
            "align_items": null,
            "align_self": null,
            "border": null,
            "bottom": null,
            "display": null,
            "flex": null,
            "flex_flow": null,
            "grid_area": null,
            "grid_auto_columns": null,
            "grid_auto_flow": null,
            "grid_auto_rows": null,
            "grid_column": null,
            "grid_gap": null,
            "grid_row": null,
            "grid_template_areas": null,
            "grid_template_columns": null,
            "grid_template_rows": null,
            "height": null,
            "justify_content": null,
            "justify_items": null,
            "left": null,
            "margin": null,
            "max_height": null,
            "max_width": null,
            "min_height": null,
            "min_width": null,
            "object_fit": null,
            "object_position": null,
            "order": null,
            "overflow": null,
            "overflow_x": null,
            "overflow_y": null,
            "padding": null,
            "right": null,
            "top": null,
            "visibility": null,
            "width": null
          }
        },
        "52460d6a1385483c9dbc2d9bf2134245": {
          "model_module": "@jupyter-widgets/controls",
          "model_name": "DescriptionStyleModel",
          "model_module_version": "1.5.0",
          "state": {
            "_model_module": "@jupyter-widgets/controls",
            "_model_module_version": "1.5.0",
            "_model_name": "DescriptionStyleModel",
            "_view_count": null,
            "_view_module": "@jupyter-widgets/base",
            "_view_module_version": "1.2.0",
            "_view_name": "StyleView",
            "description_width": ""
          }
        },
        "b1df30671b174feca67af13ef0307c0c": {
          "model_module": "@jupyter-widgets/base",
          "model_name": "LayoutModel",
          "model_module_version": "1.2.0",
          "state": {
            "_model_module": "@jupyter-widgets/base",
            "_model_module_version": "1.2.0",
            "_model_name": "LayoutModel",
            "_view_count": null,
            "_view_module": "@jupyter-widgets/base",
            "_view_module_version": "1.2.0",
            "_view_name": "LayoutView",
            "align_content": null,
            "align_items": null,
            "align_self": null,
            "border": null,
            "bottom": null,
            "display": null,
            "flex": null,
            "flex_flow": null,
            "grid_area": null,
            "grid_auto_columns": null,
            "grid_auto_flow": null,
            "grid_auto_rows": null,
            "grid_column": null,
            "grid_gap": null,
            "grid_row": null,
            "grid_template_areas": null,
            "grid_template_columns": null,
            "grid_template_rows": null,
            "height": null,
            "justify_content": null,
            "justify_items": null,
            "left": null,
            "margin": null,
            "max_height": null,
            "max_width": null,
            "min_height": null,
            "min_width": null,
            "object_fit": null,
            "object_position": null,
            "order": null,
            "overflow": null,
            "overflow_x": null,
            "overflow_y": null,
            "padding": null,
            "right": null,
            "top": null,
            "visibility": null,
            "width": null
          }
        },
        "642fe831701c449ab17d773740f93f97": {
          "model_module": "@jupyter-widgets/controls",
          "model_name": "ProgressStyleModel",
          "model_module_version": "1.5.0",
          "state": {
            "_model_module": "@jupyter-widgets/controls",
            "_model_module_version": "1.5.0",
            "_model_name": "ProgressStyleModel",
            "_view_count": null,
            "_view_module": "@jupyter-widgets/base",
            "_view_module_version": "1.2.0",
            "_view_name": "StyleView",
            "bar_color": null,
            "description_width": ""
          }
        },
        "02ec650db23d4a16aef9b59b6a4917f6": {
          "model_module": "@jupyter-widgets/base",
          "model_name": "LayoutModel",
          "model_module_version": "1.2.0",
          "state": {
            "_model_module": "@jupyter-widgets/base",
            "_model_module_version": "1.2.0",
            "_model_name": "LayoutModel",
            "_view_count": null,
            "_view_module": "@jupyter-widgets/base",
            "_view_module_version": "1.2.0",
            "_view_name": "LayoutView",
            "align_content": null,
            "align_items": null,
            "align_self": null,
            "border": null,
            "bottom": null,
            "display": null,
            "flex": null,
            "flex_flow": null,
            "grid_area": null,
            "grid_auto_columns": null,
            "grid_auto_flow": null,
            "grid_auto_rows": null,
            "grid_column": null,
            "grid_gap": null,
            "grid_row": null,
            "grid_template_areas": null,
            "grid_template_columns": null,
            "grid_template_rows": null,
            "height": null,
            "justify_content": null,
            "justify_items": null,
            "left": null,
            "margin": null,
            "max_height": null,
            "max_width": null,
            "min_height": null,
            "min_width": null,
            "object_fit": null,
            "object_position": null,
            "order": null,
            "overflow": null,
            "overflow_x": null,
            "overflow_y": null,
            "padding": null,
            "right": null,
            "top": null,
            "visibility": null,
            "width": null
          }
        },
        "f3029fd807b3486490e71a2c033acbaa": {
          "model_module": "@jupyter-widgets/controls",
          "model_name": "DescriptionStyleModel",
          "model_module_version": "1.5.0",
          "state": {
            "_model_module": "@jupyter-widgets/controls",
            "_model_module_version": "1.5.0",
            "_model_name": "DescriptionStyleModel",
            "_view_count": null,
            "_view_module": "@jupyter-widgets/base",
            "_view_module_version": "1.2.0",
            "_view_name": "StyleView",
            "description_width": ""
          }
        }
      }
    }
  },
  "nbformat": 4,
  "nbformat_minor": 0
}