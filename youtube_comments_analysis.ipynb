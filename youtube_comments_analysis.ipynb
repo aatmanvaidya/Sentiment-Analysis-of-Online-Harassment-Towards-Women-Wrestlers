{
  "cells": [
    {
      "cell_type": "code",
      "execution_count": 1,
      "metadata": {
        "id": "sUoDe6LFbqVx"
      },
      "outputs": [],
      "source": [
        "import gdown"
      ]
    },
    {
      "cell_type": "code",
      "execution_count": 2,
      "metadata": {
        "id": "KPiXIhfUbvnn"
      },
      "outputs": [],
      "source": [
        "!gdown --id 1KmoZYmPzxrrtR4a3mSfPIumbDwf_Mrpw > /dev/null 2>&1\n",
        "!gdown --id 19vK08esg9hQtD8JB-9jm7Qkck7nZ-ZqR > /dev/null 2>&1"
      ]
    },
    {
      "cell_type": "markdown",
      "metadata": {
        "id": "zJpmDXtnsEo9"
      },
      "source": [
        "## About the Dataset\n",
        "This a YouTube comments dataset scrapped using the [YouTube Data API](https://developers.google.com/youtube/v3/docs/comments). Currently the dataset consists of roughly **1.12M** comments. The dataset can be accessed [here](https://drive.google.com/drive/folders/1-9OnYbFuiSA0M7skOYche5erzZ4Ba5Nz?usp=sharing).\n",
        "<br><br>\n",
        "The dataset currently has text in _English, Hindi and Hinglish_.\n",
        "Please refer to the following information for an overview of the columns and the corresponding data stored within them. [Link](https://github.com/aatmanvaidya/Sentiment-Analysis-of-Online-Harassment-Towards-Women-Wrestlers/blob/scraper/attributes.txt)."
      ]
    },
    {
      "cell_type": "code",
      "source": [
        "!pip install wordcloud > /dev/null 2>&1"
      ],
      "metadata": {
        "id": "NuceRxybrzW-"
      },
      "execution_count": 85,
      "outputs": []
    },
    {
      "cell_type": "code",
      "execution_count": 86,
      "metadata": {
        "id": "Y3ZC3vE1rhkU"
      },
      "outputs": [],
      "source": [
        "import pandas as pd\n",
        "import matplotlib.pyplot as plt\n",
        "import matplotlib.ticker as ticker\n",
        "import numpy as np\n",
        "from collections import Counter\n",
        "import re\n",
        "from wordcloud import WordCloud"
      ]
    },
    {
      "cell_type": "code",
      "execution_count": 4,
      "metadata": {
        "colab": {
          "base_uri": "https://localhost:8080/"
        },
        "id": "Hm6uzfHWrmcp",
        "outputId": "55520b9e-1aa8-4dd9-815b-ee8f206b1f84"
      },
      "outputs": [
        {
          "output_type": "stream",
          "name": "stdout",
          "text": [
            "CPU times: user 848 ms, sys: 418 ms, total: 1.27 s\n",
            "Wall time: 1.08 s\n"
          ]
        }
      ],
      "source": [
        "%%time\n",
        "df = pd.read_feather(r'comments_cleaned_feather.feather')"
      ]
    },
    {
      "cell_type": "code",
      "execution_count": 5,
      "metadata": {
        "colab": {
          "base_uri": "https://localhost:8080/",
          "height": 547
        },
        "id": "jMDpJrqjr2y5",
        "outputId": "d9eb20de-fb48-4fd8-b970-b56141e9432f"
      },
      "outputs": [
        {
          "output_type": "execute_result",
          "data": {
            "text/plain": [
              "       videoId                                        textDisplay  \\\n",
              "0  EBOKYsWUhvI  Dub maro jaato 😢😢.<br>Tumse tumare ladkiya nhi...   \n",
              "1  EBOKYsWUhvI                                   Haar gye bechare   \n",
              "2  EBOKYsWUhvI  Dhamki mili pahalwano ko aur sab manage kr liy...   \n",
              "3  EBOKYsWUhvI  Jaato pr ye boj rhega ki vo apni hi vyavstha s...   \n",
              "4  EBOKYsWUhvI           Pahlwan jante h kuch nhi kr payenge uska   \n",
              "\n",
              "                                        textOriginal   authorDisplayName  \\\n",
              "0  Dub maro jaato 😢😢.\\nTumse tumare ladkiya nhi b...      HECTOR OF TROY   \n",
              "1                                   Haar gye bechare         Geeta Saini   \n",
              "2  Dhamki mili pahalwano ko aur sab manage kr liy...       Ayaan Chouhan   \n",
              "3  Jaato pr ye boj rhega ki vo apni hi vyavstha s...               Kamal   \n",
              "4           Pahlwan jante h kuch nhi kr payenge uska  jagriti tiwari upp   \n",
              "\n",
              "                               authorProfileImageUrl  \\\n",
              "0  https://yt3.ggpht.com/ytc/AOPolaQNP5bd7gNvbAas...   \n",
              "1  https://yt3.ggpht.com/8XmOPNrT3Vy3wr0fItlWbaMk...   \n",
              "2  https://yt3.ggpht.com/ytc/AOPolaREH2WnrnbD53OI...   \n",
              "3  https://yt3.ggpht.com/ytc/AOPolaTRSm_dEOKj9H82...   \n",
              "4  https://yt3.ggpht.com/ytc/AOPolaRrFnzD2i3N_3rk...   \n",
              "\n",
              "                                    authorChannelUrl  \\\n",
              "0  http://www.youtube.com/channel/UC5G8fjqoiFIqHp...   \n",
              "1  http://www.youtube.com/channel/UCsMGRdH3YHrbs2...   \n",
              "2  http://www.youtube.com/channel/UC_dWuNh6zydTHI...   \n",
              "3  http://www.youtube.com/channel/UCVdGObpHM-IMHB...   \n",
              "4  http://www.youtube.com/channel/UCRkcewHFhxE5Kf...   \n",
              "\n",
              "                         authorChannelId canRate viewerRating likeCount  \\\n",
              "0  {'value': 'UC5G8fjqoiFIqHpKyVeOTsFg'}    True         none         0   \n",
              "1  {'value': 'UCsMGRdH3YHrbs21NOraRuyQ'}    True         none         0   \n",
              "2  {'value': 'UC_dWuNh6zydTHIRr6hi3Omg'}    True         none         0   \n",
              "3  {'value': 'UCVdGObpHM-IMHB_b7_K-7rA'}    True         none         1   \n",
              "4  {'value': 'UCRkcewHFhxE5KfLHrLx0wpA'}    True         none         0   \n",
              "\n",
              "            publishedAt             updatedAt parentId  \\\n",
              "0  2023-07-06T07:04:02Z  2023-07-06T07:04:02Z     None   \n",
              "1  2023-07-03T22:21:37Z  2023-07-03T22:21:37Z     None   \n",
              "2  2023-07-03T05:06:33Z  2023-07-03T05:06:33Z     None   \n",
              "3  2023-07-02T03:39:50Z  2023-07-02T03:39:50Z     None   \n",
              "4  2023-06-28T15:10:36Z  2023-06-28T15:10:36Z     None   \n",
              "\n",
              "                    commentId  \n",
              "0  UgwbyvIkkAhUdaCFpcp4AaABAg  \n",
              "1  Ugyz3OwSXamho91-8I94AaABAg  \n",
              "2  Ugyphs1TT1Yoj7MZBVJ4AaABAg  \n",
              "3  UgwnIxpuFAcKsEzffBp4AaABAg  \n",
              "4  UgxjuOlDigsmuDu53J54AaABAg  "
            ],
            "text/html": [
              "\n",
              "\n",
              "  <div id=\"df-35f7c85d-4983-46ee-a36c-0d1584fee460\">\n",
              "    <div class=\"colab-df-container\">\n",
              "      <div>\n",
              "<style scoped>\n",
              "    .dataframe tbody tr th:only-of-type {\n",
              "        vertical-align: middle;\n",
              "    }\n",
              "\n",
              "    .dataframe tbody tr th {\n",
              "        vertical-align: top;\n",
              "    }\n",
              "\n",
              "    .dataframe thead th {\n",
              "        text-align: right;\n",
              "    }\n",
              "</style>\n",
              "<table border=\"1\" class=\"dataframe\">\n",
              "  <thead>\n",
              "    <tr style=\"text-align: right;\">\n",
              "      <th></th>\n",
              "      <th>videoId</th>\n",
              "      <th>textDisplay</th>\n",
              "      <th>textOriginal</th>\n",
              "      <th>authorDisplayName</th>\n",
              "      <th>authorProfileImageUrl</th>\n",
              "      <th>authorChannelUrl</th>\n",
              "      <th>authorChannelId</th>\n",
              "      <th>canRate</th>\n",
              "      <th>viewerRating</th>\n",
              "      <th>likeCount</th>\n",
              "      <th>publishedAt</th>\n",
              "      <th>updatedAt</th>\n",
              "      <th>parentId</th>\n",
              "      <th>commentId</th>\n",
              "    </tr>\n",
              "  </thead>\n",
              "  <tbody>\n",
              "    <tr>\n",
              "      <th>0</th>\n",
              "      <td>EBOKYsWUhvI</td>\n",
              "      <td>Dub maro jaato 😢😢.&lt;br&gt;Tumse tumare ladkiya nhi...</td>\n",
              "      <td>Dub maro jaato 😢😢.\\nTumse tumare ladkiya nhi b...</td>\n",
              "      <td>HECTOR OF TROY</td>\n",
              "      <td>https://yt3.ggpht.com/ytc/AOPolaQNP5bd7gNvbAas...</td>\n",
              "      <td>http://www.youtube.com/channel/UC5G8fjqoiFIqHp...</td>\n",
              "      <td>{'value': 'UC5G8fjqoiFIqHpKyVeOTsFg'}</td>\n",
              "      <td>True</td>\n",
              "      <td>none</td>\n",
              "      <td>0</td>\n",
              "      <td>2023-07-06T07:04:02Z</td>\n",
              "      <td>2023-07-06T07:04:02Z</td>\n",
              "      <td>None</td>\n",
              "      <td>UgwbyvIkkAhUdaCFpcp4AaABAg</td>\n",
              "    </tr>\n",
              "    <tr>\n",
              "      <th>1</th>\n",
              "      <td>EBOKYsWUhvI</td>\n",
              "      <td>Haar gye bechare</td>\n",
              "      <td>Haar gye bechare</td>\n",
              "      <td>Geeta Saini</td>\n",
              "      <td>https://yt3.ggpht.com/8XmOPNrT3Vy3wr0fItlWbaMk...</td>\n",
              "      <td>http://www.youtube.com/channel/UCsMGRdH3YHrbs2...</td>\n",
              "      <td>{'value': 'UCsMGRdH3YHrbs21NOraRuyQ'}</td>\n",
              "      <td>True</td>\n",
              "      <td>none</td>\n",
              "      <td>0</td>\n",
              "      <td>2023-07-03T22:21:37Z</td>\n",
              "      <td>2023-07-03T22:21:37Z</td>\n",
              "      <td>None</td>\n",
              "      <td>Ugyz3OwSXamho91-8I94AaABAg</td>\n",
              "    </tr>\n",
              "    <tr>\n",
              "      <th>2</th>\n",
              "      <td>EBOKYsWUhvI</td>\n",
              "      <td>Dhamki mili pahalwano ko aur sab manage kr liy...</td>\n",
              "      <td>Dhamki mili pahalwano ko aur sab manage kr liy...</td>\n",
              "      <td>Ayaan Chouhan</td>\n",
              "      <td>https://yt3.ggpht.com/ytc/AOPolaREH2WnrnbD53OI...</td>\n",
              "      <td>http://www.youtube.com/channel/UC_dWuNh6zydTHI...</td>\n",
              "      <td>{'value': 'UC_dWuNh6zydTHIRr6hi3Omg'}</td>\n",
              "      <td>True</td>\n",
              "      <td>none</td>\n",
              "      <td>0</td>\n",
              "      <td>2023-07-03T05:06:33Z</td>\n",
              "      <td>2023-07-03T05:06:33Z</td>\n",
              "      <td>None</td>\n",
              "      <td>Ugyphs1TT1Yoj7MZBVJ4AaABAg</td>\n",
              "    </tr>\n",
              "    <tr>\n",
              "      <th>3</th>\n",
              "      <td>EBOKYsWUhvI</td>\n",
              "      <td>Jaato pr ye boj rhega ki vo apni hi vyavstha s...</td>\n",
              "      <td>Jaato pr ye boj rhega ki vo apni hi vyavstha s...</td>\n",
              "      <td>Kamal</td>\n",
              "      <td>https://yt3.ggpht.com/ytc/AOPolaTRSm_dEOKj9H82...</td>\n",
              "      <td>http://www.youtube.com/channel/UCVdGObpHM-IMHB...</td>\n",
              "      <td>{'value': 'UCVdGObpHM-IMHB_b7_K-7rA'}</td>\n",
              "      <td>True</td>\n",
              "      <td>none</td>\n",
              "      <td>1</td>\n",
              "      <td>2023-07-02T03:39:50Z</td>\n",
              "      <td>2023-07-02T03:39:50Z</td>\n",
              "      <td>None</td>\n",
              "      <td>UgwnIxpuFAcKsEzffBp4AaABAg</td>\n",
              "    </tr>\n",
              "    <tr>\n",
              "      <th>4</th>\n",
              "      <td>EBOKYsWUhvI</td>\n",
              "      <td>Pahlwan jante h kuch nhi kr payenge uska</td>\n",
              "      <td>Pahlwan jante h kuch nhi kr payenge uska</td>\n",
              "      <td>jagriti tiwari upp</td>\n",
              "      <td>https://yt3.ggpht.com/ytc/AOPolaRrFnzD2i3N_3rk...</td>\n",
              "      <td>http://www.youtube.com/channel/UCRkcewHFhxE5Kf...</td>\n",
              "      <td>{'value': 'UCRkcewHFhxE5KfLHrLx0wpA'}</td>\n",
              "      <td>True</td>\n",
              "      <td>none</td>\n",
              "      <td>0</td>\n",
              "      <td>2023-06-28T15:10:36Z</td>\n",
              "      <td>2023-06-28T15:10:36Z</td>\n",
              "      <td>None</td>\n",
              "      <td>UgxjuOlDigsmuDu53J54AaABAg</td>\n",
              "    </tr>\n",
              "  </tbody>\n",
              "</table>\n",
              "</div>\n",
              "      <button class=\"colab-df-convert\" onclick=\"convertToInteractive('df-35f7c85d-4983-46ee-a36c-0d1584fee460')\"\n",
              "              title=\"Convert this dataframe to an interactive table.\"\n",
              "              style=\"display:none;\">\n",
              "\n",
              "  <svg xmlns=\"http://www.w3.org/2000/svg\" height=\"24px\"viewBox=\"0 0 24 24\"\n",
              "       width=\"24px\">\n",
              "    <path d=\"M0 0h24v24H0V0z\" fill=\"none\"/>\n",
              "    <path d=\"M18.56 5.44l.94 2.06.94-2.06 2.06-.94-2.06-.94-.94-2.06-.94 2.06-2.06.94zm-11 1L8.5 8.5l.94-2.06 2.06-.94-2.06-.94L8.5 2.5l-.94 2.06-2.06.94zm10 10l.94 2.06.94-2.06 2.06-.94-2.06-.94-.94-2.06-.94 2.06-2.06.94z\"/><path d=\"M17.41 7.96l-1.37-1.37c-.4-.4-.92-.59-1.43-.59-.52 0-1.04.2-1.43.59L10.3 9.45l-7.72 7.72c-.78.78-.78 2.05 0 2.83L4 21.41c.39.39.9.59 1.41.59.51 0 1.02-.2 1.41-.59l7.78-7.78 2.81-2.81c.8-.78.8-2.07 0-2.86zM5.41 20L4 18.59l7.72-7.72 1.47 1.35L5.41 20z\"/>\n",
              "  </svg>\n",
              "      </button>\n",
              "\n",
              "\n",
              "\n",
              "    <div id=\"df-5be3afd1-377f-4fd3-9740-6c947493d631\">\n",
              "      <button class=\"colab-df-quickchart\" onclick=\"quickchart('df-5be3afd1-377f-4fd3-9740-6c947493d631')\"\n",
              "              title=\"Suggest charts.\"\n",
              "              style=\"display:none;\">\n",
              "\n",
              "<svg xmlns=\"http://www.w3.org/2000/svg\" height=\"24px\"viewBox=\"0 0 24 24\"\n",
              "     width=\"24px\">\n",
              "    <g>\n",
              "        <path d=\"M19 3H5c-1.1 0-2 .9-2 2v14c0 1.1.9 2 2 2h14c1.1 0 2-.9 2-2V5c0-1.1-.9-2-2-2zM9 17H7v-7h2v7zm4 0h-2V7h2v10zm4 0h-2v-4h2v4z\"/>\n",
              "    </g>\n",
              "</svg>\n",
              "      </button>\n",
              "    </div>\n",
              "\n",
              "<style>\n",
              "  .colab-df-quickchart {\n",
              "    background-color: #E8F0FE;\n",
              "    border: none;\n",
              "    border-radius: 50%;\n",
              "    cursor: pointer;\n",
              "    display: none;\n",
              "    fill: #1967D2;\n",
              "    height: 32px;\n",
              "    padding: 0 0 0 0;\n",
              "    width: 32px;\n",
              "  }\n",
              "\n",
              "  .colab-df-quickchart:hover {\n",
              "    background-color: #E2EBFA;\n",
              "    box-shadow: 0px 1px 2px rgba(60, 64, 67, 0.3), 0px 1px 3px 1px rgba(60, 64, 67, 0.15);\n",
              "    fill: #174EA6;\n",
              "  }\n",
              "\n",
              "  [theme=dark] .colab-df-quickchart {\n",
              "    background-color: #3B4455;\n",
              "    fill: #D2E3FC;\n",
              "  }\n",
              "\n",
              "  [theme=dark] .colab-df-quickchart:hover {\n",
              "    background-color: #434B5C;\n",
              "    box-shadow: 0px 1px 3px 1px rgba(0, 0, 0, 0.15);\n",
              "    filter: drop-shadow(0px 1px 2px rgba(0, 0, 0, 0.3));\n",
              "    fill: #FFFFFF;\n",
              "  }\n",
              "</style>\n",
              "\n",
              "    <script>\n",
              "      async function quickchart(key) {\n",
              "        const containerElement = document.querySelector('#' + key);\n",
              "        const charts = await google.colab.kernel.invokeFunction(\n",
              "            'suggestCharts', [key], {});\n",
              "      }\n",
              "    </script>\n",
              "\n",
              "      <script>\n",
              "\n",
              "function displayQuickchartButton(domScope) {\n",
              "  let quickchartButtonEl =\n",
              "    domScope.querySelector('#df-5be3afd1-377f-4fd3-9740-6c947493d631 button.colab-df-quickchart');\n",
              "  quickchartButtonEl.style.display =\n",
              "    google.colab.kernel.accessAllowed ? 'block' : 'none';\n",
              "}\n",
              "\n",
              "        displayQuickchartButton(document);\n",
              "      </script>\n",
              "      <style>\n",
              "    .colab-df-container {\n",
              "      display:flex;\n",
              "      flex-wrap:wrap;\n",
              "      gap: 12px;\n",
              "    }\n",
              "\n",
              "    .colab-df-convert {\n",
              "      background-color: #E8F0FE;\n",
              "      border: none;\n",
              "      border-radius: 50%;\n",
              "      cursor: pointer;\n",
              "      display: none;\n",
              "      fill: #1967D2;\n",
              "      height: 32px;\n",
              "      padding: 0 0 0 0;\n",
              "      width: 32px;\n",
              "    }\n",
              "\n",
              "    .colab-df-convert:hover {\n",
              "      background-color: #E2EBFA;\n",
              "      box-shadow: 0px 1px 2px rgba(60, 64, 67, 0.3), 0px 1px 3px 1px rgba(60, 64, 67, 0.15);\n",
              "      fill: #174EA6;\n",
              "    }\n",
              "\n",
              "    [theme=dark] .colab-df-convert {\n",
              "      background-color: #3B4455;\n",
              "      fill: #D2E3FC;\n",
              "    }\n",
              "\n",
              "    [theme=dark] .colab-df-convert:hover {\n",
              "      background-color: #434B5C;\n",
              "      box-shadow: 0px 1px 3px 1px rgba(0, 0, 0, 0.15);\n",
              "      filter: drop-shadow(0px 1px 2px rgba(0, 0, 0, 0.3));\n",
              "      fill: #FFFFFF;\n",
              "    }\n",
              "  </style>\n",
              "\n",
              "      <script>\n",
              "        const buttonEl =\n",
              "          document.querySelector('#df-35f7c85d-4983-46ee-a36c-0d1584fee460 button.colab-df-convert');\n",
              "        buttonEl.style.display =\n",
              "          google.colab.kernel.accessAllowed ? 'block' : 'none';\n",
              "\n",
              "        async function convertToInteractive(key) {\n",
              "          const element = document.querySelector('#df-35f7c85d-4983-46ee-a36c-0d1584fee460');\n",
              "          const dataTable =\n",
              "            await google.colab.kernel.invokeFunction('convertToInteractive',\n",
              "                                                     [key], {});\n",
              "          if (!dataTable) return;\n",
              "\n",
              "          const docLinkHtml = 'Like what you see? Visit the ' +\n",
              "            '<a target=\"_blank\" href=https://colab.research.google.com/notebooks/data_table.ipynb>data table notebook</a>'\n",
              "            + ' to learn more about interactive tables.';\n",
              "          element.innerHTML = '';\n",
              "          dataTable['output_type'] = 'display_data';\n",
              "          await google.colab.output.renderOutput(dataTable, element);\n",
              "          const docLink = document.createElement('div');\n",
              "          docLink.innerHTML = docLinkHtml;\n",
              "          element.appendChild(docLink);\n",
              "        }\n",
              "      </script>\n",
              "    </div>\n",
              "  </div>\n"
            ]
          },
          "metadata": {},
          "execution_count": 5
        }
      ],
      "source": [
        "df.head()"
      ]
    },
    {
      "cell_type": "code",
      "execution_count": 6,
      "metadata": {
        "colab": {
          "base_uri": "https://localhost:8080/"
        },
        "id": "6StKhcR-r-Xo",
        "outputId": "9916a349-f7e3-4ec5-c0bb-c8c2d439a3e4"
      },
      "outputs": [
        {
          "output_type": "execute_result",
          "data": {
            "text/plain": [
              "(1119948, 14)"
            ]
          },
          "metadata": {},
          "execution_count": 6
        }
      ],
      "source": [
        "df.shape"
      ]
    },
    {
      "cell_type": "markdown",
      "source": [
        "## Data Cleaning\n",
        "- removed `^M`\n",
        "- `\\u200b` char (because of devnagiri script)\n",
        "- header rows appened multiple times\n",
        "- publishedAt has time like 0,1,2 - remove all that\n",
        "- convert text column to string"
      ],
      "metadata": {
        "id": "GTVdPbN5A-Ve"
      }
    },
    {
      "cell_type": "code",
      "source": [
        "header = np.array(df.columns)\n",
        "df = df[~np.all(df.values == header, axis=1)]\n",
        "df = df[~df['videoId'].str.contains(r'\\bvideoId\\b', case=False, regex=True)]\n",
        "pattern = r'^\\d{4}-\\d{2}-\\d{2}T\\d{2}:\\d{2}:\\d{2}Z$'\n",
        "df = df[df['publishedAt'].str.contains(pattern)]"
      ],
      "metadata": {
        "id": "aA9tNxkpBY81"
      },
      "execution_count": 7,
      "outputs": []
    },
    {
      "cell_type": "code",
      "execution_count": 8,
      "metadata": {
        "id": "30kEHTVt0KYd"
      },
      "outputs": [],
      "source": [
        "df['textOriginal'] = df['textOriginal'].astype(str)"
      ]
    },
    {
      "cell_type": "code",
      "execution_count": 9,
      "metadata": {
        "id": "ni1lBX6gv-17"
      },
      "outputs": [],
      "source": [
        "duplicate_rows = df[df.duplicated(subset='textOriginal', keep=False)]"
      ]
    },
    {
      "cell_type": "code",
      "execution_count": 10,
      "metadata": {
        "colab": {
          "base_uri": "https://localhost:8080/"
        },
        "id": "TzPA_-T3w-nH",
        "outputId": "1d86564e-b8a3-4729-d0c5-b09aa1a132fa"
      },
      "outputs": [
        {
          "output_type": "execute_result",
          "data": {
            "text/plain": [
              "76258"
            ]
          },
          "metadata": {},
          "execution_count": 10
        }
      ],
      "source": [
        "len(df['textDisplay'].unique())"
      ]
    },
    {
      "cell_type": "code",
      "execution_count": 11,
      "metadata": {
        "id": "LeeIhYkd3gXK"
      },
      "outputs": [],
      "source": [
        "# Now this is strange, the dataset doesnt have duplicate or empty rows, why is this happening? is it some datatype problem?\n",
        "# Lets try to do a simple check for it again"
      ]
    },
    {
      "cell_type": "code",
      "execution_count": 12,
      "metadata": {
        "colab": {
          "base_uri": "https://localhost:8080/"
        },
        "id": "a8L76Dss3qpx",
        "outputId": "70508470-062c-4339-b697-8406ee056538"
      },
      "outputs": [
        {
          "output_type": "stream",
          "name": "stdout",
          "text": [
            "996419\n",
            "996419\n",
            "CPU times: user 32.2 s, sys: 82.4 ms, total: 32.3 s\n",
            "Wall time: 32.5 s\n"
          ]
        }
      ],
      "source": [
        "%%time\n",
        "count = 0\n",
        "value_list = []\n",
        "for index, row in df.iterrows():\n",
        "    value_list.append(row['textOriginal'])\n",
        "    count+=1\n",
        "print(count)\n",
        "print(len(value_list))"
      ]
    },
    {
      "cell_type": "code",
      "execution_count": 13,
      "metadata": {
        "id": "BLhEpCq15RtT"
      },
      "outputs": [],
      "source": [
        "# This means we are penetrating through the entire dataset. I dont know why pandas is doing that ://\n",
        "# There is one small problem, there is a \\u200b character that is present, we might have to remove that."
      ]
    },
    {
      "cell_type": "markdown",
      "metadata": {
        "id": "aNO6k-Jnz3hc"
      },
      "source": [
        "## Simple Slur List Frequency Count\n",
        "This is a simple frequency count of how many words from the slur list are found in the data.\n",
        "I have stored the results in a dictonary called _'slur_counts'_"
      ]
    },
    {
      "cell_type": "code",
      "execution_count": 14,
      "metadata": {
        "id": "EkBrpqsWr-6J"
      },
      "outputs": [],
      "source": [
        "with open('slur_list.txt', 'r') as file:\n",
        "    slur_words = [word.strip() for word in file.readlines()]"
      ]
    },
    {
      "cell_type": "code",
      "execution_count": 15,
      "metadata": {
        "colab": {
          "base_uri": "https://localhost:8080/"
        },
        "id": "ZdPWuH5Pz_AK",
        "outputId": "015e6976-a472-449d-d1f0-a7e5a72f9c0c"
      },
      "outputs": [
        {
          "output_type": "execute_result",
          "data": {
            "text/plain": [
              "506"
            ]
          },
          "metadata": {},
          "execution_count": 15
        }
      ],
      "source": [
        "len(slur_words)"
      ]
    },
    {
      "cell_type": "code",
      "execution_count": 16,
      "metadata": {
        "id": "GDMtz9mw0j6W"
      },
      "outputs": [],
      "source": [
        "slur_words_set = set(slur_words)"
      ]
    },
    {
      "cell_type": "code",
      "execution_count": 17,
      "metadata": {
        "id": "JpepJ0bI0A0R"
      },
      "outputs": [],
      "source": [
        "# A dictonary to count the frequency of each slur word identified\n",
        "slur_counts_beforeRegex = {}\n",
        "sentence_beforeRegex_list = []"
      ]
    },
    {
      "cell_type": "code",
      "execution_count": 18,
      "metadata": {
        "id": "9i8gF6fS0O4K",
        "colab": {
          "base_uri": "https://localhost:8080/"
        },
        "outputId": "4a5d5375-e51e-4b95-e69f-ac012fc714b1"
      },
      "outputs": [
        {
          "output_type": "stream",
          "name": "stdout",
          "text": [
            "CPU times: user 2.46 s, sys: 4.03 ms, total: 2.46 s\n",
            "Wall time: 2.47 s\n"
          ]
        }
      ],
      "source": [
        "%%time\n",
        "'''\n",
        "for text in df['textOriginal']:\n",
        "    words = text.split()\n",
        "    for word in words:\n",
        "        if word in slur_words:\n",
        "            if word in slur_counts:\n",
        "                slur_counts[word] += 1\n",
        "            else:\n",
        "                slur_counts[word] = 1\n",
        "'''\n",
        "for text in df['textOriginal']:\n",
        "    if text is not None:\n",
        "        words = text.split()\n",
        "        slur_words_in_text = set(words) & slur_words_set\n",
        "        if slur_words_in_text:\n",
        "            if len(sentence_beforeRegex_list)<=100:\n",
        "                sentence_beforeRegex_list.append([text,slur_words_in_text])\n",
        "        for word in slur_words_in_text:\n",
        "            if word in slur_counts_beforeRegex:\n",
        "                slur_counts_beforeRegex[word] += 1\n",
        "            else:\n",
        "                slur_counts_beforeRegex[word] = 1\n",
        "# Problem with code, in set if a user has used the same word multiple times, set will dismiss that."
      ]
    },
    {
      "cell_type": "code",
      "execution_count": 19,
      "metadata": {
        "id": "9KVuST2x0QET"
      },
      "outputs": [],
      "source": [
        "sorted_slur_counts_beforeRegex = dict(sorted(slur_counts_beforeRegex.items(), key=lambda item: item[1], reverse=True))"
      ]
    },
    {
      "cell_type": "code",
      "execution_count": 20,
      "metadata": {
        "id": "NfvjZhJI1M4C"
      },
      "outputs": [],
      "source": [
        "# sorted_slur_counts_beforeRegex\n",
        "# list(sorted_slur_counts_beforeRegex.items())[:8]"
      ]
    },
    {
      "cell_type": "code",
      "execution_count": 21,
      "metadata": {
        "colab": {
          "base_uri": "https://localhost:8080/"
        },
        "id": "paUicBFQqVhT",
        "outputId": "53c43ebc-4685-4a0b-8aed-20ae032cbcce"
      },
      "outputs": [
        {
          "output_type": "stream",
          "name": "stdout",
          "text": [
            "22158\n",
            "121\n"
          ]
        }
      ],
      "source": [
        "print(sum(sorted_slur_counts_beforeRegex.values()))\n",
        "print(len(sorted_slur_counts_beforeRegex.keys()))"
      ]
    },
    {
      "cell_type": "code",
      "source": [
        "# sentence_beforeRegex_list"
      ],
      "metadata": {
        "id": "CHhnANko7G9s"
      },
      "execution_count": 84,
      "outputs": []
    },
    {
      "cell_type": "code",
      "source": [
        "english_word_freq_dict = {word: freq for word, freq in sorted_slur_counts_beforeRegex.items() if word.isalpha()}\n",
        "word_cloud_text = ' '.join([word + ' ' * freq for word, freq in english_word_freq_dict.items()])"
      ],
      "metadata": {
        "id": "McV0039NsEC0"
      },
      "execution_count": 89,
      "outputs": []
    },
    {
      "cell_type": "code",
      "source": [
        "wordcloud = WordCloud(width=800, height=400, background_color='white').generate(word_cloud_text)\n",
        "plt.figure(figsize=(10, 5))\n",
        "plt.imshow(wordcloud, interpolation='bilinear')\n",
        "plt.axis('off')\n",
        "plt.show()"
      ],
      "metadata": {
        "colab": {
          "base_uri": "https://localhost:8080/",
          "height": 422
        },
        "id": "ZpBCF44KsKrB",
        "outputId": "6e98ce01-764d-43d8-cd41-bb31d3a7187a"
      },
      "execution_count": 90,
      "outputs": [
        {
          "output_type": "display_data",
          "data": {
            "text/plain": [
              "<Figure size 1000x500 with 1 Axes>"
            ],
            "image/png": "[encoded data removed]"
          },
          "metadata": {}
        }
      ]
    },
    {
      "cell_type": "code",
      "execution_count": 23,
      "metadata": {
        "colab": {
          "base_uri": "https://localhost:8080/",
          "height": 53
        },
        "id": "3Ki8OyVH1h0Y",
        "outputId": "686d3d00-4a93-42f4-ba1c-c6b4623cb3fe"
      },
      "outputs": [
        {
          "output_type": "execute_result",
          "data": {
            "text/plain": [
              "'\\nOne thing is clear from this, all the explicit words that are in english are not there in the list,\\nthis means youtube either deletes them or hides them. And the moderation for local vernacular language is weak.\\n'"
            ],
            "application/vnd.google.colaboratory.intrinsic+json": {
              "type": "string"
            }
          },
          "metadata": {},
          "execution_count": 23
        }
      ],
      "source": [
        "'''\n",
        "One thing is clear from this, all the explicit words that are in english are not there in the list,\n",
        "this means youtube either deletes them or hides them. And the moderation for local vernacular language is weak.\n",
        "'''"
      ]
    },
    {
      "cell_type": "markdown",
      "metadata": {
        "id": "Gf_9F-ZOs7GX"
      },
      "source": [
        "# Regex\n",
        "What is a Regex? -> a sequence of characters that specifies a match pattern in text.\n",
        "\n",
        "**Step 1** - Clean and Preprocess the Data\n",
        "1.   Remove User Names - `r'@\\w+\\b'`\n",
        "2.   Remove URL's and unecessary puntuation marks - `[^\\w\\s.]|http\\S+|www\\S+|https\\S+`\n",
        "3.  Remove Double spaces - `r'\\s+', ' '`\n",
        "4.  Remove any leading or trailing spaces - `.strip()`\n",
        "\n"
      ]
    },
    {
      "cell_type": "code",
      "execution_count": 71,
      "metadata": {
        "id": "9aV5NzMgQGGt"
      },
      "outputs": [],
      "source": [
        "text = \"@user, temp, temp, ;;;;;;;; I hate the offensive and racist comments\\n\\n\\n. They disgust me. Visit https://example.com for more information.\""
      ]
    },
    {
      "cell_type": "code",
      "execution_count": 72,
      "metadata": {
        "id": "N_PB_pscRk7M"
      },
      "outputs": [],
      "source": [
        "def clean_text(text):\n",
        "    cleaned_text = re.sub(r'@\\w+\\b|[^\\w\\s.]|(?:https?|ftp)://\\S+|www.\\S+', '', text).replace('\\n', '').strip()\n",
        "    cleaned_text = re.sub(r'\\s+', ' ', cleaned_text)\n",
        "    return cleaned_text"
      ]
    },
    {
      "cell_type": "code",
      "execution_count": 73,
      "metadata": {
        "colab": {
          "base_uri": "https://localhost:8080/"
        },
        "id": "hnQA427sRlD2",
        "outputId": "0604565b-cd52-4615-ed6c-0eb844ec4abb"
      },
      "outputs": [
        {
          "output_type": "stream",
          "name": "stdout",
          "text": [
            "temp temp I hate the offensive and racist comments. They disgust me. Visit for more information.\n"
          ]
        }
      ],
      "source": [
        "print(clean_text(text))"
      ]
    },
    {
      "cell_type": "code",
      "execution_count": 74,
      "metadata": {
        "id": "IflpecuSYyIj"
      },
      "outputs": [],
      "source": [
        "regexDf = df[['textOriginal']]"
      ]
    },
    {
      "cell_type": "code",
      "execution_count": 75,
      "metadata": {
        "colab": {
          "base_uri": "https://localhost:8080/"
        },
        "id": "WtblBbYxaYI_",
        "outputId": "875d9328-994f-419b-e3e4-a95d8c0fc309"
      },
      "outputs": [
        {
          "output_type": "stream",
          "name": "stderr",
          "text": [
            "<ipython-input-75-547ff038857b>:2: SettingWithCopyWarning: \n",
            "A value is trying to be set on a copy of a slice from a DataFrame.\n",
            "Try using .loc[row_indexer,col_indexer] = value instead\n",
            "\n",
            "See the caveats in the documentation: https://pandas.pydata.org/pandas-docs/stable/user_guide/indexing.html#returning-a-view-versus-a-copy\n",
            "  regexDf['textOriginal'] = regexDf['textOriginal'].apply(lambda x: clean_text(x))\n"
          ]
        }
      ],
      "source": [
        "# clean text\n",
        "regexDf['textOriginal'] = regexDf['textOriginal'].apply(lambda x: clean_text(x))"
      ]
    },
    {
      "cell_type": "markdown",
      "metadata": {
        "id": "LPEhnFZt3CZx"
      },
      "source": [
        "### Just check the count of words from the slur list ignoring case (upper or lower) of the word. We also look if any word from the slur list is present as a sub-string of any other word in the dataset.\n",
        "\n",
        "1.   `re.findall()` - searches for all non-overlapping occurrences of a pattern in a given text.\n",
        "2.   `(?i)` - make matching case-insenstive\n",
        "3.  `'(' + '|'.join(slur_words) + r')'` - find a pattern that matches any of the slur words"
      ]
    },
    {
      "cell_type": "code",
      "source": [
        "slur_counts_afterRegex = {}\n",
        "sentence_afterRegex_list = []"
      ],
      "metadata": {
        "id": "ZDyzKHQ97nyP"
      },
      "execution_count": 92,
      "outputs": []
    },
    {
      "cell_type": "code",
      "execution_count": 93,
      "metadata": {
        "colab": {
          "base_uri": "https://localhost:8080/"
        },
        "id": "3ko9uzVxcC6z",
        "outputId": "c2335de0-9c32-43d1-ae08-832fd71ff4ae"
      },
      "outputs": [
        {
          "output_type": "stream",
          "name": "stdout",
          "text": [
            "CPU times: user 3min 8s, sys: 355 ms, total: 3min 8s\n",
            "Wall time: 3min 10s\n"
          ]
        }
      ],
      "source": [
        "%%time\n",
        "for index, row in regexDf.iterrows():\n",
        "    text = row['textOriginal']\n",
        "    matches = re.findall(r\"(?i)\\b(\" + '|'.join(slur_words) + r\")\\b\", text)\n",
        "    # matches = re.findall(r'(?i)(' + '|'.join(slur_words) + r')', text)\n",
        "    if matches:\n",
        "        if (len(sentence_afterRegex_list) <= 100) and (text not in sentence_beforeRegex_list):\n",
        "            sentence_afterRegex_list.append([text, matches])\n",
        "    for match in matches:\n",
        "        slur_counts_afterRegex[match] = slur_counts_afterRegex.get(match, 0) + 1"
      ]
    },
    {
      "cell_type": "code",
      "execution_count": 94,
      "metadata": {
        "id": "99la6tMI0rMb"
      },
      "outputs": [],
      "source": [
        "# slur_counts_afterRegex"
      ]
    },
    {
      "cell_type": "code",
      "execution_count": 95,
      "metadata": {
        "colab": {
          "base_uri": "https://localhost:8080/"
        },
        "id": "JXUSGr9p12kR",
        "outputId": "894e24fc-1c76-4743-b941-091b67d7fb22"
      },
      "outputs": [
        {
          "output_type": "stream",
          "name": "stdout",
          "text": [
            "31763\n",
            "211\n"
          ]
        }
      ],
      "source": [
        "# prev count - 101382\n",
        "print(sum(slur_counts_afterRegex.values()))\n",
        "print(len(slur_counts_afterRegex.keys()))"
      ]
    },
    {
      "cell_type": "code",
      "execution_count": 96,
      "metadata": {
        "colab": {
          "base_uri": "https://localhost:8080/"
        },
        "id": "0dtcUCgt6YlO",
        "outputId": "3c38ad1f-a18b-4ed6-c8f3-2517d809169f"
      },
      "outputs": [
        {
          "output_type": "stream",
          "name": "stdout",
          "text": [
            "[('chutiya', 2418), ('chutiye', 1746), ('chod', 1695), ('mc', 1197), ('bsdk', 1158), ('gaddar', 1069), ('sali', 979), ('harami', 939)]\n"
          ]
        }
      ],
      "source": [
        "sorted_slur_counts_afterRegex = dict(sorted(slur_counts_afterRegex.items(), key=lambda item: item[1], reverse=True))\n",
        "print(list(sorted_slur_counts_afterRegex.items())[:8])"
      ]
    },
    {
      "cell_type": "code",
      "source": [
        "# sentence_afterRegex_list"
      ],
      "metadata": {
        "id": "7S8JKGNu8FX3"
      },
      "execution_count": 97,
      "outputs": []
    },
    {
      "cell_type": "code",
      "source": [
        "english_word_freq_dict = {word: freq for word, freq in sorted_slur_counts_afterRegex.items() if word.isalpha()}\n",
        "word_cloud_text = ' '.join([word + ' ' * freq for word, freq in english_word_freq_dict.items()])\n",
        "wordcloud = WordCloud(width=800, height=400, background_color='white').generate(word_cloud_text)\n",
        "plt.figure(figsize=(10, 5))\n",
        "plt.imshow(wordcloud, interpolation='bilinear')\n",
        "plt.axis('off')\n",
        "plt.show()"
      ],
      "metadata": {
        "colab": {
          "base_uri": "https://localhost:8080/",
          "height": 422
        },
        "id": "OvW8EVIatcZ6",
        "outputId": "ad69809b-9dc7-4a09-f21a-6ac4c40e4d29"
      },
      "execution_count": 98,
      "outputs": [
        {
          "output_type": "display_data",
          "data": {
            "text/plain": [
              "<Figure size 1000x500 with 1 Axes>"
            ],
            "image/png": "[encoded data removed]"
          },
          "metadata": {}
        }
      ]
    },
    {
      "cell_type": "code",
      "execution_count": 55,
      "metadata": {
        "id": "U7zT7FF13vjb"
      },
      "outputs": [],
      "source": [
        "# We clearly see that the amount of slur words drastically increase. Now the step ahead would be too create seperate regex for the most used slur words.\n",
        "# Note - the substrings could also be a part of different words and not necessarily hateful. But given the nature of the words, I feel that chances are low."
      ]
    },
    {
      "cell_type": "code",
      "source": [
        "# substrings are not a good way to\n",
        "# slur list add - randistan"
      ],
      "metadata": {
        "id": "_KOiEyqKchyX"
      },
      "execution_count": 45,
      "outputs": []
    },
    {
      "cell_type": "markdown",
      "metadata": {
        "id": "qHMyU6Etfz15"
      },
      "source": [
        "## Create Regex for the most used Slur Words\n",
        "\n",
        "- Lets start by looking at the word `\"chutiya\"`"
      ]
    },
    {
      "cell_type": "code",
      "execution_count": 65,
      "metadata": {
        "id": "TBzm-Qn4heH8"
      },
      "outputs": [],
      "source": [
        "text = \"they called me a chhhutiyyaa and I ignored them.\"\n",
        "# text = \"abcchhutiyeexvy\""
      ]
    },
    {
      "cell_type": "code",
      "execution_count": 88,
      "metadata": {
        "id": "EJrygd2Cf3vU"
      },
      "outputs": [],
      "source": [
        "pattern_w1 = r'ch+h?[uo]t[iy]a?'\n",
        "# pattern_w1 = r'\\bch+h?[uo]t[iy]a?\\b'"
      ]
    },
    {
      "cell_type": "code",
      "execution_count": 89,
      "metadata": {
        "id": "SXSe5oHfiH9P"
      },
      "outputs": [],
      "source": [
        "matche_w1 = re.findall(pattern_w1, text, re.IGNORECASE)"
      ]
    },
    {
      "cell_type": "code",
      "execution_count": 90,
      "metadata": {
        "colab": {
          "base_uri": "https://localhost:8080/"
        },
        "id": "qZ7H0ji9jFrV",
        "outputId": "f551aa51-0a82-476d-b9e6-3f0d75ceb6bd"
      },
      "outputs": [
        {
          "output_type": "execute_result",
          "data": {
            "text/plain": [
              "[]"
            ]
          },
          "metadata": {},
          "execution_count": 90
        }
      ],
      "source": [
        "matche_w1"
      ]
    },
    {
      "cell_type": "code",
      "source": [
        "slur_word_count_w1 = {}\n",
        "sentences_w1 = []"
      ],
      "metadata": {
        "id": "8njhiiP4dL3s"
      },
      "execution_count": 91,
      "outputs": []
    },
    {
      "cell_type": "code",
      "execution_count": 92,
      "metadata": {
        "colab": {
          "base_uri": "https://localhost:8080/"
        },
        "id": "5U6QsRtfkifr",
        "outputId": "d00ca31b-c216-41a8-aa53-c0229254dc16"
      },
      "outputs": [
        {
          "output_type": "stream",
          "name": "stdout",
          "text": [
            "CPU times: user 53.5 s, sys: 163 ms, total: 53.7 s\n",
            "Wall time: 54.3 s\n"
          ]
        }
      ],
      "source": [
        "%%time\n",
        "for index, row in regexDf.iterrows():\n",
        "    text = row['textOriginal']\n",
        "    matches = re.findall(pattern_w1, text, re.IGNORECASE)\n",
        "    if matches:\n",
        "        if len(sentences_w1)<=100:\n",
        "            sentences_w1.append([text,matches])\n",
        "    for match in matches:\n",
        "        slur_word_count_w1[match] = slur_word_count_w1.get(match, 0) + 1"
      ]
    },
    {
      "cell_type": "code",
      "execution_count": 93,
      "metadata": {
        "colab": {
          "base_uri": "https://localhost:8080/"
        },
        "id": "ND0Q80kHkrun",
        "outputId": "6720bf03-012d-4378-aa4a-c96972b54d58"
      },
      "outputs": [
        {
          "output_type": "execute_result",
          "data": {
            "text/plain": [
              "8010"
            ]
          },
          "metadata": {},
          "execution_count": 93
        }
      ],
      "source": [
        "sum(slur_word_count_w1.values())"
      ]
    },
    {
      "cell_type": "code",
      "execution_count": 94,
      "metadata": {
        "colab": {
          "base_uri": "https://localhost:8080/"
        },
        "id": "6e9rJDRekvgr",
        "outputId": "549e5d50-6ebf-4a94-8eb3-dbb7d4322719"
      },
      "outputs": [
        {
          "output_type": "stream",
          "name": "stdout",
          "text": [
            "[('chuti', 5368), ('Chuti', 1021), ('choti', 443), ('chutia', 344), ('chuty', 171), ('chutya', 168), ('chhoti', 164), ('Chutya', 84)]\n"
          ]
        }
      ],
      "source": [
        "sorted_slur_word_count_w1 = dict(sorted(slur_word_count_w1.items(), key=lambda item: item[1], reverse=True))\n",
        "print(list(sorted_slur_word_count_w1.items())[:8])"
      ]
    },
    {
      "cell_type": "code",
      "source": [
        "# sentences_w1"
      ],
      "metadata": {
        "id": "Vm5zRLqjdsmu"
      },
      "execution_count": 115,
      "outputs": []
    },
    {
      "cell_type": "code",
      "execution_count": 63,
      "metadata": {
        "id": "uVtGY3QdnM_w"
      },
      "outputs": [],
      "source": [
        "# Okay wow, the number of words that are similar to `chutiya` increase drastically."
      ]
    },
    {
      "cell_type": "code",
      "execution_count": 64,
      "metadata": {
        "id": "saNo7o-snWtN"
      },
      "outputs": [],
      "source": [
        "# one problem with this is, we dont know what the sentence might be directed to, to women? to the govt? to brijbhusan?\n",
        "# or just some guy reply to a person in a comment?"
      ]
    },
    {
      "cell_type": "markdown",
      "metadata": {
        "id": "bWzb0q4miBZj"
      },
      "source": [
        "- now lets look at `chod`"
      ]
    },
    {
      "cell_type": "code",
      "execution_count": 75,
      "metadata": {
        "id": "oyZ-VPcrjA-3"
      },
      "outputs": [],
      "source": [
        "text_2 = \"they called me a chhut, chod but I ignored them, hmpf\""
      ]
    },
    {
      "cell_type": "code",
      "execution_count": 76,
      "metadata": {
        "id": "uD26On3jiEiu"
      },
      "outputs": [],
      "source": [
        "pattern_w2 = r'ch+[ou]+[dt]'"
      ]
    },
    {
      "cell_type": "code",
      "execution_count": 77,
      "metadata": {
        "id": "JSnO8KawjAe4"
      },
      "outputs": [],
      "source": [
        "match_w2 = re.findall(pattern_w2, text_2, re.IGNORECASE)"
      ]
    },
    {
      "cell_type": "code",
      "execution_count": 78,
      "metadata": {
        "colab": {
          "base_uri": "https://localhost:8080/"
        },
        "id": "XKHQP2WujJrX",
        "outputId": "a0384ca0-7bd3-427d-930a-289bf9cb82f3"
      },
      "outputs": [
        {
          "output_type": "execute_result",
          "data": {
            "text/plain": [
              "['chhut', 'chod']"
            ]
          },
          "metadata": {},
          "execution_count": 78
        }
      ],
      "source": [
        "match_w2"
      ]
    },
    {
      "cell_type": "code",
      "execution_count": 79,
      "metadata": {
        "id": "iRGVZ8I7jMnK"
      },
      "outputs": [],
      "source": [
        "slur_word_count_w2 = {}\n",
        "for index, row in regexDf.iterrows():\n",
        "    text = row['textOriginal']\n",
        "    matches_2 = re.findall(pattern_w2, text, re.IGNORECASE)\n",
        "    for match in matches_2:\n",
        "        slur_word_count_w2[match] = slur_word_count_w2.get(match, 0) + 1"
      ]
    },
    {
      "cell_type": "code",
      "execution_count": 80,
      "metadata": {
        "colab": {
          "base_uri": "https://localhost:8080/"
        },
        "id": "JimtPDGvjhYR",
        "outputId": "ce125852-0334-4df8-ef91-c53318472767"
      },
      "outputs": [
        {
          "output_type": "execute_result",
          "data": {
            "text/plain": [
              "24013"
            ]
          },
          "metadata": {},
          "execution_count": 80
        }
      ],
      "source": [
        "sum(slur_word_count_w2.values())"
      ]
    },
    {
      "cell_type": "code",
      "execution_count": 81,
      "metadata": {
        "colab": {
          "base_uri": "https://localhost:8080/"
        },
        "id": "vs2wUlTGjm0X",
        "outputId": "fd92b34b-fffa-498d-ebaa-68e450af3979"
      },
      "outputs": [
        {
          "output_type": "stream",
          "name": "stdout",
          "text": [
            "[('chod', 8599), ('chut', 7072), ('chud', 1457), ('chot', 1437), ('chhod', 1313), ('Chut', 1311), ('Choud', 353), ('chhot', 343)]\n"
          ]
        }
      ],
      "source": [
        "sorted_slur_word_count_w2 = dict(sorted(slur_word_count_w2.items(), key=lambda item: item[1], reverse=True))\n",
        "print(list(sorted_slur_word_count_w2.items())[:8])"
      ]
    },
    {
      "cell_type": "markdown",
      "metadata": {
        "id": "hvNkz7ePkVYE"
      },
      "source": [
        "- now lets do this for `bsdk`"
      ]
    },
    {
      "cell_type": "code",
      "execution_count": 96,
      "metadata": {
        "id": "jQrPQX17kmxP"
      },
      "outputs": [],
      "source": [
        "text_3 = \"they called me a bsssdk, I left\""
      ]
    },
    {
      "cell_type": "code",
      "execution_count": 97,
      "metadata": {
        "id": "64lMcQBgkk1I"
      },
      "outputs": [],
      "source": [
        "pattern_3 = r'bs+d+k'\n",
        "matches = re.findall(pattern_3, text_3, re.IGNORECASE)"
      ]
    },
    {
      "cell_type": "code",
      "execution_count": 98,
      "metadata": {
        "colab": {
          "base_uri": "https://localhost:8080/"
        },
        "id": "RRX2lm8zkmKU",
        "outputId": "05f5c50a-0d4c-4058-c1e3-a862a46699b4"
      },
      "outputs": [
        {
          "output_type": "execute_result",
          "data": {
            "text/plain": [
              "['bsssdk']"
            ]
          },
          "metadata": {},
          "execution_count": 98
        }
      ],
      "source": [
        "matches"
      ]
    },
    {
      "cell_type": "code",
      "execution_count": 106,
      "metadata": {
        "id": "4ELiuytZkrox",
        "colab": {
          "base_uri": "https://localhost:8080/"
        },
        "outputId": "3ca300e2-8bfa-4ae1-a069-a73cdea5061b"
      },
      "outputs": [
        {
          "output_type": "stream",
          "name": "stdout",
          "text": [
            "CPU times: user 53.6 s, sys: 136 ms, total: 53.8 s\n",
            "Wall time: 55.2 s\n"
          ]
        }
      ],
      "source": [
        "%%time\n",
        "slur_word_count_4 = {}\n",
        "sentence_w3 = []\n",
        "for index, row in regexDf.iterrows():\n",
        "    text = row['textOriginal']\n",
        "    matches = re.findall(pattern_3, text, re.IGNORECASE)\n",
        "    if matches:\n",
        "        sentence_w3.append([text, matches])\n",
        "    for match in matches:\n",
        "        slur_word_count_4[match] = slur_word_count_4.get(match, 0) + 1"
      ]
    },
    {
      "cell_type": "code",
      "execution_count": 107,
      "metadata": {
        "colab": {
          "base_uri": "https://localhost:8080/"
        },
        "id": "koA5Mad8lKPI",
        "outputId": "1ac89bcf-2d3e-4c37-c0b7-518a6c0e1770"
      },
      "outputs": [
        {
          "output_type": "execute_result",
          "data": {
            "text/plain": [
              "1719"
            ]
          },
          "metadata": {},
          "execution_count": 107
        }
      ],
      "source": [
        "sum(slur_word_count_4.values())"
      ]
    },
    {
      "cell_type": "code",
      "execution_count": 108,
      "metadata": {
        "colab": {
          "base_uri": "https://localhost:8080/"
        },
        "id": "UmoFDePQlOda",
        "outputId": "77f7c666-9db6-4860-fedb-c916b06eb79b"
      },
      "outputs": [
        {
          "output_type": "stream",
          "name": "stdout",
          "text": [
            "[('bsdk', 1219), ('Bsdk', 453), ('Bssdk', 32), ('BSDK', 15)]\n"
          ]
        }
      ],
      "source": [
        "sorted_slur_word_count_4 = dict(sorted(slur_word_count_4.items(), key=lambda item: item[1], reverse=True))\n",
        "print(list(sorted_slur_word_count_4.items())[:8])"
      ]
    },
    {
      "cell_type": "markdown",
      "metadata": {
        "id": "-ab3HsDA1nkO"
      },
      "source": [
        "- now lets try for a hindi word -\n",
        "\n",
        "some links that help me understand this better\n",
        "- https://stackoverflow.com/questions/41356013/how-to-detect-if-a-string-contains-hindi-devnagri-in-it-with-character-and-wor\n",
        "- https://stackoverflow.com/questions/14859957/regular-expressions-with-indian-characters\n",
        "- https://unicode.org/charts/PDF/U0900.pdf"
      ]
    },
    {
      "cell_type": "code",
      "execution_count": 117,
      "metadata": {
        "id": "Zuqb-qE21NH8"
      },
      "outputs": [],
      "source": [
        "# TO-DO"
      ]
    },
    {
      "cell_type": "markdown",
      "metadata": {
        "id": "rOFgPVvAlkRt"
      },
      "source": [
        "## Lets now look at the impact regex has had on counting the slur words in the data\n",
        "\n",
        "The slur list has 506 words consisting of different languages.\n",
        "\n",
        "|        **Word**       | **Before Regex** |     **After Regex**     |\n",
        "|:---------------------:|:----------------:|:-----------------------:|\n",
        "| Simple Count of Words |      25,393      | 101,382 (just  english) |\n",
        "|        chutiya        |       2,647      |          9,289          |\n",
        "|          chod         |       1,788      |          12,749         |\n",
        "|          bsdk         |       1,147      |          1,836          |\n"
      ]
    },
    {
      "cell_type": "markdown",
      "metadata": {
        "id": "C6DL-_QKfXgU"
      },
      "source": [
        "### Looking at use of slur_words accross the timeline."
      ]
    },
    {
      "cell_type": "code",
      "execution_count": 100,
      "metadata": {
        "id": "nzPpkJlHfiWr"
      },
      "outputs": [],
      "source": [
        "timeDf = df[['videoId','textOriginal','authorChannelId', 'likeCount', 'publishedAt', 'updatedAt','parentId', 'commentId']]"
      ]
    },
    {
      "cell_type": "code",
      "execution_count": 101,
      "metadata": {
        "colab": {
          "base_uri": "https://localhost:8080/"
        },
        "id": "WHH5VHUclNqt",
        "outputId": "e3298525-33d0-4387-fb90-1e217e293e63"
      },
      "outputs": [
        {
          "output_type": "stream",
          "name": "stderr",
          "text": [
            "<ipython-input-101-8242d260764d>:2: SettingWithCopyWarning: \n",
            "A value is trying to be set on a copy of a slice from a DataFrame.\n",
            "Try using .loc[row_indexer,col_indexer] = value instead\n",
            "\n",
            "See the caveats in the documentation: https://pandas.pydata.org/pandas-docs/stable/user_guide/indexing.html#returning-a-view-versus-a-copy\n",
            "  timeDf['NewDateTime'] = pd.to_datetime(timeDf['publishedAt'])\n"
          ]
        }
      ],
      "source": [
        "# Convert time from  ISO 8601 to a datetime object\n",
        "timeDf['NewDateTime'] = pd.to_datetime(timeDf['publishedAt'])"
      ]
    },
    {
      "cell_type": "code",
      "execution_count": 102,
      "metadata": {
        "colab": {
          "base_uri": "https://localhost:8080/"
        },
        "id": "jg0AusWxqy-g",
        "outputId": "b96477ee-969f-46c5-abc0-6ebcf1565edf"
      },
      "outputs": [
        {
          "output_type": "stream",
          "name": "stderr",
          "text": [
            "<ipython-input-102-24104e6ccdd9>:2: FutureWarning: Series.dt.weekofyear and Series.dt.week have been deprecated. Please use Series.dt.isocalendar().week instead.\n",
            "  timeDf['week'] = timeDf['NewDateTime'].dt.week\n",
            "<ipython-input-102-24104e6ccdd9>:2: SettingWithCopyWarning: \n",
            "A value is trying to be set on a copy of a slice from a DataFrame.\n",
            "Try using .loc[row_indexer,col_indexer] = value instead\n",
            "\n",
            "See the caveats in the documentation: https://pandas.pydata.org/pandas-docs/stable/user_guide/indexing.html#returning-a-view-versus-a-copy\n",
            "  timeDf['week'] = timeDf['NewDateTime'].dt.week\n",
            "<ipython-input-102-24104e6ccdd9>:3: SettingWithCopyWarning: \n",
            "A value is trying to be set on a copy of a slice from a DataFrame.\n",
            "Try using .loc[row_indexer,col_indexer] = value instead\n",
            "\n",
            "See the caveats in the documentation: https://pandas.pydata.org/pandas-docs/stable/user_guide/indexing.html#returning-a-view-versus-a-copy\n",
            "  timeDf['day'] = timeDf['NewDateTime'].dt.day\n",
            "<ipython-input-102-24104e6ccdd9>:4: SettingWithCopyWarning: \n",
            "A value is trying to be set on a copy of a slice from a DataFrame.\n",
            "Try using .loc[row_indexer,col_indexer] = value instead\n",
            "\n",
            "See the caveats in the documentation: https://pandas.pydata.org/pandas-docs/stable/user_guide/indexing.html#returning-a-view-versus-a-copy\n",
            "  timeDf['month'] = timeDf['NewDateTime'].dt.month\n"
          ]
        }
      ],
      "source": [
        "# Convert datetime object to week, month and day\n",
        "timeDf['week'] = timeDf['NewDateTime'].dt.week\n",
        "timeDf['day'] = timeDf['NewDateTime'].dt.day\n",
        "timeDf['month'] = timeDf['NewDateTime'].dt.month"
      ]
    },
    {
      "cell_type": "code",
      "execution_count": 103,
      "metadata": {
        "id": "GZEQrzwhrkM9"
      },
      "outputs": [],
      "source": [
        "# The protests started on Jan 18, 2023\n",
        "# https://indianexpress.com/article/sports/sport-others/wrestlers-protest-timeline-from-jantar-mantar-sit-in-to-nearly-immersing-medals-in-ganga-8649894/"
      ]
    },
    {
      "cell_type": "code",
      "source": [
        "word_counts_beforeRegex_by_week = {}"
      ],
      "metadata": {
        "id": "fu4bwRWCp7GN"
      },
      "execution_count": 152,
      "outputs": []
    },
    {
      "cell_type": "code",
      "execution_count": 153,
      "metadata": {
        "id": "gpJQlTU2sPgm",
        "colab": {
          "base_uri": "https://localhost:8080/"
        },
        "outputId": "83743ac4-6237-4471-8af0-07712d23dfad"
      },
      "outputs": [
        {
          "output_type": "stream",
          "name": "stdout",
          "text": [
            "CPU times: user 3min 20s, sys: 869 ms, total: 3min 21s\n",
            "Wall time: 3min 30s\n"
          ]
        }
      ],
      "source": [
        "%%time\n",
        "for index, row in timeDf.iterrows():\n",
        "    text = row['textOriginal']\n",
        "    week = row['week']\n",
        "    words = text.split()\n",
        "    slur_word_count = sum(1 for word in words if word in slur_words)\n",
        "    word_counts_beforeRegex_by_week[week] = word_counts_beforeRegex_by_week.get(week, 0) + slur_word_count"
      ]
    },
    {
      "cell_type": "code",
      "source": [
        "# word_counts_beforeRegex_by_week\n",
        "sorted_word_counts_beforeRegex_by_week = dict(sorted(word_counts_beforeRegex_by_week.items()))"
      ],
      "metadata": {
        "id": "R6vYTrLqwo_1"
      },
      "execution_count": 163,
      "outputs": []
    },
    {
      "cell_type": "code",
      "source": [
        "sum(word_counts_beforeRegex_by_week.values())"
      ],
      "metadata": {
        "colab": {
          "base_uri": "https://localhost:8080/"
        },
        "id": "pOyukgI2rEdf",
        "outputId": "2c6e298a-1e08-4e08-ee0b-855fc2382451"
      },
      "execution_count": 154,
      "outputs": [
        {
          "output_type": "execute_result",
          "data": {
            "text/plain": [
              "22989"
            ]
          },
          "metadata": {},
          "execution_count": 154
        }
      ]
    },
    {
      "cell_type": "code",
      "source": [
        "# sorted_word_counts_beforeRegex_by_week"
      ],
      "metadata": {
        "id": "ttFlHlfbw7iU"
      },
      "execution_count": 177,
      "outputs": []
    },
    {
      "cell_type": "code",
      "execution_count": 145,
      "metadata": {
        "id": "gahtw7lQwlEo"
      },
      "outputs": [],
      "source": [
        "# pattern = r'(?i)(' + '|'.join(slur_words_set) + r')'\n",
        "pattern = r\"(?i)\\b(\" + '|'.join(slur_words) + r\")\\b\""
      ]
    },
    {
      "cell_type": "code",
      "source": [
        "compiled_pattern = re.compile(pattern, re.IGNORECASE)"
      ],
      "metadata": {
        "id": "zDT13znpSVn6"
      },
      "execution_count": 146,
      "outputs": []
    },
    {
      "cell_type": "code",
      "execution_count": 155,
      "metadata": {
        "id": "qWDldU2XyHk9",
        "colab": {
          "base_uri": "https://localhost:8080/"
        },
        "outputId": "9b2acdfe-68ab-4dac-dae0-3a39ea5569f7"
      },
      "outputs": [
        {
          "output_type": "stream",
          "name": "stderr",
          "text": [
            "<timed exec>:2: UserWarning: This pattern is interpreted as a regular expression, and has match groups. To actually get the groups, use str.extract.\n"
          ]
        },
        {
          "output_type": "stream",
          "name": "stdout",
          "text": [
            "CPU times: user 4min 8s, sys: 493 ms, total: 4min 9s\n",
            "Wall time: 4min 15s\n"
          ]
        }
      ],
      "source": [
        "%%time\n",
        "# counts2 = timeDf.groupby('week')['textOriginal'].apply(lambda x: x.str.contains(pattern, case=False).sum())\n",
        "word_counts_afterRegex_by_week = timeDf.groupby('week')['textOriginal'].apply(lambda x: x.str.contains(compiled_pattern).sum())"
      ]
    },
    {
      "cell_type": "code",
      "source": [
        "# word_counts_afterRegex_by_week"
      ],
      "metadata": {
        "id": "yhOB8zEfwYYP"
      },
      "execution_count": 176,
      "outputs": []
    },
    {
      "cell_type": "code",
      "source": [
        "word_counts_afterRegex_by_week.sum()"
      ],
      "metadata": {
        "colab": {
          "base_uri": "https://localhost:8080/"
        },
        "id": "chzqhuYbkto4",
        "outputId": "c76c4007-b22e-45d2-b776-cc9806a65bc8"
      },
      "execution_count": 160,
      "outputs": [
        {
          "output_type": "execute_result",
          "data": {
            "text/plain": [
              "34645"
            ]
          },
          "metadata": {},
          "execution_count": 160
        }
      ]
    },
    {
      "cell_type": "code",
      "execution_count": 148,
      "metadata": {
        "id": "wUltAZQuwZMe",
        "colab": {
          "base_uri": "https://localhost:8080/",
          "height": 87
        },
        "outputId": "9b2e6ecf-c8d6-4946-c23c-f5d98168ba9f"
      },
      "outputs": [
        {
          "output_type": "execute_result",
          "data": {
            "text/plain": [
              "\"\\nLets plot the frequceny of slur words used vs time (week)\\nThe week number denoted in the plot is the number of the week in the year (out of 52)\\nWeek 17 - Apr. 24, 2023 - a day after protests started outside jantar mantar\\nWeek 22 - May 29, 2023 -  Delhi Police detains top wrestlers\\n          May 30, 2023 - The wrestlers, hurt by the way the police had detained them and then filed FIRs against them,\\n                            announce they will go to Har Ki Pauri in Haridwar to 'immerse their medals' in the River Ganga.\\nWeek 28 - July 10, 2023 - last day till I scrapped the data\\n\""
            ],
            "application/vnd.google.colaboratory.intrinsic+json": {
              "type": "string"
            }
          },
          "metadata": {},
          "execution_count": 148
        }
      ],
      "source": [
        "'''\n",
        "Lets plot the frequceny of slur words used vs time (week)\n",
        "The week number denoted in the plot is the number of the week in the year (out of 52)\n",
        "Week 17 - Apr. 24, 2023 - a day after protests started outside jantar mantar\n",
        "Week 22 - May 29, 2023 -  Delhi Police detains top wrestlers\n",
        "          May 30, 2023 - The wrestlers, hurt by the way the police had detained them and then filed FIRs against them,\n",
        "                            announce they will go to Har Ki Pauri in Haridwar to 'immerse their medals' in the River Ganga.\n",
        "Week 28 - July 10, 2023 - last day till I scrapped the data\n",
        "'''"
      ]
    },
    {
      "cell_type": "code",
      "source": [
        "keys_before_regex = list(sorted_word_counts_beforeRegex_by_week.keys())[8:]\n",
        "values_before_regex = list(sorted_word_counts_beforeRegex_by_week.values())[8:]\n",
        "\n",
        "keys = word_counts_afterRegex_by_week.index[8:]\n",
        "values = word_counts_afterRegex_by_week.values[8:]\n",
        "\n",
        "plt.plot(keys_before_regex, values_before_regex, color='blue', label='before regex')\n",
        "plt.plot(keys, values, color='red', label='after regex')\n",
        "\n",
        "plt.xlabel('Week')\n",
        "plt.ylabel('Count of Slur Words')\n",
        "plt.title('Count of Slur Words per week')\n",
        "plt.xticks(keys)\n",
        "plt.legend(loc='best', fontsize='small')\n",
        "plt.show()"
      ],
      "metadata": {
        "colab": {
          "base_uri": "https://localhost:8080/",
          "height": 472
        },
        "id": "hMGxG1vXW6Gl",
        "outputId": "6cdc6505-d4d5-4f7a-caa3-c6e04d63f83f"
      },
      "execution_count": 179,
      "outputs": [
        {
          "output_type": "display_data",
          "data": {
            "text/plain": [
              "<Figure size 640x480 with 1 Axes>"
            ],
            "image/png": "[encoded data removed]"
          },
          "metadata": {}
        }
      ]
    },
    {
      "cell_type": "code",
      "execution_count": 180,
      "metadata": {
        "colab": {
          "base_uri": "https://localhost:8080/",
          "height": 472
        },
        "id": "24_DP4KOtbJN",
        "outputId": "7ef36a0b-97dd-4c6e-db21-c4fa4f4dd2ec"
      },
      "outputs": [
        {
          "output_type": "display_data",
          "data": {
            "text/plain": [
              "<Figure size 640x480 with 1 Axes>"
            ],
            "image/png": "[encoded data removed]"
          },
          "metadata": {}
        }
      ],
      "source": [
        "keys_before_regex = list(sorted_word_counts_beforeRegex_by_week.keys())[8:]\n",
        "values_before_regex = list(sorted_word_counts_beforeRegex_by_week.values())[8:]\n",
        "\n",
        "keys = word_counts_afterRegex_by_week.index[8:]\n",
        "values = word_counts_afterRegex_by_week.values[8:]\n",
        "\n",
        "plt.semilogy(keys_before_regex, values_before_regex, color='blue', label='before regex')\n",
        "plt.semilogy(keys, values, color='red', label='after regex')\n",
        "\n",
        "plt.xlabel('Week')\n",
        "plt.ylabel('Count of Slur Words')\n",
        "plt.title('Count of Slur Words per week')\n",
        "plt.xticks(keys)\n",
        "plt.legend(loc='best', fontsize='small')\n",
        "plt.show()"
      ]
    },
    {
      "cell_type": "code",
      "source": [
        "# the pattern pretty much remains the same, only the count of slur words are increasing"
      ],
      "metadata": {
        "id": "jG195x3iXquu"
      },
      "execution_count": 181,
      "outputs": []
    },
    {
      "cell_type": "code",
      "source": [
        "# Lets now look at the like counts accross the timeline of these hateful tweets."
      ],
      "metadata": {
        "id": "N13ydKtsZenU"
      },
      "execution_count": 182,
      "outputs": []
    },
    {
      "cell_type": "code",
      "source": [
        "word_likes_per_week = {}\n",
        "top_sentences_per_week = []"
      ],
      "metadata": {
        "id": "C5TCZPMYZsaL"
      },
      "execution_count": 36,
      "outputs": []
    },
    {
      "cell_type": "code",
      "source": [
        "timeDf['likeCount'] = timeDf['likeCount'].astype(int)"
      ],
      "metadata": {
        "id": "ZasJp_Zibgfw",
        "colab": {
          "base_uri": "https://localhost:8080/"
        },
        "outputId": "e6910f97-0842-4f00-8ea8-0ee18cdb4b0a"
      },
      "execution_count": 37,
      "outputs": [
        {
          "output_type": "stream",
          "name": "stderr",
          "text": [
            "<ipython-input-37-2b29a1900db1>:1: SettingWithCopyWarning: \n",
            "A value is trying to be set on a copy of a slice from a DataFrame.\n",
            "Try using .loc[row_indexer,col_indexer] = value instead\n",
            "\n",
            "See the caveats in the documentation: https://pandas.pydata.org/pandas-docs/stable/user_guide/indexing.html#returning-a-view-versus-a-copy\n",
            "  timeDf['likeCount'] = timeDf['likeCount'].astype(int)\n"
          ]
        }
      ]
    },
    {
      "cell_type": "code",
      "source": [
        "pattern = r\"(?i)\\b(\" + '|'.join(slur_words) + r\")\\b\"\n",
        "compiled_pattern = re.compile(pattern, re.IGNORECASE)"
      ],
      "metadata": {
        "id": "y95wNuDzdnkP"
      },
      "execution_count": 38,
      "outputs": []
    },
    {
      "cell_type": "code",
      "source": [
        "%%time\n",
        "for index, row in timeDf.iterrows():\n",
        "    text = row['textOriginal']\n",
        "    week = row['week']\n",
        "    like_count = row['likeCount']\n",
        "    matches = compiled_pattern.findall(text)\n",
        "    if matches:\n",
        "        top_sentences_per_week.append([text, matches, like_count, week])\n",
        "    for word in matches:\n",
        "        if week not in word_likes_per_week:\n",
        "            word_likes_per_week[week] = 0\n",
        "        word_likes_per_week[week] += like_count"
      ],
      "metadata": {
        "colab": {
          "base_uri": "https://localhost:8080/"
        },
        "id": "0KRWYlPyatli",
        "outputId": "85e4395a-3568-4926-d683-0b6e9f2746ee"
      },
      "execution_count": 39,
      "outputs": [
        {
          "output_type": "stream",
          "name": "stdout",
          "text": [
            "CPU times: user 3min 5s, sys: 664 ms, total: 3min 5s\n",
            "Wall time: 3min 7s\n"
          ]
        }
      ]
    },
    {
      "cell_type": "code",
      "source": [
        "# word_likes_per_week"
      ],
      "metadata": {
        "id": "b0HyMhvFattp"
      },
      "execution_count": 40,
      "outputs": []
    },
    {
      "cell_type": "code",
      "source": [
        "# top_sentences_per_week"
      ],
      "metadata": {
        "id": "Mmzg4q7VaMpo"
      },
      "execution_count": 35,
      "outputs": []
    },
    {
      "cell_type": "code",
      "source": [
        "x = sorted(word_likes_per_week.keys())\n",
        "y = [word_likes_per_week[week] for week in x]"
      ],
      "metadata": {
        "id": "1P4ZOTPoat06"
      },
      "execution_count": 46,
      "outputs": []
    },
    {
      "cell_type": "code",
      "source": [
        "plt.plot(x[1:], y[1:])\n",
        "plt.xlabel('Week')\n",
        "plt.ylabel('Total Like Count')\n",
        "plt.title('Total Like Count per Week for Identified Words')\n",
        "plt.xticks(x[1:])\n",
        "plt.show()"
      ],
      "metadata": {
        "colab": {
          "base_uri": "https://localhost:8080/",
          "height": 472
        },
        "id": "TTmTd_qEat9b",
        "outputId": "b595553c-086f-42f3-86c4-f4a0d09a67a6"
      },
      "execution_count": 47,
      "outputs": [
        {
          "output_type": "display_data",
          "data": {
            "text/plain": [
              "<Figure size 640x480 with 1 Axes>"
            ],
            "image/png": "[encoded data removed]"
          },
          "metadata": {}
        }
      ]
    },
    {
      "cell_type": "code",
      "source": [
        "plt.semilogy(x[1:], y[1:])\n",
        "plt.xlabel('Week')\n",
        "plt.ylabel('Total Like Count')\n",
        "plt.title('Total Like Count per Week for Identified Words - Semilogy Scale')\n",
        "plt.xticks(x[1:])\n",
        "plt.show()"
      ],
      "metadata": {
        "colab": {
          "base_uri": "https://localhost:8080/",
          "height": 472
        },
        "id": "qIhfNf-mauG6",
        "outputId": "e8b933ab-3a3b-4825-df8a-e0e5eb9c58ec"
      },
      "execution_count": 48,
      "outputs": [
        {
          "output_type": "display_data",
          "data": {
            "text/plain": [
              "<Figure size 640x480 with 1 Axes>"
            ],
            "image/png": "[encoded data removed]"
          },
          "metadata": {}
        }
      ]
    },
    {
      "cell_type": "code",
      "source": [
        "# These plots could be showing these results because it could be also from the bias in dataset sampling."
      ],
      "metadata": {
        "id": "qxHF6VLyfIjQ"
      },
      "execution_count": 197,
      "outputs": []
    },
    {
      "cell_type": "code",
      "source": [
        "top_5_texts_per_week = {}"
      ],
      "metadata": {
        "id": "2wEXSliE5r-T"
      },
      "execution_count": 41,
      "outputs": []
    },
    {
      "cell_type": "code",
      "source": [
        "for text, matches, like_count, week in top_sentences_per_week:\n",
        "    if week not in top_5_texts_per_week:\n",
        "        top_5_texts_per_week[week] = []\n",
        "    if len(top_5_texts_per_week[week]) < 5:\n",
        "        top_5_texts_per_week[week].append([text, matches, like_count])"
      ],
      "metadata": {
        "id": "-6k-u2uSdIer"
      },
      "execution_count": 42,
      "outputs": []
    },
    {
      "cell_type": "code",
      "source": [
        "# top_5_texts_per_week"
      ],
      "metadata": {
        "id": "HvtkIBChdIlF"
      },
      "execution_count": 44,
      "outputs": []
    },
    {
      "cell_type": "code",
      "source": [
        "'''\n",
        "check if these hateful tweets are replies or not too\n",
        "'''"
      ],
      "metadata": {
        "id": "RQhQJwzcZsvD",
        "colab": {
          "base_uri": "https://localhost:8080/",
          "height": 35
        },
        "outputId": "3366961f-5b41-4659-9b1a-27e7ded31776"
      },
      "execution_count": null,
      "outputs": [
        {
          "output_type": "execute_result",
          "data": {
            "text/plain": [
              "'\\ncheck if these hateful tweets are replies or not too\\n'"
            ],
            "application/vnd.google.colaboratory.intrinsic+json": {
              "type": "string"
            }
          },
          "metadata": {},
          "execution_count": 90
        }
      ]
    },
    {
      "cell_type": "code",
      "source": [
        "slur_counts_replies_by_week = {}\n",
        "slur_counts_non_replies_by_week = {}"
      ],
      "metadata": {
        "id": "_PVGQtwdwIR-"
      },
      "execution_count": 123,
      "outputs": []
    },
    {
      "cell_type": "code",
      "source": [
        "%%time\n",
        "for index, row in timeDf.iterrows():\n",
        "    text = row['textOriginal']\n",
        "    matches = re.findall(r\"(?i)\\b(\" + '|'.join(slur_words) + r\")\\b\", text)\n",
        "    parent_id = row['parentId']\n",
        "    week_identifier = row['week']\n",
        "    if matches:\n",
        "        if pd.notna(parent_id):\n",
        "            if week_identifier not in slur_counts_replies_by_week:\n",
        "                slur_counts_replies_by_week[week_identifier] = 0\n",
        "            slur_counts_replies_by_week[week_identifier] += 1\n",
        "        else:\n",
        "            if week_identifier not in slur_counts_non_replies_by_week:\n",
        "                slur_counts_non_replies_by_week[week_identifier] = 0\n",
        "            slur_counts_non_replies_by_week[week_identifier] += 1"
      ],
      "metadata": {
        "colab": {
          "base_uri": "https://localhost:8080/"
        },
        "id": "pI2ABJffwIYn",
        "outputId": "b8503b70-66ea-422d-b750-0d23dc5cc1e3"
      },
      "execution_count": 124,
      "outputs": [
        {
          "output_type": "stream",
          "name": "stdout",
          "text": [
            "CPU times: user 3min 37s, sys: 837 ms, total: 3min 38s\n",
            "Wall time: 3min 42s\n"
          ]
        }
      ]
    },
    {
      "cell_type": "code",
      "source": [
        "sorted_slur_counts_replies_by_week = {k: v for k, v in sorted(slur_counts_replies_by_week.items(), key=lambda item: item[0])}\n",
        "sorted_slur_counts_non_replies_by_week = {k: v for k, v in sorted(slur_counts_non_replies_by_week.items(), key=lambda item: item[0])}"
      ],
      "metadata": {
        "id": "lIBGGx8kwIel"
      },
      "execution_count": 125,
      "outputs": []
    },
    {
      "cell_type": "code",
      "source": [
        "weeks = list(sorted_slur_counts_replies_by_week.keys())[1:]\n",
        "replies_counts = list(sorted_slur_counts_replies_by_week.values())[1:]\n",
        "non_replies_counts = list(sorted_slur_counts_non_replies_by_week.values())[1:]\n",
        "# plt.figure(figsize=(10, 6))\n",
        "plt.plot(weeks, replies_counts, label='Replies', color='r')\n",
        "plt.plot(weeks, non_replies_counts, label='Comment', color='b')\n",
        "plt.xlabel('Week')\n",
        "plt.ylabel('Count')\n",
        "plt.title('Replies or Comments of Slur Text by Week')\n",
        "plt.xticks(weeks)\n",
        "plt.legend()\n",
        "plt.tight_layout()\n",
        "plt.show()"
      ],
      "metadata": {
        "colab": {
          "base_uri": "https://localhost:8080/",
          "height": 487
        },
        "id": "mKRuGEIb5A5X",
        "outputId": "77550885-557a-4e91-97f2-c0e0b31bc90a"
      },
      "execution_count": 132,
      "outputs": [
        {
          "output_type": "display_data",
          "data": {
            "text/plain": [
              "<Figure size 640x480 with 1 Axes>"
            ],
            "image/png": "[encoded data removed]"
          },
          "metadata": {}
        }
      ]
    },
    {
      "cell_type": "markdown",
      "source": [
        "## Exisiting Lexicon Search\n",
        "- Peach Teach Lab - Lexicons for detecting hate in african countries. - [Link](https://www.peacetechlab.org/hate-speech-lexicons)\n",
        "- Hurtlex - Hateful words lexicon for many languages - [Link](https://github.com/valeriobasile/hurtlex)"
      ],
      "metadata": {
        "id": "Sm98j62rSdD8"
      }
    },
    {
      "cell_type": "code",
      "source": [],
      "metadata": {
        "id": "22GidLhVSa3k"
      },
      "execution_count": null,
      "outputs": []
    },
    {
      "cell_type": "markdown",
      "metadata": {
        "id": "eNkKoD02ihbl"
      },
      "source": [
        "## Identify Text Language"
      ]
    },
    {
      "cell_type": "code",
      "execution_count": 49,
      "metadata": {
        "id": "5zuX_hBZmHKk"
      },
      "outputs": [],
      "source": [
        "# !pip install polyglot==16.7.4 > /dev/null 2>&1\n",
        "# !pip install PyICU > /dev/null 2>&1\n",
        "# !pip install pycld2 > /dev/null 2>&1"
      ]
    },
    {
      "cell_type": "code",
      "execution_count": 50,
      "metadata": {
        "id": "9F2MFqHhhgF2"
      },
      "outputs": [],
      "source": [
        "# from polyglot.detect import Detector\n",
        "# text = 'आप कैसे हैं?' text = 'તમે કેમ છો' text = 'எப்படி இருக்கிறீர்கள்' text = 'സുഖമാണോ' text = 'तू कसा आहेस'\n",
        "# text_sample = 'आप कैसे हैं?'\n",
        "# detector = Detector(text_sample)\n",
        "# print(detector.language)\n",
        "# print(detector.language.code)"
      ]
    },
    {
      "cell_type": "markdown",
      "source": [
        "## Uli Model"
      ],
      "metadata": {
        "id": "Zay3VZ07_PQX"
      }
    },
    {
      "cell_type": "code",
      "source": [
        "!pip install transformers > /dev/null 2>&1\n",
        "!pip install --upgrade accelerate > /dev/null 2>&1"
      ],
      "metadata": {
        "id": "YKODI9PyDpoD"
      },
      "execution_count": 51,
      "outputs": []
    },
    {
      "cell_type": "code",
      "source": [
        "import torch\n",
        "import torch.nn.functional as F\n",
        "from transformers import pipeline\n",
        "from transformers import AutoModelForSequenceClassification\n",
        "from transformers import TFAutoModelForSequenceClassification\n",
        "from transformers import AutoTokenizer, AutoConfig"
      ],
      "metadata": {
        "id": "LIUpmOl7DKug"
      },
      "execution_count": 52,
      "outputs": []
    },
    {
      "cell_type": "code",
      "source": [
        "uliDf = df[['videoId','textOriginal','authorChannelId', 'likeCount', 'publishedAt', 'updatedAt', 'commentId']]"
      ],
      "metadata": {
        "id": "o_2acZSS_O20"
      },
      "execution_count": 53,
      "outputs": []
    },
    {
      "cell_type": "code",
      "source": [
        "uliDf.shape"
      ],
      "metadata": {
        "colab": {
          "base_uri": "https://localhost:8080/"
        },
        "id": "mej1oBn-AQwv",
        "outputId": "5bb11a9c-b212-4dc7-ea96-ea3d7d4e0d06"
      },
      "execution_count": 54,
      "outputs": [
        {
          "output_type": "execute_result",
          "data": {
            "text/plain": [
              "(996419, 7)"
            ]
          },
          "metadata": {},
          "execution_count": 54
        }
      ]
    },
    {
      "cell_type": "code",
      "source": [
        "header = np.array(uliDf.columns)\n",
        "uliDf = uliDf[~np.all(uliDf.values == header, axis=1)]\n",
        "uliDf = uliDf[~uliDf['videoId'].str.contains(r'\\bvideoId\\b', case=False, regex=True)]\n",
        "pattern = r'^\\d{4}-\\d{2}-\\d{2}T\\d{2}:\\d{2}:\\d{2}Z$'\n",
        "uliDf = uliDf[uliDf['publishedAt'].str.contains(pattern)]"
      ],
      "metadata": {
        "id": "TsYOFaKM_7cl"
      },
      "execution_count": 55,
      "outputs": []
    },
    {
      "cell_type": "code",
      "source": [
        "config = {\n",
        "  \"MODEL\": \"tattle-admin/july22-xlmtwtroberta-da-multi\",\n",
        "  \"PRE_TRAINED_MODEL\": \"assets/model_state_dict.bin\",\n",
        "  \"CLASS_NAMES\": [\"None\", \"Hate\"],\n",
        "  \"MAX_SEQUENCE_LEN\": 128\n",
        "}"
      ],
      "metadata": {
        "id": "y42WJIHs_8PK"
      },
      "execution_count": 56,
      "outputs": []
    },
    {
      "cell_type": "code",
      "source": [
        "label_map= {\n",
        "        0: 'None',\n",
        "        1: 'Hate'\n",
        "}"
      ],
      "metadata": {
        "id": "pvoipB1n_8DE"
      },
      "execution_count": 57,
      "outputs": []
    },
    {
      "cell_type": "code",
      "source": [
        "def preprocess(text):\n",
        "    new_text = []\n",
        "    for t in text.split(\" \"):\n",
        "        t = '@user' if t.startswith('@') and len(t) > 1 else t\n",
        "        t = 'http' if t.startswith('http') else t\n",
        "        new_text.append(t)\n",
        "    return \" \".join(new_text)"
      ],
      "metadata": {
        "id": "MeV1Fb2j_74d"
      },
      "execution_count": 58,
      "outputs": []
    },
    {
      "cell_type": "code",
      "source": [
        "device = torch.device(\"cuda:0\" if torch.cuda.is_available() else \"cpu\")"
      ],
      "metadata": {
        "id": "CErJNsuL_7oE"
      },
      "execution_count": 59,
      "outputs": []
    },
    {
      "cell_type": "code",
      "source": [
        "tokenizer = AutoTokenizer.from_pretrained(config['MODEL'])\n",
        "classifier = AutoModelForSequenceClassification.from_pretrained(config['MODEL'])\n",
        "classifier = classifier.to(device)"
      ],
      "metadata": {
        "colab": {
          "base_uri": "https://localhost:8080/",
          "height": 209,
          "referenced_widgets": [
            "6db65d52980d4759acb4055ed35e524a",
            "a44dda40b94742719579d129480a7748",
            "2fa5f24f1ddc49d3820418ac0501e653",
            "f184f6e970b2406286246670d00b6e2a",
            "0404b522d7064df88eded3efede8a508",
            "60b54f478f71456c8d4f6951cfc09fff",
            "5c356d358f5b4cb088c6e29324b6f010",
            "e55bd96d099145bf82b71d4be36bab66",
            "1d3dd04f3e2842caa94ddd52ea6d5cd5",
            "a6afcc2f2e374e6d91c4be73f35928cc",
            "35780a03240e4e20b00747f02a04b01d",
            "9ea55d6f3fb74c96b0381466d42a8c65",
            "ad6ee6c368064eb1ad4f31a74dc94142",
            "81d578e647f34bccb8b2f1070b1d8270",
            "7c450d5564b54ebfb356e11a0e8fe275",
            "f5f39683ecdb4262a7f60f70d717870a",
            "4ce936ea3b964c7ca0b7f30ed4fcbdde",
            "d0de2a45f82a4c658e4da756b86c5e7e",
            "8e43e60544ce42268281d6d9926d88c1",
            "7746c9d17017410fbd46a41940fae285",
            "c1d3e3a7539f421fad0c9bd17dcf6e68",
            "02a89810dd9e4a7fa03c3e13386e8a59",
            "ba443d7e58b34e9cadeefa7aa3bdd839",
            "64cc5e9caf08483f9428eea941ff855e",
            "d3786afda65d48ae84f0015d09601559",
            "a5b0034121b642f09f804784c2a6f6f4",
            "161969fd9b774f8ea27835fd2506b965",
            "7a4d4bc455bf45939cb4adb403efa482",
            "22abda773c574e3ba93f19f59a12c5ea",
            "354f6110c93240eb9ed4d12447a32fe7",
            "10668fbb63ac41eeaee1d98fedc866df",
            "558eb126f35443c4ac8e932e4efaf6f7",
            "4f2aecf332dc4da1ac55acd4cbb336d6",
            "1b27e5079165494c83cbd3de98f46068",
            "04b4719c180241c1908ef811d98365ec",
            "c7b67465d48a4987b3fd004e4e2d990c",
            "cf699be1943d4f32855d35f3d0b13eb2",
            "038cd7bf196944a997c865c14ffb34c6",
            "33af6498b1cc43028e6c25357fe86bc6",
            "97e1f0a63f224efcab8ac35919cc219a",
            "f63a138ff14e4badb8ee94c7ca75e387",
            "a7660c421fc94d58a163560f67928f87",
            "498da7a8d6bb48a4b8a700e5810ae181",
            "8b283307d52049bc8f3e4305d4579f0f",
            "9cfacacf63204b428fc7af772d22b748",
            "805e48d19b7f45219f953c293f073289",
            "35eac1f28b0447749168cbe0a0a4afc7",
            "d42d4795f59f40dea2cc82a5b2c8df1b",
            "0fc7c34f64e4431faf86b43fc0e65bed",
            "36cffdf41885408dac14e77c0dd9421a",
            "5f21ab58b71243f7a43dce6a36e48e62",
            "231b9e57befc4865a8461e2bdc9c783f",
            "cebbfbf89b414bb6a4a12535eb499222",
            "a501e16a64d044cd8d122b8c65c176b9",
            "f1c10e67160142419c3ea003c87c8f7e",
            "73356424149749659ac871c893d52dba",
            "184669ceeeaa4195933fc08ea87c8cdd",
            "31066ead9ee14df08bad6838bb14d26d",
            "09ce2c0cfc32499b8ffe1fe9e524d2dc",
            "4d23987d920643cb87d1403e84315fa7",
            "42a381fdc2f8494eb14841769646c1bd",
            "1c4045b91a714502a9fa496af2211703",
            "d445678a9913425897de8b3f631745fb",
            "3647ed56a9b4418eb11a76b143327d70",
            "d39cfcb6c3a54f05ab8b38d201c1eac2",
            "42a6c4ecead3450089f1ae0f3a3d5dd8"
          ]
        },
        "id": "u8LV36dJDHqj",
        "outputId": "05c989b2-4c9a-4fb4-f74d-72c0ac5e7959"
      },
      "execution_count": 60,
      "outputs": [
        {
          "output_type": "display_data",
          "data": {
            "text/plain": [
              "Downloading (…)okenizer_config.json:   0%|          | 0.00/412 [00:00<?, ?B/s]"
            ],
            "application/vnd.jupyter.widget-view+json": {
              "version_major": 2,
              "version_minor": 0,
              "model_id": "6db65d52980d4759acb4055ed35e524a"
            }
          },
          "metadata": {}
        },
        {
          "output_type": "display_data",
          "data": {
            "text/plain": [
              "Downloading (…)tencepiece.bpe.model:   0%|          | 0.00/5.07M [00:00<?, ?B/s]"
            ],
            "application/vnd.jupyter.widget-view+json": {
              "version_major": 2,
              "version_minor": 0,
              "model_id": "9ea55d6f3fb74c96b0381466d42a8c65"
            }
          },
          "metadata": {}
        },
        {
          "output_type": "display_data",
          "data": {
            "text/plain": [
              "Downloading tokenizer.json:   0%|          | 0.00/17.1M [00:00<?, ?B/s]"
            ],
            "application/vnd.jupyter.widget-view+json": {
              "version_major": 2,
              "version_minor": 0,
              "model_id": "ba443d7e58b34e9cadeefa7aa3bdd839"
            }
          },
          "metadata": {}
        },
        {
          "output_type": "display_data",
          "data": {
            "text/plain": [
              "Downloading (…)cial_tokens_map.json:   0%|          | 0.00/239 [00:00<?, ?B/s]"
            ],
            "application/vnd.jupyter.widget-view+json": {
              "version_major": 2,
              "version_minor": 0,
              "model_id": "1b27e5079165494c83cbd3de98f46068"
            }
          },
          "metadata": {}
        },
        {
          "output_type": "display_data",
          "data": {
            "text/plain": [
              "Downloading (…)lve/main/config.json:   0%|          | 0.00/844 [00:00<?, ?B/s]"
            ],
            "application/vnd.jupyter.widget-view+json": {
              "version_major": 2,
              "version_minor": 0,
              "model_id": "9cfacacf63204b428fc7af772d22b748"
            }
          },
          "metadata": {}
        },
        {
          "output_type": "display_data",
          "data": {
            "text/plain": [
              "Downloading pytorch_model.bin:   0%|          | 0.00/1.11G [00:00<?, ?B/s]"
            ],
            "application/vnd.jupyter.widget-view+json": {
              "version_major": 2,
              "version_minor": 0,
              "model_id": "73356424149749659ac871c893d52dba"
            }
          },
          "metadata": {}
        }
      ]
    },
    {
      "cell_type": "code",
      "source": [
        "# classifier.load_state_dict(\n",
        "#     torch.load(config[\"PRE_TRAINED_MODEL\"], map_location=device)\n",
        "# )"
      ],
      "metadata": {
        "id": "5bZuRhEhDH40"
      },
      "execution_count": 61,
      "outputs": []
    },
    {
      "cell_type": "code",
      "source": [
        "text = \"wah mere desh ke chutiya police\""
      ],
      "metadata": {
        "id": "8jOscWomDIAO"
      },
      "execution_count": 67,
      "outputs": []
    },
    {
      "cell_type": "code",
      "source": [
        "encoded_input = tokenizer(text, return_tensors='pt', padding=True, truncation=True, max_length=128)\n",
        "encoded_input.to(device)"
      ],
      "metadata": {
        "colab": {
          "base_uri": "https://localhost:8080/"
        },
        "id": "b2bp9OzADIHm",
        "outputId": "047f2445-f285-4076-be97-1e9609cefc42"
      },
      "execution_count": 68,
      "outputs": [
        {
          "output_type": "execute_result",
          "data": {
            "text/plain": [
              "{'input_ids': tensor([[    0, 68590,  2563,     8,  1495,   311, 58863,  2324, 35206,     2]]), 'attention_mask': tensor([[1, 1, 1, 1, 1, 1, 1, 1, 1, 1]])}"
            ]
          },
          "metadata": {},
          "execution_count": 68
        }
      ]
    },
    {
      "cell_type": "code",
      "source": [
        "output = classifier(**encoded_input)"
      ],
      "metadata": {
        "id": "UzKGHmZpDIXn"
      },
      "execution_count": 69,
      "outputs": []
    },
    {
      "cell_type": "code",
      "source": [
        "with torch.no_grad():\n",
        "    out = F.softmax(output[0].data, dim=-1).detach().cpu()\n",
        "    out_label = torch.argmax(out,-1).numpy()\n",
        "    print(f\"{label_map[out_label[0]]}, {out[0][out_label].numpy()[0]}\")"
      ],
      "metadata": {
        "colab": {
          "base_uri": "https://localhost:8080/"
        },
        "id": "a2Yua3SjGM3C",
        "outputId": "622c913b-4080-4068-9399-1979639def88"
      },
      "execution_count": 70,
      "outputs": [
        {
          "output_type": "stream",
          "name": "stdout",
          "text": [
            "Hate, 0.6075904965400696\n"
          ]
        }
      ]
    }
  ],
  "metadata": {
    "colab": {
      "provenance": []
    },
    "kernelspec": {
      "display_name": "Python 3",
      "name": "python3"
    },
    "language_info": {
      "name": "python"
    },
    "widgets": {
      "application/vnd.jupyter.widget-state+json": {
        "6db65d52980d4759acb4055ed35e524a": {
          "model_module": "@jupyter-widgets/controls",
          "model_name": "HBoxModel",
          "model_module_version": "1.5.0",
          "state": {
            "_dom_classes": [],
            "_model_module": "@jupyter-widgets/controls",
            "_model_module_version": "1.5.0",
            "_model_name": "HBoxModel",
            "_view_count": null,
            "_view_module": "@jupyter-widgets/controls",
            "_view_module_version": "1.5.0",
            "_view_name": "HBoxView",
            "box_style": "",
            "children": [
              "IPY_MODEL_a44dda40b94742719579d129480a7748",
              "IPY_MODEL_2fa5f24f1ddc49d3820418ac0501e653",
              "IPY_MODEL_f184f6e970b2406286246670d00b6e2a"
            ],
            "layout": "IPY_MODEL_0404b522d7064df88eded3efede8a508"
          }
        },
        "a44dda40b94742719579d129480a7748": {
          "model_module": "@jupyter-widgets/controls",
          "model_name": "HTMLModel",
          "model_module_version": "1.5.0",
          "state": {
            "_dom_classes": [],
            "_model_module": "@jupyter-widgets/controls",
            "_model_module_version": "1.5.0",
            "_model_name": "HTMLModel",
            "_view_count": null,
            "_view_module": "@jupyter-widgets/controls",
            "_view_module_version": "1.5.0",
            "_view_name": "HTMLView",
            "description": "",
            "description_tooltip": null,
            "layout": "IPY_MODEL_60b54f478f71456c8d4f6951cfc09fff",
            "placeholder": "​",
            "style": "IPY_MODEL_5c356d358f5b4cb088c6e29324b6f010",
            "value": "Downloading (…)okenizer_config.json: 100%"
          }
        },
        "2fa5f24f1ddc49d3820418ac0501e653": {
          "model_module": "@jupyter-widgets/controls",
          "model_name": "FloatProgressModel",
          "model_module_version": "1.5.0",
          "state": {
            "_dom_classes": [],
            "_model_module": "@jupyter-widgets/controls",
            "_model_module_version": "1.5.0",
            "_model_name": "FloatProgressModel",
            "_view_count": null,
            "_view_module": "@jupyter-widgets/controls",
            "_view_module_version": "1.5.0",
            "_view_name": "ProgressView",
            "bar_style": "success",
            "description": "",
            "description_tooltip": null,
            "layout": "IPY_MODEL_e55bd96d099145bf82b71d4be36bab66",
            "max": 412,
            "min": 0,
            "orientation": "horizontal",
            "style": "IPY_MODEL_1d3dd04f3e2842caa94ddd52ea6d5cd5",
            "value": 412
          }
        },
        "f184f6e970b2406286246670d00b6e2a": {
          "model_module": "@jupyter-widgets/controls",
          "model_name": "HTMLModel",
          "model_module_version": "1.5.0",
          "state": {
            "_dom_classes": [],
            "_model_module": "@jupyter-widgets/controls",
            "_model_module_version": "1.5.0",
            "_model_name": "HTMLModel",
            "_view_count": null,
            "_view_module": "@jupyter-widgets/controls",
            "_view_module_version": "1.5.0",
            "_view_name": "HTMLView",
            "description": "",
            "description_tooltip": null,
            "layout": "IPY_MODEL_a6afcc2f2e374e6d91c4be73f35928cc",
            "placeholder": "​",
            "style": "IPY_MODEL_35780a03240e4e20b00747f02a04b01d",
            "value": " 412/412 [00:00&lt;00:00, 23.0kB/s]"
          }
        },
        "0404b522d7064df88eded3efede8a508": {
          "model_module": "@jupyter-widgets/base",
          "model_name": "LayoutModel",
          "model_module_version": "1.2.0",
          "state": {
            "_model_module": "@jupyter-widgets/base",
            "_model_module_version": "1.2.0",
            "_model_name": "LayoutModel",
            "_view_count": null,
            "_view_module": "@jupyter-widgets/base",
            "_view_module_version": "1.2.0",
            "_view_name": "LayoutView",
            "align_content": null,
            "align_items": null,
            "align_self": null,
            "border": null,
            "bottom": null,
            "display": null,
            "flex": null,
            "flex_flow": null,
            "grid_area": null,
            "grid_auto_columns": null,
            "grid_auto_flow": null,
            "grid_auto_rows": null,
            "grid_column": null,
            "grid_gap": null,
            "grid_row": null,
            "grid_template_areas": null,
            "grid_template_columns": null,
            "grid_template_rows": null,
            "height": null,
            "justify_content": null,
            "justify_items": null,
            "left": null,
            "margin": null,
            "max_height": null,
            "max_width": null,
            "min_height": null,
            "min_width": null,
            "object_fit": null,
            "object_position": null,
            "order": null,
            "overflow": null,
            "overflow_x": null,
            "overflow_y": null,
            "padding": null,
            "right": null,
            "top": null,
            "visibility": null,
            "width": null
          }
        },
        "60b54f478f71456c8d4f6951cfc09fff": {
          "model_module": "@jupyter-widgets/base",
          "model_name": "LayoutModel",
          "model_module_version": "1.2.0",
          "state": {
            "_model_module": "@jupyter-widgets/base",
            "_model_module_version": "1.2.0",
            "_model_name": "LayoutModel",
            "_view_count": null,
            "_view_module": "@jupyter-widgets/base",
            "_view_module_version": "1.2.0",
            "_view_name": "LayoutView",
            "align_content": null,
            "align_items": null,
            "align_self": null,
            "border": null,
            "bottom": null,
            "display": null,
            "flex": null,
            "flex_flow": null,
            "grid_area": null,
            "grid_auto_columns": null,
            "grid_auto_flow": null,
            "grid_auto_rows": null,
            "grid_column": null,
            "grid_gap": null,
            "grid_row": null,
            "grid_template_areas": null,
            "grid_template_columns": null,
            "grid_template_rows": null,
            "height": null,
            "justify_content": null,
            "justify_items": null,
            "left": null,
            "margin": null,
            "max_height": null,
            "max_width": null,
            "min_height": null,
            "min_width": null,
            "object_fit": null,
            "object_position": null,
            "order": null,
            "overflow": null,
            "overflow_x": null,
            "overflow_y": null,
            "padding": null,
            "right": null,
            "top": null,
            "visibility": null,
            "width": null
          }
        },
        "5c356d358f5b4cb088c6e29324b6f010": {
          "model_module": "@jupyter-widgets/controls",
          "model_name": "DescriptionStyleModel",
          "model_module_version": "1.5.0",
          "state": {
            "_model_module": "@jupyter-widgets/controls",
            "_model_module_version": "1.5.0",
            "_model_name": "DescriptionStyleModel",
            "_view_count": null,
            "_view_module": "@jupyter-widgets/base",
            "_view_module_version": "1.2.0",
            "_view_name": "StyleView",
            "description_width": ""
          }
        },
        "e55bd96d099145bf82b71d4be36bab66": {
          "model_module": "@jupyter-widgets/base",
          "model_name": "LayoutModel",
          "model_module_version": "1.2.0",
          "state": {
            "_model_module": "@jupyter-widgets/base",
            "_model_module_version": "1.2.0",
            "_model_name": "LayoutModel",
            "_view_count": null,
            "_view_module": "@jupyter-widgets/base",
            "_view_module_version": "1.2.0",
            "_view_name": "LayoutView",
            "align_content": null,
            "align_items": null,
            "align_self": null,
            "border": null,
            "bottom": null,
            "display": null,
            "flex": null,
            "flex_flow": null,
            "grid_area": null,
            "grid_auto_columns": null,
            "grid_auto_flow": null,
            "grid_auto_rows": null,
            "grid_column": null,
            "grid_gap": null,
            "grid_row": null,
            "grid_template_areas": null,
            "grid_template_columns": null,
            "grid_template_rows": null,
            "height": null,
            "justify_content": null,
            "justify_items": null,
            "left": null,
            "margin": null,
            "max_height": null,
            "max_width": null,
            "min_height": null,
            "min_width": null,
            "object_fit": null,
            "object_position": null,
            "order": null,
            "overflow": null,
            "overflow_x": null,
            "overflow_y": null,
            "padding": null,
            "right": null,
            "top": null,
            "visibility": null,
            "width": null
          }
        },
        "1d3dd04f3e2842caa94ddd52ea6d5cd5": {
          "model_module": "@jupyter-widgets/controls",
          "model_name": "ProgressStyleModel",
          "model_module_version": "1.5.0",
          "state": {
            "_model_module": "@jupyter-widgets/controls",
            "_model_module_version": "1.5.0",
            "_model_name": "ProgressStyleModel",
            "_view_count": null,
            "_view_module": "@jupyter-widgets/base",
            "_view_module_version": "1.2.0",
            "_view_name": "StyleView",
            "bar_color": null,
            "description_width": ""
          }
        },
        "a6afcc2f2e374e6d91c4be73f35928cc": {
          "model_module": "@jupyter-widgets/base",
          "model_name": "LayoutModel",
          "model_module_version": "1.2.0",
          "state": {
            "_model_module": "@jupyter-widgets/base",
            "_model_module_version": "1.2.0",
            "_model_name": "LayoutModel",
            "_view_count": null,
            "_view_module": "@jupyter-widgets/base",
            "_view_module_version": "1.2.0",
            "_view_name": "LayoutView",
            "align_content": null,
            "align_items": null,
            "align_self": null,
            "border": null,
            "bottom": null,
            "display": null,
            "flex": null,
            "flex_flow": null,
            "grid_area": null,
            "grid_auto_columns": null,
            "grid_auto_flow": null,
            "grid_auto_rows": null,
            "grid_column": null,
            "grid_gap": null,
            "grid_row": null,
            "grid_template_areas": null,
            "grid_template_columns": null,
            "grid_template_rows": null,
            "height": null,
            "justify_content": null,
            "justify_items": null,
            "left": null,
            "margin": null,
            "max_height": null,
            "max_width": null,
            "min_height": null,
            "min_width": null,
            "object_fit": null,
            "object_position": null,
            "order": null,
            "overflow": null,
            "overflow_x": null,
            "overflow_y": null,
            "padding": null,
            "right": null,
            "top": null,
            "visibility": null,
            "width": null
          }
        },
        "35780a03240e4e20b00747f02a04b01d": {
          "model_module": "@jupyter-widgets/controls",
          "model_name": "DescriptionStyleModel",
          "model_module_version": "1.5.0",
          "state": {
            "_model_module": "@jupyter-widgets/controls",
            "_model_module_version": "1.5.0",
            "_model_name": "DescriptionStyleModel",
            "_view_count": null,
            "_view_module": "@jupyter-widgets/base",
            "_view_module_version": "1.2.0",
            "_view_name": "StyleView",
            "description_width": ""
          }
        },
        "9ea55d6f3fb74c96b0381466d42a8c65": {
          "model_module": "@jupyter-widgets/controls",
          "model_name": "HBoxModel",
          "model_module_version": "1.5.0",
          "state": {
            "_dom_classes": [],
            "_model_module": "@jupyter-widgets/controls",
            "_model_module_version": "1.5.0",
            "_model_name": "HBoxModel",
            "_view_count": null,
            "_view_module": "@jupyter-widgets/controls",
            "_view_module_version": "1.5.0",
            "_view_name": "HBoxView",
            "box_style": "",
            "children": [
              "IPY_MODEL_ad6ee6c368064eb1ad4f31a74dc94142",
              "IPY_MODEL_81d578e647f34bccb8b2f1070b1d8270",
              "IPY_MODEL_7c450d5564b54ebfb356e11a0e8fe275"
            ],
            "layout": "IPY_MODEL_f5f39683ecdb4262a7f60f70d717870a"
          }
        },
        "ad6ee6c368064eb1ad4f31a74dc94142": {
          "model_module": "@jupyter-widgets/controls",
          "model_name": "HTMLModel",
          "model_module_version": "1.5.0",
          "state": {
            "_dom_classes": [],
            "_model_module": "@jupyter-widgets/controls",
            "_model_module_version": "1.5.0",
            "_model_name": "HTMLModel",
            "_view_count": null,
            "_view_module": "@jupyter-widgets/controls",
            "_view_module_version": "1.5.0",
            "_view_name": "HTMLView",
            "description": "",
            "description_tooltip": null,
            "layout": "IPY_MODEL_4ce936ea3b964c7ca0b7f30ed4fcbdde",
            "placeholder": "​",
            "style": "IPY_MODEL_d0de2a45f82a4c658e4da756b86c5e7e",
            "value": "Downloading (…)tencepiece.bpe.model: 100%"
          }
        },
        "81d578e647f34bccb8b2f1070b1d8270": {
          "model_module": "@jupyter-widgets/controls",
          "model_name": "FloatProgressModel",
          "model_module_version": "1.5.0",
          "state": {
            "_dom_classes": [],
            "_model_module": "@jupyter-widgets/controls",
            "_model_module_version": "1.5.0",
            "_model_name": "FloatProgressModel",
            "_view_count": null,
            "_view_module": "@jupyter-widgets/controls",
            "_view_module_version": "1.5.0",
            "_view_name": "ProgressView",
            "bar_style": "success",
            "description": "",
            "description_tooltip": null,
            "layout": "IPY_MODEL_8e43e60544ce42268281d6d9926d88c1",
            "max": 5069051,
            "min": 0,
            "orientation": "horizontal",
            "style": "IPY_MODEL_7746c9d17017410fbd46a41940fae285",
            "value": 5069051
          }
        },
        "7c450d5564b54ebfb356e11a0e8fe275": {
          "model_module": "@jupyter-widgets/controls",
          "model_name": "HTMLModel",
          "model_module_version": "1.5.0",
          "state": {
            "_dom_classes": [],
            "_model_module": "@jupyter-widgets/controls",
            "_model_module_version": "1.5.0",
            "_model_name": "HTMLModel",
            "_view_count": null,
            "_view_module": "@jupyter-widgets/controls",
            "_view_module_version": "1.5.0",
            "_view_name": "HTMLView",
            "description": "",
            "description_tooltip": null,
            "layout": "IPY_MODEL_c1d3e3a7539f421fad0c9bd17dcf6e68",
            "placeholder": "​",
            "style": "IPY_MODEL_02a89810dd9e4a7fa03c3e13386e8a59",
            "value": " 5.07M/5.07M [00:00&lt;00:00, 9.83MB/s]"
          }
        },
        "f5f39683ecdb4262a7f60f70d717870a": {
          "model_module": "@jupyter-widgets/base",
          "model_name": "LayoutModel",
          "model_module_version": "1.2.0",
          "state": {
            "_model_module": "@jupyter-widgets/base",
            "_model_module_version": "1.2.0",
            "_model_name": "LayoutModel",
            "_view_count": null,
            "_view_module": "@jupyter-widgets/base",
            "_view_module_version": "1.2.0",
            "_view_name": "LayoutView",
            "align_content": null,
            "align_items": null,
            "align_self": null,
            "border": null,
            "bottom": null,
            "display": null,
            "flex": null,
            "flex_flow": null,
            "grid_area": null,
            "grid_auto_columns": null,
            "grid_auto_flow": null,
            "grid_auto_rows": null,
            "grid_column": null,
            "grid_gap": null,
            "grid_row": null,
            "grid_template_areas": null,
            "grid_template_columns": null,
            "grid_template_rows": null,
            "height": null,
            "justify_content": null,
            "justify_items": null,
            "left": null,
            "margin": null,
            "max_height": null,
            "max_width": null,
            "min_height": null,
            "min_width": null,
            "object_fit": null,
            "object_position": null,
            "order": null,
            "overflow": null,
            "overflow_x": null,
            "overflow_y": null,
            "padding": null,
            "right": null,
            "top": null,
            "visibility": null,
            "width": null
          }
        },
        "4ce936ea3b964c7ca0b7f30ed4fcbdde": {
          "model_module": "@jupyter-widgets/base",
          "model_name": "LayoutModel",
          "model_module_version": "1.2.0",
          "state": {
            "_model_module": "@jupyter-widgets/base",
            "_model_module_version": "1.2.0",
            "_model_name": "LayoutModel",
            "_view_count": null,
            "_view_module": "@jupyter-widgets/base",
            "_view_module_version": "1.2.0",
            "_view_name": "LayoutView",
            "align_content": null,
            "align_items": null,
            "align_self": null,
            "border": null,
            "bottom": null,
            "display": null,
            "flex": null,
            "flex_flow": null,
            "grid_area": null,
            "grid_auto_columns": null,
            "grid_auto_flow": null,
            "grid_auto_rows": null,
            "grid_column": null,
            "grid_gap": null,
            "grid_row": null,
            "grid_template_areas": null,
            "grid_template_columns": null,
            "grid_template_rows": null,
            "height": null,
            "justify_content": null,
            "justify_items": null,
            "left": null,
            "margin": null,
            "max_height": null,
            "max_width": null,
            "min_height": null,
            "min_width": null,
            "object_fit": null,
            "object_position": null,
            "order": null,
            "overflow": null,
            "overflow_x": null,
            "overflow_y": null,
            "padding": null,
            "right": null,
            "top": null,
            "visibility": null,
            "width": null
          }
        },
        "d0de2a45f82a4c658e4da756b86c5e7e": {
          "model_module": "@jupyter-widgets/controls",
          "model_name": "DescriptionStyleModel",
          "model_module_version": "1.5.0",
          "state": {
            "_model_module": "@jupyter-widgets/controls",
            "_model_module_version": "1.5.0",
            "_model_name": "DescriptionStyleModel",
            "_view_count": null,
            "_view_module": "@jupyter-widgets/base",
            "_view_module_version": "1.2.0",
            "_view_name": "StyleView",
            "description_width": ""
          }
        },
        "8e43e60544ce42268281d6d9926d88c1": {
          "model_module": "@jupyter-widgets/base",
          "model_name": "LayoutModel",
          "model_module_version": "1.2.0",
          "state": {
            "_model_module": "@jupyter-widgets/base",
            "_model_module_version": "1.2.0",
            "_model_name": "LayoutModel",
            "_view_count": null,
            "_view_module": "@jupyter-widgets/base",
            "_view_module_version": "1.2.0",
            "_view_name": "LayoutView",
            "align_content": null,
            "align_items": null,
            "align_self": null,
            "border": null,
            "bottom": null,
            "display": null,
            "flex": null,
            "flex_flow": null,
            "grid_area": null,
            "grid_auto_columns": null,
            "grid_auto_flow": null,
            "grid_auto_rows": null,
            "grid_column": null,
            "grid_gap": null,
            "grid_row": null,
            "grid_template_areas": null,
            "grid_template_columns": null,
            "grid_template_rows": null,
            "height": null,
            "justify_content": null,
            "justify_items": null,
            "left": null,
            "margin": null,
            "max_height": null,
            "max_width": null,
            "min_height": null,
            "min_width": null,
            "object_fit": null,
            "object_position": null,
            "order": null,
            "overflow": null,
            "overflow_x": null,
            "overflow_y": null,
            "padding": null,
            "right": null,
            "top": null,
            "visibility": null,
            "width": null
          }
        },
        "7746c9d17017410fbd46a41940fae285": {
          "model_module": "@jupyter-widgets/controls",
          "model_name": "ProgressStyleModel",
          "model_module_version": "1.5.0",
          "state": {
            "_model_module": "@jupyter-widgets/controls",
            "_model_module_version": "1.5.0",
            "_model_name": "ProgressStyleModel",
            "_view_count": null,
            "_view_module": "@jupyter-widgets/base",
            "_view_module_version": "1.2.0",
            "_view_name": "StyleView",
            "bar_color": null,
            "description_width": ""
          }
        },
        "c1d3e3a7539f421fad0c9bd17dcf6e68": {
          "model_module": "@jupyter-widgets/base",
          "model_name": "LayoutModel",
          "model_module_version": "1.2.0",
          "state": {
            "_model_module": "@jupyter-widgets/base",
            "_model_module_version": "1.2.0",
            "_model_name": "LayoutModel",
            "_view_count": null,
            "_view_module": "@jupyter-widgets/base",
            "_view_module_version": "1.2.0",
            "_view_name": "LayoutView",
            "align_content": null,
            "align_items": null,
            "align_self": null,
            "border": null,
            "bottom": null,
            "display": null,
            "flex": null,
            "flex_flow": null,
            "grid_area": null,
            "grid_auto_columns": null,
            "grid_auto_flow": null,
            "grid_auto_rows": null,
            "grid_column": null,
            "grid_gap": null,
            "grid_row": null,
            "grid_template_areas": null,
            "grid_template_columns": null,
            "grid_template_rows": null,
            "height": null,
            "justify_content": null,
            "justify_items": null,
            "left": null,
            "margin": null,
            "max_height": null,
            "max_width": null,
            "min_height": null,
            "min_width": null,
            "object_fit": null,
            "object_position": null,
            "order": null,
            "overflow": null,
            "overflow_x": null,
            "overflow_y": null,
            "padding": null,
            "right": null,
            "top": null,
            "visibility": null,
            "width": null
          }
        },
        "02a89810dd9e4a7fa03c3e13386e8a59": {
          "model_module": "@jupyter-widgets/controls",
          "model_name": "DescriptionStyleModel",
          "model_module_version": "1.5.0",
          "state": {
            "_model_module": "@jupyter-widgets/controls",
            "_model_module_version": "1.5.0",
            "_model_name": "DescriptionStyleModel",
            "_view_count": null,
            "_view_module": "@jupyter-widgets/base",
            "_view_module_version": "1.2.0",
            "_view_name": "StyleView",
            "description_width": ""
          }
        },
        "ba443d7e58b34e9cadeefa7aa3bdd839": {
          "model_module": "@jupyter-widgets/controls",
          "model_name": "HBoxModel",
          "model_module_version": "1.5.0",
          "state": {
            "_dom_classes": [],
            "_model_module": "@jupyter-widgets/controls",
            "_model_module_version": "1.5.0",
            "_model_name": "HBoxModel",
            "_view_count": null,
            "_view_module": "@jupyter-widgets/controls",
            "_view_module_version": "1.5.0",
            "_view_name": "HBoxView",
            "box_style": "",
            "children": [
              "IPY_MODEL_64cc5e9caf08483f9428eea941ff855e",
              "IPY_MODEL_d3786afda65d48ae84f0015d09601559",
              "IPY_MODEL_a5b0034121b642f09f804784c2a6f6f4"
            ],
            "layout": "IPY_MODEL_161969fd9b774f8ea27835fd2506b965"
          }
        },
        "64cc5e9caf08483f9428eea941ff855e": {
          "model_module": "@jupyter-widgets/controls",
          "model_name": "HTMLModel",
          "model_module_version": "1.5.0",
          "state": {
            "_dom_classes": [],
            "_model_module": "@jupyter-widgets/controls",
            "_model_module_version": "1.5.0",
            "_model_name": "HTMLModel",
            "_view_count": null,
            "_view_module": "@jupyter-widgets/controls",
            "_view_module_version": "1.5.0",
            "_view_name": "HTMLView",
            "description": "",
            "description_tooltip": null,
            "layout": "IPY_MODEL_7a4d4bc455bf45939cb4adb403efa482",
            "placeholder": "​",
            "style": "IPY_MODEL_22abda773c574e3ba93f19f59a12c5ea",
            "value": "Downloading tokenizer.json: 100%"
          }
        },
        "d3786afda65d48ae84f0015d09601559": {
          "model_module": "@jupyter-widgets/controls",
          "model_name": "FloatProgressModel",
          "model_module_version": "1.5.0",
          "state": {
            "_dom_classes": [],
            "_model_module": "@jupyter-widgets/controls",
            "_model_module_version": "1.5.0",
            "_model_name": "FloatProgressModel",
            "_view_count": null,
            "_view_module": "@jupyter-widgets/controls",
            "_view_module_version": "1.5.0",
            "_view_name": "ProgressView",
            "bar_style": "success",
            "description": "",
            "description_tooltip": null,
            "layout": "IPY_MODEL_354f6110c93240eb9ed4d12447a32fe7",
            "max": 17082758,
            "min": 0,
            "orientation": "horizontal",
            "style": "IPY_MODEL_10668fbb63ac41eeaee1d98fedc866df",
            "value": 17082758
          }
        },
        "a5b0034121b642f09f804784c2a6f6f4": {
          "model_module": "@jupyter-widgets/controls",
          "model_name": "HTMLModel",
          "model_module_version": "1.5.0",
          "state": {
            "_dom_classes": [],
            "_model_module": "@jupyter-widgets/controls",
            "_model_module_version": "1.5.0",
            "_model_name": "HTMLModel",
            "_view_count": null,
            "_view_module": "@jupyter-widgets/controls",
            "_view_module_version": "1.5.0",
            "_view_name": "HTMLView",
            "description": "",
            "description_tooltip": null,
            "layout": "IPY_MODEL_558eb126f35443c4ac8e932e4efaf6f7",
            "placeholder": "​",
            "style": "IPY_MODEL_4f2aecf332dc4da1ac55acd4cbb336d6",
            "value": " 17.1M/17.1M [00:00&lt;00:00, 73.5MB/s]"
          }
        },
        "161969fd9b774f8ea27835fd2506b965": {
          "model_module": "@jupyter-widgets/base",
          "model_name": "LayoutModel",
          "model_module_version": "1.2.0",
          "state": {
            "_model_module": "@jupyter-widgets/base",
            "_model_module_version": "1.2.0",
            "_model_name": "LayoutModel",
            "_view_count": null,
            "_view_module": "@jupyter-widgets/base",
            "_view_module_version": "1.2.0",
            "_view_name": "LayoutView",
            "align_content": null,
            "align_items": null,
            "align_self": null,
            "border": null,
            "bottom": null,
            "display": null,
            "flex": null,
            "flex_flow": null,
            "grid_area": null,
            "grid_auto_columns": null,
            "grid_auto_flow": null,
            "grid_auto_rows": null,
            "grid_column": null,
            "grid_gap": null,
            "grid_row": null,
            "grid_template_areas": null,
            "grid_template_columns": null,
            "grid_template_rows": null,
            "height": null,
            "justify_content": null,
            "justify_items": null,
            "left": null,
            "margin": null,
            "max_height": null,
            "max_width": null,
            "min_height": null,
            "min_width": null,
            "object_fit": null,
            "object_position": null,
            "order": null,
            "overflow": null,
            "overflow_x": null,
            "overflow_y": null,
            "padding": null,
            "right": null,
            "top": null,
            "visibility": null,
            "width": null
          }
        },
        "7a4d4bc455bf45939cb4adb403efa482": {
          "model_module": "@jupyter-widgets/base",
          "model_name": "LayoutModel",
          "model_module_version": "1.2.0",
          "state": {
            "_model_module": "@jupyter-widgets/base",
            "_model_module_version": "1.2.0",
            "_model_name": "LayoutModel",
            "_view_count": null,
            "_view_module": "@jupyter-widgets/base",
            "_view_module_version": "1.2.0",
            "_view_name": "LayoutView",
            "align_content": null,
            "align_items": null,
            "align_self": null,
            "border": null,
            "bottom": null,
            "display": null,
            "flex": null,
            "flex_flow": null,
            "grid_area": null,
            "grid_auto_columns": null,
            "grid_auto_flow": null,
            "grid_auto_rows": null,
            "grid_column": null,
            "grid_gap": null,
            "grid_row": null,
            "grid_template_areas": null,
            "grid_template_columns": null,
            "grid_template_rows": null,
            "height": null,
            "justify_content": null,
            "justify_items": null,
            "left": null,
            "margin": null,
            "max_height": null,
            "max_width": null,
            "min_height": null,
            "min_width": null,
            "object_fit": null,
            "object_position": null,
            "order": null,
            "overflow": null,
            "overflow_x": null,
            "overflow_y": null,
            "padding": null,
            "right": null,
            "top": null,
            "visibility": null,
            "width": null
          }
        },
        "22abda773c574e3ba93f19f59a12c5ea": {
          "model_module": "@jupyter-widgets/controls",
          "model_name": "DescriptionStyleModel",
          "model_module_version": "1.5.0",
          "state": {
            "_model_module": "@jupyter-widgets/controls",
            "_model_module_version": "1.5.0",
            "_model_name": "DescriptionStyleModel",
            "_view_count": null,
            "_view_module": "@jupyter-widgets/base",
            "_view_module_version": "1.2.0",
            "_view_name": "StyleView",
            "description_width": ""
          }
        },
        "354f6110c93240eb9ed4d12447a32fe7": {
          "model_module": "@jupyter-widgets/base",
          "model_name": "LayoutModel",
          "model_module_version": "1.2.0",
          "state": {
            "_model_module": "@jupyter-widgets/base",
            "_model_module_version": "1.2.0",
            "_model_name": "LayoutModel",
            "_view_count": null,
            "_view_module": "@jupyter-widgets/base",
            "_view_module_version": "1.2.0",
            "_view_name": "LayoutView",
            "align_content": null,
            "align_items": null,
            "align_self": null,
            "border": null,
            "bottom": null,
            "display": null,
            "flex": null,
            "flex_flow": null,
            "grid_area": null,
            "grid_auto_columns": null,
            "grid_auto_flow": null,
            "grid_auto_rows": null,
            "grid_column": null,
            "grid_gap": null,
            "grid_row": null,
            "grid_template_areas": null,
            "grid_template_columns": null,
            "grid_template_rows": null,
            "height": null,
            "justify_content": null,
            "justify_items": null,
            "left": null,
            "margin": null,
            "max_height": null,
            "max_width": null,
            "min_height": null,
            "min_width": null,
            "object_fit": null,
            "object_position": null,
            "order": null,
            "overflow": null,
            "overflow_x": null,
            "overflow_y": null,
            "padding": null,
            "right": null,
            "top": null,
            "visibility": null,
            "width": null
          }
        },
        "10668fbb63ac41eeaee1d98fedc866df": {
          "model_module": "@jupyter-widgets/controls",
          "model_name": "ProgressStyleModel",
          "model_module_version": "1.5.0",
          "state": {
            "_model_module": "@jupyter-widgets/controls",
            "_model_module_version": "1.5.0",
            "_model_name": "ProgressStyleModel",
            "_view_count": null,
            "_view_module": "@jupyter-widgets/base",
            "_view_module_version": "1.2.0",
            "_view_name": "StyleView",
            "bar_color": null,
            "description_width": ""
          }
        },
        "558eb126f35443c4ac8e932e4efaf6f7": {
          "model_module": "@jupyter-widgets/base",
          "model_name": "LayoutModel",
          "model_module_version": "1.2.0",
          "state": {
            "_model_module": "@jupyter-widgets/base",
            "_model_module_version": "1.2.0",
            "_model_name": "LayoutModel",
            "_view_count": null,
            "_view_module": "@jupyter-widgets/base",
            "_view_module_version": "1.2.0",
            "_view_name": "LayoutView",
            "align_content": null,
            "align_items": null,
            "align_self": null,
            "border": null,
            "bottom": null,
            "display": null,
            "flex": null,
            "flex_flow": null,
            "grid_area": null,
            "grid_auto_columns": null,
            "grid_auto_flow": null,
            "grid_auto_rows": null,
            "grid_column": null,
            "grid_gap": null,
            "grid_row": null,
            "grid_template_areas": null,
            "grid_template_columns": null,
            "grid_template_rows": null,
            "height": null,
            "justify_content": null,
            "justify_items": null,
            "left": null,
            "margin": null,
            "max_height": null,
            "max_width": null,
            "min_height": null,
            "min_width": null,
            "object_fit": null,
            "object_position": null,
            "order": null,
            "overflow": null,
            "overflow_x": null,
            "overflow_y": null,
            "padding": null,
            "right": null,
            "top": null,
            "visibility": null,
            "width": null
          }
        },
        "4f2aecf332dc4da1ac55acd4cbb336d6": {
          "model_module": "@jupyter-widgets/controls",
          "model_name": "DescriptionStyleModel",
          "model_module_version": "1.5.0",
          "state": {
            "_model_module": "@jupyter-widgets/controls",
            "_model_module_version": "1.5.0",
            "_model_name": "DescriptionStyleModel",
            "_view_count": null,
            "_view_module": "@jupyter-widgets/base",
            "_view_module_version": "1.2.0",
            "_view_name": "StyleView",
            "description_width": ""
          }
        },
        "1b27e5079165494c83cbd3de98f46068": {
          "model_module": "@jupyter-widgets/controls",
          "model_name": "HBoxModel",
          "model_module_version": "1.5.0",
          "state": {
            "_dom_classes": [],
            "_model_module": "@jupyter-widgets/controls",
            "_model_module_version": "1.5.0",
            "_model_name": "HBoxModel",
            "_view_count": null,
            "_view_module": "@jupyter-widgets/controls",
            "_view_module_version": "1.5.0",
            "_view_name": "HBoxView",
            "box_style": "",
            "children": [
              "IPY_MODEL_04b4719c180241c1908ef811d98365ec",
              "IPY_MODEL_c7b67465d48a4987b3fd004e4e2d990c",
              "IPY_MODEL_cf699be1943d4f32855d35f3d0b13eb2"
            ],
            "layout": "IPY_MODEL_038cd7bf196944a997c865c14ffb34c6"
          }
        },
        "04b4719c180241c1908ef811d98365ec": {
          "model_module": "@jupyter-widgets/controls",
          "model_name": "HTMLModel",
          "model_module_version": "1.5.0",
          "state": {
            "_dom_classes": [],
            "_model_module": "@jupyter-widgets/controls",
            "_model_module_version": "1.5.0",
            "_model_name": "HTMLModel",
            "_view_count": null,
            "_view_module": "@jupyter-widgets/controls",
            "_view_module_version": "1.5.0",
            "_view_name": "HTMLView",
            "description": "",
            "description_tooltip": null,
            "layout": "IPY_MODEL_33af6498b1cc43028e6c25357fe86bc6",
            "placeholder": "​",
            "style": "IPY_MODEL_97e1f0a63f224efcab8ac35919cc219a",
            "value": "Downloading (…)cial_tokens_map.json: 100%"
          }
        },
        "c7b67465d48a4987b3fd004e4e2d990c": {
          "model_module": "@jupyter-widgets/controls",
          "model_name": "FloatProgressModel",
          "model_module_version": "1.5.0",
          "state": {
            "_dom_classes": [],
            "_model_module": "@jupyter-widgets/controls",
            "_model_module_version": "1.5.0",
            "_model_name": "FloatProgressModel",
            "_view_count": null,
            "_view_module": "@jupyter-widgets/controls",
            "_view_module_version": "1.5.0",
            "_view_name": "ProgressView",
            "bar_style": "success",
            "description": "",
            "description_tooltip": null,
            "layout": "IPY_MODEL_f63a138ff14e4badb8ee94c7ca75e387",
            "max": 239,
            "min": 0,
            "orientation": "horizontal",
            "style": "IPY_MODEL_a7660c421fc94d58a163560f67928f87",
            "value": 239
          }
        },
        "cf699be1943d4f32855d35f3d0b13eb2": {
          "model_module": "@jupyter-widgets/controls",
          "model_name": "HTMLModel",
          "model_module_version": "1.5.0",
          "state": {
            "_dom_classes": [],
            "_model_module": "@jupyter-widgets/controls",
            "_model_module_version": "1.5.0",
            "_model_name": "HTMLModel",
            "_view_count": null,
            "_view_module": "@jupyter-widgets/controls",
            "_view_module_version": "1.5.0",
            "_view_name": "HTMLView",
            "description": "",
            "description_tooltip": null,
            "layout": "IPY_MODEL_498da7a8d6bb48a4b8a700e5810ae181",
            "placeholder": "​",
            "style": "IPY_MODEL_8b283307d52049bc8f3e4305d4579f0f",
            "value": " 239/239 [00:00&lt;00:00, 13.8kB/s]"
          }
        },
        "038cd7bf196944a997c865c14ffb34c6": {
          "model_module": "@jupyter-widgets/base",
          "model_name": "LayoutModel",
          "model_module_version": "1.2.0",
          "state": {
            "_model_module": "@jupyter-widgets/base",
            "_model_module_version": "1.2.0",
            "_model_name": "LayoutModel",
            "_view_count": null,
            "_view_module": "@jupyter-widgets/base",
            "_view_module_version": "1.2.0",
            "_view_name": "LayoutView",
            "align_content": null,
            "align_items": null,
            "align_self": null,
            "border": null,
            "bottom": null,
            "display": null,
            "flex": null,
            "flex_flow": null,
            "grid_area": null,
            "grid_auto_columns": null,
            "grid_auto_flow": null,
            "grid_auto_rows": null,
            "grid_column": null,
            "grid_gap": null,
            "grid_row": null,
            "grid_template_areas": null,
            "grid_template_columns": null,
            "grid_template_rows": null,
            "height": null,
            "justify_content": null,
            "justify_items": null,
            "left": null,
            "margin": null,
            "max_height": null,
            "max_width": null,
            "min_height": null,
            "min_width": null,
            "object_fit": null,
            "object_position": null,
            "order": null,
            "overflow": null,
            "overflow_x": null,
            "overflow_y": null,
            "padding": null,
            "right": null,
            "top": null,
            "visibility": null,
            "width": null
          }
        },
        "33af6498b1cc43028e6c25357fe86bc6": {
          "model_module": "@jupyter-widgets/base",
          "model_name": "LayoutModel",
          "model_module_version": "1.2.0",
          "state": {
            "_model_module": "@jupyter-widgets/base",
            "_model_module_version": "1.2.0",
            "_model_name": "LayoutModel",
            "_view_count": null,
            "_view_module": "@jupyter-widgets/base",
            "_view_module_version": "1.2.0",
            "_view_name": "LayoutView",
            "align_content": null,
            "align_items": null,
            "align_self": null,
            "border": null,
            "bottom": null,
            "display": null,
            "flex": null,
            "flex_flow": null,
            "grid_area": null,
            "grid_auto_columns": null,
            "grid_auto_flow": null,
            "grid_auto_rows": null,
            "grid_column": null,
            "grid_gap": null,
            "grid_row": null,
            "grid_template_areas": null,
            "grid_template_columns": null,
            "grid_template_rows": null,
            "height": null,
            "justify_content": null,
            "justify_items": null,
            "left": null,
            "margin": null,
            "max_height": null,
            "max_width": null,
            "min_height": null,
            "min_width": null,
            "object_fit": null,
            "object_position": null,
            "order": null,
            "overflow": null,
            "overflow_x": null,
            "overflow_y": null,
            "padding": null,
            "right": null,
            "top": null,
            "visibility": null,
            "width": null
          }
        },
        "97e1f0a63f224efcab8ac35919cc219a": {
          "model_module": "@jupyter-widgets/controls",
          "model_name": "DescriptionStyleModel",
          "model_module_version": "1.5.0",
          "state": {
            "_model_module": "@jupyter-widgets/controls",
            "_model_module_version": "1.5.0",
            "_model_name": "DescriptionStyleModel",
            "_view_count": null,
            "_view_module": "@jupyter-widgets/base",
            "_view_module_version": "1.2.0",
            "_view_name": "StyleView",
            "description_width": ""
          }
        },
        "f63a138ff14e4badb8ee94c7ca75e387": {
          "model_module": "@jupyter-widgets/base",
          "model_name": "LayoutModel",
          "model_module_version": "1.2.0",
          "state": {
            "_model_module": "@jupyter-widgets/base",
            "_model_module_version": "1.2.0",
            "_model_name": "LayoutModel",
            "_view_count": null,
            "_view_module": "@jupyter-widgets/base",
            "_view_module_version": "1.2.0",
            "_view_name": "LayoutView",
            "align_content": null,
            "align_items": null,
            "align_self": null,
            "border": null,
            "bottom": null,
            "display": null,
            "flex": null,
            "flex_flow": null,
            "grid_area": null,
            "grid_auto_columns": null,
            "grid_auto_flow": null,
            "grid_auto_rows": null,
            "grid_column": null,
            "grid_gap": null,
            "grid_row": null,
            "grid_template_areas": null,
            "grid_template_columns": null,
            "grid_template_rows": null,
            "height": null,
            "justify_content": null,
            "justify_items": null,
            "left": null,
            "margin": null,
            "max_height": null,
            "max_width": null,
            "min_height": null,
            "min_width": null,
            "object_fit": null,
            "object_position": null,
            "order": null,
            "overflow": null,
            "overflow_x": null,
            "overflow_y": null,
            "padding": null,
            "right": null,
            "top": null,
            "visibility": null,
            "width": null
          }
        },
        "a7660c421fc94d58a163560f67928f87": {
          "model_module": "@jupyter-widgets/controls",
          "model_name": "ProgressStyleModel",
          "model_module_version": "1.5.0",
          "state": {
            "_model_module": "@jupyter-widgets/controls",
            "_model_module_version": "1.5.0",
            "_model_name": "ProgressStyleModel",
            "_view_count": null,
            "_view_module": "@jupyter-widgets/base",
            "_view_module_version": "1.2.0",
            "_view_name": "StyleView",
            "bar_color": null,
            "description_width": ""
          }
        },
        "498da7a8d6bb48a4b8a700e5810ae181": {
          "model_module": "@jupyter-widgets/base",
          "model_name": "LayoutModel",
          "model_module_version": "1.2.0",
          "state": {
            "_model_module": "@jupyter-widgets/base",
            "_model_module_version": "1.2.0",
            "_model_name": "LayoutModel",
            "_view_count": null,
            "_view_module": "@jupyter-widgets/base",
            "_view_module_version": "1.2.0",
            "_view_name": "LayoutView",
            "align_content": null,
            "align_items": null,
            "align_self": null,
            "border": null,
            "bottom": null,
            "display": null,
            "flex": null,
            "flex_flow": null,
            "grid_area": null,
            "grid_auto_columns": null,
            "grid_auto_flow": null,
            "grid_auto_rows": null,
            "grid_column": null,
            "grid_gap": null,
            "grid_row": null,
            "grid_template_areas": null,
            "grid_template_columns": null,
            "grid_template_rows": null,
            "height": null,
            "justify_content": null,
            "justify_items": null,
            "left": null,
            "margin": null,
            "max_height": null,
            "max_width": null,
            "min_height": null,
            "min_width": null,
            "object_fit": null,
            "object_position": null,
            "order": null,
            "overflow": null,
            "overflow_x": null,
            "overflow_y": null,
            "padding": null,
            "right": null,
            "top": null,
            "visibility": null,
            "width": null
          }
        },
        "8b283307d52049bc8f3e4305d4579f0f": {
          "model_module": "@jupyter-widgets/controls",
          "model_name": "DescriptionStyleModel",
          "model_module_version": "1.5.0",
          "state": {
            "_model_module": "@jupyter-widgets/controls",
            "_model_module_version": "1.5.0",
            "_model_name": "DescriptionStyleModel",
            "_view_count": null,
            "_view_module": "@jupyter-widgets/base",
            "_view_module_version": "1.2.0",
            "_view_name": "StyleView",
            "description_width": ""
          }
        },
        "9cfacacf63204b428fc7af772d22b748": {
          "model_module": "@jupyter-widgets/controls",
          "model_name": "HBoxModel",
          "model_module_version": "1.5.0",
          "state": {
            "_dom_classes": [],
            "_model_module": "@jupyter-widgets/controls",
            "_model_module_version": "1.5.0",
            "_model_name": "HBoxModel",
            "_view_count": null,
            "_view_module": "@jupyter-widgets/controls",
            "_view_module_version": "1.5.0",
            "_view_name": "HBoxView",
            "box_style": "",
            "children": [
              "IPY_MODEL_805e48d19b7f45219f953c293f073289",
              "IPY_MODEL_35eac1f28b0447749168cbe0a0a4afc7",
              "IPY_MODEL_d42d4795f59f40dea2cc82a5b2c8df1b"
            ],
            "layout": "IPY_MODEL_0fc7c34f64e4431faf86b43fc0e65bed"
          }
        },
        "805e48d19b7f45219f953c293f073289": {
          "model_module": "@jupyter-widgets/controls",
          "model_name": "HTMLModel",
          "model_module_version": "1.5.0",
          "state": {
            "_dom_classes": [],
            "_model_module": "@jupyter-widgets/controls",
            "_model_module_version": "1.5.0",
            "_model_name": "HTMLModel",
            "_view_count": null,
            "_view_module": "@jupyter-widgets/controls",
            "_view_module_version": "1.5.0",
            "_view_name": "HTMLView",
            "description": "",
            "description_tooltip": null,
            "layout": "IPY_MODEL_36cffdf41885408dac14e77c0dd9421a",
            "placeholder": "​",
            "style": "IPY_MODEL_5f21ab58b71243f7a43dce6a36e48e62",
            "value": "Downloading (…)lve/main/config.json: 100%"
          }
        },
        "35eac1f28b0447749168cbe0a0a4afc7": {
          "model_module": "@jupyter-widgets/controls",
          "model_name": "FloatProgressModel",
          "model_module_version": "1.5.0",
          "state": {
            "_dom_classes": [],
            "_model_module": "@jupyter-widgets/controls",
            "_model_module_version": "1.5.0",
            "_model_name": "FloatProgressModel",
            "_view_count": null,
            "_view_module": "@jupyter-widgets/controls",
            "_view_module_version": "1.5.0",
            "_view_name": "ProgressView",
            "bar_style": "success",
            "description": "",
            "description_tooltip": null,
            "layout": "IPY_MODEL_231b9e57befc4865a8461e2bdc9c783f",
            "max": 844,
            "min": 0,
            "orientation": "horizontal",
            "style": "IPY_MODEL_cebbfbf89b414bb6a4a12535eb499222",
            "value": 844
          }
        },
        "d42d4795f59f40dea2cc82a5b2c8df1b": {
          "model_module": "@jupyter-widgets/controls",
          "model_name": "HTMLModel",
          "model_module_version": "1.5.0",
          "state": {
            "_dom_classes": [],
            "_model_module": "@jupyter-widgets/controls",
            "_model_module_version": "1.5.0",
            "_model_name": "HTMLModel",
            "_view_count": null,
            "_view_module": "@jupyter-widgets/controls",
            "_view_module_version": "1.5.0",
            "_view_name": "HTMLView",
            "description": "",
            "description_tooltip": null,
            "layout": "IPY_MODEL_a501e16a64d044cd8d122b8c65c176b9",
            "placeholder": "​",
            "style": "IPY_MODEL_f1c10e67160142419c3ea003c87c8f7e",
            "value": " 844/844 [00:00&lt;00:00, 55.4kB/s]"
          }
        },
        "0fc7c34f64e4431faf86b43fc0e65bed": {
          "model_module": "@jupyter-widgets/base",
          "model_name": "LayoutModel",
          "model_module_version": "1.2.0",
          "state": {
            "_model_module": "@jupyter-widgets/base",
            "_model_module_version": "1.2.0",
            "_model_name": "LayoutModel",
            "_view_count": null,
            "_view_module": "@jupyter-widgets/base",
            "_view_module_version": "1.2.0",
            "_view_name": "LayoutView",
            "align_content": null,
            "align_items": null,
            "align_self": null,
            "border": null,
            "bottom": null,
            "display": null,
            "flex": null,
            "flex_flow": null,
            "grid_area": null,
            "grid_auto_columns": null,
            "grid_auto_flow": null,
            "grid_auto_rows": null,
            "grid_column": null,
            "grid_gap": null,
            "grid_row": null,
            "grid_template_areas": null,
            "grid_template_columns": null,
            "grid_template_rows": null,
            "height": null,
            "justify_content": null,
            "justify_items": null,
            "left": null,
            "margin": null,
            "max_height": null,
            "max_width": null,
            "min_height": null,
            "min_width": null,
            "object_fit": null,
            "object_position": null,
            "order": null,
            "overflow": null,
            "overflow_x": null,
            "overflow_y": null,
            "padding": null,
            "right": null,
            "top": null,
            "visibility": null,
            "width": null
          }
        },
        "36cffdf41885408dac14e77c0dd9421a": {
          "model_module": "@jupyter-widgets/base",
          "model_name": "LayoutModel",
          "model_module_version": "1.2.0",
          "state": {
            "_model_module": "@jupyter-widgets/base",
            "_model_module_version": "1.2.0",
            "_model_name": "LayoutModel",
            "_view_count": null,
            "_view_module": "@jupyter-widgets/base",
            "_view_module_version": "1.2.0",
            "_view_name": "LayoutView",
            "align_content": null,
            "align_items": null,
            "align_self": null,
            "border": null,
            "bottom": null,
            "display": null,
            "flex": null,
            "flex_flow": null,
            "grid_area": null,
            "grid_auto_columns": null,
            "grid_auto_flow": null,
            "grid_auto_rows": null,
            "grid_column": null,
            "grid_gap": null,
            "grid_row": null,
            "grid_template_areas": null,
            "grid_template_columns": null,
            "grid_template_rows": null,
            "height": null,
            "justify_content": null,
            "justify_items": null,
            "left": null,
            "margin": null,
            "max_height": null,
            "max_width": null,
            "min_height": null,
            "min_width": null,
            "object_fit": null,
            "object_position": null,
            "order": null,
            "overflow": null,
            "overflow_x": null,
            "overflow_y": null,
            "padding": null,
            "right": null,
            "top": null,
            "visibility": null,
            "width": null
          }
        },
        "5f21ab58b71243f7a43dce6a36e48e62": {
          "model_module": "@jupyter-widgets/controls",
          "model_name": "DescriptionStyleModel",
          "model_module_version": "1.5.0",
          "state": {
            "_model_module": "@jupyter-widgets/controls",
            "_model_module_version": "1.5.0",
            "_model_name": "DescriptionStyleModel",
            "_view_count": null,
            "_view_module": "@jupyter-widgets/base",
            "_view_module_version": "1.2.0",
            "_view_name": "StyleView",
            "description_width": ""
          }
        },
        "231b9e57befc4865a8461e2bdc9c783f": {
          "model_module": "@jupyter-widgets/base",
          "model_name": "LayoutModel",
          "model_module_version": "1.2.0",
          "state": {
            "_model_module": "@jupyter-widgets/base",
            "_model_module_version": "1.2.0",
            "_model_name": "LayoutModel",
            "_view_count": null,
            "_view_module": "@jupyter-widgets/base",
            "_view_module_version": "1.2.0",
            "_view_name": "LayoutView",
            "align_content": null,
            "align_items": null,
            "align_self": null,
            "border": null,
            "bottom": null,
            "display": null,
            "flex": null,
            "flex_flow": null,
            "grid_area": null,
            "grid_auto_columns": null,
            "grid_auto_flow": null,
            "grid_auto_rows": null,
            "grid_column": null,
            "grid_gap": null,
            "grid_row": null,
            "grid_template_areas": null,
            "grid_template_columns": null,
            "grid_template_rows": null,
            "height": null,
            "justify_content": null,
            "justify_items": null,
            "left": null,
            "margin": null,
            "max_height": null,
            "max_width": null,
            "min_height": null,
            "min_width": null,
            "object_fit": null,
            "object_position": null,
            "order": null,
            "overflow": null,
            "overflow_x": null,
            "overflow_y": null,
            "padding": null,
            "right": null,
            "top": null,
            "visibility": null,
            "width": null
          }
        },
        "cebbfbf89b414bb6a4a12535eb499222": {
          "model_module": "@jupyter-widgets/controls",
          "model_name": "ProgressStyleModel",
          "model_module_version": "1.5.0",
          "state": {
            "_model_module": "@jupyter-widgets/controls",
            "_model_module_version": "1.5.0",
            "_model_name": "ProgressStyleModel",
            "_view_count": null,
            "_view_module": "@jupyter-widgets/base",
            "_view_module_version": "1.2.0",
            "_view_name": "StyleView",
            "bar_color": null,
            "description_width": ""
          }
        },
        "a501e16a64d044cd8d122b8c65c176b9": {
          "model_module": "@jupyter-widgets/base",
          "model_name": "LayoutModel",
          "model_module_version": "1.2.0",
          "state": {
            "_model_module": "@jupyter-widgets/base",
            "_model_module_version": "1.2.0",
            "_model_name": "LayoutModel",
            "_view_count": null,
            "_view_module": "@jupyter-widgets/base",
            "_view_module_version": "1.2.0",
            "_view_name": "LayoutView",
            "align_content": null,
            "align_items": null,
            "align_self": null,
            "border": null,
            "bottom": null,
            "display": null,
            "flex": null,
            "flex_flow": null,
            "grid_area": null,
            "grid_auto_columns": null,
            "grid_auto_flow": null,
            "grid_auto_rows": null,
            "grid_column": null,
            "grid_gap": null,
            "grid_row": null,
            "grid_template_areas": null,
            "grid_template_columns": null,
            "grid_template_rows": null,
            "height": null,
            "justify_content": null,
            "justify_items": null,
            "left": null,
            "margin": null,
            "max_height": null,
            "max_width": null,
            "min_height": null,
            "min_width": null,
            "object_fit": null,
            "object_position": null,
            "order": null,
            "overflow": null,
            "overflow_x": null,
            "overflow_y": null,
            "padding": null,
            "right": null,
            "top": null,
            "visibility": null,
            "width": null
          }
        },
        "f1c10e67160142419c3ea003c87c8f7e": {
          "model_module": "@jupyter-widgets/controls",
          "model_name": "DescriptionStyleModel",
          "model_module_version": "1.5.0",
          "state": {
            "_model_module": "@jupyter-widgets/controls",
            "_model_module_version": "1.5.0",
            "_model_name": "DescriptionStyleModel",
            "_view_count": null,
            "_view_module": "@jupyter-widgets/base",
            "_view_module_version": "1.2.0",
            "_view_name": "StyleView",
            "description_width": ""
          }
        },
        "73356424149749659ac871c893d52dba": {
          "model_module": "@jupyter-widgets/controls",
          "model_name": "HBoxModel",
          "model_module_version": "1.5.0",
          "state": {
            "_dom_classes": [],
            "_model_module": "@jupyter-widgets/controls",
            "_model_module_version": "1.5.0",
            "_model_name": "HBoxModel",
            "_view_count": null,
            "_view_module": "@jupyter-widgets/controls",
            "_view_module_version": "1.5.0",
            "_view_name": "HBoxView",
            "box_style": "",
            "children": [
              "IPY_MODEL_184669ceeeaa4195933fc08ea87c8cdd",
              "IPY_MODEL_31066ead9ee14df08bad6838bb14d26d",
              "IPY_MODEL_09ce2c0cfc32499b8ffe1fe9e524d2dc"
            ],
            "layout": "IPY_MODEL_4d23987d920643cb87d1403e84315fa7"
          }
        },
        "184669ceeeaa4195933fc08ea87c8cdd": {
          "model_module": "@jupyter-widgets/controls",
          "model_name": "HTMLModel",
          "model_module_version": "1.5.0",
          "state": {
            "_dom_classes": [],
            "_model_module": "@jupyter-widgets/controls",
            "_model_module_version": "1.5.0",
            "_model_name": "HTMLModel",
            "_view_count": null,
            "_view_module": "@jupyter-widgets/controls",
            "_view_module_version": "1.5.0",
            "_view_name": "HTMLView",
            "description": "",
            "description_tooltip": null,
            "layout": "IPY_MODEL_42a381fdc2f8494eb14841769646c1bd",
            "placeholder": "​",
            "style": "IPY_MODEL_1c4045b91a714502a9fa496af2211703",
            "value": "Downloading pytorch_model.bin: 100%"
          }
        },
        "31066ead9ee14df08bad6838bb14d26d": {
          "model_module": "@jupyter-widgets/controls",
          "model_name": "FloatProgressModel",
          "model_module_version": "1.5.0",
          "state": {
            "_dom_classes": [],
            "_model_module": "@jupyter-widgets/controls",
            "_model_module_version": "1.5.0",
            "_model_name": "FloatProgressModel",
            "_view_count": null,
            "_view_module": "@jupyter-widgets/controls",
            "_view_module_version": "1.5.0",
            "_view_name": "ProgressView",
            "bar_style": "success",
            "description": "",
            "description_tooltip": null,
            "layout": "IPY_MODEL_d445678a9913425897de8b3f631745fb",
            "max": 1112252397,
            "min": 0,
            "orientation": "horizontal",
            "style": "IPY_MODEL_3647ed56a9b4418eb11a76b143327d70",
            "value": 1112252397
          }
        },
        "09ce2c0cfc32499b8ffe1fe9e524d2dc": {
          "model_module": "@jupyter-widgets/controls",
          "model_name": "HTMLModel",
          "model_module_version": "1.5.0",
          "state": {
            "_dom_classes": [],
            "_model_module": "@jupyter-widgets/controls",
            "_model_module_version": "1.5.0",
            "_model_name": "HTMLModel",
            "_view_count": null,
            "_view_module": "@jupyter-widgets/controls",
            "_view_module_version": "1.5.0",
            "_view_name": "HTMLView",
            "description": "",
            "description_tooltip": null,
            "layout": "IPY_MODEL_d39cfcb6c3a54f05ab8b38d201c1eac2",
            "placeholder": "​",
            "style": "IPY_MODEL_42a6c4ecead3450089f1ae0f3a3d5dd8",
            "value": " 1.11G/1.11G [00:18&lt;00:00, 60.3MB/s]"
          }
        },
        "4d23987d920643cb87d1403e84315fa7": {
          "model_module": "@jupyter-widgets/base",
          "model_name": "LayoutModel",
          "model_module_version": "1.2.0",
          "state": {
            "_model_module": "@jupyter-widgets/base",
            "_model_module_version": "1.2.0",
            "_model_name": "LayoutModel",
            "_view_count": null,
            "_view_module": "@jupyter-widgets/base",
            "_view_module_version": "1.2.0",
            "_view_name": "LayoutView",
            "align_content": null,
            "align_items": null,
            "align_self": null,
            "border": null,
            "bottom": null,
            "display": null,
            "flex": null,
            "flex_flow": null,
            "grid_area": null,
            "grid_auto_columns": null,
            "grid_auto_flow": null,
            "grid_auto_rows": null,
            "grid_column": null,
            "grid_gap": null,
            "grid_row": null,
            "grid_template_areas": null,
            "grid_template_columns": null,
            "grid_template_rows": null,
            "height": null,
            "justify_content": null,
            "justify_items": null,
            "left": null,
            "margin": null,
            "max_height": null,
            "max_width": null,
            "min_height": null,
            "min_width": null,
            "object_fit": null,
            "object_position": null,
            "order": null,
            "overflow": null,
            "overflow_x": null,
            "overflow_y": null,
            "padding": null,
            "right": null,
            "top": null,
            "visibility": null,
            "width": null
          }
        },
        "42a381fdc2f8494eb14841769646c1bd": {
          "model_module": "@jupyter-widgets/base",
          "model_name": "LayoutModel",
          "model_module_version": "1.2.0",
          "state": {
            "_model_module": "@jupyter-widgets/base",
            "_model_module_version": "1.2.0",
            "_model_name": "LayoutModel",
            "_view_count": null,
            "_view_module": "@jupyter-widgets/base",
            "_view_module_version": "1.2.0",
            "_view_name": "LayoutView",
            "align_content": null,
            "align_items": null,
            "align_self": null,
            "border": null,
            "bottom": null,
            "display": null,
            "flex": null,
            "flex_flow": null,
            "grid_area": null,
            "grid_auto_columns": null,
            "grid_auto_flow": null,
            "grid_auto_rows": null,
            "grid_column": null,
            "grid_gap": null,
            "grid_row": null,
            "grid_template_areas": null,
            "grid_template_columns": null,
            "grid_template_rows": null,
            "height": null,
            "justify_content": null,
            "justify_items": null,
            "left": null,
            "margin": null,
            "max_height": null,
            "max_width": null,
            "min_height": null,
            "min_width": null,
            "object_fit": null,
            "object_position": null,
            "order": null,
            "overflow": null,
            "overflow_x": null,
            "overflow_y": null,
            "padding": null,
            "right": null,
            "top": null,
            "visibility": null,
            "width": null
          }
        },
        "1c4045b91a714502a9fa496af2211703": {
          "model_module": "@jupyter-widgets/controls",
          "model_name": "DescriptionStyleModel",
          "model_module_version": "1.5.0",
          "state": {
            "_model_module": "@jupyter-widgets/controls",
            "_model_module_version": "1.5.0",
            "_model_name": "DescriptionStyleModel",
            "_view_count": null,
            "_view_module": "@jupyter-widgets/base",
            "_view_module_version": "1.2.0",
            "_view_name": "StyleView",
            "description_width": ""
          }
        },
        "d445678a9913425897de8b3f631745fb": {
          "model_module": "@jupyter-widgets/base",
          "model_name": "LayoutModel",
          "model_module_version": "1.2.0",
          "state": {
            "_model_module": "@jupyter-widgets/base",
            "_model_module_version": "1.2.0",
            "_model_name": "LayoutModel",
            "_view_count": null,
            "_view_module": "@jupyter-widgets/base",
            "_view_module_version": "1.2.0",
            "_view_name": "LayoutView",
            "align_content": null,
            "align_items": null,
            "align_self": null,
            "border": null,
            "bottom": null,
            "display": null,
            "flex": null,
            "flex_flow": null,
            "grid_area": null,
            "grid_auto_columns": null,
            "grid_auto_flow": null,
            "grid_auto_rows": null,
            "grid_column": null,
            "grid_gap": null,
            "grid_row": null,
            "grid_template_areas": null,
            "grid_template_columns": null,
            "grid_template_rows": null,
            "height": null,
            "justify_content": null,
            "justify_items": null,
            "left": null,
            "margin": null,
            "max_height": null,
            "max_width": null,
            "min_height": null,
            "min_width": null,
            "object_fit": null,
            "object_position": null,
            "order": null,
            "overflow": null,
            "overflow_x": null,
            "overflow_y": null,
            "padding": null,
            "right": null,
            "top": null,
            "visibility": null,
            "width": null
          }
        },
        "3647ed56a9b4418eb11a76b143327d70": {
          "model_module": "@jupyter-widgets/controls",
          "model_name": "ProgressStyleModel",
          "model_module_version": "1.5.0",
          "state": {
            "_model_module": "@jupyter-widgets/controls",
            "_model_module_version": "1.5.0",
            "_model_name": "ProgressStyleModel",
            "_view_count": null,
            "_view_module": "@jupyter-widgets/base",
            "_view_module_version": "1.2.0",
            "_view_name": "StyleView",
            "bar_color": null,
            "description_width": ""
          }
        },
        "d39cfcb6c3a54f05ab8b38d201c1eac2": {
          "model_module": "@jupyter-widgets/base",
          "model_name": "LayoutModel",
          "model_module_version": "1.2.0",
          "state": {
            "_model_module": "@jupyter-widgets/base",
            "_model_module_version": "1.2.0",
            "_model_name": "LayoutModel",
            "_view_count": null,
            "_view_module": "@jupyter-widgets/base",
            "_view_module_version": "1.2.0",
            "_view_name": "LayoutView",
            "align_content": null,
            "align_items": null,
            "align_self": null,
            "border": null,
            "bottom": null,
            "display": null,
            "flex": null,
            "flex_flow": null,
            "grid_area": null,
            "grid_auto_columns": null,
            "grid_auto_flow": null,
            "grid_auto_rows": null,
            "grid_column": null,
            "grid_gap": null,
            "grid_row": null,
            "grid_template_areas": null,
            "grid_template_columns": null,
            "grid_template_rows": null,
            "height": null,
            "justify_content": null,
            "justify_items": null,
            "left": null,
            "margin": null,
            "max_height": null,
            "max_width": null,
            "min_height": null,
            "min_width": null,
            "object_fit": null,
            "object_position": null,
            "order": null,
            "overflow": null,
            "overflow_x": null,
            "overflow_y": null,
            "padding": null,
            "right": null,
            "top": null,
            "visibility": null,
            "width": null
          }
        },
        "42a6c4ecead3450089f1ae0f3a3d5dd8": {
          "model_module": "@jupyter-widgets/controls",
          "model_name": "DescriptionStyleModel",
          "model_module_version": "1.5.0",
          "state": {
            "_model_module": "@jupyter-widgets/controls",
            "_model_module_version": "1.5.0",
            "_model_name": "DescriptionStyleModel",
            "_view_count": null,
            "_view_module": "@jupyter-widgets/base",
            "_view_module_version": "1.2.0",
            "_view_name": "StyleView",
            "description_width": ""
          }
        }
      }
    }
  },
  "nbformat": 4,
  "nbformat_minor": 0
}