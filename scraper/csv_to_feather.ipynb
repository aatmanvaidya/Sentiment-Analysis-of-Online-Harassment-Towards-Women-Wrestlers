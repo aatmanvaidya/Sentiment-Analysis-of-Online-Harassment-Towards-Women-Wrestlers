{
 "cells": [
  {
   "cell_type": "code",
   "execution_count": 1,
   "id": "9fd47cfc",
   "metadata": {},
   "outputs": [],
   "source": [
    "import pandas as pd"
   ]
  },
  {
   "cell_type": "code",
   "execution_count": 2,
   "id": "90f9ff50",
   "metadata": {},
   "outputs": [],
   "source": [
    "df = pd.read_csv(r'E:\\Tattle\\data_backup\\comments.csv')"
   ]
  },
  {
   "cell_type": "code",
   "execution_count": 3,
   "id": "34986b8a",
   "metadata": {},
   "outputs": [
    {
     "data": {
      "text/plain": [
       "(1119948, 14)"
      ]
     },
     "execution_count": 3,
     "metadata": {},
     "output_type": "execute_result"
    }
   ],
   "source": [
    "df.shape"
   ]
  },
  {
   "cell_type": "code",
   "execution_count": 4,
   "id": "c79bcc1e",
   "metadata": {},
   "outputs": [],
   "source": [
    "df.to_feather(r'E:\\Tattle\\data_backup\\comments_cleaned_feather.feather')"
   ]
  },
  {
   "cell_type": "code",
   "execution_count": 5,
   "id": "36e20158",
   "metadata": {},
   "outputs": [],
   "source": [
    "df_feather = pd.read_feather(r'E:\\Tattle\\data_backup\\comments_cleaned_feather.feather')"
   ]
  },
  {
   "cell_type": "code",
   "execution_count": 6,
   "id": "e37f6743",
   "metadata": {},
   "outputs": [
    {
     "data": {
      "text/html": [
       "<div>\n",
       "<style scoped>\n",
       "    .dataframe tbody tr th:only-of-type {\n",
       "        vertical-align: middle;\n",
       "    }\n",
       "\n",
       "    .dataframe tbody tr th {\n",
       "        vertical-align: top;\n",
       "    }\n",
       "\n",
       "    .dataframe thead th {\n",
       "        text-align: right;\n",
       "    }\n",
       "</style>\n",
       "<table border=\"1\" class=\"dataframe\">\n",
       "  <thead>\n",
       "    <tr style=\"text-align: right;\">\n",
       "      <th></th>\n",
       "      <th>videoId</th>\n",
       "      <th>textDisplay</th>\n",
       "      <th>textOriginal</th>\n",
       "      <th>authorDisplayName</th>\n",
       "      <th>authorProfileImageUrl</th>\n",
       "      <th>authorChannelUrl</th>\n",
       "      <th>authorChannelId</th>\n",
       "      <th>canRate</th>\n",
       "      <th>viewerRating</th>\n",
       "      <th>likeCount</th>\n",
       "      <th>publishedAt</th>\n",
       "      <th>updatedAt</th>\n",
       "      <th>parentId</th>\n",
       "      <th>commentId</th>\n",
       "    </tr>\n",
       "  </thead>\n",
       "  <tbody>\n",
       "    <tr>\n",
       "      <th>0</th>\n",
       "      <td>EBOKYsWUhvI</td>\n",
       "      <td>Dub maro jaato 😢😢.&lt;br&gt;Tumse tumare ladkiya nhi...</td>\n",
       "      <td>Dub maro jaato 😢😢.\\nTumse tumare ladkiya nhi b...</td>\n",
       "      <td>HECTOR OF TROY</td>\n",
       "      <td>https://yt3.ggpht.com/ytc/AOPolaQNP5bd7gNvbAas...</td>\n",
       "      <td>http://www.youtube.com/channel/UC5G8fjqoiFIqHp...</td>\n",
       "      <td>{'value': 'UC5G8fjqoiFIqHpKyVeOTsFg'}</td>\n",
       "      <td>True</td>\n",
       "      <td>none</td>\n",
       "      <td>0</td>\n",
       "      <td>2023-07-06T07:04:02Z</td>\n",
       "      <td>2023-07-06T07:04:02Z</td>\n",
       "      <td>None</td>\n",
       "      <td>UgwbyvIkkAhUdaCFpcp4AaABAg</td>\n",
       "    </tr>\n",
       "    <tr>\n",
       "      <th>1</th>\n",
       "      <td>EBOKYsWUhvI</td>\n",
       "      <td>Haar gye bechare</td>\n",
       "      <td>Haar gye bechare</td>\n",
       "      <td>Geeta Saini</td>\n",
       "      <td>https://yt3.ggpht.com/8XmOPNrT3Vy3wr0fItlWbaMk...</td>\n",
       "      <td>http://www.youtube.com/channel/UCsMGRdH3YHrbs2...</td>\n",
       "      <td>{'value': 'UCsMGRdH3YHrbs21NOraRuyQ'}</td>\n",
       "      <td>True</td>\n",
       "      <td>none</td>\n",
       "      <td>0</td>\n",
       "      <td>2023-07-03T22:21:37Z</td>\n",
       "      <td>2023-07-03T22:21:37Z</td>\n",
       "      <td>None</td>\n",
       "      <td>Ugyz3OwSXamho91-8I94AaABAg</td>\n",
       "    </tr>\n",
       "    <tr>\n",
       "      <th>2</th>\n",
       "      <td>EBOKYsWUhvI</td>\n",
       "      <td>Dhamki mili pahalwano ko aur sab manage kr liy...</td>\n",
       "      <td>Dhamki mili pahalwano ko aur sab manage kr liy...</td>\n",
       "      <td>Ayaan Chouhan</td>\n",
       "      <td>https://yt3.ggpht.com/ytc/AOPolaREH2WnrnbD53OI...</td>\n",
       "      <td>http://www.youtube.com/channel/UC_dWuNh6zydTHI...</td>\n",
       "      <td>{'value': 'UC_dWuNh6zydTHIRr6hi3Omg'}</td>\n",
       "      <td>True</td>\n",
       "      <td>none</td>\n",
       "      <td>0</td>\n",
       "      <td>2023-07-03T05:06:33Z</td>\n",
       "      <td>2023-07-03T05:06:33Z</td>\n",
       "      <td>None</td>\n",
       "      <td>Ugyphs1TT1Yoj7MZBVJ4AaABAg</td>\n",
       "    </tr>\n",
       "    <tr>\n",
       "      <th>3</th>\n",
       "      <td>EBOKYsWUhvI</td>\n",
       "      <td>Jaato pr ye boj rhega ki vo apni hi vyavstha s...</td>\n",
       "      <td>Jaato pr ye boj rhega ki vo apni hi vyavstha s...</td>\n",
       "      <td>Kamal</td>\n",
       "      <td>https://yt3.ggpht.com/ytc/AOPolaTRSm_dEOKj9H82...</td>\n",
       "      <td>http://www.youtube.com/channel/UCVdGObpHM-IMHB...</td>\n",
       "      <td>{'value': 'UCVdGObpHM-IMHB_b7_K-7rA'}</td>\n",
       "      <td>True</td>\n",
       "      <td>none</td>\n",
       "      <td>1</td>\n",
       "      <td>2023-07-02T03:39:50Z</td>\n",
       "      <td>2023-07-02T03:39:50Z</td>\n",
       "      <td>None</td>\n",
       "      <td>UgwnIxpuFAcKsEzffBp4AaABAg</td>\n",
       "    </tr>\n",
       "    <tr>\n",
       "      <th>4</th>\n",
       "      <td>EBOKYsWUhvI</td>\n",
       "      <td>Pahlwan jante h kuch nhi kr payenge uska</td>\n",
       "      <td>Pahlwan jante h kuch nhi kr payenge uska</td>\n",
       "      <td>jagriti tiwari upp</td>\n",
       "      <td>https://yt3.ggpht.com/ytc/AOPolaRrFnzD2i3N_3rk...</td>\n",
       "      <td>http://www.youtube.com/channel/UCRkcewHFhxE5Kf...</td>\n",
       "      <td>{'value': 'UCRkcewHFhxE5KfLHrLx0wpA'}</td>\n",
       "      <td>True</td>\n",
       "      <td>none</td>\n",
       "      <td>0</td>\n",
       "      <td>2023-06-28T15:10:36Z</td>\n",
       "      <td>2023-06-28T15:10:36Z</td>\n",
       "      <td>None</td>\n",
       "      <td>UgxjuOlDigsmuDu53J54AaABAg</td>\n",
       "    </tr>\n",
       "  </tbody>\n",
       "</table>\n",
       "</div>"
      ],
      "text/plain": [
       "       videoId                                        textDisplay  \\\n",
       "0  EBOKYsWUhvI  Dub maro jaato 😢😢.<br>Tumse tumare ladkiya nhi...   \n",
       "1  EBOKYsWUhvI                                   Haar gye bechare   \n",
       "2  EBOKYsWUhvI  Dhamki mili pahalwano ko aur sab manage kr liy...   \n",
       "3  EBOKYsWUhvI  Jaato pr ye boj rhega ki vo apni hi vyavstha s...   \n",
       "4  EBOKYsWUhvI           Pahlwan jante h kuch nhi kr payenge uska   \n",
       "\n",
       "                                        textOriginal   authorDisplayName  \\\n",
       "0  Dub maro jaato 😢😢.\\nTumse tumare ladkiya nhi b...      HECTOR OF TROY   \n",
       "1                                   Haar gye bechare         Geeta Saini   \n",
       "2  Dhamki mili pahalwano ko aur sab manage kr liy...       Ayaan Chouhan   \n",
       "3  Jaato pr ye boj rhega ki vo apni hi vyavstha s...               Kamal   \n",
       "4           Pahlwan jante h kuch nhi kr payenge uska  jagriti tiwari upp   \n",
       "\n",
       "                               authorProfileImageUrl  \\\n",
       "0  https://yt3.ggpht.com/ytc/AOPolaQNP5bd7gNvbAas...   \n",
       "1  https://yt3.ggpht.com/8XmOPNrT3Vy3wr0fItlWbaMk...   \n",
       "2  https://yt3.ggpht.com/ytc/AOPolaREH2WnrnbD53OI...   \n",
       "3  https://yt3.ggpht.com/ytc/AOPolaTRSm_dEOKj9H82...   \n",
       "4  https://yt3.ggpht.com/ytc/AOPolaRrFnzD2i3N_3rk...   \n",
       "\n",
       "                                    authorChannelUrl  \\\n",
       "0  http://www.youtube.com/channel/UC5G8fjqoiFIqHp...   \n",
       "1  http://www.youtube.com/channel/UCsMGRdH3YHrbs2...   \n",
       "2  http://www.youtube.com/channel/UC_dWuNh6zydTHI...   \n",
       "3  http://www.youtube.com/channel/UCVdGObpHM-IMHB...   \n",
       "4  http://www.youtube.com/channel/UCRkcewHFhxE5Kf...   \n",
       "\n",
       "                         authorChannelId canRate viewerRating likeCount  \\\n",
       "0  {'value': 'UC5G8fjqoiFIqHpKyVeOTsFg'}    True         none         0   \n",
       "1  {'value': 'UCsMGRdH3YHrbs21NOraRuyQ'}    True         none         0   \n",
       "2  {'value': 'UC_dWuNh6zydTHIRr6hi3Omg'}    True         none         0   \n",
       "3  {'value': 'UCVdGObpHM-IMHB_b7_K-7rA'}    True         none         1   \n",
       "4  {'value': 'UCRkcewHFhxE5KfLHrLx0wpA'}    True         none         0   \n",
       "\n",
       "            publishedAt             updatedAt parentId  \\\n",
       "0  2023-07-06T07:04:02Z  2023-07-06T07:04:02Z     None   \n",
       "1  2023-07-03T22:21:37Z  2023-07-03T22:21:37Z     None   \n",
       "2  2023-07-03T05:06:33Z  2023-07-03T05:06:33Z     None   \n",
       "3  2023-07-02T03:39:50Z  2023-07-02T03:39:50Z     None   \n",
       "4  2023-06-28T15:10:36Z  2023-06-28T15:10:36Z     None   \n",
       "\n",
       "                    commentId  \n",
       "0  UgwbyvIkkAhUdaCFpcp4AaABAg  \n",
       "1  Ugyz3OwSXamho91-8I94AaABAg  \n",
       "2  Ugyphs1TT1Yoj7MZBVJ4AaABAg  \n",
       "3  UgwnIxpuFAcKsEzffBp4AaABAg  \n",
       "4  UgxjuOlDigsmuDu53J54AaABAg  "
      ]
     },
     "execution_count": 6,
     "metadata": {},
     "output_type": "execute_result"
    }
   ],
   "source": [
    "df_feather.head()"
   ]
  },
  {
   "cell_type": "code",
   "execution_count": 7,
   "id": "652ae763",
   "metadata": {},
   "outputs": [
    {
     "data": {
      "text/plain": [
       "(1119948, 14)"
      ]
     },
     "execution_count": 7,
     "metadata": {},
     "output_type": "execute_result"
    }
   ],
   "source": [
    "df_feather.shape"
   ]
  },
  {
   "cell_type": "code",
   "execution_count": null,
   "id": "bdc51779",
   "metadata": {},
   "outputs": [],
   "source": []
  }
 ],
 "metadata": {
  "kernelspec": {
   "display_name": "Python 3 (ipykernel)",
   "language": "python",
   "name": "python3"
  },
  "language_info": {
   "codemirror_mode": {
    "name": "ipython",
    "version": 3
   },
   "file_extension": ".py",
   "mimetype": "text/x-python",
   "name": "python",
   "nbconvert_exporter": "python",
   "pygments_lexer": "ipython3",
   "version": "3.9.12"
  }
 },
 "nbformat": 4,
 "nbformat_minor": 5
}
