{
 "cells": [
  {
   "cell_type": "code",
   "execution_count": 5,
   "id": "d3f463ae",
   "metadata": {},
   "outputs": [],
   "source": [
    "# !pip install instaloader"
   ]
  },
  {
   "cell_type": "code",
   "execution_count": null,
   "id": "bc10b5f7",
   "metadata": {},
   "outputs": [],
   "source": [
    "import instaloader\n",
    "from instaloader import Post # https://instaloader.github.io/module/structures.html#posts"
   ]
  },
  {
   "cell_type": "code",
   "execution_count": 3,
   "id": "ae473dd5",
   "metadata": {},
   "outputs": [],
   "source": [
    "# Get instance\n",
    "L = instaloader.Instaloader()"
   ]
  },
  {
   "cell_type": "code",
   "execution_count": 6,
   "id": "44244490",
   "metadata": {},
   "outputs": [],
   "source": [
    "post_shortcode = 'C5qfx7bSWwF'"
   ]
  },
  {
   "cell_type": "code",
   "execution_count": 9,
   "id": "d3194808",
   "metadata": {},
   "outputs": [],
   "source": [
    "post = Post.from_shortcode(L.context, post_shortcode)"
   ]
  },
  {
   "cell_type": "code",
   "execution_count": null,
   "id": "84feeb25",
   "metadata": {},
   "outputs": [],
   "source": [
    "post.get_comments()"
   ]
  },
  {
   "cell_type": "code",
   "execution_count": null,
   "id": "cae1e7cd",
   "metadata": {},
   "outputs": [],
   "source": [
    "# comments = []\n",
    "# for comment in post.get_comments():\n",
    "#     comment_data = {\n",
    "#         'id': comment.id,\n",
    "#         'text': comment.text,\n",
    "#         'created_at': comment.created_at_utc,\n",
    "#         'owner_username': comment.owner.username,\n",
    "#         'owner_id': comment.owner.userid,\n",
    "#         'likes_count': comment.likes_count\n",
    "#     }\n",
    "#     comments.append(comment_data)"
   ]
  }
 ],
 "metadata": {
  "kernelspec": {
   "display_name": "Python 3 (ipykernel)",
   "language": "python",
   "name": "python3"
  },
  "language_info": {
   "codemirror_mode": {
    "name": "ipython",
    "version": 3
   },
   "file_extension": ".py",
   "mimetype": "text/x-python",
   "name": "python",
   "nbconvert_exporter": "python",
   "pygments_lexer": "ipython3",
   "version": "3.11.4"
  }
 },
 "nbformat": 4,
 "nbformat_minor": 5
}
