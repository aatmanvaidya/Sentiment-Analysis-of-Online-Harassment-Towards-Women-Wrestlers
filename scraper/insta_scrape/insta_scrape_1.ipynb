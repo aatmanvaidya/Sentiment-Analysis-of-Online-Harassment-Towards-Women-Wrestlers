{
 "cells": [
  {
   "cell_type": "code",
   "execution_count": 1,
   "id": "d3f463ae",
   "metadata": {},
   "outputs": [],
   "source": [
    "# !pip install instaloader"
   ]
  },
  {
   "cell_type": "code",
   "execution_count": 2,
   "id": "bc10b5f7",
   "metadata": {},
   "outputs": [],
   "source": [
    "import instaloader\n",
    "from instaloader import Post # https://instaloader.github.io/module/structures.html#posts"
   ]
  },
  {
   "cell_type": "code",
   "execution_count": 3,
   "id": "ae473dd5",
   "metadata": {},
   "outputs": [],
   "source": [
    "# Get instance\n",
    "L = instaloader.Instaloader()"
   ]
  },
  {
   "cell_type": "code",
   "execution_count": 4,
   "id": "44244490",
   "metadata": {},
   "outputs": [],
   "source": [
    "post_shortcode = 'C5qfx7bSWwF'"
   ]
  },
  {
   "cell_type": "code",
   "execution_count": 5,
   "id": "d3194808",
   "metadata": {},
   "outputs": [],
   "source": [
    "post = Post.from_shortcode(L.context, post_shortcode)"
   ]
  },
  {
   "cell_type": "code",
   "execution_count": 6,
   "id": "84feeb25",
   "metadata": {},
   "outputs": [
    {
     "name": "stderr",
     "output_type": "stream",
     "text": [
      "JSON Query to graphql/query: HTTP error code 401. [retrying; skip with ^C]\n",
      "JSON Query to graphql/query: HTTP error code 401. [retrying; skip with ^C]\n"
     ]
    },
    {
     "ename": "ConnectionException",
     "evalue": "JSON Query to graphql/query: HTTP error code 401.",
     "output_type": "error",
     "traceback": [
      "\u001b[1;31m---------------------------------------------------------------------------\u001b[0m",
      "\u001b[1;31mConnectionException\u001b[0m                       Traceback (most recent call last)",
      "File \u001b[1;32m~\\miniconda3\\Lib\\site-packages\\instaloader\\instaloadercontext.py:413\u001b[0m, in \u001b[0;36mInstaloaderContext.get_json\u001b[1;34m(self, path, params, host, session, _attempt, response_headers)\u001b[0m\n\u001b[0;32m    412\u001b[0m \u001b[38;5;28;01mif\u001b[39;00m resp\u001b[38;5;241m.\u001b[39mstatus_code \u001b[38;5;241m!=\u001b[39m \u001b[38;5;241m200\u001b[39m:\n\u001b[1;32m--> 413\u001b[0m     \u001b[38;5;28;01mraise\u001b[39;00m ConnectionException(\u001b[38;5;124m\"\u001b[39m\u001b[38;5;124mHTTP error code \u001b[39m\u001b[38;5;132;01m{}\u001b[39;00m\u001b[38;5;124m.\u001b[39m\u001b[38;5;124m\"\u001b[39m\u001b[38;5;241m.\u001b[39mformat(resp\u001b[38;5;241m.\u001b[39mstatus_code))\n\u001b[0;32m    414\u001b[0m \u001b[38;5;28;01melse\u001b[39;00m:\n",
      "\u001b[1;31mConnectionException\u001b[0m: HTTP error code 401.",
      "\nDuring handling of the above exception, another exception occurred:\n",
      "\u001b[1;31mConnectionException\u001b[0m                       Traceback (most recent call last)",
      "File \u001b[1;32m~\\miniconda3\\Lib\\site-packages\\instaloader\\instaloadercontext.py:413\u001b[0m, in \u001b[0;36mInstaloaderContext.get_json\u001b[1;34m(self, path, params, host, session, _attempt, response_headers)\u001b[0m\n\u001b[0;32m    412\u001b[0m \u001b[38;5;28;01mif\u001b[39;00m resp\u001b[38;5;241m.\u001b[39mstatus_code \u001b[38;5;241m!=\u001b[39m \u001b[38;5;241m200\u001b[39m:\n\u001b[1;32m--> 413\u001b[0m     \u001b[38;5;28;01mraise\u001b[39;00m ConnectionException(\u001b[38;5;124m\"\u001b[39m\u001b[38;5;124mHTTP error code \u001b[39m\u001b[38;5;132;01m{}\u001b[39;00m\u001b[38;5;124m.\u001b[39m\u001b[38;5;124m\"\u001b[39m\u001b[38;5;241m.\u001b[39mformat(resp\u001b[38;5;241m.\u001b[39mstatus_code))\n\u001b[0;32m    414\u001b[0m \u001b[38;5;28;01melse\u001b[39;00m:\n",
      "\u001b[1;31mConnectionException\u001b[0m: HTTP error code 401.",
      "\nDuring handling of the above exception, another exception occurred:\n",
      "\u001b[1;31mConnectionException\u001b[0m                       Traceback (most recent call last)",
      "File \u001b[1;32m~\\miniconda3\\Lib\\site-packages\\instaloader\\instaloadercontext.py:413\u001b[0m, in \u001b[0;36mInstaloaderContext.get_json\u001b[1;34m(self, path, params, host, session, _attempt, response_headers)\u001b[0m\n\u001b[0;32m    412\u001b[0m \u001b[38;5;28;01mif\u001b[39;00m resp\u001b[38;5;241m.\u001b[39mstatus_code \u001b[38;5;241m!=\u001b[39m \u001b[38;5;241m200\u001b[39m:\n\u001b[1;32m--> 413\u001b[0m     \u001b[38;5;28;01mraise\u001b[39;00m ConnectionException(\u001b[38;5;124m\"\u001b[39m\u001b[38;5;124mHTTP error code \u001b[39m\u001b[38;5;132;01m{}\u001b[39;00m\u001b[38;5;124m.\u001b[39m\u001b[38;5;124m\"\u001b[39m\u001b[38;5;241m.\u001b[39mformat(resp\u001b[38;5;241m.\u001b[39mstatus_code))\n\u001b[0;32m    414\u001b[0m \u001b[38;5;28;01melse\u001b[39;00m:\n",
      "\u001b[1;31mConnectionException\u001b[0m: HTTP error code 401.",
      "\nThe above exception was the direct cause of the following exception:\n",
      "\u001b[1;31mConnectionException\u001b[0m                       Traceback (most recent call last)",
      "Cell \u001b[1;32mIn[6], line 1\u001b[0m\n\u001b[1;32m----> 1\u001b[0m post\u001b[38;5;241m.\u001b[39mget_comments()\n",
      "File \u001b[1;32m~\\miniconda3\\Lib\\site-packages\\instaloader\\structures.py:735\u001b[0m, in \u001b[0;36mPost.get_comments\u001b[1;34m(self)\u001b[0m\n\u001b[0;32m    730\u001b[0m \u001b[38;5;28;01mif\u001b[39;00m \u001b[38;5;28mself\u001b[39m\u001b[38;5;241m.\u001b[39mcomments \u001b[38;5;241m>\u001b[39m NodeIterator\u001b[38;5;241m.\u001b[39mpage_length():\n\u001b[0;32m    731\u001b[0m     \u001b[38;5;66;03m# comments pagination via our graphql query does not work reliably anymore (issue #2125), fallback to an\u001b[39;00m\n\u001b[0;32m    732\u001b[0m     \u001b[38;5;66;03m# iphone endpoint if needed.\u001b[39;00m\n\u001b[0;32m    733\u001b[0m     \u001b[38;5;28;01mreturn\u001b[39;00m \u001b[38;5;28mself\u001b[39m\u001b[38;5;241m.\u001b[39m_get_comments_via_iphone_endpoint()\n\u001b[1;32m--> 735\u001b[0m \u001b[38;5;28;01mreturn\u001b[39;00m NodeIterator(\n\u001b[0;32m    736\u001b[0m     \u001b[38;5;28mself\u001b[39m\u001b[38;5;241m.\u001b[39m_context,\n\u001b[0;32m    737\u001b[0m     \u001b[38;5;124m'\u001b[39m\u001b[38;5;124m97b41c52301f77ce508f55e66d17620e\u001b[39m\u001b[38;5;124m'\u001b[39m,\n\u001b[0;32m    738\u001b[0m     \u001b[38;5;28;01mlambda\u001b[39;00m d: d[\u001b[38;5;124m'\u001b[39m\u001b[38;5;124mdata\u001b[39m\u001b[38;5;124m'\u001b[39m][\u001b[38;5;124m'\u001b[39m\u001b[38;5;124mshortcode_media\u001b[39m\u001b[38;5;124m'\u001b[39m][\u001b[38;5;124m'\u001b[39m\u001b[38;5;124medge_media_to_parent_comment\u001b[39m\u001b[38;5;124m'\u001b[39m],\n\u001b[0;32m    739\u001b[0m     _postcomment,\n\u001b[0;32m    740\u001b[0m     {\u001b[38;5;124m'\u001b[39m\u001b[38;5;124mshortcode\u001b[39m\u001b[38;5;124m'\u001b[39m: \u001b[38;5;28mself\u001b[39m\u001b[38;5;241m.\u001b[39mshortcode},\n\u001b[0;32m    741\u001b[0m     \u001b[38;5;124m'\u001b[39m\u001b[38;5;124mhttps://www.instagram.com/p/\u001b[39m\u001b[38;5;132;01m{0}\u001b[39;00m\u001b[38;5;124m/\u001b[39m\u001b[38;5;124m'\u001b[39m\u001b[38;5;241m.\u001b[39mformat(\u001b[38;5;28mself\u001b[39m\u001b[38;5;241m.\u001b[39mshortcode),\n\u001b[0;32m    742\u001b[0m )\n",
      "File \u001b[1;32m~\\miniconda3\\Lib\\site-packages\\instaloader\\nodeiterator.py:93\u001b[0m, in \u001b[0;36mNodeIterator.__init__\u001b[1;34m(self, context, query_hash, edge_extractor, node_wrapper, query_variables, query_referer, first_data, is_first)\u001b[0m\n\u001b[0;32m     91\u001b[0m     \u001b[38;5;28mself\u001b[39m\u001b[38;5;241m.\u001b[39m_best_before \u001b[38;5;241m=\u001b[39m datetime\u001b[38;5;241m.\u001b[39mnow() \u001b[38;5;241m+\u001b[39m NodeIterator\u001b[38;5;241m.\u001b[39m_shelf_life\n\u001b[0;32m     92\u001b[0m \u001b[38;5;28;01melse\u001b[39;00m:\n\u001b[1;32m---> 93\u001b[0m     \u001b[38;5;28mself\u001b[39m\u001b[38;5;241m.\u001b[39m_data \u001b[38;5;241m=\u001b[39m \u001b[38;5;28mself\u001b[39m\u001b[38;5;241m.\u001b[39m_query()\n\u001b[0;32m     94\u001b[0m \u001b[38;5;28mself\u001b[39m\u001b[38;5;241m.\u001b[39m_first_node: Optional[Dict] \u001b[38;5;241m=\u001b[39m \u001b[38;5;28;01mNone\u001b[39;00m\n\u001b[0;32m     95\u001b[0m \u001b[38;5;28mself\u001b[39m\u001b[38;5;241m.\u001b[39m_is_first \u001b[38;5;241m=\u001b[39m is_first\n",
      "File \u001b[1;32m~\\miniconda3\\Lib\\site-packages\\instaloader\\nodeiterator.py:103\u001b[0m, in \u001b[0;36mNodeIterator._query\u001b[1;34m(self, after)\u001b[0m\n\u001b[0;32m    100\u001b[0m     pagination_variables[\u001b[38;5;124m'\u001b[39m\u001b[38;5;124mafter\u001b[39m\u001b[38;5;124m'\u001b[39m] \u001b[38;5;241m=\u001b[39m after\n\u001b[0;32m    101\u001b[0m \u001b[38;5;28;01mtry\u001b[39;00m:\n\u001b[0;32m    102\u001b[0m     data \u001b[38;5;241m=\u001b[39m \u001b[38;5;28mself\u001b[39m\u001b[38;5;241m.\u001b[39m_edge_extractor(\n\u001b[1;32m--> 103\u001b[0m         \u001b[38;5;28mself\u001b[39m\u001b[38;5;241m.\u001b[39m_context\u001b[38;5;241m.\u001b[39mgraphql_query(\n\u001b[0;32m    104\u001b[0m             \u001b[38;5;28mself\u001b[39m\u001b[38;5;241m.\u001b[39m_query_hash, {\u001b[38;5;241m*\u001b[39m\u001b[38;5;241m*\u001b[39m\u001b[38;5;28mself\u001b[39m\u001b[38;5;241m.\u001b[39m_query_variables, \u001b[38;5;241m*\u001b[39m\u001b[38;5;241m*\u001b[39mpagination_variables}, \u001b[38;5;28mself\u001b[39m\u001b[38;5;241m.\u001b[39m_query_referer\n\u001b[0;32m    105\u001b[0m         )\n\u001b[0;32m    106\u001b[0m     )\n\u001b[0;32m    107\u001b[0m     \u001b[38;5;28mself\u001b[39m\u001b[38;5;241m.\u001b[39m_best_before \u001b[38;5;241m=\u001b[39m datetime\u001b[38;5;241m.\u001b[39mnow() \u001b[38;5;241m+\u001b[39m NodeIterator\u001b[38;5;241m.\u001b[39m_shelf_life\n\u001b[0;32m    108\u001b[0m     \u001b[38;5;28;01mreturn\u001b[39;00m data\n",
      "File \u001b[1;32m~\\miniconda3\\Lib\\site-packages\\instaloader\\instaloadercontext.py:474\u001b[0m, in \u001b[0;36mInstaloaderContext.graphql_query\u001b[1;34m(self, query_hash, variables, referer, rhx_gis)\u001b[0m\n\u001b[0;32m    471\u001b[0m         x_instagram_gis \u001b[38;5;241m=\u001b[39m hashlib\u001b[38;5;241m.\u001b[39mmd5(values\u001b[38;5;241m.\u001b[39mencode())\u001b[38;5;241m.\u001b[39mhexdigest()\n\u001b[0;32m    472\u001b[0m         tmpsession\u001b[38;5;241m.\u001b[39mheaders[\u001b[38;5;124m'\u001b[39m\u001b[38;5;124mx-instagram-gis\u001b[39m\u001b[38;5;124m'\u001b[39m] \u001b[38;5;241m=\u001b[39m x_instagram_gis\n\u001b[1;32m--> 474\u001b[0m     resp_json \u001b[38;5;241m=\u001b[39m \u001b[38;5;28mself\u001b[39m\u001b[38;5;241m.\u001b[39mget_json(\u001b[38;5;124m'\u001b[39m\u001b[38;5;124mgraphql/query\u001b[39m\u001b[38;5;124m'\u001b[39m,\n\u001b[0;32m    475\u001b[0m                               params\u001b[38;5;241m=\u001b[39m{\u001b[38;5;124m'\u001b[39m\u001b[38;5;124mquery_hash\u001b[39m\u001b[38;5;124m'\u001b[39m: query_hash,\n\u001b[0;32m    476\u001b[0m                                       \u001b[38;5;124m'\u001b[39m\u001b[38;5;124mvariables\u001b[39m\u001b[38;5;124m'\u001b[39m: variables_json},\n\u001b[0;32m    477\u001b[0m                               session\u001b[38;5;241m=\u001b[39mtmpsession)\n\u001b[0;32m    478\u001b[0m \u001b[38;5;28;01mif\u001b[39;00m \u001b[38;5;124m'\u001b[39m\u001b[38;5;124mstatus\u001b[39m\u001b[38;5;124m'\u001b[39m \u001b[38;5;129;01mnot\u001b[39;00m \u001b[38;5;129;01min\u001b[39;00m resp_json:\n\u001b[0;32m    479\u001b[0m     \u001b[38;5;28mself\u001b[39m\u001b[38;5;241m.\u001b[39merror(\u001b[38;5;124m\"\u001b[39m\u001b[38;5;124mGraphQL response did not contain a \u001b[39m\u001b[38;5;130;01m\\\"\u001b[39;00m\u001b[38;5;124mstatus\u001b[39m\u001b[38;5;130;01m\\\"\u001b[39;00m\u001b[38;5;124m field.\u001b[39m\u001b[38;5;124m\"\u001b[39m)\n",
      "File \u001b[1;32m~\\miniconda3\\Lib\\site-packages\\instaloader\\instaloadercontext.py:439\u001b[0m, in \u001b[0;36mInstaloaderContext.get_json\u001b[1;34m(self, path, params, host, session, _attempt, response_headers)\u001b[0m\n\u001b[0;32m    437\u001b[0m         \u001b[38;5;28;01mif\u001b[39;00m is_other_query:\n\u001b[0;32m    438\u001b[0m             \u001b[38;5;28mself\u001b[39m\u001b[38;5;241m.\u001b[39m_rate_controller\u001b[38;5;241m.\u001b[39mhandle_429(\u001b[38;5;124m'\u001b[39m\u001b[38;5;124mother\u001b[39m\u001b[38;5;124m'\u001b[39m)\n\u001b[1;32m--> 439\u001b[0m     \u001b[38;5;28;01mreturn\u001b[39;00m \u001b[38;5;28mself\u001b[39m\u001b[38;5;241m.\u001b[39mget_json(path\u001b[38;5;241m=\u001b[39mpath, params\u001b[38;5;241m=\u001b[39mparams, host\u001b[38;5;241m=\u001b[39mhost, session\u001b[38;5;241m=\u001b[39msess, _attempt\u001b[38;5;241m=\u001b[39m_attempt \u001b[38;5;241m+\u001b[39m \u001b[38;5;241m1\u001b[39m,\n\u001b[0;32m    440\u001b[0m                          response_headers\u001b[38;5;241m=\u001b[39mresponse_headers)\n\u001b[0;32m    441\u001b[0m \u001b[38;5;28;01mexcept\u001b[39;00m \u001b[38;5;167;01mKeyboardInterrupt\u001b[39;00m:\n\u001b[0;32m    442\u001b[0m     \u001b[38;5;28mself\u001b[39m\u001b[38;5;241m.\u001b[39merror(\u001b[38;5;124m\"\u001b[39m\u001b[38;5;124m[skipped by user]\u001b[39m\u001b[38;5;124m\"\u001b[39m, repeat_at_end\u001b[38;5;241m=\u001b[39m\u001b[38;5;28;01mFalse\u001b[39;00m)\n",
      "File \u001b[1;32m~\\miniconda3\\Lib\\site-packages\\instaloader\\instaloadercontext.py:439\u001b[0m, in \u001b[0;36mInstaloaderContext.get_json\u001b[1;34m(self, path, params, host, session, _attempt, response_headers)\u001b[0m\n\u001b[0;32m    437\u001b[0m         \u001b[38;5;28;01mif\u001b[39;00m is_other_query:\n\u001b[0;32m    438\u001b[0m             \u001b[38;5;28mself\u001b[39m\u001b[38;5;241m.\u001b[39m_rate_controller\u001b[38;5;241m.\u001b[39mhandle_429(\u001b[38;5;124m'\u001b[39m\u001b[38;5;124mother\u001b[39m\u001b[38;5;124m'\u001b[39m)\n\u001b[1;32m--> 439\u001b[0m     \u001b[38;5;28;01mreturn\u001b[39;00m \u001b[38;5;28mself\u001b[39m\u001b[38;5;241m.\u001b[39mget_json(path\u001b[38;5;241m=\u001b[39mpath, params\u001b[38;5;241m=\u001b[39mparams, host\u001b[38;5;241m=\u001b[39mhost, session\u001b[38;5;241m=\u001b[39msess, _attempt\u001b[38;5;241m=\u001b[39m_attempt \u001b[38;5;241m+\u001b[39m \u001b[38;5;241m1\u001b[39m,\n\u001b[0;32m    440\u001b[0m                          response_headers\u001b[38;5;241m=\u001b[39mresponse_headers)\n\u001b[0;32m    441\u001b[0m \u001b[38;5;28;01mexcept\u001b[39;00m \u001b[38;5;167;01mKeyboardInterrupt\u001b[39;00m:\n\u001b[0;32m    442\u001b[0m     \u001b[38;5;28mself\u001b[39m\u001b[38;5;241m.\u001b[39merror(\u001b[38;5;124m\"\u001b[39m\u001b[38;5;124m[skipped by user]\u001b[39m\u001b[38;5;124m\"\u001b[39m, repeat_at_end\u001b[38;5;241m=\u001b[39m\u001b[38;5;28;01mFalse\u001b[39;00m)\n",
      "File \u001b[1;32m~\\miniconda3\\Lib\\site-packages\\instaloader\\instaloadercontext.py:429\u001b[0m, in \u001b[0;36mInstaloaderContext.get_json\u001b[1;34m(self, path, params, host, session, _attempt, response_headers)\u001b[0m\n\u001b[0;32m    427\u001b[0m         \u001b[38;5;28;01mraise\u001b[39;00m QueryReturnedNotFoundException(error_string) \u001b[38;5;28;01mfrom\u001b[39;00m \u001b[38;5;21;01merr\u001b[39;00m\n\u001b[0;32m    428\u001b[0m     \u001b[38;5;28;01melse\u001b[39;00m:\n\u001b[1;32m--> 429\u001b[0m         \u001b[38;5;28;01mraise\u001b[39;00m ConnectionException(error_string) \u001b[38;5;28;01mfrom\u001b[39;00m \u001b[38;5;21;01merr\u001b[39;00m\n\u001b[0;32m    430\u001b[0m \u001b[38;5;28mself\u001b[39m\u001b[38;5;241m.\u001b[39merror(error_string \u001b[38;5;241m+\u001b[39m \u001b[38;5;124m\"\u001b[39m\u001b[38;5;124m [retrying; skip with ^C]\u001b[39m\u001b[38;5;124m\"\u001b[39m, repeat_at_end\u001b[38;5;241m=\u001b[39m\u001b[38;5;28;01mFalse\u001b[39;00m)\n\u001b[0;32m    431\u001b[0m \u001b[38;5;28;01mtry\u001b[39;00m:\n",
      "\u001b[1;31mConnectionException\u001b[0m: JSON Query to graphql/query: HTTP error code 401."
     ]
    }
   ],
   "source": [
    "post.get_comments()"
   ]
  },
  {
   "cell_type": "code",
   "execution_count": null,
   "id": "cae1e7cd",
   "metadata": {},
   "outputs": [],
   "source": [
    "# comments = []\n",
    "# for comment in post.get_comments():\n",
    "#     comment_data = {\n",
    "#         'id': comment.id,\n",
    "#         'text': comment.text,\n",
    "#         'created_at': comment.created_at_utc,\n",
    "#         'owner_username': comment.owner.username,\n",
    "#         'owner_id': comment.owner.userid,\n",
    "#         'likes_count': comment.likes_count\n",
    "#     }\n",
    "#     comments.append(comment_data)"
   ]
  }
 ],
 "metadata": {
  "kernelspec": {
   "display_name": "Python 3 (ipykernel)",
   "language": "python",
   "name": "python3"
  },
  "language_info": {
   "codemirror_mode": {
    "name": "ipython",
    "version": 3
   },
   "file_extension": ".py",
   "mimetype": "text/x-python",
   "name": "python",
   "nbconvert_exporter": "python",
   "pygments_lexer": "ipython3",
   "version": "3.11.4"
  }
 },
 "nbformat": 4,
 "nbformat_minor": 5
}
