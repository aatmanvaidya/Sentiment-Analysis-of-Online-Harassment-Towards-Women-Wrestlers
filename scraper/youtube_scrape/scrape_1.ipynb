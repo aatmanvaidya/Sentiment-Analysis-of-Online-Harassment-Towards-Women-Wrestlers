{
 "cells": [
  {
   "cell_type": "code",
   "execution_count": 14,
   "id": "9db05567",
   "metadata": {},
   "outputs": [],
   "source": [
    "# import sys\n",
    "# !{sys.executable} -m pip install python-dotenv\n",
    "# !{sys.executable} -m pip install google-api-python-client"
   ]
  },
  {
   "cell_type": "code",
   "execution_count": 15,
   "id": "3fab1621",
   "metadata": {},
   "outputs": [],
   "source": [
    "# !pip install iteration_utilities"
   ]
  },
  {
   "cell_type": "code",
   "execution_count": 1,
   "id": "2a9b7f65",
   "metadata": {},
   "outputs": [],
   "source": [
    "import os\n",
    "from dotenv import load_dotenv\n",
    "from googleapiclient.discovery import build\n",
    "import re\n",
    "from tqdm import tqdm\n",
    "from iteration_utilities import unique_everseen\n",
    "import csv"
   ]
  },
  {
   "cell_type": "code",
   "execution_count": 2,
   "id": "c856dfde",
   "metadata": {},
   "outputs": [],
   "source": [
    "load_dotenv()\n",
    "api_key = os.getenv(\"API_KEY\")"
   ]
  },
  {
   "cell_type": "code",
   "execution_count": 3,
   "id": "b7e9e612",
   "metadata": {},
   "outputs": [],
   "source": [
    "# create a service object for interacting with the YouTube Data API\n",
    "youtube = build(\"youtube\", \"v3\", developerKey=api_key, cache_discovery=False)"
   ]
  },
  {
   "cell_type": "code",
   "execution_count": 4,
   "id": "762a9c56",
   "metadata": {},
   "outputs": [],
   "source": [
    "# TEST\n",
    "# link = \"https://www.youtube.com/watch?v=36N1Bz7qW0A\"\n",
    "# request = youtube.commentThreads().list(part='id,replies,snippet', videoId=extract_video_id(link))\n",
    "# response = request.execute()\n",
    "# print(response)"
   ]
  },
  {
   "cell_type": "code",
   "execution_count": 13,
   "id": "2d2a2307",
   "metadata": {},
   "outputs": [],
   "source": [
    "def extract_video_id(url):\n",
    "    video_id = None\n",
    "    if \"youtu.be\" in url:\n",
    "        video_id = url.split(\"/\")[-1]\n",
    "    else:\n",
    "        query_string = url.split(\"?\")[-1]\n",
    "        parameters = query_string.split(\"&\")\n",
    "        for param in parameters:\n",
    "            if param.startswith(\"v=\"):\n",
    "                video_id = param[2:]\n",
    "                break\n",
    "\n",
    "    return video_id"
   ]
  },
  {
   "cell_type": "code",
   "execution_count": 6,
   "id": "1cc1a7fe",
   "metadata": {},
   "outputs": [],
   "source": [
    "comments = []"
   ]
  },
  {
   "cell_type": "code",
   "execution_count": 7,
   "id": "68d12b99",
   "metadata": {},
   "outputs": [],
   "source": [
    "def make_csv(comments, channelID=None):\n",
    "    header = comments[0].keys()\n",
    "\n",
    "    if channelID:\n",
    "#         filename = f'comments_{channelID}_{today}.csv'\n",
    "        filename = f'comments.csv'\n",
    "    else:\n",
    "#         filename = f'comments_{today}.csv'\n",
    "        filename = f'comments.csv'\n",
    "\n",
    "    with open(filename, 'a', encoding='utf8', newline='') as f:\n",
    "        writer = csv.DictWriter(f, fieldnames=header, extrasaction='ignore')\n",
    "        writer.writeheader()\n",
    "        writer.writerows(comments)"
   ]
  },
  {
   "cell_type": "code",
   "execution_count": 8,
   "id": "edaf26a0",
   "metadata": {},
   "outputs": [],
   "source": [
    "def process_comments(response_items, csv_output=False):\n",
    "\n",
    "    for res in response_items:\n",
    "\n",
    "        # loop through the replies\n",
    "        if 'replies' in res.keys():\n",
    "            for reply in res['replies']['comments']:\n",
    "                comment = reply['snippet']\n",
    "                comment['commentId'] = reply['id']\n",
    "                comments.append(comment)\n",
    "        else:\n",
    "            comment = {}\n",
    "            comment['snippet'] = res['snippet']['topLevelComment']['snippet']\n",
    "            comment['snippet']['parentId'] = None\n",
    "            comment['snippet']['commentId'] = res['snippet']['topLevelComment']['id']\n",
    "\n",
    "            comments.append(comment['snippet'])\n",
    "\n",
    "    if csv_output:\n",
    "         make_csv(comments)\n",
    "    \n",
    "    print(f'Finished processing {len(comments)} comments.')\n",
    "    return comments"
   ]
  },
  {
   "cell_type": "code",
   "execution_count": 9,
   "id": "889124ad",
   "metadata": {},
   "outputs": [],
   "source": [
    "def comment_threads(videoID, to_csv=False):\n",
    "    \n",
    "    comments_list = []\n",
    "    \n",
    "    request = youtube.commentThreads().list(\n",
    "        part='id,replies,snippet',\n",
    "        videoId=videoID,\n",
    "    )\n",
    "    response = request.execute()\n",
    "    comments_list.extend(process_comments(response['items']))\n",
    "\n",
    "    # if there is nextPageToken, then keep calling the API\n",
    "    while response.get('nextPageToken', None):\n",
    "        request = youtube.commentThreads().list(\n",
    "            part='id,replies,snippet',\n",
    "            videoId=videoID,\n",
    "            pageToken=response['nextPageToken']\n",
    "        )\n",
    "        response = request.execute()\n",
    "        comments_list.extend(process_comments(response['items']))\n",
    "\n",
    "    comments_list = list(unique_everseen(comments_list))\n",
    "\n",
    "    print(f\"Finished fetching comments for {videoID}. {len(comments_list)} comments found.\")\n",
    "    \n",
    "    if to_csv:\n",
    "#         make_csv(comments_list, videoID)\n",
    "        make_csv(comments_list)\n",
    "    return comments_list"
   ]
  },
  {
   "cell_type": "code",
   "execution_count": 17,
   "id": "fcad3cdc",
   "metadata": {},
   "outputs": [],
   "source": [
    "video_ids = [\n",
    "    \"9g3692xrYog\",\n",
    "    \"-L-xfr3pyMM\",\n",
    "    \"tC0TWLQwxlg\",\n",
    "    \"XAD-xUbncew\",\n",
    "    \"xDCtlAGjA0c\",\n",
    "    \"YFpYNRX67hk\",\n",
    "    \"Cp48NX8clAA\",\n",
    "    \"ThvNwfGwaOE\",\n",
    "    \"S3WE134o-mo\",\n",
    "    \"ikTln_LOADg\",\n",
    "    \"d5FKIh21kVQ\",\n",
    "    \"fOoMDPcy-ao\",\n",
    "    \"AfS_X2bfAJg\",\n",
    "    \"YVxSNRhVypA\",\n",
    "    \"ttDpr-6_GBI\",\n",
    "    \"ur4uq7_ewUQ\",\n",
    "    \"5gay09DQdQI\",\n",
    "    \"f-RaA60FUrw\",\n",
    "    \"TwqmICVZ7xQ\",\n",
    "    \"WrsZJxpZcH0\",\n",
    "    \"2yTT_gsiXL0\",\n",
    "    \"_ShclHTKJoY\"\n",
    "]"
   ]
  },
  {
   "cell_type": "code",
   "execution_count": 18,
   "id": "3bc87003",
   "metadata": {},
   "outputs": [
    {
     "name": "stderr",
     "output_type": "stream",
     "text": [
      "\r",
      "Processing videos:   0%|                                                                        | 0/22 [00:00<?, ?it/s]"
     ]
    },
    {
     "name": "stdout",
     "output_type": "stream",
     "text": [
      "Finished processing 20 comments.\n",
      "Finished processing 40 comments.\n",
      "Finished processing 60 comments.\n",
      "Finished processing 81 comments.\n"
     ]
    },
    {
     "name": "stderr",
     "output_type": "stream",
     "text": [
      "\r",
      "Processing videos:   5%|██▉                                                             | 1/22 [00:01<00:37,  1.77s/it]"
     ]
    },
    {
     "name": "stdout",
     "output_type": "stream",
     "text": [
      "Finished processing 97 comments.\n",
      "Finished fetching comments for 9g3692xrYog. 97 comments found.\n",
      "Finished processing 117 comments.\n",
      "Finished processing 140 comments.\n"
     ]
    },
    {
     "name": "stderr",
     "output_type": "stream",
     "text": [
      "\r",
      "Processing videos:   9%|█████▊                                                          | 2/22 [00:02<00:23,  1.17s/it]"
     ]
    },
    {
     "name": "stdout",
     "output_type": "stream",
     "text": [
      "Finished processing 150 comments.\n",
      "Finished fetching comments for -L-xfr3pyMM. 150 comments found.\n",
      "Finished processing 170 comments.\n",
      "Finished processing 190 comments.\n",
      "Finished processing 210 comments.\n",
      "Finished processing 230 comments.\n",
      "Finished processing 251 comments.\n",
      "Finished processing 275 comments.\n"
     ]
    },
    {
     "name": "stderr",
     "output_type": "stream",
     "text": [
      "\r",
      "Processing videos:  14%|████████▋                                                       | 3/22 [00:04<00:27,  1.44s/it]"
     ]
    },
    {
     "name": "stdout",
     "output_type": "stream",
     "text": [
      "Finished processing 284 comments.\n",
      "Finished fetching comments for tC0TWLQwxlg. 284 comments found.\n",
      "Finished processing 304 comments.\n",
      "Finished processing 324 comments.\n",
      "Finished processing 344 comments.\n",
      "Finished processing 365 comments.\n",
      "Finished processing 385 comments.\n",
      "Finished processing 405 comments.\n",
      "Finished processing 426 comments.\n"
     ]
    },
    {
     "name": "stderr",
     "output_type": "stream",
     "text": [
      "\r",
      "Processing videos:  18%|███████████▋                                                    | 4/22 [00:06<00:30,  1.67s/it]"
     ]
    },
    {
     "name": "stdout",
     "output_type": "stream",
     "text": [
      "Finished processing 431 comments.\n",
      "Finished fetching comments for XAD-xUbncew. 431 comments found.\n",
      "Finished processing 451 comments.\n",
      "Finished processing 471 comments.\n",
      "Finished processing 491 comments.\n",
      "Finished processing 511 comments.\n",
      "Finished processing 531 comments.\n",
      "Finished processing 552 comments.\n",
      "Finished processing 573 comments.\n",
      "Finished processing 593 comments.\n",
      "Finished processing 614 comments.\n"
     ]
    },
    {
     "name": "stderr",
     "output_type": "stream",
     "text": [
      "\r",
      "Processing videos:  23%|██████████████▌                                                 | 5/22 [00:09<00:34,  2.04s/it]"
     ]
    },
    {
     "name": "stdout",
     "output_type": "stream",
     "text": [
      "Finished processing 625 comments.\n",
      "Finished fetching comments for xDCtlAGjA0c. 625 comments found.\n"
     ]
    },
    {
     "name": "stderr",
     "output_type": "stream",
     "text": [
      "\r",
      "Processing videos:  27%|█████████████████▍                                              | 6/22 [00:09<00:23,  1.44s/it]"
     ]
    },
    {
     "name": "stdout",
     "output_type": "stream",
     "text": [
      "Finished processing 633 comments.\n",
      "Finished fetching comments for YFpYNRX67hk. 633 comments found.\n",
      "Finished processing 653 comments.\n",
      "Finished processing 661 comments.\n"
     ]
    },
    {
     "name": "stderr",
     "output_type": "stream",
     "text": [
      "\r",
      "Processing videos:  32%|████████████████████▎                                           | 7/22 [00:09<00:17,  1.16s/it]"
     ]
    },
    {
     "name": "stdout",
     "output_type": "stream",
     "text": [
      "Finished fetching comments for Cp48NX8clAA. 661 comments found.\n",
      "Finished processing 681 comments.\n",
      "Finished processing 687 comments.\n"
     ]
    },
    {
     "name": "stderr",
     "output_type": "stream",
     "text": [
      "\r",
      "Processing videos:  36%|███████████████████████▎                                        | 8/22 [00:10<00:13,  1.06it/s]"
     ]
    },
    {
     "name": "stdout",
     "output_type": "stream",
     "text": [
      "Finished fetching comments for ThvNwfGwaOE. 687 comments found.\n"
     ]
    },
    {
     "name": "stderr",
     "output_type": "stream",
     "text": [
      "\r",
      "Processing videos:  41%|██████████████████████████▏                                     | 9/22 [00:10<00:09,  1.33it/s]"
     ]
    },
    {
     "name": "stdout",
     "output_type": "stream",
     "text": [
      "Finished processing 704 comments.\n",
      "Finished fetching comments for S3WE134o-mo. 704 comments found.\n"
     ]
    },
    {
     "name": "stderr",
     "output_type": "stream",
     "text": [
      "\r",
      "Processing videos:  45%|████████████████████████████▋                                  | 10/22 [00:11<00:07,  1.51it/s]"
     ]
    },
    {
     "name": "stdout",
     "output_type": "stream",
     "text": [
      "Finished processing 720 comments.\n",
      "Finished fetching comments for ikTln_LOADg. 720 comments found.\n",
      "Finished processing 740 comments.\n"
     ]
    },
    {
     "name": "stderr",
     "output_type": "stream",
     "text": [
      "\r",
      "Processing videos:  50%|███████████████████████████████▌                               | 11/22 [00:11<00:07,  1.52it/s]"
     ]
    },
    {
     "name": "stdout",
     "output_type": "stream",
     "text": [
      "Finished processing 746 comments.\n",
      "Finished fetching comments for d5FKIh21kVQ. 746 comments found.\n",
      "Finished processing 766 comments.\n",
      "Finished processing 786 comments.\n",
      "Finished processing 806 comments.\n",
      "Finished processing 811 comments.\n"
     ]
    },
    {
     "name": "stderr",
     "output_type": "stream",
     "text": [
      "\r",
      "Processing videos:  55%|██████████████████████████████████▎                            | 12/22 [00:12<00:08,  1.21it/s]"
     ]
    },
    {
     "name": "stdout",
     "output_type": "stream",
     "text": [
      "Finished fetching comments for fOoMDPcy-ao. 811 comments found.\n",
      "Finished processing 831 comments.\n",
      "Finished processing 851 comments.\n",
      "Finished processing 853 comments.\n"
     ]
    },
    {
     "name": "stderr",
     "output_type": "stream",
     "text": [
      "\r",
      "Processing videos:  59%|█████████████████████████████████████▏                         | 13/22 [00:13<00:07,  1.21it/s]"
     ]
    },
    {
     "name": "stdout",
     "output_type": "stream",
     "text": [
      "Finished fetching comments for AfS_X2bfAJg. 853 comments found.\n",
      "Finished processing 873 comments.\n",
      "Finished processing 891 comments.\n"
     ]
    },
    {
     "name": "stderr",
     "output_type": "stream",
     "text": [
      "\r",
      "Processing videos:  64%|████████████████████████████████████████                       | 14/22 [00:14<00:05,  1.34it/s]"
     ]
    },
    {
     "name": "stdout",
     "output_type": "stream",
     "text": [
      "Finished fetching comments for YVxSNRhVypA. 891 comments found.\n"
     ]
    },
    {
     "name": "stderr",
     "output_type": "stream",
     "text": [
      "\r",
      "Processing videos:  68%|██████████████████████████████████████████▉                    | 15/22 [00:14<00:04,  1.58it/s]"
     ]
    },
    {
     "name": "stdout",
     "output_type": "stream",
     "text": [
      "Finished processing 892 comments.\n",
      "Finished fetching comments for ttDpr-6_GBI. 892 comments found.\n"
     ]
    },
    {
     "name": "stderr",
     "output_type": "stream",
     "text": [
      "\r",
      "Processing videos:  73%|█████████████████████████████████████████████▊                 | 16/22 [00:15<00:03,  1.86it/s]"
     ]
    },
    {
     "name": "stdout",
     "output_type": "stream",
     "text": [
      "Finished processing 912 comments.\n",
      "Finished fetching comments for ur4uq7_ewUQ. 912 comments found.\n"
     ]
    },
    {
     "name": "stderr",
     "output_type": "stream",
     "text": [
      "\r",
      "Processing videos:  77%|████████████████████████████████████████████████▋              | 17/22 [00:15<00:02,  2.13it/s]"
     ]
    },
    {
     "name": "stdout",
     "output_type": "stream",
     "text": [
      "Finished processing 927 comments.\n",
      "Finished fetching comments for 5gay09DQdQI. 927 comments found.\n",
      "Finished processing 947 comments.\n"
     ]
    },
    {
     "name": "stderr",
     "output_type": "stream",
     "text": [
      "\r",
      "Processing videos:  82%|███████████████████████████████████████████████████▌           | 18/22 [00:15<00:02,  1.99it/s]"
     ]
    },
    {
     "name": "stdout",
     "output_type": "stream",
     "text": [
      "Finished processing 964 comments.\n",
      "Finished fetching comments for f-RaA60FUrw. 964 comments found.\n",
      "Finished processing 984 comments.\n",
      "Finished processing 1004 comments.\n",
      "Finished processing 1024 comments.\n",
      "Finished processing 1044 comments.\n",
      "Finished processing 1064 comments.\n",
      "Finished processing 1084 comments.\n",
      "Finished processing 1105 comments.\n",
      "Finished processing 1129 comments.\n",
      "Finished processing 1151 comments.\n",
      "Finished processing 1181 comments.\n",
      "Finished processing 1209 comments.\n",
      "Finished processing 1240 comments.\n",
      "Finished processing 1260 comments.\n",
      "Finished processing 1298 comments.\n",
      "Finished processing 1334 comments.\n"
     ]
    },
    {
     "name": "stderr",
     "output_type": "stream",
     "text": [
      "\r",
      "Processing videos:  86%|██████████████████████████████████████████████████████▍        | 19/22 [00:21<00:05,  1.94s/it]"
     ]
    },
    {
     "name": "stdout",
     "output_type": "stream",
     "text": [
      "Finished processing 1345 comments.\n",
      "Finished fetching comments for TwqmICVZ7xQ. 1345 comments found.\n",
      "Finished processing 1365 comments.\n",
      "Finished processing 1385 comments.\n",
      "Finished processing 1408 comments.\n"
     ]
    },
    {
     "name": "stderr",
     "output_type": "stream",
     "text": [
      "\r",
      "Processing videos:  91%|█████████████████████████████████████████████████████████▎     | 20/22 [00:22<00:03,  1.77s/it]"
     ]
    },
    {
     "name": "stdout",
     "output_type": "stream",
     "text": [
      "Finished processing 1417 comments.\n",
      "Finished fetching comments for WrsZJxpZcH0. 1417 comments found.\n",
      "Finished processing 1437 comments.\n",
      "Finished processing 1457 comments.\n",
      "Finished processing 1477 comments.\n",
      "Finished processing 1500 comments.\n",
      "Finished processing 1529 comments.\n",
      "Finished processing 1549 comments.\n",
      "Finished processing 1581 comments.\n",
      "Finished processing 1620 comments.\n",
      "Finished processing 1629 comments.\n"
     ]
    },
    {
     "name": "stderr",
     "output_type": "stream",
     "text": [
      "\r",
      "Processing videos:  95%|████████████████████████████████████████████████████████████▏  | 21/22 [00:26<00:02,  2.43s/it]"
     ]
    },
    {
     "name": "stdout",
     "output_type": "stream",
     "text": [
      "Finished fetching comments for 2yTT_gsiXL0. 1629 comments found.\n",
      "Finished processing 1649 comments.\n",
      "Finished processing 1669 comments.\n",
      "Finished processing 1689 comments.\n",
      "Finished processing 1709 comments.\n",
      "Finished processing 1729 comments.\n",
      "Finished processing 1749 comments.\n",
      "Finished processing 1769 comments.\n",
      "Finished processing 1790 comments.\n",
      "Finished processing 1810 comments.\n",
      "Finished processing 1836 comments.\n"
     ]
    },
    {
     "name": "stderr",
     "output_type": "stream",
     "text": [
      "Processing videos: 100%|███████████████████████████████████████████████████████████████| 22/22 [00:31<00:00,  1.45s/it]"
     ]
    },
    {
     "name": "stdout",
     "output_type": "stream",
     "text": [
      "Finished processing 1852 comments.\n",
      "Finished fetching comments for _ShclHTKJoY. 1852 comments found.\n",
      "CPU times: total: 8.33 s\n",
      "Wall time: 32 s\n"
     ]
    },
    {
     "name": "stderr",
     "output_type": "stream",
     "text": [
      "\n"
     ]
    }
   ],
   "source": [
    "%%time\n",
    "if __name__ == '__main__':\n",
    "    # get comments\n",
    "#     response = comment_threads(videoID='7Kt6ouYqacQ', to_csv=True)\n",
    "#     print(response)\n",
    "    for video_id in tqdm(video_ids, desc='Processing videos'):\n",
    "        response = comment_threads(videoID=video_id, to_csv=True)"
   ]
  },
  {
   "cell_type": "code",
   "execution_count": 14,
   "id": "ea4d5b38",
   "metadata": {},
   "outputs": [],
   "source": [
    "def extract_shorts_id(url):\n",
    "    if 'youtube.com/shorts/' in url:\n",
    "        return url.split('youtube.com/shorts/')[1].strip('/')\n",
    "    else:\n",
    "        return None"
   ]
  },
  {
   "cell_type": "code",
   "execution_count": 11,
   "id": "08b5d7e9",
   "metadata": {},
   "outputs": [],
   "source": [
    "# smriti irani\n",
    "links = [\n",
    "    'https://www.youtube.com/watch?v=9g3692xrYog',\n",
    "    'https://www.youtube.com/watch?v=-L-xfr3pyMM', \n",
    "    'https://www.youtube.com/watch?v=tC0TWLQwxlg',\n",
    "    'https://www.youtube.com/watch?v=XAD-xUbncew',\n",
    "    'https://www.youtube.com/watch?v=xDCtlAGjA0c'\n",
    "]\n",
    "short_links = [\n",
    "    \"https://www.youtube.com/shorts/YFpYNRX67hk\",\n",
    "    \"https://www.youtube.com/shorts/Cp48NX8clAA\",\n",
    "    \"https://www.youtube.com/shorts/ThvNwfGwaOE\",\n",
    "    \"https://www.youtube.com/shorts/S3WE134o-mo\",\n",
    "    \"https://www.youtube.com/shorts/ikTln_LOADg\",\n",
    "    \"https://www.youtube.com/shorts/d5FKIh21kVQ\",\n",
    "    \"https://www.youtube.com/shorts/fOoMDPcy-ao\",\n",
    "    \"https://www.youtube.com/shorts/AfS_X2bfAJg\",\n",
    "    \"https://www.youtube.com/shorts/YVxSNRhVypA\",\n",
    "    \"https://www.youtube.com/shorts/ttDpr-6_GBI\",\n",
    "    \"https://www.youtube.com/shorts/ur4uq7_ewUQ\",\n",
    "    \"https://www.youtube.com/shorts/5gay09DQdQI\",\n",
    "    \"https://www.youtube.com/shorts/f-RaA60FUrw\",\n",
    "    \"https://www.youtube.com/shorts/TwqmICVZ7xQ\",\n",
    "    \"https://www.youtube.com/shorts/WrsZJxpZcH0\",\n",
    "    \"https://www.youtube.com/shorts/2yTT_gsiXL0\",\n",
    "    \"https://www.youtube.com/shorts/_ShclHTKJoY\"\n",
    "]"
   ]
  },
  {
   "cell_type": "code",
   "execution_count": null,
   "id": "bacdd9a0",
   "metadata": {},
   "outputs": [],
   "source": []
  },
  {
   "cell_type": "code",
   "execution_count": 15,
   "id": "0f847630",
   "metadata": {},
   "outputs": [
    {
     "name": "stdout",
     "output_type": "stream",
     "text": [
      "YFpYNRX67hk\n",
      "Cp48NX8clAA\n",
      "ThvNwfGwaOE\n",
      "S3WE134o-mo\n",
      "ikTln_LOADg\n",
      "d5FKIh21kVQ\n",
      "fOoMDPcy-ao\n",
      "AfS_X2bfAJg\n",
      "YVxSNRhVypA\n",
      "ttDpr-6_GBI\n",
      "ur4uq7_ewUQ\n",
      "5gay09DQdQI\n",
      "f-RaA60FUrw\n",
      "TwqmICVZ7xQ\n",
      "WrsZJxpZcH0\n",
      "2yTT_gsiXL0\n",
      "_ShclHTKJoY\n"
     ]
    }
   ],
   "source": [
    "for l in short_links:\n",
    "#     link = extract_video_id(l)\n",
    "    link = extract_shorts_id(l)\n",
    "    print(link)"
   ]
  },
  {
   "cell_type": "code",
   "execution_count": null,
   "id": "24b10125",
   "metadata": {},
   "outputs": [],
   "source": []
  }
 ],
 "metadata": {
  "kernelspec": {
   "display_name": "Python 3 (ipykernel)",
   "language": "python",
   "name": "python3"
  },
  "language_info": {
   "codemirror_mode": {
    "name": "ipython",
    "version": 3
   },
   "file_extension": ".py",
   "mimetype": "text/x-python",
   "name": "python",
   "nbconvert_exporter": "python",
   "pygments_lexer": "ipython3",
   "version": "3.11.4"
  }
 },
 "nbformat": 4,
 "nbformat_minor": 5
}
