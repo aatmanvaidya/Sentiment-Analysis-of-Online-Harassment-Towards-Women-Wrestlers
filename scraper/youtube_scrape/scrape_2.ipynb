{
 "cells": [
  {
   "cell_type": "code",
   "execution_count": 1,
   "id": "5f5ecf4f",
   "metadata": {},
   "outputs": [],
   "source": [
    "import os\n",
    "from dotenv import load_dotenv\n",
    "from googleapiclient.discovery import build\n",
    "import re\n",
    "from tqdm import tqdm\n",
    "import csv"
   ]
  },
  {
   "cell_type": "code",
   "execution_count": 2,
   "id": "1fe9a3dd",
   "metadata": {},
   "outputs": [],
   "source": [
    "load_dotenv()\n",
    "api_key = os.getenv(\"API_KEY\")"
   ]
  },
  {
   "cell_type": "code",
   "execution_count": 3,
   "id": "f0b03479",
   "metadata": {},
   "outputs": [],
   "source": [
    "# create a service object for interacting with the YouTube Data API\n",
    "youtube = build(\"youtube\", \"v3\", developerKey=api_key, cache_discovery=False)"
   ]
  },
  {
   "cell_type": "code",
   "execution_count": 4,
   "id": "98351f77",
   "metadata": {},
   "outputs": [],
   "source": [
    "def extract_video_id(url):\n",
    "    video_id = None\n",
    "    if \"youtu.be\" in url:\n",
    "        video_id = url.split(\"/\")[-1]\n",
    "    else:\n",
    "        query_string = url.split(\"?\")[-1]\n",
    "        parameters = query_string.split(\"&\")\n",
    "        for param in parameters:\n",
    "            if param.startswith(\"v=\"):\n",
    "                video_id = param[2:]\n",
    "                break\n",
    "\n",
    "    return video_id"
   ]
  },
  {
   "cell_type": "code",
   "execution_count": 8,
   "id": "4b29adb6",
   "metadata": {},
   "outputs": [],
   "source": [
    "# TEST\n",
    "link = \"https://www.youtube.com/watch?v=36N1Bz7qW0A\"\n",
    "request = youtube.commentThreads().list(part='id,replies,snippet', videoId=extract_video_id(link))\n",
    "response = request.execute()\n",
    "print(response)"
   ]
  },
  {
   "cell_type": "code",
   "execution_count": 9,
   "id": "2f342646",
   "metadata": {},
   "outputs": [
    {
     "name": "stderr",
     "output_type": "stream",
     "text": [
      "Processing videos:   0%|                                                                         | 0/1 [00:00<?, ?it/s]\n"
     ]
    },
    {
     "ename": "ValueError",
     "evalue": "The truth value of a RangeIndex is ambiguous. Use a.empty, a.bool(), a.item(), a.any() or a.all().",
     "output_type": "error",
     "traceback": [
      "\u001b[1;31m---------------------------------------------------------------------------\u001b[0m",
      "\u001b[1;31mValueError\u001b[0m                                Traceback (most recent call last)",
      "Cell \u001b[1;32mIn[9], line 65\u001b[0m\n\u001b[0;32m     62\u001b[0m         all_comments_df \u001b[38;5;241m=\u001b[39m get_all_comments(video_id)\n\u001b[0;32m     64\u001b[0m \u001b[38;5;28;01mif\u001b[39;00m \u001b[38;5;18m__name__\u001b[39m \u001b[38;5;241m==\u001b[39m \u001b[38;5;124m'\u001b[39m\u001b[38;5;124m__main__\u001b[39m\u001b[38;5;124m'\u001b[39m:\n\u001b[1;32m---> 65\u001b[0m     main()\n",
      "Cell \u001b[1;32mIn[9], line 62\u001b[0m, in \u001b[0;36mmain\u001b[1;34m()\u001b[0m\n\u001b[0;32m     59\u001b[0m video_ids \u001b[38;5;241m=\u001b[39m [\u001b[38;5;124m'\u001b[39m\u001b[38;5;124m36N1Bz7qW0A\u001b[39m\u001b[38;5;124m'\u001b[39m]\n\u001b[0;32m     61\u001b[0m \u001b[38;5;28;01mfor\u001b[39;00m video_id \u001b[38;5;129;01min\u001b[39;00m tqdm(video_ids, desc\u001b[38;5;241m=\u001b[39m\u001b[38;5;124m'\u001b[39m\u001b[38;5;124mProcessing videos\u001b[39m\u001b[38;5;124m'\u001b[39m):\n\u001b[1;32m---> 62\u001b[0m     all_comments_df \u001b[38;5;241m=\u001b[39m get_all_comments(video_id)\n",
      "Cell \u001b[1;32mIn[9], line 46\u001b[0m, in \u001b[0;36mget_all_comments\u001b[1;34m(video_id)\u001b[0m\n\u001b[0;32m     43\u001b[0m response \u001b[38;5;241m=\u001b[39m request\u001b[38;5;241m.\u001b[39mexecute()\n\u001b[0;32m     45\u001b[0m \u001b[38;5;66;03m# Create DataFrame columns dynamically based on response keys\u001b[39;00m\n\u001b[1;32m---> 46\u001b[0m \u001b[38;5;28;01mif\u001b[39;00m \u001b[38;5;129;01mnot\u001b[39;00m comments_df\u001b[38;5;241m.\u001b[39mcolumns:\n\u001b[0;32m     47\u001b[0m     comments_df \u001b[38;5;241m=\u001b[39m pd\u001b[38;5;241m.\u001b[39mDataFrame(columns\u001b[38;5;241m=\u001b[39mresponse[\u001b[38;5;124m'\u001b[39m\u001b[38;5;124mitems\u001b[39m\u001b[38;5;124m'\u001b[39m][\u001b[38;5;241m0\u001b[39m][\u001b[38;5;124m'\u001b[39m\u001b[38;5;124msnippet\u001b[39m\u001b[38;5;124m'\u001b[39m]\u001b[38;5;241m.\u001b[39mkeys())\n\u001b[0;32m     49\u001b[0m comments_df \u001b[38;5;241m=\u001b[39m process_comments(response[\u001b[38;5;124m'\u001b[39m\u001b[38;5;124mitems\u001b[39m\u001b[38;5;124m'\u001b[39m], comments_df)\n",
      "File \u001b[1;32m~\\miniconda3\\Lib\\site-packages\\pandas\\core\\indexes\\base.py:3169\u001b[0m, in \u001b[0;36mIndex.__nonzero__\u001b[1;34m(self)\u001b[0m\n\u001b[0;32m   3167\u001b[0m \u001b[38;5;129m@final\u001b[39m\n\u001b[0;32m   3168\u001b[0m \u001b[38;5;28;01mdef\u001b[39;00m \u001b[38;5;21m__nonzero__\u001b[39m(\u001b[38;5;28mself\u001b[39m) \u001b[38;5;241m-\u001b[39m\u001b[38;5;241m>\u001b[39m NoReturn:\n\u001b[1;32m-> 3169\u001b[0m     \u001b[38;5;28;01mraise\u001b[39;00m \u001b[38;5;167;01mValueError\u001b[39;00m(\n\u001b[0;32m   3170\u001b[0m         \u001b[38;5;124mf\u001b[39m\u001b[38;5;124m\"\u001b[39m\u001b[38;5;124mThe truth value of a \u001b[39m\u001b[38;5;132;01m{\u001b[39;00m\u001b[38;5;28mtype\u001b[39m(\u001b[38;5;28mself\u001b[39m)\u001b[38;5;241m.\u001b[39m\u001b[38;5;18m__name__\u001b[39m\u001b[38;5;132;01m}\u001b[39;00m\u001b[38;5;124m is ambiguous. \u001b[39m\u001b[38;5;124m\"\u001b[39m\n\u001b[0;32m   3171\u001b[0m         \u001b[38;5;124m\"\u001b[39m\u001b[38;5;124mUse a.empty, a.bool(), a.item(), a.any() or a.all().\u001b[39m\u001b[38;5;124m\"\u001b[39m\n\u001b[0;32m   3172\u001b[0m     )\n",
      "\u001b[1;31mValueError\u001b[0m: The truth value of a RangeIndex is ambiguous. Use a.empty, a.bool(), a.item(), a.any() or a.all()."
     ]
    }
   ],
   "source": [
    "import os\n",
    "import pandas as pd\n",
    "from dotenv import load_dotenv\n",
    "from googleapiclient.discovery import build\n",
    "from tqdm import tqdm\n",
    "\n",
    "# Load your API key from an environment variable\n",
    "load_dotenv()\n",
    "api_key = os.getenv(\"API_KEY\")\n",
    "\n",
    "# Create a service object for interacting with the YouTube Data API\n",
    "youtube = build(\"youtube\", \"v3\", developerKey=api_key, cache_discovery=False)\n",
    "\n",
    "def extract_video_id(url):\n",
    "    # Assuming the URL is in the format 'https://www.youtube.com/watch?v=video_id'\n",
    "    return url.split('v=')[1]\n",
    "\n",
    "def process_comments(response_items, comments_df):\n",
    "    for res in response_items:\n",
    "        if 'replies' in res:\n",
    "            # Process replies to top-level comments\n",
    "            for reply in res['replies']['comments']:\n",
    "                comment = reply['snippet']\n",
    "                comment['parentId'] = res['snippet']['topLevelComment']['id']\n",
    "                comments_df = comments_df.append(comment, ignore_index=True)\n",
    "        else:\n",
    "            # Top-level comment\n",
    "            comment = res['snippet']['topLevelComment']['snippet']\n",
    "            comment['parentId'] = None\n",
    "            comments_df = comments_df.append(comment, ignore_index=True)\n",
    "    return comments_df\n",
    "\n",
    "def get_all_comments(video_id):\n",
    "    comments_df = pd.DataFrame()  # Initialize an empty DataFrame\n",
    "\n",
    "    request = youtube.commentThreads().list(\n",
    "        part='id,replies,snippet',\n",
    "        videoId=video_id,\n",
    "        maxResults=100\n",
    "    )\n",
    "\n",
    "    while request:\n",
    "        response = request.execute()\n",
    "\n",
    "        # Create DataFrame columns dynamically based on response keys\n",
    "        if not comments_df.columns:\n",
    "            comments_df = pd.DataFrame(columns=response['items'][0]['snippet'].keys())\n",
    "\n",
    "        comments_df = process_comments(response['items'], comments_df)\n",
    "\n",
    "        if 'nextPageToken' in response:\n",
    "            request = youtube.commentThreads().list_next(request, response)\n",
    "        else:\n",
    "            break\n",
    "\n",
    "    return comments_df\n",
    "\n",
    "def main():\n",
    "    video_ids = ['36N1Bz7qW0A']\n",
    "\n",
    "    for video_id in tqdm(video_ids, desc='Processing videos'):\n",
    "        all_comments_df = get_all_comments(video_id)\n",
    "\n",
    "if __name__ == '__main__':\n",
    "    main()"
   ]
  },
  {
   "cell_type": "code",
   "execution_count": null,
   "id": "043a7d74",
   "metadata": {},
   "outputs": [],
   "source": []
  }
 ],
 "metadata": {
  "kernelspec": {
   "display_name": "Python 3 (ipykernel)",
   "language": "python",
   "name": "python3"
  },
  "language_info": {
   "codemirror_mode": {
    "name": "ipython",
    "version": 3
   },
   "file_extension": ".py",
   "mimetype": "text/x-python",
   "name": "python",
   "nbconvert_exporter": "python",
   "pygments_lexer": "ipython3",
   "version": "3.11.4"
  }
 },
 "nbformat": 4,
 "nbformat_minor": 5
}
