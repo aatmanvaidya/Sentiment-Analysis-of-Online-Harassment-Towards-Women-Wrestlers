{
 "cells": [
  {
   "cell_type": "code",
   "execution_count": 43,
   "id": "7825e7be",
   "metadata": {},
   "outputs": [],
   "source": [
    "# import sys\n",
    "# !{sys.executable} -m pip install python-dotenv\n",
    "# !{sys.executable} -m pip install google-api-python-client\n",
    "# !{sys.executable} -m pip install iteration-utilities"
   ]
  },
  {
   "cell_type": "code",
   "execution_count": 53,
   "id": "daba4ea0",
   "metadata": {},
   "outputs": [],
   "source": [
    "# Code Link - https://github.com/onlyphantom/youtube_api_python/blob/main/yt_public.py"
   ]
  },
  {
   "cell_type": "code",
   "execution_count": 44,
   "id": "65cf3761",
   "metadata": {},
   "outputs": [],
   "source": [
    "import os\n",
    "from dotenv import load_dotenv\n",
    "from googleapiclient.discovery import build\n",
    "from iteration_utilities import unique_everseen\n",
    "import csv"
   ]
  },
  {
   "cell_type": "code",
   "execution_count": 45,
   "id": "396873f7",
   "metadata": {},
   "outputs": [],
   "source": [
    "comments = []"
   ]
  },
  {
   "cell_type": "code",
   "execution_count": 46,
   "id": "426586a8",
   "metadata": {},
   "outputs": [],
   "source": [
    "def process_comments(response_items, csv_output=False):\n",
    "\n",
    "    for res in response_items:\n",
    "\n",
    "        # loop through the replies\n",
    "        if 'replies' in res.keys():\n",
    "            for reply in res['replies']['comments']:\n",
    "                comment = reply['snippet']\n",
    "                comment['commentId'] = reply['id']\n",
    "                comments.append(comment)\n",
    "        else:\n",
    "            comment = {}\n",
    "            comment['snippet'] = res['snippet']['topLevelComment']['snippet']\n",
    "            comment['snippet']['parentId'] = None\n",
    "            comment['snippet']['commentId'] = res['snippet']['topLevelComment']['id']\n",
    "\n",
    "            comments.append(comment['snippet'])\n",
    "\n",
    "    if csv_output:\n",
    "         make_csv(comments)\n",
    "    \n",
    "    print(f'Finished processing {len(comments)} comments.')\n",
    "    return comments"
   ]
  },
  {
   "cell_type": "code",
   "execution_count": 47,
   "id": "d73974b8",
   "metadata": {},
   "outputs": [],
   "source": [
    "def make_csv(comments, channelID=None):\n",
    "    header = comments[0].keys()\n",
    "\n",
    "    if channelID:\n",
    "#         filename = f'comments_{channelID}_{today}.csv'\n",
    "        filename = f'comments.csv'\n",
    "    else:\n",
    "#         filename = f'comments_{today}.csv'\n",
    "        filename = f'comments.csv'\n",
    "\n",
    "    with open(filename, 'w', encoding='utf8', newline='') as f:\n",
    "        writer = csv.DictWriter(f, fieldnames=header, extrasaction='ignore')\n",
    "        writer.writeheader()\n",
    "        writer.writerows(comments)"
   ]
  },
  {
   "cell_type": "code",
   "execution_count": 48,
   "id": "23ec1d88",
   "metadata": {},
   "outputs": [],
   "source": [
    "load_dotenv()\n",
    "API_KEY = os.getenv(\"API_KEY\")"
   ]
  },
  {
   "cell_type": "code",
   "execution_count": 49,
   "id": "3c106bc2",
   "metadata": {},
   "outputs": [],
   "source": [
    "#create a service object for interacting with the YouTube Data API\n",
    "youtube = build(\"youtube\", \"v3\", developerKey=API_KEY, cache_discovery=False)"
   ]
  },
  {
   "cell_type": "code",
   "execution_count": 50,
   "id": "5bb12182",
   "metadata": {},
   "outputs": [],
   "source": [
    "def comment_threads(videoID, to_csv=False):\n",
    "    \n",
    "    comments_list = []\n",
    "    \n",
    "    request = youtube.commentThreads().list(\n",
    "        part='id,replies,snippet',\n",
    "        videoId=videoID,\n",
    "    )\n",
    "    response = request.execute()\n",
    "    comments_list.extend(process_comments(response['items']))\n",
    "\n",
    "    # if there is nextPageToken, then keep calling the API\n",
    "    while response.get('nextPageToken', None):\n",
    "        request = youtube.commentThreads().list(\n",
    "            part='id,replies,snippet',\n",
    "            videoId=videoID,\n",
    "            pageToken=response['nextPageToken']\n",
    "        )\n",
    "        response = request.execute()\n",
    "        comments_list.extend(process_comments(response['items']))\n",
    "\n",
    "    comments_list = list(unique_everseen(comments_list))\n",
    "\n",
    "    print(f\"Finished fetching comments for {videoID}. {len(comments_list)} comments found.\")\n",
    "    \n",
    "    if to_csv:\n",
    "#         make_csv(comments_list, videoID)\n",
    "        make_csv(comments_list)\n",
    "    return comments_list"
   ]
  },
  {
   "cell_type": "code",
   "execution_count": 51,
   "id": "7114b98c",
   "metadata": {},
   "outputs": [
    {
     "name": "stdout",
     "output_type": "stream",
     "text": [
      "Finished processing 19 comments.\n",
      "Finished processing 55 comments.\n",
      "Finished processing 58 comments.\n",
      "Finished fetching comments for G4EVRUFttG0. 58 comments found.\n",
      "[{'videoId': 'G4EVRUFttG0', 'textDisplay': 'Our community is creating +100 memes per day!\\r<br>Join-\\r<br><a href=\"https://www.reddit.com/r/DesiVideoMemes/\">https://www.reddit.com/r/DesiVideoMemes/</a>', 'textOriginal': 'Our community is creating +100 memes per day!\\r\\nJoin-\\r\\nhttps://www.reddit.com/r/DesiVideoMemes/', 'authorDisplayName': 'MemeMandir', 'authorProfileImageUrl': 'https://yt3.ggpht.com/ytc/AGIKgqMp5pvb5WoGDH5IzEY2YTA7M1fnrWhG4u4EJq93QA=s48-c-k-c0x00ffffff-no-rj', 'authorChannelUrl': 'http://www.youtube.com/channel/UCg5ogbPlpn8DN-NrLPK12VQ', 'authorChannelId': {'value': 'UCg5ogbPlpn8DN-NrLPK12VQ'}, 'canRate': True, 'viewerRating': 'none', 'likeCount': 2, 'publishedAt': '2023-07-04T00:29:56Z', 'updatedAt': '2023-07-04T00:29:56Z', 'parentId': None, 'commentId': 'UgxUjwAaGVCqDDDXsCx4AaABAg'}, {'videoId': 'G4EVRUFttG0', 'textDisplay': 'SPIDERMAN IS KHALISTANI 😢😢😢', 'textOriginal': 'SPIDERMAN IS KHALISTANI 😢😢😢', 'authorDisplayName': 'Do', 'authorProfileImageUrl': 'https://yt3.ggpht.com/ytc/AGIKgqPcYE6KGvMZdc9NqdNOJTvDyugnXKqANOEGyF29ms2jh5mXW6rl2yg00RQ2SM-YDA=s48-c-k-c0x00ffffff-no-rj', 'authorChannelUrl': 'http://www.youtube.com/channel/UC1jnlx9hNzgL0vJlAm1aaNQ', 'authorChannelId': {'value': 'UC1jnlx9hNzgL0vJlAm1aaNQ'}, 'canRate': True, 'viewerRating': 'none', 'likeCount': 0, 'publishedAt': '2023-07-05T06:19:49Z', 'updatedAt': '2023-07-05T06:19:49Z', 'parentId': None, 'commentId': 'UgxMdUxNT4Ig0gxvVcV4AaABAg'}, {'videoId': 'G4EVRUFttG0', 'textDisplay': 'What’s a example of a canon event', 'textOriginal': 'What’s a example of a canon event', 'authorDisplayName': 'Its_Mikaela', 'authorProfileImageUrl': 'https://yt3.ggpht.com/iKomXlruAZwpxg2tuaI7LwHCqM6O_RD4e5VOTFiGCwMUhQl1O8lVKIK6-z83tpd1TjsAhisISQ=s48-c-k-c0x00ffffff-no-rj', 'authorChannelUrl': 'http://www.youtube.com/channel/UCh3h6xGai38OTY6Vdthjr6Q', 'authorChannelId': {'value': 'UCh3h6xGai38OTY6Vdthjr6Q'}, 'canRate': True, 'viewerRating': 'none', 'likeCount': 0, 'publishedAt': '2023-07-05T00:29:13Z', 'updatedAt': '2023-07-05T00:29:13Z', 'parentId': None, 'commentId': 'UgyOx58tkXakqBqM7nZ4AaABAg'}, {'videoId': 'G4EVRUFttG0', 'textDisplay': 'Delete and Apologize. Or my masterclass awaits for you. I hope you make the right decision.', 'textOriginal': 'Delete and Apologize. Or my masterclass awaits for you. I hope you make the right decision.', 'authorDisplayName': 'Ankit Pandey', 'authorProfileImageUrl': 'https://yt3.ggpht.com/ytc/AGIKgqPKmgI014fufMMHsg7-ofVISkCpfkz97d0Q3xdVvM8=s48-c-k-c0x00ffffff-no-rj', 'authorChannelUrl': 'http://www.youtube.com/channel/UChtKfxzG--c5uYJeaTaD_rg', 'authorChannelId': {'value': 'UChtKfxzG--c5uYJeaTaD_rg'}, 'canRate': True, 'viewerRating': 'none', 'likeCount': 0, 'publishedAt': '2023-07-04T10:41:07Z', 'updatedAt': '2023-07-04T10:41:29Z', 'parentId': None, 'commentId': 'Ugw-EUy2W3JFsPUv2A94AaABAg'}, {'videoId': 'G4EVRUFttG0', 'textDisplay': 'Ain&#39;t no way 💀💀☠', 'textOriginal': \"Ain't no way 💀💀☠\", 'authorDisplayName': 'Darshil Jain', 'authorProfileImageUrl': 'https://yt3.ggpht.com/ytc/AGIKgqMjgtNmw7XVdn3_cldqWjPtIAIlggOKCLESSPCyVQ=s48-c-k-c0x00ffffff-no-rj', 'authorChannelUrl': 'http://www.youtube.com/channel/UCNAsbml6BgiOVeILwF_2A9g', 'authorChannelId': {'value': 'UCNAsbml6BgiOVeILwF_2A9g'}, 'canRate': True, 'viewerRating': 'none', 'likeCount': 1, 'publishedAt': '2023-07-03T13:05:39Z', 'updatedAt': '2023-07-03T13:05:39Z', 'parentId': None, 'commentId': 'Ugw7DXrDhacNXgSG-t14AaABAg'}, {'videoId': 'G4EVRUFttG0', 'textDisplay': '💀', 'textOriginal': '💀', 'authorDisplayName': 'Shivansh Pratap Singh', 'authorProfileImageUrl': 'https://yt3.ggpht.com/44-uCi8BrwFzjaIIycGLeVEL2DeqVoP6NRtD9xk_O9M9r09UpQbB4H_DSpmagfREcvnuv5KOMw=s48-c-k-c0x00ffffff-no-rj', 'authorChannelUrl': 'http://www.youtube.com/channel/UCT5-AwdB6HZj7rSor_2ib0g', 'authorChannelId': {'value': 'UCT5-AwdB6HZj7rSor_2ib0g'}, 'canRate': True, 'viewerRating': 'none', 'likeCount': 0, 'publishedAt': '2023-07-03T08:55:15Z', 'updatedAt': '2023-07-03T08:55:15Z', 'parentId': None, 'commentId': 'UgzYPycV7h7N400HuOF4AaABAg'}, {'videoId': 'G4EVRUFttG0', 'textDisplay': 'Kaneda&#39;s favorite meme', 'textOriginal': \"Kaneda's favorite meme\", 'authorDisplayName': 'Redemption Radical', 'authorProfileImageUrl': 'https://yt3.ggpht.com/W8z00FodniMPX1giEAM1oGDkya7s4fgG-31haXGSqf7opy69yLj8cmBPZzH0atLge8t9bHcPO-Y=s48-c-k-c0x00ffffff-no-rj', 'authorChannelUrl': 'http://www.youtube.com/channel/UCM_CJFtEVx90hiyulQg18-w', 'authorChannelId': {'value': 'UCM_CJFtEVx90hiyulQg18-w'}, 'canRate': True, 'viewerRating': 'none', 'likeCount': 5, 'publishedAt': '2023-07-03T00:06:19Z', 'updatedAt': '2023-07-03T00:06:19Z', 'parentId': None, 'commentId': 'UgxUpowfFGetzN6vs2F4AaABAg'}, {'videoId': 'G4EVRUFttG0', 'textDisplay': 'sponsored by modi ji', 'textOriginal': 'sponsored by modi ji', 'authorDisplayName': 'Basuwans', 'authorProfileImageUrl': 'https://yt3.ggpht.com/js9uhdMONHcI4FnK5xMLoSMxwPutr26a_W8aS1Gz2Kd595h0f-rKzJGMkXB5Kk0_GKYU6TFXoA=s48-c-k-c0x00ffffff-no-rj', 'authorChannelUrl': 'http://www.youtube.com/channel/UCoWwGByDobmaxcsqYt5wqbA', 'authorChannelId': {'value': 'UCoWwGByDobmaxcsqYt5wqbA'}, 'canRate': True, 'viewerRating': 'none', 'likeCount': 0, 'publishedAt': '2023-07-02T21:13:25Z', 'updatedAt': '2023-07-02T21:13:25Z', 'parentId': None, 'commentId': 'UgzHsKCJshqHERGVQVt4AaABAg'}, {'videoId': 'G4EVRUFttG0', 'textDisplay': 'Ladusing', 'textOriginal': 'Ladusing', 'authorDisplayName': 'Dafa Firmansyah', 'authorProfileImageUrl': 'https://yt3.ggpht.com/-vR655EuUDol0SkwG4YyI59EfT-iak4SCtAiKIqB45lT-bv9YpZMhRLPiG0-uAqA47A_Z85hkv0=s48-c-k-c0x00ffffff-no-rj', 'authorChannelUrl': 'http://www.youtube.com/channel/UCskhzq2ywyFZc1PYcUR6iGQ', 'authorChannelId': {'value': 'UCskhzq2ywyFZc1PYcUR6iGQ'}, 'canRate': True, 'viewerRating': 'none', 'likeCount': 1, 'publishedAt': '2023-07-02T17:26:07Z', 'updatedAt': '2023-07-02T17:26:07Z', 'parentId': None, 'commentId': 'Ugw8GkOvv7iNlnp62KJ4AaABAg'}, {'videoId': 'G4EVRUFttG0', 'textDisplay': 'Bsdk...why u wanna show Punjabi r tarroresits', 'textOriginal': 'Bsdk...why u wanna show Punjabi r tarroresits', 'authorDisplayName': 'Roman Reigns', 'authorProfileImageUrl': 'https://yt3.ggpht.com/ytc/AGIKgqPHmCddpMP5XUUgkKPTvw1Mi4cULul3vfk2Wg=s48-c-k-c0x00ffffff-no-rj', 'authorChannelUrl': 'http://www.youtube.com/channel/UCs1SkobK8St4PjpIdTM_AMQ', 'authorChannelId': {'value': 'UCs1SkobK8St4PjpIdTM_AMQ'}, 'canRate': True, 'viewerRating': 'none', 'likeCount': 1, 'publishedAt': '2023-07-02T16:55:43Z', 'updatedAt': '2023-07-02T16:55:43Z', 'parentId': None, 'commentId': 'Ugzg8arsfHvPHjRWNWV4AaABAg'}, {'videoId': 'G4EVRUFttG0', 'textDisplay': 'i dont get it', 'textOriginal': 'i dont get it', 'authorDisplayName': 'TheGoofChannel', 'authorProfileImageUrl': 'https://yt3.ggpht.com/gBVxXR6vWNkk66taxLlL8m1JrqHeuQia54iK1eeFQb7opgDNgcF7jcVUHSP9Odqc_nDYAufVXg=s48-c-k-c0x00ffffff-no-rj', 'authorChannelUrl': 'http://www.youtube.com/channel/UCmV6b-doeYydoMyylxhHYrA', 'authorChannelId': {'value': 'UCmV6b-doeYydoMyylxhHYrA'}, 'canRate': True, 'viewerRating': 'none', 'likeCount': 0, 'publishedAt': '2023-07-02T16:53:26Z', 'updatedAt': '2023-07-02T16:53:26Z', 'parentId': None, 'commentId': 'Ugxw5AVvVba8TqgMXz14AaABAg'}, {'videoId': 'G4EVRUFttG0', 'textDisplay': 'Oye papaji👳\\u200d♀️👳\\u200d♀️', 'textOriginal': 'Oye papaji👳\\u200d♀️👳\\u200d♀️', 'authorDisplayName': 'Prathak Mehta', 'authorProfileImageUrl': 'https://yt3.ggpht.com/ytc/AGIKgqM5txWzGXENWPgvMTEBkrkVXEz5ZElsIgmjptaG9hMbE5CaQHXsBkPbB4T3Z3ZX=s48-c-k-c0x00ffffff-no-rj', 'authorChannelUrl': 'http://www.youtube.com/channel/UCJtqfJNMZNiBolVTcZ7slVQ', 'authorChannelId': {'value': 'UCJtqfJNMZNiBolVTcZ7slVQ'}, 'canRate': True, 'viewerRating': 'none', 'likeCount': 6, 'publishedAt': '2023-07-02T14:45:31Z', 'updatedAt': '2023-07-02T14:45:31Z', 'parentId': None, 'commentId': 'Ugx2AZU0rnkDln4enYx4AaABAg'}, {'videoId': 'G4EVRUFttG0', 'textDisplay': 'Damnn 💀', 'textOriginal': 'Damnn 💀', 'authorDisplayName': 'Noob', 'authorProfileImageUrl': 'https://yt3.ggpht.com/Q6KqvWjeD7lRPSUA46L2tSTd4iBPJlfU1Wy5I0VvxxlzuTCA_Q8RZH5e05v_a_5QKBHgArDH9L8=s48-c-k-c0x00ffffff-no-rj', 'authorChannelUrl': 'http://www.youtube.com/channel/UCyhVPMuiavlDxSeBUSGGkXw', 'authorChannelId': {'value': 'UCyhVPMuiavlDxSeBUSGGkXw'}, 'canRate': True, 'viewerRating': 'none', 'likeCount': 2, 'publishedAt': '2023-07-02T13:50:17Z', 'updatedAt': '2023-07-02T13:50:17Z', 'parentId': None, 'commentId': 'UgyuyzGvwabt3puNIeB4AaABAg'}, {'videoId': 'G4EVRUFttG0', 'textDisplay': 'Parallel dimension me bhi humara hi dimension gand  marwa raha hai ....😂😂😂', 'textOriginal': 'Parallel dimension me bhi humara hi dimension gand  marwa raha hai ....😂😂😂', 'authorDisplayName': 'Saurabh Singh', 'authorProfileImageUrl': 'https://yt3.ggpht.com/hz89sIfJkv8-T958mkdJUQoM8AUeq19gvCU96aRKdTCTIliCN-_D2ymY2E-jlLTO6QQV7h64eA=s48-c-k-c0x00ffffff-no-rj', 'authorChannelUrl': 'http://www.youtube.com/channel/UC1bdefHN9xJCOZaZ-uawZKQ', 'authorChannelId': {'value': 'UC1bdefHN9xJCOZaZ-uawZKQ'}, 'canRate': True, 'viewerRating': 'none', 'likeCount': 0, 'publishedAt': '2023-07-02T12:58:11Z', 'updatedAt': '2023-07-02T12:58:11Z', 'parentId': None, 'commentId': 'Ugw62cw_lVostIzjG2p4AaABAg'}, {'videoId': 'G4EVRUFttG0', 'textDisplay': 'Pavitri Gandhi', 'textOriginal': 'Pavitri Gandhi', 'authorDisplayName': 'DankDevil', 'authorProfileImageUrl': 'https://yt3.ggpht.com/S7tvbiyYVbdBSStDnkxxusyXCWmSesEbicRxAc4lFNYU-hTKMPl4YQu3-VZppVGNXlj8j5lZmg=s48-c-k-c0x00ffffff-no-rj', 'authorChannelUrl': 'http://www.youtube.com/channel/UC8ey4P5-pq4_bq6KQHo7kVA', 'authorChannelId': {'value': 'UC8ey4P5-pq4_bq6KQHo7kVA'}, 'canRate': True, 'viewerRating': 'none', 'likeCount': 1, 'publishedAt': '2023-07-02T12:03:58Z', 'updatedAt': '2023-07-02T12:03:58Z', 'parentId': None, 'commentId': 'UgyEL9Q_RMStHl3WrEV4AaABAg'}, {'videoId': 'G4EVRUFttG0', 'textDisplay': 'this is brutal, do one more 💀', 'textOriginal': 'this is brutal, do one more 💀', 'authorDisplayName': 'Abhinandan A.B.S', 'authorProfileImageUrl': 'https://yt3.ggpht.com/Mdsk855lDF_eRQl_2Kolr5Qo6AEQFZTyjbgHpwbvyFWk5_XKG3PRcVXcHGqsuV31la-pZBKbhg=s48-c-k-c0x00ffffff-no-rj', 'authorChannelUrl': 'http://www.youtube.com/channel/UCtjk-f5-_KjwWPVICajT07w', 'authorChannelId': {'value': 'UCtjk-f5-_KjwWPVICajT07w'}, 'canRate': True, 'viewerRating': 'none', 'likeCount': 21, 'publishedAt': '2023-07-02T11:43:25Z', 'updatedAt': '2023-07-02T11:43:25Z', 'parentId': None, 'commentId': 'UgyGnhrI9eKVsMmezzh4AaABAg'}, {'videoId': 'G4EVRUFttG0', 'textDisplay': 'You&#39;re genius bro.', 'textOriginal': \"You're genius bro.\", 'authorDisplayName': 'Kishan Thapa', 'authorProfileImageUrl': 'https://yt3.ggpht.com/ytc/AGIKgqOPkIFWUBuWyVsn531JZihA4t28dYtDQDvVxCiZQA=s48-c-k-c0x00ffffff-no-rj', 'authorChannelUrl': 'http://www.youtube.com/channel/UCy0SjVLf-vhvPB-kA0SLHRw', 'authorChannelId': {'value': 'UCy0SjVLf-vhvPB-kA0SLHRw'}, 'canRate': True, 'viewerRating': 'none', 'likeCount': 1, 'publishedAt': '2023-07-02T11:42:11Z', 'updatedAt': '2023-07-02T11:42:11Z', 'parentId': None, 'commentId': 'UgzPqQc-5Pd3nPRsN1x4AaABAg'}, {'videoId': 'G4EVRUFttG0', 'textDisplay': 'Bro wtf, it makes sense 🤯🤯🤯', 'textOriginal': 'Bro wtf, it makes sense 🤯🤯🤯', 'authorDisplayName': 'REDNA018', 'authorProfileImageUrl': 'https://yt3.ggpht.com/eEXEO5TWFfX9wvMKqwQWzjW6Rkqj9Ks01yHhbmrtjoCLEaRvMKnmEjFnlR8p6_6fvu35O46oTA=s48-c-k-c0x00ffffff-no-rj', 'authorChannelUrl': 'http://www.youtube.com/channel/UCpEESzUrZYweGM7l7PxXc_Q', 'authorChannelId': {'value': 'UCpEESzUrZYweGM7l7PxXc_Q'}, 'canRate': True, 'viewerRating': 'none', 'likeCount': 2, 'publishedAt': '2023-07-02T11:07:49Z', 'updatedAt': '2023-07-02T11:07:49Z', 'parentId': None, 'commentId': 'Ugy_jbTEH7_e7XN6Q454AaABAg'}, {'videoId': 'G4EVRUFttG0', 'textDisplay': 'Bro wants to be addressed in past tense 😬😬😬.🗿🗿', 'textOriginal': 'Bro wants to be addressed in past tense 😬😬😬.🗿🗿', 'authorDisplayName': 'Mid Phoenix', 'authorProfileImageUrl': 'https://yt3.ggpht.com/ytc/AGIKgqOXMSnIxNiq7-kTuSbVwe7W5wHoUItnJlh-1k7jHx_n5AGoSm8J3JCeoap1_7Rn=s48-c-k-c0x00ffffff-no-rj', 'authorChannelUrl': 'http://www.youtube.com/channel/UCpIbOfOBZmEhOyp8CQ1lGvA', 'authorChannelId': {'value': 'UCpIbOfOBZmEhOyp8CQ1lGvA'}, 'canRate': True, 'viewerRating': 'none', 'likeCount': 20, 'publishedAt': '2023-07-02T10:54:52Z', 'updatedAt': '2023-07-02T10:54:52Z', 'parentId': None, 'commentId': 'UgzKZegM-ODx3qs2Y7d4AaABAg'}, {'videoId': 'G4EVRUFttG0', 'textDisplay': 'Lol', 'textOriginal': 'Lol', 'authorDisplayName': 'Bateman Edits', 'authorProfileImageUrl': 'https://yt3.ggpht.com/m46I5W7fiSvBiMmbvf3LkrIweGcoT-5m7h6xrtbqSdwWgnP6HdQoQxUdq52yNABCi_WB-z1d=s48-c-k-c0x00ffffff-no-rj', 'authorChannelUrl': 'http://www.youtube.com/channel/UC_6GmUErCwQOY-qridR9yIg', 'authorChannelId': {'value': 'UC_6GmUErCwQOY-qridR9yIg'}, 'canRate': True, 'viewerRating': 'none', 'likeCount': 0, 'publishedAt': '2023-07-02T10:32:29Z', 'updatedAt': '2023-07-02T10:32:29Z', 'parentId': None, 'commentId': 'Ugz6YWOKO3u6BC-j1dh4AaABAg'}, {'videoId': 'G4EVRUFttG0', 'textDisplay': 'Bombastic side eye', 'textOriginal': 'Bombastic side eye', 'authorDisplayName': 'mukul agarwal', 'authorProfileImageUrl': 'https://yt3.ggpht.com/ytc/AGIKgqOU0Q8klzt_Fb2KaehYzR-fgEuGGdAajV9lJdjgPQ=s48-c-k-c0x00ffffff-no-rj', 'authorChannelUrl': 'http://www.youtube.com/channel/UCrcSpk4bRibJRrKuY3i4kFw', 'authorChannelId': {'value': 'UCrcSpk4bRibJRrKuY3i4kFw'}, 'canRate': True, 'viewerRating': 'none', 'likeCount': 5, 'publishedAt': '2023-07-02T10:07:39Z', 'updatedAt': '2023-07-02T10:07:39Z', 'parentId': None, 'commentId': 'UgzEVwx3J33EpCgVN8x4AaABAg'}, {'videoId': 'G4EVRUFttG0', 'textDisplay': 'Ye beant singh aur satwant bodyguard the indira Gandhi ke ... operation blue star  ka nateeja tha jo khud ke gaddar bodyguards ne mar dala', 'textOriginal': 'Ye beant singh aur satwant bodyguard the indira Gandhi ke ... operation blue star  ka nateeja tha jo khud ke gaddar bodyguards ne mar dala', 'parentId': 'UgzNnVaEWuu1awI4VLh4AaABAg', 'authorDisplayName': 'Nerd akash', 'authorProfileImageUrl': 'https://yt3.ggpht.com/EnSarxt1qGvMHWIO12rtzznE5zpD2w1mddbpEuqIhpm-kzN6E-476QY5RC0foVnet4ZkQZveNA=s48-c-k-c0x00ffffff-no-rj', 'authorChannelUrl': 'http://www.youtube.com/channel/UC1fu-tbOX6NToKylLM0vfkg', 'authorChannelId': {'value': 'UC1fu-tbOX6NToKylLM0vfkg'}, 'canRate': True, 'viewerRating': 'none', 'likeCount': 1, 'publishedAt': '2023-07-03T08:36:41Z', 'updatedAt': '2023-07-03T08:36:41Z', 'commentId': 'UgzNnVaEWuu1awI4VLh4AaABAg.9rehzjVXCxc9rh8nyTv0Nu'}, {'videoId': 'G4EVRUFttG0', 'textDisplay': 'Congress party ne Sikhon ko 1984 Mai marwaya tha, genocide hua tha aur golden temple pay bohot log maare, iska badla lene ke liye iss bodyguard ne Indira gandi ka murder kiya', 'textOriginal': 'Congress party ne Sikhon ko 1984 Mai marwaya tha, genocide hua tha aur golden temple pay bohot log maare, iska badla lene ke liye iss bodyguard ne Indira gandi ka murder kiya', 'parentId': 'UgzNnVaEWuu1awI4VLh4AaABAg', 'authorDisplayName': 'Digamber Singh', 'authorProfileImageUrl': 'https://yt3.ggpht.com/UenLEdx3KuisMmyrxPutUTllJJ3T92DXZPVfyfSuMWUaDPKCWuTP2ghfnD0TYwIZpyz8GvQW=s48-c-k-c0x00ffffff-no-rj', 'authorChannelUrl': 'http://www.youtube.com/channel/UCLpuYuXNBZfmcBlzEyYrSCA', 'authorChannelId': {'value': 'UCLpuYuXNBZfmcBlzEyYrSCA'}, 'canRate': True, 'viewerRating': 'none', 'likeCount': 0, 'publishedAt': '2023-07-02T10:10:22Z', 'updatedAt': '2023-07-02T10:10:22Z', 'commentId': 'UgzNnVaEWuu1awI4VLh4AaABAg.9rehzjVXCxc9rejjED0S1b'}, {'videoId': 'G4EVRUFttG0', 'textDisplay': 'Bhai phirse hojaana hai kaand😂', 'textOriginal': 'Bhai phirse hojaana hai kaand😂', 'authorDisplayName': 'Matang', 'authorProfileImageUrl': 'https://yt3.ggpht.com/ytc/AGIKgqOt8BqdCu1TXviBTjYSoRiHVZT_kW3U_2hK6uam=s48-c-k-c0x00ffffff-no-rj', 'authorChannelUrl': 'http://www.youtube.com/channel/UC1E-R9rR9TVW3d2JyjsJSGA', 'authorChannelId': {'value': 'UC1E-R9rR9TVW3d2JyjsJSGA'}, 'canRate': True, 'viewerRating': 'none', 'likeCount': 1, 'publishedAt': '2023-07-02T09:30:54Z', 'updatedAt': '2023-07-02T09:30:54Z', 'parentId': None, 'commentId': 'UgxLkBWxT_79D3izDA14AaABAg'}, {'videoId': 'G4EVRUFttG0', 'textDisplay': '💀💀', 'textOriginal': '💀💀', 'authorDisplayName': 'Krutik', 'authorProfileImageUrl': 'https://yt3.ggpht.com/PSi7BMH2Nrpj4o98tCk4lQbgDDrwwgpV0miA0c7kQm0Jv2bqkY6pmIVxSO4msRWVoJ8HL3lK=s48-c-k-c0x00ffffff-no-rj', 'authorChannelUrl': 'http://www.youtube.com/channel/UCbSoZpyNbJa592XFBAmAKfg', 'authorChannelId': {'value': 'UCbSoZpyNbJa592XFBAmAKfg'}, 'canRate': True, 'viewerRating': 'none', 'likeCount': 1, 'publishedAt': '2023-07-02T08:50:49Z', 'updatedAt': '2023-07-02T08:50:49Z', 'parentId': None, 'commentId': 'Ugyit53GG7ZvuUa7ryJ4AaABAg'}, {'videoId': 'G4EVRUFttG0', 'textDisplay': '1984 reloaded', 'textOriginal': '1984 reloaded', 'authorDisplayName': 'Amit', 'authorProfileImageUrl': 'https://yt3.ggpht.com/J6VhWefI4Lq48zJcElmjaln5_pjZ6ZRAbWidJxcNEgswIomaHtbVGaBhpR9au3bizY-ffhfI5_o=s48-c-k-c0x00ffffff-no-rj', 'authorChannelUrl': 'http://www.youtube.com/channel/UCOTfM6q52KZoGLWqWLiyl6w', 'authorChannelId': {'value': 'UCOTfM6q52KZoGLWqWLiyl6w'}, 'canRate': True, 'viewerRating': 'none', 'likeCount': 6, 'publishedAt': '2023-07-02T08:46:26Z', 'updatedAt': '2023-07-02T08:46:26Z', 'parentId': None, 'commentId': 'UgzVPEf3ttmdvvR9RpB4AaABAg'}, {'videoId': 'G4EVRUFttG0', 'textDisplay': 'ek meme hai canon event usme tum kuch ksr satke ho agar koi puche tumhe ye kyu kar rhe ho bass bolo its a canon event toh vo banda kuch nhi bolta same ye piche indra gandhi ko marne wala banda hai or ye meme ke mutabik jab ye mar rha tha toh dusra banda pucha ye kyu kar rhe ho usne kha its a canon event toh jo puch rha tha vo bhi shamil ho gya', 'textOriginal': 'ek meme hai canon event usme tum kuch ksr satke ho agar koi puche tumhe ye kyu kar rhe ho bass bolo its a canon event toh vo banda kuch nhi bolta same ye piche indra gandhi ko marne wala banda hai or ye meme ke mutabik jab ye mar rha tha toh dusra banda pucha ye kyu kar rhe ho usne kha its a canon event toh jo puch rha tha vo bhi shamil ho gya', 'parentId': 'UgzI2tR8R9MoMQgDSm54AaABAg', 'authorDisplayName': 'Funky Vansh', 'authorProfileImageUrl': 'https://yt3.ggpht.com/z3bXEfNmPN6wyiZfy6MbmcoDt_XjTw0DzZqbxo6eUNGUHEIeEpnWJnTrmr3ObjkDTTVmNZpaWg=s48-c-k-c0x00ffffff-no-rj', 'authorChannelUrl': 'http://www.youtube.com/channel/UCmDXbgggAOre3VDIOaMGW8g', 'authorChannelId': {'value': 'UCmDXbgggAOre3VDIOaMGW8g'}, 'canRate': True, 'viewerRating': 'none', 'likeCount': 0, 'publishedAt': '2023-07-04T06:38:37Z', 'updatedAt': '2023-07-04T06:38:37Z', 'commentId': 'UgzI2tR8R9MoMQgDSm54AaABAg.9reXbGl703J9rjW55nO01s'}, {'videoId': 'G4EVRUFttG0', 'textDisplay': 'Sayad wo assassin hai Indira Gandhi ka', 'textOriginal': 'Sayad wo assassin hai Indira Gandhi ka', 'parentId': 'UgzI2tR8R9MoMQgDSm54AaABAg', 'authorDisplayName': 'Vibhuti Srivastava', 'authorProfileImageUrl': 'https://yt3.ggpht.com/7-ionvFmZp-73OXav8ioVZ-4ua5QGnG1BVIq2ypA9GlSaTt7O1Eor7z-VDOsawRik2xLhXH-GA=s48-c-k-c0x00ffffff-no-rj', 'authorChannelUrl': 'http://www.youtube.com/channel/UCFIcYCO3SOtVFnVEsMnpdbw', 'authorChannelId': {'value': 'UCFIcYCO3SOtVFnVEsMnpdbw'}, 'canRate': True, 'viewerRating': 'none', 'likeCount': 1, 'publishedAt': '2023-07-02T09:54:26Z', 'updatedAt': '2023-07-02T09:54:26Z', 'commentId': 'UgzI2tR8R9MoMQgDSm54AaABAg.9reXbGl703J9rehuYT5wfc'}, {'videoId': 'G4EVRUFttG0', 'textDisplay': 'Indra Gandhi was killed by her bodyguard (who was a khalistan supporter)', 'textOriginal': 'Indra Gandhi was killed by her bodyguard (who was a khalistan supporter)', 'parentId': 'UgzI2tR8R9MoMQgDSm54AaABAg', 'authorDisplayName': 'The Varmint', 'authorProfileImageUrl': 'https://yt3.ggpht.com/ytc/AGIKgqMAMwg4rQFri4bGbPcjb5gdy6Eu-e5VFa3o_TAPZw=s48-c-k-c0x00ffffff-no-rj', 'authorChannelUrl': 'http://www.youtube.com/channel/UCkGFs1yGiibLejbbchHoH8g', 'authorChannelId': {'value': 'UCkGFs1yGiibLejbbchHoH8g'}, 'canRate': True, 'viewerRating': 'none', 'likeCount': 0, 'publishedAt': '2023-07-02T09:33:04Z', 'updatedAt': '2023-07-02T09:33:04Z', 'commentId': 'UgzI2tR8R9MoMQgDSm54AaABAg.9reXbGl703J9refT40GrAW'}, {'videoId': 'G4EVRUFttG0', 'textDisplay': '\\u200b@Fru1tzso ur a namazi', 'textOriginal': '\\u200b@Fru1tzso ur a namazi', 'parentId': 'UgzG5xyK6Al4QcjiZiB4AaABAg', 'authorDisplayName': 'Alok', 'authorProfileImageUrl': 'https://yt3.ggpht.com/ytc/AGIKgqNyNwS50YFf5njf153Dcj2MQx9ymmtwWtmo1A=s48-c-k-c0x00ffffff-no-rj', 'authorChannelUrl': 'http://www.youtube.com/channel/UC-IyXBFBzmI6SFJPY_FYPmg', 'authorChannelId': {'value': 'UC-IyXBFBzmI6SFJPY_FYPmg'}, 'canRate': True, 'viewerRating': 'none', 'likeCount': 0, 'publishedAt': '2023-07-05T09:52:20Z', 'updatedAt': '2023-07-05T09:52:20Z', 'commentId': 'UgzG5xyK6Al4QcjiZiB4AaABAg.9reWy7hytTM9rmR2qC4f-_'}, {'videoId': 'G4EVRUFttG0', 'textDisplay': '\\u200b@Rishabh Menaria modi bhakt ya andhbhakt kehte hain bhai,', 'textOriginal': '\\u200b@Rishabh Menaria modi bhakt ya andhbhakt kehte hain bhai,', 'parentId': 'UgzG5xyK6Al4QcjiZiB4AaABAg', 'authorDisplayName': 'Rajesh Kumar', 'authorProfileImageUrl': 'https://yt3.ggpht.com/XWgP8J0M65_EEGNro0AeQncNfVjLOjHM_CO8ZapVspfV6iKCH3C3rKgtahKanJbk6GrcT4GO=s48-c-k-c0x00ffffff-no-rj', 'authorChannelUrl': 'http://www.youtube.com/channel/UCsBHt82TnuThhGNnHgtBCCQ', 'authorChannelId': {'value': 'UCsBHt82TnuThhGNnHgtBCCQ'}, 'canRate': True, 'viewerRating': 'none', 'likeCount': 0, 'publishedAt': '2023-07-05T09:49:56Z', 'updatedAt': '2023-07-05T09:49:56Z', 'commentId': 'UgzG5xyK6Al4QcjiZiB4AaABAg.9reWy7hytTM9rmQmIT71sO'}, {'videoId': 'G4EVRUFttG0', 'textDisplay': '@Fru1tz then why they call them bhakt instead of hindu extremists?<br>Because bhakt is a sacred thing right.', 'textOriginal': '@Fru1tz then why they call them bhakt instead of hindu extremists?\\nBecause bhakt is a sacred thing right.', 'parentId': 'UgzG5xyK6Al4QcjiZiB4AaABAg', 'authorDisplayName': 'Rishabh Menaria', 'authorProfileImageUrl': 'https://yt3.ggpht.com/Z2AQqmP6EDOwqKH3ElTgEwHMooiZOsa7aEeuoeejF_69uy45LNoQJSaXwYjdpiVhTuMjPCBf=s48-c-k-c0x00ffffff-no-rj', 'authorChannelUrl': 'http://www.youtube.com/channel/UCetlOrnbVCGLtYhIGdEDQ6g', 'authorChannelId': {'value': 'UCetlOrnbVCGLtYhIGdEDQ6g'}, 'canRate': True, 'viewerRating': 'none', 'likeCount': 2, 'publishedAt': '2023-07-05T03:32:08Z', 'updatedAt': '2023-07-05T03:32:08Z', 'commentId': 'UgzG5xyK6Al4QcjiZiB4AaABAg.9reWy7hytTM9rlkYD2ymzN'}, {'videoId': 'G4EVRUFttG0', 'textDisplay': '\\u200b@Rishabh Menariathe term bhakt in this context means hindu extremists', 'textOriginal': '\\u200b@Rishabh Menariathe term bhakt in this context means hindu extremists', 'parentId': 'UgzG5xyK6Al4QcjiZiB4AaABAg', 'authorDisplayName': 'Fru1tz', 'authorProfileImageUrl': 'https://yt3.ggpht.com/ytc/AGIKgqM78_UTzsPdq_IXTUeReD1kIYIpBBDej9mUHhZedQ=s48-c-k-c0x00ffffff-no-rj', 'authorChannelUrl': 'http://www.youtube.com/channel/UCQU1ikAXDK2pJnRCssjAl8w', 'authorChannelId': {'value': 'UCQU1ikAXDK2pJnRCssjAl8w'}, 'canRate': True, 'viewerRating': 'none', 'likeCount': 0, 'publishedAt': '2023-07-05T03:21:10Z', 'updatedAt': '2023-07-05T03:21:10Z', 'commentId': 'UgzG5xyK6Al4QcjiZiB4AaABAg.9reWy7hytTM9rljHsgWWR0'}, {'videoId': 'G4EVRUFttG0', 'textDisplay': '@Rishabh Menaria the term bhakt means vhi Jo tu hai Modiji ke sperm. Jaha jata hai Dhruv Rathee ka rona rota rehta hai, kyuki tujhse dekha nhi jaata koi Modi ko kuch bol de. Mujhe to koi Congress ko gariye ya AAP ko farak hi nhi padta, but Teri gaand zarur jalti h😂😂', 'textOriginal': '@Rishabh Menaria the term bhakt means vhi Jo tu hai Modiji ke sperm. Jaha jata hai Dhruv Rathee ka rona rota rehta hai, kyuki tujhse dekha nhi jaata koi Modi ko kuch bol de. Mujhe to koi Congress ko gariye ya AAP ko farak hi nhi padta, but Teri gaand zarur jalti h😂😂', 'parentId': 'UgzG5xyK6Al4QcjiZiB4AaABAg', 'authorDisplayName': 'Yash', 'authorProfileImageUrl': 'https://yt3.ggpht.com/ytc/AGIKgqPeKPY_Sm98zDuHc2-3KgNrQXtON5Jh3Qc1VzjQxw=s48-c-k-c0x00ffffff-no-rj', 'authorChannelUrl': 'http://www.youtube.com/channel/UCBxBgT_FidbVTBTvlUClRQQ', 'authorChannelId': {'value': 'UCBxBgT_FidbVTBTvlUClRQQ'}, 'canRate': True, 'viewerRating': 'none', 'likeCount': 0, 'publishedAt': '2023-07-04T15:44:48Z', 'updatedAt': '2023-07-04T15:44:48Z', 'commentId': 'UgzG5xyK6Al4QcjiZiB4AaABAg.9reWy7hytTM9rkUaTh9IsC'}, {'videoId': 'G4EVRUFttG0', 'textDisplay': 'Dark💀', 'textOriginal': 'Dark💀', 'authorDisplayName': 'Rashi Chaturvedi', 'authorProfileImageUrl': 'https://yt3.ggpht.com/ytc/AGIKgqNWPO8J8J0ns4h50MdqjofvhtvyawoUKzkixw_msEs=s48-c-k-c0x00ffffff-no-rj', 'authorChannelUrl': 'http://www.youtube.com/channel/UC45fFzEoQNQ6dHqpqRCkXcg', 'authorChannelId': {'value': 'UC45fFzEoQNQ6dHqpqRCkXcg'}, 'canRate': True, 'viewerRating': 'none', 'likeCount': 0, 'publishedAt': '2023-07-02T07:58:17Z', 'updatedAt': '2023-07-02T07:58:17Z', 'parentId': None, 'commentId': 'UgyCiAlHFojZ-VODc_N4AaABAg'}, {'videoId': 'G4EVRUFttG0', 'textDisplay': 'Congresstulations to modiji for this माधरstroke 🚩', 'textOriginal': 'Congresstulations to modiji for this माधरstroke 🚩', 'authorDisplayName': 'shivam patel', 'authorProfileImageUrl': 'https://yt3.ggpht.com/ytc/AGIKgqP1UkmGO1PZcrwe6a0JXT5wRYZba64OVVnjvn4DPA=s48-c-k-c0x00ffffff-no-rj', 'authorChannelUrl': 'http://www.youtube.com/channel/UC2oItunG2bCtAUVj_s9CEEw', 'authorChannelId': {'value': 'UC2oItunG2bCtAUVj_s9CEEw'}, 'canRate': True, 'viewerRating': 'none', 'likeCount': 0, 'publishedAt': '2023-07-02T07:30:32Z', 'updatedAt': '2023-07-02T07:30:32Z', 'parentId': None, 'commentId': 'UgxBlIGwf2oiSyFvHdx4AaABAg'}, {'videoId': 'G4EVRUFttG0', 'textDisplay': '🗿🗿🗿', 'textOriginal': '🗿🗿🗿', 'authorDisplayName': 'Indian Animeme', 'authorProfileImageUrl': 'https://yt3.ggpht.com/iVEhr92QLOi00vxM-xFgYOWdL7CspgV-d-nAEsqfFzLTtI7jT9vRqgFK4gT9E_kRgZHLq7y3EA=s48-c-k-c0x00ffffff-no-rj', 'authorChannelUrl': 'http://www.youtube.com/channel/UCLghWI_do0eaEonTnaSuExg', 'authorChannelId': {'value': 'UCLghWI_do0eaEonTnaSuExg'}, 'canRate': True, 'viewerRating': 'none', 'likeCount': 0, 'publishedAt': '2023-07-02T06:43:04Z', 'updatedAt': '2023-07-02T06:43:04Z', 'parentId': None, 'commentId': 'UgzCUl9n8YryjKr2Nhx4AaABAg'}, {'videoId': 'G4EVRUFttG0', 'textDisplay': 'Memes approved by BJP', 'textOriginal': 'Memes approved by BJP', 'authorDisplayName': 'RODESTER Gamer 6060', 'authorProfileImageUrl': 'https://yt3.ggpht.com/ytc/AGIKgqOgSH6pNWAbXHvpeVv3hB23UtsCSfQQC0rBFv2VmA=s48-c-k-c0x00ffffff-no-rj', 'authorChannelUrl': 'http://www.youtube.com/channel/UCZO8Yo2PmBuao0Ybk1MGLQA', 'authorChannelId': {'value': 'UCZO8Yo2PmBuao0Ybk1MGLQA'}, 'canRate': True, 'viewerRating': 'none', 'likeCount': 21, 'publishedAt': '2023-07-02T06:39:42Z', 'updatedAt': '2023-07-02T06:39:42Z', 'parentId': None, 'commentId': 'Ugzh6j2MJyNs-qDJZIt4AaABAg'}, {'videoId': 'G4EVRUFttG0', 'textDisplay': 'A seperate storyline, which doesn&#39;t effect the main storyline.', 'textOriginal': \"A seperate storyline, which doesn't effect the main storyline.\", 'parentId': 'UgwODSEhLdUCKReXC1t4AaABAg', 'authorDisplayName': 'Wheel of Thought', 'authorProfileImageUrl': 'https://yt3.ggpht.com/su5AbABwIAGRTL2BCIHdO-CDobMqtOpBtD3W5bdjhRGfI2Dot3q2cVOntZ1T1jy35ZTIllwX6w=s48-c-k-c0x00ffffff-no-rj', 'authorChannelUrl': 'http://www.youtube.com/channel/UCj3n-cA_Sg_NA4VSOpMi58g', 'authorChannelId': {'value': 'UCj3n-cA_Sg_NA4VSOpMi58g'}, 'canRate': True, 'viewerRating': 'none', 'likeCount': 2, 'publishedAt': '2023-07-02T12:24:30Z', 'updatedAt': '2023-07-02T12:24:30Z', 'commentId': 'UgwODSEhLdUCKReXC1t4AaABAg.9reKWTLKJIB9rez4jm-gW1'}, {'videoId': 'G4EVRUFttG0', 'textDisplay': 'in your a..................', 'textOriginal': 'in your a..................', 'parentId': 'UgwODSEhLdUCKReXC1t4AaABAg', 'authorDisplayName': 'hardik parbhakar', 'authorProfileImageUrl': 'https://yt3.ggpht.com/ytc/AGIKgqOPriKF84tAb9Ic7NS7QhVD_tP0aRAicQLJlrYxrg=s48-c-k-c0x00ffffff-no-rj', 'authorChannelUrl': 'http://www.youtube.com/channel/UCp2u7sEfpS7UB9hbFTqsjRw', 'authorChannelId': {'value': 'UCp2u7sEfpS7UB9hbFTqsjRw'}, 'canRate': True, 'viewerRating': 'none', 'likeCount': 0, 'publishedAt': '2023-07-02T07:41:18Z', 'updatedAt': '2023-07-02T07:41:18Z', 'commentId': 'UgwODSEhLdUCKReXC1t4AaABAg.9reKWTLKJIB9reTfTF_TKa'}, {'videoId': 'G4EVRUFttG0', 'textDisplay': 'Zammmm..', 'textOriginal': 'Zammmm..', 'authorDisplayName': 'Franc men', 'authorProfileImageUrl': 'https://yt3.ggpht.com/wq8RGHihaT1W0cZ38eIE-O9qqCN1VjH3sD5hkI1qRm2dXvw6_b90C852Mpno8RIUwNtaUbhEjQY=s48-c-k-c0x00ffffff-no-rj', 'authorChannelUrl': 'http://www.youtube.com/channel/UCXAhpdKd7iVUtXcqJMosVXw', 'authorChannelId': {'value': 'UCXAhpdKd7iVUtXcqJMosVXw'}, 'canRate': True, 'viewerRating': 'none', 'likeCount': 1, 'publishedAt': '2023-07-02T06:20:18Z', 'updatedAt': '2023-07-02T06:20:18Z', 'parentId': None, 'commentId': 'Ugw6TmUKlcKq6ae3tD54AaABAg'}, {'videoId': 'G4EVRUFttG0', 'textDisplay': 'Delete this within a span of 24 hrs else you will be in Tihar 👺👺👺', 'textOriginal': 'Delete this within a span of 24 hrs else you will be in Tihar 👺👺👺', 'authorDisplayName': 'Yuvraj Singh', 'authorProfileImageUrl': 'https://yt3.ggpht.com/H0Yx9vqTUO3n9BatcTCr1fvc83ccPRb9nIPSaTwZHghV0xS2jl2pLpGzvCCtNvEdWN8PyfNmOdQ=s48-c-k-c0x00ffffff-no-rj', 'authorChannelUrl': 'http://www.youtube.com/channel/UCr3TMCgAvMuthubf-PaqdNw', 'authorChannelId': {'value': 'UCr3TMCgAvMuthubf-PaqdNw'}, 'canRate': True, 'viewerRating': 'none', 'likeCount': 0, 'publishedAt': '2023-07-02T06:04:50Z', 'updatedAt': '2023-07-02T06:04:50Z', 'parentId': None, 'commentId': 'UgzajEfblJNU9JAM7sN4AaABAg'}, {'videoId': 'G4EVRUFttG0', 'textDisplay': 'modiji approved this meme', 'textOriginal': 'modiji approved this meme', 'authorDisplayName': 'Viraj Singh', 'authorProfileImageUrl': 'https://yt3.ggpht.com/qucpnmtmr3lVWS0lq8AfW_HirIQ7a8jqRte4rcvrCmuRbX-jQ3msArc8eYz1jpnjmZBR4BBqJyg=s48-c-k-c0x00ffffff-no-rj', 'authorChannelUrl': 'http://www.youtube.com/channel/UCHTryVXmHFOPz6g99P6lw_Q', 'authorChannelId': {'value': 'UCHTryVXmHFOPz6g99P6lw_Q'}, 'canRate': True, 'viewerRating': 'none', 'likeCount': 48, 'publishedAt': '2023-07-02T05:57:48Z', 'updatedAt': '2023-07-02T05:57:48Z', 'parentId': None, 'commentId': 'UgxSJS76jkFvHZKSuMV4AaABAg'}, {'videoId': 'G4EVRUFttG0', 'textDisplay': '&quot;Happy Bakrid bro&quot; ~ 🐐', 'textOriginal': '\"Happy Bakrid bro\" ~ 🐐', 'parentId': 'Ugy_qkNq4CCHqe76PqJ4AaABAg', 'authorDisplayName': 'The Varmint', 'authorProfileImageUrl': 'https://yt3.ggpht.com/ytc/AGIKgqMAMwg4rQFri4bGbPcjb5gdy6Eu-e5VFa3o_TAPZw=s48-c-k-c0x00ffffff-no-rj', 'authorChannelUrl': 'http://www.youtube.com/channel/UCkGFs1yGiibLejbbchHoH8g', 'authorChannelId': {'value': 'UCkGFs1yGiibLejbbchHoH8g'}, 'canRate': True, 'viewerRating': 'none', 'likeCount': 3, 'publishedAt': '2023-07-02T09:32:24Z', 'updatedAt': '2023-07-02T09:32:24Z', 'commentId': 'Ugy_qkNq4CCHqe76PqJ4AaABAg.9reHiqHyvgd9refOG-DPfG'}, {'videoId': 'G4EVRUFttG0', 'textDisplay': 'Bro bjp member confirmed', 'textOriginal': 'Bro bjp member confirmed', 'authorDisplayName': 'mama shakuni', 'authorProfileImageUrl': 'https://yt3.ggpht.com/b-hgCk89MRl2nxXq5CURbj1AZvyH8GfJkxsW9P4O7p42J8NiF-igNMgjoKiCepv41b99FE_l_w=s48-c-k-c0x00ffffff-no-rj', 'authorChannelUrl': 'http://www.youtube.com/channel/UCHJtFndK0SaIyxOm-qDC4mA', 'authorChannelId': {'value': 'UCHJtFndK0SaIyxOm-qDC4mA'}, 'canRate': True, 'viewerRating': 'none', 'likeCount': 19, 'publishedAt': '2023-07-02T05:41:35Z', 'updatedAt': '2023-07-02T05:41:35Z', 'parentId': None, 'commentId': 'Ugz7tL1N_5tizDWoViZ4AaABAg'}, {'videoId': 'G4EVRUFttG0', 'textDisplay': 'Suraj ji pehle nanga ho ke nacho tabhi delete hoga', 'textOriginal': 'Suraj ji pehle nanga ho ke nacho tabhi delete hoga', 'parentId': 'Ugy8pspCNmQydtPbLbl4AaABAg', 'authorDisplayName': 'khune vidit', 'authorProfileImageUrl': 'https://yt3.ggpht.com/yWre2yL1npxoUd8lHc9U9b0Xb6doeLd46HbRID-CXJir6q1Y03ZCkv5t3r02uoo4sHutDJJa=s48-c-k-c0x00ffffff-no-rj', 'authorChannelUrl': 'http://www.youtube.com/channel/UCLoq6TLe7yvh0nkGZe5VHlw', 'authorChannelId': {'value': 'UCLoq6TLe7yvh0nkGZe5VHlw'}, 'canRate': True, 'viewerRating': 'none', 'likeCount': 0, 'publishedAt': '2023-07-04T03:43:35Z', 'updatedAt': '2023-07-04T03:43:35Z', 'commentId': 'Ugy8pspCNmQydtPbLbl4AaABAg.9reFcbXy10s9rjC34yCu34'}, {'videoId': 'G4EVRUFttG0', 'textDisplay': '@hardik parbhakar😂😂😂😂😂😂😂', 'textOriginal': '@hardik parbhakar😂😂😂😂😂😂😂', 'parentId': 'Ugy8pspCNmQydtPbLbl4AaABAg', 'authorDisplayName': 'Anentjay Siingh', 'authorProfileImageUrl': 'https://yt3.ggpht.com/ytc/AGIKgqMzufjWvenFxtZprxupkKJnd5ZRYZj-sutxQQ=s48-c-k-c0x00ffffff-no-rj', 'authorChannelUrl': 'http://www.youtube.com/channel/UCQNO-Qfhg9cYC9a-JhScPlg', 'authorChannelId': {'value': 'UCQNO-Qfhg9cYC9a-JhScPlg'}, 'canRate': True, 'viewerRating': 'none', 'likeCount': 0, 'publishedAt': '2023-07-02T14:35:49Z', 'updatedAt': '2023-07-02T14:35:49Z', 'commentId': 'Ugy8pspCNmQydtPbLbl4AaABAg.9reFcbXy10s9rfD6Vcv7ar'}, {'videoId': 'G4EVRUFttG0', 'textDisplay': '\\u200b@Viraj Singh yes ye sab mayajaal h asli villian to amit malviya h jiske paas sabki internet history h aur jisko sabki waifu aur husbandos ki information h aur kalyug k ant m jai kalki rahul ji inka sanghaar krk mohabbat ki dukkan kholenge jisme free ki russian milegi', 'textOriginal': '\\u200b@Viraj Singh yes ye sab mayajaal h asli villian to amit malviya h jiske paas sabki internet history h aur jisko sabki waifu aur husbandos ki information h aur kalyug k ant m jai kalki rahul ji inka sanghaar krk mohabbat ki dukkan kholenge jisme free ki russian milegi', 'parentId': 'Ugy8pspCNmQydtPbLbl4AaABAg', 'authorDisplayName': 'hardik parbhakar', 'authorProfileImageUrl': 'https://yt3.ggpht.com/ytc/AGIKgqOPriKF84tAb9Ic7NS7QhVD_tP0aRAicQLJlrYxrg=s48-c-k-c0x00ffffff-no-rj', 'authorChannelUrl': 'http://www.youtube.com/channel/UCp2u7sEfpS7UB9hbFTqsjRw', 'authorChannelId': {'value': 'UCp2u7sEfpS7UB9hbFTqsjRw'}, 'canRate': True, 'viewerRating': 'none', 'likeCount': 7, 'publishedAt': '2023-07-02T07:44:51Z', 'updatedAt': '2023-07-02T07:44:51Z', 'commentId': 'Ugy8pspCNmQydtPbLbl4AaABAg.9reFcbXy10s9reU4TTYJZd'}, {'videoId': 'G4EVRUFttG0', 'textDisplay': '\\u200b@Viraj Singhhe trolls hindus to but still bjp it cell', 'textOriginal': '\\u200b@Viraj Singhhe trolls hindus to but still bjp it cell', 'parentId': 'Ugy8pspCNmQydtPbLbl4AaABAg', 'authorDisplayName': 'mama shakuni', 'authorProfileImageUrl': 'https://yt3.ggpht.com/b-hgCk89MRl2nxXq5CURbj1AZvyH8GfJkxsW9P4O7p42J8NiF-igNMgjoKiCepv41b99FE_l_w=s48-c-k-c0x00ffffff-no-rj', 'authorChannelUrl': 'http://www.youtube.com/channel/UCHJtFndK0SaIyxOm-qDC4mA', 'authorChannelId': {'value': 'UCHJtFndK0SaIyxOm-qDC4mA'}, 'canRate': True, 'viewerRating': 'none', 'likeCount': 9, 'publishedAt': '2023-07-02T06:33:19Z', 'updatedAt': '2023-07-02T06:33:19Z', 'commentId': 'Ugy8pspCNmQydtPbLbl4AaABAg.9reFcbXy10s9reLt_mu7uj'}, {'videoId': 'G4EVRUFttG0', 'textDisplay': 'mememandir is from BJP IT Cell there is nothing you can do', 'textOriginal': 'mememandir is from BJP IT Cell there is nothing you can do', 'parentId': 'Ugy8pspCNmQydtPbLbl4AaABAg', 'authorDisplayName': 'Viraj Singh', 'authorProfileImageUrl': 'https://yt3.ggpht.com/qucpnmtmr3lVWS0lq8AfW_HirIQ7a8jqRte4rcvrCmuRbX-jQ3msArc8eYz1jpnjmZBR4BBqJyg=s48-c-k-c0x00ffffff-no-rj', 'authorChannelUrl': 'http://www.youtube.com/channel/UCHTryVXmHFOPz6g99P6lw_Q', 'authorChannelId': {'value': 'UCHTryVXmHFOPz6g99P6lw_Q'}, 'canRate': True, 'viewerRating': 'none', 'likeCount': 4, 'publishedAt': '2023-07-02T05:57:04Z', 'updatedAt': '2023-07-02T05:57:04Z', 'commentId': 'Ugy8pspCNmQydtPbLbl4AaABAg.9reFcbXy10s9reHk0OucwN'}, {'videoId': 'G4EVRUFttG0', 'textDisplay': '@keshav PAR BDSM HOGA TO ADMIN KE SATH HI  <br>MAME UTHA LE JAYENGE SASURAL😅', 'textOriginal': '@keshav PAR BDSM HOGA TO ADMIN KE SATH HI  \\nMAME UTHA LE JAYENGE SASURAL😅', 'parentId': 'UgyzCha7-JhC8GKTPfV4AaABAg', 'authorDisplayName': 'VASCO', 'authorProfileImageUrl': 'https://yt3.ggpht.com/Dm_1zn5bXi2OTQbfaW6YmJDQLvOq7rZM863b_vIKuMmQ_LmRXxGPo2KyhY60QmQnjtT9toQDMv4=s48-c-k-c0x00ffffff-no-rj', 'authorChannelUrl': 'http://www.youtube.com/channel/UCHC7ioYiYNlxpks1rYe4OuQ', 'authorChannelId': {'value': 'UCHC7ioYiYNlxpks1rYe4OuQ'}, 'canRate': True, 'viewerRating': 'none', 'likeCount': 1, 'publishedAt': '2023-07-03T07:11:10Z', 'updatedAt': '2023-07-03T07:11:10Z', 'commentId': 'UgyzCha7-JhC8GKTPfV4AaABAg.9reFRwbQf499rh-0amscM5'}, {'videoId': 'G4EVRUFttG0', 'textDisplay': '@Ayushman Mishra apne kaha humne suna 🤝', 'textOriginal': '@Ayushman Mishra apne kaha humne suna 🤝', 'parentId': 'UgyzCha7-JhC8GKTPfV4AaABAg', 'authorDisplayName': 'keshav', 'authorProfileImageUrl': 'https://yt3.ggpht.com/-fdrSihU4dF3R_qI0XxUSPs3x-tbzht9rF_5lwptaYLujUrWrHrUxll2OqhzCGe4XLsEMXgpXw=s48-c-k-c0x00ffffff-no-rj', 'authorChannelUrl': 'http://www.youtube.com/channel/UCH8Mw-wKjEPc79TAN7yLKcg', 'authorChannelId': {'value': 'UCH8Mw-wKjEPc79TAN7yLKcg'}, 'canRate': True, 'viewerRating': 'none', 'likeCount': 3, 'publishedAt': '2023-07-02T17:36:48Z', 'updatedAt': '2023-07-02T17:36:48Z', 'commentId': 'UgyzCha7-JhC8GKTPfV4AaABAg.9reFRwbQf499rfXp3OEg6v'}, {'videoId': 'G4EVRUFttG0', 'textDisplay': '@keshav bhartiya dank sarvajanik mandal (BDSM) jyada accha naam hoga bhai', 'textOriginal': '@keshav bhartiya dank sarvajanik mandal (BDSM) jyada accha naam hoga bhai', 'parentId': 'UgyzCha7-JhC8GKTPfV4AaABAg', 'authorDisplayName': 'Ayushman Mishra', 'authorProfileImageUrl': 'https://yt3.ggpht.com/PtdDNdPhnw4F53h9rlp1xVVScg3eAqOYofZVknj2caL4obR81not9OZwQ2itv-NmuIdibPKmKA=s48-c-k-c0x00ffffff-no-rj', 'authorChannelUrl': 'http://www.youtube.com/channel/UC_WId_-jdOkK-gw3SNnSFxA', 'authorChannelId': {'value': 'UC_WId_-jdOkK-gw3SNnSFxA'}, 'canRate': True, 'viewerRating': 'none', 'likeCount': 7, 'publishedAt': '2023-07-02T10:57:36Z', 'updatedAt': '2023-07-02T10:57:36Z', 'commentId': 'UgyzCha7-JhC8GKTPfV4AaABAg.9reFRwbQf499rep8Dubh7A'}, {'videoId': 'G4EVRUFttG0', 'textDisplay': 'Bhartiya dank sarvajanik mandal (BDSM) ki taraf se support vyakt karta hu', 'textOriginal': 'Bhartiya dank sarvajanik mandal (BDSM) ki taraf se support vyakt karta hu', 'parentId': 'UgyzCha7-JhC8GKTPfV4AaABAg', 'authorDisplayName': 'keshav', 'authorProfileImageUrl': 'https://yt3.ggpht.com/-fdrSihU4dF3R_qI0XxUSPs3x-tbzht9rF_5lwptaYLujUrWrHrUxll2OqhzCGe4XLsEMXgpXw=s48-c-k-c0x00ffffff-no-rj', 'authorChannelUrl': 'http://www.youtube.com/channel/UCH8Mw-wKjEPc79TAN7yLKcg', 'authorChannelId': {'value': 'UCH8Mw-wKjEPc79TAN7yLKcg'}, 'canRate': True, 'viewerRating': 'none', 'likeCount': 12, 'publishedAt': '2023-07-02T09:32:24Z', 'updatedAt': '2023-07-02T17:36:17Z', 'commentId': 'UgyzCha7-JhC8GKTPfV4AaABAg.9reFRwbQf499refOE7dx6_'}, {'videoId': 'G4EVRUFttG0', 'textDisplay': 'Bhai me tere mandir me roj aunga pls memes dalte re <br>~ <b>ATHIEST</b>', 'textOriginal': 'Bhai me tere mandir me roj aunga pls memes dalte re \\n~ *ATHIEST*', 'parentId': 'UgyzCha7-JhC8GKTPfV4AaABAg', 'authorDisplayName': 'you complete me', 'authorProfileImageUrl': 'https://yt3.ggpht.com/tMkYBWJ1eOxVlx_ElTiRfQVGK3jrIojKgTW35c8m3QRqoi50g5TZ47XvQ2FGa7zFp0LArLlL=s48-c-k-c0x00ffffff-no-rj', 'authorChannelUrl': 'http://www.youtube.com/channel/UCSBFV1Mzg628gzMKWVnew0g', 'authorChannelId': {'value': 'UCSBFV1Mzg628gzMKWVnew0g'}, 'canRate': True, 'viewerRating': 'none', 'likeCount': 12, 'publishedAt': '2023-07-02T05:42:15Z', 'updatedAt': '2023-07-02T05:42:15Z', 'commentId': 'UgyzCha7-JhC8GKTPfV4AaABAg.9reFRwbQf499reG2W-6jCf'}, {'videoId': 'G4EVRUFttG0', 'textDisplay': 'Fuck congress', 'textOriginal': 'Fuck congress', 'parentId': 'Ugwk6WxJKEOltMtUVU14AaABAg', 'authorDisplayName': 'Fenrir', 'authorProfileImageUrl': 'https://yt3.ggpht.com/ytc/AGIKgqPPQ3vqIDzbJzrqxV4xtuqFV5GotkrtzcLqSLVKzA=s48-c-k-c0x00ffffff-no-rj', 'authorChannelUrl': 'http://www.youtube.com/channel/UCNlKepx2vFd8UEX0nijwtHA', 'authorChannelId': {'value': 'UCNlKepx2vFd8UEX0nijwtHA'}, 'canRate': True, 'viewerRating': 'none', 'likeCount': 1, 'publishedAt': '2023-07-02T11:40:52Z', 'updatedAt': '2023-07-02T11:40:52Z', 'commentId': 'Ugwk6WxJKEOltMtUVU14AaABAg.9reFOz3-nEx9reu57b09h7'}, {'videoId': 'G4EVRUFttG0', 'textDisplay': 'He&#39;s not scared of congress <br>Congress is scared of him', 'textOriginal': \"He's not scared of congress \\nCongress is scared of him\", 'parentId': 'UgzBe_KuCDw6YSIPOUd4AaABAg', 'authorDisplayName': 'djs', 'authorProfileImageUrl': 'https://yt3.ggpht.com/ytc/AGIKgqPPNUpV_36hE33YSRsPrCy5iRMSh8GENVaUMRehw01jKH44frV1XzChPJnfa6sL=s48-c-k-c0x00ffffff-no-rj', 'authorChannelUrl': 'http://www.youtube.com/channel/UCZrAMAZMdqz8eT4XUFYqShA', 'authorChannelId': {'value': 'UCZrAMAZMdqz8eT4XUFYqShA'}, 'canRate': True, 'viewerRating': 'none', 'likeCount': 0, 'publishedAt': '2023-07-02T15:55:56Z', 'updatedAt': '2023-07-02T15:55:56Z', 'commentId': 'UgzBe_KuCDw6YSIPOUd4AaABAg.9reElkpkr799rfMHKXMG8A'}, {'videoId': 'G4EVRUFttG0', 'textDisplay': '&quot;You can&#39;t stop it.<br>It&#39;s a CANON EVENT.&quot;<br>                    -Rahul O&#39;Hara', 'textOriginal': '\"You can\\'t stop it.\\nIt\\'s a CANON EVENT.\"\\n                    -Rahul O\\'Hara', 'parentId': 'UgzBe_KuCDw6YSIPOUd4AaABAg', 'authorDisplayName': 'bhaskar', 'authorProfileImageUrl': 'https://yt3.ggpht.com/ytc/AGIKgqNXdq2XMImyYtjiXJ1W4N9qjGgDHF9aHT5U1zjBTw=s48-c-k-c0x00ffffff-no-rj', 'authorChannelUrl': 'http://www.youtube.com/channel/UC1rgN0LmrhypUtT0A9OFIvw', 'authorChannelId': {'value': 'UC1rgN0LmrhypUtT0A9OFIvw'}, 'canRate': True, 'viewerRating': 'none', 'likeCount': 19, 'publishedAt': '2023-07-02T07:01:26Z', 'updatedAt': '2023-07-02T07:01:26Z', 'commentId': 'UgzBe_KuCDw6YSIPOUd4AaABAg.9reElkpkr799reP6WYOIMH'}]\n"
     ]
    }
   ],
   "source": [
    "if __name__ == '__main__':\n",
    "    # get comments\n",
    "    response = comment_threads(videoID='G4EVRUFttG0', to_csv=True)\n",
    "#     print(response)"
   ]
  },
  {
   "cell_type": "code",
   "execution_count": 52,
   "id": "4cfc31ba",
   "metadata": {},
   "outputs": [
    {
     "data": {
      "text/plain": [
       "'\\nimport os\\nfrom dotenv import load_dotenv\\nfrom googleapiclient.discovery import build\\nfrom iteration_utilities import unique_everseen\\nimport csv\\ncomments = []\\ndef make_csv(comments, channelID=None):\\n    header = comments[0].keys()\\n\\n    if channelID:\\n#         filename = f\\'comments_{channelID}_{today}.csv\\'\\n        filename = f\\'comments.csv\\'\\n    else:\\n#         filename = f\\'comments_{today}.csv\\'\\n        filename = f\\'comments.csv\\'\\n\\n    with open(filename, \\'w\\', encoding=\\'utf8\\', newline=\\'\\') as f:\\n        writer = csv.DictWriter(f, fieldnames=header, extrasaction=\\'ignore\\')\\n        writer.writeheader()\\n        writer.writerows(comments)\\ndef comment_threads(videoID, to_csv=False):\\n    \\n    comments_list = []\\n    \\n    request = youtube.commentThreads().list(\\n        part=\\'id,replies,snippet\\',\\n        videoId=videoID,\\n    )\\n    response = request.execute()\\n    comments_list.extend(process_comments(response[\\'items\\']))\\n\\n    # if there is nextPageToken, then keep calling the API\\n    while response.get(\\'nextPageToken\\', None):\\n        request = youtube.commentThreads().list(\\n            part=\\'id,replies,snippet\\',\\n            videoId=videoID,\\n            pageToken=response[\\'nextPageToken\\']\\n        )\\n        response = request.execute()\\n        comments_list.extend(process_comments(response[\\'items\\']))\\n\\n    comments_list = list(unique_everseen(comments_list))\\n\\n    print(f\"Finished fetching comments for {videoID}. {len(comments_list)} comments found.\")\\n    \\n    if to_csv:\\n#         make_csv(comments_list, videoID)\\n        make_csv(comments_list)\\n    return comments_list\\nif __name__ == \\'__main__\\':\\n    # get comments\\n    response = comment_threads(videoID=\\'G4EVRUFttG0\\', to_csv=True)\\n    print(response)\\n\\n'"
      ]
     },
     "execution_count": 52,
     "metadata": {},
     "output_type": "execute_result"
    }
   ],
   "source": [
    "'''\n",
    "import os\n",
    "from dotenv import load_dotenv\n",
    "from googleapiclient.discovery import build\n",
    "from iteration_utilities import unique_everseen\n",
    "import csv\n",
    "comments = []\n",
    "def make_csv(comments, channelID=None):\n",
    "    header = comments[0].keys()\n",
    "\n",
    "    if channelID:\n",
    "#         filename = f'comments_{channelID}_{today}.csv'\n",
    "        filename = f'comments.csv'\n",
    "    else:\n",
    "#         filename = f'comments_{today}.csv'\n",
    "        filename = f'comments.csv'\n",
    "\n",
    "    with open(filename, 'w', encoding='utf8', newline='') as f:\n",
    "        writer = csv.DictWriter(f, fieldnames=header, extrasaction='ignore')\n",
    "        writer.writeheader()\n",
    "        writer.writerows(comments)\n",
    "def comment_threads(videoID, to_csv=False):\n",
    "    \n",
    "    comments_list = []\n",
    "    \n",
    "    request = youtube.commentThreads().list(\n",
    "        part='id,replies,snippet',\n",
    "        videoId=videoID,\n",
    "    )\n",
    "    response = request.execute()\n",
    "    comments_list.extend(process_comments(response['items']))\n",
    "\n",
    "    # if there is nextPageToken, then keep calling the API\n",
    "    while response.get('nextPageToken', None):\n",
    "        request = youtube.commentThreads().list(\n",
    "            part='id,replies,snippet',\n",
    "            videoId=videoID,\n",
    "            pageToken=response['nextPageToken']\n",
    "        )\n",
    "        response = request.execute()\n",
    "        comments_list.extend(process_comments(response['items']))\n",
    "\n",
    "    comments_list = list(unique_everseen(comments_list))\n",
    "\n",
    "    print(f\"Finished fetching comments for {videoID}. {len(comments_list)} comments found.\")\n",
    "    \n",
    "    if to_csv:\n",
    "#         make_csv(comments_list, videoID)\n",
    "        make_csv(comments_list)\n",
    "    return comments_list\n",
    "if __name__ == '__main__':\n",
    "    # get comments\n",
    "    response = comment_threads(videoID='G4EVRUFttG0', to_csv=True)\n",
    "    print(response)\n",
    "\n",
    "'''"
   ]
  }
 ],
 "metadata": {
  "kernelspec": {
   "display_name": "Python 3 (ipykernel)",
   "language": "python",
   "name": "python3"
  },
  "language_info": {
   "codemirror_mode": {
    "name": "ipython",
    "version": 3
   },
   "file_extension": ".py",
   "mimetype": "text/x-python",
   "name": "python",
   "nbconvert_exporter": "python",
   "pygments_lexer": "ipython3",
   "version": "3.9.12"
  }
 },
 "nbformat": 4,
 "nbformat_minor": 5
}
