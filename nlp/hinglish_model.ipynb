{
  "nbformat": 4,
  "nbformat_minor": 0,
  "metadata": {
    "colab": {
      "provenance": []
    },
    "kernelspec": {
      "name": "python3",
      "display_name": "Python 3"
    },
    "language_info": {
      "name": "python"
    }
  },
  "cells": [
    {
      "cell_type": "code",
      "source": [
        "!gdown --id 1KmoZYmPzxrrtR4a3mSfPIumbDwf_Mrpw > /dev/null 2>&1\n",
        "!gdown --id 19vK08esg9hQtD8JB-9jm7Qkck7nZ-ZqR > /dev/null 2>&1"
      ],
      "metadata": {
        "id": "PuLhm4cdosu8"
      },
      "execution_count": 15,
      "outputs": []
    },
    {
      "cell_type": "code",
      "execution_count": 16,
      "metadata": {
        "id": "OuMlmWwzokaX"
      },
      "outputs": [],
      "source": [
        "!pip install transformers > /dev/null 2>&1\n",
        "!pip install --upgrade accelerate > /dev/null 2>&1"
      ]
    },
    {
      "cell_type": "code",
      "source": [
        "import torch\n",
        "import torch.nn.functional as F\n",
        "from transformers import pipeline\n",
        "from transformers import AutoModelForSequenceClassification\n",
        "from transformers import TFAutoModelForSequenceClassification\n",
        "from transformers import AutoTokenizer, AutoConfig\n",
        "from transformers import BertTokenizer, BertForSequenceClassification\n",
        "import pandas as pd\n",
        "import matplotlib.pyplot as plt\n",
        "import matplotlib.ticker as ticker\n",
        "import numpy as np\n",
        "from collections import Counter\n",
        "import re"
      ],
      "metadata": {
        "id": "e-KXrY2MooK1"
      },
      "execution_count": 17,
      "outputs": []
    },
    {
      "cell_type": "code",
      "source": [
        "%%time\n",
        "df = pd.read_feather(r'comments_cleaned_feather.feather')"
      ],
      "metadata": {
        "colab": {
          "base_uri": "https://localhost:8080/"
        },
        "id": "zExoHzZfopd7",
        "outputId": "e7c155e5-1c85-44ea-d585-366bddf1e9d4"
      },
      "execution_count": 18,
      "outputs": [
        {
          "output_type": "stream",
          "name": "stdout",
          "text": [
            "CPU times: user 1.77 s, sys: 1.54 s, total: 3.32 s\n",
            "Wall time: 4.83 s\n"
          ]
        }
      ]
    },
    {
      "cell_type": "code",
      "source": [
        "with open('slur_list.txt', 'r') as file:\n",
        "    slur_words = [word.strip() for word in file.readlines()]"
      ],
      "metadata": {
        "id": "wfOIWTwbox1L"
      },
      "execution_count": 19,
      "outputs": []
    },
    {
      "cell_type": "code",
      "source": [
        "header = np.array(df.columns)\n",
        "df = df[~np.all(df.values == header, axis=1)]\n",
        "df = df[~df['videoId'].str.contains(r'\\bvideoId\\b', case=False, regex=True)]\n",
        "pattern = r'^\\d{4}-\\d{2}-\\d{2}T\\d{2}:\\d{2}:\\d{2}Z$'\n",
        "df = df[df['publishedAt'].str.contains(pattern)]\n",
        "df['textOriginal'] = df['textOriginal'].astype(str)"
      ],
      "metadata": {
        "colab": {
          "base_uri": "https://localhost:8080/"
        },
        "id": "dCGrIkYNuc4B",
        "outputId": "d4f1f4c7-925e-47d6-80c6-e1ce09152feb"
      },
      "execution_count": 20,
      "outputs": [
        {
          "output_type": "stream",
          "name": "stderr",
          "text": [
            "<ipython-input-20-983c3e9dee07>:6: SettingWithCopyWarning: \n",
            "A value is trying to be set on a copy of a slice from a DataFrame.\n",
            "Try using .loc[row_indexer,col_indexer] = value instead\n",
            "\n",
            "See the caveats in the documentation: https://pandas.pydata.org/pandas-docs/stable/user_guide/indexing.html#returning-a-view-versus-a-copy\n",
            "  df['textOriginal'] = df['textOriginal'].astype(str)\n"
          ]
        }
      ]
    },
    {
      "cell_type": "code",
      "source": [
        "model_path = \"ganeshkharad/gk-hinglish-sentiment\""
      ],
      "metadata": {
        "id": "t3RrXTM2o0h7"
      },
      "execution_count": 21,
      "outputs": []
    },
    {
      "cell_type": "code",
      "source": [
        "# https://huggingface.co/ganeshkharad/gk-hinglish-sentiment\n",
        "tokenizerg = BertTokenizer.from_pretrained(model_path)\n",
        "modelg = BertForSequenceClassification.from_pretrained(model_path)"
      ],
      "metadata": {
        "id": "f3urr8kWrZZm"
      },
      "execution_count": 22,
      "outputs": []
    },
    {
      "cell_type": "code",
      "source": [
        "labels = [\"Negative\", \"Neutral\", \"Positive\"]"
      ],
      "metadata": {
        "id": "-pOIp1qPtYX9"
      },
      "execution_count": 23,
      "outputs": []
    },
    {
      "cell_type": "code",
      "source": [
        "def predict_sentiment(text):\n",
        "    encoded_input = tokenizerg(text, return_tensors='pt',truncation=True, max_length=512)\n",
        "    output = modelg(**encoded_input)\n",
        "    probabilities = F.softmax(output.logits, dim=1)\n",
        "    predicted_label_index = torch.argmax(probabilities, dim=1).item()\n",
        "    predicted_label = labels[predicted_label_index]\n",
        "    predicted_score = probabilities[0][predicted_label_index].item()\n",
        "    # label_scores = {labels[i]: probabilities[0][i].item() for i in range(len(labels))}\n",
        "    return predicted_label, predicted_score"
      ],
      "metadata": {
        "id": "9Q035sb0svnS"
      },
      "execution_count": 24,
      "outputs": []
    },
    {
      "cell_type": "code",
      "source": [
        "text = \"abe tu jaa re\"\n",
        "# text = \"😂😂😂\"\n",
        "label, score = predict_sentiment(text)"
      ],
      "metadata": {
        "id": "KXxLmiR6uIWb"
      },
      "execution_count": 25,
      "outputs": []
    },
    {
      "cell_type": "code",
      "source": [
        "print(f\"{label}, {score}\")"
      ],
      "metadata": {
        "colab": {
          "base_uri": "https://localhost:8080/"
        },
        "id": "ExxBSEaxuPI7",
        "outputId": "9ccfb78a-09f6-468d-abf4-1f936b184aa1"
      },
      "execution_count": 26,
      "outputs": [
        {
          "output_type": "stream",
          "name": "stdout",
          "text": [
            "Neutral, 0.9996445178985596\n"
          ]
        }
      ]
    },
    {
      "cell_type": "code",
      "source": [
        "testDf = df.head(100)"
      ],
      "metadata": {
        "id": "h6TC6dNUuWnT"
      },
      "execution_count": 29,
      "outputs": []
    },
    {
      "cell_type": "code",
      "source": [
        "%%time\n",
        "testDf['label'], testDf['score'] = zip(*testDf['textOriginal'].apply(predict_sentiment))"
      ],
      "metadata": {
        "colab": {
          "base_uri": "https://localhost:8080/"
        },
        "id": "qy4OL7JYujTK",
        "outputId": "a85a1ffe-78d6-4e1e-8558-72aab6fc5dbb"
      },
      "execution_count": 30,
      "outputs": [
        {
          "output_type": "stream",
          "name": "stdout",
          "text": [
            "CPU times: user 24.7 s, sys: 47.9 ms, total: 24.8 s\n",
            "Wall time: 31.8 s\n"
          ]
        },
        {
          "output_type": "stream",
          "name": "stderr",
          "text": [
            "<timed exec>:1: SettingWithCopyWarning: \n",
            "A value is trying to be set on a copy of a slice from a DataFrame.\n",
            "Try using .loc[row_indexer,col_indexer] = value instead\n",
            "\n",
            "See the caveats in the documentation: https://pandas.pydata.org/pandas-docs/stable/user_guide/indexing.html#returning-a-view-versus-a-copy\n",
            "<timed exec>:1: SettingWithCopyWarning: \n",
            "A value is trying to be set on a copy of a slice from a DataFrame.\n",
            "Try using .loc[row_indexer,col_indexer] = value instead\n",
            "\n",
            "See the caveats in the documentation: https://pandas.pydata.org/pandas-docs/stable/user_guide/indexing.html#returning-a-view-versus-a-copy\n"
          ]
        }
      ]
    }
  ]
}